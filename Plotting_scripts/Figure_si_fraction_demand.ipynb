{
 "cells": [
  {
   "cell_type": "markdown",
   "metadata": {},
   "source": [
    "## Preambule"
   ]
  },
  {
   "cell_type": "code",
   "execution_count": 63,
   "metadata": {},
   "outputs": [],
   "source": [
    "import numpy as np\n",
    "import xarray as xr\n",
    "from importlib import reload\n",
    "import Plotfunctions\n",
    "import pandas as pd\n",
    "import plotly.express as px\n",
    "from plotly.colors import n_colors\n",
    "from plotly.subplots import make_subplots\n",
    "import os\n",
    "import plotly.figure_factory as ff\n",
    "import matplotlib as mpl\n",
    "import plotly.io\n",
    "from pathlib import Path\n",
    "import matplotlib.pyplot as plt\n",
    "from datetime import date\n",
    "reload(Plotfunctions)\n",
    "import plotly.graph_objects as go\n",
    "from Plotfunctions import triangleplot, tableplot, spaghettiplot, draw_line\n",
    "path = Path.cwd() / \"Data\""
   ]
  },
  {
   "cell_type": "markdown",
   "metadata": {},
   "source": [
    "## Parameters"
   ]
  },
  {
   "cell_type": "code",
   "execution_count": 64,
   "metadata": {},
   "outputs": [],
   "source": [
    "timestamp = 2050\n",
    "srt = 2 # 1=model, 2=ccat"
   ]
  },
  {
   "cell_type": "markdown",
   "metadata": {},
   "source": [
    "## Prereading stuff"
   ]
  },
  {
   "cell_type": "code",
   "execution_count": 65,
   "metadata": {},
   "outputs": [],
   "source": [
    "try:\n",
    "    XRvar.close()\n",
    "except:\n",
    "    3\n",
    "XRvar = xr.open_dataset(path / (\"Variances.nc\"))\n",
    "XRvarsub = XRvar.sel(Time=timestamp)"
   ]
  },
  {
   "cell_type": "code",
   "execution_count": 66,
   "metadata": {},
   "outputs": [],
   "source": [
    "remove_vars = [\"Primary Energy|Other\",\n",
    "               \"Primary Energy|Non-Biomass Renewables\",\n",
    "               \"Secondary Energy|Electricity|Non-Biomass Renewables\",\n",
    "               \"Primary Energy|Ocean\",\n",
    "               \"Secondary Energy|Electricity|Ocean\",\n",
    "               \"Secondary Energy|Electricity|Other\"]\n",
    "Varlist = pd.read_excel(path / \"Varlist.xlsx\", sheet_name = \"Data\")\n",
    "vars = np.array(Varlist[\"Variable\"])\n",
    "cats = np.array(Varlist[\"Category\"])\n",
    "Names = np.unique(cats)\n",
    "for r in remove_vars:\n",
    "    wh = np.where((vars != r))[0]\n",
    "    vars = vars[wh]\n",
    "    cats = cats[wh]"
   ]
  },
  {
   "cell_type": "code",
   "execution_count": 67,
   "metadata": {},
   "outputs": [],
   "source": [
    "XRraw = xr.open_dataset(path / (\"XRdata.nc\"))\n",
    "XRmeta = xr.open_dataset(path / (\"XRmeta.nc\"))\n",
    "DF = pd.read_csv(path / (\"Models.csv\"))\n",
    "values = np.array(XRraw.Value)\n",
    "modscens = np.array(XRraw.ModelScenario)\n",
    "mods = np.array([i.split('|')[0] for i in modscens])\n",
    "ccat = np.array(XRmeta.sel(ModelScenario=XRraw.ModelScenario).Category.data)\n",
    "unimods = np.unique(mods)\n",
    "uniccat = np.unique(ccat)"
   ]
  },
  {
   "cell_type": "code",
   "execution_count": 68,
   "metadata": {},
   "outputs": [],
   "source": [
    "XR = XRvar.sel(Variable = vars[cats == \"Primary Energy\"])\n",
    "DF_counts = pd.read_csv(\"X:/user/dekkerm/Projects/AR6_Variance/variancedecomposition/Data/Counts.csv\", index_col=0)\n",
    "XR = XR.sel(Time=range(2030,2101))\n",
    "varlist = XR.Variable.data\n",
    "years = XR.Time.data\n",
    "varmax = np.max(XR['Var_total']).data\n",
    "cols = ['forestgreen', 'tomato', 'steelblue', 'goldenrod', 'purple', 'grey', 'brown',\n",
    "        'magenta', 'red', 'darkgrey', 'blue', 'black', 'darkgreen']\n",
    "years_str = np.copy(years).astype(str)\n",
    "years_str[(years_str != '2050') & (years_str != '2100')] = ''"
   ]
  },
  {
   "cell_type": "code",
   "execution_count": 69,
   "metadata": {},
   "outputs": [],
   "source": [
    "tot = np.array(XR.sel(Time=2050).S_c)+np.array(XR.sel(Time=2050).S_z)+np.array(XR.sel(Time=2050).S_m)\n",
    "ar = np.array([np.array(XR.Variable),\n",
    "(np.array(XR.sel(Time=timestamp).S_m)/tot).round(2),\n",
    "(np.array(XR.sel(Time=timestamp).S_c)/tot).round(2),\n",
    "(np.array(XR.sel(Time=timestamp).S_z)/tot).round(2)])\n",
    "\n",
    "colors = n_colors('rgb(255, 200, 200)', 'rgb(200, 0, 0)', 100, colortype='rgb')\n",
    "bar = px.colors.diverging.RdBu_r\n",
    "colors = []\n",
    "for i in range(len(bar)-1):\n",
    "        colors = colors+n_colors(px.colors.diverging.RdBu_r[i], px.colors.diverging.RdBu_r[i+1], int(100/len(bar)), colortype='rgb')\n",
    "colors = colors+n_colors(px.colors.diverging.RdBu_r[i+1], px.colors.diverging.RdBu_r[i+1], int(100/len(bar)), colortype='rgb')\n",
    "ar100 = (ar[1:]*100).astype(int)"
   ]
  },
  {
   "cell_type": "code",
   "execution_count": 70,
   "metadata": {},
   "outputs": [],
   "source": [
    "def rescale_size(s, max):\n",
    "    s /= max\n",
    "    s *= 1e11\n",
    "    s = s ** 0.1\n",
    "    return s"
   ]
  },
  {
   "cell_type": "markdown",
   "metadata": {},
   "source": [
    "## Create traces"
   ]
  },
  {
   "cell_type": "code",
   "execution_count": 71,
   "metadata": {},
   "outputs": [],
   "source": [
    "scatters = []\n",
    "tables = []\n",
    "scatterlines = []\n",
    "symbols = [u\"\\u26EE\", u'\\u26DF', u'\\u2302']\n",
    "namecolors = [['saddlebrown', 'peru'], ['teal', 'darkturquoise'], ['darkgrey', 'silver']]\n",
    "\n",
    "for n_i, name in enumerate(['Sector Industry', 'Sector Transportation', 'Sector Residential']):\n",
    "    varlist_abs = list(vars[cats == name])\n",
    "    varlist_fr = [c+\" (fr)\" for c in vars[cats == name][1:]]\n",
    "    varlist_all = varlist_abs+varlist_fr\n",
    "\n",
    "    xrsub_all = XRvarsub.sel(Variable = varlist_all)\n",
    "    xrsub_fr = XRvarsub.sel(Variable = varlist_fr)\n",
    "    xrsub_abs = XRvarsub.sel(Variable = varlist_abs)\n",
    "\n",
    "    # NAMING\n",
    "    varlist_abs_naming = np.copy(varlist_abs)\n",
    "    if name == 'Sector Industry':\n",
    "        for v_i in range(len(varlist_abs_naming)):\n",
    "            if varlist_abs_naming[v_i] == 'Final Energy|Industry':\n",
    "                varlist_abs_naming[v_i] = 'Total'\n",
    "            elif varlist_abs_naming[v_i] == 'Final Energy|Industry|Solids|Coal':\n",
    "                varlist_abs_naming[v_i] = 'Coal'\n",
    "            elif varlist_abs_naming[v_i] == 'Final Energy|Industry|Solids|Biomass':\n",
    "                varlist_abs_naming[v_i] = 'Biomass'\n",
    "            else:\n",
    "                varlist_abs_naming[v_i] = varlist_abs_naming[v_i][22:]\n",
    "    if name == 'Sector Residential':\n",
    "        for v_i in range(len(varlist_abs_naming)):\n",
    "            if varlist_abs_naming[v_i] == 'Final Energy|Residential and Commercial':\n",
    "                varlist_abs_naming[v_i] = 'Total'\n",
    "            elif varlist_abs_naming[v_i] == 'Final Energy|Residential and Commercial|Solids|Biomass':\n",
    "                varlist_abs_naming[v_i] = 'Biomass'\n",
    "            else:\n",
    "                varlist_abs_naming[v_i] = varlist_abs_naming[v_i][40:]\n",
    "    if name == 'Sector Transportation':\n",
    "        for v_i in range(len(varlist_abs_naming)):\n",
    "            if varlist_abs_naming[v_i] == 'Final Energy|Transportation':\n",
    "                varlist_abs_naming[v_i] = 'Total'\n",
    "            elif varlist_abs_naming[v_i] == 'Final Energy|Transportation|Liquids|Oil':\n",
    "                varlist_abs_naming[v_i] = 'Oil'\n",
    "            elif varlist_abs_naming[v_i] == 'Final Energy|Transportation|Liquids|Bioenergy':\n",
    "                varlist_abs_naming[v_i] = 'Bioenergy'\n",
    "            else:\n",
    "                varlist_abs_naming[v_i] = varlist_abs_naming[v_i][28:]\n",
    "\n",
    "    # TABLES\n",
    "    table_args = []\n",
    "    table_args.append(varlist_abs_naming)\n",
    "    abs = (np.array(xrsub_abs.S_m)+0.5*np.array(xrsub_abs.S_mc)).round(2).astype(str)\n",
    "    fr = (np.array(xrsub_fr.S_m)+0.5*np.array(xrsub_fr.S_mc)).round(2).astype(str)\n",
    "    tot = []\n",
    "    tot.append(abs[0])\n",
    "    for v in range(len(fr)):\n",
    "        tot.append(abs[1+v]+ ' / ' +fr[v])\n",
    "    table_args.append(tot)\n",
    "    abs = (np.array(xrsub_abs.S_c)+0.5*np.array(xrsub_abs.S_mc)).round(2).astype(str)\n",
    "    fr = (np.array(xrsub_fr.S_c)+0.5*np.array(xrsub_fr.S_mc)).round(2).astype(str)\n",
    "    tot = []\n",
    "    tot.append(abs[0])\n",
    "    for v in range(len(fr)):\n",
    "        tot.append(abs[1+v]+ ' / ' +fr[v])\n",
    "    table_args.append(tot)\n",
    "    abs = (np.array(xrsub_abs.S_z)).round(2).astype(str)\n",
    "    fr = (np.array(xrsub_fr.S_z)).round(2).astype(str)\n",
    "    tot = []\n",
    "    tot.append(abs[0])\n",
    "    for v in range(len(fr)):\n",
    "        tot.append(abs[1+v]+ ' / ' +fr[v])\n",
    "    table_args.append(tot)\n",
    "    table_args = np.array(table_args)\n",
    "    \n",
    "    ar = np.array([varlist_abs_naming,\n",
    "                   (np.array(xrsub_abs.S_m)+0.5*np.array(xrsub_abs.S_mc)).round(2),\n",
    "                   (np.array(xrsub_abs.S_c)+0.5*np.array(xrsub_abs.S_mc)).round(2),\n",
    "                   (np.array(xrsub_abs.S_z)).round(2)])\n",
    "\n",
    "    colors = n_colors('rgb(255, 200, 200)', 'rgb(200, 0, 0)', 100, colortype='rgb')\n",
    "    bar = px.colors.diverging.RdBu_r\n",
    "    colors = []\n",
    "    for i in range(len(bar)-1):\n",
    "        colors = colors+n_colors(px.colors.diverging.RdBu_r[i], px.colors.diverging.RdBu_r[i+1], int(100/len(bar)), colortype='rgb')\n",
    "    colors = colors+n_colors(px.colors.diverging.RdBu_r[i+1], px.colors.diverging.RdBu_r[i+1], int(100/len(bar)), colortype='rgb')\n",
    "    ar100 = 10+(ar[1:].astype(float)*70).astype(int)+10\n",
    "    head = name\n",
    "    if name == 'Sector Residential':\n",
    "        head = \"Buildings\"\n",
    "    if name == 'Sector Industry':\n",
    "        head = \"Industry\"\n",
    "    if name == 'Sector Transportation':\n",
    "        head = \"Transport\"\n",
    "    tables.append(go.Table(columnwidth = [2, 1, 1, 1],\n",
    "                        header = dict(values = [['<b>'+head+' '+symbols[n_i]+'</b>'],\n",
    "                                      [\"<b>Model</b>\"],\n",
    "                                      ['<b>Climate</b>'],\n",
    "                                      ['<b>Other</b>']],\n",
    "                                      line_color='white',\n",
    "                                      fill_color=[namecolors[n_i][0], 'white', 'white', 'white'],\n",
    "                                      align=['center','center','center','center'],\n",
    "                                      font=dict(color='black', size=12),\n",
    "                                      height=22\n",
    "                                     ),\n",
    "                        cells=dict(values=table_args[:, ar[srt].astype(float).argsort()[::-1]],\n",
    "                                   line={'color': 'black', 'width': 0},\n",
    "                                   align=['center','center','center','center'],\n",
    "                                   fill_color=['white', \n",
    "                                               np.array(colors)[ar100[:, ar[srt].astype(float).argsort()[::-1]][0]],\n",
    "                                               np.array(colors)[ar100[:, ar[srt].astype(float).argsort()[::-1]][1]],\n",
    "                                               np.array(colors)[ar100[:, ar[srt].astype(float).argsort()[::-1]][2]]],\n",
    "                                   font={#'family' : [\"Arial\", \"Arial Black\", \"Arial Black\", \"Arial Black\"],\n",
    "                                         'color': 'black',\n",
    "                                         'size': 11},\n",
    "                                   height=22\n",
    "                                  )\n",
    "                       ))\n",
    "    \n",
    "    # SCATTERS\n",
    "    for v in range(len(varlist_abs)-1):\n",
    "        #if v != 0:\n",
    "        coords = []\n",
    "        for f_i in range(2):\n",
    "            if f_i == 0: # abs\n",
    "                ds = xrsub_abs.sel(Variable=varlist_abs[v+1])\n",
    "                var = varlist_abs_naming[v+1]\n",
    "            elif f_i == 1: # fr\n",
    "                ds = xrsub_fr.sel(Variable=varlist_fr[v])\n",
    "                var = varlist_abs_naming[v+1]+\" (fr)\"\n",
    "            a, b, c, d, s = np.array(ds[['S_c', 'S_m', 'S_z', 'S_mc', 'Var_total']].to_array())\n",
    "            s = 20# 2*rescale_size(float(s/XRraw.sel(Time=timestamp, Variable=varlist[v]).Value.mean(axis=0)), varmax)\n",
    "            lw = 1 # s/10\n",
    "            maxsize = 30\n",
    "            coords.append([a+0.5*d, b+0.5*d, c])\n",
    "            scatters.append(go.Scatterternary(a=[a+0.5*d], b=[b+0.5*d], c=[c],\n",
    "                                            mode='markers', name=var, showlegend=False, text=[timestamp],\n",
    "                                            hovertemplate='%{text}<br>Var (climate): %{a}<br>Var (model): %{b} <br>Var (other): %{c}',\n",
    "                                            marker={'size': 0.1, 'symbol': \"circle\", 'color': namecolors[n_i][f_i], 'opacity': 1, 'line' :dict(width=lw, color='black')},\n",
    "                                            line={'width': 1.5},\n",
    "                                            textfont=dict(size=1, color=namecolors[n_i])))\n",
    "            if name == 'Sector Transportation':\n",
    "                scatters.append(go.Scatterternary(a=[a+0.5*d], b=[b+0.5*d], c=[c],\n",
    "                                mode='text', textfont={'size': maxsize-2, 'color': namecolors[n_i][f_i]},\n",
    "                                text=[u'\\u26DF'], showlegend=False))\n",
    "            if name == 'Sector Residential':\n",
    "                for k in np.arange(1, maxsize, 1):\n",
    "                    scatters.append(go.Scatterternary(a=[a+0.5*d], b=[b+0.5*d], c=[c],\n",
    "                                    mode='text', textfont={'size': k, 'color': namecolors[n_i][f_i]},\n",
    "                                    text=[u'\\u2302'], showlegend=False))\n",
    "            if name == 'Sector Industry':\n",
    "                scatters.append(go.Scatterternary(a=[a+0.5*d], b=[b+0.5*d], c=[c],\n",
    "                                mode='text', textfont={'size': maxsize-2, 'color': namecolors[n_i][f_i]},\n",
    "                                text=[u\"\\u26EE\"], showlegend=False))\n",
    "        \n",
    "        # LINES BETWEEN SCATTERS\n",
    "        coords = np.array(coords)\n",
    "        scatters.append(go.Scatterternary(a=coords[:, 0], b=coords[:, 1], c=coords[:, 2],\n",
    "                        mode='lines', hoverinfo=\"skip\", line={'width': 2, \"color\": namecolors[n_i][0], \"dash\": \"dot\"},\n",
    "                        text=\"\", showlegend=False))\n",
    "            \n"
   ]
  },
  {
   "cell_type": "markdown",
   "metadata": {},
   "source": [
    "Ternary plot"
   ]
  },
  {
   "cell_type": "code",
   "execution_count": 72,
   "metadata": {},
   "outputs": [
    {
     "name": "stderr",
     "output_type": "stream",
     "text": [
      "C:\\Users\\dekkerm\\AppData\\Local\\Temp\\2\\ipykernel_9412\\4024270652.py:6: MatplotlibDeprecationWarning:\n",
      "\n",
      "The get_cmap function was deprecated in Matplotlib 3.7 and will be removed two minor releases later. Use ``matplotlib.colormaps[name]`` or ``matplotlib.colormaps.get_cmap(obj)`` instead.\n",
      "\n"
     ]
    }
   ],
   "source": [
    "trace_ternary_lines = []\n",
    "for i in range(10):\n",
    "        a = [0+i*0.1, 0+i*0.1]\n",
    "        b = [0, 1-a[0]]\n",
    "        c = [1-a[0], 0]\n",
    "        rgb = mpl.colors.colorConverter.to_rgb(plt.cm.get_cmap('Greys')(0.+i/20))\n",
    "        col = 'rgb('+str(rgb[0])+','+str(rgb[1])+','+str(rgb[2])+')'\n",
    "        trace_ternary_lines.append(go.Scatterternary(a=a, b=b, c=c, showlegend=False, mode='lines', hoverinfo='skip', line={'width': 0.25+i*0.1, 'color': col}))\n",
    "        trace_ternary_lines.append(go.Scatterternary(a=b, b=a, c=c, showlegend=False, mode='lines', hoverinfo='skip', line={'width': 0.25+i*0.1, 'color': col}))\n",
    "        trace_ternary_lines.append(go.Scatterternary(a=b, b=c, c=a, showlegend=False, mode='lines', hoverinfo='skip', line={'width': 0.25+i*0.1, 'color': col}))\n",
    "\n",
    "trace_ternary_border = []\n",
    "#trace_ternary_border.append(go.Scatterternary(a=[0.005, 0.005], b=[0, 0.25], c=[0.25, 0], showlegend=False, mode='lines', hoverinfo='skip', line={'width': 2, 'color': 'black'}))\n",
    "#trace_ternary_border.append(go.Scatterternary(a=[0, 0.5], b=[0.005, 0.005], c=[0.5, 0], showlegend=False, mode='lines', hoverinfo='skip', line={'width': 2, 'color': 'black'}))\n",
    "#trace_ternary_border.append(go.Scatterternary(a=[0, 1], b=[1, 0], c=[0.005, 0.005], showlegend=False, mode='lines', hoverinfo='skip', line={'width': 2, 'color': 'black'}))"
   ]
  },
  {
   "cell_type": "markdown",
   "metadata": {},
   "source": [
    "Contours"
   ]
  },
  {
   "cell_type": "code",
   "execution_count": 73,
   "metadata": {},
   "outputs": [],
   "source": [
    "def clean_data(data_in):\n",
    "    \"\"\"\n",
    "    Cleans data in a format which can be conveniently\n",
    "    used for drawing traces. Takes a dictionary as the\n",
    "    input, and returns a list in the following format:\n",
    "\n",
    "    input = {'key': ['a b c']}\n",
    "    output = [key, [a, b, c]]\n",
    "    \"\"\"\n",
    "    key = list(data_in.keys())[0]\n",
    "    data_out = [key]\n",
    "    for i in data_in[key]:\n",
    "        data_out.append(list(map(float, i.split(' '))))\n",
    "\n",
    "    return data_out"
   ]
  },
  {
   "cell_type": "markdown",
   "metadata": {},
   "source": [
    "Contour version 2"
   ]
  },
  {
   "cell_type": "code",
   "execution_count": 74,
   "metadata": {},
   "outputs": [],
   "source": [
    "conts = []\n",
    "for i in np.arange(35, 51, 5):\n",
    "    conts.append({str(i): [str(i) +' '+str(i)+' '+str(100-2*i),\n",
    "                  str(i) +' '+str(100-2*i)+' '+str(i),\n",
    "                  str(100-2*i) +' '+str(i)+' '+str(i)]})\n",
    "for i in np.arange(55, 101, 5):\n",
    "    i0 = str(i)\n",
    "    i1 = str(100-i)\n",
    "    conts.append({str(i): [i0+' '+i1+' 0',\n",
    "                            i0+' 0 '+i1,\n",
    "                            i1+' 0 '+i0,\n",
    "                            '0 '+i1+' '+i0,\n",
    "                            '0 '+i0+' '+i1,\n",
    "                            i1+' '+i0+' 0',\n",
    "                            i0+' '+i1+' 0']})"
   ]
  },
  {
   "cell_type": "code",
   "execution_count": 75,
   "metadata": {},
   "outputs": [],
   "source": [
    "conts2 = []\n",
    "for i in np.arange(35, 51, 5):\n",
    "    conts2.append({str(i): [str(i) +' '+str(i)+' '+str(100-2*i),\n",
    "                  str(i) +' '+str(100-2*i)+' '+str(i),\n",
    "                  str(100-2*i) +' '+str(i)+' '+str(i)]})\n",
    "for x in np.arange(55, 101, 5):\n",
    "    conts2.append({str(i): [str(x)+' '+'0'+' '+str(100-x),\n",
    "                               str(x-5)+' '+'0'+' '+str(100-(x-5)),\n",
    "                               str(x-5)+' '+str(100-(x-5))+' '+'0',\n",
    "                               str(x)+' '+str(100-x)+' '+'0',\n",
    "                               str(x)+' '+'0'+' '+str(100-x)\n",
    "                                ]})\n",
    "    conts2.append({str(i): ['0'+' '+str(100-x)+' '+str(x),\n",
    "                               '0'+' '+str(100-(x-5))+' '+str(x-5),\n",
    "                               str(100-(x-5))+' '+'0'+' '+str(x-5),\n",
    "                               str(100-x)+' '+'0'+' '+str(x),\n",
    "                               '0'+' '+str(100-x)+' '+str(x)\n",
    "                                ]})\n",
    "    conts2.append({str(i): [str(100-x)+' '+str(x)+' '+'0',\n",
    "                               str(100-(x-5))+' '+str(x-5)+' '+'0',\n",
    "                               '0'+' '+str(x-5)+' '+str(100-(x-5)),\n",
    "                               '0'+' '+str(x)+' '+str(100-x),\n",
    "                               str(100-x)+' '+str(x)+' '+'0'\n",
    "                                ]})"
   ]
  },
  {
   "cell_type": "markdown",
   "metadata": {},
   "source": [
    "Blue contours"
   ]
  },
  {
   "cell_type": "code",
   "execution_count": 76,
   "metadata": {},
   "outputs": [],
   "source": [
    "blueconts = []\n",
    "for x in np.arange(55, 101, 5):\n",
    "    blueconts.append({str(i): [str(x)+' '+'0'+' '+str(100-x),\n",
    "                               str(x-5)+' '+'0'+' '+str(100-(x-5)),\n",
    "                               str(x-5)+' '+str((100-(x-5))/2)+' '+str((100-(x-5))/2),\n",
    "                               str(x)+' '+str((100-x)/2)+' '+str((100-x)/2),\n",
    "                               str(x)+' '+'0'+' '+str(100-x)\n",
    "                                ]})"
   ]
  },
  {
   "cell_type": "code",
   "execution_count": 77,
   "metadata": {},
   "outputs": [],
   "source": [
    "bar = px.colors.diverging.RdBu_r\n",
    "bar = bar[2:-2]\n",
    "bar = bar[int(len(bar)/2)-2:]\n",
    "colors = []\n",
    "for i in range(len(bar)-1):\n",
    "    colors = colors+n_colors(bar[i], bar[i+1], int(200/len(bar)), colortype='rgb')\n",
    "colors = colors+n_colors(bar[i+1], bar[i+1], int(200/len(bar)), colortype='rgb')"
   ]
  },
  {
   "cell_type": "code",
   "execution_count": 78,
   "metadata": {},
   "outputs": [],
   "source": [
    "conttraces = []\n",
    "n = 0\n",
    "for raw_data in conts2:\n",
    "    data = clean_data(raw_data)\n",
    "\n",
    "    a = [inner_data[0] for inner_data in data[1:]]\n",
    "    a.append(data[1][0]) # Closing the loop\n",
    "\n",
    "    b = [inner_data[1] for inner_data in data[1:]]\n",
    "    b.append(data[1][1]) # Closing the loop\n",
    "\n",
    "    c = [inner_data[2] for inner_data in data[1:]]\n",
    "    c.append(data[1][2]) # Closing the loop\n",
    "\n",
    "    conttraces.append(go.Scatterternary(\n",
    "        text = data[0],\n",
    "        a=a, b=b, c=c, mode='lines',\n",
    "        line=dict(color='black', width=0),\n",
    "        fill='toself',showlegend=False, hoverinfo='skip', opacity=0.3, \n",
    "        fillcolor = colors[int(200/len(conts2)*n)]#colors_iterator.__next__()\n",
    "    ))\n",
    "    n+=1\n",
    "conttraces = conttraces[::-1]"
   ]
  },
  {
   "cell_type": "code",
   "execution_count": 79,
   "metadata": {},
   "outputs": [],
   "source": [
    "bar = px.colors.sequential.Greys # px.colors.diverging.RdBu_r\n",
    "#bar = bar[2:-2]\n",
    "#bar = bar[int(len(bar)/2)-2:]\n",
    "colors = []\n",
    "for i in range(len(bar)-1):\n",
    "    colors = colors+n_colors(bar[i], bar[i+1], int(200/len(bar)), colortype='rgb')\n",
    "colors = colors+n_colors(bar[i+1], bar[i+1], int(200/len(bar)), colortype='rgb')"
   ]
  },
  {
   "cell_type": "code",
   "execution_count": 80,
   "metadata": {},
   "outputs": [],
   "source": [
    "conttraces = []\n",
    "n = 0\n",
    "for raw_data in conts2:\n",
    "    data = clean_data(raw_data)\n",
    "\n",
    "    a = [inner_data[0] for inner_data in data[1:]]\n",
    "    a.append(data[1][0]) # Closing the loop\n",
    "\n",
    "    b = [inner_data[1] for inner_data in data[1:]]\n",
    "    b.append(data[1][1]) # Closing the loop\n",
    "\n",
    "    c = [inner_data[2] for inner_data in data[1:]]\n",
    "    c.append(data[1][2]) # Closing the loop\n",
    "\n",
    "    conttraces.append(go.Scatterternary(\n",
    "        text = data[0],\n",
    "        a=a, b=b, c=c, mode='lines',\n",
    "        line=dict(color='black', width=0),\n",
    "        fill='toself',showlegend=False, hoverinfo='skip', opacity=0.2, \n",
    "        fillcolor = colors[int(200/len(conts2)*n)]#colors_iterator.__next__()\n",
    "    ))\n",
    "    n+=1\n",
    "conttraces = conttraces[::-1]"
   ]
  },
  {
   "cell_type": "markdown",
   "metadata": {},
   "source": [
    "## Add together"
   ]
  },
  {
   "cell_type": "code",
   "execution_count": 81,
   "metadata": {},
   "outputs": [],
   "source": [
    "def draw_line(fig, name, x, y, xt, yt, color):\n",
    "    fig.add_shape(type=\"line\", xref='paper', yref='paper',\n",
    "                  x0=x,\n",
    "                  y0=x+xt,\n",
    "                  x1=x,\n",
    "                  y1=y+yt,\n",
    "                  line=dict(color=color, width=3))\n",
    "    fig.add_annotation(xref='paper',\n",
    "                       yref='paper',\n",
    "                       #xref = 'x4',\n",
    "                       #yref = 'y4',\n",
    "                       x=x,\n",
    "                       ax=xt,\n",
    "                       align=\"center\",\n",
    "                       y=y,\n",
    "                       ay=yt,\n",
    "                       text=name,\n",
    "                       #textangle=90,\n",
    "                       font=dict(color=color,\n",
    "                                 family='Arial Black',\n",
    "                                 size=12),\n",
    "                       showarrow=True)"
   ]
  },
  {
   "cell_type": "code",
   "execution_count": 82,
   "metadata": {},
   "outputs": [],
   "source": [
    "def draw_ann(fig, name, x, y, color, vert, hor):\n",
    "    align = 'left'\n",
    "    h = 1\n",
    "    if hor == 'left':\n",
    "        align = 'right'\n",
    "        h = -1\n",
    "    v = 1\n",
    "    if vert == 'down':\n",
    "        v = -1\n",
    "    dy = 0\n",
    "    if y>0.5:\n",
    "        dy = 0.02\n",
    "    dx = 0\n",
    "    if y> 0.9:\n",
    "        dx = -0.02\n",
    "    fig.add_shape(type=\"line\", xref='paper', yref='paper',\n",
    "                  x0=x,\n",
    "                  y0=y,\n",
    "                  x1=x+0.02*h,\n",
    "                  y1=y+0.02*v,\n",
    "                  line=dict(color='black', width=3))\n",
    "    fig.add_shape(type=\"line\", xref='paper', yref='paper',\n",
    "                  x0=x+[0, 0.15, -0.11][h],\n",
    "                  y0=y+0.02*v,\n",
    "                  x1=x+0.02*h,\n",
    "                  y1=y+0.02*v,\n",
    "                  line=dict(color='black', width=3))\n",
    "    fig.add_annotation(xref='paper',\n",
    "                       yref='paper',\n",
    "                       #xref = 'x4',\n",
    "                       #yref = 'y4',\n",
    "                       x=x+0.2*h+dx,\n",
    "                       ax=0,\n",
    "                       align=align,\n",
    "                       y=y+0.02*v+dy,\n",
    "                       ay=-0,\n",
    "                       text=name,\n",
    "                       #textangle=90,\n",
    "                       font=dict(color=color,\n",
    "                                 family='Arial Black',\n",
    "                                 size=12),\n",
    "                       showarrow=False)"
   ]
  },
  {
   "cell_type": "code",
   "execution_count": 83,
   "metadata": {},
   "outputs": [
    {
     "data": {
      "application/vnd.plotly.v1+json": {
       "config": {
        "plotlyServerURL": "https://plotly.com"
       },
       "data": [
        {
         "a": [
          0.5,
          0.5,
          0,
          0.5
         ],
         "b": [
          0,
          0.5,
          0.5,
          0
         ],
         "c": [
          0.5,
          0,
          0.5,
          0.5
         ],
         "hoverinfo": "skip",
         "line": {
          "color": "black",
          "width": 1
         },
         "marker": {
          "color": "black",
          "line": {
           "color": "rgba(89,168,89,1)",
           "width": 0
          },
          "opacity": 1,
          "size": 15
         },
         "mode": "lines",
         "showlegend": false,
         "subplot": "ternary",
         "textfont": {
          "color": "black",
          "size": 5
         },
         "type": "scatterternary"
        },
        {
         "cells": {
          "align": [
           "center",
           "center",
           "center",
           "center"
          ],
          "fill": {
           "color": [
            "white",
            [
             "rgb(247.375, 185.25, 155.875)",
             "rgb(250.75, 205.5, 181.75)",
             "rgb(245.125, 171.75, 138.625)",
             "rgb(246.25, 178.5, 147.25)",
             "rgb(221.5, 113.25, 90.25)",
             "rgb(214.0, 96.0, 77.0)",
             "rgb(221.5, 113.25, 90.25)"
            ],
            [
             "rgb(247.0, 247.0, 247.0)",
             "rgb(242.25, 244.75, 246.125)",
             "rgb(228.0, 238.0, 243.5)",
             "rgb(209.0, 229.0, 240.0)",
             "rgb(209.0, 229.0, 240.0)",
             "rgb(201.125, 225.0, 237.75)",
             "rgb(201.125, 225.0, 237.75)"
            ],
            [
             "rgb(126.25, 184.5, 215.25)",
             "rgb(161.75, 205.0, 226.5)",
             "rgb(161.75, 205.0, 226.5)",
             "rgb(193.25, 221.0, 235.5)",
             "rgb(146.0, 197.0, 222.0)",
             "rgb(116.375, 178.25, 211.875)",
             "rgb(146.0, 197.0, 222.0)"
            ]
           ]
          },
          "font": {
           "color": "black",
           "size": 11
          },
          "height": 22,
          "line": {
           "color": "black",
           "width": 0
          },
          "values": [
           [
            "Coal",
            "Gases",
            "Electricity",
            "Hydrogen",
            "Liquids",
            "Biomass",
            "Total"
           ],
           [
            "0.56 / 0.57",
            "0.52 / 0.48",
            "0.59 / 0.47",
            "0.58 / 0.49",
            "0.7 / 0.76",
            "0.74 / 0.75",
            "0.71"
           ],
           [
            "0.37 / 0.35",
            "0.34 / 0.36",
            "0.29 / 0.43",
            "0.23 / 0.31",
            "0.22 / 0.16",
            "0.21 / 0.2",
            "0.21"
           ],
           [
            "0.07 / 0.08",
            "0.13 / 0.17",
            "0.13 / 0.1",
            "0.19 / 0.2",
            "0.09 / 0.09",
            "0.05 / 0.05",
            "0.09"
           ]
          ]
         },
         "columnwidth": [
          2,
          1,
          1,
          1
         ],
         "domain": {
          "x": [
           0.624,
           1
          ],
          "y": [
           0.5714285714285714,
           0.857142857142857
          ]
         },
         "header": {
          "align": [
           "center",
           "center",
           "center",
           "center"
          ],
          "fill": {
           "color": [
            "saddlebrown",
            "white",
            "white",
            "white"
           ]
          },
          "font": {
           "color": "black",
           "size": 12
          },
          "height": 22,
          "line": {
           "color": "white"
          },
          "values": [
           [
            "<b>Industry ⛮</b>"
           ],
           [
            "<b>Model</b>"
           ],
           [
            "<b>Climate</b>"
           ],
           [
            "<b>Other</b>"
           ]
          ]
         },
         "type": "table"
        },
        {
         "cells": {
          "align": [
           "center",
           "center",
           "center",
           "center"
          ],
          "fill": {
           "color": [
            "white",
            [
             "rgb(247.0, 247.0, 247.0)",
             "rgb(251.875, 212.25, 190.375)",
             "rgb(244.0, 165.0, 130.0)",
             "rgb(249.25, 236.5, 229.0)",
             "rgb(221.5, 113.25, 90.25)",
             "rgb(246.25, 178.5, 147.25)"
            ],
            [
             "rgb(250.75, 205.5, 181.75)",
             "rgb(237.5, 242.5, 245.25)",
             "rgb(209.0, 229.0, 240.0)",
             "rgb(185.375, 217.0, 233.25)",
             "rgb(177.5, 213.0, 231.0)",
             "rgb(161.75, 205.0, 226.5)"
            ],
            [
             "rgb(161.75, 205.0, 226.5)",
             "rgb(185.375, 217.0, 233.25)",
             "rgb(177.5, 213.0, 231.0)",
             "rgb(249.25, 236.5, 229.0)",
             "rgb(161.75, 205.0, 226.5)",
             "rgb(228.0, 238.0, 243.5)"
            ]
           ]
          },
          "font": {
           "color": "black",
           "size": 11
          },
          "height": 22,
          "line": {
           "color": "black",
           "width": 0
          },
          "values": [
           [
            "Oil",
            "Total",
            "Electricity",
            "Hydrogen",
            "Bioenergy",
            "Gases"
           ],
           [
            "0.35 / 0.27",
            "0.5",
            "0.6 / 0.41",
            "0.41 / 0.43",
            "0.7 / 0.52",
            "0.58 / 0.55"
           ],
           [
            "0.52 / 0.55",
            "0.32",
            "0.24 / 0.36",
            "0.18 / 0.22",
            "0.17 / 0.33",
            "0.13 / 0.19"
           ],
           [
            "0.13 / 0.18",
            "0.18",
            "0.17 / 0.23",
            "0.41 / 0.35",
            "0.14 / 0.15",
            "0.29 / 0.25"
           ]
          ]
         },
         "columnwidth": [
          2,
          1,
          1,
          1
         ],
         "domain": {
          "x": [
           0.624,
           1
          ],
          "y": [
           0.2857142857142857,
           0.5714285714285714
          ]
         },
         "header": {
          "align": [
           "center",
           "center",
           "center",
           "center"
          ],
          "fill": {
           "color": [
            "teal",
            "white",
            "white",
            "white"
           ]
          },
          "font": {
           "color": "black",
           "size": 12
          },
          "height": 22,
          "line": {
           "color": "white"
          },
          "values": [
           [
            "<b>Transport ⛟</b>"
           ],
           [
            "<b>Model</b>"
           ],
           [
            "<b>Climate</b>"
           ],
           [
            "<b>Other</b>"
           ]
          ]
         },
         "type": "table"
        },
        {
         "cells": {
          "align": [
           "center",
           "center",
           "center",
           "center"
          ],
          "fill": {
           "color": [
            "white",
            [
             "rgb(250.75, 229.5, 217.0)",
             "rgb(251.5, 226.0, 211.0)",
             "rgb(240.25, 156.375, 123.375)",
             "rgb(232.75, 139.125, 110.125)",
             "rgb(244.0, 165.0, 130.0)"
            ],
            [
             "rgb(251.875, 212.25, 190.375)",
             "rgb(213.75, 231.25, 240.875)",
             "rgb(209.0, 229.0, 240.0)",
             "rgb(177.5, 213.0, 231.0)",
             "rgb(146.0, 197.0, 222.0)"
            ],
            [
             "rgb(126.25, 184.5, 215.25)",
             "rgb(232.75, 240.25, 244.375)",
             "rgb(161.75, 205.0, 226.5)",
             "rgb(177.5, 213.0, 231.0)",
             "rgb(228.0, 238.0, 243.5)"
            ]
           ]
          },
          "font": {
           "color": "black",
           "size": 11
          },
          "height": 22,
          "line": {
           "color": "black",
           "width": 0
          },
          "values": [
           [
            "Gases",
            "Total",
            "Liquids",
            "Electricity",
            "Biomass"
           ],
           [
            "0.43 / 0.51",
            "0.45",
            "0.64 / 0.62",
            "0.66 / 0.44",
            "0.61 / 0.57"
           ],
           [
            "0.5 / 0.42",
            "0.25",
            "0.23 / 0.19",
            "0.17 / 0.43",
            "0.1 / 0.12"
           ],
           [
            "0.07 / 0.06",
            "0.3",
            "0.14 / 0.18",
            "0.17 / 0.12",
            "0.29 / 0.3"
           ]
          ]
         },
         "columnwidth": [
          2,
          1,
          1,
          1
         ],
         "domain": {
          "x": [
           0.624,
           1
          ],
          "y": [
           0,
           0.2857142857142857
          ]
         },
         "header": {
          "align": [
           "center",
           "center",
           "center",
           "center"
          ],
          "fill": {
           "color": [
            "darkgrey",
            "white",
            "white",
            "white"
           ]
          },
          "font": {
           "color": "black",
           "size": 12
          },
          "height": 22,
          "line": {
           "color": "white"
          },
          "values": [
           [
            "<b>Buildings ⌂</b>"
           ],
           [
            "<b>Model</b>"
           ],
           [
            "<b>Climate</b>"
           ],
           [
            "<b>Other</b>"
           ]
          ]
         },
         "type": "table"
        },
        {
         "a": [
          0,
          5,
          0,
          0,
          0,
          0
         ],
         "b": [
          100,
          95,
          95,
          100,
          100,
          100
         ],
         "c": [
          0,
          0,
          5,
          0,
          0,
          0
         ],
         "fill": "toself",
         "fillcolor": "rgb(0.0, 0.0, 0.0)",
         "hoverinfo": "skip",
         "line": {
          "color": "black",
          "width": 0
         },
         "mode": "lines",
         "opacity": 0.2,
         "showlegend": false,
         "subplot": "ternary",
         "text": "50",
         "type": "scatterternary"
        },
        {
         "a": [
          0,
          0,
          5,
          0,
          0,
          0
         ],
         "b": [
          0,
          5,
          0,
          0,
          0,
          0
         ],
         "c": [
          100,
          95,
          95,
          100,
          100,
          100
         ],
         "fill": "toself",
         "fillcolor": "rgb(0.0, 0.0, 0.0)",
         "hoverinfo": "skip",
         "line": {
          "color": "black",
          "width": 0
         },
         "mode": "lines",
         "opacity": 0.2,
         "showlegend": false,
         "subplot": "ternary",
         "text": "50",
         "type": "scatterternary"
        },
        {
         "a": [
          100,
          95,
          95,
          100,
          100,
          100
         ],
         "b": [
          0,
          0,
          5,
          0,
          0,
          0
         ],
         "c": [
          0,
          5,
          0,
          0,
          0,
          0
         ],
         "fill": "toself",
         "fillcolor": "rgb(0.0, 0.0, 0.0)",
         "hoverinfo": "skip",
         "line": {
          "color": "black",
          "width": 0
         },
         "mode": "lines",
         "opacity": 0.2,
         "showlegend": false,
         "subplot": "ternary",
         "text": "50",
         "type": "scatterternary"
        },
        {
         "a": [
          5,
          10,
          0,
          0,
          5,
          5
         ],
         "b": [
          95,
          90,
          90,
          95,
          95,
          95
         ],
         "c": [
          0,
          0,
          10,
          5,
          0,
          0
         ],
         "fill": "toself",
         "fillcolor": "rgb(0.0, 0.0, 0.0)",
         "hoverinfo": "skip",
         "line": {
          "color": "black",
          "width": 0
         },
         "mode": "lines",
         "opacity": 0.2,
         "showlegend": false,
         "subplot": "ternary",
         "text": "50",
         "type": "scatterternary"
        },
        {
         "a": [
          0,
          0,
          10,
          5,
          0,
          0
         ],
         "b": [
          5,
          10,
          0,
          0,
          5,
          5
         ],
         "c": [
          95,
          90,
          90,
          95,
          95,
          95
         ],
         "fill": "toself",
         "fillcolor": "rgb(8.80952380952381, 8.80952380952381, 8.80952380952381)",
         "hoverinfo": "skip",
         "line": {
          "color": "black",
          "width": 0
         },
         "mode": "lines",
         "opacity": 0.2,
         "showlegend": false,
         "subplot": "ternary",
         "text": "50",
         "type": "scatterternary"
        },
        {
         "a": [
          95,
          90,
          90,
          95,
          95,
          95
         ],
         "b": [
          0,
          0,
          10,
          5,
          0,
          0
         ],
         "c": [
          5,
          10,
          0,
          0,
          5,
          5
         ],
         "fill": "toself",
         "fillcolor": "rgb(19.38095238095238, 19.38095238095238, 19.38095238095238)",
         "hoverinfo": "skip",
         "line": {
          "color": "black",
          "width": 0
         },
         "mode": "lines",
         "opacity": 0.2,
         "showlegend": false,
         "subplot": "ternary",
         "text": "50",
         "type": "scatterternary"
        },
        {
         "a": [
          10,
          15,
          0,
          0,
          10,
          10
         ],
         "b": [
          90,
          85,
          85,
          90,
          90,
          90
         ],
         "c": [
          0,
          0,
          15,
          10,
          0,
          0
         ],
         "fill": "toself",
         "fillcolor": "rgb(29.952380952380953, 29.952380952380953, 29.952380952380953)",
         "hoverinfo": "skip",
         "line": {
          "color": "black",
          "width": 0
         },
         "mode": "lines",
         "opacity": 0.2,
         "showlegend": false,
         "subplot": "ternary",
         "text": "50",
         "type": "scatterternary"
        },
        {
         "a": [
          0,
          0,
          15,
          10,
          0,
          0
         ],
         "b": [
          10,
          15,
          0,
          0,
          10,
          10
         ],
         "c": [
          90,
          85,
          85,
          90,
          90,
          90
         ],
         "fill": "toself",
         "fillcolor": "rgb(39.142857142857146, 39.142857142857146, 39.142857142857146)",
         "hoverinfo": "skip",
         "line": {
          "color": "black",
          "width": 0
         },
         "mode": "lines",
         "opacity": 0.2,
         "showlegend": false,
         "subplot": "ternary",
         "text": "50",
         "type": "scatterternary"
        },
        {
         "a": [
          90,
          85,
          85,
          90,
          90,
          90
         ],
         "b": [
          0,
          0,
          15,
          10,
          0,
          0
         ],
         "c": [
          10,
          15,
          0,
          0,
          10,
          10
         ],
         "fill": "toself",
         "fillcolor": "rgb(49.85714285714286, 49.85714285714286, 49.85714285714286)",
         "hoverinfo": "skip",
         "line": {
          "color": "black",
          "width": 0
         },
         "mode": "lines",
         "opacity": 0.2,
         "showlegend": false,
         "subplot": "ternary",
         "text": "50",
         "type": "scatterternary"
        },
        {
         "a": [
          15,
          20,
          0,
          0,
          15,
          15
         ],
         "b": [
          85,
          80,
          80,
          85,
          85,
          85
         ],
         "c": [
          0,
          0,
          20,
          15,
          0,
          0
         ],
         "fill": "toself",
         "fillcolor": "rgb(62.714285714285715, 62.714285714285715, 62.714285714285715)",
         "hoverinfo": "skip",
         "line": {
          "color": "black",
          "width": 0
         },
         "mode": "lines",
         "opacity": 0.2,
         "showlegend": false,
         "subplot": "ternary",
         "text": "50",
         "type": "scatterternary"
        },
        {
         "a": [
          0,
          0,
          20,
          15,
          0,
          0
         ],
         "b": [
          15,
          20,
          0,
          0,
          15,
          15
         ],
         "c": [
          85,
          80,
          80,
          85,
          85,
          85
         ],
         "fill": "toself",
         "fillcolor": "rgb(75.57142857142857, 75.57142857142857, 75.57142857142857)",
         "hoverinfo": "skip",
         "line": {
          "color": "black",
          "width": 0
         },
         "mode": "lines",
         "opacity": 0.2,
         "showlegend": false,
         "subplot": "ternary",
         "text": "50",
         "type": "scatterternary"
        },
        {
         "a": [
          85,
          80,
          80,
          85,
          85,
          85
         ],
         "b": [
          0,
          0,
          20,
          15,
          0,
          0
         ],
         "c": [
          15,
          20,
          0,
          0,
          15,
          15
         ],
         "fill": "toself",
         "fillcolor": "rgb(85.14285714285714, 85.14285714285714, 85.14285714285714)",
         "hoverinfo": "skip",
         "line": {
          "color": "black",
          "width": 0
         },
         "mode": "lines",
         "opacity": 0.2,
         "showlegend": false,
         "subplot": "ternary",
         "text": "50",
         "type": "scatterternary"
        },
        {
         "a": [
          20,
          25,
          0,
          0,
          20,
          20
         ],
         "b": [
          80,
          75,
          75,
          80,
          80,
          80
         ],
         "c": [
          0,
          0,
          25,
          20,
          0,
          0
         ],
         "fill": "toself",
         "fillcolor": "rgb(94.57142857142857, 94.57142857142857, 94.57142857142857)",
         "hoverinfo": "skip",
         "line": {
          "color": "black",
          "width": 0
         },
         "mode": "lines",
         "opacity": 0.2,
         "showlegend": false,
         "subplot": "ternary",
         "text": "50",
         "type": "scatterternary"
        },
        {
         "a": [
          0,
          0,
          25,
          20,
          0,
          0
         ],
         "b": [
          20,
          25,
          0,
          0,
          20,
          20
         ],
         "c": [
          80,
          75,
          75,
          80,
          80,
          80
         ],
         "fill": "toself",
         "fillcolor": "rgb(104.0, 104.0, 104.0)",
         "hoverinfo": "skip",
         "line": {
          "color": "black",
          "width": 0
         },
         "mode": "lines",
         "opacity": 0.2,
         "showlegend": false,
         "subplot": "ternary",
         "text": "50",
         "type": "scatterternary"
        },
        {
         "a": [
          80,
          75,
          75,
          80,
          80,
          80
         ],
         "b": [
          0,
          0,
          25,
          20,
          0,
          0
         ],
         "c": [
          20,
          25,
          0,
          0,
          20,
          20
         ],
         "fill": "toself",
         "fillcolor": "rgb(113.42857142857143, 113.42857142857143, 113.42857142857143)",
         "hoverinfo": "skip",
         "line": {
          "color": "black",
          "width": 0
         },
         "mode": "lines",
         "opacity": 0.2,
         "showlegend": false,
         "subplot": "ternary",
         "text": "50",
         "type": "scatterternary"
        },
        {
         "a": [
          25,
          30,
          0,
          0,
          25,
          25
         ],
         "b": [
          75,
          70,
          70,
          75,
          75,
          75
         ],
         "c": [
          0,
          0,
          30,
          25,
          0,
          0
         ],
         "fill": "toself",
         "fillcolor": "rgb(121.66666666666666, 121.66666666666666, 121.66666666666666)",
         "hoverinfo": "skip",
         "line": {
          "color": "black",
          "width": 0
         },
         "mode": "lines",
         "opacity": 0.2,
         "showlegend": false,
         "subplot": "ternary",
         "text": "50",
         "type": "scatterternary"
        },
        {
         "a": [
          0,
          0,
          30,
          25,
          0,
          0
         ],
         "b": [
          25,
          30,
          0,
          0,
          25,
          25
         ],
         "c": [
          75,
          70,
          70,
          75,
          75,
          75
         ],
         "fill": "toself",
         "fillcolor": "rgb(130.0, 130.0, 130.0)",
         "hoverinfo": "skip",
         "line": {
          "color": "black",
          "width": 0
         },
         "mode": "lines",
         "opacity": 0.2,
         "showlegend": false,
         "subplot": "ternary",
         "text": "50",
         "type": "scatterternary"
        },
        {
         "a": [
          75,
          70,
          70,
          75,
          75,
          75
         ],
         "b": [
          0,
          0,
          30,
          25,
          0,
          0
         ],
         "c": [
          25,
          30,
          0,
          0,
          25,
          25
         ],
         "fill": "toself",
         "fillcolor": "rgb(140.0, 140.0, 140.0)",
         "hoverinfo": "skip",
         "line": {
          "color": "black",
          "width": 0
         },
         "mode": "lines",
         "opacity": 0.2,
         "showlegend": false,
         "subplot": "ternary",
         "text": "50",
         "type": "scatterternary"
        },
        {
         "a": [
          30,
          35,
          0,
          0,
          30,
          30
         ],
         "b": [
          70,
          65,
          65,
          70,
          70,
          70
         ],
         "c": [
          0,
          0,
          35,
          30,
          0,
          0
         ],
         "fill": "toself",
         "fillcolor": "rgb(150.0, 150.0, 150.0)",
         "hoverinfo": "skip",
         "line": {
          "color": "black",
          "width": 0
         },
         "mode": "lines",
         "opacity": 0.2,
         "showlegend": false,
         "subplot": "ternary",
         "text": "50",
         "type": "scatterternary"
        },
        {
         "a": [
          0,
          0,
          35,
          30,
          0,
          0
         ],
         "b": [
          30,
          35,
          0,
          0,
          30,
          30
         ],
         "c": [
          70,
          65,
          65,
          70,
          70,
          70
         ],
         "fill": "toself",
         "fillcolor": "rgb(159.28571428571428, 159.28571428571428, 159.28571428571428)",
         "hoverinfo": "skip",
         "line": {
          "color": "black",
          "width": 0
         },
         "mode": "lines",
         "opacity": 0.2,
         "showlegend": false,
         "subplot": "ternary",
         "text": "50",
         "type": "scatterternary"
        },
        {
         "a": [
          70,
          65,
          65,
          70,
          70,
          70
         ],
         "b": [
          0,
          0,
          35,
          30,
          0,
          0
         ],
         "c": [
          30,
          35,
          0,
          0,
          30,
          30
         ],
         "fill": "toself",
         "fillcolor": "rgb(170.42857142857142, 170.42857142857142, 170.42857142857142)",
         "hoverinfo": "skip",
         "line": {
          "color": "black",
          "width": 0
         },
         "mode": "lines",
         "opacity": 0.2,
         "showlegend": false,
         "subplot": "ternary",
         "text": "50",
         "type": "scatterternary"
        },
        {
         "a": [
          35,
          40,
          0,
          0,
          35,
          35
         ],
         "b": [
          65,
          60,
          60,
          65,
          65,
          65
         ],
         "c": [
          0,
          0,
          40,
          35,
          0,
          0
         ],
         "fill": "toself",
         "fillcolor": "rgb(181.57142857142858, 181.57142857142858, 181.57142857142858)",
         "hoverinfo": "skip",
         "line": {
          "color": "black",
          "width": 0
         },
         "mode": "lines",
         "opacity": 0.2,
         "showlegend": false,
         "subplot": "ternary",
         "text": "50",
         "type": "scatterternary"
        },
        {
         "a": [
          0,
          0,
          40,
          35,
          0,
          0
         ],
         "b": [
          35,
          40,
          0,
          0,
          35,
          35
         ],
         "c": [
          65,
          60,
          60,
          65,
          65,
          65
         ],
         "fill": "toself",
         "fillcolor": "rgb(190.33333333333334, 190.33333333333334, 190.33333333333334)",
         "hoverinfo": "skip",
         "line": {
          "color": "black",
          "width": 0
         },
         "mode": "lines",
         "opacity": 0.2,
         "showlegend": false,
         "subplot": "ternary",
         "text": "50",
         "type": "scatterternary"
        },
        {
         "a": [
          65,
          60,
          60,
          65,
          65,
          65
         ],
         "b": [
          0,
          0,
          40,
          35,
          0,
          0
         ],
         "c": [
          35,
          40,
          0,
          0,
          35,
          35
         ],
         "fill": "toself",
         "fillcolor": "rgb(198.33333333333334, 198.33333333333334, 198.33333333333334)",
         "hoverinfo": "skip",
         "line": {
          "color": "black",
          "width": 0
         },
         "mode": "lines",
         "opacity": 0.2,
         "showlegend": false,
         "subplot": "ternary",
         "text": "50",
         "type": "scatterternary"
        },
        {
         "a": [
          40,
          45,
          0,
          0,
          40,
          40
         ],
         "b": [
          60,
          55,
          55,
          60,
          60,
          60
         ],
         "c": [
          0,
          0,
          45,
          40,
          0,
          0
         ],
         "fill": "toself",
         "fillcolor": "rgb(206.33333333333334, 206.33333333333334, 206.33333333333334)",
         "hoverinfo": "skip",
         "line": {
          "color": "black",
          "width": 0
         },
         "mode": "lines",
         "opacity": 0.2,
         "showlegend": false,
         "subplot": "ternary",
         "text": "50",
         "type": "scatterternary"
        },
        {
         "a": [
          0,
          0,
          45,
          40,
          0,
          0
         ],
         "b": [
          40,
          45,
          0,
          0,
          40,
          40
         ],
         "c": [
          60,
          55,
          55,
          60,
          60,
          60
         ],
         "fill": "toself",
         "fillcolor": "rgb(213.0, 213.0, 213.0)",
         "hoverinfo": "skip",
         "line": {
          "color": "black",
          "width": 0
         },
         "mode": "lines",
         "opacity": 0.2,
         "showlegend": false,
         "subplot": "ternary",
         "text": "50",
         "type": "scatterternary"
        },
        {
         "a": [
          60,
          55,
          55,
          60,
          60,
          60
         ],
         "b": [
          0,
          0,
          45,
          40,
          0,
          0
         ],
         "c": [
          40,
          45,
          0,
          0,
          40,
          40
         ],
         "fill": "toself",
         "fillcolor": "rgb(219.1904761904762, 219.1904761904762, 219.1904761904762)",
         "hoverinfo": "skip",
         "line": {
          "color": "black",
          "width": 0
         },
         "mode": "lines",
         "opacity": 0.2,
         "showlegend": false,
         "subplot": "ternary",
         "text": "50",
         "type": "scatterternary"
        },
        {
         "a": [
          45,
          50,
          0,
          0,
          45,
          45
         ],
         "b": [
          55,
          50,
          50,
          55,
          55,
          55
         ],
         "c": [
          0,
          0,
          50,
          45,
          0,
          0
         ],
         "fill": "toself",
         "fillcolor": "rgb(225.76190476190476, 225.76190476190476, 225.76190476190476)",
         "hoverinfo": "skip",
         "line": {
          "color": "black",
          "width": 0
         },
         "mode": "lines",
         "opacity": 0.2,
         "showlegend": false,
         "subplot": "ternary",
         "text": "50",
         "type": "scatterternary"
        },
        {
         "a": [
          0,
          0,
          50,
          45,
          0,
          0
         ],
         "b": [
          45,
          50,
          0,
          0,
          45,
          45
         ],
         "c": [
          55,
          50,
          50,
          55,
          55,
          55
         ],
         "fill": "toself",
         "fillcolor": "rgb(232.33333333333334, 232.33333333333334, 232.33333333333334)",
         "hoverinfo": "skip",
         "line": {
          "color": "black",
          "width": 0
         },
         "mode": "lines",
         "opacity": 0.2,
         "showlegend": false,
         "subplot": "ternary",
         "text": "50",
         "type": "scatterternary"
        },
        {
         "a": [
          55,
          50,
          50,
          55,
          55,
          55
         ],
         "b": [
          0,
          0,
          50,
          45,
          0,
          0
         ],
         "c": [
          45,
          50,
          0,
          0,
          45,
          45
         ],
         "fill": "toself",
         "fillcolor": "rgb(238.9047619047619, 238.9047619047619, 238.9047619047619)",
         "hoverinfo": "skip",
         "line": {
          "color": "black",
          "width": 0
         },
         "mode": "lines",
         "opacity": 0.2,
         "showlegend": false,
         "subplot": "ternary",
         "text": "50",
         "type": "scatterternary"
        },
        {
         "a": [
          50,
          50,
          0,
          50
         ],
         "b": [
          50,
          0,
          50,
          50
         ],
         "c": [
          0,
          50,
          50,
          0
         ],
         "fill": "toself",
         "fillcolor": "rgb(242.85714285714286, 242.85714285714286, 242.85714285714286)",
         "hoverinfo": "skip",
         "line": {
          "color": "black",
          "width": 0
         },
         "mode": "lines",
         "opacity": 0.2,
         "showlegend": false,
         "subplot": "ternary",
         "text": "50",
         "type": "scatterternary"
        },
        {
         "a": [
          45,
          45,
          10,
          45
         ],
         "b": [
          45,
          10,
          45,
          45
         ],
         "c": [
          10,
          45,
          45,
          10
         ],
         "fill": "toself",
         "fillcolor": "rgb(247.14285714285714, 247.14285714285714, 247.14285714285714)",
         "hoverinfo": "skip",
         "line": {
          "color": "black",
          "width": 0
         },
         "mode": "lines",
         "opacity": 0.2,
         "showlegend": false,
         "subplot": "ternary",
         "text": "45",
         "type": "scatterternary"
        },
        {
         "a": [
          40,
          40,
          20,
          40
         ],
         "b": [
          40,
          20,
          40,
          40
         ],
         "c": [
          20,
          40,
          40,
          20
         ],
         "fill": "toself",
         "fillcolor": "rgb(251.42857142857142, 251.42857142857142, 251.42857142857142)",
         "hoverinfo": "skip",
         "line": {
          "color": "black",
          "width": 0
         },
         "mode": "lines",
         "opacity": 0.2,
         "showlegend": false,
         "subplot": "ternary",
         "text": "40",
         "type": "scatterternary"
        },
        {
         "a": [
          35,
          35,
          30,
          35
         ],
         "b": [
          35,
          30,
          35,
          35
         ],
         "c": [
          30,
          35,
          35,
          30
         ],
         "fill": "toself",
         "fillcolor": "rgb(255.0, 255.0, 255.0)",
         "hoverinfo": "skip",
         "line": {
          "color": "black",
          "width": 0
         },
         "mode": "lines",
         "opacity": 0.2,
         "showlegend": false,
         "subplot": "ternary",
         "text": "35",
         "type": "scatterternary"
        },
        {
         "a": [
          0.3670657918971644
         ],
         "b": [
          0.5622018950156893
         ],
         "c": [
          0.07073231308714639
         ],
         "hovertemplate": "%{text}<br>Var (climate): %{a}<br>Var (model): %{b} <br>Var (other): %{c}",
         "line": {
          "width": 1.5
         },
         "marker": {
          "color": "saddlebrown",
          "line": {
           "color": "black",
           "width": 1
          },
          "opacity": 1,
          "size": 0.1,
          "symbol": "circle"
         },
         "mode": "markers",
         "name": "Coal",
         "showlegend": false,
         "subplot": "ternary",
         "text": [
          "2050"
         ],
         "textfont": {
          "color": [
           "saddlebrown",
           "peru"
          ],
          "size": 1
         },
         "type": "scatterternary"
        },
        {
         "a": [
          0.3670657918971644
         ],
         "b": [
          0.5622018950156893
         ],
         "c": [
          0.07073231308714639
         ],
         "mode": "text",
         "showlegend": false,
         "subplot": "ternary",
         "text": [
          "⛮"
         ],
         "textfont": {
          "color": "saddlebrown",
          "size": 28
         },
         "type": "scatterternary"
        },
        {
         "a": [
          0.3474741296766968
         ],
         "b": [
          0.5690474770047806
         ],
         "c": [
          0.08347839331852233
         ],
         "hovertemplate": "%{text}<br>Var (climate): %{a}<br>Var (model): %{b} <br>Var (other): %{c}",
         "line": {
          "width": 1.5
         },
         "marker": {
          "color": "peru",
          "line": {
           "color": "black",
           "width": 1
          },
          "opacity": 1,
          "size": 0.1,
          "symbol": "circle"
         },
         "mode": "markers",
         "name": "Coal (fr)",
         "showlegend": false,
         "subplot": "ternary",
         "text": [
          "2050"
         ],
         "textfont": {
          "color": [
           "saddlebrown",
           "peru"
          ],
          "size": 1
         },
         "type": "scatterternary"
        },
        {
         "a": [
          0.3474741296766968
         ],
         "b": [
          0.5690474770047806
         ],
         "c": [
          0.08347839331852233
         ],
         "mode": "text",
         "showlegend": false,
         "subplot": "ternary",
         "text": [
          "⛮"
         ],
         "textfont": {
          "color": "peru",
          "size": 28
         },
         "type": "scatterternary"
        },
        {
         "a": [
          0.3670657918971644,
          0.3474741296766968
         ],
         "b": [
          0.5622018950156893,
          0.5690474770047806
         ],
         "c": [
          0.07073231308714639,
          0.08347839331852233
         ],
         "hoverinfo": "skip",
         "line": {
          "color": "saddlebrown",
          "dash": "dot",
          "width": 2
         },
         "mode": "lines",
         "showlegend": false,
         "subplot": "ternary",
         "text": "",
         "type": "scatterternary"
        },
        {
         "a": [
          0.2077632019210391
         ],
         "b": [
          0.740707393441741
         ],
         "c": [
          0.05152940463721995
         ],
         "hovertemplate": "%{text}<br>Var (climate): %{a}<br>Var (model): %{b} <br>Var (other): %{c}",
         "line": {
          "width": 1.5
         },
         "marker": {
          "color": "saddlebrown",
          "line": {
           "color": "black",
           "width": 1
          },
          "opacity": 1,
          "size": 0.1,
          "symbol": "circle"
         },
         "mode": "markers",
         "name": "Biomass",
         "showlegend": false,
         "subplot": "ternary",
         "text": [
          "2050"
         ],
         "textfont": {
          "color": [
           "saddlebrown",
           "peru"
          ],
          "size": 1
         },
         "type": "scatterternary"
        },
        {
         "a": [
          0.2077632019210391
         ],
         "b": [
          0.740707393441741
         ],
         "c": [
          0.05152940463721995
         ],
         "mode": "text",
         "showlegend": false,
         "subplot": "ternary",
         "text": [
          "⛮"
         ],
         "textfont": {
          "color": "saddlebrown",
          "size": 28
         },
         "type": "scatterternary"
        },
        {
         "a": [
          0.1980294393160867
         ],
         "b": [
          0.7485792156111608
         ],
         "c": [
          0.05339134507275265
         ],
         "hovertemplate": "%{text}<br>Var (climate): %{a}<br>Var (model): %{b} <br>Var (other): %{c}",
         "line": {
          "width": 1.5
         },
         "marker": {
          "color": "peru",
          "line": {
           "color": "black",
           "width": 1
          },
          "opacity": 1,
          "size": 0.1,
          "symbol": "circle"
         },
         "mode": "markers",
         "name": "Biomass (fr)",
         "showlegend": false,
         "subplot": "ternary",
         "text": [
          "2050"
         ],
         "textfont": {
          "color": [
           "saddlebrown",
           "peru"
          ],
          "size": 1
         },
         "type": "scatterternary"
        },
        {
         "a": [
          0.1980294393160867
         ],
         "b": [
          0.7485792156111608
         ],
         "c": [
          0.05339134507275265
         ],
         "mode": "text",
         "showlegend": false,
         "subplot": "ternary",
         "text": [
          "⛮"
         ],
         "textfont": {
          "color": "peru",
          "size": 28
         },
         "type": "scatterternary"
        },
        {
         "a": [
          0.2077632019210391,
          0.1980294393160867
         ],
         "b": [
          0.740707393441741,
          0.7485792156111608
         ],
         "c": [
          0.05152940463721995,
          0.05339134507275265
         ],
         "hoverinfo": "skip",
         "line": {
          "color": "saddlebrown",
          "dash": "dot",
          "width": 2
         },
         "mode": "lines",
         "showlegend": false,
         "subplot": "ternary",
         "text": "",
         "type": "scatterternary"
        },
        {
         "a": [
          0.2163100377333581
         ],
         "b": [
          0.6976187326650432
         ],
         "c": [
          0.08607122960159877
         ],
         "hovertemplate": "%{text}<br>Var (climate): %{a}<br>Var (model): %{b} <br>Var (other): %{c}",
         "line": {
          "width": 1.5
         },
         "marker": {
          "color": "saddlebrown",
          "line": {
           "color": "black",
           "width": 1
          },
          "opacity": 1,
          "size": 0.1,
          "symbol": "circle"
         },
         "mode": "markers",
         "name": "Liquids",
         "showlegend": false,
         "subplot": "ternary",
         "text": [
          "2050"
         ],
         "textfont": {
          "color": [
           "saddlebrown",
           "peru"
          ],
          "size": 1
         },
         "type": "scatterternary"
        },
        {
         "a": [
          0.2163100377333581
         ],
         "b": [
          0.6976187326650432
         ],
         "c": [
          0.08607122960159877
         ],
         "mode": "text",
         "showlegend": false,
         "subplot": "ternary",
         "text": [
          "⛮"
         ],
         "textfont": {
          "color": "saddlebrown",
          "size": 28
         },
         "type": "scatterternary"
        },
        {
         "a": [
          0.15684300562584563
         ],
         "b": [
          0.7561585388110055
         ],
         "c": [
          0.08699845556314884
         ],
         "hovertemplate": "%{text}<br>Var (climate): %{a}<br>Var (model): %{b} <br>Var (other): %{c}",
         "line": {
          "width": 1.5
         },
         "marker": {
          "color": "peru",
          "line": {
           "color": "black",
           "width": 1
          },
          "opacity": 1,
          "size": 0.1,
          "symbol": "circle"
         },
         "mode": "markers",
         "name": "Liquids (fr)",
         "showlegend": false,
         "subplot": "ternary",
         "text": [
          "2050"
         ],
         "textfont": {
          "color": [
           "saddlebrown",
           "peru"
          ],
          "size": 1
         },
         "type": "scatterternary"
        },
        {
         "a": [
          0.15684300562584563
         ],
         "b": [
          0.7561585388110055
         ],
         "c": [
          0.08699845556314884
         ],
         "mode": "text",
         "showlegend": false,
         "subplot": "ternary",
         "text": [
          "⛮"
         ],
         "textfont": {
          "color": "peru",
          "size": 28
         },
         "type": "scatterternary"
        },
        {
         "a": [
          0.2163100377333581,
          0.15684300562584563
         ],
         "b": [
          0.6976187326650432,
          0.7561585388110055
         ],
         "c": [
          0.08607122960159877,
          0.08699845556314884
         ],
         "hoverinfo": "skip",
         "line": {
          "color": "saddlebrown",
          "dash": "dot",
          "width": 2
         },
         "mode": "lines",
         "showlegend": false,
         "subplot": "ternary",
         "text": "",
         "type": "scatterternary"
        },
        {
         "a": [
          0.34359182799809385
         ],
         "b": [
          0.5236191326379623
         ],
         "c": [
          0.13278903936394387
         ],
         "hovertemplate": "%{text}<br>Var (climate): %{a}<br>Var (model): %{b} <br>Var (other): %{c}",
         "line": {
          "width": 1.5
         },
         "marker": {
          "color": "saddlebrown",
          "line": {
           "color": "black",
           "width": 1
          },
          "opacity": 1,
          "size": 0.1,
          "symbol": "circle"
         },
         "mode": "markers",
         "name": "Gases",
         "showlegend": false,
         "subplot": "ternary",
         "text": [
          "2050"
         ],
         "textfont": {
          "color": [
           "saddlebrown",
           "peru"
          ],
          "size": 1
         },
         "type": "scatterternary"
        },
        {
         "a": [
          0.34359182799809385
         ],
         "b": [
          0.5236191326379623
         ],
         "c": [
          0.13278903936394387
         ],
         "mode": "text",
         "showlegend": false,
         "subplot": "ternary",
         "text": [
          "⛮"
         ],
         "textfont": {
          "color": "saddlebrown",
          "size": 28
         },
         "type": "scatterternary"
        },
        {
         "a": [
          0.35693174855093157
         ],
         "b": [
          0.4760764112990209
         ],
         "c": [
          0.16699184015004773
         ],
         "hovertemplate": "%{text}<br>Var (climate): %{a}<br>Var (model): %{b} <br>Var (other): %{c}",
         "line": {
          "width": 1.5
         },
         "marker": {
          "color": "peru",
          "line": {
           "color": "black",
           "width": 1
          },
          "opacity": 1,
          "size": 0.1,
          "symbol": "circle"
         },
         "mode": "markers",
         "name": "Gases (fr)",
         "showlegend": false,
         "subplot": "ternary",
         "text": [
          "2050"
         ],
         "textfont": {
          "color": [
           "saddlebrown",
           "peru"
          ],
          "size": 1
         },
         "type": "scatterternary"
        },
        {
         "a": [
          0.35693174855093157
         ],
         "b": [
          0.4760764112990209
         ],
         "c": [
          0.16699184015004773
         ],
         "mode": "text",
         "showlegend": false,
         "subplot": "ternary",
         "text": [
          "⛮"
         ],
         "textfont": {
          "color": "peru",
          "size": 28
         },
         "type": "scatterternary"
        },
        {
         "a": [
          0.34359182799809385,
          0.35693174855093157
         ],
         "b": [
          0.5236191326379623,
          0.4760764112990209
         ],
         "c": [
          0.13278903936394387,
          0.16699184015004773
         ],
         "hoverinfo": "skip",
         "line": {
          "color": "saddlebrown",
          "dash": "dot",
          "width": 2
         },
         "mode": "lines",
         "showlegend": false,
         "subplot": "ternary",
         "text": "",
         "type": "scatterternary"
        },
        {
         "a": [
          0.2850305897897721
         ],
         "b": [
          0.5898697857300881
         ],
         "c": [
          0.12509962448013995
         ],
         "hovertemplate": "%{text}<br>Var (climate): %{a}<br>Var (model): %{b} <br>Var (other): %{c}",
         "line": {
          "width": 1.5
         },
         "marker": {
          "color": "saddlebrown",
          "line": {
           "color": "black",
           "width": 1
          },
          "opacity": 1,
          "size": 0.1,
          "symbol": "circle"
         },
         "mode": "markers",
         "name": "Electricity",
         "showlegend": false,
         "subplot": "ternary",
         "text": [
          "2050"
         ],
         "textfont": {
          "color": [
           "saddlebrown",
           "peru"
          ],
          "size": 1
         },
         "type": "scatterternary"
        },
        {
         "a": [
          0.2850305897897721
         ],
         "b": [
          0.5898697857300881
         ],
         "c": [
          0.12509962448013995
         ],
         "mode": "text",
         "showlegend": false,
         "subplot": "ternary",
         "text": [
          "⛮"
         ],
         "textfont": {
          "color": "saddlebrown",
          "size": 28
         },
         "type": "scatterternary"
        },
        {
         "a": [
          0.4318628301593043
         ],
         "b": [
          0.47034026928635936
         ],
         "c": [
          0.09779690055433644
         ],
         "hovertemplate": "%{text}<br>Var (climate): %{a}<br>Var (model): %{b} <br>Var (other): %{c}",
         "line": {
          "width": 1.5
         },
         "marker": {
          "color": "peru",
          "line": {
           "color": "black",
           "width": 1
          },
          "opacity": 1,
          "size": 0.1,
          "symbol": "circle"
         },
         "mode": "markers",
         "name": "Electricity (fr)",
         "showlegend": false,
         "subplot": "ternary",
         "text": [
          "2050"
         ],
         "textfont": {
          "color": [
           "saddlebrown",
           "peru"
          ],
          "size": 1
         },
         "type": "scatterternary"
        },
        {
         "a": [
          0.4318628301593043
         ],
         "b": [
          0.47034026928635936
         ],
         "c": [
          0.09779690055433644
         ],
         "mode": "text",
         "showlegend": false,
         "subplot": "ternary",
         "text": [
          "⛮"
         ],
         "textfont": {
          "color": "peru",
          "size": 28
         },
         "type": "scatterternary"
        },
        {
         "a": [
          0.2850305897897721,
          0.4318628301593043
         ],
         "b": [
          0.5898697857300881,
          0.47034026928635936
         ],
         "c": [
          0.12509962448013995,
          0.09779690055433644
         ],
         "hoverinfo": "skip",
         "line": {
          "color": "saddlebrown",
          "dash": "dot",
          "width": 2
         },
         "mode": "lines",
         "showlegend": false,
         "subplot": "ternary",
         "text": "",
         "type": "scatterternary"
        },
        {
         "a": [
          0.2343344943898626
         ],
         "b": [
          0.575025023677217
         ],
         "c": [
          0.1906404819329203
         ],
         "hovertemplate": "%{text}<br>Var (climate): %{a}<br>Var (model): %{b} <br>Var (other): %{c}",
         "line": {
          "width": 1.5
         },
         "marker": {
          "color": "saddlebrown",
          "line": {
           "color": "black",
           "width": 1
          },
          "opacity": 1,
          "size": 0.1,
          "symbol": "circle"
         },
         "mode": "markers",
         "name": "Hydrogen",
         "showlegend": false,
         "subplot": "ternary",
         "text": [
          "2050"
         ],
         "textfont": {
          "color": [
           "saddlebrown",
           "peru"
          ],
          "size": 1
         },
         "type": "scatterternary"
        },
        {
         "a": [
          0.2343344943898626
         ],
         "b": [
          0.575025023677217
         ],
         "c": [
          0.1906404819329203
         ],
         "mode": "text",
         "showlegend": false,
         "subplot": "ternary",
         "text": [
          "⛮"
         ],
         "textfont": {
          "color": "saddlebrown",
          "size": 28
         },
         "type": "scatterternary"
        },
        {
         "a": [
          0.3100261000584045
         ],
         "b": [
          0.49358031362804855
         ],
         "c": [
          0.196393586313547
         ],
         "hovertemplate": "%{text}<br>Var (climate): %{a}<br>Var (model): %{b} <br>Var (other): %{c}",
         "line": {
          "width": 1.5
         },
         "marker": {
          "color": "peru",
          "line": {
           "color": "black",
           "width": 1
          },
          "opacity": 1,
          "size": 0.1,
          "symbol": "circle"
         },
         "mode": "markers",
         "name": "Hydrogen (fr)",
         "showlegend": false,
         "subplot": "ternary",
         "text": [
          "2050"
         ],
         "textfont": {
          "color": [
           "saddlebrown",
           "peru"
          ],
          "size": 1
         },
         "type": "scatterternary"
        },
        {
         "a": [
          0.3100261000584045
         ],
         "b": [
          0.49358031362804855
         ],
         "c": [
          0.196393586313547
         ],
         "mode": "text",
         "showlegend": false,
         "subplot": "ternary",
         "text": [
          "⛮"
         ],
         "textfont": {
          "color": "peru",
          "size": 28
         },
         "type": "scatterternary"
        },
        {
         "a": [
          0.2343344943898626,
          0.3100261000584045
         ],
         "b": [
          0.575025023677217,
          0.49358031362804855
         ],
         "c": [
          0.1906404819329203,
          0.196393586313547
         ],
         "hoverinfo": "skip",
         "line": {
          "color": "saddlebrown",
          "dash": "dot",
          "width": 2
         },
         "mode": "lines",
         "showlegend": false,
         "subplot": "ternary",
         "text": "",
         "type": "scatterternary"
        },
        {
         "a": [
          0.1297442093136013
         ],
         "b": [
          0.5796705826602158
         ],
         "c": [
          0.2905852080261832
         ],
         "hovertemplate": "%{text}<br>Var (climate): %{a}<br>Var (model): %{b} <br>Var (other): %{c}",
         "line": {
          "width": 1.5
         },
         "marker": {
          "color": "teal",
          "line": {
           "color": "black",
           "width": 1
          },
          "opacity": 1,
          "size": 0.1,
          "symbol": "circle"
         },
         "mode": "markers",
         "name": "Gases",
         "showlegend": false,
         "subplot": "ternary",
         "text": [
          "2050"
         ],
         "textfont": {
          "color": [
           "teal",
           "darkturquoise"
          ],
          "size": 1
         },
         "type": "scatterternary"
        },
        {
         "a": [
          0.1297442093136013
         ],
         "b": [
          0.5796705826602158
         ],
         "c": [
          0.2905852080261832
         ],
         "mode": "text",
         "showlegend": false,
         "subplot": "ternary",
         "text": [
          "⛟"
         ],
         "textfont": {
          "color": "teal",
          "size": 28
         },
         "type": "scatterternary"
        },
        {
         "a": [
          0.1945822312943642
         ],
         "b": [
          0.5545058605147529
         ],
         "c": [
          0.250911908190883
         ],
         "hovertemplate": "%{text}<br>Var (climate): %{a}<br>Var (model): %{b} <br>Var (other): %{c}",
         "line": {
          "width": 1.5
         },
         "marker": {
          "color": "darkturquoise",
          "line": {
           "color": "black",
           "width": 1
          },
          "opacity": 1,
          "size": 0.1,
          "symbol": "circle"
         },
         "mode": "markers",
         "name": "Gases (fr)",
         "showlegend": false,
         "subplot": "ternary",
         "text": [
          "2050"
         ],
         "textfont": {
          "color": [
           "teal",
           "darkturquoise"
          ],
          "size": 1
         },
         "type": "scatterternary"
        },
        {
         "a": [
          0.1945822312943642
         ],
         "b": [
          0.5545058605147529
         ],
         "c": [
          0.250911908190883
         ],
         "mode": "text",
         "showlegend": false,
         "subplot": "ternary",
         "text": [
          "⛟"
         ],
         "textfont": {
          "color": "darkturquoise",
          "size": 28
         },
         "type": "scatterternary"
        },
        {
         "a": [
          0.1297442093136013,
          0.1945822312943642
         ],
         "b": [
          0.5796705826602158,
          0.5545058605147529
         ],
         "c": [
          0.2905852080261832,
          0.250911908190883
         ],
         "hoverinfo": "skip",
         "line": {
          "color": "teal",
          "dash": "dot",
          "width": 2
         },
         "mode": "lines",
         "showlegend": false,
         "subplot": "ternary",
         "text": "",
         "type": "scatterternary"
        },
        {
         "a": [
          0.16624763880515403
         ],
         "b": [
          0.6978959981665555
         ],
         "c": [
          0.13585636302829063
         ],
         "hovertemplate": "%{text}<br>Var (climate): %{a}<br>Var (model): %{b} <br>Var (other): %{c}",
         "line": {
          "width": 1.5
         },
         "marker": {
          "color": "teal",
          "line": {
           "color": "black",
           "width": 1
          },
          "opacity": 1,
          "size": 0.1,
          "symbol": "circle"
         },
         "mode": "markers",
         "name": "Bioenergy",
         "showlegend": false,
         "subplot": "ternary",
         "text": [
          "2050"
         ],
         "textfont": {
          "color": [
           "teal",
           "darkturquoise"
          ],
          "size": 1
         },
         "type": "scatterternary"
        },
        {
         "a": [
          0.16624763880515403
         ],
         "b": [
          0.6978959981665555
         ],
         "c": [
          0.13585636302829063
         ],
         "mode": "text",
         "showlegend": false,
         "subplot": "ternary",
         "text": [
          "⛟"
         ],
         "textfont": {
          "color": "teal",
          "size": 28
         },
         "type": "scatterternary"
        },
        {
         "a": [
          0.3274850741571988
         ],
         "b": [
          0.5192909247885006
         ],
         "c": [
          0.15322400105430078
         ],
         "hovertemplate": "%{text}<br>Var (climate): %{a}<br>Var (model): %{b} <br>Var (other): %{c}",
         "line": {
          "width": 1.5
         },
         "marker": {
          "color": "darkturquoise",
          "line": {
           "color": "black",
           "width": 1
          },
          "opacity": 1,
          "size": 0.1,
          "symbol": "circle"
         },
         "mode": "markers",
         "name": "Bioenergy (fr)",
         "showlegend": false,
         "subplot": "ternary",
         "text": [
          "2050"
         ],
         "textfont": {
          "color": [
           "teal",
           "darkturquoise"
          ],
          "size": 1
         },
         "type": "scatterternary"
        },
        {
         "a": [
          0.3274850741571988
         ],
         "b": [
          0.5192909247885006
         ],
         "c": [
          0.15322400105430078
         ],
         "mode": "text",
         "showlegend": false,
         "subplot": "ternary",
         "text": [
          "⛟"
         ],
         "textfont": {
          "color": "darkturquoise",
          "size": 28
         },
         "type": "scatterternary"
        },
        {
         "a": [
          0.16624763880515403,
          0.3274850741571988
         ],
         "b": [
          0.6978959981665555,
          0.5192909247885006
         ],
         "c": [
          0.13585636302829063,
          0.15322400105430078
         ],
         "hoverinfo": "skip",
         "line": {
          "color": "teal",
          "dash": "dot",
          "width": 2
         },
         "mode": "lines",
         "showlegend": false,
         "subplot": "ternary",
         "text": "",
         "type": "scatterternary"
        },
        {
         "a": [
          0.5213350166340948
         ],
         "b": [
          0.345131706859677
         ],
         "c": [
          0.13353327650622834
         ],
         "hovertemplate": "%{text}<br>Var (climate): %{a}<br>Var (model): %{b} <br>Var (other): %{c}",
         "line": {
          "width": 1.5
         },
         "marker": {
          "color": "teal",
          "line": {
           "color": "black",
           "width": 1
          },
          "opacity": 1,
          "size": 0.1,
          "symbol": "circle"
         },
         "mode": "markers",
         "name": "Oil",
         "showlegend": false,
         "subplot": "ternary",
         "text": [
          "2050"
         ],
         "textfont": {
          "color": [
           "teal",
           "darkturquoise"
          ],
          "size": 1
         },
         "type": "scatterternary"
        },
        {
         "a": [
          0.5213350166340948
         ],
         "b": [
          0.345131706859677
         ],
         "c": [
          0.13353327650622834
         ],
         "mode": "text",
         "showlegend": false,
         "subplot": "ternary",
         "text": [
          "⛟"
         ],
         "textfont": {
          "color": "teal",
          "size": 28
         },
         "type": "scatterternary"
        },
        {
         "a": [
          0.5523439359516026
         ],
         "b": [
          0.2683602171587861
         ],
         "c": [
          0.17929584688961142
         ],
         "hovertemplate": "%{text}<br>Var (climate): %{a}<br>Var (model): %{b} <br>Var (other): %{c}",
         "line": {
          "width": 1.5
         },
         "marker": {
          "color": "darkturquoise",
          "line": {
           "color": "black",
           "width": 1
          },
          "opacity": 1,
          "size": 0.1,
          "symbol": "circle"
         },
         "mode": "markers",
         "name": "Oil (fr)",
         "showlegend": false,
         "subplot": "ternary",
         "text": [
          "2050"
         ],
         "textfont": {
          "color": [
           "teal",
           "darkturquoise"
          ],
          "size": 1
         },
         "type": "scatterternary"
        },
        {
         "a": [
          0.5523439359516026
         ],
         "b": [
          0.2683602171587861
         ],
         "c": [
          0.17929584688961142
         ],
         "mode": "text",
         "showlegend": false,
         "subplot": "ternary",
         "text": [
          "⛟"
         ],
         "textfont": {
          "color": "darkturquoise",
          "size": 28
         },
         "type": "scatterternary"
        },
        {
         "a": [
          0.5213350166340948,
          0.5523439359516026
         ],
         "b": [
          0.345131706859677,
          0.2683602171587861
         ],
         "c": [
          0.13353327650622834,
          0.17929584688961142
         ],
         "hoverinfo": "skip",
         "line": {
          "color": "teal",
          "dash": "dot",
          "width": 2
         },
         "mode": "lines",
         "showlegend": false,
         "subplot": "ternary",
         "text": "",
         "type": "scatterternary"
        },
        {
         "a": [
          0.17936085223389037
         ],
         "b": [
          0.4128860750437708
         ],
         "c": [
          0.407753072722339
         ],
         "hovertemplate": "%{text}<br>Var (climate): %{a}<br>Var (model): %{b} <br>Var (other): %{c}",
         "line": {
          "width": 1.5
         },
         "marker": {
          "color": "teal",
          "line": {
           "color": "black",
           "width": 1
          },
          "opacity": 1,
          "size": 0.1,
          "symbol": "circle"
         },
         "mode": "markers",
         "name": "Hydrogen",
         "showlegend": false,
         "subplot": "ternary",
         "text": [
          "2050"
         ],
         "textfont": {
          "color": [
           "teal",
           "darkturquoise"
          ],
          "size": 1
         },
         "type": "scatterternary"
        },
        {
         "a": [
          0.17936085223389037
         ],
         "b": [
          0.4128860750437708
         ],
         "c": [
          0.407753072722339
         ],
         "mode": "text",
         "showlegend": false,
         "subplot": "ternary",
         "text": [
          "⛟"
         ],
         "textfont": {
          "color": "teal",
          "size": 28
         },
         "type": "scatterternary"
        },
        {
         "a": [
          0.2228879981983159
         ],
         "b": [
          0.43014330132993983
         ],
         "c": [
          0.34696870047174433
         ],
         "hovertemplate": "%{text}<br>Var (climate): %{a}<br>Var (model): %{b} <br>Var (other): %{c}",
         "line": {
          "width": 1.5
         },
         "marker": {
          "color": "darkturquoise",
          "line": {
           "color": "black",
           "width": 1
          },
          "opacity": 1,
          "size": 0.1,
          "symbol": "circle"
         },
         "mode": "markers",
         "name": "Hydrogen (fr)",
         "showlegend": false,
         "subplot": "ternary",
         "text": [
          "2050"
         ],
         "textfont": {
          "color": [
           "teal",
           "darkturquoise"
          ],
          "size": 1
         },
         "type": "scatterternary"
        },
        {
         "a": [
          0.2228879981983159
         ],
         "b": [
          0.43014330132993983
         ],
         "c": [
          0.34696870047174433
         ],
         "mode": "text",
         "showlegend": false,
         "subplot": "ternary",
         "text": [
          "⛟"
         ],
         "textfont": {
          "color": "darkturquoise",
          "size": 28
         },
         "type": "scatterternary"
        },
        {
         "a": [
          0.17936085223389037,
          0.2228879981983159
         ],
         "b": [
          0.4128860750437708,
          0.43014330132993983
         ],
         "c": [
          0.407753072722339,
          0.34696870047174433
         ],
         "hoverinfo": "skip",
         "line": {
          "color": "teal",
          "dash": "dot",
          "width": 2
         },
         "mode": "lines",
         "showlegend": false,
         "subplot": "ternary",
         "text": "",
         "type": "scatterternary"
        },
        {
         "a": [
          0.23508532483772387
         ],
         "b": [
          0.5974927171218938
         ],
         "c": [
          0.1674219580403827
         ],
         "hovertemplate": "%{text}<br>Var (climate): %{a}<br>Var (model): %{b} <br>Var (other): %{c}",
         "line": {
          "width": 1.5
         },
         "marker": {
          "color": "teal",
          "line": {
           "color": "black",
           "width": 1
          },
          "opacity": 1,
          "size": 0.1,
          "symbol": "circle"
         },
         "mode": "markers",
         "name": "Electricity",
         "showlegend": false,
         "subplot": "ternary",
         "text": [
          "2050"
         ],
         "textfont": {
          "color": [
           "teal",
           "darkturquoise"
          ],
          "size": 1
         },
         "type": "scatterternary"
        },
        {
         "a": [
          0.23508532483772387
         ],
         "b": [
          0.5974927171218938
         ],
         "c": [
          0.1674219580403827
         ],
         "mode": "text",
         "showlegend": false,
         "subplot": "ternary",
         "text": [
          "⛟"
         ],
         "textfont": {
          "color": "teal",
          "size": 28
         },
         "type": "scatterternary"
        },
        {
         "a": [
          0.35960586902249964
         ],
         "b": [
          0.4116536038845167
         ],
         "c": [
          0.22874052709298362
         ],
         "hovertemplate": "%{text}<br>Var (climate): %{a}<br>Var (model): %{b} <br>Var (other): %{c}",
         "line": {
          "width": 1.5
         },
         "marker": {
          "color": "darkturquoise",
          "line": {
           "color": "black",
           "width": 1
          },
          "opacity": 1,
          "size": 0.1,
          "symbol": "circle"
         },
         "mode": "markers",
         "name": "Electricity (fr)",
         "showlegend": false,
         "subplot": "ternary",
         "text": [
          "2050"
         ],
         "textfont": {
          "color": [
           "teal",
           "darkturquoise"
          ],
          "size": 1
         },
         "type": "scatterternary"
        },
        {
         "a": [
          0.35960586902249964
         ],
         "b": [
          0.4116536038845167
         ],
         "c": [
          0.22874052709298362
         ],
         "mode": "text",
         "showlegend": false,
         "subplot": "ternary",
         "text": [
          "⛟"
         ],
         "textfont": {
          "color": "darkturquoise",
          "size": 28
         },
         "type": "scatterternary"
        },
        {
         "a": [
          0.23508532483772387,
          0.35960586902249964
         ],
         "b": [
          0.5974927171218938,
          0.4116536038845167
         ],
         "c": [
          0.1674219580403827,
          0.22874052709298362
         ],
         "hoverinfo": "skip",
         "line": {
          "color": "teal",
          "dash": "dot",
          "width": 2
         },
         "mode": "lines",
         "showlegend": false,
         "subplot": "ternary",
         "text": "",
         "type": "scatterternary"
        },
        {
         "a": [
          0.10174100521087613
         ],
         "b": [
          0.6056673926058026
         ],
         "c": [
          0.29259160218332125
         ],
         "hovertemplate": "%{text}<br>Var (climate): %{a}<br>Var (model): %{b} <br>Var (other): %{c}",
         "line": {
          "width": 1.5
         },
         "marker": {
          "color": "darkgrey",
          "line": {
           "color": "black",
           "width": 1
          },
          "opacity": 1,
          "size": 0.1,
          "symbol": "circle"
         },
         "mode": "markers",
         "name": "Biomass",
         "showlegend": false,
         "subplot": "ternary",
         "text": [
          "2050"
         ],
         "textfont": {
          "color": [
           "darkgrey",
           "silver"
          ],
          "size": 1
         },
         "type": "scatterternary"
        },
        {
         "a": [
          0.10174100521087613
         ],
         "b": [
          0.6056673926058026
         ],
         "c": [
          0.29259160218332125
         ],
         "mode": "text",
         "showlegend": false,
         "subplot": "ternary",
         "text": [
          "⌂"
         ],
         "textfont": {
          "color": "darkgrey",
          "size": 1
         },
         "type": "scatterternary"
        },
        {
         "a": [
          0.10174100521087613
         ],
         "b": [
          0.6056673926058026
         ],
         "c": [
          0.29259160218332125
         ],
         "mode": "text",
         "showlegend": false,
         "subplot": "ternary",
         "text": [
          "⌂"
         ],
         "textfont": {
          "color": "darkgrey",
          "size": 2
         },
         "type": "scatterternary"
        },
        {
         "a": [
          0.10174100521087613
         ],
         "b": [
          0.6056673926058026
         ],
         "c": [
          0.29259160218332125
         ],
         "mode": "text",
         "showlegend": false,
         "subplot": "ternary",
         "text": [
          "⌂"
         ],
         "textfont": {
          "color": "darkgrey",
          "size": 3
         },
         "type": "scatterternary"
        },
        {
         "a": [
          0.10174100521087613
         ],
         "b": [
          0.6056673926058026
         ],
         "c": [
          0.29259160218332125
         ],
         "mode": "text",
         "showlegend": false,
         "subplot": "ternary",
         "text": [
          "⌂"
         ],
         "textfont": {
          "color": "darkgrey",
          "size": 4
         },
         "type": "scatterternary"
        },
        {
         "a": [
          0.10174100521087613
         ],
         "b": [
          0.6056673926058026
         ],
         "c": [
          0.29259160218332125
         ],
         "mode": "text",
         "showlegend": false,
         "subplot": "ternary",
         "text": [
          "⌂"
         ],
         "textfont": {
          "color": "darkgrey",
          "size": 5
         },
         "type": "scatterternary"
        },
        {
         "a": [
          0.10174100521087613
         ],
         "b": [
          0.6056673926058026
         ],
         "c": [
          0.29259160218332125
         ],
         "mode": "text",
         "showlegend": false,
         "subplot": "ternary",
         "text": [
          "⌂"
         ],
         "textfont": {
          "color": "darkgrey",
          "size": 6
         },
         "type": "scatterternary"
        },
        {
         "a": [
          0.10174100521087613
         ],
         "b": [
          0.6056673926058026
         ],
         "c": [
          0.29259160218332125
         ],
         "mode": "text",
         "showlegend": false,
         "subplot": "ternary",
         "text": [
          "⌂"
         ],
         "textfont": {
          "color": "darkgrey",
          "size": 7
         },
         "type": "scatterternary"
        },
        {
         "a": [
          0.10174100521087613
         ],
         "b": [
          0.6056673926058026
         ],
         "c": [
          0.29259160218332125
         ],
         "mode": "text",
         "showlegend": false,
         "subplot": "ternary",
         "text": [
          "⌂"
         ],
         "textfont": {
          "color": "darkgrey",
          "size": 8
         },
         "type": "scatterternary"
        },
        {
         "a": [
          0.10174100521087613
         ],
         "b": [
          0.6056673926058026
         ],
         "c": [
          0.29259160218332125
         ],
         "mode": "text",
         "showlegend": false,
         "subplot": "ternary",
         "text": [
          "⌂"
         ],
         "textfont": {
          "color": "darkgrey",
          "size": 9
         },
         "type": "scatterternary"
        },
        {
         "a": [
          0.10174100521087613
         ],
         "b": [
          0.6056673926058026
         ],
         "c": [
          0.29259160218332125
         ],
         "mode": "text",
         "showlegend": false,
         "subplot": "ternary",
         "text": [
          "⌂"
         ],
         "textfont": {
          "color": "darkgrey",
          "size": 10
         },
         "type": "scatterternary"
        },
        {
         "a": [
          0.10174100521087613
         ],
         "b": [
          0.6056673926058026
         ],
         "c": [
          0.29259160218332125
         ],
         "mode": "text",
         "showlegend": false,
         "subplot": "ternary",
         "text": [
          "⌂"
         ],
         "textfont": {
          "color": "darkgrey",
          "size": 11
         },
         "type": "scatterternary"
        },
        {
         "a": [
          0.10174100521087613
         ],
         "b": [
          0.6056673926058026
         ],
         "c": [
          0.29259160218332125
         ],
         "mode": "text",
         "showlegend": false,
         "subplot": "ternary",
         "text": [
          "⌂"
         ],
         "textfont": {
          "color": "darkgrey",
          "size": 12
         },
         "type": "scatterternary"
        },
        {
         "a": [
          0.10174100521087613
         ],
         "b": [
          0.6056673926058026
         ],
         "c": [
          0.29259160218332125
         ],
         "mode": "text",
         "showlegend": false,
         "subplot": "ternary",
         "text": [
          "⌂"
         ],
         "textfont": {
          "color": "darkgrey",
          "size": 13
         },
         "type": "scatterternary"
        },
        {
         "a": [
          0.10174100521087613
         ],
         "b": [
          0.6056673926058026
         ],
         "c": [
          0.29259160218332125
         ],
         "mode": "text",
         "showlegend": false,
         "subplot": "ternary",
         "text": [
          "⌂"
         ],
         "textfont": {
          "color": "darkgrey",
          "size": 14
         },
         "type": "scatterternary"
        },
        {
         "a": [
          0.10174100521087613
         ],
         "b": [
          0.6056673926058026
         ],
         "c": [
          0.29259160218332125
         ],
         "mode": "text",
         "showlegend": false,
         "subplot": "ternary",
         "text": [
          "⌂"
         ],
         "textfont": {
          "color": "darkgrey",
          "size": 15
         },
         "type": "scatterternary"
        },
        {
         "a": [
          0.10174100521087613
         ],
         "b": [
          0.6056673926058026
         ],
         "c": [
          0.29259160218332125
         ],
         "mode": "text",
         "showlegend": false,
         "subplot": "ternary",
         "text": [
          "⌂"
         ],
         "textfont": {
          "color": "darkgrey",
          "size": 16
         },
         "type": "scatterternary"
        },
        {
         "a": [
          0.10174100521087613
         ],
         "b": [
          0.6056673926058026
         ],
         "c": [
          0.29259160218332125
         ],
         "mode": "text",
         "showlegend": false,
         "subplot": "ternary",
         "text": [
          "⌂"
         ],
         "textfont": {
          "color": "darkgrey",
          "size": 17
         },
         "type": "scatterternary"
        },
        {
         "a": [
          0.10174100521087613
         ],
         "b": [
          0.6056673926058026
         ],
         "c": [
          0.29259160218332125
         ],
         "mode": "text",
         "showlegend": false,
         "subplot": "ternary",
         "text": [
          "⌂"
         ],
         "textfont": {
          "color": "darkgrey",
          "size": 18
         },
         "type": "scatterternary"
        },
        {
         "a": [
          0.10174100521087613
         ],
         "b": [
          0.6056673926058026
         ],
         "c": [
          0.29259160218332125
         ],
         "mode": "text",
         "showlegend": false,
         "subplot": "ternary",
         "text": [
          "⌂"
         ],
         "textfont": {
          "color": "darkgrey",
          "size": 19
         },
         "type": "scatterternary"
        },
        {
         "a": [
          0.10174100521087613
         ],
         "b": [
          0.6056673926058026
         ],
         "c": [
          0.29259160218332125
         ],
         "mode": "text",
         "showlegend": false,
         "subplot": "ternary",
         "text": [
          "⌂"
         ],
         "textfont": {
          "color": "darkgrey",
          "size": 20
         },
         "type": "scatterternary"
        },
        {
         "a": [
          0.10174100521087613
         ],
         "b": [
          0.6056673926058026
         ],
         "c": [
          0.29259160218332125
         ],
         "mode": "text",
         "showlegend": false,
         "subplot": "ternary",
         "text": [
          "⌂"
         ],
         "textfont": {
          "color": "darkgrey",
          "size": 21
         },
         "type": "scatterternary"
        },
        {
         "a": [
          0.10174100521087613
         ],
         "b": [
          0.6056673926058026
         ],
         "c": [
          0.29259160218332125
         ],
         "mode": "text",
         "showlegend": false,
         "subplot": "ternary",
         "text": [
          "⌂"
         ],
         "textfont": {
          "color": "darkgrey",
          "size": 22
         },
         "type": "scatterternary"
        },
        {
         "a": [
          0.10174100521087613
         ],
         "b": [
          0.6056673926058026
         ],
         "c": [
          0.29259160218332125
         ],
         "mode": "text",
         "showlegend": false,
         "subplot": "ternary",
         "text": [
          "⌂"
         ],
         "textfont": {
          "color": "darkgrey",
          "size": 23
         },
         "type": "scatterternary"
        },
        {
         "a": [
          0.10174100521087613
         ],
         "b": [
          0.6056673926058026
         ],
         "c": [
          0.29259160218332125
         ],
         "mode": "text",
         "showlegend": false,
         "subplot": "ternary",
         "text": [
          "⌂"
         ],
         "textfont": {
          "color": "darkgrey",
          "size": 24
         },
         "type": "scatterternary"
        },
        {
         "a": [
          0.10174100521087613
         ],
         "b": [
          0.6056673926058026
         ],
         "c": [
          0.29259160218332125
         ],
         "mode": "text",
         "showlegend": false,
         "subplot": "ternary",
         "text": [
          "⌂"
         ],
         "textfont": {
          "color": "darkgrey",
          "size": 25
         },
         "type": "scatterternary"
        },
        {
         "a": [
          0.10174100521087613
         ],
         "b": [
          0.6056673926058026
         ],
         "c": [
          0.29259160218332125
         ],
         "mode": "text",
         "showlegend": false,
         "subplot": "ternary",
         "text": [
          "⌂"
         ],
         "textfont": {
          "color": "darkgrey",
          "size": 26
         },
         "type": "scatterternary"
        },
        {
         "a": [
          0.10174100521087613
         ],
         "b": [
          0.6056673926058026
         ],
         "c": [
          0.29259160218332125
         ],
         "mode": "text",
         "showlegend": false,
         "subplot": "ternary",
         "text": [
          "⌂"
         ],
         "textfont": {
          "color": "darkgrey",
          "size": 27
         },
         "type": "scatterternary"
        },
        {
         "a": [
          0.10174100521087613
         ],
         "b": [
          0.6056673926058026
         ],
         "c": [
          0.29259160218332125
         ],
         "mode": "text",
         "showlegend": false,
         "subplot": "ternary",
         "text": [
          "⌂"
         ],
         "textfont": {
          "color": "darkgrey",
          "size": 28
         },
         "type": "scatterternary"
        },
        {
         "a": [
          0.10174100521087613
         ],
         "b": [
          0.6056673926058026
         ],
         "c": [
          0.29259160218332125
         ],
         "mode": "text",
         "showlegend": false,
         "subplot": "ternary",
         "text": [
          "⌂"
         ],
         "textfont": {
          "color": "darkgrey",
          "size": 29
         },
         "type": "scatterternary"
        },
        {
         "a": [
          0.12370908981340595
         ],
         "b": [
          0.5748186210283038
         ],
         "c": [
          0.30147228915829044
         ],
         "hovertemplate": "%{text}<br>Var (climate): %{a}<br>Var (model): %{b} <br>Var (other): %{c}",
         "line": {
          "width": 1.5
         },
         "marker": {
          "color": "silver",
          "line": {
           "color": "black",
           "width": 1
          },
          "opacity": 1,
          "size": 0.1,
          "symbol": "circle"
         },
         "mode": "markers",
         "name": "Biomass (fr)",
         "showlegend": false,
         "subplot": "ternary",
         "text": [
          "2050"
         ],
         "textfont": {
          "color": [
           "darkgrey",
           "silver"
          ],
          "size": 1
         },
         "type": "scatterternary"
        },
        {
         "a": [
          0.12370908981340595
         ],
         "b": [
          0.5748186210283038
         ],
         "c": [
          0.30147228915829044
         ],
         "mode": "text",
         "showlegend": false,
         "subplot": "ternary",
         "text": [
          "⌂"
         ],
         "textfont": {
          "color": "silver",
          "size": 1
         },
         "type": "scatterternary"
        },
        {
         "a": [
          0.12370908981340595
         ],
         "b": [
          0.5748186210283038
         ],
         "c": [
          0.30147228915829044
         ],
         "mode": "text",
         "showlegend": false,
         "subplot": "ternary",
         "text": [
          "⌂"
         ],
         "textfont": {
          "color": "silver",
          "size": 2
         },
         "type": "scatterternary"
        },
        {
         "a": [
          0.12370908981340595
         ],
         "b": [
          0.5748186210283038
         ],
         "c": [
          0.30147228915829044
         ],
         "mode": "text",
         "showlegend": false,
         "subplot": "ternary",
         "text": [
          "⌂"
         ],
         "textfont": {
          "color": "silver",
          "size": 3
         },
         "type": "scatterternary"
        },
        {
         "a": [
          0.12370908981340595
         ],
         "b": [
          0.5748186210283038
         ],
         "c": [
          0.30147228915829044
         ],
         "mode": "text",
         "showlegend": false,
         "subplot": "ternary",
         "text": [
          "⌂"
         ],
         "textfont": {
          "color": "silver",
          "size": 4
         },
         "type": "scatterternary"
        },
        {
         "a": [
          0.12370908981340595
         ],
         "b": [
          0.5748186210283038
         ],
         "c": [
          0.30147228915829044
         ],
         "mode": "text",
         "showlegend": false,
         "subplot": "ternary",
         "text": [
          "⌂"
         ],
         "textfont": {
          "color": "silver",
          "size": 5
         },
         "type": "scatterternary"
        },
        {
         "a": [
          0.12370908981340595
         ],
         "b": [
          0.5748186210283038
         ],
         "c": [
          0.30147228915829044
         ],
         "mode": "text",
         "showlegend": false,
         "subplot": "ternary",
         "text": [
          "⌂"
         ],
         "textfont": {
          "color": "silver",
          "size": 6
         },
         "type": "scatterternary"
        },
        {
         "a": [
          0.12370908981340595
         ],
         "b": [
          0.5748186210283038
         ],
         "c": [
          0.30147228915829044
         ],
         "mode": "text",
         "showlegend": false,
         "subplot": "ternary",
         "text": [
          "⌂"
         ],
         "textfont": {
          "color": "silver",
          "size": 7
         },
         "type": "scatterternary"
        },
        {
         "a": [
          0.12370908981340595
         ],
         "b": [
          0.5748186210283038
         ],
         "c": [
          0.30147228915829044
         ],
         "mode": "text",
         "showlegend": false,
         "subplot": "ternary",
         "text": [
          "⌂"
         ],
         "textfont": {
          "color": "silver",
          "size": 8
         },
         "type": "scatterternary"
        },
        {
         "a": [
          0.12370908981340595
         ],
         "b": [
          0.5748186210283038
         ],
         "c": [
          0.30147228915829044
         ],
         "mode": "text",
         "showlegend": false,
         "subplot": "ternary",
         "text": [
          "⌂"
         ],
         "textfont": {
          "color": "silver",
          "size": 9
         },
         "type": "scatterternary"
        },
        {
         "a": [
          0.12370908981340595
         ],
         "b": [
          0.5748186210283038
         ],
         "c": [
          0.30147228915829044
         ],
         "mode": "text",
         "showlegend": false,
         "subplot": "ternary",
         "text": [
          "⌂"
         ],
         "textfont": {
          "color": "silver",
          "size": 10
         },
         "type": "scatterternary"
        },
        {
         "a": [
          0.12370908981340595
         ],
         "b": [
          0.5748186210283038
         ],
         "c": [
          0.30147228915829044
         ],
         "mode": "text",
         "showlegend": false,
         "subplot": "ternary",
         "text": [
          "⌂"
         ],
         "textfont": {
          "color": "silver",
          "size": 11
         },
         "type": "scatterternary"
        },
        {
         "a": [
          0.12370908981340595
         ],
         "b": [
          0.5748186210283038
         ],
         "c": [
          0.30147228915829044
         ],
         "mode": "text",
         "showlegend": false,
         "subplot": "ternary",
         "text": [
          "⌂"
         ],
         "textfont": {
          "color": "silver",
          "size": 12
         },
         "type": "scatterternary"
        },
        {
         "a": [
          0.12370908981340595
         ],
         "b": [
          0.5748186210283038
         ],
         "c": [
          0.30147228915829044
         ],
         "mode": "text",
         "showlegend": false,
         "subplot": "ternary",
         "text": [
          "⌂"
         ],
         "textfont": {
          "color": "silver",
          "size": 13
         },
         "type": "scatterternary"
        },
        {
         "a": [
          0.12370908981340595
         ],
         "b": [
          0.5748186210283038
         ],
         "c": [
          0.30147228915829044
         ],
         "mode": "text",
         "showlegend": false,
         "subplot": "ternary",
         "text": [
          "⌂"
         ],
         "textfont": {
          "color": "silver",
          "size": 14
         },
         "type": "scatterternary"
        },
        {
         "a": [
          0.12370908981340595
         ],
         "b": [
          0.5748186210283038
         ],
         "c": [
          0.30147228915829044
         ],
         "mode": "text",
         "showlegend": false,
         "subplot": "ternary",
         "text": [
          "⌂"
         ],
         "textfont": {
          "color": "silver",
          "size": 15
         },
         "type": "scatterternary"
        },
        {
         "a": [
          0.12370908981340595
         ],
         "b": [
          0.5748186210283038
         ],
         "c": [
          0.30147228915829044
         ],
         "mode": "text",
         "showlegend": false,
         "subplot": "ternary",
         "text": [
          "⌂"
         ],
         "textfont": {
          "color": "silver",
          "size": 16
         },
         "type": "scatterternary"
        },
        {
         "a": [
          0.12370908981340595
         ],
         "b": [
          0.5748186210283038
         ],
         "c": [
          0.30147228915829044
         ],
         "mode": "text",
         "showlegend": false,
         "subplot": "ternary",
         "text": [
          "⌂"
         ],
         "textfont": {
          "color": "silver",
          "size": 17
         },
         "type": "scatterternary"
        },
        {
         "a": [
          0.12370908981340595
         ],
         "b": [
          0.5748186210283038
         ],
         "c": [
          0.30147228915829044
         ],
         "mode": "text",
         "showlegend": false,
         "subplot": "ternary",
         "text": [
          "⌂"
         ],
         "textfont": {
          "color": "silver",
          "size": 18
         },
         "type": "scatterternary"
        },
        {
         "a": [
          0.12370908981340595
         ],
         "b": [
          0.5748186210283038
         ],
         "c": [
          0.30147228915829044
         ],
         "mode": "text",
         "showlegend": false,
         "subplot": "ternary",
         "text": [
          "⌂"
         ],
         "textfont": {
          "color": "silver",
          "size": 19
         },
         "type": "scatterternary"
        },
        {
         "a": [
          0.12370908981340595
         ],
         "b": [
          0.5748186210283038
         ],
         "c": [
          0.30147228915829044
         ],
         "mode": "text",
         "showlegend": false,
         "subplot": "ternary",
         "text": [
          "⌂"
         ],
         "textfont": {
          "color": "silver",
          "size": 20
         },
         "type": "scatterternary"
        },
        {
         "a": [
          0.12370908981340595
         ],
         "b": [
          0.5748186210283038
         ],
         "c": [
          0.30147228915829044
         ],
         "mode": "text",
         "showlegend": false,
         "subplot": "ternary",
         "text": [
          "⌂"
         ],
         "textfont": {
          "color": "silver",
          "size": 21
         },
         "type": "scatterternary"
        },
        {
         "a": [
          0.12370908981340595
         ],
         "b": [
          0.5748186210283038
         ],
         "c": [
          0.30147228915829044
         ],
         "mode": "text",
         "showlegend": false,
         "subplot": "ternary",
         "text": [
          "⌂"
         ],
         "textfont": {
          "color": "silver",
          "size": 22
         },
         "type": "scatterternary"
        },
        {
         "a": [
          0.12370908981340595
         ],
         "b": [
          0.5748186210283038
         ],
         "c": [
          0.30147228915829044
         ],
         "mode": "text",
         "showlegend": false,
         "subplot": "ternary",
         "text": [
          "⌂"
         ],
         "textfont": {
          "color": "silver",
          "size": 23
         },
         "type": "scatterternary"
        },
        {
         "a": [
          0.12370908981340595
         ],
         "b": [
          0.5748186210283038
         ],
         "c": [
          0.30147228915829044
         ],
         "mode": "text",
         "showlegend": false,
         "subplot": "ternary",
         "text": [
          "⌂"
         ],
         "textfont": {
          "color": "silver",
          "size": 24
         },
         "type": "scatterternary"
        },
        {
         "a": [
          0.12370908981340595
         ],
         "b": [
          0.5748186210283038
         ],
         "c": [
          0.30147228915829044
         ],
         "mode": "text",
         "showlegend": false,
         "subplot": "ternary",
         "text": [
          "⌂"
         ],
         "textfont": {
          "color": "silver",
          "size": 25
         },
         "type": "scatterternary"
        },
        {
         "a": [
          0.12370908981340595
         ],
         "b": [
          0.5748186210283038
         ],
         "c": [
          0.30147228915829044
         ],
         "mode": "text",
         "showlegend": false,
         "subplot": "ternary",
         "text": [
          "⌂"
         ],
         "textfont": {
          "color": "silver",
          "size": 26
         },
         "type": "scatterternary"
        },
        {
         "a": [
          0.12370908981340595
         ],
         "b": [
          0.5748186210283038
         ],
         "c": [
          0.30147228915829044
         ],
         "mode": "text",
         "showlegend": false,
         "subplot": "ternary",
         "text": [
          "⌂"
         ],
         "textfont": {
          "color": "silver",
          "size": 27
         },
         "type": "scatterternary"
        },
        {
         "a": [
          0.12370908981340595
         ],
         "b": [
          0.5748186210283038
         ],
         "c": [
          0.30147228915829044
         ],
         "mode": "text",
         "showlegend": false,
         "subplot": "ternary",
         "text": [
          "⌂"
         ],
         "textfont": {
          "color": "silver",
          "size": 28
         },
         "type": "scatterternary"
        },
        {
         "a": [
          0.12370908981340595
         ],
         "b": [
          0.5748186210283038
         ],
         "c": [
          0.30147228915829044
         ],
         "mode": "text",
         "showlegend": false,
         "subplot": "ternary",
         "text": [
          "⌂"
         ],
         "textfont": {
          "color": "silver",
          "size": 29
         },
         "type": "scatterternary"
        },
        {
         "a": [
          0.10174100521087613,
          0.12370908981340595
         ],
         "b": [
          0.6056673926058026,
          0.5748186210283038
         ],
         "c": [
          0.29259160218332125,
          0.30147228915829044
         ],
         "hoverinfo": "skip",
         "line": {
          "color": "darkgrey",
          "dash": "dot",
          "width": 2
         },
         "mode": "lines",
         "showlegend": false,
         "subplot": "ternary",
         "text": "",
         "type": "scatterternary"
        },
        {
         "a": [
          0.22817577556053414
         ],
         "b": [
          0.6355738933127165
         ],
         "c": [
          0.1362503311267492
         ],
         "hovertemplate": "%{text}<br>Var (climate): %{a}<br>Var (model): %{b} <br>Var (other): %{c}",
         "line": {
          "width": 1.5
         },
         "marker": {
          "color": "darkgrey",
          "line": {
           "color": "black",
           "width": 1
          },
          "opacity": 1,
          "size": 0.1,
          "symbol": "circle"
         },
         "mode": "markers",
         "name": "Liquids",
         "showlegend": false,
         "subplot": "ternary",
         "text": [
          "2050"
         ],
         "textfont": {
          "color": [
           "darkgrey",
           "silver"
          ],
          "size": 1
         },
         "type": "scatterternary"
        },
        {
         "a": [
          0.22817577556053414
         ],
         "b": [
          0.6355738933127165
         ],
         "c": [
          0.1362503311267492
         ],
         "mode": "text",
         "showlegend": false,
         "subplot": "ternary",
         "text": [
          "⌂"
         ],
         "textfont": {
          "color": "darkgrey",
          "size": 1
         },
         "type": "scatterternary"
        },
        {
         "a": [
          0.22817577556053414
         ],
         "b": [
          0.6355738933127165
         ],
         "c": [
          0.1362503311267492
         ],
         "mode": "text",
         "showlegend": false,
         "subplot": "ternary",
         "text": [
          "⌂"
         ],
         "textfont": {
          "color": "darkgrey",
          "size": 2
         },
         "type": "scatterternary"
        },
        {
         "a": [
          0.22817577556053414
         ],
         "b": [
          0.6355738933127165
         ],
         "c": [
          0.1362503311267492
         ],
         "mode": "text",
         "showlegend": false,
         "subplot": "ternary",
         "text": [
          "⌂"
         ],
         "textfont": {
          "color": "darkgrey",
          "size": 3
         },
         "type": "scatterternary"
        },
        {
         "a": [
          0.22817577556053414
         ],
         "b": [
          0.6355738933127165
         ],
         "c": [
          0.1362503311267492
         ],
         "mode": "text",
         "showlegend": false,
         "subplot": "ternary",
         "text": [
          "⌂"
         ],
         "textfont": {
          "color": "darkgrey",
          "size": 4
         },
         "type": "scatterternary"
        },
        {
         "a": [
          0.22817577556053414
         ],
         "b": [
          0.6355738933127165
         ],
         "c": [
          0.1362503311267492
         ],
         "mode": "text",
         "showlegend": false,
         "subplot": "ternary",
         "text": [
          "⌂"
         ],
         "textfont": {
          "color": "darkgrey",
          "size": 5
         },
         "type": "scatterternary"
        },
        {
         "a": [
          0.22817577556053414
         ],
         "b": [
          0.6355738933127165
         ],
         "c": [
          0.1362503311267492
         ],
         "mode": "text",
         "showlegend": false,
         "subplot": "ternary",
         "text": [
          "⌂"
         ],
         "textfont": {
          "color": "darkgrey",
          "size": 6
         },
         "type": "scatterternary"
        },
        {
         "a": [
          0.22817577556053414
         ],
         "b": [
          0.6355738933127165
         ],
         "c": [
          0.1362503311267492
         ],
         "mode": "text",
         "showlegend": false,
         "subplot": "ternary",
         "text": [
          "⌂"
         ],
         "textfont": {
          "color": "darkgrey",
          "size": 7
         },
         "type": "scatterternary"
        },
        {
         "a": [
          0.22817577556053414
         ],
         "b": [
          0.6355738933127165
         ],
         "c": [
          0.1362503311267492
         ],
         "mode": "text",
         "showlegend": false,
         "subplot": "ternary",
         "text": [
          "⌂"
         ],
         "textfont": {
          "color": "darkgrey",
          "size": 8
         },
         "type": "scatterternary"
        },
        {
         "a": [
          0.22817577556053414
         ],
         "b": [
          0.6355738933127165
         ],
         "c": [
          0.1362503311267492
         ],
         "mode": "text",
         "showlegend": false,
         "subplot": "ternary",
         "text": [
          "⌂"
         ],
         "textfont": {
          "color": "darkgrey",
          "size": 9
         },
         "type": "scatterternary"
        },
        {
         "a": [
          0.22817577556053414
         ],
         "b": [
          0.6355738933127165
         ],
         "c": [
          0.1362503311267492
         ],
         "mode": "text",
         "showlegend": false,
         "subplot": "ternary",
         "text": [
          "⌂"
         ],
         "textfont": {
          "color": "darkgrey",
          "size": 10
         },
         "type": "scatterternary"
        },
        {
         "a": [
          0.22817577556053414
         ],
         "b": [
          0.6355738933127165
         ],
         "c": [
          0.1362503311267492
         ],
         "mode": "text",
         "showlegend": false,
         "subplot": "ternary",
         "text": [
          "⌂"
         ],
         "textfont": {
          "color": "darkgrey",
          "size": 11
         },
         "type": "scatterternary"
        },
        {
         "a": [
          0.22817577556053414
         ],
         "b": [
          0.6355738933127165
         ],
         "c": [
          0.1362503311267492
         ],
         "mode": "text",
         "showlegend": false,
         "subplot": "ternary",
         "text": [
          "⌂"
         ],
         "textfont": {
          "color": "darkgrey",
          "size": 12
         },
         "type": "scatterternary"
        },
        {
         "a": [
          0.22817577556053414
         ],
         "b": [
          0.6355738933127165
         ],
         "c": [
          0.1362503311267492
         ],
         "mode": "text",
         "showlegend": false,
         "subplot": "ternary",
         "text": [
          "⌂"
         ],
         "textfont": {
          "color": "darkgrey",
          "size": 13
         },
         "type": "scatterternary"
        },
        {
         "a": [
          0.22817577556053414
         ],
         "b": [
          0.6355738933127165
         ],
         "c": [
          0.1362503311267492
         ],
         "mode": "text",
         "showlegend": false,
         "subplot": "ternary",
         "text": [
          "⌂"
         ],
         "textfont": {
          "color": "darkgrey",
          "size": 14
         },
         "type": "scatterternary"
        },
        {
         "a": [
          0.22817577556053414
         ],
         "b": [
          0.6355738933127165
         ],
         "c": [
          0.1362503311267492
         ],
         "mode": "text",
         "showlegend": false,
         "subplot": "ternary",
         "text": [
          "⌂"
         ],
         "textfont": {
          "color": "darkgrey",
          "size": 15
         },
         "type": "scatterternary"
        },
        {
         "a": [
          0.22817577556053414
         ],
         "b": [
          0.6355738933127165
         ],
         "c": [
          0.1362503311267492
         ],
         "mode": "text",
         "showlegend": false,
         "subplot": "ternary",
         "text": [
          "⌂"
         ],
         "textfont": {
          "color": "darkgrey",
          "size": 16
         },
         "type": "scatterternary"
        },
        {
         "a": [
          0.22817577556053414
         ],
         "b": [
          0.6355738933127165
         ],
         "c": [
          0.1362503311267492
         ],
         "mode": "text",
         "showlegend": false,
         "subplot": "ternary",
         "text": [
          "⌂"
         ],
         "textfont": {
          "color": "darkgrey",
          "size": 17
         },
         "type": "scatterternary"
        },
        {
         "a": [
          0.22817577556053414
         ],
         "b": [
          0.6355738933127165
         ],
         "c": [
          0.1362503311267492
         ],
         "mode": "text",
         "showlegend": false,
         "subplot": "ternary",
         "text": [
          "⌂"
         ],
         "textfont": {
          "color": "darkgrey",
          "size": 18
         },
         "type": "scatterternary"
        },
        {
         "a": [
          0.22817577556053414
         ],
         "b": [
          0.6355738933127165
         ],
         "c": [
          0.1362503311267492
         ],
         "mode": "text",
         "showlegend": false,
         "subplot": "ternary",
         "text": [
          "⌂"
         ],
         "textfont": {
          "color": "darkgrey",
          "size": 19
         },
         "type": "scatterternary"
        },
        {
         "a": [
          0.22817577556053414
         ],
         "b": [
          0.6355738933127165
         ],
         "c": [
          0.1362503311267492
         ],
         "mode": "text",
         "showlegend": false,
         "subplot": "ternary",
         "text": [
          "⌂"
         ],
         "textfont": {
          "color": "darkgrey",
          "size": 20
         },
         "type": "scatterternary"
        },
        {
         "a": [
          0.22817577556053414
         ],
         "b": [
          0.6355738933127165
         ],
         "c": [
          0.1362503311267492
         ],
         "mode": "text",
         "showlegend": false,
         "subplot": "ternary",
         "text": [
          "⌂"
         ],
         "textfont": {
          "color": "darkgrey",
          "size": 21
         },
         "type": "scatterternary"
        },
        {
         "a": [
          0.22817577556053414
         ],
         "b": [
          0.6355738933127165
         ],
         "c": [
          0.1362503311267492
         ],
         "mode": "text",
         "showlegend": false,
         "subplot": "ternary",
         "text": [
          "⌂"
         ],
         "textfont": {
          "color": "darkgrey",
          "size": 22
         },
         "type": "scatterternary"
        },
        {
         "a": [
          0.22817577556053414
         ],
         "b": [
          0.6355738933127165
         ],
         "c": [
          0.1362503311267492
         ],
         "mode": "text",
         "showlegend": false,
         "subplot": "ternary",
         "text": [
          "⌂"
         ],
         "textfont": {
          "color": "darkgrey",
          "size": 23
         },
         "type": "scatterternary"
        },
        {
         "a": [
          0.22817577556053414
         ],
         "b": [
          0.6355738933127165
         ],
         "c": [
          0.1362503311267492
         ],
         "mode": "text",
         "showlegend": false,
         "subplot": "ternary",
         "text": [
          "⌂"
         ],
         "textfont": {
          "color": "darkgrey",
          "size": 24
         },
         "type": "scatterternary"
        },
        {
         "a": [
          0.22817577556053414
         ],
         "b": [
          0.6355738933127165
         ],
         "c": [
          0.1362503311267492
         ],
         "mode": "text",
         "showlegend": false,
         "subplot": "ternary",
         "text": [
          "⌂"
         ],
         "textfont": {
          "color": "darkgrey",
          "size": 25
         },
         "type": "scatterternary"
        },
        {
         "a": [
          0.22817577556053414
         ],
         "b": [
          0.6355738933127165
         ],
         "c": [
          0.1362503311267492
         ],
         "mode": "text",
         "showlegend": false,
         "subplot": "ternary",
         "text": [
          "⌂"
         ],
         "textfont": {
          "color": "darkgrey",
          "size": 26
         },
         "type": "scatterternary"
        },
        {
         "a": [
          0.22817577556053414
         ],
         "b": [
          0.6355738933127165
         ],
         "c": [
          0.1362503311267492
         ],
         "mode": "text",
         "showlegend": false,
         "subplot": "ternary",
         "text": [
          "⌂"
         ],
         "textfont": {
          "color": "darkgrey",
          "size": 27
         },
         "type": "scatterternary"
        },
        {
         "a": [
          0.22817577556053414
         ],
         "b": [
          0.6355738933127165
         ],
         "c": [
          0.1362503311267492
         ],
         "mode": "text",
         "showlegend": false,
         "subplot": "ternary",
         "text": [
          "⌂"
         ],
         "textfont": {
          "color": "darkgrey",
          "size": 28
         },
         "type": "scatterternary"
        },
        {
         "a": [
          0.22817577556053414
         ],
         "b": [
          0.6355738933127165
         ],
         "c": [
          0.1362503311267492
         ],
         "mode": "text",
         "showlegend": false,
         "subplot": "ternary",
         "text": [
          "⌂"
         ],
         "textfont": {
          "color": "darkgrey",
          "size": 29
         },
         "type": "scatterternary"
        },
        {
         "a": [
          0.19255451527175949
         ],
         "b": [
          0.6231350020200557
         ],
         "c": [
          0.184310482708185
         ],
         "hovertemplate": "%{text}<br>Var (climate): %{a}<br>Var (model): %{b} <br>Var (other): %{c}",
         "line": {
          "width": 1.5
         },
         "marker": {
          "color": "silver",
          "line": {
           "color": "black",
           "width": 1
          },
          "opacity": 1,
          "size": 0.1,
          "symbol": "circle"
         },
         "mode": "markers",
         "name": "Liquids (fr)",
         "showlegend": false,
         "subplot": "ternary",
         "text": [
          "2050"
         ],
         "textfont": {
          "color": [
           "darkgrey",
           "silver"
          ],
          "size": 1
         },
         "type": "scatterternary"
        },
        {
         "a": [
          0.19255451527175949
         ],
         "b": [
          0.6231350020200557
         ],
         "c": [
          0.184310482708185
         ],
         "mode": "text",
         "showlegend": false,
         "subplot": "ternary",
         "text": [
          "⌂"
         ],
         "textfont": {
          "color": "silver",
          "size": 1
         },
         "type": "scatterternary"
        },
        {
         "a": [
          0.19255451527175949
         ],
         "b": [
          0.6231350020200557
         ],
         "c": [
          0.184310482708185
         ],
         "mode": "text",
         "showlegend": false,
         "subplot": "ternary",
         "text": [
          "⌂"
         ],
         "textfont": {
          "color": "silver",
          "size": 2
         },
         "type": "scatterternary"
        },
        {
         "a": [
          0.19255451527175949
         ],
         "b": [
          0.6231350020200557
         ],
         "c": [
          0.184310482708185
         ],
         "mode": "text",
         "showlegend": false,
         "subplot": "ternary",
         "text": [
          "⌂"
         ],
         "textfont": {
          "color": "silver",
          "size": 3
         },
         "type": "scatterternary"
        },
        {
         "a": [
          0.19255451527175949
         ],
         "b": [
          0.6231350020200557
         ],
         "c": [
          0.184310482708185
         ],
         "mode": "text",
         "showlegend": false,
         "subplot": "ternary",
         "text": [
          "⌂"
         ],
         "textfont": {
          "color": "silver",
          "size": 4
         },
         "type": "scatterternary"
        },
        {
         "a": [
          0.19255451527175949
         ],
         "b": [
          0.6231350020200557
         ],
         "c": [
          0.184310482708185
         ],
         "mode": "text",
         "showlegend": false,
         "subplot": "ternary",
         "text": [
          "⌂"
         ],
         "textfont": {
          "color": "silver",
          "size": 5
         },
         "type": "scatterternary"
        },
        {
         "a": [
          0.19255451527175949
         ],
         "b": [
          0.6231350020200557
         ],
         "c": [
          0.184310482708185
         ],
         "mode": "text",
         "showlegend": false,
         "subplot": "ternary",
         "text": [
          "⌂"
         ],
         "textfont": {
          "color": "silver",
          "size": 6
         },
         "type": "scatterternary"
        },
        {
         "a": [
          0.19255451527175949
         ],
         "b": [
          0.6231350020200557
         ],
         "c": [
          0.184310482708185
         ],
         "mode": "text",
         "showlegend": false,
         "subplot": "ternary",
         "text": [
          "⌂"
         ],
         "textfont": {
          "color": "silver",
          "size": 7
         },
         "type": "scatterternary"
        },
        {
         "a": [
          0.19255451527175949
         ],
         "b": [
          0.6231350020200557
         ],
         "c": [
          0.184310482708185
         ],
         "mode": "text",
         "showlegend": false,
         "subplot": "ternary",
         "text": [
          "⌂"
         ],
         "textfont": {
          "color": "silver",
          "size": 8
         },
         "type": "scatterternary"
        },
        {
         "a": [
          0.19255451527175949
         ],
         "b": [
          0.6231350020200557
         ],
         "c": [
          0.184310482708185
         ],
         "mode": "text",
         "showlegend": false,
         "subplot": "ternary",
         "text": [
          "⌂"
         ],
         "textfont": {
          "color": "silver",
          "size": 9
         },
         "type": "scatterternary"
        },
        {
         "a": [
          0.19255451527175949
         ],
         "b": [
          0.6231350020200557
         ],
         "c": [
          0.184310482708185
         ],
         "mode": "text",
         "showlegend": false,
         "subplot": "ternary",
         "text": [
          "⌂"
         ],
         "textfont": {
          "color": "silver",
          "size": 10
         },
         "type": "scatterternary"
        },
        {
         "a": [
          0.19255451527175949
         ],
         "b": [
          0.6231350020200557
         ],
         "c": [
          0.184310482708185
         ],
         "mode": "text",
         "showlegend": false,
         "subplot": "ternary",
         "text": [
          "⌂"
         ],
         "textfont": {
          "color": "silver",
          "size": 11
         },
         "type": "scatterternary"
        },
        {
         "a": [
          0.19255451527175949
         ],
         "b": [
          0.6231350020200557
         ],
         "c": [
          0.184310482708185
         ],
         "mode": "text",
         "showlegend": false,
         "subplot": "ternary",
         "text": [
          "⌂"
         ],
         "textfont": {
          "color": "silver",
          "size": 12
         },
         "type": "scatterternary"
        },
        {
         "a": [
          0.19255451527175949
         ],
         "b": [
          0.6231350020200557
         ],
         "c": [
          0.184310482708185
         ],
         "mode": "text",
         "showlegend": false,
         "subplot": "ternary",
         "text": [
          "⌂"
         ],
         "textfont": {
          "color": "silver",
          "size": 13
         },
         "type": "scatterternary"
        },
        {
         "a": [
          0.19255451527175949
         ],
         "b": [
          0.6231350020200557
         ],
         "c": [
          0.184310482708185
         ],
         "mode": "text",
         "showlegend": false,
         "subplot": "ternary",
         "text": [
          "⌂"
         ],
         "textfont": {
          "color": "silver",
          "size": 14
         },
         "type": "scatterternary"
        },
        {
         "a": [
          0.19255451527175949
         ],
         "b": [
          0.6231350020200557
         ],
         "c": [
          0.184310482708185
         ],
         "mode": "text",
         "showlegend": false,
         "subplot": "ternary",
         "text": [
          "⌂"
         ],
         "textfont": {
          "color": "silver",
          "size": 15
         },
         "type": "scatterternary"
        },
        {
         "a": [
          0.19255451527175949
         ],
         "b": [
          0.6231350020200557
         ],
         "c": [
          0.184310482708185
         ],
         "mode": "text",
         "showlegend": false,
         "subplot": "ternary",
         "text": [
          "⌂"
         ],
         "textfont": {
          "color": "silver",
          "size": 16
         },
         "type": "scatterternary"
        },
        {
         "a": [
          0.19255451527175949
         ],
         "b": [
          0.6231350020200557
         ],
         "c": [
          0.184310482708185
         ],
         "mode": "text",
         "showlegend": false,
         "subplot": "ternary",
         "text": [
          "⌂"
         ],
         "textfont": {
          "color": "silver",
          "size": 17
         },
         "type": "scatterternary"
        },
        {
         "a": [
          0.19255451527175949
         ],
         "b": [
          0.6231350020200557
         ],
         "c": [
          0.184310482708185
         ],
         "mode": "text",
         "showlegend": false,
         "subplot": "ternary",
         "text": [
          "⌂"
         ],
         "textfont": {
          "color": "silver",
          "size": 18
         },
         "type": "scatterternary"
        },
        {
         "a": [
          0.19255451527175949
         ],
         "b": [
          0.6231350020200557
         ],
         "c": [
          0.184310482708185
         ],
         "mode": "text",
         "showlegend": false,
         "subplot": "ternary",
         "text": [
          "⌂"
         ],
         "textfont": {
          "color": "silver",
          "size": 19
         },
         "type": "scatterternary"
        },
        {
         "a": [
          0.19255451527175949
         ],
         "b": [
          0.6231350020200557
         ],
         "c": [
          0.184310482708185
         ],
         "mode": "text",
         "showlegend": false,
         "subplot": "ternary",
         "text": [
          "⌂"
         ],
         "textfont": {
          "color": "silver",
          "size": 20
         },
         "type": "scatterternary"
        },
        {
         "a": [
          0.19255451527175949
         ],
         "b": [
          0.6231350020200557
         ],
         "c": [
          0.184310482708185
         ],
         "mode": "text",
         "showlegend": false,
         "subplot": "ternary",
         "text": [
          "⌂"
         ],
         "textfont": {
          "color": "silver",
          "size": 21
         },
         "type": "scatterternary"
        },
        {
         "a": [
          0.19255451527175949
         ],
         "b": [
          0.6231350020200557
         ],
         "c": [
          0.184310482708185
         ],
         "mode": "text",
         "showlegend": false,
         "subplot": "ternary",
         "text": [
          "⌂"
         ],
         "textfont": {
          "color": "silver",
          "size": 22
         },
         "type": "scatterternary"
        },
        {
         "a": [
          0.19255451527175949
         ],
         "b": [
          0.6231350020200557
         ],
         "c": [
          0.184310482708185
         ],
         "mode": "text",
         "showlegend": false,
         "subplot": "ternary",
         "text": [
          "⌂"
         ],
         "textfont": {
          "color": "silver",
          "size": 23
         },
         "type": "scatterternary"
        },
        {
         "a": [
          0.19255451527175949
         ],
         "b": [
          0.6231350020200557
         ],
         "c": [
          0.184310482708185
         ],
         "mode": "text",
         "showlegend": false,
         "subplot": "ternary",
         "text": [
          "⌂"
         ],
         "textfont": {
          "color": "silver",
          "size": 24
         },
         "type": "scatterternary"
        },
        {
         "a": [
          0.19255451527175949
         ],
         "b": [
          0.6231350020200557
         ],
         "c": [
          0.184310482708185
         ],
         "mode": "text",
         "showlegend": false,
         "subplot": "ternary",
         "text": [
          "⌂"
         ],
         "textfont": {
          "color": "silver",
          "size": 25
         },
         "type": "scatterternary"
        },
        {
         "a": [
          0.19255451527175949
         ],
         "b": [
          0.6231350020200557
         ],
         "c": [
          0.184310482708185
         ],
         "mode": "text",
         "showlegend": false,
         "subplot": "ternary",
         "text": [
          "⌂"
         ],
         "textfont": {
          "color": "silver",
          "size": 26
         },
         "type": "scatterternary"
        },
        {
         "a": [
          0.19255451527175949
         ],
         "b": [
          0.6231350020200557
         ],
         "c": [
          0.184310482708185
         ],
         "mode": "text",
         "showlegend": false,
         "subplot": "ternary",
         "text": [
          "⌂"
         ],
         "textfont": {
          "color": "silver",
          "size": 27
         },
         "type": "scatterternary"
        },
        {
         "a": [
          0.19255451527175949
         ],
         "b": [
          0.6231350020200557
         ],
         "c": [
          0.184310482708185
         ],
         "mode": "text",
         "showlegend": false,
         "subplot": "ternary",
         "text": [
          "⌂"
         ],
         "textfont": {
          "color": "silver",
          "size": 28
         },
         "type": "scatterternary"
        },
        {
         "a": [
          0.19255451527175949
         ],
         "b": [
          0.6231350020200557
         ],
         "c": [
          0.184310482708185
         ],
         "mode": "text",
         "showlegend": false,
         "subplot": "ternary",
         "text": [
          "⌂"
         ],
         "textfont": {
          "color": "silver",
          "size": 29
         },
         "type": "scatterternary"
        },
        {
         "a": [
          0.22817577556053414,
          0.19255451527175949
         ],
         "b": [
          0.6355738933127165,
          0.6231350020200557
         ],
         "c": [
          0.1362503311267492,
          0.184310482708185
         ],
         "hoverinfo": "skip",
         "line": {
          "color": "darkgrey",
          "dash": "dot",
          "width": 2
         },
         "mode": "lines",
         "showlegend": false,
         "subplot": "ternary",
         "text": "",
         "type": "scatterternary"
        },
        {
         "a": [
          0.5021249084858379
         ],
         "b": [
          0.42588960882155946
         ],
         "c": [
          0.07198548269260265
         ],
         "hovertemplate": "%{text}<br>Var (climate): %{a}<br>Var (model): %{b} <br>Var (other): %{c}",
         "line": {
          "width": 1.5
         },
         "marker": {
          "color": "darkgrey",
          "line": {
           "color": "black",
           "width": 1
          },
          "opacity": 1,
          "size": 0.1,
          "symbol": "circle"
         },
         "mode": "markers",
         "name": "Gases",
         "showlegend": false,
         "subplot": "ternary",
         "text": [
          "2050"
         ],
         "textfont": {
          "color": [
           "darkgrey",
           "silver"
          ],
          "size": 1
         },
         "type": "scatterternary"
        },
        {
         "a": [
          0.5021249084858379
         ],
         "b": [
          0.42588960882155946
         ],
         "c": [
          0.07198548269260265
         ],
         "mode": "text",
         "showlegend": false,
         "subplot": "ternary",
         "text": [
          "⌂"
         ],
         "textfont": {
          "color": "darkgrey",
          "size": 1
         },
         "type": "scatterternary"
        },
        {
         "a": [
          0.5021249084858379
         ],
         "b": [
          0.42588960882155946
         ],
         "c": [
          0.07198548269260265
         ],
         "mode": "text",
         "showlegend": false,
         "subplot": "ternary",
         "text": [
          "⌂"
         ],
         "textfont": {
          "color": "darkgrey",
          "size": 2
         },
         "type": "scatterternary"
        },
        {
         "a": [
          0.5021249084858379
         ],
         "b": [
          0.42588960882155946
         ],
         "c": [
          0.07198548269260265
         ],
         "mode": "text",
         "showlegend": false,
         "subplot": "ternary",
         "text": [
          "⌂"
         ],
         "textfont": {
          "color": "darkgrey",
          "size": 3
         },
         "type": "scatterternary"
        },
        {
         "a": [
          0.5021249084858379
         ],
         "b": [
          0.42588960882155946
         ],
         "c": [
          0.07198548269260265
         ],
         "mode": "text",
         "showlegend": false,
         "subplot": "ternary",
         "text": [
          "⌂"
         ],
         "textfont": {
          "color": "darkgrey",
          "size": 4
         },
         "type": "scatterternary"
        },
        {
         "a": [
          0.5021249084858379
         ],
         "b": [
          0.42588960882155946
         ],
         "c": [
          0.07198548269260265
         ],
         "mode": "text",
         "showlegend": false,
         "subplot": "ternary",
         "text": [
          "⌂"
         ],
         "textfont": {
          "color": "darkgrey",
          "size": 5
         },
         "type": "scatterternary"
        },
        {
         "a": [
          0.5021249084858379
         ],
         "b": [
          0.42588960882155946
         ],
         "c": [
          0.07198548269260265
         ],
         "mode": "text",
         "showlegend": false,
         "subplot": "ternary",
         "text": [
          "⌂"
         ],
         "textfont": {
          "color": "darkgrey",
          "size": 6
         },
         "type": "scatterternary"
        },
        {
         "a": [
          0.5021249084858379
         ],
         "b": [
          0.42588960882155946
         ],
         "c": [
          0.07198548269260265
         ],
         "mode": "text",
         "showlegend": false,
         "subplot": "ternary",
         "text": [
          "⌂"
         ],
         "textfont": {
          "color": "darkgrey",
          "size": 7
         },
         "type": "scatterternary"
        },
        {
         "a": [
          0.5021249084858379
         ],
         "b": [
          0.42588960882155946
         ],
         "c": [
          0.07198548269260265
         ],
         "mode": "text",
         "showlegend": false,
         "subplot": "ternary",
         "text": [
          "⌂"
         ],
         "textfont": {
          "color": "darkgrey",
          "size": 8
         },
         "type": "scatterternary"
        },
        {
         "a": [
          0.5021249084858379
         ],
         "b": [
          0.42588960882155946
         ],
         "c": [
          0.07198548269260265
         ],
         "mode": "text",
         "showlegend": false,
         "subplot": "ternary",
         "text": [
          "⌂"
         ],
         "textfont": {
          "color": "darkgrey",
          "size": 9
         },
         "type": "scatterternary"
        },
        {
         "a": [
          0.5021249084858379
         ],
         "b": [
          0.42588960882155946
         ],
         "c": [
          0.07198548269260265
         ],
         "mode": "text",
         "showlegend": false,
         "subplot": "ternary",
         "text": [
          "⌂"
         ],
         "textfont": {
          "color": "darkgrey",
          "size": 10
         },
         "type": "scatterternary"
        },
        {
         "a": [
          0.5021249084858379
         ],
         "b": [
          0.42588960882155946
         ],
         "c": [
          0.07198548269260265
         ],
         "mode": "text",
         "showlegend": false,
         "subplot": "ternary",
         "text": [
          "⌂"
         ],
         "textfont": {
          "color": "darkgrey",
          "size": 11
         },
         "type": "scatterternary"
        },
        {
         "a": [
          0.5021249084858379
         ],
         "b": [
          0.42588960882155946
         ],
         "c": [
          0.07198548269260265
         ],
         "mode": "text",
         "showlegend": false,
         "subplot": "ternary",
         "text": [
          "⌂"
         ],
         "textfont": {
          "color": "darkgrey",
          "size": 12
         },
         "type": "scatterternary"
        },
        {
         "a": [
          0.5021249084858379
         ],
         "b": [
          0.42588960882155946
         ],
         "c": [
          0.07198548269260265
         ],
         "mode": "text",
         "showlegend": false,
         "subplot": "ternary",
         "text": [
          "⌂"
         ],
         "textfont": {
          "color": "darkgrey",
          "size": 13
         },
         "type": "scatterternary"
        },
        {
         "a": [
          0.5021249084858379
         ],
         "b": [
          0.42588960882155946
         ],
         "c": [
          0.07198548269260265
         ],
         "mode": "text",
         "showlegend": false,
         "subplot": "ternary",
         "text": [
          "⌂"
         ],
         "textfont": {
          "color": "darkgrey",
          "size": 14
         },
         "type": "scatterternary"
        },
        {
         "a": [
          0.5021249084858379
         ],
         "b": [
          0.42588960882155946
         ],
         "c": [
          0.07198548269260265
         ],
         "mode": "text",
         "showlegend": false,
         "subplot": "ternary",
         "text": [
          "⌂"
         ],
         "textfont": {
          "color": "darkgrey",
          "size": 15
         },
         "type": "scatterternary"
        },
        {
         "a": [
          0.5021249084858379
         ],
         "b": [
          0.42588960882155946
         ],
         "c": [
          0.07198548269260265
         ],
         "mode": "text",
         "showlegend": false,
         "subplot": "ternary",
         "text": [
          "⌂"
         ],
         "textfont": {
          "color": "darkgrey",
          "size": 16
         },
         "type": "scatterternary"
        },
        {
         "a": [
          0.5021249084858379
         ],
         "b": [
          0.42588960882155946
         ],
         "c": [
          0.07198548269260265
         ],
         "mode": "text",
         "showlegend": false,
         "subplot": "ternary",
         "text": [
          "⌂"
         ],
         "textfont": {
          "color": "darkgrey",
          "size": 17
         },
         "type": "scatterternary"
        },
        {
         "a": [
          0.5021249084858379
         ],
         "b": [
          0.42588960882155946
         ],
         "c": [
          0.07198548269260265
         ],
         "mode": "text",
         "showlegend": false,
         "subplot": "ternary",
         "text": [
          "⌂"
         ],
         "textfont": {
          "color": "darkgrey",
          "size": 18
         },
         "type": "scatterternary"
        },
        {
         "a": [
          0.5021249084858379
         ],
         "b": [
          0.42588960882155946
         ],
         "c": [
          0.07198548269260265
         ],
         "mode": "text",
         "showlegend": false,
         "subplot": "ternary",
         "text": [
          "⌂"
         ],
         "textfont": {
          "color": "darkgrey",
          "size": 19
         },
         "type": "scatterternary"
        },
        {
         "a": [
          0.5021249084858379
         ],
         "b": [
          0.42588960882155946
         ],
         "c": [
          0.07198548269260265
         ],
         "mode": "text",
         "showlegend": false,
         "subplot": "ternary",
         "text": [
          "⌂"
         ],
         "textfont": {
          "color": "darkgrey",
          "size": 20
         },
         "type": "scatterternary"
        },
        {
         "a": [
          0.5021249084858379
         ],
         "b": [
          0.42588960882155946
         ],
         "c": [
          0.07198548269260265
         ],
         "mode": "text",
         "showlegend": false,
         "subplot": "ternary",
         "text": [
          "⌂"
         ],
         "textfont": {
          "color": "darkgrey",
          "size": 21
         },
         "type": "scatterternary"
        },
        {
         "a": [
          0.5021249084858379
         ],
         "b": [
          0.42588960882155946
         ],
         "c": [
          0.07198548269260265
         ],
         "mode": "text",
         "showlegend": false,
         "subplot": "ternary",
         "text": [
          "⌂"
         ],
         "textfont": {
          "color": "darkgrey",
          "size": 22
         },
         "type": "scatterternary"
        },
        {
         "a": [
          0.5021249084858379
         ],
         "b": [
          0.42588960882155946
         ],
         "c": [
          0.07198548269260265
         ],
         "mode": "text",
         "showlegend": false,
         "subplot": "ternary",
         "text": [
          "⌂"
         ],
         "textfont": {
          "color": "darkgrey",
          "size": 23
         },
         "type": "scatterternary"
        },
        {
         "a": [
          0.5021249084858379
         ],
         "b": [
          0.42588960882155946
         ],
         "c": [
          0.07198548269260265
         ],
         "mode": "text",
         "showlegend": false,
         "subplot": "ternary",
         "text": [
          "⌂"
         ],
         "textfont": {
          "color": "darkgrey",
          "size": 24
         },
         "type": "scatterternary"
        },
        {
         "a": [
          0.5021249084858379
         ],
         "b": [
          0.42588960882155946
         ],
         "c": [
          0.07198548269260265
         ],
         "mode": "text",
         "showlegend": false,
         "subplot": "ternary",
         "text": [
          "⌂"
         ],
         "textfont": {
          "color": "darkgrey",
          "size": 25
         },
         "type": "scatterternary"
        },
        {
         "a": [
          0.5021249084858379
         ],
         "b": [
          0.42588960882155946
         ],
         "c": [
          0.07198548269260265
         ],
         "mode": "text",
         "showlegend": false,
         "subplot": "ternary",
         "text": [
          "⌂"
         ],
         "textfont": {
          "color": "darkgrey",
          "size": 26
         },
         "type": "scatterternary"
        },
        {
         "a": [
          0.5021249084858379
         ],
         "b": [
          0.42588960882155946
         ],
         "c": [
          0.07198548269260265
         ],
         "mode": "text",
         "showlegend": false,
         "subplot": "ternary",
         "text": [
          "⌂"
         ],
         "textfont": {
          "color": "darkgrey",
          "size": 27
         },
         "type": "scatterternary"
        },
        {
         "a": [
          0.5021249084858379
         ],
         "b": [
          0.42588960882155946
         ],
         "c": [
          0.07198548269260265
         ],
         "mode": "text",
         "showlegend": false,
         "subplot": "ternary",
         "text": [
          "⌂"
         ],
         "textfont": {
          "color": "darkgrey",
          "size": 28
         },
         "type": "scatterternary"
        },
        {
         "a": [
          0.5021249084858379
         ],
         "b": [
          0.42588960882155946
         ],
         "c": [
          0.07198548269260265
         ],
         "mode": "text",
         "showlegend": false,
         "subplot": "ternary",
         "text": [
          "⌂"
         ],
         "textfont": {
          "color": "darkgrey",
          "size": 29
         },
         "type": "scatterternary"
        },
        {
         "a": [
          0.4240276116786835
         ],
         "b": [
          0.51193009196112
         ],
         "c": [
          0.06404229636019637
         ],
         "hovertemplate": "%{text}<br>Var (climate): %{a}<br>Var (model): %{b} <br>Var (other): %{c}",
         "line": {
          "width": 1.5
         },
         "marker": {
          "color": "silver",
          "line": {
           "color": "black",
           "width": 1
          },
          "opacity": 1,
          "size": 0.1,
          "symbol": "circle"
         },
         "mode": "markers",
         "name": "Gases (fr)",
         "showlegend": false,
         "subplot": "ternary",
         "text": [
          "2050"
         ],
         "textfont": {
          "color": [
           "darkgrey",
           "silver"
          ],
          "size": 1
         },
         "type": "scatterternary"
        },
        {
         "a": [
          0.4240276116786835
         ],
         "b": [
          0.51193009196112
         ],
         "c": [
          0.06404229636019637
         ],
         "mode": "text",
         "showlegend": false,
         "subplot": "ternary",
         "text": [
          "⌂"
         ],
         "textfont": {
          "color": "silver",
          "size": 1
         },
         "type": "scatterternary"
        },
        {
         "a": [
          0.4240276116786835
         ],
         "b": [
          0.51193009196112
         ],
         "c": [
          0.06404229636019637
         ],
         "mode": "text",
         "showlegend": false,
         "subplot": "ternary",
         "text": [
          "⌂"
         ],
         "textfont": {
          "color": "silver",
          "size": 2
         },
         "type": "scatterternary"
        },
        {
         "a": [
          0.4240276116786835
         ],
         "b": [
          0.51193009196112
         ],
         "c": [
          0.06404229636019637
         ],
         "mode": "text",
         "showlegend": false,
         "subplot": "ternary",
         "text": [
          "⌂"
         ],
         "textfont": {
          "color": "silver",
          "size": 3
         },
         "type": "scatterternary"
        },
        {
         "a": [
          0.4240276116786835
         ],
         "b": [
          0.51193009196112
         ],
         "c": [
          0.06404229636019637
         ],
         "mode": "text",
         "showlegend": false,
         "subplot": "ternary",
         "text": [
          "⌂"
         ],
         "textfont": {
          "color": "silver",
          "size": 4
         },
         "type": "scatterternary"
        },
        {
         "a": [
          0.4240276116786835
         ],
         "b": [
          0.51193009196112
         ],
         "c": [
          0.06404229636019637
         ],
         "mode": "text",
         "showlegend": false,
         "subplot": "ternary",
         "text": [
          "⌂"
         ],
         "textfont": {
          "color": "silver",
          "size": 5
         },
         "type": "scatterternary"
        },
        {
         "a": [
          0.4240276116786835
         ],
         "b": [
          0.51193009196112
         ],
         "c": [
          0.06404229636019637
         ],
         "mode": "text",
         "showlegend": false,
         "subplot": "ternary",
         "text": [
          "⌂"
         ],
         "textfont": {
          "color": "silver",
          "size": 6
         },
         "type": "scatterternary"
        },
        {
         "a": [
          0.4240276116786835
         ],
         "b": [
          0.51193009196112
         ],
         "c": [
          0.06404229636019637
         ],
         "mode": "text",
         "showlegend": false,
         "subplot": "ternary",
         "text": [
          "⌂"
         ],
         "textfont": {
          "color": "silver",
          "size": 7
         },
         "type": "scatterternary"
        },
        {
         "a": [
          0.4240276116786835
         ],
         "b": [
          0.51193009196112
         ],
         "c": [
          0.06404229636019637
         ],
         "mode": "text",
         "showlegend": false,
         "subplot": "ternary",
         "text": [
          "⌂"
         ],
         "textfont": {
          "color": "silver",
          "size": 8
         },
         "type": "scatterternary"
        },
        {
         "a": [
          0.4240276116786835
         ],
         "b": [
          0.51193009196112
         ],
         "c": [
          0.06404229636019637
         ],
         "mode": "text",
         "showlegend": false,
         "subplot": "ternary",
         "text": [
          "⌂"
         ],
         "textfont": {
          "color": "silver",
          "size": 9
         },
         "type": "scatterternary"
        },
        {
         "a": [
          0.4240276116786835
         ],
         "b": [
          0.51193009196112
         ],
         "c": [
          0.06404229636019637
         ],
         "mode": "text",
         "showlegend": false,
         "subplot": "ternary",
         "text": [
          "⌂"
         ],
         "textfont": {
          "color": "silver",
          "size": 10
         },
         "type": "scatterternary"
        },
        {
         "a": [
          0.4240276116786835
         ],
         "b": [
          0.51193009196112
         ],
         "c": [
          0.06404229636019637
         ],
         "mode": "text",
         "showlegend": false,
         "subplot": "ternary",
         "text": [
          "⌂"
         ],
         "textfont": {
          "color": "silver",
          "size": 11
         },
         "type": "scatterternary"
        },
        {
         "a": [
          0.4240276116786835
         ],
         "b": [
          0.51193009196112
         ],
         "c": [
          0.06404229636019637
         ],
         "mode": "text",
         "showlegend": false,
         "subplot": "ternary",
         "text": [
          "⌂"
         ],
         "textfont": {
          "color": "silver",
          "size": 12
         },
         "type": "scatterternary"
        },
        {
         "a": [
          0.4240276116786835
         ],
         "b": [
          0.51193009196112
         ],
         "c": [
          0.06404229636019637
         ],
         "mode": "text",
         "showlegend": false,
         "subplot": "ternary",
         "text": [
          "⌂"
         ],
         "textfont": {
          "color": "silver",
          "size": 13
         },
         "type": "scatterternary"
        },
        {
         "a": [
          0.4240276116786835
         ],
         "b": [
          0.51193009196112
         ],
         "c": [
          0.06404229636019637
         ],
         "mode": "text",
         "showlegend": false,
         "subplot": "ternary",
         "text": [
          "⌂"
         ],
         "textfont": {
          "color": "silver",
          "size": 14
         },
         "type": "scatterternary"
        },
        {
         "a": [
          0.4240276116786835
         ],
         "b": [
          0.51193009196112
         ],
         "c": [
          0.06404229636019637
         ],
         "mode": "text",
         "showlegend": false,
         "subplot": "ternary",
         "text": [
          "⌂"
         ],
         "textfont": {
          "color": "silver",
          "size": 15
         },
         "type": "scatterternary"
        },
        {
         "a": [
          0.4240276116786835
         ],
         "b": [
          0.51193009196112
         ],
         "c": [
          0.06404229636019637
         ],
         "mode": "text",
         "showlegend": false,
         "subplot": "ternary",
         "text": [
          "⌂"
         ],
         "textfont": {
          "color": "silver",
          "size": 16
         },
         "type": "scatterternary"
        },
        {
         "a": [
          0.4240276116786835
         ],
         "b": [
          0.51193009196112
         ],
         "c": [
          0.06404229636019637
         ],
         "mode": "text",
         "showlegend": false,
         "subplot": "ternary",
         "text": [
          "⌂"
         ],
         "textfont": {
          "color": "silver",
          "size": 17
         },
         "type": "scatterternary"
        },
        {
         "a": [
          0.4240276116786835
         ],
         "b": [
          0.51193009196112
         ],
         "c": [
          0.06404229636019637
         ],
         "mode": "text",
         "showlegend": false,
         "subplot": "ternary",
         "text": [
          "⌂"
         ],
         "textfont": {
          "color": "silver",
          "size": 18
         },
         "type": "scatterternary"
        },
        {
         "a": [
          0.4240276116786835
         ],
         "b": [
          0.51193009196112
         ],
         "c": [
          0.06404229636019637
         ],
         "mode": "text",
         "showlegend": false,
         "subplot": "ternary",
         "text": [
          "⌂"
         ],
         "textfont": {
          "color": "silver",
          "size": 19
         },
         "type": "scatterternary"
        },
        {
         "a": [
          0.4240276116786835
         ],
         "b": [
          0.51193009196112
         ],
         "c": [
          0.06404229636019637
         ],
         "mode": "text",
         "showlegend": false,
         "subplot": "ternary",
         "text": [
          "⌂"
         ],
         "textfont": {
          "color": "silver",
          "size": 20
         },
         "type": "scatterternary"
        },
        {
         "a": [
          0.4240276116786835
         ],
         "b": [
          0.51193009196112
         ],
         "c": [
          0.06404229636019637
         ],
         "mode": "text",
         "showlegend": false,
         "subplot": "ternary",
         "text": [
          "⌂"
         ],
         "textfont": {
          "color": "silver",
          "size": 21
         },
         "type": "scatterternary"
        },
        {
         "a": [
          0.4240276116786835
         ],
         "b": [
          0.51193009196112
         ],
         "c": [
          0.06404229636019637
         ],
         "mode": "text",
         "showlegend": false,
         "subplot": "ternary",
         "text": [
          "⌂"
         ],
         "textfont": {
          "color": "silver",
          "size": 22
         },
         "type": "scatterternary"
        },
        {
         "a": [
          0.4240276116786835
         ],
         "b": [
          0.51193009196112
         ],
         "c": [
          0.06404229636019637
         ],
         "mode": "text",
         "showlegend": false,
         "subplot": "ternary",
         "text": [
          "⌂"
         ],
         "textfont": {
          "color": "silver",
          "size": 23
         },
         "type": "scatterternary"
        },
        {
         "a": [
          0.4240276116786835
         ],
         "b": [
          0.51193009196112
         ],
         "c": [
          0.06404229636019637
         ],
         "mode": "text",
         "showlegend": false,
         "subplot": "ternary",
         "text": [
          "⌂"
         ],
         "textfont": {
          "color": "silver",
          "size": 24
         },
         "type": "scatterternary"
        },
        {
         "a": [
          0.4240276116786835
         ],
         "b": [
          0.51193009196112
         ],
         "c": [
          0.06404229636019637
         ],
         "mode": "text",
         "showlegend": false,
         "subplot": "ternary",
         "text": [
          "⌂"
         ],
         "textfont": {
          "color": "silver",
          "size": 25
         },
         "type": "scatterternary"
        },
        {
         "a": [
          0.4240276116786835
         ],
         "b": [
          0.51193009196112
         ],
         "c": [
          0.06404229636019637
         ],
         "mode": "text",
         "showlegend": false,
         "subplot": "ternary",
         "text": [
          "⌂"
         ],
         "textfont": {
          "color": "silver",
          "size": 26
         },
         "type": "scatterternary"
        },
        {
         "a": [
          0.4240276116786835
         ],
         "b": [
          0.51193009196112
         ],
         "c": [
          0.06404229636019637
         ],
         "mode": "text",
         "showlegend": false,
         "subplot": "ternary",
         "text": [
          "⌂"
         ],
         "textfont": {
          "color": "silver",
          "size": 27
         },
         "type": "scatterternary"
        },
        {
         "a": [
          0.4240276116786835
         ],
         "b": [
          0.51193009196112
         ],
         "c": [
          0.06404229636019637
         ],
         "mode": "text",
         "showlegend": false,
         "subplot": "ternary",
         "text": [
          "⌂"
         ],
         "textfont": {
          "color": "silver",
          "size": 28
         },
         "type": "scatterternary"
        },
        {
         "a": [
          0.4240276116786835
         ],
         "b": [
          0.51193009196112
         ],
         "c": [
          0.06404229636019637
         ],
         "mode": "text",
         "showlegend": false,
         "subplot": "ternary",
         "text": [
          "⌂"
         ],
         "textfont": {
          "color": "silver",
          "size": 29
         },
         "type": "scatterternary"
        },
        {
         "a": [
          0.5021249084858379,
          0.4240276116786835
         ],
         "b": [
          0.42588960882155946,
          0.51193009196112
         ],
         "c": [
          0.07198548269260265,
          0.06404229636019637
         ],
         "hoverinfo": "skip",
         "line": {
          "color": "darkgrey",
          "dash": "dot",
          "width": 2
         },
         "mode": "lines",
         "showlegend": false,
         "subplot": "ternary",
         "text": "",
         "type": "scatterternary"
        },
        {
         "a": [
          0.1724738316423066
         ],
         "b": [
          0.6605593341225557
         ],
         "c": [
          0.1669668342351379
         ],
         "hovertemplate": "%{text}<br>Var (climate): %{a}<br>Var (model): %{b} <br>Var (other): %{c}",
         "line": {
          "width": 1.5
         },
         "marker": {
          "color": "darkgrey",
          "line": {
           "color": "black",
           "width": 1
          },
          "opacity": 1,
          "size": 0.1,
          "symbol": "circle"
         },
         "mode": "markers",
         "name": "Electricity",
         "showlegend": false,
         "subplot": "ternary",
         "text": [
          "2050"
         ],
         "textfont": {
          "color": [
           "darkgrey",
           "silver"
          ],
          "size": 1
         },
         "type": "scatterternary"
        },
        {
         "a": [
          0.1724738316423066
         ],
         "b": [
          0.6605593341225557
         ],
         "c": [
          0.1669668342351379
         ],
         "mode": "text",
         "showlegend": false,
         "subplot": "ternary",
         "text": [
          "⌂"
         ],
         "textfont": {
          "color": "darkgrey",
          "size": 1
         },
         "type": "scatterternary"
        },
        {
         "a": [
          0.1724738316423066
         ],
         "b": [
          0.6605593341225557
         ],
         "c": [
          0.1669668342351379
         ],
         "mode": "text",
         "showlegend": false,
         "subplot": "ternary",
         "text": [
          "⌂"
         ],
         "textfont": {
          "color": "darkgrey",
          "size": 2
         },
         "type": "scatterternary"
        },
        {
         "a": [
          0.1724738316423066
         ],
         "b": [
          0.6605593341225557
         ],
         "c": [
          0.1669668342351379
         ],
         "mode": "text",
         "showlegend": false,
         "subplot": "ternary",
         "text": [
          "⌂"
         ],
         "textfont": {
          "color": "darkgrey",
          "size": 3
         },
         "type": "scatterternary"
        },
        {
         "a": [
          0.1724738316423066
         ],
         "b": [
          0.6605593341225557
         ],
         "c": [
          0.1669668342351379
         ],
         "mode": "text",
         "showlegend": false,
         "subplot": "ternary",
         "text": [
          "⌂"
         ],
         "textfont": {
          "color": "darkgrey",
          "size": 4
         },
         "type": "scatterternary"
        },
        {
         "a": [
          0.1724738316423066
         ],
         "b": [
          0.6605593341225557
         ],
         "c": [
          0.1669668342351379
         ],
         "mode": "text",
         "showlegend": false,
         "subplot": "ternary",
         "text": [
          "⌂"
         ],
         "textfont": {
          "color": "darkgrey",
          "size": 5
         },
         "type": "scatterternary"
        },
        {
         "a": [
          0.1724738316423066
         ],
         "b": [
          0.6605593341225557
         ],
         "c": [
          0.1669668342351379
         ],
         "mode": "text",
         "showlegend": false,
         "subplot": "ternary",
         "text": [
          "⌂"
         ],
         "textfont": {
          "color": "darkgrey",
          "size": 6
         },
         "type": "scatterternary"
        },
        {
         "a": [
          0.1724738316423066
         ],
         "b": [
          0.6605593341225557
         ],
         "c": [
          0.1669668342351379
         ],
         "mode": "text",
         "showlegend": false,
         "subplot": "ternary",
         "text": [
          "⌂"
         ],
         "textfont": {
          "color": "darkgrey",
          "size": 7
         },
         "type": "scatterternary"
        },
        {
         "a": [
          0.1724738316423066
         ],
         "b": [
          0.6605593341225557
         ],
         "c": [
          0.1669668342351379
         ],
         "mode": "text",
         "showlegend": false,
         "subplot": "ternary",
         "text": [
          "⌂"
         ],
         "textfont": {
          "color": "darkgrey",
          "size": 8
         },
         "type": "scatterternary"
        },
        {
         "a": [
          0.1724738316423066
         ],
         "b": [
          0.6605593341225557
         ],
         "c": [
          0.1669668342351379
         ],
         "mode": "text",
         "showlegend": false,
         "subplot": "ternary",
         "text": [
          "⌂"
         ],
         "textfont": {
          "color": "darkgrey",
          "size": 9
         },
         "type": "scatterternary"
        },
        {
         "a": [
          0.1724738316423066
         ],
         "b": [
          0.6605593341225557
         ],
         "c": [
          0.1669668342351379
         ],
         "mode": "text",
         "showlegend": false,
         "subplot": "ternary",
         "text": [
          "⌂"
         ],
         "textfont": {
          "color": "darkgrey",
          "size": 10
         },
         "type": "scatterternary"
        },
        {
         "a": [
          0.1724738316423066
         ],
         "b": [
          0.6605593341225557
         ],
         "c": [
          0.1669668342351379
         ],
         "mode": "text",
         "showlegend": false,
         "subplot": "ternary",
         "text": [
          "⌂"
         ],
         "textfont": {
          "color": "darkgrey",
          "size": 11
         },
         "type": "scatterternary"
        },
        {
         "a": [
          0.1724738316423066
         ],
         "b": [
          0.6605593341225557
         ],
         "c": [
          0.1669668342351379
         ],
         "mode": "text",
         "showlegend": false,
         "subplot": "ternary",
         "text": [
          "⌂"
         ],
         "textfont": {
          "color": "darkgrey",
          "size": 12
         },
         "type": "scatterternary"
        },
        {
         "a": [
          0.1724738316423066
         ],
         "b": [
          0.6605593341225557
         ],
         "c": [
          0.1669668342351379
         ],
         "mode": "text",
         "showlegend": false,
         "subplot": "ternary",
         "text": [
          "⌂"
         ],
         "textfont": {
          "color": "darkgrey",
          "size": 13
         },
         "type": "scatterternary"
        },
        {
         "a": [
          0.1724738316423066
         ],
         "b": [
          0.6605593341225557
         ],
         "c": [
          0.1669668342351379
         ],
         "mode": "text",
         "showlegend": false,
         "subplot": "ternary",
         "text": [
          "⌂"
         ],
         "textfont": {
          "color": "darkgrey",
          "size": 14
         },
         "type": "scatterternary"
        },
        {
         "a": [
          0.1724738316423066
         ],
         "b": [
          0.6605593341225557
         ],
         "c": [
          0.1669668342351379
         ],
         "mode": "text",
         "showlegend": false,
         "subplot": "ternary",
         "text": [
          "⌂"
         ],
         "textfont": {
          "color": "darkgrey",
          "size": 15
         },
         "type": "scatterternary"
        },
        {
         "a": [
          0.1724738316423066
         ],
         "b": [
          0.6605593341225557
         ],
         "c": [
          0.1669668342351379
         ],
         "mode": "text",
         "showlegend": false,
         "subplot": "ternary",
         "text": [
          "⌂"
         ],
         "textfont": {
          "color": "darkgrey",
          "size": 16
         },
         "type": "scatterternary"
        },
        {
         "a": [
          0.1724738316423066
         ],
         "b": [
          0.6605593341225557
         ],
         "c": [
          0.1669668342351379
         ],
         "mode": "text",
         "showlegend": false,
         "subplot": "ternary",
         "text": [
          "⌂"
         ],
         "textfont": {
          "color": "darkgrey",
          "size": 17
         },
         "type": "scatterternary"
        },
        {
         "a": [
          0.1724738316423066
         ],
         "b": [
          0.6605593341225557
         ],
         "c": [
          0.1669668342351379
         ],
         "mode": "text",
         "showlegend": false,
         "subplot": "ternary",
         "text": [
          "⌂"
         ],
         "textfont": {
          "color": "darkgrey",
          "size": 18
         },
         "type": "scatterternary"
        },
        {
         "a": [
          0.1724738316423066
         ],
         "b": [
          0.6605593341225557
         ],
         "c": [
          0.1669668342351379
         ],
         "mode": "text",
         "showlegend": false,
         "subplot": "ternary",
         "text": [
          "⌂"
         ],
         "textfont": {
          "color": "darkgrey",
          "size": 19
         },
         "type": "scatterternary"
        },
        {
         "a": [
          0.1724738316423066
         ],
         "b": [
          0.6605593341225557
         ],
         "c": [
          0.1669668342351379
         ],
         "mode": "text",
         "showlegend": false,
         "subplot": "ternary",
         "text": [
          "⌂"
         ],
         "textfont": {
          "color": "darkgrey",
          "size": 20
         },
         "type": "scatterternary"
        },
        {
         "a": [
          0.1724738316423066
         ],
         "b": [
          0.6605593341225557
         ],
         "c": [
          0.1669668342351379
         ],
         "mode": "text",
         "showlegend": false,
         "subplot": "ternary",
         "text": [
          "⌂"
         ],
         "textfont": {
          "color": "darkgrey",
          "size": 21
         },
         "type": "scatterternary"
        },
        {
         "a": [
          0.1724738316423066
         ],
         "b": [
          0.6605593341225557
         ],
         "c": [
          0.1669668342351379
         ],
         "mode": "text",
         "showlegend": false,
         "subplot": "ternary",
         "text": [
          "⌂"
         ],
         "textfont": {
          "color": "darkgrey",
          "size": 22
         },
         "type": "scatterternary"
        },
        {
         "a": [
          0.1724738316423066
         ],
         "b": [
          0.6605593341225557
         ],
         "c": [
          0.1669668342351379
         ],
         "mode": "text",
         "showlegend": false,
         "subplot": "ternary",
         "text": [
          "⌂"
         ],
         "textfont": {
          "color": "darkgrey",
          "size": 23
         },
         "type": "scatterternary"
        },
        {
         "a": [
          0.1724738316423066
         ],
         "b": [
          0.6605593341225557
         ],
         "c": [
          0.1669668342351379
         ],
         "mode": "text",
         "showlegend": false,
         "subplot": "ternary",
         "text": [
          "⌂"
         ],
         "textfont": {
          "color": "darkgrey",
          "size": 24
         },
         "type": "scatterternary"
        },
        {
         "a": [
          0.1724738316423066
         ],
         "b": [
          0.6605593341225557
         ],
         "c": [
          0.1669668342351379
         ],
         "mode": "text",
         "showlegend": false,
         "subplot": "ternary",
         "text": [
          "⌂"
         ],
         "textfont": {
          "color": "darkgrey",
          "size": 25
         },
         "type": "scatterternary"
        },
        {
         "a": [
          0.1724738316423066
         ],
         "b": [
          0.6605593341225557
         ],
         "c": [
          0.1669668342351379
         ],
         "mode": "text",
         "showlegend": false,
         "subplot": "ternary",
         "text": [
          "⌂"
         ],
         "textfont": {
          "color": "darkgrey",
          "size": 26
         },
         "type": "scatterternary"
        },
        {
         "a": [
          0.1724738316423066
         ],
         "b": [
          0.6605593341225557
         ],
         "c": [
          0.1669668342351379
         ],
         "mode": "text",
         "showlegend": false,
         "subplot": "ternary",
         "text": [
          "⌂"
         ],
         "textfont": {
          "color": "darkgrey",
          "size": 27
         },
         "type": "scatterternary"
        },
        {
         "a": [
          0.1724738316423066
         ],
         "b": [
          0.6605593341225557
         ],
         "c": [
          0.1669668342351379
         ],
         "mode": "text",
         "showlegend": false,
         "subplot": "ternary",
         "text": [
          "⌂"
         ],
         "textfont": {
          "color": "darkgrey",
          "size": 28
         },
         "type": "scatterternary"
        },
        {
         "a": [
          0.1724738316423066
         ],
         "b": [
          0.6605593341225557
         ],
         "c": [
          0.1669668342351379
         ],
         "mode": "text",
         "showlegend": false,
         "subplot": "ternary",
         "text": [
          "⌂"
         ],
         "textfont": {
          "color": "darkgrey",
          "size": 29
         },
         "type": "scatterternary"
        },
        {
         "a": [
          0.430936310304849
         ],
         "b": [
          0.44487903014784874
         ],
         "c": [
          0.12418465954730219
         ],
         "hovertemplate": "%{text}<br>Var (climate): %{a}<br>Var (model): %{b} <br>Var (other): %{c}",
         "line": {
          "width": 1.5
         },
         "marker": {
          "color": "silver",
          "line": {
           "color": "black",
           "width": 1
          },
          "opacity": 1,
          "size": 0.1,
          "symbol": "circle"
         },
         "mode": "markers",
         "name": "Electricity (fr)",
         "showlegend": false,
         "subplot": "ternary",
         "text": [
          "2050"
         ],
         "textfont": {
          "color": [
           "darkgrey",
           "silver"
          ],
          "size": 1
         },
         "type": "scatterternary"
        },
        {
         "a": [
          0.430936310304849
         ],
         "b": [
          0.44487903014784874
         ],
         "c": [
          0.12418465954730219
         ],
         "mode": "text",
         "showlegend": false,
         "subplot": "ternary",
         "text": [
          "⌂"
         ],
         "textfont": {
          "color": "silver",
          "size": 1
         },
         "type": "scatterternary"
        },
        {
         "a": [
          0.430936310304849
         ],
         "b": [
          0.44487903014784874
         ],
         "c": [
          0.12418465954730219
         ],
         "mode": "text",
         "showlegend": false,
         "subplot": "ternary",
         "text": [
          "⌂"
         ],
         "textfont": {
          "color": "silver",
          "size": 2
         },
         "type": "scatterternary"
        },
        {
         "a": [
          0.430936310304849
         ],
         "b": [
          0.44487903014784874
         ],
         "c": [
          0.12418465954730219
         ],
         "mode": "text",
         "showlegend": false,
         "subplot": "ternary",
         "text": [
          "⌂"
         ],
         "textfont": {
          "color": "silver",
          "size": 3
         },
         "type": "scatterternary"
        },
        {
         "a": [
          0.430936310304849
         ],
         "b": [
          0.44487903014784874
         ],
         "c": [
          0.12418465954730219
         ],
         "mode": "text",
         "showlegend": false,
         "subplot": "ternary",
         "text": [
          "⌂"
         ],
         "textfont": {
          "color": "silver",
          "size": 4
         },
         "type": "scatterternary"
        },
        {
         "a": [
          0.430936310304849
         ],
         "b": [
          0.44487903014784874
         ],
         "c": [
          0.12418465954730219
         ],
         "mode": "text",
         "showlegend": false,
         "subplot": "ternary",
         "text": [
          "⌂"
         ],
         "textfont": {
          "color": "silver",
          "size": 5
         },
         "type": "scatterternary"
        },
        {
         "a": [
          0.430936310304849
         ],
         "b": [
          0.44487903014784874
         ],
         "c": [
          0.12418465954730219
         ],
         "mode": "text",
         "showlegend": false,
         "subplot": "ternary",
         "text": [
          "⌂"
         ],
         "textfont": {
          "color": "silver",
          "size": 6
         },
         "type": "scatterternary"
        },
        {
         "a": [
          0.430936310304849
         ],
         "b": [
          0.44487903014784874
         ],
         "c": [
          0.12418465954730219
         ],
         "mode": "text",
         "showlegend": false,
         "subplot": "ternary",
         "text": [
          "⌂"
         ],
         "textfont": {
          "color": "silver",
          "size": 7
         },
         "type": "scatterternary"
        },
        {
         "a": [
          0.430936310304849
         ],
         "b": [
          0.44487903014784874
         ],
         "c": [
          0.12418465954730219
         ],
         "mode": "text",
         "showlegend": false,
         "subplot": "ternary",
         "text": [
          "⌂"
         ],
         "textfont": {
          "color": "silver",
          "size": 8
         },
         "type": "scatterternary"
        },
        {
         "a": [
          0.430936310304849
         ],
         "b": [
          0.44487903014784874
         ],
         "c": [
          0.12418465954730219
         ],
         "mode": "text",
         "showlegend": false,
         "subplot": "ternary",
         "text": [
          "⌂"
         ],
         "textfont": {
          "color": "silver",
          "size": 9
         },
         "type": "scatterternary"
        },
        {
         "a": [
          0.430936310304849
         ],
         "b": [
          0.44487903014784874
         ],
         "c": [
          0.12418465954730219
         ],
         "mode": "text",
         "showlegend": false,
         "subplot": "ternary",
         "text": [
          "⌂"
         ],
         "textfont": {
          "color": "silver",
          "size": 10
         },
         "type": "scatterternary"
        },
        {
         "a": [
          0.430936310304849
         ],
         "b": [
          0.44487903014784874
         ],
         "c": [
          0.12418465954730219
         ],
         "mode": "text",
         "showlegend": false,
         "subplot": "ternary",
         "text": [
          "⌂"
         ],
         "textfont": {
          "color": "silver",
          "size": 11
         },
         "type": "scatterternary"
        },
        {
         "a": [
          0.430936310304849
         ],
         "b": [
          0.44487903014784874
         ],
         "c": [
          0.12418465954730219
         ],
         "mode": "text",
         "showlegend": false,
         "subplot": "ternary",
         "text": [
          "⌂"
         ],
         "textfont": {
          "color": "silver",
          "size": 12
         },
         "type": "scatterternary"
        },
        {
         "a": [
          0.430936310304849
         ],
         "b": [
          0.44487903014784874
         ],
         "c": [
          0.12418465954730219
         ],
         "mode": "text",
         "showlegend": false,
         "subplot": "ternary",
         "text": [
          "⌂"
         ],
         "textfont": {
          "color": "silver",
          "size": 13
         },
         "type": "scatterternary"
        },
        {
         "a": [
          0.430936310304849
         ],
         "b": [
          0.44487903014784874
         ],
         "c": [
          0.12418465954730219
         ],
         "mode": "text",
         "showlegend": false,
         "subplot": "ternary",
         "text": [
          "⌂"
         ],
         "textfont": {
          "color": "silver",
          "size": 14
         },
         "type": "scatterternary"
        },
        {
         "a": [
          0.430936310304849
         ],
         "b": [
          0.44487903014784874
         ],
         "c": [
          0.12418465954730219
         ],
         "mode": "text",
         "showlegend": false,
         "subplot": "ternary",
         "text": [
          "⌂"
         ],
         "textfont": {
          "color": "silver",
          "size": 15
         },
         "type": "scatterternary"
        },
        {
         "a": [
          0.430936310304849
         ],
         "b": [
          0.44487903014784874
         ],
         "c": [
          0.12418465954730219
         ],
         "mode": "text",
         "showlegend": false,
         "subplot": "ternary",
         "text": [
          "⌂"
         ],
         "textfont": {
          "color": "silver",
          "size": 16
         },
         "type": "scatterternary"
        },
        {
         "a": [
          0.430936310304849
         ],
         "b": [
          0.44487903014784874
         ],
         "c": [
          0.12418465954730219
         ],
         "mode": "text",
         "showlegend": false,
         "subplot": "ternary",
         "text": [
          "⌂"
         ],
         "textfont": {
          "color": "silver",
          "size": 17
         },
         "type": "scatterternary"
        },
        {
         "a": [
          0.430936310304849
         ],
         "b": [
          0.44487903014784874
         ],
         "c": [
          0.12418465954730219
         ],
         "mode": "text",
         "showlegend": false,
         "subplot": "ternary",
         "text": [
          "⌂"
         ],
         "textfont": {
          "color": "silver",
          "size": 18
         },
         "type": "scatterternary"
        },
        {
         "a": [
          0.430936310304849
         ],
         "b": [
          0.44487903014784874
         ],
         "c": [
          0.12418465954730219
         ],
         "mode": "text",
         "showlegend": false,
         "subplot": "ternary",
         "text": [
          "⌂"
         ],
         "textfont": {
          "color": "silver",
          "size": 19
         },
         "type": "scatterternary"
        },
        {
         "a": [
          0.430936310304849
         ],
         "b": [
          0.44487903014784874
         ],
         "c": [
          0.12418465954730219
         ],
         "mode": "text",
         "showlegend": false,
         "subplot": "ternary",
         "text": [
          "⌂"
         ],
         "textfont": {
          "color": "silver",
          "size": 20
         },
         "type": "scatterternary"
        },
        {
         "a": [
          0.430936310304849
         ],
         "b": [
          0.44487903014784874
         ],
         "c": [
          0.12418465954730219
         ],
         "mode": "text",
         "showlegend": false,
         "subplot": "ternary",
         "text": [
          "⌂"
         ],
         "textfont": {
          "color": "silver",
          "size": 21
         },
         "type": "scatterternary"
        },
        {
         "a": [
          0.430936310304849
         ],
         "b": [
          0.44487903014784874
         ],
         "c": [
          0.12418465954730219
         ],
         "mode": "text",
         "showlegend": false,
         "subplot": "ternary",
         "text": [
          "⌂"
         ],
         "textfont": {
          "color": "silver",
          "size": 22
         },
         "type": "scatterternary"
        },
        {
         "a": [
          0.430936310304849
         ],
         "b": [
          0.44487903014784874
         ],
         "c": [
          0.12418465954730219
         ],
         "mode": "text",
         "showlegend": false,
         "subplot": "ternary",
         "text": [
          "⌂"
         ],
         "textfont": {
          "color": "silver",
          "size": 23
         },
         "type": "scatterternary"
        },
        {
         "a": [
          0.430936310304849
         ],
         "b": [
          0.44487903014784874
         ],
         "c": [
          0.12418465954730219
         ],
         "mode": "text",
         "showlegend": false,
         "subplot": "ternary",
         "text": [
          "⌂"
         ],
         "textfont": {
          "color": "silver",
          "size": 24
         },
         "type": "scatterternary"
        },
        {
         "a": [
          0.430936310304849
         ],
         "b": [
          0.44487903014784874
         ],
         "c": [
          0.12418465954730219
         ],
         "mode": "text",
         "showlegend": false,
         "subplot": "ternary",
         "text": [
          "⌂"
         ],
         "textfont": {
          "color": "silver",
          "size": 25
         },
         "type": "scatterternary"
        },
        {
         "a": [
          0.430936310304849
         ],
         "b": [
          0.44487903014784874
         ],
         "c": [
          0.12418465954730219
         ],
         "mode": "text",
         "showlegend": false,
         "subplot": "ternary",
         "text": [
          "⌂"
         ],
         "textfont": {
          "color": "silver",
          "size": 26
         },
         "type": "scatterternary"
        },
        {
         "a": [
          0.430936310304849
         ],
         "b": [
          0.44487903014784874
         ],
         "c": [
          0.12418465954730219
         ],
         "mode": "text",
         "showlegend": false,
         "subplot": "ternary",
         "text": [
          "⌂"
         ],
         "textfont": {
          "color": "silver",
          "size": 27
         },
         "type": "scatterternary"
        },
        {
         "a": [
          0.430936310304849
         ],
         "b": [
          0.44487903014784874
         ],
         "c": [
          0.12418465954730219
         ],
         "mode": "text",
         "showlegend": false,
         "subplot": "ternary",
         "text": [
          "⌂"
         ],
         "textfont": {
          "color": "silver",
          "size": 28
         },
         "type": "scatterternary"
        },
        {
         "a": [
          0.430936310304849
         ],
         "b": [
          0.44487903014784874
         ],
         "c": [
          0.12418465954730219
         ],
         "mode": "text",
         "showlegend": false,
         "subplot": "ternary",
         "text": [
          "⌂"
         ],
         "textfont": {
          "color": "silver",
          "size": 29
         },
         "type": "scatterternary"
        },
        {
         "a": [
          0.1724738316423066,
          0.430936310304849
         ],
         "b": [
          0.6605593341225557,
          0.44487903014784874
         ],
         "c": [
          0.1669668342351379,
          0.12418465954730219
         ],
         "hoverinfo": "skip",
         "line": {
          "color": "darkgrey",
          "dash": "dot",
          "width": 2
         },
         "mode": "lines",
         "showlegend": false,
         "subplot": "ternary",
         "text": "",
         "type": "scatterternary"
        }
       ],
       "layout": {
        "height": 750,
        "margin": {
         "b": 0,
         "l": 50,
         "r": 0,
         "t": 0
        },
        "template": {
         "data": {
          "bar": [
           {
            "error_x": {
             "color": "#2a3f5f"
            },
            "error_y": {
             "color": "#2a3f5f"
            },
            "marker": {
             "line": {
              "color": "#E5ECF6",
              "width": 0.5
             },
             "pattern": {
              "fillmode": "overlay",
              "size": 10,
              "solidity": 0.2
             }
            },
            "type": "bar"
           }
          ],
          "barpolar": [
           {
            "marker": {
             "line": {
              "color": "#E5ECF6",
              "width": 0.5
             },
             "pattern": {
              "fillmode": "overlay",
              "size": 10,
              "solidity": 0.2
             }
            },
            "type": "barpolar"
           }
          ],
          "carpet": [
           {
            "aaxis": {
             "endlinecolor": "#2a3f5f",
             "gridcolor": "white",
             "linecolor": "white",
             "minorgridcolor": "white",
             "startlinecolor": "#2a3f5f"
            },
            "baxis": {
             "endlinecolor": "#2a3f5f",
             "gridcolor": "white",
             "linecolor": "white",
             "minorgridcolor": "white",
             "startlinecolor": "#2a3f5f"
            },
            "type": "carpet"
           }
          ],
          "choropleth": [
           {
            "colorbar": {
             "outlinewidth": 0,
             "ticks": ""
            },
            "type": "choropleth"
           }
          ],
          "contour": [
           {
            "colorbar": {
             "outlinewidth": 0,
             "ticks": ""
            },
            "colorscale": [
             [
              0,
              "#0d0887"
             ],
             [
              0.1111111111111111,
              "#46039f"
             ],
             [
              0.2222222222222222,
              "#7201a8"
             ],
             [
              0.3333333333333333,
              "#9c179e"
             ],
             [
              0.4444444444444444,
              "#bd3786"
             ],
             [
              0.5555555555555556,
              "#d8576b"
             ],
             [
              0.6666666666666666,
              "#ed7953"
             ],
             [
              0.7777777777777778,
              "#fb9f3a"
             ],
             [
              0.8888888888888888,
              "#fdca26"
             ],
             [
              1,
              "#f0f921"
             ]
            ],
            "type": "contour"
           }
          ],
          "contourcarpet": [
           {
            "colorbar": {
             "outlinewidth": 0,
             "ticks": ""
            },
            "type": "contourcarpet"
           }
          ],
          "heatmap": [
           {
            "colorbar": {
             "outlinewidth": 0,
             "ticks": ""
            },
            "colorscale": [
             [
              0,
              "#0d0887"
             ],
             [
              0.1111111111111111,
              "#46039f"
             ],
             [
              0.2222222222222222,
              "#7201a8"
             ],
             [
              0.3333333333333333,
              "#9c179e"
             ],
             [
              0.4444444444444444,
              "#bd3786"
             ],
             [
              0.5555555555555556,
              "#d8576b"
             ],
             [
              0.6666666666666666,
              "#ed7953"
             ],
             [
              0.7777777777777778,
              "#fb9f3a"
             ],
             [
              0.8888888888888888,
              "#fdca26"
             ],
             [
              1,
              "#f0f921"
             ]
            ],
            "type": "heatmap"
           }
          ],
          "heatmapgl": [
           {
            "colorbar": {
             "outlinewidth": 0,
             "ticks": ""
            },
            "colorscale": [
             [
              0,
              "#0d0887"
             ],
             [
              0.1111111111111111,
              "#46039f"
             ],
             [
              0.2222222222222222,
              "#7201a8"
             ],
             [
              0.3333333333333333,
              "#9c179e"
             ],
             [
              0.4444444444444444,
              "#bd3786"
             ],
             [
              0.5555555555555556,
              "#d8576b"
             ],
             [
              0.6666666666666666,
              "#ed7953"
             ],
             [
              0.7777777777777778,
              "#fb9f3a"
             ],
             [
              0.8888888888888888,
              "#fdca26"
             ],
             [
              1,
              "#f0f921"
             ]
            ],
            "type": "heatmapgl"
           }
          ],
          "histogram": [
           {
            "marker": {
             "pattern": {
              "fillmode": "overlay",
              "size": 10,
              "solidity": 0.2
             }
            },
            "type": "histogram"
           }
          ],
          "histogram2d": [
           {
            "colorbar": {
             "outlinewidth": 0,
             "ticks": ""
            },
            "colorscale": [
             [
              0,
              "#0d0887"
             ],
             [
              0.1111111111111111,
              "#46039f"
             ],
             [
              0.2222222222222222,
              "#7201a8"
             ],
             [
              0.3333333333333333,
              "#9c179e"
             ],
             [
              0.4444444444444444,
              "#bd3786"
             ],
             [
              0.5555555555555556,
              "#d8576b"
             ],
             [
              0.6666666666666666,
              "#ed7953"
             ],
             [
              0.7777777777777778,
              "#fb9f3a"
             ],
             [
              0.8888888888888888,
              "#fdca26"
             ],
             [
              1,
              "#f0f921"
             ]
            ],
            "type": "histogram2d"
           }
          ],
          "histogram2dcontour": [
           {
            "colorbar": {
             "outlinewidth": 0,
             "ticks": ""
            },
            "colorscale": [
             [
              0,
              "#0d0887"
             ],
             [
              0.1111111111111111,
              "#46039f"
             ],
             [
              0.2222222222222222,
              "#7201a8"
             ],
             [
              0.3333333333333333,
              "#9c179e"
             ],
             [
              0.4444444444444444,
              "#bd3786"
             ],
             [
              0.5555555555555556,
              "#d8576b"
             ],
             [
              0.6666666666666666,
              "#ed7953"
             ],
             [
              0.7777777777777778,
              "#fb9f3a"
             ],
             [
              0.8888888888888888,
              "#fdca26"
             ],
             [
              1,
              "#f0f921"
             ]
            ],
            "type": "histogram2dcontour"
           }
          ],
          "mesh3d": [
           {
            "colorbar": {
             "outlinewidth": 0,
             "ticks": ""
            },
            "type": "mesh3d"
           }
          ],
          "parcoords": [
           {
            "line": {
             "colorbar": {
              "outlinewidth": 0,
              "ticks": ""
             }
            },
            "type": "parcoords"
           }
          ],
          "pie": [
           {
            "automargin": true,
            "type": "pie"
           }
          ],
          "scatter": [
           {
            "fillpattern": {
             "fillmode": "overlay",
             "size": 10,
             "solidity": 0.2
            },
            "type": "scatter"
           }
          ],
          "scatter3d": [
           {
            "line": {
             "colorbar": {
              "outlinewidth": 0,
              "ticks": ""
             }
            },
            "marker": {
             "colorbar": {
              "outlinewidth": 0,
              "ticks": ""
             }
            },
            "type": "scatter3d"
           }
          ],
          "scattercarpet": [
           {
            "marker": {
             "colorbar": {
              "outlinewidth": 0,
              "ticks": ""
             }
            },
            "type": "scattercarpet"
           }
          ],
          "scattergeo": [
           {
            "marker": {
             "colorbar": {
              "outlinewidth": 0,
              "ticks": ""
             }
            },
            "type": "scattergeo"
           }
          ],
          "scattergl": [
           {
            "marker": {
             "colorbar": {
              "outlinewidth": 0,
              "ticks": ""
             }
            },
            "type": "scattergl"
           }
          ],
          "scattermapbox": [
           {
            "marker": {
             "colorbar": {
              "outlinewidth": 0,
              "ticks": ""
             }
            },
            "type": "scattermapbox"
           }
          ],
          "scatterpolar": [
           {
            "marker": {
             "colorbar": {
              "outlinewidth": 0,
              "ticks": ""
             }
            },
            "type": "scatterpolar"
           }
          ],
          "scatterpolargl": [
           {
            "marker": {
             "colorbar": {
              "outlinewidth": 0,
              "ticks": ""
             }
            },
            "type": "scatterpolargl"
           }
          ],
          "scatterternary": [
           {
            "marker": {
             "colorbar": {
              "outlinewidth": 0,
              "ticks": ""
             }
            },
            "type": "scatterternary"
           }
          ],
          "surface": [
           {
            "colorbar": {
             "outlinewidth": 0,
             "ticks": ""
            },
            "colorscale": [
             [
              0,
              "#0d0887"
             ],
             [
              0.1111111111111111,
              "#46039f"
             ],
             [
              0.2222222222222222,
              "#7201a8"
             ],
             [
              0.3333333333333333,
              "#9c179e"
             ],
             [
              0.4444444444444444,
              "#bd3786"
             ],
             [
              0.5555555555555556,
              "#d8576b"
             ],
             [
              0.6666666666666666,
              "#ed7953"
             ],
             [
              0.7777777777777778,
              "#fb9f3a"
             ],
             [
              0.8888888888888888,
              "#fdca26"
             ],
             [
              1,
              "#f0f921"
             ]
            ],
            "type": "surface"
           }
          ],
          "table": [
           {
            "cells": {
             "fill": {
              "color": "#EBF0F8"
             },
             "line": {
              "color": "white"
             }
            },
            "header": {
             "fill": {
              "color": "#C8D4E3"
             },
             "line": {
              "color": "white"
             }
            },
            "type": "table"
           }
          ]
         },
         "layout": {
          "annotationdefaults": {
           "arrowcolor": "#2a3f5f",
           "arrowhead": 0,
           "arrowwidth": 1
          },
          "autotypenumbers": "strict",
          "coloraxis": {
           "colorbar": {
            "outlinewidth": 0,
            "ticks": ""
           }
          },
          "colorscale": {
           "diverging": [
            [
             0,
             "#8e0152"
            ],
            [
             0.1,
             "#c51b7d"
            ],
            [
             0.2,
             "#de77ae"
            ],
            [
             0.3,
             "#f1b6da"
            ],
            [
             0.4,
             "#fde0ef"
            ],
            [
             0.5,
             "#f7f7f7"
            ],
            [
             0.6,
             "#e6f5d0"
            ],
            [
             0.7,
             "#b8e186"
            ],
            [
             0.8,
             "#7fbc41"
            ],
            [
             0.9,
             "#4d9221"
            ],
            [
             1,
             "#276419"
            ]
           ],
           "sequential": [
            [
             0,
             "#0d0887"
            ],
            [
             0.1111111111111111,
             "#46039f"
            ],
            [
             0.2222222222222222,
             "#7201a8"
            ],
            [
             0.3333333333333333,
             "#9c179e"
            ],
            [
             0.4444444444444444,
             "#bd3786"
            ],
            [
             0.5555555555555556,
             "#d8576b"
            ],
            [
             0.6666666666666666,
             "#ed7953"
            ],
            [
             0.7777777777777778,
             "#fb9f3a"
            ],
            [
             0.8888888888888888,
             "#fdca26"
            ],
            [
             1,
             "#f0f921"
            ]
           ],
           "sequentialminus": [
            [
             0,
             "#0d0887"
            ],
            [
             0.1111111111111111,
             "#46039f"
            ],
            [
             0.2222222222222222,
             "#7201a8"
            ],
            [
             0.3333333333333333,
             "#9c179e"
            ],
            [
             0.4444444444444444,
             "#bd3786"
            ],
            [
             0.5555555555555556,
             "#d8576b"
            ],
            [
             0.6666666666666666,
             "#ed7953"
            ],
            [
             0.7777777777777778,
             "#fb9f3a"
            ],
            [
             0.8888888888888888,
             "#fdca26"
            ],
            [
             1,
             "#f0f921"
            ]
           ]
          },
          "colorway": [
           "#636efa",
           "#EF553B",
           "#00cc96",
           "#ab63fa",
           "#FFA15A",
           "#19d3f3",
           "#FF6692",
           "#B6E880",
           "#FF97FF",
           "#FECB52"
          ],
          "font": {
           "color": "#2a3f5f"
          },
          "geo": {
           "bgcolor": "white",
           "lakecolor": "white",
           "landcolor": "#E5ECF6",
           "showlakes": true,
           "showland": true,
           "subunitcolor": "white"
          },
          "hoverlabel": {
           "align": "left"
          },
          "hovermode": "closest",
          "mapbox": {
           "style": "light"
          },
          "paper_bgcolor": "white",
          "plot_bgcolor": "#E5ECF6",
          "polar": {
           "angularaxis": {
            "gridcolor": "white",
            "linecolor": "white",
            "ticks": ""
           },
           "bgcolor": "#E5ECF6",
           "radialaxis": {
            "gridcolor": "white",
            "linecolor": "white",
            "ticks": ""
           }
          },
          "scene": {
           "xaxis": {
            "backgroundcolor": "#E5ECF6",
            "gridcolor": "white",
            "gridwidth": 2,
            "linecolor": "white",
            "showbackground": true,
            "ticks": "",
            "zerolinecolor": "white"
           },
           "yaxis": {
            "backgroundcolor": "#E5ECF6",
            "gridcolor": "white",
            "gridwidth": 2,
            "linecolor": "white",
            "showbackground": true,
            "ticks": "",
            "zerolinecolor": "white"
           },
           "zaxis": {
            "backgroundcolor": "#E5ECF6",
            "gridcolor": "white",
            "gridwidth": 2,
            "linecolor": "white",
            "showbackground": true,
            "ticks": "",
            "zerolinecolor": "white"
           }
          },
          "shapedefaults": {
           "line": {
            "color": "#2a3f5f"
           }
          },
          "ternary": {
           "aaxis": {
            "gridcolor": "white",
            "linecolor": "white",
            "ticks": ""
           },
           "baxis": {
            "gridcolor": "white",
            "linecolor": "white",
            "ticks": ""
           },
           "bgcolor": "#E5ECF6",
           "caxis": {
            "gridcolor": "white",
            "linecolor": "white",
            "ticks": ""
           }
          },
          "title": {
           "x": 0.05
          },
          "xaxis": {
           "automargin": true,
           "gridcolor": "white",
           "linecolor": "white",
           "ticks": "",
           "title": {
            "standoff": 15
           },
           "zerolinecolor": "white",
           "zerolinewidth": 2
          },
          "yaxis": {
           "automargin": true,
           "gridcolor": "white",
           "linecolor": "white",
           "ticks": "",
           "title": {
            "standoff": 15
           },
           "zerolinecolor": "white",
           "zerolinewidth": 2
          }
         }
        },
        "ternary": {
         "aaxis": {
          "linewidth": 0,
          "min": 0,
          "tickfont": {
           "size": 12
          },
          "tickmode": "array",
          "ticks": "outside",
          "ticktext": [
           "50%",
           "60%",
           "70%",
           "80%",
           "90%",
           "100%"
          ],
          "tickvals": [
           0.5,
           0.6,
           0.7,
           0.8,
           0.9,
           1
          ],
          "title": {
           "text": "Climate target<br>"
          }
         },
         "baxis": {
          "linewidth": 2,
          "min": 0,
          "tickangle": 60,
          "tickfont": {
           "size": 12
          },
          "tickmode": "array",
          "ticks": "outside",
          "ticktext": [
           "50%",
           "60%",
           "70%",
           "80%",
           "90%",
           "100%"
          ],
          "tickvals": [
           0.5,
           0.6,
           0.7,
           0.8,
           0.9,
           1
          ],
          "title": {
           "text": "Model &nbsp; &nbsp;"
          }
         },
         "bgcolor": "rgba(0,0,0,0)",
         "caxis": {
          "linewidth": 2,
          "min": 0,
          "tickangle": -60,
          "tickfont": {
           "size": 12
          },
          "tickmode": "array",
          "ticks": "outside",
          "ticktext": [
           "50%",
           "60%",
           "70%",
           "80%",
           "90%",
           "100%"
          ],
          "tickvals": [
           0.5,
           0.6,
           0.7,
           0.8,
           0.9,
           1
          ],
          "title": {
           "text": "Other scenario<br>assumptions"
          }
         },
         "domain": {
          "x": [
           0,
           0.584
          ],
          "y": [
           0,
           0.9999999999999998
          ]
         },
         "sum": 1
        },
        "width": 1300,
        "xaxis": {
         "anchor": "y",
         "domain": [
          0.208,
          0.376
         ]
        },
        "xaxis10": {
         "anchor": "y10",
         "domain": [
          0.208,
          0.376
         ]
        },
        "xaxis11": {
         "anchor": "y11",
         "domain": [
          0.416,
          0.584
         ]
        },
        "xaxis12": {
         "anchor": "y12",
         "domain": [
          0.624,
          0.792
         ]
        },
        "xaxis13": {
         "anchor": "y13",
         "domain": [
          0.832,
          1
         ]
        },
        "xaxis14": {
         "anchor": "y14",
         "domain": [
          0,
          0.16799999999999998
         ]
        },
        "xaxis15": {
         "anchor": "y15",
         "domain": [
          0.208,
          0.376
         ]
        },
        "xaxis16": {
         "anchor": "y16",
         "domain": [
          0.416,
          0.584
         ]
        },
        "xaxis17": {
         "anchor": "y17",
         "domain": [
          0.832,
          1
         ]
        },
        "xaxis18": {
         "anchor": "y18",
         "domain": [
          0,
          0.16799999999999998
         ]
        },
        "xaxis19": {
         "anchor": "y19",
         "domain": [
          0.208,
          0.376
         ]
        },
        "xaxis2": {
         "anchor": "y2",
         "domain": [
          0.416,
          0.584
         ]
        },
        "xaxis20": {
         "anchor": "y20",
         "domain": [
          0.416,
          0.584
         ]
        },
        "xaxis21": {
         "anchor": "y21",
         "domain": [
          0.624,
          0.792
         ]
        },
        "xaxis22": {
         "anchor": "y22",
         "domain": [
          0.832,
          1
         ]
        },
        "xaxis23": {
         "anchor": "y23",
         "domain": [
          0,
          0.16799999999999998
         ]
        },
        "xaxis24": {
         "anchor": "y24",
         "domain": [
          0.208,
          0.376
         ]
        },
        "xaxis25": {
         "anchor": "y25",
         "domain": [
          0.416,
          0.584
         ]
        },
        "xaxis26": {
         "anchor": "y26",
         "domain": [
          0.832,
          1
         ]
        },
        "xaxis27": {
         "anchor": "y27",
         "domain": [
          0,
          0.16799999999999998
         ]
        },
        "xaxis28": {
         "anchor": "y28",
         "domain": [
          0.208,
          0.376
         ]
        },
        "xaxis29": {
         "anchor": "y29",
         "domain": [
          0.416,
          0.584
         ]
        },
        "xaxis3": {
         "anchor": "y3",
         "domain": [
          0.624,
          0.792
         ]
        },
        "xaxis30": {
         "anchor": "y30",
         "domain": [
          0.624,
          0.792
         ]
        },
        "xaxis31": {
         "anchor": "y31",
         "domain": [
          0.832,
          1
         ]
        },
        "xaxis4": {
         "anchor": "y4",
         "domain": [
          0.832,
          1
         ]
        },
        "xaxis5": {
         "anchor": "y5",
         "domain": [
          0,
          0.16799999999999998
         ]
        },
        "xaxis6": {
         "anchor": "y6",
         "domain": [
          0.208,
          0.376
         ]
        },
        "xaxis7": {
         "anchor": "y7",
         "domain": [
          0.416,
          0.584
         ]
        },
        "xaxis8": {
         "anchor": "y8",
         "domain": [
          0.832,
          1
         ]
        },
        "xaxis9": {
         "anchor": "y9",
         "domain": [
          0,
          0.16799999999999998
         ]
        },
        "yaxis": {
         "anchor": "x",
         "domain": [
          0.857142857142857,
          0.9999999999999998
         ]
        },
        "yaxis10": {
         "anchor": "x10",
         "domain": [
          0.5714285714285714,
          0.7142857142857142
         ]
        },
        "yaxis11": {
         "anchor": "x11",
         "domain": [
          0.5714285714285714,
          0.7142857142857142
         ]
        },
        "yaxis12": {
         "anchor": "x12",
         "domain": [
          0.5714285714285714,
          0.7142857142857142
         ]
        },
        "yaxis13": {
         "anchor": "x13",
         "domain": [
          0.5714285714285714,
          0.7142857142857142
         ]
        },
        "yaxis14": {
         "anchor": "x14",
         "domain": [
          0.42857142857142855,
          0.5714285714285714
         ]
        },
        "yaxis15": {
         "anchor": "x15",
         "domain": [
          0.42857142857142855,
          0.5714285714285714
         ]
        },
        "yaxis16": {
         "anchor": "x16",
         "domain": [
          0.42857142857142855,
          0.5714285714285714
         ]
        },
        "yaxis17": {
         "anchor": "x17",
         "domain": [
          0.42857142857142855,
          0.5714285714285714
         ]
        },
        "yaxis18": {
         "anchor": "x18",
         "domain": [
          0.2857142857142857,
          0.42857142857142855
         ]
        },
        "yaxis19": {
         "anchor": "x19",
         "domain": [
          0.2857142857142857,
          0.42857142857142855
         ]
        },
        "yaxis2": {
         "anchor": "x2",
         "domain": [
          0.857142857142857,
          0.9999999999999998
         ]
        },
        "yaxis20": {
         "anchor": "x20",
         "domain": [
          0.2857142857142857,
          0.42857142857142855
         ]
        },
        "yaxis21": {
         "anchor": "x21",
         "domain": [
          0.2857142857142857,
          0.42857142857142855
         ]
        },
        "yaxis22": {
         "anchor": "x22",
         "domain": [
          0.2857142857142857,
          0.42857142857142855
         ]
        },
        "yaxis23": {
         "anchor": "x23",
         "domain": [
          0.14285714285714285,
          0.2857142857142857
         ]
        },
        "yaxis24": {
         "anchor": "x24",
         "domain": [
          0.14285714285714285,
          0.2857142857142857
         ]
        },
        "yaxis25": {
         "anchor": "x25",
         "domain": [
          0.14285714285714285,
          0.2857142857142857
         ]
        },
        "yaxis26": {
         "anchor": "x26",
         "domain": [
          0.14285714285714285,
          0.2857142857142857
         ]
        },
        "yaxis27": {
         "anchor": "x27",
         "domain": [
          0,
          0.14285714285714285
         ]
        },
        "yaxis28": {
         "anchor": "x28",
         "domain": [
          0,
          0.14285714285714285
         ]
        },
        "yaxis29": {
         "anchor": "x29",
         "domain": [
          0,
          0.14285714285714285
         ]
        },
        "yaxis3": {
         "anchor": "x3",
         "domain": [
          0.857142857142857,
          0.9999999999999998
         ]
        },
        "yaxis30": {
         "anchor": "x30",
         "domain": [
          0,
          0.14285714285714285
         ]
        },
        "yaxis31": {
         "anchor": "x31",
         "domain": [
          0,
          0.14285714285714285
         ]
        },
        "yaxis4": {
         "anchor": "x4",
         "domain": [
          0.857142857142857,
          0.9999999999999998
         ]
        },
        "yaxis5": {
         "anchor": "x5",
         "domain": [
          0.7142857142857142,
          0.857142857142857
         ]
        },
        "yaxis6": {
         "anchor": "x6",
         "domain": [
          0.7142857142857142,
          0.857142857142857
         ]
        },
        "yaxis7": {
         "anchor": "x7",
         "domain": [
          0.7142857142857142,
          0.857142857142857
         ]
        },
        "yaxis8": {
         "anchor": "x8",
         "domain": [
          0.7142857142857142,
          0.857142857142857
         ]
        },
        "yaxis9": {
         "anchor": "x9",
         "domain": [
          0.5714285714285714,
          0.7142857142857142
         ]
        }
       }
      }
     },
     "metadata": {},
     "output_type": "display_data"
    }
   ],
   "source": [
    "fig = make_subplots(\n",
    "    rows=7, cols=5,\n",
    "    horizontal_spacing = 0.04,\n",
    "    vertical_spacing=0,\n",
    "    specs = [[{\"type\": \"scatterternary\", \"colspan\": 3, \"rowspan\": 7}, {}, {}, {}, {}],\n",
    "             [{}, {}, {}, {\"type\": \"table\", \"rowspan\": 2, \"colspan\": 2}, {}],\n",
    "             [{}, {}, {}, {}, {}],\n",
    "             [{}, {}, {}, {\"type\": \"table\", \"rowspan\": 2, \"colspan\": 2}, {}],\n",
    "             [{}, {}, {}, {}, {}],\n",
    "             [{}, {}, {}, {\"type\": \"table\", \"rowspan\": 2, \"colspan\": 2}, {}],\n",
    "             [{}, {}, {}, {}, {}]\n",
    "            ]\n",
    ")\n",
    "\n",
    "# Lines 50%\n",
    "fig.add_trace(go.Scatterternary(a=[0.5, 0.5, 0, 0.5], b=[0, 0.5, 0.5, 0], c=[0.5, 0, 0.5, 0.5],\n",
    "                                                mode='lines',\n",
    "                                                showlegend=False,\n",
    "                                                hoverinfo='skip',\n",
    "                                                marker={'size': 15,\n",
    "                                                        'color': 'black',\n",
    "                                                        'opacity': 1,#0.9-i*0.03,\n",
    "                                                        'line' :dict(width=0., color=\"rgba(89,168,89,1)\")},\n",
    "                                                line={'width': 1, #np.mean(s[i:i+2])*0.5,\n",
    "                                                        'color': 'black'},\n",
    "                                                textfont=dict(size=5,\n",
    "                                                        color='black')), 1, 1)\n",
    "\n",
    "fig.add_trace(tables[0], 2, 4)\n",
    "fig.add_trace(tables[1], 4, 4)\n",
    "fig.add_trace(tables[2], 6, 4)\n",
    "\n",
    "for n in range(len(conttraces)):\n",
    "        fig.add_trace(conttraces[n], 1, 1)\n",
    "\n",
    "for n in range(len(scatters)):\n",
    "    fig.add_trace(scatters[n], 1, 1)\n",
    "\n",
    "fig.update_layout(height=750, width=1300)\n",
    "fig.update_layout({'margin':dict(l=50,r=0,b=0,t=0),\n",
    "'ternary':\n",
    "{'sum':1,\n",
    "'bgcolor':'rgba(0,0,0,0)',\n",
    "'aaxis':{'title': 'Climate target<br>', 'min': 0, \n",
    "        'linewidth':0, 'ticks':'outside',\n",
    "        'tickmode':'array','tickvals':[0.5, 0.6, 0.7, 0.8, 0.9, 1.0], 'ticktext':['50%', '60%', '70%', '80%', '90%', '100%'], 'tickfont':{'size':12}},\n",
    "'baxis':{'title': 'Model &nbsp; &nbsp;', 'min': 0, \n",
    "        'linewidth':2, 'ticks':'outside',\n",
    "        'tickmode':'array','tickvals':[0.5, 0.6, 0.7, 0.8, 0.9, 1.0], 'ticktext':['50%', '60%', '70%', '80%', '90%', '100%'],'tickangle':60, 'tickfont':{'size':12}},\n",
    "'caxis':{'title': 'Other scenario<br>assumptions', 'min': 0, \n",
    "        'linewidth':2, 'ticks':'outside',\n",
    "        'tickmode':'array','tickvals':[0.5, 0.6, 0.7, 0.8, 0.9, 1.0], 'ticktext':['50%', '60%', '70%', '80%', '90%', '100%'],'tickangle':-60, 'tickfont':{'size':12}}}})\n",
    "\n",
    "fig.show()"
   ]
  },
  {
   "cell_type": "markdown",
   "metadata": {},
   "source": [
    "## Savings"
   ]
  },
  {
   "cell_type": "code",
   "execution_count": 84,
   "metadata": {},
   "outputs": [],
   "source": [
    "try:\n",
    "    os.remove('Figures/Paperfigures/Figure_si_fraction_d.html')\n",
    "except:\n",
    "    3\n",
    "def html_w(typ):\n",
    "    return '<html> '+typ+' <p style=\"font-family: Arial\">'\n",
    "\n",
    "# fig.write_image(\"Figures/Paperfigures/Figure_3_fd.pdf\")\n",
    "# fig.write_image(\"Figures/Paperfigures/Figure_3_fd.png\", scale=3)\n",
    "fig.write_image(\"Figures/Paperfigures/Figure_si_fraction_d.svg\")\n",
    "today = date.today()\n",
    "td = today.strftime(\"%B %d, %Y\")\n",
    "\n",
    "with open('Figures/Paperfigures/Figure_si_fraction_d.html', 'a') as f:\n",
    "    f.write(html_w('<h1>')+'Figure 3 - Overview</p></h1>')\n",
    "    f.write(html_w('<body>')+'Data is for year '+str(timestamp)+'. Version: '+td+'</p></body>')\n",
    "    f.write(fig.to_html(full_html=False, include_plotlyjs='cdn'))"
   ]
  }
 ],
 "metadata": {
  "interpreter": {
   "hash": "36d5d389870ab01fa625d0d5123f82469a3683fa0e02c4f7e9e76e9a75345aa3"
  },
  "kernelspec": {
   "display_name": "Python 3.9.11 ('MyEnv')",
   "language": "python",
   "name": "python3"
  },
  "language_info": {
   "codemirror_mode": {
    "name": "ipython",
    "version": 3
   },
   "file_extension": ".py",
   "mimetype": "text/x-python",
   "name": "python",
   "nbconvert_exporter": "python",
   "pygments_lexer": "ipython3",
   "version": "3.9.16"
  },
  "orig_nbformat": 4
 },
 "nbformat": 4,
 "nbformat_minor": 2
}
