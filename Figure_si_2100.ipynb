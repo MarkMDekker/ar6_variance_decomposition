{
 "cells": [
  {
   "cell_type": "markdown",
   "metadata": {},
   "source": [
    "## Preambule"
   ]
  },
  {
   "cell_type": "code",
   "execution_count": 22,
   "metadata": {},
   "outputs": [],
   "source": [
    "import numpy as np\n",
    "import xarray as xr\n",
    "from importlib import reload\n",
    "import Plotfunctions\n",
    "import pandas as pd\n",
    "import plotly.express as px\n",
    "from plotly.colors import n_colors\n",
    "from plotly.subplots import make_subplots\n",
    "import os\n",
    "import plotly.figure_factory as ff\n",
    "import matplotlib as mpl\n",
    "import plotly.io\n",
    "from pathlib import Path\n",
    "import matplotlib.pyplot as plt\n",
    "from datetime import date\n",
    "reload(Plotfunctions)\n",
    "import plotly.graph_objects as go\n",
    "from Plotfunctions import triangleplot, tableplot, spaghettiplot, draw_line\n",
    "path = Path.cwd() / \"Data\""
   ]
  },
  {
   "cell_type": "markdown",
   "metadata": {},
   "source": [
    "## With or without C8?"
   ]
  },
  {
   "cell_type": "code",
   "execution_count": 23,
   "metadata": {},
   "outputs": [],
   "source": [
    "st = \"\""
   ]
  },
  {
   "cell_type": "markdown",
   "metadata": {},
   "source": [
    "## Parameters"
   ]
  },
  {
   "cell_type": "code",
   "execution_count": 24,
   "metadata": {},
   "outputs": [],
   "source": [
    "timestamp = 2100\n",
    "srt = 2 # 1=model, 2=ccat"
   ]
  },
  {
   "cell_type": "markdown",
   "metadata": {},
   "source": [
    "## Prereading stuff"
   ]
  },
  {
   "cell_type": "code",
   "execution_count": 25,
   "metadata": {},
   "outputs": [],
   "source": [
    "try:\n",
    "    XRvar.close()\n",
    "except:\n",
    "    3\n",
    "XRvar = xr.open_dataset(path / (\"Variances\"+st+\".nc\"))\n",
    "XRvarsub = XRvar.sel(Time=timestamp)"
   ]
  },
  {
   "cell_type": "code",
   "execution_count": 26,
   "metadata": {},
   "outputs": [],
   "source": [
    "remove_vars = [\"Primary Energy|Other\",\n",
    "               \"Primary Energy|Non-Biomass Renewables\",\n",
    "               \"Secondary Energy|Electricity|Non-Biomass Renewables\",\n",
    "               \"Primary Energy|Ocean\",\n",
    "               \"Secondary Energy|Electricity|Ocean\",\n",
    "               \"Secondary Energy|Electricity|Other\"]\n",
    "Varlist = pd.read_excel(path / \"Varlist.xlsx\", sheet_name = \"Data\")\n",
    "vars = np.array(Varlist[\"Variable\"])\n",
    "cats = np.array(Varlist[\"Category\"])\n",
    "Names = np.unique(cats)\n",
    "for r in remove_vars:\n",
    "    wh = np.where((vars != r))[0]\n",
    "    vars = vars[wh]\n",
    "    cats = cats[wh]"
   ]
  },
  {
   "cell_type": "code",
   "execution_count": 27,
   "metadata": {},
   "outputs": [],
   "source": [
    "XRraw = xr.open_dataset(path / (\"XRdata\"+st+\".nc\"))\n",
    "XRmeta = xr.open_dataset(path / (\"XRmeta\"+st+\".nc\"))\n",
    "DF = pd.read_csv(path / (\"Models\"+st+\".csv\"))\n",
    "values = np.array(XRraw.Value)\n",
    "modscens = np.array(XRraw.ModelScenario)\n",
    "mods = np.array([i.split('|')[0] for i in modscens])\n",
    "ccat = np.array(XRmeta.sel(ModelScenario=XRraw.ModelScenario).Category.data)\n",
    "unimods = np.unique(mods)\n",
    "uniccat = np.unique(ccat)"
   ]
  },
  {
   "cell_type": "code",
   "execution_count": 28,
   "metadata": {},
   "outputs": [],
   "source": [
    "XR = XRvar.sel(Variable = vars[cats == \"Primary Energy\"])\n",
    "DF_counts = pd.read_csv(\"X:/user/dekkerm/Projects/AR6_Variance/variancedecomposition/Data/Counts\"+st+\".csv\", index_col=0)\n",
    "XR = XR.sel(Time=range(2030,2101))\n",
    "varlist = XR.Variable.data\n",
    "years = XR.Time.data\n",
    "varmax = np.max(XR['Var_total']).data\n",
    "cols = ['forestgreen', 'tomato', 'steelblue', 'goldenrod', 'purple', 'grey', 'brown',\n",
    "        'magenta', 'red', 'darkgrey', 'blue', 'black', 'darkgreen']\n",
    "years_str = np.copy(years).astype(str)\n",
    "years_str[(years_str != '2050') & (years_str != '2100')] = ''"
   ]
  },
  {
   "cell_type": "code",
   "execution_count": 29,
   "metadata": {},
   "outputs": [],
   "source": [
    "tot = np.array(XR.sel(Time=timestamp).S_c)+np.array(XR.sel(Time=timestamp).S_z)+np.array(XR.sel(Time=timestamp).S_m)\n",
    "ar = np.array([np.array(XR.Variable),\n",
    "np.array(XR.sel(Time=timestamp).S_m/tot).round(2),\n",
    "np.array(XR.sel(Time=timestamp).S_c/tot).round(2),\n",
    "np.array(XR.sel(Time=timestamp).S_z/tot).round(2)])\n",
    "\n",
    "colors = n_colors('rgb(255, 200, 200)', 'rgb(200, 0, 0)', 100, colortype='rgb')\n",
    "bar = px.colors.diverging.RdBu_r\n",
    "colors = []\n",
    "for i in range(len(bar)-1):\n",
    "        colors = colors+n_colors(px.colors.diverging.RdBu_r[i], px.colors.diverging.RdBu_r[i+1], int(100/len(bar)), colortype='rgb')\n",
    "colors = colors+n_colors(px.colors.diverging.RdBu_r[i+1], px.colors.diverging.RdBu_r[i+1], int(100/len(bar)), colortype='rgb')\n",
    "ar100 = (ar[1:]*100).astype(int)"
   ]
  },
  {
   "cell_type": "code",
   "execution_count": 30,
   "metadata": {},
   "outputs": [],
   "source": [
    "def rescale_size(s, max):\n",
    "    s /= max\n",
    "    s *= 1e11\n",
    "    s = s ** 0.1\n",
    "    return s"
   ]
  },
  {
   "cell_type": "markdown",
   "metadata": {},
   "source": [
    "## Create traces"
   ]
  },
  {
   "cell_type": "code",
   "execution_count": 31,
   "metadata": {},
   "outputs": [],
   "source": [
    "scatters = []\n",
    "tables = []\n",
    "namecolors = ['violet', 'forestgreen', 'goldenrod', 'peru', 'teal', 'silver']\n",
    "symbols = [u'\\u2601', u\"\\u2600\", u\"\\U0001F5F2\", u\"\\u26EE\", u'\\u26DF', u'\\u2302']\n",
    "namesymbols = ['circle', 'diamond-wide', 'star', 'square', 'cross', 'star-triangle-up', 'diamond-tall']\n",
    "for n_i, name in enumerate(['Emissions', 'Primary Energy', 'Electricity Generation', 'Sector Industry', 'Sector Transportation', 'Sector Residential']):\n",
    "    # General stuff\n",
    "    xrsub = XRvarsub.sel(Variable = vars[cats == name])\n",
    "\n",
    "    # Table\n",
    "    tot = 1#np.array(xrsub.S_c)+np.array(xrsub.S_z)+np.array(xrsub.S_m)\n",
    "    var = np.array(xrsub.Variable)\n",
    "    if name == 'Electricity Generation':\n",
    "        for v_i in range(len(var)):\n",
    "            if var[v_i] == 'Secondary Energy|Electricity':\n",
    "                var[v_i] = 'Total'\n",
    "            elif var[v_i] == 'Secondary Energy|Electricity|Gas|w/o CCS':\n",
    "                var[v_i] = 'Gas (without CCS)'\n",
    "            elif var[v_i] == 'Secondary Energy|Electricity|Gas|w/ CCS':\n",
    "                var[v_i] = 'Gas (with CCS)'\n",
    "            elif var[v_i] == 'Secondary Energy|Electricity|Coal|w/o CCS':\n",
    "                var[v_i] = 'Coal (without CCS)'\n",
    "            elif var[v_i] == 'Secondary Energy|Electricity|Coal|w/ CCS':\n",
    "                var[v_i] = 'Coal (with CCS)'\n",
    "            elif var[v_i] == 'Secondary Energy|Electricity|Biomass|w/ CCS':\n",
    "                var[v_i] = 'Biomass (with CCS)'\n",
    "            elif var[v_i] == 'Secondary Energy|Electricity|Biomass|w/o CCS':\n",
    "                var[v_i] = 'Biomass (without CCS)'\n",
    "            else:\n",
    "                var[v_i] = var[v_i][29:]\n",
    "    if name == 'Primary Energy':\n",
    "        for v_i in range(len(var)):\n",
    "            if var[v_i] == 'Primary Energy':\n",
    "                var[v_i] = 'Total'\n",
    "            else:\n",
    "                var[v_i] = var[v_i][15:]\n",
    "    if name == 'Emissions':\n",
    "        for v_i in range(len(var)):\n",
    "            if var[v_i] == 'Emissions|CO2|Energy|Supply|Electricity':\n",
    "                var[v_i] = 'Electricity (CO<sub>2</sub>)'\n",
    "            elif var[v_i] == 'Emissions|CO2':\n",
    "                var[v_i] = 'CO<sub>2</sub>'\n",
    "            elif var[v_i] == 'Emissions|N2O':\n",
    "                var[v_i] = 'N<sub>2</sub>O'\n",
    "            elif var[v_i] == 'Emissions|CH4':\n",
    "                var[v_i] = 'CH<sub>4</sub>'\n",
    "            elif var[v_i] == 'Emissions|CO2|Energy|Demand|Industry':\n",
    "                var[v_i] = 'Industry (CO<sub>2</sub>)'\n",
    "            elif var[v_i] == 'Emissions|CO2|Energy|Demand|Transportation':\n",
    "                var[v_i] = 'Transport (CO<sub>2</sub>)'\n",
    "            elif var[v_i] == 'Emissions|CO2|Energy|Demand|Residential and Commercial':\n",
    "                var[v_i] = 'Buildings (CO<sub>2</sub>)'\n",
    "            else:\n",
    "                var[v_i] = var[v_i][10:]\n",
    "    if name == 'Sector Industry':\n",
    "        for v_i in range(len(var)):\n",
    "            if var[v_i] == 'Final Energy|Industry':\n",
    "                var[v_i] = 'Total'\n",
    "            elif var[v_i] == 'Final Energy|Industry|Solids|Coal':\n",
    "                var[v_i] = 'Coal'\n",
    "            elif var[v_i] == 'Final Energy|Industry|Solids|Biomass':\n",
    "                var[v_i] = 'Biomass'\n",
    "            else:\n",
    "                var[v_i] = var[v_i][22:]\n",
    "    if name == 'Sector Residential':\n",
    "        for v_i in range(len(var)):\n",
    "            if var[v_i] == 'Final Energy|Residential and Commercial':\n",
    "                var[v_i] = 'Total'\n",
    "            elif var[v_i] == 'Final Energy|Residential and Commercial|Solids|Biomass':\n",
    "                var[v_i] = 'Biomass'\n",
    "            else:\n",
    "                var[v_i] = var[v_i][40:]\n",
    "    if name == 'Sector Transportation':\n",
    "        for v_i in range(len(var)):\n",
    "            if var[v_i] == 'Final Energy|Transportation':\n",
    "                var[v_i] = 'Total'\n",
    "            elif var[v_i] == 'Final Energy|Transportation|Liquids|Oil':\n",
    "                var[v_i] = 'Oil'\n",
    "            elif var[v_i] == 'Final Energy|Transportation|Liquids|Bioenergy':\n",
    "                var[v_i] = 'Bioenergy'\n",
    "            else:\n",
    "                var[v_i] = var[v_i][28:]\n",
    "    ar = np.array([var,\n",
    "                   np.array((xrsub.S_m+0.5*xrsub.S_mc)/tot).round(2),\n",
    "                   np.array((xrsub.S_c+0.5*xrsub.S_mc)/tot).round(2),\n",
    "                   np.array(xrsub.S_z/tot).round(2)])\n",
    "    colors = n_colors('rgb(255, 200, 200)', 'rgb(200, 0, 0)', 100, colortype='rgb')\n",
    "    bar = px.colors.diverging.RdBu_r\n",
    "    colors = []\n",
    "    for i in range(len(bar)-1):\n",
    "        colors = colors+n_colors(px.colors.diverging.RdBu_r[i], px.colors.diverging.RdBu_r[i+1], int(100/len(bar)), colortype='rgb')\n",
    "    colors = colors+n_colors(px.colors.diverging.RdBu_r[i+1], px.colors.diverging.RdBu_r[i+1], int(100/len(bar)), colortype='rgb')\n",
    "    ar100 = 10+(ar[1:]*70).astype(int)+10\n",
    "\n",
    "    head = name\n",
    "    if name == 'Sector Residential':\n",
    "        head = \"Buildings\"\n",
    "    if name == 'Sector Industry':\n",
    "        head = \"Industry\"\n",
    "    if name == 'Sector Transportation':\n",
    "        head = \"Transport\"\n",
    "    if name == 'Electricity Generation':\n",
    "        head = \"Electricity\"\n",
    "    tables.append(go.Table(columnwidth = [4, 1, 1, 1],\n",
    "                        header = dict(values = [['<b>'+head+'</b>'],\n",
    "                                      [\"<b>Model</b>\"],\n",
    "                                      ['<b>Climate</b>'],\n",
    "                                      ['<b>Other</b>']],\n",
    "                                      line_color='white',\n",
    "                                      fill_color=[namecolors[n_i], 'white', 'white', 'white'],\n",
    "                                      align=['center','center','center','center'],\n",
    "                                      font=dict(color='black', size=12),\n",
    "                                      height=22,\n",
    "                                     ),\n",
    "                        cells=dict(values=ar[:, ar[srt].argsort()[::-1]],\n",
    "                                   line={'color': 'black', 'width': 0},\n",
    "                                   align=['center','center','center','center'],\n",
    "                                   fill_color=['white', \n",
    "                                               np.array(colors)[ar100[:, ar[srt].argsort()[::-1]][0]],\n",
    "                                               np.array(colors)[ar100[:, ar[srt].argsort()[::-1]][1]],\n",
    "                                               np.array(colors)[ar100[:, ar[srt].argsort()[::-1]][2]]],\n",
    "                                   font={#'family' : [\"Arial\", \"Arial Black\", \"Arial Black\", \"Arial Black\"],\n",
    "                                         'color': 'black',\n",
    "                                         'size': 11},\n",
    "                                   height=22,\n",
    "                                  )\n",
    "                       ))\n",
    "\n",
    "    # Scatter\n",
    "    varlist = np.array(xrsub.Variable)\n",
    "    for v in range(len(varlist)):\n",
    "            ds = xrsub.sel(Variable=varlist[v])\n",
    "            a, b, c, d, s = np.array(ds[['S_c', 'S_m', 'S_z', 'S_mc', 'Var_total']].to_array())\n",
    "            s = 20# 2*rescale_size(float(s/XRraw.sel(Time=timestamp, Variable=varlist[v]).Value.mean(axis=0)), varmax)\n",
    "            lw = 1 # s/10\n",
    "            if varlist[v] == 'Secondary Energy|Electricity|Wind+Solar':\n",
    "                    count = np.min([list(DF_counts[DF_counts.Variable==\"Secondary Energy|Electricity|Wind\"].Count)[0],\n",
    "                                    list(DF_counts[DF_counts.Variable==\"Secondary Energy|Electricity|Solar\"].Count)[0]])\n",
    "            elif varlist[v] == 'Primary Energy|Wind+Solar':\n",
    "                    count = np.min([list(DF_counts[DF_counts.Variable==\"Primary Energy|Wind\"].Count)[0],\n",
    "                                    list(DF_counts[DF_counts.Variable==\"Primary Energy|Solar\"].Count)[0]])\n",
    "            else:\n",
    "                    count = list(DF_counts[DF_counts.Variable==varlist[v]].Count)[0]\n",
    "\n",
    "            maxsize2 = 32\n",
    "            if varlist[v] in ['Primary Energy|Coal',\n",
    "                              'Primary Energy|Oil',\n",
    "                              'Emissions|Kyoto Gases',\n",
    "                              'Secondary Energy|Electricity|Coal|w/o CCS',\n",
    "                              'Final Energy|Industry|Electricity',\n",
    "                              'Final Energy|Transportation|Electricity',\n",
    "                              'Final Energy|Residential and Commercial|Electricity',\n",
    "                              'Final Energy|Transportation|Hydrogen',\n",
    "                              'Primary Energy|Renewables (incl. Biomass)']:\n",
    "                da = 0\n",
    "                if varlist[v] == \"Emissions|Kyoto Gases\": da = 0.06\n",
    "                lw = 0\n",
    "                scatters.append(go.Scatterternary(a=[a+0.5*d+da], b=[b+0.5*d], c=[c],\n",
    "                                                hoverinfo='skip',\n",
    "                                                mode='markers', marker={'size': maxsize2-4, 'symbol': 'circle-open', 'color': namecolors[n_i]},\n",
    "                                                marker_line_width = 2,\n",
    "                                                showlegend=False))\n",
    "                scatters.append(go.Scatterternary(a=[a+0.5*d+da], b=[b+0.5*d], c=[c],\n",
    "                                                hoverinfo='skip',\n",
    "                                                mode='markers', marker={'size': maxsize2, 'symbol': 'circle-open', 'color': 'black'},\n",
    "                                                marker_line_width = 3,\n",
    "                                                showlegend=False))\n",
    "            scatters.append(go.Scatterternary(a=[a+0.5*d], b=[b+0.5*d], c=[c],\n",
    "                                            mode='markers', name=varlist[v]+' ('+str(count)+')', showlegend=False, text=[timestamp],\n",
    "                                            hovertemplate='%{text}<br>Var (climate): %{a}<br>Var (model): %{b} <br>Var (other): %{c}',\n",
    "                                            marker={'size': 0.1, 'symbol': namesymbols[n_i], 'color': namecolors[n_i], 'opacity': 1, 'line' :dict(width=lw, color='black')},\n",
    "                                            line={'width': 1.5},\n",
    "                                            textfont=dict(size=1, color=namecolors[n_i])))\n",
    "            maxsize = 23\n",
    "            if name == 'Sector Transportation':\n",
    "                scatters.append(go.Scatterternary(a=[a+0.5*d], b=[b+0.5*d], c=[c],\n",
    "                                mode='text', textfont={'size': maxsize-2, 'color': 'teal'},\n",
    "                                text=[u'\\u26DF'], showlegend=False))\n",
    "            if name == 'Sector Residential':\n",
    "                for k in np.arange(1, maxsize, 1):\n",
    "                    scatters.append(go.Scatterternary(a=[a+0.5*d], b=[b+0.5*d], c=[c],\n",
    "                                    mode='text', textfont={'size': k, 'color': 'darkgray'},\n",
    "                                    text=[u'\\u2302'], showlegend=False))\n",
    "            if name == 'Electricity Generation':\n",
    "                scatters.append(go.Scatterternary(a=[a+0.5*d], b=[b+0.5*d], c=[c],\n",
    "                                mode='text', textfont={'size': maxsize, 'color': 'goldenrod'},\n",
    "                                text=[u\"\\U0001F5F2\"], showlegend=False))\n",
    "            if name == 'Sector Industry':\n",
    "                # for k in np.arange(20, 35, 1):\n",
    "                #     scatters.append(go.Scatterternary(a=[a], b=[b], c=[c],\n",
    "                #                     mode='text', textfont={'size': k, 'color': 'peru'},\n",
    "                #                     text=[u\"\\u26EE\"], showlegend=False))\n",
    "                scatters.append(go.Scatterternary(a=[a+0.5*d], b=[b+0.5*d], c=[c],\n",
    "                                mode='text', textfont={'size': maxsize-2, 'color': 'peru'},\n",
    "                                text=[u\"\\u26EE\"], showlegend=False))\n",
    "            if name == 'Emissions':\n",
    "                scatters.append(go.Scatterternary(a=[a+0.5*d], b=[b+0.5*d], c=[c],\n",
    "                                mode='text', textfont={'size': maxsize, 'color': 'violet'},\n",
    "                                text=[u'\\u2601'], showlegend=False))\n",
    "            if name == 'Primary Energy':\n",
    "                scatters.append(go.Scatterternary(a=[a+0.5*d], b=[b+0.5*d], c=[c],\n",
    "                                mode='text', textfont={'size': maxsize, 'color': 'forestgreen'},\n",
    "                                text=[u\"\\u2600\"], showlegend=False))\n",
    "#['Emissions', 'Primary Energy', 'Electricity Generation', 'Sector Industry', 'Sector Transportation', 'Sector Residential']\n"
   ]
  },
  {
   "cell_type": "markdown",
   "metadata": {},
   "source": [
    "Ternary plot"
   ]
  },
  {
   "cell_type": "code",
   "execution_count": 32,
   "metadata": {},
   "outputs": [
    {
     "name": "stderr",
     "output_type": "stream",
     "text": [
      "C:\\Users\\dekkerm\\AppData\\Local\\Temp\\2\\ipykernel_2952\\4024270652.py:6: MatplotlibDeprecationWarning:\n",
      "\n",
      "The get_cmap function was deprecated in Matplotlib 3.7 and will be removed two minor releases later. Use ``matplotlib.colormaps[name]`` or ``matplotlib.colormaps.get_cmap(obj)`` instead.\n",
      "\n"
     ]
    }
   ],
   "source": [
    "trace_ternary_lines = []\n",
    "for i in range(10):\n",
    "        a = [0+i*0.1, 0+i*0.1]\n",
    "        b = [0, 1-a[0]]\n",
    "        c = [1-a[0], 0]\n",
    "        rgb = mpl.colors.colorConverter.to_rgb(plt.cm.get_cmap('Greys')(0.+i/20))\n",
    "        col = 'rgb('+str(rgb[0])+','+str(rgb[1])+','+str(rgb[2])+')'\n",
    "        trace_ternary_lines.append(go.Scatterternary(a=a, b=b, c=c, showlegend=False, mode='lines', hoverinfo='skip', line={'width': 0.25+i*0.1, 'color': col}))\n",
    "        trace_ternary_lines.append(go.Scatterternary(a=b, b=a, c=c, showlegend=False, mode='lines', hoverinfo='skip', line={'width': 0.25+i*0.1, 'color': col}))\n",
    "        trace_ternary_lines.append(go.Scatterternary(a=b, b=c, c=a, showlegend=False, mode='lines', hoverinfo='skip', line={'width': 0.25+i*0.1, 'color': col}))\n",
    "\n",
    "trace_ternary_border = []\n",
    "#trace_ternary_border.append(go.Scatterternary(a=[0.005, 0.005], b=[0, 0.25], c=[0.25, 0], showlegend=False, mode='lines', hoverinfo='skip', line={'width': 2, 'color': 'black'}))\n",
    "#trace_ternary_border.append(go.Scatterternary(a=[0, 0.5], b=[0.005, 0.005], c=[0.5, 0], showlegend=False, mode='lines', hoverinfo='skip', line={'width': 2, 'color': 'black'}))\n",
    "#trace_ternary_border.append(go.Scatterternary(a=[0, 1], b=[1, 0], c=[0.005, 0.005], showlegend=False, mode='lines', hoverinfo='skip', line={'width': 2, 'color': 'black'}))"
   ]
  },
  {
   "attachments": {},
   "cell_type": "markdown",
   "metadata": {},
   "source": [
    "## Contours"
   ]
  },
  {
   "cell_type": "code",
   "execution_count": 33,
   "metadata": {},
   "outputs": [],
   "source": [
    "def clean_data(data_in):\n",
    "    \"\"\"\n",
    "    Cleans data in a format which can be conveniently\n",
    "    used for drawing traces. Takes a dictionary as the\n",
    "    input, and returns a list in the following format:\n",
    "\n",
    "    input = {'key': ['a b c']}\n",
    "    output = [key, [a, b, c]]\n",
    "    \"\"\"\n",
    "    key = list(data_in.keys())[0]\n",
    "    data_out = [key]\n",
    "    for i in data_in[key]:\n",
    "        data_out.append(list(map(float, i.split(' '))))\n",
    "\n",
    "    return data_out"
   ]
  },
  {
   "cell_type": "code",
   "execution_count": 34,
   "metadata": {},
   "outputs": [],
   "source": [
    "conts = []\n",
    "for i in np.arange(35, 51, 5):\n",
    "    conts.append({str(i): [str(i) +' '+str(i)+' '+str(100-2*i),\n",
    "                  str(i) +' '+str(100-2*i)+' '+str(i),\n",
    "                  str(100-2*i) +' '+str(i)+' '+str(i)]})\n",
    "for i in np.arange(55, 101, 5):\n",
    "    i0 = str(i)\n",
    "    i1 = str(100-i)\n",
    "    conts.append({str(i): [i0+' '+i1+' 0',\n",
    "                            i0+' 0 '+i1,\n",
    "                            i1+' 0 '+i0,\n",
    "                            '0 '+i1+' '+i0,\n",
    "                            '0 '+i0+' '+i1,\n",
    "                            i1+' '+i0+' 0',\n",
    "                            i0+' '+i1+' 0']})"
   ]
  },
  {
   "cell_type": "code",
   "execution_count": 35,
   "metadata": {},
   "outputs": [],
   "source": [
    "conts2 = []\n",
    "for i in np.arange(35, 51, 5):\n",
    "    conts2.append({str(i): [str(i) +' '+str(i)+' '+str(100-2*i),\n",
    "                  str(i) +' '+str(100-2*i)+' '+str(i),\n",
    "                  str(100-2*i) +' '+str(i)+' '+str(i)]})\n",
    "for x in np.arange(55, 101, 5):\n",
    "    conts2.append({str(i): [str(x)+' '+'0'+' '+str(100-x),\n",
    "                               str(x-5)+' '+'0'+' '+str(100-(x-5)),\n",
    "                               str(x-5)+' '+str(100-(x-5))+' '+'0',\n",
    "                               str(x)+' '+str(100-x)+' '+'0',\n",
    "                               str(x)+' '+'0'+' '+str(100-x)\n",
    "                                ]})\n",
    "    conts2.append({str(i): ['0'+' '+str(100-x)+' '+str(x),\n",
    "                               '0'+' '+str(100-(x-5))+' '+str(x-5),\n",
    "                               str(100-(x-5))+' '+'0'+' '+str(x-5),\n",
    "                               str(100-x)+' '+'0'+' '+str(x),\n",
    "                               '0'+' '+str(100-x)+' '+str(x)\n",
    "                                ]})\n",
    "    conts2.append({str(i): [str(100-x)+' '+str(x)+' '+'0',\n",
    "                               str(100-(x-5))+' '+str(x-5)+' '+'0',\n",
    "                               '0'+' '+str(x-5)+' '+str(100-(x-5)),\n",
    "                               '0'+' '+str(x)+' '+str(100-x),\n",
    "                               str(100-x)+' '+str(x)+' '+'0'\n",
    "                                ]})"
   ]
  },
  {
   "cell_type": "code",
   "execution_count": 36,
   "metadata": {},
   "outputs": [],
   "source": [
    "bar = px.colors.sequential.Greys # px.colors.diverging.RdBu_r\n",
    "#bar = bar[2:-2]\n",
    "#bar = bar[int(len(bar)/2)-2:]\n",
    "colors = []\n",
    "for i in range(len(bar)-1):\n",
    "    colors = colors+n_colors(bar[i], bar[i+1], int(200/len(bar)), colortype='rgb')\n",
    "colors = colors+n_colors(bar[i+1], bar[i+1], int(200/len(bar)), colortype='rgb')"
   ]
  },
  {
   "cell_type": "code",
   "execution_count": 37,
   "metadata": {},
   "outputs": [],
   "source": [
    "conttraces = []\n",
    "n = 0\n",
    "for raw_data in conts2:\n",
    "    data = clean_data(raw_data)\n",
    "\n",
    "    a = [inner_data[0] for inner_data in data[1:]]\n",
    "    a.append(data[1][0]) # Closing the loop\n",
    "\n",
    "    b = [inner_data[1] for inner_data in data[1:]]\n",
    "    b.append(data[1][1]) # Closing the loop\n",
    "\n",
    "    c = [inner_data[2] for inner_data in data[1:]]\n",
    "    c.append(data[1][2]) # Closing the loop\n",
    "\n",
    "    conttraces.append(go.Scatterternary(\n",
    "        text = data[0],\n",
    "        a=a, b=b, c=c, mode='lines',\n",
    "        line=dict(color='black', width=0),\n",
    "        fill='toself',showlegend=False, hoverinfo='skip', opacity=0.2, \n",
    "        fillcolor = colors[int(200/len(conts2)*n)]#colors_iterator.__next__()\n",
    "    ))\n",
    "    n+=1\n",
    "conttraces = conttraces[::-1]"
   ]
  },
  {
   "cell_type": "markdown",
   "metadata": {},
   "source": [
    "## Add together"
   ]
  },
  {
   "cell_type": "code",
   "execution_count": 38,
   "metadata": {},
   "outputs": [],
   "source": [
    "def draw_line(fig, name, x, y, xt, yt, color):\n",
    "    fig.add_shape(type=\"line\", xref='paper', yref='paper',\n",
    "                  x0=x,\n",
    "                  y0=x+xt,\n",
    "                  x1=x,\n",
    "                  y1=y+yt,\n",
    "                  line=dict(color=color, width=3))\n",
    "    fig.add_annotation(xref='paper',\n",
    "                       yref='paper',\n",
    "                       #xref = 'x4',\n",
    "                       #yref = 'y4',\n",
    "                       x=x,\n",
    "                       ax=xt,\n",
    "                       align=\"center\",\n",
    "                       y=y,\n",
    "                       ay=yt,\n",
    "                       text=name,\n",
    "                       #textangle=90,\n",
    "                       font=dict(color=color,\n",
    "                                 family='Arial Black',\n",
    "                                 size=12),\n",
    "                       showarrow=True)"
   ]
  },
  {
   "cell_type": "code",
   "execution_count": 39,
   "metadata": {},
   "outputs": [],
   "source": [
    "def draw_ann(fig, name, x, y, color, vert, hor):\n",
    "    align = 'left'\n",
    "    h = 1\n",
    "    if hor == 'left':\n",
    "        align = 'right'\n",
    "        h = -1\n",
    "    v = 1\n",
    "    if vert == 'down':\n",
    "        v = -1\n",
    "    dy = 0\n",
    "    if y>0.5:\n",
    "        dy = 0.02\n",
    "    dx = 0\n",
    "    if y> 0.9:\n",
    "        dx = -0.02\n",
    "    fig.add_shape(type=\"line\", xref='paper', yref='paper',\n",
    "                  x0=x,\n",
    "                  y0=y,\n",
    "                  x1=x+0.02*h,\n",
    "                  y1=y+0.02*v,\n",
    "                  line=dict(color='black', width=3))\n",
    "    fig.add_shape(type=\"line\", xref='paper', yref='paper',\n",
    "                  x0=x+[0, 0.15, -0.11][h],\n",
    "                  y0=y+0.02*v,\n",
    "                  x1=x+0.02*h,\n",
    "                  y1=y+0.02*v,\n",
    "                  line=dict(color='black', width=3))\n",
    "    fig.add_annotation(xref='paper',\n",
    "                       yref='paper',\n",
    "                       #xref = 'x4',\n",
    "                       #yref = 'y4',\n",
    "                       x=x+0.2*h+dx,\n",
    "                       ax=0,\n",
    "                       align=align,\n",
    "                       y=y+0.02*v+dy,\n",
    "                       ay=-0,\n",
    "                       text=name,\n",
    "                       #textangle=90,\n",
    "                       font=dict(color=color,\n",
    "                                 family='Arial Black',\n",
    "                                 size=12),\n",
    "                       showarrow=False)"
   ]
  },
  {
   "cell_type": "code",
   "execution_count": 40,
   "metadata": {},
   "outputs": [
    {
     "data": {
      "application/vnd.plotly.v1+json": {
       "config": {
        "plotlyServerURL": "https://plotly.com"
       },
       "data": [
        {
         "a": [
          0.5,
          0.5,
          0,
          0.5
         ],
         "b": [
          0,
          0.5,
          0.5,
          0
         ],
         "c": [
          0.5,
          0,
          0.5,
          0.5
         ],
         "hoverinfo": "skip",
         "line": {
          "color": "black",
          "dash": "dot",
          "width": 1
         },
         "marker": {
          "color": "black",
          "line": {
           "color": "black",
           "width": 0
          },
          "opacity": 1,
          "size": 15
         },
         "mode": "lines",
         "showlegend": false,
         "subplot": "ternary",
         "textfont": {
          "color": "black",
          "size": 5
         },
         "type": "scatterternary"
        },
        {
         "cells": {
          "align": [
           "center",
           "center",
           "center",
           "center"
          ],
          "fill": {
           "color": [
            "white",
            [
             "rgb(96.625, 165.75, 205.125)",
             "rgb(116.375, 178.25, 211.875)",
             "rgb(169.625, 209.0, 228.75)",
             "rgb(185.375, 217.0, 233.25)",
             "rgb(209.0, 229.0, 240.0)",
             "rgb(218.5, 233.5, 241.75)",
             "rgb(249.25, 236.5, 229.0)",
             "rgb(252.25, 222.5, 205.0)"
            ],
            [
             "rgb(159.25, 18.0, 40.0)",
             "rgb(178.0, 24.0, 43.0)",
             "rgb(221.5, 113.25, 90.25)",
             "rgb(225.25, 121.875, 96.875)",
             "rgb(232.75, 139.125, 110.125)",
             "rgb(240.25, 156.375, 123.375)",
             "rgb(253.0, 219.0, 199.0)",
             "rgb(247.75, 243.5, 241.0)"
            ],
            [
             "rgb(126.25, 184.5, 215.25)",
             "rgb(136.125, 190.75, 218.625)",
             "rgb(161.75, 205.0, 226.5)",
             "rgb(161.75, 205.0, 226.5)",
             "rgb(153.875, 201.0, 224.25)",
             "rgb(153.875, 201.0, 224.25)",
             "rgb(161.75, 205.0, 226.5)",
             "rgb(169.625, 209.0, 228.75)"
            ]
           ]
          },
          "font": {
           "color": "black",
           "size": 11
          },
          "height": 22,
          "line": {
           "color": "black",
           "width": 0
          },
          "values": [
           [
            "Kyoto Gases",
            "CO<sub>2</sub>",
            "Industry (CO<sub>2</sub>)",
            "Electricity (CO<sub>2</sub>)",
            "CH<sub>4</sub>",
            "Transport (CO<sub>2</sub>)",
            "Buildings (CO<sub>2</sub>)",
            "N<sub>2</sub>O"
           ],
           [
            0.02,
            0.05,
            0.15,
            0.18,
            0.22,
            0.26,
            0.4,
            0.47
           ],
           [
            0.9,
            0.87,
            0.71,
            0.69,
            0.66,
            0.63,
            0.48,
            0.38
           ],
           [
            0.07,
            0.08,
            0.14,
            0.13,
            0.12,
            0.12,
            0.13,
            0.15
           ]
          ]
         },
         "columnwidth": [
          4,
          1,
          1,
          1
         ],
         "domain": {
          "x": [
           0,
           0.3066666666666667
          ],
          "y": [
           0,
           0.30000000000000004
          ]
         },
         "header": {
          "align": [
           "center",
           "center",
           "center",
           "center"
          ],
          "fill": {
           "color": [
            "violet",
            "white",
            "white",
            "white"
           ]
          },
          "font": {
           "color": "black",
           "size": 12
          },
          "height": 22,
          "line": {
           "color": "white"
          },
          "values": [
           [
            "<b>Emissions</b>"
           ],
           [
            "<b>Model</b>"
           ],
           [
            "<b>Climate</b>"
           ],
           [
            "<b>Other</b>"
           ]
          ]
         },
         "type": "table"
        },
        {
         "cells": {
          "align": [
           "center",
           "center",
           "center",
           "center"
          ],
          "fill": {
           "color": [
            "white",
            [
             "rgb(153.875, 201.0, 224.25)",
             "rgb(218.5, 233.5, 241.75)",
             "rgb(242.25, 244.75, 246.125)",
             "rgb(247.0, 247.0, 247.0)",
             "rgb(252.25, 222.5, 205.0)",
             "rgb(251.5, 226.0, 211.0)",
             "rgb(244.0, 165.0, 130.0)",
             "rgb(232.75, 139.125, 110.125)",
             "rgb(246.25, 178.5, 147.25)",
             "rgb(205.0, 78.0, 68.5)",
             "rgb(229.0, 130.5, 103.5)"
            ],
            [
             "rgb(217.75, 104.625, 83.625)",
             "rgb(244.0, 165.0, 130.0)",
             "rgb(250.0, 233.0, 223.0)",
             "rgb(237.5, 242.5, 245.25)",
             "rgb(232.75, 240.25, 244.375)",
             "rgb(209.0, 229.0, 240.0)",
             "rgb(177.5, 213.0, 231.0)",
             "rgb(161.75, 205.0, 226.5)",
             "rgb(161.75, 205.0, 226.5)",
             "rgb(146.0, 197.0, 222.0)",
             "rgb(146.0, 197.0, 222.0)"
            ],
            [
             "rgb(177.5, 213.0, 231.0)",
             "rgb(153.875, 201.0, 224.25)",
             "rgb(213.75, 231.25, 240.875)",
             "rgb(232.75, 240.25, 244.375)",
             "rgb(209.0, 229.0, 240.0)",
             "rgb(237.5, 242.5, 245.25)",
             "rgb(209.0, 229.0, 240.0)",
             "rgb(193.25, 221.0, 235.5)",
             "rgb(223.25, 235.75, 242.625)",
             "rgb(146.0, 197.0, 222.0)",
             "rgb(209.0, 229.0, 240.0)"
            ]
           ]
          },
          "font": {
           "color": "black",
           "size": 11
          },
          "height": 22,
          "line": {
           "color": "black",
           "width": 0
          },
          "values": [
           [
            "Coal",
            "Oil",
            "Gas",
            "Total",
            "Biomass",
            "Renewables (incl. Biomass)",
            "Wind",
            "Geothermal",
            "Nuclear",
            "Hydro",
            "Solar"
           ],
           [
            0.12,
            0.26,
            0.33,
            0.37,
            0.47,
            0.45,
            0.6,
            0.67,
            0.58,
            0.78,
            0.68
           ],
           [
            0.72,
            0.62,
            0.42,
            0.32,
            0.3,
            0.23,
            0.16,
            0.14,
            0.14,
            0.1,
            0.1
           ],
           [
            0.16,
            0.12,
            0.25,
            0.31,
            0.23,
            0.32,
            0.24,
            0.19,
            0.28,
            0.11,
            0.22
           ]
          ]
         },
         "columnwidth": [
          4,
          1,
          1,
          1
         ],
         "domain": {
          "x": [
           0.3466666666666667,
           0.6533333333333333
          ],
          "y": [
           0,
           0.30000000000000004
          ]
         },
         "header": {
          "align": [
           "center",
           "center",
           "center",
           "center"
          ],
          "fill": {
           "color": [
            "forestgreen",
            "white",
            "white",
            "white"
           ]
          },
          "font": {
           "color": "black",
           "size": 12
          },
          "height": 22,
          "line": {
           "color": "white"
          },
          "values": [
           [
            "<b>Primary Energy</b>"
           ],
           [
            "<b>Model</b>"
           ],
           [
            "<b>Climate</b>"
           ],
           [
            "<b>Other</b>"
           ]
          ]
         },
         "type": "table"
        },
        {
         "cells": {
          "align": [
           "center",
           "center",
           "center",
           "center"
          ],
          "fill": {
           "color": [
            "white",
            [
             "rgb(251.5, 226.0, 211.0)",
             "rgb(252.25, 222.5, 205.0)",
             "rgb(214.0, 96.0, 77.0)",
             "rgb(240.25, 156.375, 123.375)",
             "rgb(214.0, 96.0, 77.0)"
            ],
            [
             "rgb(250.75, 229.5, 217.0)",
             "rgb(185.375, 217.0, 233.25)",
             "rgb(177.5, 213.0, 231.0)",
             "rgb(146.0, 197.0, 222.0)",
             "rgb(146.0, 197.0, 222.0)"
            ],
            [
             "rgb(161.75, 205.0, 226.5)",
             "rgb(242.25, 244.75, 246.125)",
             "rgb(146.0, 197.0, 222.0)",
             "rgb(213.75, 231.25, 240.875)",
             "rgb(177.5, 213.0, 231.0)"
            ]
           ]
          },
          "font": {
           "color": "black",
           "size": 11
          },
          "height": 22,
          "line": {
           "color": "black",
           "width": 0
          },
          "values": [
           [
            "Gases",
            "Biomass",
            "Liquids",
            "Total",
            "Electricity"
           ],
           [
            0.45,
            0.47,
            0.73,
            0.64,
            0.73
           ],
           [
            0.43,
            0.18,
            0.16,
            0.11,
            0.1
           ],
           [
            0.13,
            0.34,
            0.11,
            0.25,
            0.17
           ]
          ]
         },
         "columnwidth": [
          4,
          1,
          1,
          1
         ],
         "domain": {
          "x": [
           0.6933333333333334,
           1
          ],
          "y": [
           0.4,
           0.6
          ]
         },
         "header": {
          "align": [
           "center",
           "center",
           "center",
           "center"
          ],
          "fill": {
           "color": [
            "silver",
            "white",
            "white",
            "white"
           ]
          },
          "font": {
           "color": "black",
           "size": 12
          },
          "height": 22,
          "line": {
           "color": "white"
          },
          "values": [
           [
            "<b>Buildings</b>"
           ],
           [
            "<b>Model</b>"
           ],
           [
            "<b>Climate</b>"
           ],
           [
            "<b>Other</b>"
           ]
          ]
         },
         "type": "table"
        },
        {
         "cells": {
          "align": [
           "center",
           "center",
           "center",
           "center"
          ],
          "fill": {
           "color": [
            "white",
            [
             "rgb(251.875, 212.25, 190.375)",
             "rgb(251.875, 212.25, 190.375)",
             "rgb(247.375, 185.25, 155.875)",
             "rgb(244.0, 165.0, 130.0)",
             "rgb(246.25, 178.5, 147.25)",
             "rgb(221.5, 113.25, 90.25)",
             "rgb(214.0, 96.0, 77.0)"
            ],
            [
             "rgb(247.0, 247.0, 247.0)",
             "rgb(232.75, 240.25, 244.375)",
             "rgb(232.75, 240.25, 244.375)",
             "rgb(218.5, 233.5, 241.75)",
             "rgb(201.125, 225.0, 237.75)",
             "rgb(153.875, 201.0, 224.25)",
             "rgb(116.375, 178.25, 211.875)"
            ],
            [
             "rgb(153.875, 201.0, 224.25)",
             "rgb(201.125, 225.0, 237.75)",
             "rgb(161.75, 205.0, 226.5)",
             "rgb(161.75, 205.0, 226.5)",
             "rgb(209.0, 229.0, 240.0)",
             "rgb(185.375, 217.0, 233.25)",
             "rgb(201.125, 225.0, 237.75)"
            ]
           ]
          },
          "font": {
           "color": "black",
           "size": 11
          },
          "height": 22,
          "line": {
           "color": "black",
           "width": 0
          },
          "values": [
           [
            "Coal",
            "Gases",
            "Liquids",
            "Biomass",
            "Electricity",
            "Total",
            "Hydrogen"
           ],
           [
            0.51,
            0.5,
            0.56,
            0.6,
            0.58,
            0.7,
            0.74
           ],
           [
            0.37,
            0.3,
            0.3,
            0.27,
            0.2,
            0.12,
            0.05
           ],
           [
            0.12,
            0.2,
            0.14,
            0.13,
            0.22,
            0.18,
            0.21
           ]
          ]
         },
         "columnwidth": [
          4,
          1,
          1,
          1
         ],
         "domain": {
          "x": [
           0.6933333333333334,
           1
          ],
          "y": [
           0.7999999999999999,
           0.9999999999999999
          ]
         },
         "header": {
          "align": [
           "center",
           "center",
           "center",
           "center"
          ],
          "fill": {
           "color": [
            "peru",
            "white",
            "white",
            "white"
           ]
          },
          "font": {
           "color": "black",
           "size": 12
          },
          "height": 22,
          "line": {
           "color": "white"
          },
          "values": [
           [
            "<b>Industry</b>"
           ],
           [
            "<b>Model</b>"
           ],
           [
            "<b>Climate</b>"
           ],
           [
            "<b>Other</b>"
           ]
          ]
         },
         "type": "table"
        },
        {
         "cells": {
          "align": [
           "center",
           "center",
           "center",
           "center"
          ],
          "fill": {
           "color": [
            "white",
            [
             "rgb(223.25, 235.75, 242.625)",
             "rgb(252.25, 222.5, 205.0)",
             "rgb(248.5, 192.0, 164.5)",
             "rgb(209.5, 87.0, 72.75)",
             "rgb(214.0, 96.0, 77.0)",
             "rgb(209.5, 87.0, 72.75)"
            ],
            [
             "rgb(247.375, 185.25, 155.875)",
             "rgb(232.75, 240.25, 244.375)",
             "rgb(185.375, 217.0, 233.25)",
             "rgb(146.0, 197.0, 222.0)",
             "rgb(146.0, 197.0, 222.0)",
             "rgb(136.125, 190.75, 218.625)"
            ],
            [
             "rgb(169.625, 209.0, 228.75)",
             "rgb(201.125, 225.0, 237.75)",
             "rgb(218.5, 233.5, 241.75)",
             "rgb(153.875, 201.0, 224.25)",
             "rgb(177.5, 213.0, 231.0)",
             "rgb(169.625, 209.0, 228.75)"
            ]
           ]
          },
          "font": {
           "color": "black",
           "size": 11
          },
          "height": 22,
          "line": {
           "color": "black",
           "width": 0
          },
          "values": [
           [
            "Oil",
            "Total",
            "Hydrogen",
            "Bioenergy",
            "Electricity",
            "Gases"
           ],
           [
            0.28,
            0.47,
            0.55,
            0.76,
            0.74,
            0.77
           ],
           [
            0.57,
            0.31,
            0.18,
            0.11,
            0.09,
            0.08
           ],
           [
            0.15,
            0.21,
            0.27,
            0.12,
            0.17,
            0.15
           ]
          ]
         },
         "columnwidth": [
          4,
          1,
          1,
          1
         ],
         "domain": {
          "x": [
           0.6933333333333334,
           1
          ],
          "y": [
           0.6,
           0.7999999999999999
          ]
         },
         "header": {
          "align": [
           "center",
           "center",
           "center",
           "center"
          ],
          "fill": {
           "color": [
            "teal",
            "white",
            "white",
            "white"
           ]
          },
          "font": {
           "color": "black",
           "size": 12
          },
          "height": 22,
          "line": {
           "color": "white"
          },
          "values": [
           [
            "<b>Transport</b>"
           ],
           [
            "<b>Model</b>"
           ],
           [
            "<b>Climate</b>"
           ],
           [
            "<b>Other</b>"
           ]
          ]
         },
         "type": "table"
        },
        {
         "cells": {
          "align": [
           "center",
           "center",
           "center",
           "center"
          ],
          "fill": {
           "color": [
            "white",
            [
             "rgb(185.375, 217.0, 233.25)",
             "rgb(228.0, 238.0, 243.5)",
             "rgb(249.625, 198.75, 173.125)",
             "rgb(251.875, 212.25, 190.375)",
             "rgb(244.0, 165.0, 130.0)",
             "rgb(221.5, 113.25, 90.25)",
             "rgb(249.25, 236.5, 229.0)",
             "rgb(249.625, 198.75, 173.125)",
             "rgb(236.5, 147.75, 116.75)",
             "rgb(246.25, 178.5, 147.25)",
             "rgb(240.25, 156.375, 123.375)",
             "rgb(244.0, 165.0, 130.0)",
             "rgb(196.0, 60.0, 60.0)"
            ],
            [
             "rgb(240.25, 156.375, 123.375)",
             "rgb(248.5, 192.0, 164.5)",
             "rgb(237.5, 242.5, 245.25)",
             "rgb(213.75, 231.25, 240.875)",
             "rgb(201.125, 225.0, 237.75)",
             "rgb(193.25, 221.0, 235.5)",
             "rgb(193.25, 221.0, 235.5)",
             "rgb(185.375, 217.0, 233.25)",
             "rgb(169.625, 209.0, 228.75)",
             "rgb(169.625, 209.0, 228.75)",
             "rgb(153.875, 201.0, 224.25)",
             "rgb(153.875, 201.0, 224.25)",
             "rgb(146.0, 197.0, 222.0)"
            ],
            [
             "rgb(193.25, 221.0, 235.5)",
             "rgb(177.5, 213.0, 231.0)",
             "rgb(177.5, 213.0, 231.0)",
             "rgb(209.0, 229.0, 240.0)",
             "rgb(185.375, 217.0, 233.25)",
             "rgb(146.0, 197.0, 222.0)",
             "rgb(249.25, 236.5, 229.0)",
             "rgb(228.0, 238.0, 243.5)",
             "rgb(201.125, 225.0, 237.75)",
             "rgb(218.5, 233.5, 241.75)",
             "rgb(213.75, 231.25, 240.875)",
             "rgb(223.25, 235.75, 242.625)",
             "rgb(146.0, 197.0, 222.0)"
            ]
           ]
          },
          "font": {
           "color": "black",
           "size": 11
          },
          "height": 22,
          "line": {
           "color": "black",
           "width": 0
          },
          "values": [
           [
            "Coal (without CCS)",
            "Gas (without CCS)",
            "Biomass (with CCS)",
            "Renewables (incl. Biomass)",
            "Gas (with CCS)",
            "Geothermal",
            "Coal (with CCS)",
            "Total",
            "Wind",
            "Nuclear",
            "Solar",
            "Biomass (without CCS)",
            "Hydro"
           ],
           [
            0.18,
            0.29,
            0.53,
            0.51,
            0.61,
            0.7,
            0.41,
            0.53,
            0.65,
            0.58,
            0.63,
            0.6,
            0.8
           ],
           [
            0.63,
            0.55,
            0.32,
            0.25,
            0.21,
            0.19,
            0.19,
            0.18,
            0.15,
            0.15,
            0.12,
            0.12,
            0.09
           ],
           [
            0.19,
            0.16,
            0.16,
            0.24,
            0.18,
            0.1,
            0.4,
            0.29,
            0.2,
            0.27,
            0.25,
            0.28,
            0.11
           ]
          ]
         },
         "columnwidth": [
          4,
          1,
          1,
          1
         ],
         "domain": {
          "x": [
           0.6933333333333334,
           1
          ],
          "y": [
           0,
           0.4
          ]
         },
         "header": {
          "align": [
           "center",
           "center",
           "center",
           "center"
          ],
          "fill": {
           "color": [
            "goldenrod",
            "white",
            "white",
            "white"
           ]
          },
          "font": {
           "color": "black",
           "size": 12
          },
          "height": 22,
          "line": {
           "color": "white"
          },
          "values": [
           [
            "<b>Electricity</b>"
           ],
           [
            "<b>Model</b>"
           ],
           [
            "<b>Climate</b>"
           ],
           [
            "<b>Other</b>"
           ]
          ]
         },
         "type": "table"
        },
        {
         "a": [
          0,
          5,
          0,
          0,
          0,
          0
         ],
         "b": [
          100,
          95,
          95,
          100,
          100,
          100
         ],
         "c": [
          0,
          0,
          5,
          0,
          0,
          0
         ],
         "fill": "toself",
         "fillcolor": "rgb(0.0, 0.0, 0.0)",
         "hoverinfo": "skip",
         "line": {
          "color": "black",
          "width": 0
         },
         "mode": "lines",
         "opacity": 0.2,
         "showlegend": false,
         "subplot": "ternary",
         "text": "50",
         "type": "scatterternary"
        },
        {
         "a": [
          0,
          0,
          5,
          0,
          0,
          0
         ],
         "b": [
          0,
          5,
          0,
          0,
          0,
          0
         ],
         "c": [
          100,
          95,
          95,
          100,
          100,
          100
         ],
         "fill": "toself",
         "fillcolor": "rgb(0.0, 0.0, 0.0)",
         "hoverinfo": "skip",
         "line": {
          "color": "black",
          "width": 0
         },
         "mode": "lines",
         "opacity": 0.2,
         "showlegend": false,
         "subplot": "ternary",
         "text": "50",
         "type": "scatterternary"
        },
        {
         "a": [
          100,
          95,
          95,
          100,
          100,
          100
         ],
         "b": [
          0,
          0,
          5,
          0,
          0,
          0
         ],
         "c": [
          0,
          5,
          0,
          0,
          0,
          0
         ],
         "fill": "toself",
         "fillcolor": "rgb(0.0, 0.0, 0.0)",
         "hoverinfo": "skip",
         "line": {
          "color": "black",
          "width": 0
         },
         "mode": "lines",
         "opacity": 0.2,
         "showlegend": false,
         "subplot": "ternary",
         "text": "50",
         "type": "scatterternary"
        },
        {
         "a": [
          5,
          10,
          0,
          0,
          5,
          5
         ],
         "b": [
          95,
          90,
          90,
          95,
          95,
          95
         ],
         "c": [
          0,
          0,
          10,
          5,
          0,
          0
         ],
         "fill": "toself",
         "fillcolor": "rgb(0.0, 0.0, 0.0)",
         "hoverinfo": "skip",
         "line": {
          "color": "black",
          "width": 0
         },
         "mode": "lines",
         "opacity": 0.2,
         "showlegend": false,
         "subplot": "ternary",
         "text": "50",
         "type": "scatterternary"
        },
        {
         "a": [
          0,
          0,
          10,
          5,
          0,
          0
         ],
         "b": [
          5,
          10,
          0,
          0,
          5,
          5
         ],
         "c": [
          95,
          90,
          90,
          95,
          95,
          95
         ],
         "fill": "toself",
         "fillcolor": "rgb(8.80952380952381, 8.80952380952381, 8.80952380952381)",
         "hoverinfo": "skip",
         "line": {
          "color": "black",
          "width": 0
         },
         "mode": "lines",
         "opacity": 0.2,
         "showlegend": false,
         "subplot": "ternary",
         "text": "50",
         "type": "scatterternary"
        },
        {
         "a": [
          95,
          90,
          90,
          95,
          95,
          95
         ],
         "b": [
          0,
          0,
          10,
          5,
          0,
          0
         ],
         "c": [
          5,
          10,
          0,
          0,
          5,
          5
         ],
         "fill": "toself",
         "fillcolor": "rgb(19.38095238095238, 19.38095238095238, 19.38095238095238)",
         "hoverinfo": "skip",
         "line": {
          "color": "black",
          "width": 0
         },
         "mode": "lines",
         "opacity": 0.2,
         "showlegend": false,
         "subplot": "ternary",
         "text": "50",
         "type": "scatterternary"
        },
        {
         "a": [
          10,
          15,
          0,
          0,
          10,
          10
         ],
         "b": [
          90,
          85,
          85,
          90,
          90,
          90
         ],
         "c": [
          0,
          0,
          15,
          10,
          0,
          0
         ],
         "fill": "toself",
         "fillcolor": "rgb(29.952380952380953, 29.952380952380953, 29.952380952380953)",
         "hoverinfo": "skip",
         "line": {
          "color": "black",
          "width": 0
         },
         "mode": "lines",
         "opacity": 0.2,
         "showlegend": false,
         "subplot": "ternary",
         "text": "50",
         "type": "scatterternary"
        },
        {
         "a": [
          0,
          0,
          15,
          10,
          0,
          0
         ],
         "b": [
          10,
          15,
          0,
          0,
          10,
          10
         ],
         "c": [
          90,
          85,
          85,
          90,
          90,
          90
         ],
         "fill": "toself",
         "fillcolor": "rgb(39.142857142857146, 39.142857142857146, 39.142857142857146)",
         "hoverinfo": "skip",
         "line": {
          "color": "black",
          "width": 0
         },
         "mode": "lines",
         "opacity": 0.2,
         "showlegend": false,
         "subplot": "ternary",
         "text": "50",
         "type": "scatterternary"
        },
        {
         "a": [
          90,
          85,
          85,
          90,
          90,
          90
         ],
         "b": [
          0,
          0,
          15,
          10,
          0,
          0
         ],
         "c": [
          10,
          15,
          0,
          0,
          10,
          10
         ],
         "fill": "toself",
         "fillcolor": "rgb(49.85714285714286, 49.85714285714286, 49.85714285714286)",
         "hoverinfo": "skip",
         "line": {
          "color": "black",
          "width": 0
         },
         "mode": "lines",
         "opacity": 0.2,
         "showlegend": false,
         "subplot": "ternary",
         "text": "50",
         "type": "scatterternary"
        },
        {
         "a": [
          15,
          20,
          0,
          0,
          15,
          15
         ],
         "b": [
          85,
          80,
          80,
          85,
          85,
          85
         ],
         "c": [
          0,
          0,
          20,
          15,
          0,
          0
         ],
         "fill": "toself",
         "fillcolor": "rgb(62.714285714285715, 62.714285714285715, 62.714285714285715)",
         "hoverinfo": "skip",
         "line": {
          "color": "black",
          "width": 0
         },
         "mode": "lines",
         "opacity": 0.2,
         "showlegend": false,
         "subplot": "ternary",
         "text": "50",
         "type": "scatterternary"
        },
        {
         "a": [
          0,
          0,
          20,
          15,
          0,
          0
         ],
         "b": [
          15,
          20,
          0,
          0,
          15,
          15
         ],
         "c": [
          85,
          80,
          80,
          85,
          85,
          85
         ],
         "fill": "toself",
         "fillcolor": "rgb(75.57142857142857, 75.57142857142857, 75.57142857142857)",
         "hoverinfo": "skip",
         "line": {
          "color": "black",
          "width": 0
         },
         "mode": "lines",
         "opacity": 0.2,
         "showlegend": false,
         "subplot": "ternary",
         "text": "50",
         "type": "scatterternary"
        },
        {
         "a": [
          85,
          80,
          80,
          85,
          85,
          85
         ],
         "b": [
          0,
          0,
          20,
          15,
          0,
          0
         ],
         "c": [
          15,
          20,
          0,
          0,
          15,
          15
         ],
         "fill": "toself",
         "fillcolor": "rgb(85.14285714285714, 85.14285714285714, 85.14285714285714)",
         "hoverinfo": "skip",
         "line": {
          "color": "black",
          "width": 0
         },
         "mode": "lines",
         "opacity": 0.2,
         "showlegend": false,
         "subplot": "ternary",
         "text": "50",
         "type": "scatterternary"
        },
        {
         "a": [
          20,
          25,
          0,
          0,
          20,
          20
         ],
         "b": [
          80,
          75,
          75,
          80,
          80,
          80
         ],
         "c": [
          0,
          0,
          25,
          20,
          0,
          0
         ],
         "fill": "toself",
         "fillcolor": "rgb(94.57142857142857, 94.57142857142857, 94.57142857142857)",
         "hoverinfo": "skip",
         "line": {
          "color": "black",
          "width": 0
         },
         "mode": "lines",
         "opacity": 0.2,
         "showlegend": false,
         "subplot": "ternary",
         "text": "50",
         "type": "scatterternary"
        },
        {
         "a": [
          0,
          0,
          25,
          20,
          0,
          0
         ],
         "b": [
          20,
          25,
          0,
          0,
          20,
          20
         ],
         "c": [
          80,
          75,
          75,
          80,
          80,
          80
         ],
         "fill": "toself",
         "fillcolor": "rgb(104.0, 104.0, 104.0)",
         "hoverinfo": "skip",
         "line": {
          "color": "black",
          "width": 0
         },
         "mode": "lines",
         "opacity": 0.2,
         "showlegend": false,
         "subplot": "ternary",
         "text": "50",
         "type": "scatterternary"
        },
        {
         "a": [
          80,
          75,
          75,
          80,
          80,
          80
         ],
         "b": [
          0,
          0,
          25,
          20,
          0,
          0
         ],
         "c": [
          20,
          25,
          0,
          0,
          20,
          20
         ],
         "fill": "toself",
         "fillcolor": "rgb(113.42857142857143, 113.42857142857143, 113.42857142857143)",
         "hoverinfo": "skip",
         "line": {
          "color": "black",
          "width": 0
         },
         "mode": "lines",
         "opacity": 0.2,
         "showlegend": false,
         "subplot": "ternary",
         "text": "50",
         "type": "scatterternary"
        },
        {
         "a": [
          25,
          30,
          0,
          0,
          25,
          25
         ],
         "b": [
          75,
          70,
          70,
          75,
          75,
          75
         ],
         "c": [
          0,
          0,
          30,
          25,
          0,
          0
         ],
         "fill": "toself",
         "fillcolor": "rgb(121.66666666666666, 121.66666666666666, 121.66666666666666)",
         "hoverinfo": "skip",
         "line": {
          "color": "black",
          "width": 0
         },
         "mode": "lines",
         "opacity": 0.2,
         "showlegend": false,
         "subplot": "ternary",
         "text": "50",
         "type": "scatterternary"
        },
        {
         "a": [
          0,
          0,
          30,
          25,
          0,
          0
         ],
         "b": [
          25,
          30,
          0,
          0,
          25,
          25
         ],
         "c": [
          75,
          70,
          70,
          75,
          75,
          75
         ],
         "fill": "toself",
         "fillcolor": "rgb(130.0, 130.0, 130.0)",
         "hoverinfo": "skip",
         "line": {
          "color": "black",
          "width": 0
         },
         "mode": "lines",
         "opacity": 0.2,
         "showlegend": false,
         "subplot": "ternary",
         "text": "50",
         "type": "scatterternary"
        },
        {
         "a": [
          75,
          70,
          70,
          75,
          75,
          75
         ],
         "b": [
          0,
          0,
          30,
          25,
          0,
          0
         ],
         "c": [
          25,
          30,
          0,
          0,
          25,
          25
         ],
         "fill": "toself",
         "fillcolor": "rgb(140.0, 140.0, 140.0)",
         "hoverinfo": "skip",
         "line": {
          "color": "black",
          "width": 0
         },
         "mode": "lines",
         "opacity": 0.2,
         "showlegend": false,
         "subplot": "ternary",
         "text": "50",
         "type": "scatterternary"
        },
        {
         "a": [
          30,
          35,
          0,
          0,
          30,
          30
         ],
         "b": [
          70,
          65,
          65,
          70,
          70,
          70
         ],
         "c": [
          0,
          0,
          35,
          30,
          0,
          0
         ],
         "fill": "toself",
         "fillcolor": "rgb(150.0, 150.0, 150.0)",
         "hoverinfo": "skip",
         "line": {
          "color": "black",
          "width": 0
         },
         "mode": "lines",
         "opacity": 0.2,
         "showlegend": false,
         "subplot": "ternary",
         "text": "50",
         "type": "scatterternary"
        },
        {
         "a": [
          0,
          0,
          35,
          30,
          0,
          0
         ],
         "b": [
          30,
          35,
          0,
          0,
          30,
          30
         ],
         "c": [
          70,
          65,
          65,
          70,
          70,
          70
         ],
         "fill": "toself",
         "fillcolor": "rgb(159.28571428571428, 159.28571428571428, 159.28571428571428)",
         "hoverinfo": "skip",
         "line": {
          "color": "black",
          "width": 0
         },
         "mode": "lines",
         "opacity": 0.2,
         "showlegend": false,
         "subplot": "ternary",
         "text": "50",
         "type": "scatterternary"
        },
        {
         "a": [
          70,
          65,
          65,
          70,
          70,
          70
         ],
         "b": [
          0,
          0,
          35,
          30,
          0,
          0
         ],
         "c": [
          30,
          35,
          0,
          0,
          30,
          30
         ],
         "fill": "toself",
         "fillcolor": "rgb(170.42857142857142, 170.42857142857142, 170.42857142857142)",
         "hoverinfo": "skip",
         "line": {
          "color": "black",
          "width": 0
         },
         "mode": "lines",
         "opacity": 0.2,
         "showlegend": false,
         "subplot": "ternary",
         "text": "50",
         "type": "scatterternary"
        },
        {
         "a": [
          35,
          40,
          0,
          0,
          35,
          35
         ],
         "b": [
          65,
          60,
          60,
          65,
          65,
          65
         ],
         "c": [
          0,
          0,
          40,
          35,
          0,
          0
         ],
         "fill": "toself",
         "fillcolor": "rgb(181.57142857142858, 181.57142857142858, 181.57142857142858)",
         "hoverinfo": "skip",
         "line": {
          "color": "black",
          "width": 0
         },
         "mode": "lines",
         "opacity": 0.2,
         "showlegend": false,
         "subplot": "ternary",
         "text": "50",
         "type": "scatterternary"
        },
        {
         "a": [
          0,
          0,
          40,
          35,
          0,
          0
         ],
         "b": [
          35,
          40,
          0,
          0,
          35,
          35
         ],
         "c": [
          65,
          60,
          60,
          65,
          65,
          65
         ],
         "fill": "toself",
         "fillcolor": "rgb(190.33333333333334, 190.33333333333334, 190.33333333333334)",
         "hoverinfo": "skip",
         "line": {
          "color": "black",
          "width": 0
         },
         "mode": "lines",
         "opacity": 0.2,
         "showlegend": false,
         "subplot": "ternary",
         "text": "50",
         "type": "scatterternary"
        },
        {
         "a": [
          65,
          60,
          60,
          65,
          65,
          65
         ],
         "b": [
          0,
          0,
          40,
          35,
          0,
          0
         ],
         "c": [
          35,
          40,
          0,
          0,
          35,
          35
         ],
         "fill": "toself",
         "fillcolor": "rgb(198.33333333333334, 198.33333333333334, 198.33333333333334)",
         "hoverinfo": "skip",
         "line": {
          "color": "black",
          "width": 0
         },
         "mode": "lines",
         "opacity": 0.2,
         "showlegend": false,
         "subplot": "ternary",
         "text": "50",
         "type": "scatterternary"
        },
        {
         "a": [
          40,
          45,
          0,
          0,
          40,
          40
         ],
         "b": [
          60,
          55,
          55,
          60,
          60,
          60
         ],
         "c": [
          0,
          0,
          45,
          40,
          0,
          0
         ],
         "fill": "toself",
         "fillcolor": "rgb(206.33333333333334, 206.33333333333334, 206.33333333333334)",
         "hoverinfo": "skip",
         "line": {
          "color": "black",
          "width": 0
         },
         "mode": "lines",
         "opacity": 0.2,
         "showlegend": false,
         "subplot": "ternary",
         "text": "50",
         "type": "scatterternary"
        },
        {
         "a": [
          0,
          0,
          45,
          40,
          0,
          0
         ],
         "b": [
          40,
          45,
          0,
          0,
          40,
          40
         ],
         "c": [
          60,
          55,
          55,
          60,
          60,
          60
         ],
         "fill": "toself",
         "fillcolor": "rgb(213.0, 213.0, 213.0)",
         "hoverinfo": "skip",
         "line": {
          "color": "black",
          "width": 0
         },
         "mode": "lines",
         "opacity": 0.2,
         "showlegend": false,
         "subplot": "ternary",
         "text": "50",
         "type": "scatterternary"
        },
        {
         "a": [
          60,
          55,
          55,
          60,
          60,
          60
         ],
         "b": [
          0,
          0,
          45,
          40,
          0,
          0
         ],
         "c": [
          40,
          45,
          0,
          0,
          40,
          40
         ],
         "fill": "toself",
         "fillcolor": "rgb(219.1904761904762, 219.1904761904762, 219.1904761904762)",
         "hoverinfo": "skip",
         "line": {
          "color": "black",
          "width": 0
         },
         "mode": "lines",
         "opacity": 0.2,
         "showlegend": false,
         "subplot": "ternary",
         "text": "50",
         "type": "scatterternary"
        },
        {
         "a": [
          45,
          50,
          0,
          0,
          45,
          45
         ],
         "b": [
          55,
          50,
          50,
          55,
          55,
          55
         ],
         "c": [
          0,
          0,
          50,
          45,
          0,
          0
         ],
         "fill": "toself",
         "fillcolor": "rgb(225.76190476190476, 225.76190476190476, 225.76190476190476)",
         "hoverinfo": "skip",
         "line": {
          "color": "black",
          "width": 0
         },
         "mode": "lines",
         "opacity": 0.2,
         "showlegend": false,
         "subplot": "ternary",
         "text": "50",
         "type": "scatterternary"
        },
        {
         "a": [
          0,
          0,
          50,
          45,
          0,
          0
         ],
         "b": [
          45,
          50,
          0,
          0,
          45,
          45
         ],
         "c": [
          55,
          50,
          50,
          55,
          55,
          55
         ],
         "fill": "toself",
         "fillcolor": "rgb(232.33333333333334, 232.33333333333334, 232.33333333333334)",
         "hoverinfo": "skip",
         "line": {
          "color": "black",
          "width": 0
         },
         "mode": "lines",
         "opacity": 0.2,
         "showlegend": false,
         "subplot": "ternary",
         "text": "50",
         "type": "scatterternary"
        },
        {
         "a": [
          55,
          50,
          50,
          55,
          55,
          55
         ],
         "b": [
          0,
          0,
          50,
          45,
          0,
          0
         ],
         "c": [
          45,
          50,
          0,
          0,
          45,
          45
         ],
         "fill": "toself",
         "fillcolor": "rgb(238.9047619047619, 238.9047619047619, 238.9047619047619)",
         "hoverinfo": "skip",
         "line": {
          "color": "black",
          "width": 0
         },
         "mode": "lines",
         "opacity": 0.2,
         "showlegend": false,
         "subplot": "ternary",
         "text": "50",
         "type": "scatterternary"
        },
        {
         "a": [
          50,
          50,
          0,
          50
         ],
         "b": [
          50,
          0,
          50,
          50
         ],
         "c": [
          0,
          50,
          50,
          0
         ],
         "fill": "toself",
         "fillcolor": "rgb(242.85714285714286, 242.85714285714286, 242.85714285714286)",
         "hoverinfo": "skip",
         "line": {
          "color": "black",
          "width": 0
         },
         "mode": "lines",
         "opacity": 0.2,
         "showlegend": false,
         "subplot": "ternary",
         "text": "50",
         "type": "scatterternary"
        },
        {
         "a": [
          45,
          45,
          10,
          45
         ],
         "b": [
          45,
          10,
          45,
          45
         ],
         "c": [
          10,
          45,
          45,
          10
         ],
         "fill": "toself",
         "fillcolor": "rgb(247.14285714285714, 247.14285714285714, 247.14285714285714)",
         "hoverinfo": "skip",
         "line": {
          "color": "black",
          "width": 0
         },
         "mode": "lines",
         "opacity": 0.2,
         "showlegend": false,
         "subplot": "ternary",
         "text": "45",
         "type": "scatterternary"
        },
        {
         "a": [
          40,
          40,
          20,
          40
         ],
         "b": [
          40,
          20,
          40,
          40
         ],
         "c": [
          20,
          40,
          40,
          20
         ],
         "fill": "toself",
         "fillcolor": "rgb(251.42857142857142, 251.42857142857142, 251.42857142857142)",
         "hoverinfo": "skip",
         "line": {
          "color": "black",
          "width": 0
         },
         "mode": "lines",
         "opacity": 0.2,
         "showlegend": false,
         "subplot": "ternary",
         "text": "40",
         "type": "scatterternary"
        },
        {
         "a": [
          35,
          35,
          30,
          35
         ],
         "b": [
          35,
          30,
          35,
          35
         ],
         "c": [
          30,
          35,
          35,
          30
         ],
         "fill": "toself",
         "fillcolor": "rgb(255.0, 255.0, 255.0)",
         "hoverinfo": "skip",
         "line": {
          "color": "black",
          "width": 0
         },
         "mode": "lines",
         "opacity": 0.2,
         "showlegend": false,
         "subplot": "ternary",
         "text": "35",
         "type": "scatterternary"
        },
        {
         "a": [
          0.8681556184448703
         ],
         "b": [
          0.05352264548185727
         ],
         "c": [
          0.07832173607327242
         ],
         "hovertemplate": "%{text}<br>Var (climate): %{a}<br>Var (model): %{b} <br>Var (other): %{c}",
         "line": {
          "width": 1.5
         },
         "marker": {
          "color": "violet",
          "line": {
           "color": "black",
           "width": 1
          },
          "opacity": 1,
          "size": 0.1,
          "symbol": "circle"
         },
         "mode": "markers",
         "name": "Emissions|CO2 (1200)",
         "showlegend": false,
         "subplot": "ternary",
         "text": [
          "2100"
         ],
         "textfont": {
          "color": "violet",
          "size": 1
         },
         "type": "scatterternary"
        },
        {
         "a": [
          0.8681556184448703
         ],
         "b": [
          0.05352264548185727
         ],
         "c": [
          0.07832173607327242
         ],
         "mode": "text",
         "showlegend": false,
         "subplot": "ternary",
         "text": [
          "☁"
         ],
         "textfont": {
          "color": "violet",
          "size": 23
         },
         "type": "scatterternary"
        },
        {
         "a": [
          0.37999595443761697
         ],
         "b": [
          0.4746995426242747
         ],
         "c": [
          0.14530450293810845
         ],
         "hovertemplate": "%{text}<br>Var (climate): %{a}<br>Var (model): %{b} <br>Var (other): %{c}",
         "line": {
          "width": 1.5
         },
         "marker": {
          "color": "violet",
          "line": {
           "color": "black",
           "width": 1
          },
          "opacity": 1,
          "size": 0.1,
          "symbol": "circle"
         },
         "mode": "markers",
         "name": "Emissions|N2O (1200)",
         "showlegend": false,
         "subplot": "ternary",
         "text": [
          "2100"
         ],
         "textfont": {
          "color": "violet",
          "size": 1
         },
         "type": "scatterternary"
        },
        {
         "a": [
          0.37999595443761697
         ],
         "b": [
          0.4746995426242747
         ],
         "c": [
          0.14530450293810845
         ],
         "mode": "text",
         "showlegend": false,
         "subplot": "ternary",
         "text": [
          "☁"
         ],
         "textfont": {
          "color": "violet",
          "size": 23
         },
         "type": "scatterternary"
        },
        {
         "a": [
          0.6596000757910849
         ],
         "b": [
          0.21569130895089494
         ],
         "c": [
          0.12470861525802018
         ],
         "hovertemplate": "%{text}<br>Var (climate): %{a}<br>Var (model): %{b} <br>Var (other): %{c}",
         "line": {
          "width": 1.5
         },
         "marker": {
          "color": "violet",
          "line": {
           "color": "black",
           "width": 1
          },
          "opacity": 1,
          "size": 0.1,
          "symbol": "circle"
         },
         "mode": "markers",
         "name": "Emissions|CH4 (1200)",
         "showlegend": false,
         "subplot": "ternary",
         "text": [
          "2100"
         ],
         "textfont": {
          "color": "violet",
          "size": 1
         },
         "type": "scatterternary"
        },
        {
         "a": [
          0.6596000757910849
         ],
         "b": [
          0.21569130895089494
         ],
         "c": [
          0.12470861525802018
         ],
         "mode": "text",
         "showlegend": false,
         "subplot": "ternary",
         "text": [
          "☁"
         ],
         "textfont": {
          "color": "violet",
          "size": 23
         },
         "type": "scatterternary"
        },
        {
         "a": [
          0.9619219316411443
         ],
         "b": [
          0.024062951235848277
         ],
         "c": [
          0.07401511712300735
         ],
         "hoverinfo": "skip",
         "marker": {
          "color": "violet",
          "line": {
           "width": 2
          },
          "size": 28,
          "symbol": "circle-open"
         },
         "mode": "markers",
         "showlegend": false,
         "subplot": "ternary",
         "type": "scatterternary"
        },
        {
         "a": [
          0.9619219316411443
         ],
         "b": [
          0.024062951235848277
         ],
         "c": [
          0.07401511712300735
         ],
         "hoverinfo": "skip",
         "marker": {
          "color": "black",
          "line": {
           "width": 3
          },
          "size": 32,
          "symbol": "circle-open"
         },
         "mode": "markers",
         "showlegend": false,
         "subplot": "ternary",
         "type": "scatterternary"
        },
        {
         "a": [
          0.9019219316411442
         ],
         "b": [
          0.024062951235848277
         ],
         "c": [
          0.07401511712300735
         ],
         "hovertemplate": "%{text}<br>Var (climate): %{a}<br>Var (model): %{b} <br>Var (other): %{c}",
         "line": {
          "width": 1.5
         },
         "marker": {
          "color": "violet",
          "line": {
           "color": "black",
           "width": 0
          },
          "opacity": 1,
          "size": 0.1,
          "symbol": "circle"
         },
         "mode": "markers",
         "name": "Emissions|Kyoto Gases (1118)",
         "showlegend": false,
         "subplot": "ternary",
         "text": [
          "2100"
         ],
         "textfont": {
          "color": "violet",
          "size": 1
         },
         "type": "scatterternary"
        },
        {
         "a": [
          0.9019219316411442
         ],
         "b": [
          0.024062951235848277
         ],
         "c": [
          0.07401511712300735
         ],
         "mode": "text",
         "showlegend": false,
         "subplot": "ternary",
         "text": [
          "☁"
         ],
         "textfont": {
          "color": "violet",
          "size": 23
         },
         "type": "scatterternary"
        },
        {
         "a": [
          0.6923806657796043
         ],
         "b": [
          0.1781038326242429
         ],
         "c": [
          0.12951550159615283
         ],
         "hovertemplate": "%{text}<br>Var (climate): %{a}<br>Var (model): %{b} <br>Var (other): %{c}",
         "line": {
          "width": 1.5
         },
         "marker": {
          "color": "violet",
          "line": {
           "color": "black",
           "width": 1
          },
          "opacity": 1,
          "size": 0.1,
          "symbol": "circle"
         },
         "mode": "markers",
         "name": "Emissions|CO2|Energy|Supply|Electricity (1153)",
         "showlegend": false,
         "subplot": "ternary",
         "text": [
          "2100"
         ],
         "textfont": {
          "color": "violet",
          "size": 1
         },
         "type": "scatterternary"
        },
        {
         "a": [
          0.6923806657796043
         ],
         "b": [
          0.1781038326242429
         ],
         "c": [
          0.12951550159615283
         ],
         "mode": "text",
         "showlegend": false,
         "subplot": "ternary",
         "text": [
          "☁"
         ],
         "textfont": {
          "color": "violet",
          "size": 23
         },
         "type": "scatterternary"
        },
        {
         "a": [
          0.7087546660930084
         ],
         "b": [
          0.1544617807567913
         ],
         "c": [
          0.13678355315020035
         ],
         "hovertemplate": "%{text}<br>Var (climate): %{a}<br>Var (model): %{b} <br>Var (other): %{c}",
         "line": {
          "width": 1.5
         },
         "marker": {
          "color": "violet",
          "line": {
           "color": "black",
           "width": 1
          },
          "opacity": 1,
          "size": 0.1,
          "symbol": "circle"
         },
         "mode": "markers",
         "name": "Emissions|CO2|Energy|Demand|Industry (1117)",
         "showlegend": false,
         "subplot": "ternary",
         "text": [
          "2100"
         ],
         "textfont": {
          "color": "violet",
          "size": 1
         },
         "type": "scatterternary"
        },
        {
         "a": [
          0.7087546660930084
         ],
         "b": [
          0.1544617807567913
         ],
         "c": [
          0.13678355315020035
         ],
         "mode": "text",
         "showlegend": false,
         "subplot": "ternary",
         "text": [
          "☁"
         ],
         "textfont": {
          "color": "violet",
          "size": 23
         },
         "type": "scatterternary"
        },
        {
         "a": [
          0.6276333273999735
         ],
         "b": [
          0.25632532729384366
         ],
         "c": [
          0.11604134530618294
         ],
         "hovertemplate": "%{text}<br>Var (climate): %{a}<br>Var (model): %{b} <br>Var (other): %{c}",
         "line": {
          "width": 1.5
         },
         "marker": {
          "color": "violet",
          "line": {
           "color": "black",
           "width": 1
          },
          "opacity": 1,
          "size": 0.1,
          "symbol": "circle"
         },
         "mode": "markers",
         "name": "Emissions|CO2|Energy|Demand|Transportation (1059)",
         "showlegend": false,
         "subplot": "ternary",
         "text": [
          "2100"
         ],
         "textfont": {
          "color": "violet",
          "size": 1
         },
         "type": "scatterternary"
        },
        {
         "a": [
          0.6276333273999735
         ],
         "b": [
          0.25632532729384366
         ],
         "c": [
          0.11604134530618294
         ],
         "mode": "text",
         "showlegend": false,
         "subplot": "ternary",
         "text": [
          "☁"
         ],
         "textfont": {
          "color": "violet",
          "size": 23
         },
         "type": "scatterternary"
        },
        {
         "a": [
          0.47713032121025367
         ],
         "b": [
          0.3961432749982587
         ],
         "c": [
          0.12672640379148759
         ],
         "hovertemplate": "%{text}<br>Var (climate): %{a}<br>Var (model): %{b} <br>Var (other): %{c}",
         "line": {
          "width": 1.5
         },
         "marker": {
          "color": "violet",
          "line": {
           "color": "black",
           "width": 1
          },
          "opacity": 1,
          "size": 0.1,
          "symbol": "circle"
         },
         "mode": "markers",
         "name": "Emissions|CO2|Energy|Demand|Residential and Commercial (954)",
         "showlegend": false,
         "subplot": "ternary",
         "text": [
          "2100"
         ],
         "textfont": {
          "color": "violet",
          "size": 1
         },
         "type": "scatterternary"
        },
        {
         "a": [
          0.47713032121025367
         ],
         "b": [
          0.3961432749982587
         ],
         "c": [
          0.12672640379148759
         ],
         "mode": "text",
         "showlegend": false,
         "subplot": "ternary",
         "text": [
          "☁"
         ],
         "textfont": {
          "color": "violet",
          "size": 23
         },
         "type": "scatterternary"
        },
        {
         "a": [
          0.3159268288193343
         ],
         "b": [
          0.3713019467911182
         ],
         "c": [
          0.3127712243895476
         ],
         "hovertemplate": "%{text}<br>Var (climate): %{a}<br>Var (model): %{b} <br>Var (other): %{c}",
         "line": {
          "width": 1.5
         },
         "marker": {
          "color": "forestgreen",
          "line": {
           "color": "black",
           "width": 1
          },
          "opacity": 1,
          "size": 0.1,
          "symbol": "diamond-wide"
         },
         "mode": "markers",
         "name": "Primary Energy (1193)",
         "showlegend": false,
         "subplot": "ternary",
         "text": [
          "2100"
         ],
         "textfont": {
          "color": "forestgreen",
          "size": 1
         },
         "type": "scatterternary"
        },
        {
         "a": [
          0.3159268288193343
         ],
         "b": [
          0.3713019467911182
         ],
         "c": [
          0.3127712243895476
         ],
         "mode": "text",
         "showlegend": false,
         "subplot": "ternary",
         "text": [
          "☀"
         ],
         "textfont": {
          "color": "forestgreen",
          "size": 23
         },
         "type": "scatterternary"
        },
        {
         "a": [
          0.7185876071795742
         ],
         "b": [
          0.11920644535176256
         ],
         "c": [
          0.16220594746866326
         ],
         "hoverinfo": "skip",
         "marker": {
          "color": "forestgreen",
          "line": {
           "width": 2
          },
          "size": 28,
          "symbol": "circle-open"
         },
         "mode": "markers",
         "showlegend": false,
         "subplot": "ternary",
         "type": "scatterternary"
        },
        {
         "a": [
          0.7185876071795742
         ],
         "b": [
          0.11920644535176256
         ],
         "c": [
          0.16220594746866326
         ],
         "hoverinfo": "skip",
         "marker": {
          "color": "black",
          "line": {
           "width": 3
          },
          "size": 32,
          "symbol": "circle-open"
         },
         "mode": "markers",
         "showlegend": false,
         "subplot": "ternary",
         "type": "scatterternary"
        },
        {
         "a": [
          0.7185876071795742
         ],
         "b": [
          0.11920644535176256
         ],
         "c": [
          0.16220594746866326
         ],
         "hovertemplate": "%{text}<br>Var (climate): %{a}<br>Var (model): %{b} <br>Var (other): %{c}",
         "line": {
          "width": 1.5
         },
         "marker": {
          "color": "forestgreen",
          "line": {
           "color": "black",
           "width": 0
          },
          "opacity": 1,
          "size": 0.1,
          "symbol": "diamond-wide"
         },
         "mode": "markers",
         "name": "Primary Energy|Coal (1193)",
         "showlegend": false,
         "subplot": "ternary",
         "text": [
          "2100"
         ],
         "textfont": {
          "color": "forestgreen",
          "size": 1
         },
         "type": "scatterternary"
        },
        {
         "a": [
          0.7185876071795742
         ],
         "b": [
          0.11920644535176256
         ],
         "c": [
          0.16220594746866326
         ],
         "mode": "text",
         "showlegend": false,
         "subplot": "ternary",
         "text": [
          "☀"
         ],
         "textfont": {
          "color": "forestgreen",
          "size": 23
         },
         "type": "scatterternary"
        },
        {
         "a": [
          0.30322768769061326
         ],
         "b": [
          0.46847164480737036
         ],
         "c": [
          0.2283006675020165
         ],
         "hovertemplate": "%{text}<br>Var (climate): %{a}<br>Var (model): %{b} <br>Var (other): %{c}",
         "line": {
          "width": 1.5
         },
         "marker": {
          "color": "forestgreen",
          "line": {
           "color": "black",
           "width": 1
          },
          "opacity": 1,
          "size": 0.1,
          "symbol": "diamond-wide"
         },
         "mode": "markers",
         "name": "Primary Energy|Biomass (1191)",
         "showlegend": false,
         "subplot": "ternary",
         "text": [
          "2100"
         ],
         "textfont": {
          "color": "forestgreen",
          "size": 1
         },
         "type": "scatterternary"
        },
        {
         "a": [
          0.30322768769061326
         ],
         "b": [
          0.46847164480737036
         ],
         "c": [
          0.2283006675020165
         ],
         "mode": "text",
         "showlegend": false,
         "subplot": "ternary",
         "text": [
          "☀"
         ],
         "textfont": {
          "color": "forestgreen",
          "size": 23
         },
         "type": "scatterternary"
        },
        {
         "a": [
          0.42079120860400776
         ],
         "b": [
          0.3334555655603485
         ],
         "c": [
          0.24575322583564374
         ],
         "hovertemplate": "%{text}<br>Var (climate): %{a}<br>Var (model): %{b} <br>Var (other): %{c}",
         "line": {
          "width": 1.5
         },
         "marker": {
          "color": "forestgreen",
          "line": {
           "color": "black",
           "width": 1
          },
          "opacity": 1,
          "size": 0.1,
          "symbol": "diamond-wide"
         },
         "mode": "markers",
         "name": "Primary Energy|Gas (1193)",
         "showlegend": false,
         "subplot": "ternary",
         "text": [
          "2100"
         ],
         "textfont": {
          "color": "forestgreen",
          "size": 1
         },
         "type": "scatterternary"
        },
        {
         "a": [
          0.42079120860400776
         ],
         "b": [
          0.3334555655603485
         ],
         "c": [
          0.24575322583564374
         ],
         "mode": "text",
         "showlegend": false,
         "subplot": "ternary",
         "text": [
          "☀"
         ],
         "textfont": {
          "color": "forestgreen",
          "size": 23
         },
         "type": "scatterternary"
        },
        {
         "a": [
          0.1620762515151537
         ],
         "b": [
          0.5990979451264342
         ],
         "c": [
          0.23882580335841208
         ],
         "hovertemplate": "%{text}<br>Var (climate): %{a}<br>Var (model): %{b} <br>Var (other): %{c}",
         "line": {
          "width": 1.5
         },
         "marker": {
          "color": "forestgreen",
          "line": {
           "color": "black",
           "width": 1
          },
          "opacity": 1,
          "size": 0.1,
          "symbol": "diamond-wide"
         },
         "mode": "markers",
         "name": "Primary Energy|Wind (1063)",
         "showlegend": false,
         "subplot": "ternary",
         "text": [
          "2100"
         ],
         "textfont": {
          "color": "forestgreen",
          "size": 1
         },
         "type": "scatterternary"
        },
        {
         "a": [
          0.1620762515151537
         ],
         "b": [
          0.5990979451264342
         ],
         "c": [
          0.23882580335841208
         ],
         "mode": "text",
         "showlegend": false,
         "subplot": "ternary",
         "text": [
          "☀"
         ],
         "textfont": {
          "color": "forestgreen",
          "size": 23
         },
         "type": "scatterternary"
        },
        {
         "a": [
          0.09835206352025395
         ],
         "b": [
          0.6830163933947053
         ],
         "c": [
          0.21863154308504062
         ],
         "hovertemplate": "%{text}<br>Var (climate): %{a}<br>Var (model): %{b} <br>Var (other): %{c}",
         "line": {
          "width": 1.5
         },
         "marker": {
          "color": "forestgreen",
          "line": {
           "color": "black",
           "width": 1
          },
          "opacity": 1,
          "size": 0.1,
          "symbol": "diamond-wide"
         },
         "mode": "markers",
         "name": "Primary Energy|Solar (1063)",
         "showlegend": false,
         "subplot": "ternary",
         "text": [
          "2100"
         ],
         "textfont": {
          "color": "forestgreen",
          "size": 1
         },
         "type": "scatterternary"
        },
        {
         "a": [
          0.09835206352025395
         ],
         "b": [
          0.6830163933947053
         ],
         "c": [
          0.21863154308504062
         ],
         "mode": "text",
         "showlegend": false,
         "subplot": "ternary",
         "text": [
          "☀"
         ],
         "textfont": {
          "color": "forestgreen",
          "size": 23
         },
         "type": "scatterternary"
        },
        {
         "a": [
          0.1432484960922233
         ],
         "b": [
          0.5789102050795814
         ],
         "c": [
          0.27784129882819547
         ],
         "hovertemplate": "%{text}<br>Var (climate): %{a}<br>Var (model): %{b} <br>Var (other): %{c}",
         "line": {
          "width": 1.5
         },
         "marker": {
          "color": "forestgreen",
          "line": {
           "color": "black",
           "width": 1
          },
          "opacity": 1,
          "size": 0.1,
          "symbol": "diamond-wide"
         },
         "mode": "markers",
         "name": "Primary Energy|Nuclear (1193)",
         "showlegend": false,
         "subplot": "ternary",
         "text": [
          "2100"
         ],
         "textfont": {
          "color": "forestgreen",
          "size": 1
         },
         "type": "scatterternary"
        },
        {
         "a": [
          0.1432484960922233
         ],
         "b": [
          0.5789102050795814
         ],
         "c": [
          0.27784129882819547
         ],
         "mode": "text",
         "showlegend": false,
         "subplot": "ternary",
         "text": [
          "☀"
         ],
         "textfont": {
          "color": "forestgreen",
          "size": 23
         },
         "type": "scatterternary"
        },
        {
         "a": [
          0.1399277246538083
         ],
         "b": [
          0.6662118826436044
         ],
         "c": [
          0.19386039270258745
         ],
         "hovertemplate": "%{text}<br>Var (climate): %{a}<br>Var (model): %{b} <br>Var (other): %{c}",
         "line": {
          "width": 1.5
         },
         "marker": {
          "color": "forestgreen",
          "line": {
           "color": "black",
           "width": 1
          },
          "opacity": 1,
          "size": 0.1,
          "symbol": "diamond-wide"
         },
         "mode": "markers",
         "name": "Primary Energy|Geothermal (863)",
         "showlegend": false,
         "subplot": "ternary",
         "text": [
          "2100"
         ],
         "textfont": {
          "color": "forestgreen",
          "size": 1
         },
         "type": "scatterternary"
        },
        {
         "a": [
          0.1399277246538083
         ],
         "b": [
          0.6662118826436044
         ],
         "c": [
          0.19386039270258745
         ],
         "mode": "text",
         "showlegend": false,
         "subplot": "ternary",
         "text": [
          "☀"
         ],
         "textfont": {
          "color": "forestgreen",
          "size": 23
         },
         "type": "scatterternary"
        },
        {
         "a": [
          0.624993679408909
         ],
         "b": [
          0.25550737470888835
         ],
         "c": [
          0.11949894588220265
         ],
         "hoverinfo": "skip",
         "marker": {
          "color": "forestgreen",
          "line": {
           "width": 2
          },
          "size": 28,
          "symbol": "circle-open"
         },
         "mode": "markers",
         "showlegend": false,
         "subplot": "ternary",
         "type": "scatterternary"
        },
        {
         "a": [
          0.624993679408909
         ],
         "b": [
          0.25550737470888835
         ],
         "c": [
          0.11949894588220265
         ],
         "hoverinfo": "skip",
         "marker": {
          "color": "black",
          "line": {
           "width": 3
          },
          "size": 32,
          "symbol": "circle-open"
         },
         "mode": "markers",
         "showlegend": false,
         "subplot": "ternary",
         "type": "scatterternary"
        },
        {
         "a": [
          0.624993679408909
         ],
         "b": [
          0.25550737470888835
         ],
         "c": [
          0.11949894588220265
         ],
         "hovertemplate": "%{text}<br>Var (climate): %{a}<br>Var (model): %{b} <br>Var (other): %{c}",
         "line": {
          "width": 1.5
         },
         "marker": {
          "color": "forestgreen",
          "line": {
           "color": "black",
           "width": 0
          },
          "opacity": 1,
          "size": 0.1,
          "symbol": "diamond-wide"
         },
         "mode": "markers",
         "name": "Primary Energy|Oil (1193)",
         "showlegend": false,
         "subplot": "ternary",
         "text": [
          "2100"
         ],
         "textfont": {
          "color": "forestgreen",
          "size": 1
         },
         "type": "scatterternary"
        },
        {
         "a": [
          0.624993679408909
         ],
         "b": [
          0.25550737470888835
         ],
         "c": [
          0.11949894588220265
         ],
         "mode": "text",
         "showlegend": false,
         "subplot": "ternary",
         "text": [
          "☀"
         ],
         "textfont": {
          "color": "forestgreen",
          "size": 23
         },
         "type": "scatterternary"
        },
        {
         "a": [
          0.10392078477957932
         ],
         "b": [
          0.7821568916480244
         ],
         "c": [
          0.1139223235723963
         ],
         "hovertemplate": "%{text}<br>Var (climate): %{a}<br>Var (model): %{b} <br>Var (other): %{c}",
         "line": {
          "width": 1.5
         },
         "marker": {
          "color": "forestgreen",
          "line": {
           "color": "black",
           "width": 1
          },
          "opacity": 1,
          "size": 0.1,
          "symbol": "diamond-wide"
         },
         "mode": "markers",
         "name": "Primary Energy|Hydro (1070)",
         "showlegend": false,
         "subplot": "ternary",
         "text": [
          "2100"
         ],
         "textfont": {
          "color": "forestgreen",
          "size": 1
         },
         "type": "scatterternary"
        },
        {
         "a": [
          0.10392078477957932
         ],
         "b": [
          0.7821568916480244
         ],
         "c": [
          0.1139223235723963
         ],
         "mode": "text",
         "showlegend": false,
         "subplot": "ternary",
         "text": [
          "☀"
         ],
         "textfont": {
          "color": "forestgreen",
          "size": 23
         },
         "type": "scatterternary"
        },
        {
         "a": [
          0.22990546393878528
         ],
         "b": [
          0.45074737197162834
         ],
         "c": [
          0.3193471640895861
         ],
         "hoverinfo": "skip",
         "marker": {
          "color": "forestgreen",
          "line": {
           "width": 2
          },
          "size": 28,
          "symbol": "circle-open"
         },
         "mode": "markers",
         "showlegend": false,
         "subplot": "ternary",
         "type": "scatterternary"
        },
        {
         "a": [
          0.22990546393878528
         ],
         "b": [
          0.45074737197162834
         ],
         "c": [
          0.3193471640895861
         ],
         "hoverinfo": "skip",
         "marker": {
          "color": "black",
          "line": {
           "width": 3
          },
          "size": 32,
          "symbol": "circle-open"
         },
         "mode": "markers",
         "showlegend": false,
         "subplot": "ternary",
         "type": "scatterternary"
        },
        {
         "a": [
          0.22990546393878528
         ],
         "b": [
          0.45074737197162834
         ],
         "c": [
          0.3193471640895861
         ],
         "hovertemplate": "%{text}<br>Var (climate): %{a}<br>Var (model): %{b} <br>Var (other): %{c}",
         "line": {
          "width": 1.5
         },
         "marker": {
          "color": "forestgreen",
          "line": {
           "color": "black",
           "width": 0
          },
          "opacity": 1,
          "size": 0.1,
          "symbol": "diamond-wide"
         },
         "mode": "markers",
         "name": "Primary Energy|Renewables (incl. Biomass) (1193)",
         "showlegend": false,
         "subplot": "ternary",
         "text": [
          "2100"
         ],
         "textfont": {
          "color": "forestgreen",
          "size": 1
         },
         "type": "scatterternary"
        },
        {
         "a": [
          0.22990546393878528
         ],
         "b": [
          0.45074737197162834
         ],
         "c": [
          0.3193471640895861
         ],
         "mode": "text",
         "showlegend": false,
         "subplot": "ternary",
         "text": [
          "☀"
         ],
         "textfont": {
          "color": "forestgreen",
          "size": 23
         },
         "type": "scatterternary"
        },
        {
         "a": [
          0.18154459473346507
         ],
         "b": [
          0.5310586795548448
         ],
         "c": [
          0.28739672571169
         ],
         "hovertemplate": "%{text}<br>Var (climate): %{a}<br>Var (model): %{b} <br>Var (other): %{c}",
         "line": {
          "width": 1.5
         },
         "marker": {
          "color": "goldenrod",
          "line": {
           "color": "black",
           "width": 1
          },
          "opacity": 1,
          "size": 0.1,
          "symbol": "star"
         },
         "mode": "markers",
         "name": "Secondary Energy|Electricity (1193)",
         "showlegend": false,
         "subplot": "ternary",
         "text": [
          "2100"
         ],
         "textfont": {
          "color": "goldenrod",
          "size": 1
         },
         "type": "scatterternary"
        },
        {
         "a": [
          0.18154459473346507
         ],
         "b": [
          0.5310586795548448
         ],
         "c": [
          0.28739672571169
         ],
         "mode": "text",
         "showlegend": false,
         "subplot": "ternary",
         "text": [
          "🗲"
         ],
         "textfont": {
          "color": "goldenrod",
          "size": 23
         },
         "type": "scatterternary"
        },
        {
         "a": [
          0.3156956463085506
         ],
         "b": [
          0.5281531775285057
         ],
         "c": [
          0.15615117616294383
         ],
         "hovertemplate": "%{text}<br>Var (climate): %{a}<br>Var (model): %{b} <br>Var (other): %{c}",
         "line": {
          "width": 1.5
         },
         "marker": {
          "color": "goldenrod",
          "line": {
           "color": "black",
           "width": 1
          },
          "opacity": 1,
          "size": 0.1,
          "symbol": "star"
         },
         "mode": "markers",
         "name": "Secondary Energy|Electricity|Biomass|w/ CCS (1158)",
         "showlegend": false,
         "subplot": "ternary",
         "text": [
          "2100"
         ],
         "textfont": {
          "color": "goldenrod",
          "size": 1
         },
         "type": "scatterternary"
        },
        {
         "a": [
          0.3156956463085506
         ],
         "b": [
          0.5281531775285057
         ],
         "c": [
          0.15615117616294383
         ],
         "mode": "text",
         "showlegend": false,
         "subplot": "ternary",
         "text": [
          "🗲"
         ],
         "textfont": {
          "color": "goldenrod",
          "size": 23
         },
         "type": "scatterternary"
        },
        {
         "a": [
          0.12138816421235488
         ],
         "b": [
          0.6020620152064187
         ],
         "c": [
          0.2765498205812264
         ],
         "hovertemplate": "%{text}<br>Var (climate): %{a}<br>Var (model): %{b} <br>Var (other): %{c}",
         "line": {
          "width": 1.5
         },
         "marker": {
          "color": "goldenrod",
          "line": {
           "color": "black",
           "width": 1
          },
          "opacity": 1,
          "size": 0.1,
          "symbol": "star"
         },
         "mode": "markers",
         "name": "Secondary Energy|Electricity|Biomass|w/o CCS (1167)",
         "showlegend": false,
         "subplot": "ternary",
         "text": [
          "2100"
         ],
         "textfont": {
          "color": "goldenrod",
          "size": 1
         },
         "type": "scatterternary"
        },
        {
         "a": [
          0.12138816421235488
         ],
         "b": [
          0.6020620152064187
         ],
         "c": [
          0.2765498205812264
         ],
         "mode": "text",
         "showlegend": false,
         "subplot": "ternary",
         "text": [
          "🗲"
         ],
         "textfont": {
          "color": "goldenrod",
          "size": 23
         },
         "type": "scatterternary"
        },
        {
         "a": [
          0.19218609678634224
         ],
         "b": [
          0.4058194845594968
         ],
         "c": [
          0.40199441865416113
         ],
         "hovertemplate": "%{text}<br>Var (climate): %{a}<br>Var (model): %{b} <br>Var (other): %{c}",
         "line": {
          "width": 1.5
         },
         "marker": {
          "color": "goldenrod",
          "line": {
           "color": "black",
           "width": 1
          },
          "opacity": 1,
          "size": 0.1,
          "symbol": "star"
         },
         "mode": "markers",
         "name": "Secondary Energy|Electricity|Coal|w/ CCS (1166)",
         "showlegend": false,
         "subplot": "ternary",
         "text": [
          "2100"
         ],
         "textfont": {
          "color": "goldenrod",
          "size": 1
         },
         "type": "scatterternary"
        },
        {
         "a": [
          0.19218609678634224
         ],
         "b": [
          0.4058194845594968
         ],
         "c": [
          0.40199441865416113
         ],
         "mode": "text",
         "showlegend": false,
         "subplot": "ternary",
         "text": [
          "🗲"
         ],
         "textfont": {
          "color": "goldenrod",
          "size": 23
         },
         "type": "scatterternary"
        },
        {
         "a": [
          0.6310921201783016
         ],
         "b": [
          0.1799213393002705
         ],
         "c": [
          0.18898654052142796
         ],
         "hoverinfo": "skip",
         "marker": {
          "color": "goldenrod",
          "line": {
           "width": 2
          },
          "size": 28,
          "symbol": "circle-open"
         },
         "mode": "markers",
         "showlegend": false,
         "subplot": "ternary",
         "type": "scatterternary"
        },
        {
         "a": [
          0.6310921201783016
         ],
         "b": [
          0.1799213393002705
         ],
         "c": [
          0.18898654052142796
         ],
         "hoverinfo": "skip",
         "marker": {
          "color": "black",
          "line": {
           "width": 3
          },
          "size": 32,
          "symbol": "circle-open"
         },
         "mode": "markers",
         "showlegend": false,
         "subplot": "ternary",
         "type": "scatterternary"
        },
        {
         "a": [
          0.6310921201783016
         ],
         "b": [
          0.1799213393002705
         ],
         "c": [
          0.18898654052142796
         ],
         "hovertemplate": "%{text}<br>Var (climate): %{a}<br>Var (model): %{b} <br>Var (other): %{c}",
         "line": {
          "width": 1.5
         },
         "marker": {
          "color": "goldenrod",
          "line": {
           "color": "black",
           "width": 0
          },
          "opacity": 1,
          "size": 0.1,
          "symbol": "star"
         },
         "mode": "markers",
         "name": "Secondary Energy|Electricity|Coal|w/o CCS (1174)",
         "showlegend": false,
         "subplot": "ternary",
         "text": [
          "2100"
         ],
         "textfont": {
          "color": "goldenrod",
          "size": 1
         },
         "type": "scatterternary"
        },
        {
         "a": [
          0.6310921201783016
         ],
         "b": [
          0.1799213393002705
         ],
         "c": [
          0.18898654052142796
         ],
         "mode": "text",
         "showlegend": false,
         "subplot": "ternary",
         "text": [
          "🗲"
         ],
         "textfont": {
          "color": "goldenrod",
          "size": 23
         },
         "type": "scatterternary"
        },
        {
         "a": [
          0.2075508372920497
         ],
         "b": [
          0.6081827457082055
         ],
         "c": [
          0.18426641699974466
         ],
         "hovertemplate": "%{text}<br>Var (climate): %{a}<br>Var (model): %{b} <br>Var (other): %{c}",
         "line": {
          "width": 1.5
         },
         "marker": {
          "color": "goldenrod",
          "line": {
           "color": "black",
           "width": 1
          },
          "opacity": 1,
          "size": 0.1,
          "symbol": "star"
         },
         "mode": "markers",
         "name": "Secondary Energy|Electricity|Gas|w/ CCS (1165)",
         "showlegend": false,
         "subplot": "ternary",
         "text": [
          "2100"
         ],
         "textfont": {
          "color": "goldenrod",
          "size": 1
         },
         "type": "scatterternary"
        },
        {
         "a": [
          0.2075508372920497
         ],
         "b": [
          0.6081827457082055
         ],
         "c": [
          0.18426641699974466
         ],
         "mode": "text",
         "showlegend": false,
         "subplot": "ternary",
         "text": [
          "🗲"
         ],
         "textfont": {
          "color": "goldenrod",
          "size": 23
         },
         "type": "scatterternary"
        },
        {
         "a": [
          0.5479762347597601
         ],
         "b": [
          0.29043240712070306
         ],
         "c": [
          0.16159135811953695
         ],
         "hovertemplate": "%{text}<br>Var (climate): %{a}<br>Var (model): %{b} <br>Var (other): %{c}",
         "line": {
          "width": 1.5
         },
         "marker": {
          "color": "goldenrod",
          "line": {
           "color": "black",
           "width": 1
          },
          "opacity": 1,
          "size": 0.1,
          "symbol": "star"
         },
         "mode": "markers",
         "name": "Secondary Energy|Electricity|Gas|w/o CCS (1174)",
         "showlegend": false,
         "subplot": "ternary",
         "text": [
          "2100"
         ],
         "textfont": {
          "color": "goldenrod",
          "size": 1
         },
         "type": "scatterternary"
        },
        {
         "a": [
          0.5479762347597601
         ],
         "b": [
          0.29043240712070306
         ],
         "c": [
          0.16159135811953695
         ],
         "mode": "text",
         "showlegend": false,
         "subplot": "ternary",
         "text": [
          "🗲"
         ],
         "textfont": {
          "color": "goldenrod",
          "size": 23
         },
         "type": "scatterternary"
        },
        {
         "a": [
          0.1483159387693352
         ],
         "b": [
          0.577177006062756
         ],
         "c": [
          0.27450705516790874
         ],
         "hovertemplate": "%{text}<br>Var (climate): %{a}<br>Var (model): %{b} <br>Var (other): %{c}",
         "line": {
          "width": 1.5
         },
         "marker": {
          "color": "goldenrod",
          "line": {
           "color": "black",
           "width": 1
          },
          "opacity": 1,
          "size": 0.1,
          "symbol": "star"
         },
         "mode": "markers",
         "name": "Secondary Energy|Electricity|Nuclear (1194)",
         "showlegend": false,
         "subplot": "ternary",
         "text": [
          "2100"
         ],
         "textfont": {
          "color": "goldenrod",
          "size": 1
         },
         "type": "scatterternary"
        },
        {
         "a": [
          0.1483159387693352
         ],
         "b": [
          0.577177006062756
         ],
         "c": [
          0.27450705516790874
         ],
         "mode": "text",
         "showlegend": false,
         "subplot": "ternary",
         "text": [
          "🗲"
         ],
         "textfont": {
          "color": "goldenrod",
          "size": 23
         },
         "type": "scatterternary"
        },
        {
         "a": [
          0.11950817591850295
         ],
         "b": [
          0.6297155153647698
         ],
         "c": [
          0.2507763087167274
         ],
         "hovertemplate": "%{text}<br>Var (climate): %{a}<br>Var (model): %{b} <br>Var (other): %{c}",
         "line": {
          "width": 1.5
         },
         "marker": {
          "color": "goldenrod",
          "line": {
           "color": "black",
           "width": 1
          },
          "opacity": 1,
          "size": 0.1,
          "symbol": "star"
         },
         "mode": "markers",
         "name": "Secondary Energy|Electricity|Solar (1187)",
         "showlegend": false,
         "subplot": "ternary",
         "text": [
          "2100"
         ],
         "textfont": {
          "color": "goldenrod",
          "size": 1
         },
         "type": "scatterternary"
        },
        {
         "a": [
          0.11950817591850295
         ],
         "b": [
          0.6297155153647698
         ],
         "c": [
          0.2507763087167274
         ],
         "mode": "text",
         "showlegend": false,
         "subplot": "ternary",
         "text": [
          "🗲"
         ],
         "textfont": {
          "color": "goldenrod",
          "size": 23
         },
         "type": "scatterternary"
        },
        {
         "a": [
          0.15001168950046803
         ],
         "b": [
          0.6520077350617465
         ],
         "c": [
          0.19798057543778566
         ],
         "hovertemplate": "%{text}<br>Var (climate): %{a}<br>Var (model): %{b} <br>Var (other): %{c}",
         "line": {
          "width": 1.5
         },
         "marker": {
          "color": "goldenrod",
          "line": {
           "color": "black",
           "width": 1
          },
          "opacity": 1,
          "size": 0.1,
          "symbol": "star"
         },
         "mode": "markers",
         "name": "Secondary Energy|Electricity|Wind (1187)",
         "showlegend": false,
         "subplot": "ternary",
         "text": [
          "2100"
         ],
         "textfont": {
          "color": "goldenrod",
          "size": 1
         },
         "type": "scatterternary"
        },
        {
         "a": [
          0.15001168950046803
         ],
         "b": [
          0.6520077350617465
         ],
         "c": [
          0.19798057543778566
         ],
         "mode": "text",
         "showlegend": false,
         "subplot": "ternary",
         "text": [
          "🗲"
         ],
         "textfont": {
          "color": "goldenrod",
          "size": 23
         },
         "type": "scatterternary"
        },
        {
         "a": [
          0.09265657436021968
         ],
         "b": [
          0.7993436545999348
         ],
         "c": [
          0.10799977103984532
         ],
         "hovertemplate": "%{text}<br>Var (climate): %{a}<br>Var (model): %{b} <br>Var (other): %{c}",
         "line": {
          "width": 1.5
         },
         "marker": {
          "color": "goldenrod",
          "line": {
           "color": "black",
           "width": 1
          },
          "opacity": 1,
          "size": 0.1,
          "symbol": "star"
         },
         "mode": "markers",
         "name": "Secondary Energy|Electricity|Hydro (1194)",
         "showlegend": false,
         "subplot": "ternary",
         "text": [
          "2100"
         ],
         "textfont": {
          "color": "goldenrod",
          "size": 1
         },
         "type": "scatterternary"
        },
        {
         "a": [
          0.09265657436021968
         ],
         "b": [
          0.7993436545999348
         ],
         "c": [
          0.10799977103984532
         ],
         "mode": "text",
         "showlegend": false,
         "subplot": "ternary",
         "text": [
          "🗲"
         ],
         "textfont": {
          "color": "goldenrod",
          "size": 23
         },
         "type": "scatterternary"
        },
        {
         "a": [
          0.2525318114868811
         ],
         "b": [
          0.5123357762718755
         ],
         "c": [
          0.23513241224124326
         ],
         "hovertemplate": "%{text}<br>Var (climate): %{a}<br>Var (model): %{b} <br>Var (other): %{c}",
         "line": {
          "width": 1.5
         },
         "marker": {
          "color": "goldenrod",
          "line": {
           "color": "black",
           "width": 1
          },
          "opacity": 1,
          "size": 0.1,
          "symbol": "star"
         },
         "mode": "markers",
         "name": "Secondary Energy|Electricity|Renewables (incl. Biomass) (1194)",
         "showlegend": false,
         "subplot": "ternary",
         "text": [
          "2100"
         ],
         "textfont": {
          "color": "goldenrod",
          "size": 1
         },
         "type": "scatterternary"
        },
        {
         "a": [
          0.2525318114868811
         ],
         "b": [
          0.5123357762718755
         ],
         "c": [
          0.23513241224124326
         ],
         "mode": "text",
         "showlegend": false,
         "subplot": "ternary",
         "text": [
          "🗲"
         ],
         "textfont": {
          "color": "goldenrod",
          "size": 23
         },
         "type": "scatterternary"
        },
        {
         "a": [
          0.1912509224971518
         ],
         "b": [
          0.7047162202381161
         ],
         "c": [
          0.10403285726473203
         ],
         "hovertemplate": "%{text}<br>Var (climate): %{a}<br>Var (model): %{b} <br>Var (other): %{c}",
         "line": {
          "width": 1.5
         },
         "marker": {
          "color": "goldenrod",
          "line": {
           "color": "black",
           "width": 1
          },
          "opacity": 1,
          "size": 0.1,
          "symbol": "star"
         },
         "mode": "markers",
         "name": "Secondary Energy|Electricity|Geothermal (912)",
         "showlegend": false,
         "subplot": "ternary",
         "text": [
          "2100"
         ],
         "textfont": {
          "color": "goldenrod",
          "size": 1
         },
         "type": "scatterternary"
        },
        {
         "a": [
          0.1912509224971518
         ],
         "b": [
          0.7047162202381161
         ],
         "c": [
          0.10403285726473203
         ],
         "mode": "text",
         "showlegend": false,
         "subplot": "ternary",
         "text": [
          "🗲"
         ],
         "textfont": {
          "color": "goldenrod",
          "size": 23
         },
         "type": "scatterternary"
        },
        {
         "a": [
          0.119249595382463
         ],
         "b": [
          0.6975398863193545
         ],
         "c": [
          0.18321051829818238
         ],
         "hovertemplate": "%{text}<br>Var (climate): %{a}<br>Var (model): %{b} <br>Var (other): %{c}",
         "line": {
          "width": 1.5
         },
         "marker": {
          "color": "peru",
          "line": {
           "color": "black",
           "width": 1
          },
          "opacity": 1,
          "size": 0.1,
          "symbol": "square"
         },
         "mode": "markers",
         "name": "Final Energy|Industry (1096)",
         "showlegend": false,
         "subplot": "ternary",
         "text": [
          "2100"
         ],
         "textfont": {
          "color": "peru",
          "size": 1
         },
         "type": "scatterternary"
        },
        {
         "a": [
          0.119249595382463
         ],
         "b": [
          0.6975398863193545
         ],
         "c": [
          0.18321051829818238
         ],
         "mode": "text",
         "showlegend": false,
         "subplot": "ternary",
         "text": [
          "⛮"
         ],
         "textfont": {
          "color": "peru",
          "size": 21
         },
         "type": "scatterternary"
        },
        {
         "a": [
          0.37043163689005243
         ],
         "b": [
          0.5112247681210291
         ],
         "c": [
          0.11834359498891855
         ],
         "hovertemplate": "%{text}<br>Var (climate): %{a}<br>Var (model): %{b} <br>Var (other): %{c}",
         "line": {
          "width": 1.5
         },
         "marker": {
          "color": "peru",
          "line": {
           "color": "black",
           "width": 1
          },
          "opacity": 1,
          "size": 0.1,
          "symbol": "square"
         },
         "mode": "markers",
         "name": "Final Energy|Industry|Solids|Coal (933)",
         "showlegend": false,
         "subplot": "ternary",
         "text": [
          "2100"
         ],
         "textfont": {
          "color": "peru",
          "size": 1
         },
         "type": "scatterternary"
        },
        {
         "a": [
          0.37043163689005243
         ],
         "b": [
          0.5112247681210291
         ],
         "c": [
          0.11834359498891855
         ],
         "mode": "text",
         "showlegend": false,
         "subplot": "ternary",
         "text": [
          "⛮"
         ],
         "textfont": {
          "color": "peru",
          "size": 21
         },
         "type": "scatterternary"
        },
        {
         "a": [
          0.26864690490281307
         ],
         "b": [
          0.6014669744602009
         ],
         "c": [
          0.12988612063698599
         ],
         "hovertemplate": "%{text}<br>Var (climate): %{a}<br>Var (model): %{b} <br>Var (other): %{c}",
         "line": {
          "width": 1.5
         },
         "marker": {
          "color": "peru",
          "line": {
           "color": "black",
           "width": 1
          },
          "opacity": 1,
          "size": 0.1,
          "symbol": "square"
         },
         "mode": "markers",
         "name": "Final Energy|Industry|Solids|Biomass (933)",
         "showlegend": false,
         "subplot": "ternary",
         "text": [
          "2100"
         ],
         "textfont": {
          "color": "peru",
          "size": 1
         },
         "type": "scatterternary"
        },
        {
         "a": [
          0.26864690490281307
         ],
         "b": [
          0.6014669744602009
         ],
         "c": [
          0.12988612063698599
         ],
         "mode": "text",
         "showlegend": false,
         "subplot": "ternary",
         "text": [
          "⛮"
         ],
         "textfont": {
          "color": "peru",
          "size": 21
         },
         "type": "scatterternary"
        },
        {
         "a": [
          0.295397749213713
         ],
         "b": [
          0.564710234077641
         ],
         "c": [
          0.13989201670864593
         ],
         "hovertemplate": "%{text}<br>Var (climate): %{a}<br>Var (model): %{b} <br>Var (other): %{c}",
         "line": {
          "width": 1.5
         },
         "marker": {
          "color": "peru",
          "line": {
           "color": "black",
           "width": 1
          },
          "opacity": 1,
          "size": 0.1,
          "symbol": "square"
         },
         "mode": "markers",
         "name": "Final Energy|Industry|Liquids (1054)",
         "showlegend": false,
         "subplot": "ternary",
         "text": [
          "2100"
         ],
         "textfont": {
          "color": "peru",
          "size": 1
         },
         "type": "scatterternary"
        },
        {
         "a": [
          0.295397749213713
         ],
         "b": [
          0.564710234077641
         ],
         "c": [
          0.13989201670864593
         ],
         "mode": "text",
         "showlegend": false,
         "subplot": "ternary",
         "text": [
          "⛮"
         ],
         "textfont": {
          "color": "peru",
          "size": 21
         },
         "type": "scatterternary"
        },
        {
         "a": [
          0.3039390030461599
         ],
         "b": [
          0.496697643841509
         ],
         "c": [
          0.1993633531123312
         ],
         "hovertemplate": "%{text}<br>Var (climate): %{a}<br>Var (model): %{b} <br>Var (other): %{c}",
         "line": {
          "width": 1.5
         },
         "marker": {
          "color": "peru",
          "line": {
           "color": "black",
           "width": 1
          },
          "opacity": 1,
          "size": 0.1,
          "symbol": "square"
         },
         "mode": "markers",
         "name": "Final Energy|Industry|Gases (1054)",
         "showlegend": false,
         "subplot": "ternary",
         "text": [
          "2100"
         ],
         "textfont": {
          "color": "peru",
          "size": 1
         },
         "type": "scatterternary"
        },
        {
         "a": [
          0.3039390030461599
         ],
         "b": [
          0.496697643841509
         ],
         "c": [
          0.1993633531123312
         ],
         "mode": "text",
         "showlegend": false,
         "subplot": "ternary",
         "text": [
          "⛮"
         ],
         "textfont": {
          "color": "peru",
          "size": 21
         },
         "type": "scatterternary"
        },
        {
         "a": [
          0.20272422514751595
         ],
         "b": [
          0.5765182890216196
         ],
         "c": [
          0.22075748583086444
         ],
         "hoverinfo": "skip",
         "marker": {
          "color": "peru",
          "line": {
           "width": 2
          },
          "size": 28,
          "symbol": "circle-open"
         },
         "mode": "markers",
         "showlegend": false,
         "subplot": "ternary",
         "type": "scatterternary"
        },
        {
         "a": [
          0.20272422514751595
         ],
         "b": [
          0.5765182890216196
         ],
         "c": [
          0.22075748583086444
         ],
         "hoverinfo": "skip",
         "marker": {
          "color": "black",
          "line": {
           "width": 3
          },
          "size": 32,
          "symbol": "circle-open"
         },
         "mode": "markers",
         "showlegend": false,
         "subplot": "ternary",
         "type": "scatterternary"
        },
        {
         "a": [
          0.20272422514751595
         ],
         "b": [
          0.5765182890216196
         ],
         "c": [
          0.22075748583086444
         ],
         "hovertemplate": "%{text}<br>Var (climate): %{a}<br>Var (model): %{b} <br>Var (other): %{c}",
         "line": {
          "width": 1.5
         },
         "marker": {
          "color": "peru",
          "line": {
           "color": "black",
           "width": 0
          },
          "opacity": 1,
          "size": 0.1,
          "symbol": "square"
         },
         "mode": "markers",
         "name": "Final Energy|Industry|Electricity (1054)",
         "showlegend": false,
         "subplot": "ternary",
         "text": [
          "2100"
         ],
         "textfont": {
          "color": "peru",
          "size": 1
         },
         "type": "scatterternary"
        },
        {
         "a": [
          0.20272422514751595
         ],
         "b": [
          0.5765182890216196
         ],
         "c": [
          0.22075748583086444
         ],
         "mode": "text",
         "showlegend": false,
         "subplot": "ternary",
         "text": [
          "⛮"
         ],
         "textfont": {
          "color": "peru",
          "size": 21
         },
         "type": "scatterternary"
        },
        {
         "a": [
          0.05087611821756324
         ],
         "b": [
          0.7426351822969811
         ],
         "c": [
          0.2064886994854559
         ],
         "hovertemplate": "%{text}<br>Var (climate): %{a}<br>Var (model): %{b} <br>Var (other): %{c}",
         "line": {
          "width": 1.5
         },
         "marker": {
          "color": "peru",
          "line": {
           "color": "black",
           "width": 1
          },
          "opacity": 1,
          "size": 0.1,
          "symbol": "square"
         },
         "mode": "markers",
         "name": "Final Energy|Industry|Hydrogen (961)",
         "showlegend": false,
         "subplot": "ternary",
         "text": [
          "2100"
         ],
         "textfont": {
          "color": "peru",
          "size": 1
         },
         "type": "scatterternary"
        },
        {
         "a": [
          0.05087611821756324
         ],
         "b": [
          0.7426351822969811
         ],
         "c": [
          0.2064886994854559
         ],
         "mode": "text",
         "showlegend": false,
         "subplot": "ternary",
         "text": [
          "⛮"
         ],
         "textfont": {
          "color": "peru",
          "size": 21
         },
         "type": "scatterternary"
        },
        {
         "a": [
          0.31177262695513674
         ],
         "b": [
          0.47366773566177284
         ],
         "c": [
          0.21455963738309017
         ],
         "hovertemplate": "%{text}<br>Var (climate): %{a}<br>Var (model): %{b} <br>Var (other): %{c}",
         "line": {
          "width": 1.5
         },
         "marker": {
          "color": "teal",
          "line": {
           "color": "black",
           "width": 1
          },
          "opacity": 1,
          "size": 0.1,
          "symbol": "cross"
         },
         "mode": "markers",
         "name": "Final Energy|Transportation (1186)",
         "showlegend": false,
         "subplot": "ternary",
         "text": [
          "2100"
         ],
         "textfont": {
          "color": "teal",
          "size": 1
         },
         "type": "scatterternary"
        },
        {
         "a": [
          0.31177262695513674
         ],
         "b": [
          0.47366773566177284
         ],
         "c": [
          0.21455963738309017
         ],
         "mode": "text",
         "showlegend": false,
         "subplot": "ternary",
         "text": [
          "⛟"
         ],
         "textfont": {
          "color": "teal",
          "size": 21
         },
         "type": "scatterternary"
        },
        {
         "a": [
          0.08123330378096237
         ],
         "b": [
          0.7673266560675449
         ],
         "c": [
          0.15144004015149232
         ],
         "hovertemplate": "%{text}<br>Var (climate): %{a}<br>Var (model): %{b} <br>Var (other): %{c}",
         "line": {
          "width": 1.5
         },
         "marker": {
          "color": "teal",
          "line": {
           "color": "black",
           "width": 1
          },
          "opacity": 1,
          "size": 0.1,
          "symbol": "cross"
         },
         "mode": "markers",
         "name": "Final Energy|Transportation|Gases (996)",
         "showlegend": false,
         "subplot": "ternary",
         "text": [
          "2100"
         ],
         "textfont": {
          "color": "teal",
          "size": 1
         },
         "type": "scatterternary"
        },
        {
         "a": [
          0.08123330378096237
         ],
         "b": [
          0.7673266560675449
         ],
         "c": [
          0.15144004015149232
         ],
         "mode": "text",
         "showlegend": false,
         "subplot": "ternary",
         "text": [
          "⛟"
         ],
         "textfont": {
          "color": "teal",
          "size": 21
         },
         "type": "scatterternary"
        },
        {
         "a": [
          0.11429176128457845
         ],
         "b": [
          0.7631012131569598
         ],
         "c": [
          0.12260702555846167
         ],
         "hovertemplate": "%{text}<br>Var (climate): %{a}<br>Var (model): %{b} <br>Var (other): %{c}",
         "line": {
          "width": 1.5
         },
         "marker": {
          "color": "teal",
          "line": {
           "color": "black",
           "width": 1
          },
          "opacity": 1,
          "size": 0.1,
          "symbol": "cross"
         },
         "mode": "markers",
         "name": "Final Energy|Transportation|Liquids|Bioenergy (687)",
         "showlegend": false,
         "subplot": "ternary",
         "text": [
          "2100"
         ],
         "textfont": {
          "color": "teal",
          "size": 1
         },
         "type": "scatterternary"
        },
        {
         "a": [
          0.11429176128457845
         ],
         "b": [
          0.7631012131569598
         ],
         "c": [
          0.12260702555846167
         ],
         "mode": "text",
         "showlegend": false,
         "subplot": "ternary",
         "text": [
          "⛟"
         ],
         "textfont": {
          "color": "teal",
          "size": 21
         },
         "type": "scatterternary"
        },
        {
         "a": [
          0.5740413580401685
         ],
         "b": [
          0.27763941424808913
         ],
         "c": [
          0.1483192277117423
         ],
         "hovertemplate": "%{text}<br>Var (climate): %{a}<br>Var (model): %{b} <br>Var (other): %{c}",
         "line": {
          "width": 1.5
         },
         "marker": {
          "color": "teal",
          "line": {
           "color": "black",
           "width": 1
          },
          "opacity": 1,
          "size": 0.1,
          "symbol": "cross"
         },
         "mode": "markers",
         "name": "Final Energy|Transportation|Liquids|Oil (968)",
         "showlegend": false,
         "subplot": "ternary",
         "text": [
          "2100"
         ],
         "textfont": {
          "color": "teal",
          "size": 1
         },
         "type": "scatterternary"
        },
        {
         "a": [
          0.5740413580401685
         ],
         "b": [
          0.27763941424808913
         ],
         "c": [
          0.1483192277117423
         ],
         "mode": "text",
         "showlegend": false,
         "subplot": "ternary",
         "text": [
          "⛟"
         ],
         "textfont": {
          "color": "teal",
          "size": 21
         },
         "type": "scatterternary"
        },
        {
         "a": [
          0.17558319496753505
         ],
         "b": [
          0.5545966823122611
         ],
         "c": [
          0.26982012272020384
         ],
         "hoverinfo": "skip",
         "marker": {
          "color": "teal",
          "line": {
           "width": 2
          },
          "size": 28,
          "symbol": "circle-open"
         },
         "mode": "markers",
         "showlegend": false,
         "subplot": "ternary",
         "type": "scatterternary"
        },
        {
         "a": [
          0.17558319496753505
         ],
         "b": [
          0.5545966823122611
         ],
         "c": [
          0.26982012272020384
         ],
         "hoverinfo": "skip",
         "marker": {
          "color": "black",
          "line": {
           "width": 3
          },
          "size": 32,
          "symbol": "circle-open"
         },
         "mode": "markers",
         "showlegend": false,
         "subplot": "ternary",
         "type": "scatterternary"
        },
        {
         "a": [
          0.17558319496753505
         ],
         "b": [
          0.5545966823122611
         ],
         "c": [
          0.26982012272020384
         ],
         "hovertemplate": "%{text}<br>Var (climate): %{a}<br>Var (model): %{b} <br>Var (other): %{c}",
         "line": {
          "width": 1.5
         },
         "marker": {
          "color": "teal",
          "line": {
           "color": "black",
           "width": 0
          },
          "opacity": 1,
          "size": 0.1,
          "symbol": "cross"
         },
         "mode": "markers",
         "name": "Final Energy|Transportation|Hydrogen (1113)",
         "showlegend": false,
         "subplot": "ternary",
         "text": [
          "2100"
         ],
         "textfont": {
          "color": "teal",
          "size": 1
         },
         "type": "scatterternary"
        },
        {
         "a": [
          0.17558319496753505
         ],
         "b": [
          0.5545966823122611
         ],
         "c": [
          0.26982012272020384
         ],
         "mode": "text",
         "showlegend": false,
         "subplot": "ternary",
         "text": [
          "⛟"
         ],
         "textfont": {
          "color": "teal",
          "size": 21
         },
         "type": "scatterternary"
        },
        {
         "a": [
          0.09125532306317763
         ],
         "b": [
          0.7355260389280783
         ],
         "c": [
          0.17321863800874432
         ],
         "hoverinfo": "skip",
         "marker": {
          "color": "teal",
          "line": {
           "width": 2
          },
          "size": 28,
          "symbol": "circle-open"
         },
         "mode": "markers",
         "showlegend": false,
         "subplot": "ternary",
         "type": "scatterternary"
        },
        {
         "a": [
          0.09125532306317763
         ],
         "b": [
          0.7355260389280783
         ],
         "c": [
          0.17321863800874432
         ],
         "hoverinfo": "skip",
         "marker": {
          "color": "black",
          "line": {
           "width": 3
          },
          "size": 32,
          "symbol": "circle-open"
         },
         "mode": "markers",
         "showlegend": false,
         "subplot": "ternary",
         "type": "scatterternary"
        },
        {
         "a": [
          0.09125532306317763
         ],
         "b": [
          0.7355260389280783
         ],
         "c": [
          0.17321863800874432
         ],
         "hovertemplate": "%{text}<br>Var (climate): %{a}<br>Var (model): %{b} <br>Var (other): %{c}",
         "line": {
          "width": 1.5
         },
         "marker": {
          "color": "teal",
          "line": {
           "color": "black",
           "width": 0
          },
          "opacity": 1,
          "size": 0.1,
          "symbol": "cross"
         },
         "mode": "markers",
         "name": "Final Energy|Transportation|Electricity (1186)",
         "showlegend": false,
         "subplot": "ternary",
         "text": [
          "2100"
         ],
         "textfont": {
          "color": "teal",
          "size": 1
         },
         "type": "scatterternary"
        },
        {
         "a": [
          0.09125532306317763
         ],
         "b": [
          0.7355260389280783
         ],
         "c": [
          0.17321863800874432
         ],
         "mode": "text",
         "showlegend": false,
         "subplot": "ternary",
         "text": [
          "⛟"
         ],
         "textfont": {
          "color": "teal",
          "size": 21
         },
         "type": "scatterternary"
        },
        {
         "a": [
          0.10894822868995044
         ],
         "b": [
          0.6421127964815391
         ],
         "c": [
          0.24893897482851085
         ],
         "hovertemplate": "%{text}<br>Var (climate): %{a}<br>Var (model): %{b} <br>Var (other): %{c}",
         "line": {
          "width": 1.5
         },
         "marker": {
          "color": "silver",
          "line": {
           "color": "black",
           "width": 1
          },
          "opacity": 1,
          "size": 0.1,
          "symbol": "star-triangle-up"
         },
         "mode": "markers",
         "name": "Final Energy|Residential and Commercial (1045)",
         "showlegend": false,
         "subplot": "ternary",
         "text": [
          "2100"
         ],
         "textfont": {
          "color": "silver",
          "size": 1
         },
         "type": "scatterternary"
        },
        {
         "a": [
          0.10894822868995044
         ],
         "b": [
          0.6421127964815391
         ],
         "c": [
          0.24893897482851085
         ],
         "mode": "text",
         "showlegend": false,
         "subplot": "ternary",
         "text": [
          "⌂"
         ],
         "textfont": {
          "color": "darkgray",
          "size": 1
         },
         "type": "scatterternary"
        },
        {
         "a": [
          0.10894822868995044
         ],
         "b": [
          0.6421127964815391
         ],
         "c": [
          0.24893897482851085
         ],
         "mode": "text",
         "showlegend": false,
         "subplot": "ternary",
         "text": [
          "⌂"
         ],
         "textfont": {
          "color": "darkgray",
          "size": 2
         },
         "type": "scatterternary"
        },
        {
         "a": [
          0.10894822868995044
         ],
         "b": [
          0.6421127964815391
         ],
         "c": [
          0.24893897482851085
         ],
         "mode": "text",
         "showlegend": false,
         "subplot": "ternary",
         "text": [
          "⌂"
         ],
         "textfont": {
          "color": "darkgray",
          "size": 3
         },
         "type": "scatterternary"
        },
        {
         "a": [
          0.10894822868995044
         ],
         "b": [
          0.6421127964815391
         ],
         "c": [
          0.24893897482851085
         ],
         "mode": "text",
         "showlegend": false,
         "subplot": "ternary",
         "text": [
          "⌂"
         ],
         "textfont": {
          "color": "darkgray",
          "size": 4
         },
         "type": "scatterternary"
        },
        {
         "a": [
          0.10894822868995044
         ],
         "b": [
          0.6421127964815391
         ],
         "c": [
          0.24893897482851085
         ],
         "mode": "text",
         "showlegend": false,
         "subplot": "ternary",
         "text": [
          "⌂"
         ],
         "textfont": {
          "color": "darkgray",
          "size": 5
         },
         "type": "scatterternary"
        },
        {
         "a": [
          0.10894822868995044
         ],
         "b": [
          0.6421127964815391
         ],
         "c": [
          0.24893897482851085
         ],
         "mode": "text",
         "showlegend": false,
         "subplot": "ternary",
         "text": [
          "⌂"
         ],
         "textfont": {
          "color": "darkgray",
          "size": 6
         },
         "type": "scatterternary"
        },
        {
         "a": [
          0.10894822868995044
         ],
         "b": [
          0.6421127964815391
         ],
         "c": [
          0.24893897482851085
         ],
         "mode": "text",
         "showlegend": false,
         "subplot": "ternary",
         "text": [
          "⌂"
         ],
         "textfont": {
          "color": "darkgray",
          "size": 7
         },
         "type": "scatterternary"
        },
        {
         "a": [
          0.10894822868995044
         ],
         "b": [
          0.6421127964815391
         ],
         "c": [
          0.24893897482851085
         ],
         "mode": "text",
         "showlegend": false,
         "subplot": "ternary",
         "text": [
          "⌂"
         ],
         "textfont": {
          "color": "darkgray",
          "size": 8
         },
         "type": "scatterternary"
        },
        {
         "a": [
          0.10894822868995044
         ],
         "b": [
          0.6421127964815391
         ],
         "c": [
          0.24893897482851085
         ],
         "mode": "text",
         "showlegend": false,
         "subplot": "ternary",
         "text": [
          "⌂"
         ],
         "textfont": {
          "color": "darkgray",
          "size": 9
         },
         "type": "scatterternary"
        },
        {
         "a": [
          0.10894822868995044
         ],
         "b": [
          0.6421127964815391
         ],
         "c": [
          0.24893897482851085
         ],
         "mode": "text",
         "showlegend": false,
         "subplot": "ternary",
         "text": [
          "⌂"
         ],
         "textfont": {
          "color": "darkgray",
          "size": 10
         },
         "type": "scatterternary"
        },
        {
         "a": [
          0.10894822868995044
         ],
         "b": [
          0.6421127964815391
         ],
         "c": [
          0.24893897482851085
         ],
         "mode": "text",
         "showlegend": false,
         "subplot": "ternary",
         "text": [
          "⌂"
         ],
         "textfont": {
          "color": "darkgray",
          "size": 11
         },
         "type": "scatterternary"
        },
        {
         "a": [
          0.10894822868995044
         ],
         "b": [
          0.6421127964815391
         ],
         "c": [
          0.24893897482851085
         ],
         "mode": "text",
         "showlegend": false,
         "subplot": "ternary",
         "text": [
          "⌂"
         ],
         "textfont": {
          "color": "darkgray",
          "size": 12
         },
         "type": "scatterternary"
        },
        {
         "a": [
          0.10894822868995044
         ],
         "b": [
          0.6421127964815391
         ],
         "c": [
          0.24893897482851085
         ],
         "mode": "text",
         "showlegend": false,
         "subplot": "ternary",
         "text": [
          "⌂"
         ],
         "textfont": {
          "color": "darkgray",
          "size": 13
         },
         "type": "scatterternary"
        },
        {
         "a": [
          0.10894822868995044
         ],
         "b": [
          0.6421127964815391
         ],
         "c": [
          0.24893897482851085
         ],
         "mode": "text",
         "showlegend": false,
         "subplot": "ternary",
         "text": [
          "⌂"
         ],
         "textfont": {
          "color": "darkgray",
          "size": 14
         },
         "type": "scatterternary"
        },
        {
         "a": [
          0.10894822868995044
         ],
         "b": [
          0.6421127964815391
         ],
         "c": [
          0.24893897482851085
         ],
         "mode": "text",
         "showlegend": false,
         "subplot": "ternary",
         "text": [
          "⌂"
         ],
         "textfont": {
          "color": "darkgray",
          "size": 15
         },
         "type": "scatterternary"
        },
        {
         "a": [
          0.10894822868995044
         ],
         "b": [
          0.6421127964815391
         ],
         "c": [
          0.24893897482851085
         ],
         "mode": "text",
         "showlegend": false,
         "subplot": "ternary",
         "text": [
          "⌂"
         ],
         "textfont": {
          "color": "darkgray",
          "size": 16
         },
         "type": "scatterternary"
        },
        {
         "a": [
          0.10894822868995044
         ],
         "b": [
          0.6421127964815391
         ],
         "c": [
          0.24893897482851085
         ],
         "mode": "text",
         "showlegend": false,
         "subplot": "ternary",
         "text": [
          "⌂"
         ],
         "textfont": {
          "color": "darkgray",
          "size": 17
         },
         "type": "scatterternary"
        },
        {
         "a": [
          0.10894822868995044
         ],
         "b": [
          0.6421127964815391
         ],
         "c": [
          0.24893897482851085
         ],
         "mode": "text",
         "showlegend": false,
         "subplot": "ternary",
         "text": [
          "⌂"
         ],
         "textfont": {
          "color": "darkgray",
          "size": 18
         },
         "type": "scatterternary"
        },
        {
         "a": [
          0.10894822868995044
         ],
         "b": [
          0.6421127964815391
         ],
         "c": [
          0.24893897482851085
         ],
         "mode": "text",
         "showlegend": false,
         "subplot": "ternary",
         "text": [
          "⌂"
         ],
         "textfont": {
          "color": "darkgray",
          "size": 19
         },
         "type": "scatterternary"
        },
        {
         "a": [
          0.10894822868995044
         ],
         "b": [
          0.6421127964815391
         ],
         "c": [
          0.24893897482851085
         ],
         "mode": "text",
         "showlegend": false,
         "subplot": "ternary",
         "text": [
          "⌂"
         ],
         "textfont": {
          "color": "darkgray",
          "size": 20
         },
         "type": "scatterternary"
        },
        {
         "a": [
          0.10894822868995044
         ],
         "b": [
          0.6421127964815391
         ],
         "c": [
          0.24893897482851085
         ],
         "mode": "text",
         "showlegend": false,
         "subplot": "ternary",
         "text": [
          "⌂"
         ],
         "textfont": {
          "color": "darkgray",
          "size": 21
         },
         "type": "scatterternary"
        },
        {
         "a": [
          0.10894822868995044
         ],
         "b": [
          0.6421127964815391
         ],
         "c": [
          0.24893897482851085
         ],
         "mode": "text",
         "showlegend": false,
         "subplot": "ternary",
         "text": [
          "⌂"
         ],
         "textfont": {
          "color": "darkgray",
          "size": 22
         },
         "type": "scatterternary"
        },
        {
         "a": [
          0.18416431420675095
         ],
         "b": [
          0.4741067775576837
         ],
         "c": [
          0.34172890823556545
         ],
         "hovertemplate": "%{text}<br>Var (climate): %{a}<br>Var (model): %{b} <br>Var (other): %{c}",
         "line": {
          "width": 1.5
         },
         "marker": {
          "color": "silver",
          "line": {
           "color": "black",
           "width": 1
          },
          "opacity": 1,
          "size": 0.1,
          "symbol": "star-triangle-up"
         },
         "mode": "markers",
         "name": "Final Energy|Residential and Commercial|Solids|Biomass (851)",
         "showlegend": false,
         "subplot": "ternary",
         "text": [
          "2100"
         ],
         "textfont": {
          "color": "silver",
          "size": 1
         },
         "type": "scatterternary"
        },
        {
         "a": [
          0.18416431420675095
         ],
         "b": [
          0.4741067775576837
         ],
         "c": [
          0.34172890823556545
         ],
         "mode": "text",
         "showlegend": false,
         "subplot": "ternary",
         "text": [
          "⌂"
         ],
         "textfont": {
          "color": "darkgray",
          "size": 1
         },
         "type": "scatterternary"
        },
        {
         "a": [
          0.18416431420675095
         ],
         "b": [
          0.4741067775576837
         ],
         "c": [
          0.34172890823556545
         ],
         "mode": "text",
         "showlegend": false,
         "subplot": "ternary",
         "text": [
          "⌂"
         ],
         "textfont": {
          "color": "darkgray",
          "size": 2
         },
         "type": "scatterternary"
        },
        {
         "a": [
          0.18416431420675095
         ],
         "b": [
          0.4741067775576837
         ],
         "c": [
          0.34172890823556545
         ],
         "mode": "text",
         "showlegend": false,
         "subplot": "ternary",
         "text": [
          "⌂"
         ],
         "textfont": {
          "color": "darkgray",
          "size": 3
         },
         "type": "scatterternary"
        },
        {
         "a": [
          0.18416431420675095
         ],
         "b": [
          0.4741067775576837
         ],
         "c": [
          0.34172890823556545
         ],
         "mode": "text",
         "showlegend": false,
         "subplot": "ternary",
         "text": [
          "⌂"
         ],
         "textfont": {
          "color": "darkgray",
          "size": 4
         },
         "type": "scatterternary"
        },
        {
         "a": [
          0.18416431420675095
         ],
         "b": [
          0.4741067775576837
         ],
         "c": [
          0.34172890823556545
         ],
         "mode": "text",
         "showlegend": false,
         "subplot": "ternary",
         "text": [
          "⌂"
         ],
         "textfont": {
          "color": "darkgray",
          "size": 5
         },
         "type": "scatterternary"
        },
        {
         "a": [
          0.18416431420675095
         ],
         "b": [
          0.4741067775576837
         ],
         "c": [
          0.34172890823556545
         ],
         "mode": "text",
         "showlegend": false,
         "subplot": "ternary",
         "text": [
          "⌂"
         ],
         "textfont": {
          "color": "darkgray",
          "size": 6
         },
         "type": "scatterternary"
        },
        {
         "a": [
          0.18416431420675095
         ],
         "b": [
          0.4741067775576837
         ],
         "c": [
          0.34172890823556545
         ],
         "mode": "text",
         "showlegend": false,
         "subplot": "ternary",
         "text": [
          "⌂"
         ],
         "textfont": {
          "color": "darkgray",
          "size": 7
         },
         "type": "scatterternary"
        },
        {
         "a": [
          0.18416431420675095
         ],
         "b": [
          0.4741067775576837
         ],
         "c": [
          0.34172890823556545
         ],
         "mode": "text",
         "showlegend": false,
         "subplot": "ternary",
         "text": [
          "⌂"
         ],
         "textfont": {
          "color": "darkgray",
          "size": 8
         },
         "type": "scatterternary"
        },
        {
         "a": [
          0.18416431420675095
         ],
         "b": [
          0.4741067775576837
         ],
         "c": [
          0.34172890823556545
         ],
         "mode": "text",
         "showlegend": false,
         "subplot": "ternary",
         "text": [
          "⌂"
         ],
         "textfont": {
          "color": "darkgray",
          "size": 9
         },
         "type": "scatterternary"
        },
        {
         "a": [
          0.18416431420675095
         ],
         "b": [
          0.4741067775576837
         ],
         "c": [
          0.34172890823556545
         ],
         "mode": "text",
         "showlegend": false,
         "subplot": "ternary",
         "text": [
          "⌂"
         ],
         "textfont": {
          "color": "darkgray",
          "size": 10
         },
         "type": "scatterternary"
        },
        {
         "a": [
          0.18416431420675095
         ],
         "b": [
          0.4741067775576837
         ],
         "c": [
          0.34172890823556545
         ],
         "mode": "text",
         "showlegend": false,
         "subplot": "ternary",
         "text": [
          "⌂"
         ],
         "textfont": {
          "color": "darkgray",
          "size": 11
         },
         "type": "scatterternary"
        },
        {
         "a": [
          0.18416431420675095
         ],
         "b": [
          0.4741067775576837
         ],
         "c": [
          0.34172890823556545
         ],
         "mode": "text",
         "showlegend": false,
         "subplot": "ternary",
         "text": [
          "⌂"
         ],
         "textfont": {
          "color": "darkgray",
          "size": 12
         },
         "type": "scatterternary"
        },
        {
         "a": [
          0.18416431420675095
         ],
         "b": [
          0.4741067775576837
         ],
         "c": [
          0.34172890823556545
         ],
         "mode": "text",
         "showlegend": false,
         "subplot": "ternary",
         "text": [
          "⌂"
         ],
         "textfont": {
          "color": "darkgray",
          "size": 13
         },
         "type": "scatterternary"
        },
        {
         "a": [
          0.18416431420675095
         ],
         "b": [
          0.4741067775576837
         ],
         "c": [
          0.34172890823556545
         ],
         "mode": "text",
         "showlegend": false,
         "subplot": "ternary",
         "text": [
          "⌂"
         ],
         "textfont": {
          "color": "darkgray",
          "size": 14
         },
         "type": "scatterternary"
        },
        {
         "a": [
          0.18416431420675095
         ],
         "b": [
          0.4741067775576837
         ],
         "c": [
          0.34172890823556545
         ],
         "mode": "text",
         "showlegend": false,
         "subplot": "ternary",
         "text": [
          "⌂"
         ],
         "textfont": {
          "color": "darkgray",
          "size": 15
         },
         "type": "scatterternary"
        },
        {
         "a": [
          0.18416431420675095
         ],
         "b": [
          0.4741067775576837
         ],
         "c": [
          0.34172890823556545
         ],
         "mode": "text",
         "showlegend": false,
         "subplot": "ternary",
         "text": [
          "⌂"
         ],
         "textfont": {
          "color": "darkgray",
          "size": 16
         },
         "type": "scatterternary"
        },
        {
         "a": [
          0.18416431420675095
         ],
         "b": [
          0.4741067775576837
         ],
         "c": [
          0.34172890823556545
         ],
         "mode": "text",
         "showlegend": false,
         "subplot": "ternary",
         "text": [
          "⌂"
         ],
         "textfont": {
          "color": "darkgray",
          "size": 17
         },
         "type": "scatterternary"
        },
        {
         "a": [
          0.18416431420675095
         ],
         "b": [
          0.4741067775576837
         ],
         "c": [
          0.34172890823556545
         ],
         "mode": "text",
         "showlegend": false,
         "subplot": "ternary",
         "text": [
          "⌂"
         ],
         "textfont": {
          "color": "darkgray",
          "size": 18
         },
         "type": "scatterternary"
        },
        {
         "a": [
          0.18416431420675095
         ],
         "b": [
          0.4741067775576837
         ],
         "c": [
          0.34172890823556545
         ],
         "mode": "text",
         "showlegend": false,
         "subplot": "ternary",
         "text": [
          "⌂"
         ],
         "textfont": {
          "color": "darkgray",
          "size": 19
         },
         "type": "scatterternary"
        },
        {
         "a": [
          0.18416431420675095
         ],
         "b": [
          0.4741067775576837
         ],
         "c": [
          0.34172890823556545
         ],
         "mode": "text",
         "showlegend": false,
         "subplot": "ternary",
         "text": [
          "⌂"
         ],
         "textfont": {
          "color": "darkgray",
          "size": 20
         },
         "type": "scatterternary"
        },
        {
         "a": [
          0.18416431420675095
         ],
         "b": [
          0.4741067775576837
         ],
         "c": [
          0.34172890823556545
         ],
         "mode": "text",
         "showlegend": false,
         "subplot": "ternary",
         "text": [
          "⌂"
         ],
         "textfont": {
          "color": "darkgray",
          "size": 21
         },
         "type": "scatterternary"
        },
        {
         "a": [
          0.18416431420675095
         ],
         "b": [
          0.4741067775576837
         ],
         "c": [
          0.34172890823556545
         ],
         "mode": "text",
         "showlegend": false,
         "subplot": "ternary",
         "text": [
          "⌂"
         ],
         "textfont": {
          "color": "darkgray",
          "size": 22
         },
         "type": "scatterternary"
        },
        {
         "a": [
          0.16075202689726448
         ],
         "b": [
          0.7265606036718114
         ],
         "c": [
          0.11268736943092421
         ],
         "hovertemplate": "%{text}<br>Var (climate): %{a}<br>Var (model): %{b} <br>Var (other): %{c}",
         "line": {
          "width": 1.5
         },
         "marker": {
          "color": "silver",
          "line": {
           "color": "black",
           "width": 1
          },
          "opacity": 1,
          "size": 0.1,
          "symbol": "star-triangle-up"
         },
         "mode": "markers",
         "name": "Final Energy|Residential and Commercial|Liquids (955)",
         "showlegend": false,
         "subplot": "ternary",
         "text": [
          "2100"
         ],
         "textfont": {
          "color": "silver",
          "size": 1
         },
         "type": "scatterternary"
        },
        {
         "a": [
          0.16075202689726448
         ],
         "b": [
          0.7265606036718114
         ],
         "c": [
          0.11268736943092421
         ],
         "mode": "text",
         "showlegend": false,
         "subplot": "ternary",
         "text": [
          "⌂"
         ],
         "textfont": {
          "color": "darkgray",
          "size": 1
         },
         "type": "scatterternary"
        },
        {
         "a": [
          0.16075202689726448
         ],
         "b": [
          0.7265606036718114
         ],
         "c": [
          0.11268736943092421
         ],
         "mode": "text",
         "showlegend": false,
         "subplot": "ternary",
         "text": [
          "⌂"
         ],
         "textfont": {
          "color": "darkgray",
          "size": 2
         },
         "type": "scatterternary"
        },
        {
         "a": [
          0.16075202689726448
         ],
         "b": [
          0.7265606036718114
         ],
         "c": [
          0.11268736943092421
         ],
         "mode": "text",
         "showlegend": false,
         "subplot": "ternary",
         "text": [
          "⌂"
         ],
         "textfont": {
          "color": "darkgray",
          "size": 3
         },
         "type": "scatterternary"
        },
        {
         "a": [
          0.16075202689726448
         ],
         "b": [
          0.7265606036718114
         ],
         "c": [
          0.11268736943092421
         ],
         "mode": "text",
         "showlegend": false,
         "subplot": "ternary",
         "text": [
          "⌂"
         ],
         "textfont": {
          "color": "darkgray",
          "size": 4
         },
         "type": "scatterternary"
        },
        {
         "a": [
          0.16075202689726448
         ],
         "b": [
          0.7265606036718114
         ],
         "c": [
          0.11268736943092421
         ],
         "mode": "text",
         "showlegend": false,
         "subplot": "ternary",
         "text": [
          "⌂"
         ],
         "textfont": {
          "color": "darkgray",
          "size": 5
         },
         "type": "scatterternary"
        },
        {
         "a": [
          0.16075202689726448
         ],
         "b": [
          0.7265606036718114
         ],
         "c": [
          0.11268736943092421
         ],
         "mode": "text",
         "showlegend": false,
         "subplot": "ternary",
         "text": [
          "⌂"
         ],
         "textfont": {
          "color": "darkgray",
          "size": 6
         },
         "type": "scatterternary"
        },
        {
         "a": [
          0.16075202689726448
         ],
         "b": [
          0.7265606036718114
         ],
         "c": [
          0.11268736943092421
         ],
         "mode": "text",
         "showlegend": false,
         "subplot": "ternary",
         "text": [
          "⌂"
         ],
         "textfont": {
          "color": "darkgray",
          "size": 7
         },
         "type": "scatterternary"
        },
        {
         "a": [
          0.16075202689726448
         ],
         "b": [
          0.7265606036718114
         ],
         "c": [
          0.11268736943092421
         ],
         "mode": "text",
         "showlegend": false,
         "subplot": "ternary",
         "text": [
          "⌂"
         ],
         "textfont": {
          "color": "darkgray",
          "size": 8
         },
         "type": "scatterternary"
        },
        {
         "a": [
          0.16075202689726448
         ],
         "b": [
          0.7265606036718114
         ],
         "c": [
          0.11268736943092421
         ],
         "mode": "text",
         "showlegend": false,
         "subplot": "ternary",
         "text": [
          "⌂"
         ],
         "textfont": {
          "color": "darkgray",
          "size": 9
         },
         "type": "scatterternary"
        },
        {
         "a": [
          0.16075202689726448
         ],
         "b": [
          0.7265606036718114
         ],
         "c": [
          0.11268736943092421
         ],
         "mode": "text",
         "showlegend": false,
         "subplot": "ternary",
         "text": [
          "⌂"
         ],
         "textfont": {
          "color": "darkgray",
          "size": 10
         },
         "type": "scatterternary"
        },
        {
         "a": [
          0.16075202689726448
         ],
         "b": [
          0.7265606036718114
         ],
         "c": [
          0.11268736943092421
         ],
         "mode": "text",
         "showlegend": false,
         "subplot": "ternary",
         "text": [
          "⌂"
         ],
         "textfont": {
          "color": "darkgray",
          "size": 11
         },
         "type": "scatterternary"
        },
        {
         "a": [
          0.16075202689726448
         ],
         "b": [
          0.7265606036718114
         ],
         "c": [
          0.11268736943092421
         ],
         "mode": "text",
         "showlegend": false,
         "subplot": "ternary",
         "text": [
          "⌂"
         ],
         "textfont": {
          "color": "darkgray",
          "size": 12
         },
         "type": "scatterternary"
        },
        {
         "a": [
          0.16075202689726448
         ],
         "b": [
          0.7265606036718114
         ],
         "c": [
          0.11268736943092421
         ],
         "mode": "text",
         "showlegend": false,
         "subplot": "ternary",
         "text": [
          "⌂"
         ],
         "textfont": {
          "color": "darkgray",
          "size": 13
         },
         "type": "scatterternary"
        },
        {
         "a": [
          0.16075202689726448
         ],
         "b": [
          0.7265606036718114
         ],
         "c": [
          0.11268736943092421
         ],
         "mode": "text",
         "showlegend": false,
         "subplot": "ternary",
         "text": [
          "⌂"
         ],
         "textfont": {
          "color": "darkgray",
          "size": 14
         },
         "type": "scatterternary"
        },
        {
         "a": [
          0.16075202689726448
         ],
         "b": [
          0.7265606036718114
         ],
         "c": [
          0.11268736943092421
         ],
         "mode": "text",
         "showlegend": false,
         "subplot": "ternary",
         "text": [
          "⌂"
         ],
         "textfont": {
          "color": "darkgray",
          "size": 15
         },
         "type": "scatterternary"
        },
        {
         "a": [
          0.16075202689726448
         ],
         "b": [
          0.7265606036718114
         ],
         "c": [
          0.11268736943092421
         ],
         "mode": "text",
         "showlegend": false,
         "subplot": "ternary",
         "text": [
          "⌂"
         ],
         "textfont": {
          "color": "darkgray",
          "size": 16
         },
         "type": "scatterternary"
        },
        {
         "a": [
          0.16075202689726448
         ],
         "b": [
          0.7265606036718114
         ],
         "c": [
          0.11268736943092421
         ],
         "mode": "text",
         "showlegend": false,
         "subplot": "ternary",
         "text": [
          "⌂"
         ],
         "textfont": {
          "color": "darkgray",
          "size": 17
         },
         "type": "scatterternary"
        },
        {
         "a": [
          0.16075202689726448
         ],
         "b": [
          0.7265606036718114
         ],
         "c": [
          0.11268736943092421
         ],
         "mode": "text",
         "showlegend": false,
         "subplot": "ternary",
         "text": [
          "⌂"
         ],
         "textfont": {
          "color": "darkgray",
          "size": 18
         },
         "type": "scatterternary"
        },
        {
         "a": [
          0.16075202689726448
         ],
         "b": [
          0.7265606036718114
         ],
         "c": [
          0.11268736943092421
         ],
         "mode": "text",
         "showlegend": false,
         "subplot": "ternary",
         "text": [
          "⌂"
         ],
         "textfont": {
          "color": "darkgray",
          "size": 19
         },
         "type": "scatterternary"
        },
        {
         "a": [
          0.16075202689726448
         ],
         "b": [
          0.7265606036718114
         ],
         "c": [
          0.11268736943092421
         ],
         "mode": "text",
         "showlegend": false,
         "subplot": "ternary",
         "text": [
          "⌂"
         ],
         "textfont": {
          "color": "darkgray",
          "size": 20
         },
         "type": "scatterternary"
        },
        {
         "a": [
          0.16075202689726448
         ],
         "b": [
          0.7265606036718114
         ],
         "c": [
          0.11268736943092421
         ],
         "mode": "text",
         "showlegend": false,
         "subplot": "ternary",
         "text": [
          "⌂"
         ],
         "textfont": {
          "color": "darkgray",
          "size": 21
         },
         "type": "scatterternary"
        },
        {
         "a": [
          0.16075202689726448
         ],
         "b": [
          0.7265606036718114
         ],
         "c": [
          0.11268736943092421
         ],
         "mode": "text",
         "showlegend": false,
         "subplot": "ternary",
         "text": [
          "⌂"
         ],
         "textfont": {
          "color": "darkgray",
          "size": 22
         },
         "type": "scatterternary"
        },
        {
         "a": [
          0.4259967867405063
         ],
         "b": [
          0.4478164397634597
         ],
         "c": [
          0.1261867734960342
         ],
         "hovertemplate": "%{text}<br>Var (climate): %{a}<br>Var (model): %{b} <br>Var (other): %{c}",
         "line": {
          "width": 1.5
         },
         "marker": {
          "color": "silver",
          "line": {
           "color": "black",
           "width": 1
          },
          "opacity": 1,
          "size": 0.1,
          "symbol": "star-triangle-up"
         },
         "mode": "markers",
         "name": "Final Energy|Residential and Commercial|Gases (955)",
         "showlegend": false,
         "subplot": "ternary",
         "text": [
          "2100"
         ],
         "textfont": {
          "color": "silver",
          "size": 1
         },
         "type": "scatterternary"
        },
        {
         "a": [
          0.4259967867405063
         ],
         "b": [
          0.4478164397634597
         ],
         "c": [
          0.1261867734960342
         ],
         "mode": "text",
         "showlegend": false,
         "subplot": "ternary",
         "text": [
          "⌂"
         ],
         "textfont": {
          "color": "darkgray",
          "size": 1
         },
         "type": "scatterternary"
        },
        {
         "a": [
          0.4259967867405063
         ],
         "b": [
          0.4478164397634597
         ],
         "c": [
          0.1261867734960342
         ],
         "mode": "text",
         "showlegend": false,
         "subplot": "ternary",
         "text": [
          "⌂"
         ],
         "textfont": {
          "color": "darkgray",
          "size": 2
         },
         "type": "scatterternary"
        },
        {
         "a": [
          0.4259967867405063
         ],
         "b": [
          0.4478164397634597
         ],
         "c": [
          0.1261867734960342
         ],
         "mode": "text",
         "showlegend": false,
         "subplot": "ternary",
         "text": [
          "⌂"
         ],
         "textfont": {
          "color": "darkgray",
          "size": 3
         },
         "type": "scatterternary"
        },
        {
         "a": [
          0.4259967867405063
         ],
         "b": [
          0.4478164397634597
         ],
         "c": [
          0.1261867734960342
         ],
         "mode": "text",
         "showlegend": false,
         "subplot": "ternary",
         "text": [
          "⌂"
         ],
         "textfont": {
          "color": "darkgray",
          "size": 4
         },
         "type": "scatterternary"
        },
        {
         "a": [
          0.4259967867405063
         ],
         "b": [
          0.4478164397634597
         ],
         "c": [
          0.1261867734960342
         ],
         "mode": "text",
         "showlegend": false,
         "subplot": "ternary",
         "text": [
          "⌂"
         ],
         "textfont": {
          "color": "darkgray",
          "size": 5
         },
         "type": "scatterternary"
        },
        {
         "a": [
          0.4259967867405063
         ],
         "b": [
          0.4478164397634597
         ],
         "c": [
          0.1261867734960342
         ],
         "mode": "text",
         "showlegend": false,
         "subplot": "ternary",
         "text": [
          "⌂"
         ],
         "textfont": {
          "color": "darkgray",
          "size": 6
         },
         "type": "scatterternary"
        },
        {
         "a": [
          0.4259967867405063
         ],
         "b": [
          0.4478164397634597
         ],
         "c": [
          0.1261867734960342
         ],
         "mode": "text",
         "showlegend": false,
         "subplot": "ternary",
         "text": [
          "⌂"
         ],
         "textfont": {
          "color": "darkgray",
          "size": 7
         },
         "type": "scatterternary"
        },
        {
         "a": [
          0.4259967867405063
         ],
         "b": [
          0.4478164397634597
         ],
         "c": [
          0.1261867734960342
         ],
         "mode": "text",
         "showlegend": false,
         "subplot": "ternary",
         "text": [
          "⌂"
         ],
         "textfont": {
          "color": "darkgray",
          "size": 8
         },
         "type": "scatterternary"
        },
        {
         "a": [
          0.4259967867405063
         ],
         "b": [
          0.4478164397634597
         ],
         "c": [
          0.1261867734960342
         ],
         "mode": "text",
         "showlegend": false,
         "subplot": "ternary",
         "text": [
          "⌂"
         ],
         "textfont": {
          "color": "darkgray",
          "size": 9
         },
         "type": "scatterternary"
        },
        {
         "a": [
          0.4259967867405063
         ],
         "b": [
          0.4478164397634597
         ],
         "c": [
          0.1261867734960342
         ],
         "mode": "text",
         "showlegend": false,
         "subplot": "ternary",
         "text": [
          "⌂"
         ],
         "textfont": {
          "color": "darkgray",
          "size": 10
         },
         "type": "scatterternary"
        },
        {
         "a": [
          0.4259967867405063
         ],
         "b": [
          0.4478164397634597
         ],
         "c": [
          0.1261867734960342
         ],
         "mode": "text",
         "showlegend": false,
         "subplot": "ternary",
         "text": [
          "⌂"
         ],
         "textfont": {
          "color": "darkgray",
          "size": 11
         },
         "type": "scatterternary"
        },
        {
         "a": [
          0.4259967867405063
         ],
         "b": [
          0.4478164397634597
         ],
         "c": [
          0.1261867734960342
         ],
         "mode": "text",
         "showlegend": false,
         "subplot": "ternary",
         "text": [
          "⌂"
         ],
         "textfont": {
          "color": "darkgray",
          "size": 12
         },
         "type": "scatterternary"
        },
        {
         "a": [
          0.4259967867405063
         ],
         "b": [
          0.4478164397634597
         ],
         "c": [
          0.1261867734960342
         ],
         "mode": "text",
         "showlegend": false,
         "subplot": "ternary",
         "text": [
          "⌂"
         ],
         "textfont": {
          "color": "darkgray",
          "size": 13
         },
         "type": "scatterternary"
        },
        {
         "a": [
          0.4259967867405063
         ],
         "b": [
          0.4478164397634597
         ],
         "c": [
          0.1261867734960342
         ],
         "mode": "text",
         "showlegend": false,
         "subplot": "ternary",
         "text": [
          "⌂"
         ],
         "textfont": {
          "color": "darkgray",
          "size": 14
         },
         "type": "scatterternary"
        },
        {
         "a": [
          0.4259967867405063
         ],
         "b": [
          0.4478164397634597
         ],
         "c": [
          0.1261867734960342
         ],
         "mode": "text",
         "showlegend": false,
         "subplot": "ternary",
         "text": [
          "⌂"
         ],
         "textfont": {
          "color": "darkgray",
          "size": 15
         },
         "type": "scatterternary"
        },
        {
         "a": [
          0.4259967867405063
         ],
         "b": [
          0.4478164397634597
         ],
         "c": [
          0.1261867734960342
         ],
         "mode": "text",
         "showlegend": false,
         "subplot": "ternary",
         "text": [
          "⌂"
         ],
         "textfont": {
          "color": "darkgray",
          "size": 16
         },
         "type": "scatterternary"
        },
        {
         "a": [
          0.4259967867405063
         ],
         "b": [
          0.4478164397634597
         ],
         "c": [
          0.1261867734960342
         ],
         "mode": "text",
         "showlegend": false,
         "subplot": "ternary",
         "text": [
          "⌂"
         ],
         "textfont": {
          "color": "darkgray",
          "size": 17
         },
         "type": "scatterternary"
        },
        {
         "a": [
          0.4259967867405063
         ],
         "b": [
          0.4478164397634597
         ],
         "c": [
          0.1261867734960342
         ],
         "mode": "text",
         "showlegend": false,
         "subplot": "ternary",
         "text": [
          "⌂"
         ],
         "textfont": {
          "color": "darkgray",
          "size": 18
         },
         "type": "scatterternary"
        },
        {
         "a": [
          0.4259967867405063
         ],
         "b": [
          0.4478164397634597
         ],
         "c": [
          0.1261867734960342
         ],
         "mode": "text",
         "showlegend": false,
         "subplot": "ternary",
         "text": [
          "⌂"
         ],
         "textfont": {
          "color": "darkgray",
          "size": 19
         },
         "type": "scatterternary"
        },
        {
         "a": [
          0.4259967867405063
         ],
         "b": [
          0.4478164397634597
         ],
         "c": [
          0.1261867734960342
         ],
         "mode": "text",
         "showlegend": false,
         "subplot": "ternary",
         "text": [
          "⌂"
         ],
         "textfont": {
          "color": "darkgray",
          "size": 20
         },
         "type": "scatterternary"
        },
        {
         "a": [
          0.4259967867405063
         ],
         "b": [
          0.4478164397634597
         ],
         "c": [
          0.1261867734960342
         ],
         "mode": "text",
         "showlegend": false,
         "subplot": "ternary",
         "text": [
          "⌂"
         ],
         "textfont": {
          "color": "darkgray",
          "size": 21
         },
         "type": "scatterternary"
        },
        {
         "a": [
          0.4259967867405063
         ],
         "b": [
          0.4478164397634597
         ],
         "c": [
          0.1261867734960342
         ],
         "mode": "text",
         "showlegend": false,
         "subplot": "ternary",
         "text": [
          "⌂"
         ],
         "textfont": {
          "color": "darkgray",
          "size": 22
         },
         "type": "scatterternary"
        },
        {
         "a": [
          0.09779231828804784
         ],
         "b": [
          0.7288761908820783
         ],
         "c": [
          0.17333149082987387
         ],
         "hoverinfo": "skip",
         "marker": {
          "color": "silver",
          "line": {
           "width": 2
          },
          "size": 28,
          "symbol": "circle-open"
         },
         "mode": "markers",
         "showlegend": false,
         "subplot": "ternary",
         "type": "scatterternary"
        },
        {
         "a": [
          0.09779231828804784
         ],
         "b": [
          0.7288761908820783
         ],
         "c": [
          0.17333149082987387
         ],
         "hoverinfo": "skip",
         "marker": {
          "color": "black",
          "line": {
           "width": 3
          },
          "size": 32,
          "symbol": "circle-open"
         },
         "mode": "markers",
         "showlegend": false,
         "subplot": "ternary",
         "type": "scatterternary"
        },
        {
         "a": [
          0.09779231828804784
         ],
         "b": [
          0.7288761908820783
         ],
         "c": [
          0.17333149082987387
         ],
         "hovertemplate": "%{text}<br>Var (climate): %{a}<br>Var (model): %{b} <br>Var (other): %{c}",
         "line": {
          "width": 1.5
         },
         "marker": {
          "color": "silver",
          "line": {
           "color": "black",
           "width": 0
          },
          "opacity": 1,
          "size": 0.1,
          "symbol": "star-triangle-up"
         },
         "mode": "markers",
         "name": "Final Energy|Residential and Commercial|Electricity (955)",
         "showlegend": false,
         "subplot": "ternary",
         "text": [
          "2100"
         ],
         "textfont": {
          "color": "silver",
          "size": 1
         },
         "type": "scatterternary"
        },
        {
         "a": [
          0.09779231828804784
         ],
         "b": [
          0.7288761908820783
         ],
         "c": [
          0.17333149082987387
         ],
         "mode": "text",
         "showlegend": false,
         "subplot": "ternary",
         "text": [
          "⌂"
         ],
         "textfont": {
          "color": "darkgray",
          "size": 1
         },
         "type": "scatterternary"
        },
        {
         "a": [
          0.09779231828804784
         ],
         "b": [
          0.7288761908820783
         ],
         "c": [
          0.17333149082987387
         ],
         "mode": "text",
         "showlegend": false,
         "subplot": "ternary",
         "text": [
          "⌂"
         ],
         "textfont": {
          "color": "darkgray",
          "size": 2
         },
         "type": "scatterternary"
        },
        {
         "a": [
          0.09779231828804784
         ],
         "b": [
          0.7288761908820783
         ],
         "c": [
          0.17333149082987387
         ],
         "mode": "text",
         "showlegend": false,
         "subplot": "ternary",
         "text": [
          "⌂"
         ],
         "textfont": {
          "color": "darkgray",
          "size": 3
         },
         "type": "scatterternary"
        },
        {
         "a": [
          0.09779231828804784
         ],
         "b": [
          0.7288761908820783
         ],
         "c": [
          0.17333149082987387
         ],
         "mode": "text",
         "showlegend": false,
         "subplot": "ternary",
         "text": [
          "⌂"
         ],
         "textfont": {
          "color": "darkgray",
          "size": 4
         },
         "type": "scatterternary"
        },
        {
         "a": [
          0.09779231828804784
         ],
         "b": [
          0.7288761908820783
         ],
         "c": [
          0.17333149082987387
         ],
         "mode": "text",
         "showlegend": false,
         "subplot": "ternary",
         "text": [
          "⌂"
         ],
         "textfont": {
          "color": "darkgray",
          "size": 5
         },
         "type": "scatterternary"
        },
        {
         "a": [
          0.09779231828804784
         ],
         "b": [
          0.7288761908820783
         ],
         "c": [
          0.17333149082987387
         ],
         "mode": "text",
         "showlegend": false,
         "subplot": "ternary",
         "text": [
          "⌂"
         ],
         "textfont": {
          "color": "darkgray",
          "size": 6
         },
         "type": "scatterternary"
        },
        {
         "a": [
          0.09779231828804784
         ],
         "b": [
          0.7288761908820783
         ],
         "c": [
          0.17333149082987387
         ],
         "mode": "text",
         "showlegend": false,
         "subplot": "ternary",
         "text": [
          "⌂"
         ],
         "textfont": {
          "color": "darkgray",
          "size": 7
         },
         "type": "scatterternary"
        },
        {
         "a": [
          0.09779231828804784
         ],
         "b": [
          0.7288761908820783
         ],
         "c": [
          0.17333149082987387
         ],
         "mode": "text",
         "showlegend": false,
         "subplot": "ternary",
         "text": [
          "⌂"
         ],
         "textfont": {
          "color": "darkgray",
          "size": 8
         },
         "type": "scatterternary"
        },
        {
         "a": [
          0.09779231828804784
         ],
         "b": [
          0.7288761908820783
         ],
         "c": [
          0.17333149082987387
         ],
         "mode": "text",
         "showlegend": false,
         "subplot": "ternary",
         "text": [
          "⌂"
         ],
         "textfont": {
          "color": "darkgray",
          "size": 9
         },
         "type": "scatterternary"
        },
        {
         "a": [
          0.09779231828804784
         ],
         "b": [
          0.7288761908820783
         ],
         "c": [
          0.17333149082987387
         ],
         "mode": "text",
         "showlegend": false,
         "subplot": "ternary",
         "text": [
          "⌂"
         ],
         "textfont": {
          "color": "darkgray",
          "size": 10
         },
         "type": "scatterternary"
        },
        {
         "a": [
          0.09779231828804784
         ],
         "b": [
          0.7288761908820783
         ],
         "c": [
          0.17333149082987387
         ],
         "mode": "text",
         "showlegend": false,
         "subplot": "ternary",
         "text": [
          "⌂"
         ],
         "textfont": {
          "color": "darkgray",
          "size": 11
         },
         "type": "scatterternary"
        },
        {
         "a": [
          0.09779231828804784
         ],
         "b": [
          0.7288761908820783
         ],
         "c": [
          0.17333149082987387
         ],
         "mode": "text",
         "showlegend": false,
         "subplot": "ternary",
         "text": [
          "⌂"
         ],
         "textfont": {
          "color": "darkgray",
          "size": 12
         },
         "type": "scatterternary"
        },
        {
         "a": [
          0.09779231828804784
         ],
         "b": [
          0.7288761908820783
         ],
         "c": [
          0.17333149082987387
         ],
         "mode": "text",
         "showlegend": false,
         "subplot": "ternary",
         "text": [
          "⌂"
         ],
         "textfont": {
          "color": "darkgray",
          "size": 13
         },
         "type": "scatterternary"
        },
        {
         "a": [
          0.09779231828804784
         ],
         "b": [
          0.7288761908820783
         ],
         "c": [
          0.17333149082987387
         ],
         "mode": "text",
         "showlegend": false,
         "subplot": "ternary",
         "text": [
          "⌂"
         ],
         "textfont": {
          "color": "darkgray",
          "size": 14
         },
         "type": "scatterternary"
        },
        {
         "a": [
          0.09779231828804784
         ],
         "b": [
          0.7288761908820783
         ],
         "c": [
          0.17333149082987387
         ],
         "mode": "text",
         "showlegend": false,
         "subplot": "ternary",
         "text": [
          "⌂"
         ],
         "textfont": {
          "color": "darkgray",
          "size": 15
         },
         "type": "scatterternary"
        },
        {
         "a": [
          0.09779231828804784
         ],
         "b": [
          0.7288761908820783
         ],
         "c": [
          0.17333149082987387
         ],
         "mode": "text",
         "showlegend": false,
         "subplot": "ternary",
         "text": [
          "⌂"
         ],
         "textfont": {
          "color": "darkgray",
          "size": 16
         },
         "type": "scatterternary"
        },
        {
         "a": [
          0.09779231828804784
         ],
         "b": [
          0.7288761908820783
         ],
         "c": [
          0.17333149082987387
         ],
         "mode": "text",
         "showlegend": false,
         "subplot": "ternary",
         "text": [
          "⌂"
         ],
         "textfont": {
          "color": "darkgray",
          "size": 17
         },
         "type": "scatterternary"
        },
        {
         "a": [
          0.09779231828804784
         ],
         "b": [
          0.7288761908820783
         ],
         "c": [
          0.17333149082987387
         ],
         "mode": "text",
         "showlegend": false,
         "subplot": "ternary",
         "text": [
          "⌂"
         ],
         "textfont": {
          "color": "darkgray",
          "size": 18
         },
         "type": "scatterternary"
        },
        {
         "a": [
          0.09779231828804784
         ],
         "b": [
          0.7288761908820783
         ],
         "c": [
          0.17333149082987387
         ],
         "mode": "text",
         "showlegend": false,
         "subplot": "ternary",
         "text": [
          "⌂"
         ],
         "textfont": {
          "color": "darkgray",
          "size": 19
         },
         "type": "scatterternary"
        },
        {
         "a": [
          0.09779231828804784
         ],
         "b": [
          0.7288761908820783
         ],
         "c": [
          0.17333149082987387
         ],
         "mode": "text",
         "showlegend": false,
         "subplot": "ternary",
         "text": [
          "⌂"
         ],
         "textfont": {
          "color": "darkgray",
          "size": 20
         },
         "type": "scatterternary"
        },
        {
         "a": [
          0.09779231828804784
         ],
         "b": [
          0.7288761908820783
         ],
         "c": [
          0.17333149082987387
         ],
         "mode": "text",
         "showlegend": false,
         "subplot": "ternary",
         "text": [
          "⌂"
         ],
         "textfont": {
          "color": "darkgray",
          "size": 21
         },
         "type": "scatterternary"
        },
        {
         "a": [
          0.09779231828804784
         ],
         "b": [
          0.7288761908820783
         ],
         "c": [
          0.17333149082987387
         ],
         "mode": "text",
         "showlegend": false,
         "subplot": "ternary",
         "text": [
          "⌂"
         ],
         "textfont": {
          "color": "darkgray",
          "size": 22
         },
         "type": "scatterternary"
        }
       ],
       "layout": {
        "annotations": [
         {
          "align": "center",
          "font": {
           "color": "darkgray",
           "size": 25
          },
          "showarrow": false,
          "text": "Climate target",
          "x": 0.242,
          "xref": "paper",
          "y": 1.06,
          "yref": "paper"
         },
         {
          "align": "center",
          "font": {
           "color": "darkgray",
           "size": 16
          },
          "showarrow": false,
          "text": "main driver",
          "x": 0.284,
          "xref": "paper",
          "y": 1.035,
          "yref": "paper"
         },
         {
          "align": "center",
          "font": {
           "color": "darkgray",
           "size": 25
          },
          "showarrow": false,
          "text": "Model differences",
          "x": -0.015,
          "xref": "paper",
          "y": 0.32,
          "yref": "paper"
         },
         {
          "align": "center",
          "font": {
           "color": "darkgray",
           "size": 16
          },
          "showarrow": false,
          "text": "main driver",
          "x": 0.04,
          "xref": "paper",
          "y": 0.305,
          "yref": "paper"
         },
         {
          "align": "center",
          "font": {
           "color": "darkgray",
           "size": 25
          },
          "showarrow": false,
          "text": "Other scenario",
          "x": 0.68,
          "xref": "paper",
          "y": 0.38,
          "yref": "paper"
         },
         {
          "align": "center",
          "font": {
           "color": "darkgray",
           "size": 25
          },
          "showarrow": false,
          "text": "assumptions",
          "x": 0.675,
          "xref": "paper",
          "y": 0.36,
          "yref": "paper"
         },
         {
          "align": "center",
          "font": {
           "color": "darkgray",
           "size": 16
          },
          "showarrow": false,
          "text": "main driver",
          "x": 0.6,
          "xref": "paper",
          "y": 0.34,
          "yref": "paper"
         },
         {
          "font": {
           "color": "white",
           "size": 60
          },
          "showarrow": false,
          "text": "●",
          "x": 0.005,
          "xref": "paper",
          "y": 0.25,
          "yref": "paper"
         },
         {
          "font": {
           "color": "violet",
           "size": 25
          },
          "showarrow": false,
          "text": "☁",
          "x": 0.01,
          "xref": "paper",
          "y": 0.265,
          "yref": "paper"
         },
         {
          "font": {
           "color": "white",
           "size": 60
          },
          "showarrow": false,
          "text": "●",
          "x": 0.37,
          "xref": "paper",
          "y": 0.25,
          "yref": "paper"
         },
         {
          "font": {
           "color": "forestgreen",
           "size": 25
          },
          "showarrow": false,
          "text": "☀",
          "x": 0.37,
          "xref": "paper",
          "y": 0.268,
          "yref": "paper"
         },
         {
          "font": {
           "color": "white",
           "size": 60
          },
          "showarrow": false,
          "text": "●",
          "x": 0.735,
          "xref": "paper",
          "y": 1.03,
          "yref": "paper"
         },
         {
          "font": {
           "color": "peru",
           "size": 22
          },
          "showarrow": false,
          "text": "⛮",
          "x": 0.7301,
          "xref": "paper",
          "y": 0.999,
          "yref": "paper"
         },
         {
          "font": {
           "color": "white",
           "size": 60
          },
          "showarrow": false,
          "text": "●",
          "x": 0.735,
          "xref": "paper",
          "y": 0.831,
          "yref": "paper"
         },
         {
          "font": {
           "color": "teal",
           "size": 22
          },
          "showarrow": false,
          "text": "⛟",
          "x": 0.73,
          "xref": "paper",
          "y": 0.8019999999999999,
          "yref": "paper"
         },
         {
          "font": {
           "color": "white",
           "size": 60
          },
          "showarrow": false,
          "text": "●",
          "x": 0.735,
          "xref": "paper",
          "y": 0.59,
          "yref": "paper"
         },
         {
          "font": {
           "color": "dimgray",
           "size": 25
          },
          "showarrow": false,
          "text": "⌂",
          "x": 0.725,
          "xref": "paper",
          "y": 0.588,
          "yref": "paper"
         },
         {
          "font": {
           "color": "white",
           "size": 60
          },
          "showarrow": false,
          "text": "●",
          "x": 0.735,
          "xref": "paper",
          "y": 0.39,
          "yref": "paper"
         },
         {
          "font": {
           "color": "goldenrod",
           "size": 22
          },
          "showarrow": false,
          "text": "🗲",
          "x": 0.729,
          "xref": "paper",
          "y": 0.385,
          "yref": "paper"
         },
         {
          "font": {
           "color": "darkgray",
           "size": 12
          },
          "showarrow": false,
          "text": "Fraction of variance<br>determined by driver",
          "textangle": -60,
          "x": 0.145,
          "xref": "paper",
          "y": 0.875,
          "yref": "paper"
         }
        ],
        "height": 1000,
        "margin": {
         "b": 0,
         "l": 25,
         "r": 7,
         "t": 55
        },
        "template": {
         "data": {
          "bar": [
           {
            "error_x": {
             "color": "#2a3f5f"
            },
            "error_y": {
             "color": "#2a3f5f"
            },
            "marker": {
             "line": {
              "color": "#E5ECF6",
              "width": 0.5
             },
             "pattern": {
              "fillmode": "overlay",
              "size": 10,
              "solidity": 0.2
             }
            },
            "type": "bar"
           }
          ],
          "barpolar": [
           {
            "marker": {
             "line": {
              "color": "#E5ECF6",
              "width": 0.5
             },
             "pattern": {
              "fillmode": "overlay",
              "size": 10,
              "solidity": 0.2
             }
            },
            "type": "barpolar"
           }
          ],
          "carpet": [
           {
            "aaxis": {
             "endlinecolor": "#2a3f5f",
             "gridcolor": "white",
             "linecolor": "white",
             "minorgridcolor": "white",
             "startlinecolor": "#2a3f5f"
            },
            "baxis": {
             "endlinecolor": "#2a3f5f",
             "gridcolor": "white",
             "linecolor": "white",
             "minorgridcolor": "white",
             "startlinecolor": "#2a3f5f"
            },
            "type": "carpet"
           }
          ],
          "choropleth": [
           {
            "colorbar": {
             "outlinewidth": 0,
             "ticks": ""
            },
            "type": "choropleth"
           }
          ],
          "contour": [
           {
            "colorbar": {
             "outlinewidth": 0,
             "ticks": ""
            },
            "colorscale": [
             [
              0,
              "#0d0887"
             ],
             [
              0.1111111111111111,
              "#46039f"
             ],
             [
              0.2222222222222222,
              "#7201a8"
             ],
             [
              0.3333333333333333,
              "#9c179e"
             ],
             [
              0.4444444444444444,
              "#bd3786"
             ],
             [
              0.5555555555555556,
              "#d8576b"
             ],
             [
              0.6666666666666666,
              "#ed7953"
             ],
             [
              0.7777777777777778,
              "#fb9f3a"
             ],
             [
              0.8888888888888888,
              "#fdca26"
             ],
             [
              1,
              "#f0f921"
             ]
            ],
            "type": "contour"
           }
          ],
          "contourcarpet": [
           {
            "colorbar": {
             "outlinewidth": 0,
             "ticks": ""
            },
            "type": "contourcarpet"
           }
          ],
          "heatmap": [
           {
            "colorbar": {
             "outlinewidth": 0,
             "ticks": ""
            },
            "colorscale": [
             [
              0,
              "#0d0887"
             ],
             [
              0.1111111111111111,
              "#46039f"
             ],
             [
              0.2222222222222222,
              "#7201a8"
             ],
             [
              0.3333333333333333,
              "#9c179e"
             ],
             [
              0.4444444444444444,
              "#bd3786"
             ],
             [
              0.5555555555555556,
              "#d8576b"
             ],
             [
              0.6666666666666666,
              "#ed7953"
             ],
             [
              0.7777777777777778,
              "#fb9f3a"
             ],
             [
              0.8888888888888888,
              "#fdca26"
             ],
             [
              1,
              "#f0f921"
             ]
            ],
            "type": "heatmap"
           }
          ],
          "heatmapgl": [
           {
            "colorbar": {
             "outlinewidth": 0,
             "ticks": ""
            },
            "colorscale": [
             [
              0,
              "#0d0887"
             ],
             [
              0.1111111111111111,
              "#46039f"
             ],
             [
              0.2222222222222222,
              "#7201a8"
             ],
             [
              0.3333333333333333,
              "#9c179e"
             ],
             [
              0.4444444444444444,
              "#bd3786"
             ],
             [
              0.5555555555555556,
              "#d8576b"
             ],
             [
              0.6666666666666666,
              "#ed7953"
             ],
             [
              0.7777777777777778,
              "#fb9f3a"
             ],
             [
              0.8888888888888888,
              "#fdca26"
             ],
             [
              1,
              "#f0f921"
             ]
            ],
            "type": "heatmapgl"
           }
          ],
          "histogram": [
           {
            "marker": {
             "pattern": {
              "fillmode": "overlay",
              "size": 10,
              "solidity": 0.2
             }
            },
            "type": "histogram"
           }
          ],
          "histogram2d": [
           {
            "colorbar": {
             "outlinewidth": 0,
             "ticks": ""
            },
            "colorscale": [
             [
              0,
              "#0d0887"
             ],
             [
              0.1111111111111111,
              "#46039f"
             ],
             [
              0.2222222222222222,
              "#7201a8"
             ],
             [
              0.3333333333333333,
              "#9c179e"
             ],
             [
              0.4444444444444444,
              "#bd3786"
             ],
             [
              0.5555555555555556,
              "#d8576b"
             ],
             [
              0.6666666666666666,
              "#ed7953"
             ],
             [
              0.7777777777777778,
              "#fb9f3a"
             ],
             [
              0.8888888888888888,
              "#fdca26"
             ],
             [
              1,
              "#f0f921"
             ]
            ],
            "type": "histogram2d"
           }
          ],
          "histogram2dcontour": [
           {
            "colorbar": {
             "outlinewidth": 0,
             "ticks": ""
            },
            "colorscale": [
             [
              0,
              "#0d0887"
             ],
             [
              0.1111111111111111,
              "#46039f"
             ],
             [
              0.2222222222222222,
              "#7201a8"
             ],
             [
              0.3333333333333333,
              "#9c179e"
             ],
             [
              0.4444444444444444,
              "#bd3786"
             ],
             [
              0.5555555555555556,
              "#d8576b"
             ],
             [
              0.6666666666666666,
              "#ed7953"
             ],
             [
              0.7777777777777778,
              "#fb9f3a"
             ],
             [
              0.8888888888888888,
              "#fdca26"
             ],
             [
              1,
              "#f0f921"
             ]
            ],
            "type": "histogram2dcontour"
           }
          ],
          "mesh3d": [
           {
            "colorbar": {
             "outlinewidth": 0,
             "ticks": ""
            },
            "type": "mesh3d"
           }
          ],
          "parcoords": [
           {
            "line": {
             "colorbar": {
              "outlinewidth": 0,
              "ticks": ""
             }
            },
            "type": "parcoords"
           }
          ],
          "pie": [
           {
            "automargin": true,
            "type": "pie"
           }
          ],
          "scatter": [
           {
            "fillpattern": {
             "fillmode": "overlay",
             "size": 10,
             "solidity": 0.2
            },
            "type": "scatter"
           }
          ],
          "scatter3d": [
           {
            "line": {
             "colorbar": {
              "outlinewidth": 0,
              "ticks": ""
             }
            },
            "marker": {
             "colorbar": {
              "outlinewidth": 0,
              "ticks": ""
             }
            },
            "type": "scatter3d"
           }
          ],
          "scattercarpet": [
           {
            "marker": {
             "colorbar": {
              "outlinewidth": 0,
              "ticks": ""
             }
            },
            "type": "scattercarpet"
           }
          ],
          "scattergeo": [
           {
            "marker": {
             "colorbar": {
              "outlinewidth": 0,
              "ticks": ""
             }
            },
            "type": "scattergeo"
           }
          ],
          "scattergl": [
           {
            "marker": {
             "colorbar": {
              "outlinewidth": 0,
              "ticks": ""
             }
            },
            "type": "scattergl"
           }
          ],
          "scattermapbox": [
           {
            "marker": {
             "colorbar": {
              "outlinewidth": 0,
              "ticks": ""
             }
            },
            "type": "scattermapbox"
           }
          ],
          "scatterpolar": [
           {
            "marker": {
             "colorbar": {
              "outlinewidth": 0,
              "ticks": ""
             }
            },
            "type": "scatterpolar"
           }
          ],
          "scatterpolargl": [
           {
            "marker": {
             "colorbar": {
              "outlinewidth": 0,
              "ticks": ""
             }
            },
            "type": "scatterpolargl"
           }
          ],
          "scatterternary": [
           {
            "marker": {
             "colorbar": {
              "outlinewidth": 0,
              "ticks": ""
             }
            },
            "type": "scatterternary"
           }
          ],
          "surface": [
           {
            "colorbar": {
             "outlinewidth": 0,
             "ticks": ""
            },
            "colorscale": [
             [
              0,
              "#0d0887"
             ],
             [
              0.1111111111111111,
              "#46039f"
             ],
             [
              0.2222222222222222,
              "#7201a8"
             ],
             [
              0.3333333333333333,
              "#9c179e"
             ],
             [
              0.4444444444444444,
              "#bd3786"
             ],
             [
              0.5555555555555556,
              "#d8576b"
             ],
             [
              0.6666666666666666,
              "#ed7953"
             ],
             [
              0.7777777777777778,
              "#fb9f3a"
             ],
             [
              0.8888888888888888,
              "#fdca26"
             ],
             [
              1,
              "#f0f921"
             ]
            ],
            "type": "surface"
           }
          ],
          "table": [
           {
            "cells": {
             "fill": {
              "color": "#EBF0F8"
             },
             "line": {
              "color": "white"
             }
            },
            "header": {
             "fill": {
              "color": "#C8D4E3"
             },
             "line": {
              "color": "white"
             }
            },
            "type": "table"
           }
          ]
         },
         "layout": {
          "annotationdefaults": {
           "arrowcolor": "#2a3f5f",
           "arrowhead": 0,
           "arrowwidth": 1
          },
          "autotypenumbers": "strict",
          "coloraxis": {
           "colorbar": {
            "outlinewidth": 0,
            "ticks": ""
           }
          },
          "colorscale": {
           "diverging": [
            [
             0,
             "#8e0152"
            ],
            [
             0.1,
             "#c51b7d"
            ],
            [
             0.2,
             "#de77ae"
            ],
            [
             0.3,
             "#f1b6da"
            ],
            [
             0.4,
             "#fde0ef"
            ],
            [
             0.5,
             "#f7f7f7"
            ],
            [
             0.6,
             "#e6f5d0"
            ],
            [
             0.7,
             "#b8e186"
            ],
            [
             0.8,
             "#7fbc41"
            ],
            [
             0.9,
             "#4d9221"
            ],
            [
             1,
             "#276419"
            ]
           ],
           "sequential": [
            [
             0,
             "#0d0887"
            ],
            [
             0.1111111111111111,
             "#46039f"
            ],
            [
             0.2222222222222222,
             "#7201a8"
            ],
            [
             0.3333333333333333,
             "#9c179e"
            ],
            [
             0.4444444444444444,
             "#bd3786"
            ],
            [
             0.5555555555555556,
             "#d8576b"
            ],
            [
             0.6666666666666666,
             "#ed7953"
            ],
            [
             0.7777777777777778,
             "#fb9f3a"
            ],
            [
             0.8888888888888888,
             "#fdca26"
            ],
            [
             1,
             "#f0f921"
            ]
           ],
           "sequentialminus": [
            [
             0,
             "#0d0887"
            ],
            [
             0.1111111111111111,
             "#46039f"
            ],
            [
             0.2222222222222222,
             "#7201a8"
            ],
            [
             0.3333333333333333,
             "#9c179e"
            ],
            [
             0.4444444444444444,
             "#bd3786"
            ],
            [
             0.5555555555555556,
             "#d8576b"
            ],
            [
             0.6666666666666666,
             "#ed7953"
            ],
            [
             0.7777777777777778,
             "#fb9f3a"
            ],
            [
             0.8888888888888888,
             "#fdca26"
            ],
            [
             1,
             "#f0f921"
            ]
           ]
          },
          "colorway": [
           "#636efa",
           "#EF553B",
           "#00cc96",
           "#ab63fa",
           "#FFA15A",
           "#19d3f3",
           "#FF6692",
           "#B6E880",
           "#FF97FF",
           "#FECB52"
          ],
          "font": {
           "color": "#2a3f5f"
          },
          "geo": {
           "bgcolor": "white",
           "lakecolor": "white",
           "landcolor": "#E5ECF6",
           "showlakes": true,
           "showland": true,
           "subunitcolor": "white"
          },
          "hoverlabel": {
           "align": "left"
          },
          "hovermode": "closest",
          "mapbox": {
           "style": "light"
          },
          "paper_bgcolor": "white",
          "plot_bgcolor": "#E5ECF6",
          "polar": {
           "angularaxis": {
            "gridcolor": "white",
            "linecolor": "white",
            "ticks": ""
           },
           "bgcolor": "#E5ECF6",
           "radialaxis": {
            "gridcolor": "white",
            "linecolor": "white",
            "ticks": ""
           }
          },
          "scene": {
           "xaxis": {
            "backgroundcolor": "#E5ECF6",
            "gridcolor": "white",
            "gridwidth": 2,
            "linecolor": "white",
            "showbackground": true,
            "ticks": "",
            "zerolinecolor": "white"
           },
           "yaxis": {
            "backgroundcolor": "#E5ECF6",
            "gridcolor": "white",
            "gridwidth": 2,
            "linecolor": "white",
            "showbackground": true,
            "ticks": "",
            "zerolinecolor": "white"
           },
           "zaxis": {
            "backgroundcolor": "#E5ECF6",
            "gridcolor": "white",
            "gridwidth": 2,
            "linecolor": "white",
            "showbackground": true,
            "ticks": "",
            "zerolinecolor": "white"
           }
          },
          "shapedefaults": {
           "line": {
            "color": "#2a3f5f"
           }
          },
          "ternary": {
           "aaxis": {
            "gridcolor": "white",
            "linecolor": "white",
            "ticks": ""
           },
           "baxis": {
            "gridcolor": "white",
            "linecolor": "white",
            "ticks": ""
           },
           "bgcolor": "#E5ECF6",
           "caxis": {
            "gridcolor": "white",
            "linecolor": "white",
            "ticks": ""
           }
          },
          "title": {
           "x": 0.05
          },
          "xaxis": {
           "automargin": true,
           "gridcolor": "white",
           "linecolor": "white",
           "ticks": "",
           "title": {
            "standoff": 15
           },
           "zerolinecolor": "white",
           "zerolinewidth": 2
          },
          "yaxis": {
           "automargin": true,
           "gridcolor": "white",
           "linecolor": "white",
           "ticks": "",
           "title": {
            "standoff": 15
           },
           "zerolinecolor": "white",
           "zerolinewidth": 2
          }
         }
        },
        "ternary": {
         "aaxis": {
          "linewidth": 0,
          "min": 0,
          "tickfont": {
           "size": 12
          },
          "tickmode": "array",
          "ticks": "outside",
          "ticktext": [
           "50%",
           "60%",
           "70%",
           "80%",
           "90%",
           "100%"
          ],
          "tickvals": [
           0.5,
           0.6,
           0.7,
           0.8,
           0.9,
           1
          ],
          "title": {
           "text": ""
          }
         },
         "baxis": {
          "linewidth": 2,
          "min": 0,
          "tickangle": 60,
          "tickfont": {
           "size": 12
          },
          "tickmode": "array",
          "ticks": "outside",
          "ticktext": [
           "50%",
           "60%",
           "70%",
           "80%",
           "90%",
           "100%"
          ],
          "tickvals": [
           0.5,
           0.6,
           0.7,
           0.8,
           0.9,
           1
          ],
          "title": {
           "text": ""
          }
         },
         "bgcolor": "rgba(0,0,0,0)",
         "caxis": {
          "linewidth": 2,
          "min": 0,
          "tickangle": -60,
          "tickfont": {
           "size": 12
          },
          "tickmode": "array",
          "ticks": "outside",
          "ticktext": [
           "50%",
           "60%",
           "70%",
           "80%",
           "90%",
           "100%"
          ],
          "tickvals": [
           0.5,
           0.6,
           0.7,
           0.8,
           0.9,
           1
          ],
          "title": {
           "text": ""
          }
         },
         "domain": {
          "x": [
           0,
           0.6533333333333333
          ],
          "y": [
           0.4,
           0.9999999999999999
          ]
         },
         "sum": 1
        },
        "width": 1190,
        "xaxis": {
         "anchor": "y",
         "domain": [
          0.3466666666666667,
          0.6533333333333333
         ]
        },
        "xaxis10": {
         "anchor": "y10",
         "domain": [
          0,
          0.3066666666666667
         ]
        },
        "xaxis11": {
         "anchor": "y11",
         "domain": [
          0.3466666666666667,
          0.6533333333333333
         ]
        },
        "xaxis12": {
         "anchor": "y12",
         "domain": [
          0,
          0.3066666666666667
         ]
        },
        "xaxis13": {
         "anchor": "y13",
         "domain": [
          0.3466666666666667,
          0.6533333333333333
         ]
        },
        "xaxis14": {
         "anchor": "y14",
         "domain": [
          0.6933333333333334,
          1
         ]
        },
        "xaxis15": {
         "anchor": "y15",
         "domain": [
          0,
          0.3066666666666667
         ]
        },
        "xaxis16": {
         "anchor": "y16",
         "domain": [
          0.3466666666666667,
          0.6533333333333333
         ]
        },
        "xaxis17": {
         "anchor": "y17",
         "domain": [
          0.6933333333333334,
          1
         ]
        },
        "xaxis18": {
         "anchor": "y18",
         "domain": [
          0,
          0.3066666666666667
         ]
        },
        "xaxis19": {
         "anchor": "y19",
         "domain": [
          0.3466666666666667,
          0.6533333333333333
         ]
        },
        "xaxis2": {
         "anchor": "y2",
         "domain": [
          0,
          0.3066666666666667
         ]
        },
        "xaxis20": {
         "anchor": "y20",
         "domain": [
          0.6933333333333334,
          1
         ]
        },
        "xaxis21": {
         "anchor": "y21",
         "domain": [
          0,
          0.3066666666666667
         ]
        },
        "xaxis22": {
         "anchor": "y22",
         "domain": [
          0.3466666666666667,
          0.6533333333333333
         ]
        },
        "xaxis23": {
         "anchor": "y23",
         "domain": [
          0.6933333333333334,
          1
         ]
        },
        "xaxis3": {
         "anchor": "y3",
         "domain": [
          0.3466666666666667,
          0.6533333333333333
         ]
        },
        "xaxis4": {
         "anchor": "y4",
         "domain": [
          0.6933333333333334,
          1
         ]
        },
        "xaxis5": {
         "anchor": "y5",
         "domain": [
          0,
          0.3066666666666667
         ]
        },
        "xaxis6": {
         "anchor": "y6",
         "domain": [
          0.3466666666666667,
          0.6533333333333333
         ]
        },
        "xaxis7": {
         "anchor": "y7",
         "domain": [
          0,
          0.3066666666666667
         ]
        },
        "xaxis8": {
         "anchor": "y8",
         "domain": [
          0.3466666666666667,
          0.6533333333333333
         ]
        },
        "xaxis9": {
         "anchor": "y9",
         "domain": [
          0.6933333333333334,
          1
         ]
        },
        "yaxis": {
         "anchor": "x",
         "domain": [
          0.8999999999999999,
          0.9999999999999999
         ]
        },
        "yaxis10": {
         "anchor": "x10",
         "domain": [
          0.5,
          0.6
         ]
        },
        "yaxis11": {
         "anchor": "x11",
         "domain": [
          0.5,
          0.6
         ]
        },
        "yaxis12": {
         "anchor": "x12",
         "domain": [
          0.4,
          0.5
         ]
        },
        "yaxis13": {
         "anchor": "x13",
         "domain": [
          0.4,
          0.5
         ]
        },
        "yaxis14": {
         "anchor": "x14",
         "domain": [
          0.4,
          0.5
         ]
        },
        "yaxis15": {
         "anchor": "x15",
         "domain": [
          0.30000000000000004,
          0.4
         ]
        },
        "yaxis16": {
         "anchor": "x16",
         "domain": [
          0.30000000000000004,
          0.4
         ]
        },
        "yaxis17": {
         "anchor": "x17",
         "domain": [
          0.2,
          0.30000000000000004
         ]
        },
        "yaxis18": {
         "anchor": "x18",
         "domain": [
          0.1,
          0.2
         ]
        },
        "yaxis19": {
         "anchor": "x19",
         "domain": [
          0.1,
          0.2
         ]
        },
        "yaxis2": {
         "anchor": "x2",
         "domain": [
          0.7999999999999999,
          0.8999999999999999
         ]
        },
        "yaxis20": {
         "anchor": "x20",
         "domain": [
          0.1,
          0.2
         ]
        },
        "yaxis21": {
         "anchor": "x21",
         "domain": [
          0,
          0.1
         ]
        },
        "yaxis22": {
         "anchor": "x22",
         "domain": [
          0,
          0.1
         ]
        },
        "yaxis23": {
         "anchor": "x23",
         "domain": [
          0,
          0.1
         ]
        },
        "yaxis3": {
         "anchor": "x3",
         "domain": [
          0.7999999999999999,
          0.8999999999999999
         ]
        },
        "yaxis4": {
         "anchor": "x4",
         "domain": [
          0.7999999999999999,
          0.8999999999999999
         ]
        },
        "yaxis5": {
         "anchor": "x5",
         "domain": [
          0.7,
          0.7999999999999999
         ]
        },
        "yaxis6": {
         "anchor": "x6",
         "domain": [
          0.7,
          0.7999999999999999
         ]
        },
        "yaxis7": {
         "anchor": "x7",
         "domain": [
          0.6,
          0.7
         ]
        },
        "yaxis8": {
         "anchor": "x8",
         "domain": [
          0.6,
          0.7
         ]
        },
        "yaxis9": {
         "anchor": "x9",
         "domain": [
          0.6,
          0.7
         ]
        }
       }
      }
     },
     "metadata": {},
     "output_type": "display_data"
    }
   ],
   "source": [
    "# -*- coding: utf-8 -*-\n",
    "fig = make_subplots(\n",
    "    rows=10, cols=3,\n",
    "    horizontal_spacing = 0.04,\n",
    "    vertical_spacing=0,\n",
    "    # column_widths = [0.15, 0.7, 0.15],\n",
    "    # row_heights = [0.15, 0.7, 0.15],\n",
    "    # specs = [[{\"type\": \"table\", \"rowspan\": 2}, {\"type\": \"scatterternary\", \"colspan\": 2, \"rowspan\": 6}, {}, {\"type\": \"table\", \"rowspan\": 2}],\n",
    "    #          [{}, {}, {}, {}],\n",
    "    #          [{\"type\": \"table\", \"rowspan\": 2}, {}, {}, {\"type\": \"table\", \"rowspan\": 2}],\n",
    "    #          [{}, {}, {}, {}],\n",
    "    #          [{\"type\": \"table\", \"rowspan\": 2}, {}, {}, {\"type\": \"table\", \"rowspan\": 2}],\n",
    "    #          [{}, {}, {}, {}]\n",
    "    #         ]\n",
    "    specs = [[{\"type\": \"scatterternary\", \"colspan\": 2, \"rowspan\": 6}, {}, {\"type\": \"table\", \"rowspan\": 2}],\n",
    "             [{}, {}, {}],\n",
    "             [{}, {}, {\"type\": \"table\", \"rowspan\": 2}],\n",
    "             [{}, {}, {}],\n",
    "             [{}, {}, {\"type\": \"table\", \"rowspan\": 2}],\n",
    "             [{}, {}, {}],\n",
    "             [{}, {},  {\"type\": \"table\", \"rowspan\": 4}],\n",
    "             [{\"type\": \"table\", \"rowspan\": 3}, {\"type\": \"table\", \"rowspan\": 3}, {}],\n",
    "             [{}, {}, {}],\n",
    "             [{}, {}, {}]\n",
    "            ]\n",
    ")\n",
    "\n",
    "# Lines 50%\n",
    "fig.add_trace(go.Scatterternary(a=[0.5, 0.5, 0, 0.5], b=[0, 0.5, 0.5, 0], c=[0.5, 0, 0.5, 0.5],\n",
    "                                                mode='lines',\n",
    "                                                showlegend=False,\n",
    "                                                hoverinfo='skip',\n",
    "                                                marker={'size': 15,\n",
    "                                                        'color': 'black',\n",
    "                                                        'opacity': 1,#0.9-i*0.03,\n",
    "                                                        'line' :dict(width=0., color='black')},\n",
    "                                                line={'width': 1, #np.mean(s[i:i+2])*0.5,\n",
    "                                                        'color': 'black',\n",
    "                                                        'dash': 'dot'},\n",
    "                                                textfont=dict(size=5,\n",
    "                                                        color='black')), 1, 1)\n",
    "\n",
    "fig.add_trace(tables[0], 8, 1)\n",
    "fig.add_trace(tables[1], 8, 2)\n",
    "fig.add_trace(tables[5], 5, 3)\n",
    "\n",
    "fig.add_trace(tables[3], 1, 3)\n",
    "fig.add_trace(tables[4], 3, 3)\n",
    "fig.add_trace(tables[2], 7, 3)\n",
    "\n",
    "\n",
    "#fig.add_traces(fig1.data, 1, 1)\n",
    "for n in range(len(conttraces)):\n",
    "        fig.add_trace(conttraces[n], 1, 1)\n",
    "# for n in range(len(conttracesb)):\n",
    "#         fig.add_trace(conttracesb[n], 1, 1)\n",
    "# for n in range(len(trace_ternary_lines)):\n",
    "#     fig.add_trace(trace_ternary_lines[n], 1, 1)\n",
    "# for n in range(len(trace_ternary_border)):\n",
    "#     fig.add_trace(trace_ternary_border[n], 1, 1)\n",
    "for n in range(len(scatters)):\n",
    "    fig.add_trace(scatters[n], 1, 1)\n",
    "fig.update_layout(height=1000, width=1190)\n",
    "fig.update_layout({'margin':dict(l=0,r=0,b=0,t=35),\n",
    "'ternary':\n",
    "{'sum':1,\n",
    "'bgcolor':'rgba(0,0,0,0)',#'whitesmoke',\n",
    "    # \"paper_bgcolor\":'rgba(0,0,0,0)',\n",
    "    # \"plot_bgcolor\":'rgba(0,0,0,0)',\n",
    "'aaxis':{'title': '', 'min': 0, \n",
    "        'linewidth':0, 'ticks':'outside',\n",
    "        'tickmode':'array','tickvals':[0.5, 0.6, 0.7, 0.8, 0.9, 1.0], 'ticktext':['50%', '60%', '70%', '80%', '90%', '100%'], 'tickfont':{'size':12}},\n",
    "'baxis':{'title': '', 'min': 0, \n",
    "        'linewidth':2, 'ticks':'outside',\n",
    "        'tickmode':'array','tickvals':[0.5, 0.6, 0.7, 0.8, 0.9, 1.0], 'ticktext':['50%', '60%', '70%', '80%', '90%', '100%'],'tickangle':60, 'tickfont':{'size':12}},\n",
    "'caxis':{'title': '', 'min': 0, \n",
    "        'linewidth':2, 'ticks':'outside',\n",
    "        'tickmode':'array','tickvals':[0.5, 0.6, 0.7, 0.8, 0.9, 1.0], 'ticktext':['50%', '60%', '70%', '80%', '90%', '100%'],'tickangle':-60, 'tickfont':{'size':12}}}})\n",
    "\n",
    "# fig.add_trace(go.Scatterternary(a=[a], b=[b], c=[c],\n",
    "# mode='text', textfont={'size': 35},\n",
    "# #text=[u'&#128663;'.encode(\"utf-8\")]))\n",
    "# text=[u'\\u9935'.encode(\"utf-8\")]))\n",
    "#draw_line(fig, \"Primary energy coal\", 0.5, 0.725, 150, -40, \"forestgreen\")\n",
    "# draw_line(fig, \"Primary energy oil\", 0.49, 0.62, 210, -40, \"violet\")\n",
    "# draw_line(fig, \"Kyoto gas emissions\", 0.51, 0.905, 120, -30, \"goldenrod\")\n",
    "# draw_line(fig, \"Coal (w/o CCS) in<br>electricity production\", 0.52, 0.765, 150, -60, \"forestgreen\")\n",
    "# draw_line(fig, \"Electricity usage<br>in industry\", 0.385, 0.235, -120, -120, \"silver\")\n",
    "# draw_line(fig, \"Electricity usage<br>in transport\", 0.395, 0.205, 200, -40, \"teal\")\n",
    "#draw_line(fig, \"Electricity usage<br>in residential\", 0.38, 0.145, 180, 40, \"silver\")\n",
    "# if st != '_c78':\n",
    "#         draw_ann(fig, \"Electricity in<br>residential sector\", 0.19, 0.486, \"dimgray\", \"down\", \"right\")\n",
    "#         draw_ann(fig, \"Electricity in<br>transport sector\", 0.215, 0.554, \"teal\", \"up\", \"right\")\n",
    "#         draw_ann(fig, \"Electricity in<br>industry sector\", 0.196, 0.588, \"peru\", \"up\", \"left\")\n",
    "#         draw_ann(fig, \"Primary Energy<br>from coal\", 0.30, 0.845, \"forestgreen\", \"up\", \"left\")\n",
    "#         draw_ann(fig, \"Primary Energy<br>from oil\", 0.29, 0.748, \"forestgreen\", \"down\", \"left\")\n",
    "#         draw_ann(fig, \"Kyoto gas<br>emissions\", 0.343, 0.950, \"violet\", \"down\", \"right\")\n",
    "#         draw_ann(fig, \"Electricity from<br>coal (w/o CCS)\", 0.335, 0.837, \"goldenrod\", \"down\", \"right\")\n",
    "#         draw_ann(fig, \"Primary Energy<br>from renewables\", 0.365, 0.7, \"forestgreen\", \"up\", \"right\")\n",
    "#         draw_ann(fig, \"Hydrogen use in transport\", 0.335, 0.52, \"teal\", \"up\", \"right\")\n",
    "\n",
    "# TRIANGLE CORNER LABELS\n",
    "args = dict(xref=\"paper\", yref=\"paper\", align='center', showarrow=False)\n",
    "fig.add_annotation(text=\"Climate target\", x=0.242, y=1.06, **args, font=dict(color='darkgray', size=25))\n",
    "fig.add_annotation(text=\"main driver\", x=0.284, y=1.035, **args, font=dict(color='darkgray', size=16))\n",
    "fig.add_annotation(text=\"Model differences\", x=-0.015, y=0.32, **args, font=dict(color='darkgray', size=25))\n",
    "fig.add_annotation(text=\"main driver\", x=0.04, y=0.305, **args, font=dict(color='darkgray', size=16))\n",
    "fig.add_annotation(text=\"Other scenario\", x=0.68, y=0.38, **args, font=dict(color='darkgray', size=25))\n",
    "fig.add_annotation(text=\"assumptions\", x=0.675, y=0.36, **args, font=dict(color='darkgray', size=25))\n",
    "fig.add_annotation(text=\"main driver\", x=0.60, y=0.34, **args, font=dict(color='darkgray', size=16))\n",
    "\n",
    "# ADD SYMBOLS\n",
    "args = dict(xref=\"paper\", yref=\"paper\", showarrow=False)\n",
    "for i in range(6):\n",
    "        x = [0.005, 0.37, 0.735, 0.735, 0.735, 0.735][i]\n",
    "        y = [0.25, 0.25, 1.03, 0.831, 0.59, 0.39][i]\n",
    "        #fig.add_annotation(text=u'\\u25CB', x=x, y=y, **args, font=dict(color='black', size=100))\n",
    "        fig.add_annotation(text=u'\\u25CF', x=x, y=y, **args, font=dict(color='white', size=60))\n",
    "        fig.add_annotation(text=symbols[[0, 1, 3, 4, 5, 2][i]],\n",
    "                           x=x+[0.005, 0, -0.0049, -0.005, -0.01, -0.006][i],\n",
    "                           y=y+[0.015, 0.018, -0.031, -0.029, -0.002, -0.005][i],\n",
    "                           **args,\n",
    "                           font=dict(color=['violet', 'forestgreen', 'peru', 'teal', 'dimgray', 'goldenrod'][i], size=[25, 25, 22, 22, 25, 22][i]))\n",
    "\n",
    "# AXIS ANNOTATIONS\n",
    "args = dict(xref=\"paper\", yref=\"paper\", showarrow=False)\n",
    "fig.add_annotation(text=\"Fraction of variance<br>determined by driver\", x=0.145, y=0.875, textangle=-60, **args, font=dict(color='darkgray', size=12))\n",
    "fig.update_layout({'margin':dict(l=25,r=7,b=0,t=55)})\n",
    "fig.show()"
   ]
  },
  {
   "cell_type": "markdown",
   "metadata": {},
   "source": [
    "## Savings"
   ]
  },
  {
   "cell_type": "code",
   "execution_count": 41,
   "metadata": {},
   "outputs": [],
   "source": [
    "#st = \"_2100\"\n",
    "\n",
    "try:\n",
    "    os.remove('Figures/Paperfigures/Figure_si_2100.html')\n",
    "except:\n",
    "    3\n",
    "def html_w(typ):\n",
    "    return '<html> '+typ+' <p style=\"font-family: Arial\">'\n",
    "\n",
    "#fig.write_image(\"Figures/Paperfigures/Figure_si_2100.pdf\")\n",
    "#fig.write_image(\"Figures/Paperfigures/Figure_si_2100.png\", scale=3)\n",
    "fig.write_image(\"Figures/Paperfigures/Figure_si_2100.svg\")\n",
    "today = date.today()\n",
    "td = today.strftime(\"%B %d, %Y\")\n",
    "\n",
    "with open('Figures/Paperfigures/Figure_si_2100.html', 'a') as f:\n",
    "    f.write(html_w('<h1>')+'Figure 3 - Overview</p></h1>')\n",
    "    f.write(html_w('<body>')+'Data is for year '+str(timestamp)+'. Version: '+td+'</p></body>')\n",
    "    f.write(fig.to_html(full_html=False, include_plotlyjs='cdn'))"
   ]
  }
 ],
 "metadata": {
  "interpreter": {
   "hash": "36d5d389870ab01fa625d0d5123f82469a3683fa0e02c4f7e9e76e9a75345aa3"
  },
  "kernelspec": {
   "display_name": "Python 3.9.11 ('MyEnv')",
   "language": "python",
   "name": "python3"
  },
  "language_info": {
   "codemirror_mode": {
    "name": "ipython",
    "version": 3
   },
   "file_extension": ".py",
   "mimetype": "text/x-python",
   "name": "python",
   "nbconvert_exporter": "python",
   "pygments_lexer": "ipython3",
   "version": "3.9.16"
  },
  "orig_nbformat": 4
 },
 "nbformat": 4,
 "nbformat_minor": 2
}
