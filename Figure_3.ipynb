{
 "cells": [
  {
   "cell_type": "markdown",
   "metadata": {},
   "source": [
    "## Preambule"
   ]
  },
  {
   "cell_type": "code",
   "execution_count": 14,
   "metadata": {},
   "outputs": [],
   "source": [
    "import numpy as np\n",
    "import xarray as xr\n",
    "from importlib import reload\n",
    "import Plotfunctions\n",
    "import pandas as pd\n",
    "import plotly.express as px\n",
    "from plotly.colors import n_colors\n",
    "from plotly.subplots import make_subplots\n",
    "import os\n",
    "import matplotlib as mpl\n",
    "import plotly.io\n",
    "from pathlib import Path\n",
    "import matplotlib.pyplot as plt\n",
    "from datetime import date\n",
    "reload(Plotfunctions)\n",
    "import plotly.graph_objects as go\n",
    "from Plotfunctions import triangleplot, tableplot, spaghettiplot, draw_line\n",
    "path = Path.cwd() / \"Data\""
   ]
  },
  {
   "cell_type": "markdown",
   "metadata": {},
   "source": [
    "## Parameters"
   ]
  },
  {
   "cell_type": "code",
   "execution_count": 15,
   "metadata": {},
   "outputs": [],
   "source": [
    "timestamp = 2050\n",
    "srt = 2 # 1=model, 2=ccat"
   ]
  },
  {
   "cell_type": "markdown",
   "metadata": {},
   "source": [
    "## Prereading stuff"
   ]
  },
  {
   "cell_type": "code",
   "execution_count": 16,
   "metadata": {},
   "outputs": [],
   "source": [
    "try:\n",
    "    XRvar.close()\n",
    "except:\n",
    "    3\n",
    "XRvar = xr.open_dataset(path / \"Variances.nc\")\n",
    "XRvarsub = XRvar.sel(Time=timestamp)"
   ]
  },
  {
   "cell_type": "code",
   "execution_count": 17,
   "metadata": {},
   "outputs": [],
   "source": [
    "Varlist = pd.read_excel(path / \"Varlist_noadd.xlsx\", sheet_name = \"Data\")\n",
    "vars = np.array(Varlist[\"Variable\"])\n",
    "cats = np.array(Varlist[\"Category\"])\n",
    "Names = np.unique(cats)"
   ]
  },
  {
   "cell_type": "code",
   "execution_count": 18,
   "metadata": {},
   "outputs": [],
   "source": [
    "XRraw = xr.open_dataset(path / \"XRdata.nc\")\n",
    "XRmeta = xr.open_dataset(path / \"XRmeta.nc\")\n",
    "DF = pd.read_csv(path / \"Models.csv\")\n",
    "values = np.array(XRraw.Value)\n",
    "modscens = np.array(XRraw.ModelScenario)\n",
    "mods = np.array([i.split('|')[0] for i in modscens])\n",
    "ccat = np.array(XRmeta.sel(ModelScenario=XRraw.ModelScenario).Category.data)\n",
    "unimods = np.unique(mods)\n",
    "uniccat = np.unique(ccat)"
   ]
  },
  {
   "cell_type": "code",
   "execution_count": 19,
   "metadata": {},
   "outputs": [],
   "source": [
    "XR = XRvar.sel(Variable = vars[cats == \"Primary Energy\"])\n",
    "DF_counts = pd.read_csv(\"X:/user/dekkerm/Projects/AR6_Variance/variancedecomposition/Data/Counts.csv\", index_col=0)\n",
    "XR = XR.sel(Time=range(2030,2101))\n",
    "varlist = XR.Variable.data\n",
    "years = XR.Time.data\n",
    "varmax = np.max(XR['Var_total']).data\n",
    "cols = ['forestgreen', 'tomato', 'steelblue', 'goldenrod', 'purple', 'grey', 'brown',\n",
    "        'magenta', 'red', 'darkgrey', 'blue', 'black', 'darkgreen']\n",
    "years_str = np.copy(years).astype(str)\n",
    "years_str[(years_str != '2050') & (years_str != '2100')] = ''"
   ]
  },
  {
   "cell_type": "code",
   "execution_count": 20,
   "metadata": {},
   "outputs": [],
   "source": [
    "tot = np.array(XR.sel(Time=2050).S_c)+np.array(XR.sel(Time=2050).S_z)+np.array(XR.sel(Time=2050).S_m)\n",
    "ar = np.array([np.array(XR.Variable),\n",
    "np.array(XR.sel(Time=timestamp).S_m/tot).round(2),\n",
    "np.array(XR.sel(Time=timestamp).S_c/tot).round(2),\n",
    "np.array(XR.sel(Time=timestamp).S_z/tot).round(2)])\n",
    "\n",
    "colors = n_colors('rgb(255, 200, 200)', 'rgb(200, 0, 0)', 100, colortype='rgb')\n",
    "bar = px.colors.diverging.RdBu_r\n",
    "colors = []\n",
    "for i in range(len(bar)-1):\n",
    "        colors = colors+n_colors(px.colors.diverging.RdBu_r[i], px.colors.diverging.RdBu_r[i+1], int(100/len(bar)), colortype='rgb')\n",
    "colors = colors+n_colors(px.colors.diverging.RdBu_r[i+1], px.colors.diverging.RdBu_r[i+1], int(100/len(bar)), colortype='rgb')\n",
    "ar100 = (ar[1:]*100).astype(int)"
   ]
  },
  {
   "cell_type": "code",
   "execution_count": 21,
   "metadata": {},
   "outputs": [],
   "source": [
    "def rescale_size(s, max):\n",
    "    s /= max\n",
    "    s *= 1e11\n",
    "    s = s ** 0.1\n",
    "    return s"
   ]
  },
  {
   "cell_type": "markdown",
   "metadata": {},
   "source": [
    "## Create traces"
   ]
  },
  {
   "cell_type": "code",
   "execution_count": 22,
   "metadata": {},
   "outputs": [],
   "source": [
    "varmax = np.max(XRvarsub['Var_total']/XRraw.sel(Time=timestamp).Value.mean(axis=0)).data\n",
    "scatters = []\n",
    "tables = []\n",
    "namecolors = ['goldenrod', 'violet', 'forestgreen', 'silver', 'teal', 'peru']\n",
    "namesymbols = ['circle', 'diamond-wide', 'star', 'square', 'cross', 'star-triangle-up', 'diamond-tall']\n",
    "for n_i, name in enumerate(['Emissions', 'Primary Energy', 'Electricity Generation', 'Sector Industry', 'Sector Transportation', 'Sector Residential']):\n",
    "    # General stuff\n",
    "    xrsub = XRvarsub.sel(Variable = vars[cats == name])\n",
    "\n",
    "    # Table\n",
    "    tot = np.array(xrsub.S_c)+np.array(xrsub.S_z)+np.array(xrsub.S_m)\n",
    "    var = np.array(xrsub.Variable)\n",
    "    if name == 'Electricity Generation':\n",
    "        for v_i in range(len(var)):\n",
    "            if var[v_i] == 'Secondary Energy|Electricity':\n",
    "                var[v_i] = 'Total'\n",
    "            else:\n",
    "                var[v_i] = var[v_i][29:]\n",
    "    if name == 'Primary Energy':\n",
    "        for v_i in range(len(var)):\n",
    "            var[v_i] = var[v_i][15:]\n",
    "    if name == 'Emissions':\n",
    "        for v_i in range(len(var)):\n",
    "            var[v_i] = var[v_i][10:]\n",
    "    if name == 'Sector Industry':\n",
    "        for v_i in range(len(var)):\n",
    "            if var[v_i] == 'Final Energy|Industry':\n",
    "                var[v_i] = 'Total'\n",
    "            else:\n",
    "                var[v_i] = var[v_i][22:]\n",
    "    if name == 'Sector Residential':\n",
    "        for v_i in range(len(var)):\n",
    "            if var[v_i] == 'Final Energy|Residential and Commercial':\n",
    "                var[v_i] = 'Total'\n",
    "            else:\n",
    "                var[v_i] = var[v_i][40:]\n",
    "    if name == 'Sector Transportation':\n",
    "        for v_i in range(len(var)):\n",
    "            if var[v_i] == 'Final Energy|Transportation':\n",
    "                var[v_i] = 'Total'\n",
    "            else:\n",
    "                var[v_i] = var[v_i][28:]\n",
    "    ar = np.array([var,\n",
    "                   np.array(xrsub.S_m/tot).round(2),\n",
    "                   np.array(xrsub.S_c/tot).round(2),\n",
    "                   np.array(xrsub.S_z/tot).round(2)])\n",
    "    colors = n_colors('rgb(255, 200, 200)', 'rgb(200, 0, 0)', 100, colortype='rgb')\n",
    "    bar = px.colors.diverging.RdBu_r\n",
    "    colors = []\n",
    "    for i in range(len(bar)-1):\n",
    "        colors = colors+n_colors(px.colors.diverging.RdBu_r[i], px.colors.diverging.RdBu_r[i+1], int(100/len(bar)), colortype='rgb')\n",
    "    colors = colors+n_colors(px.colors.diverging.RdBu_r[i+1], px.colors.diverging.RdBu_r[i+1], int(100/len(bar)), colortype='rgb')\n",
    "    ar100 = 10+(ar[1:]*70).astype(int)\n",
    "\n",
    "    tables.append(go.Table(columnwidth = [4, 1, 1, 1],\n",
    "                        header = dict(values = [['<b>'+name+'</b>'],\n",
    "                                      [\"<b>Model</b>\"],\n",
    "                                      ['<b>C-cat</b>'],\n",
    "                                      ['<b>Other</b>']],\n",
    "                                      line_color='white',\n",
    "                                      fill_color=[namecolors[n_i], 'white', 'white', 'white'],\n",
    "                                      align=['center','center','center','center'],\n",
    "                                      font=dict(color='black'),\n",
    "                                     ),\n",
    "                        cells=dict(values=ar[:, ar[srt].argsort()[::-1]],\n",
    "                                   line={'color': 'black', 'width': 0},\n",
    "                                   align=['center','center','center','center'],\n",
    "                                   fill_color=['white', \n",
    "                                               np.array(colors)[ar100[:, ar[srt].argsort()[::-1]][0]],\n",
    "                                               np.array(colors)[ar100[:, ar[srt].argsort()[::-1]][1]],\n",
    "                                               np.array(colors)[ar100[:, ar[srt].argsort()[::-1]][2]]],\n",
    "                                   font={#'family' : [\"Arial\", \"Arial Black\", \"Arial Black\", \"Arial Black\"],\n",
    "                                         'color': 'black',\n",
    "                                         'size': 9},\n",
    "                                   height=18\n",
    "                                  )\n",
    "                       ))\n",
    "\n",
    "    # Scatter\n",
    "    varlist = np.array(xrsub.Variable)\n",
    "    for v in range(len(varlist)):\n",
    "            ds = xrsub.sel(Variable=varlist[v])\n",
    "            a, b, c, s = np.array(ds[['S_c', 'S_m', 'S_z', 'Var_total']].to_array())\n",
    "            s = 20# 2*rescale_size(float(s/XRraw.sel(Time=timestamp, Variable=varlist[v]).Value.mean(axis=0)), varmax)\n",
    "            lw = 1 # s/10\n",
    "            if varlist[v] in ['Primary Energy|Coal', 'Primary Energy|Oil', 'Emissions|Kyoto Gases', 'Secondary Energy|Electricity|Coal|w/o CCS',\n",
    "                              'Final Energy|Industry|Electricity', 'Final Energy|Transportation|Electricity', 'Final Energy|Residential and Commercial|Electricity']:\n",
    "                lw = 4\n",
    "            scatters.append(go.Scatterternary(a=[a], b=[b], c=[c],\n",
    "                                            mode='markers', name=varlist[v]+' ('+str(list(DF_counts[DF_counts.Variable==varlist[v]].Count)[0])+')', showlegend=False, text=[years[-1]],\n",
    "                                            hovertemplate='%{text}<br>Var (climate): %{a}<br>Var (model): %{b} <br>Var (other): %{c}',\n",
    "                                            marker={'size': s, 'symbol': namesymbols[n_i], 'color': namecolors[n_i], 'opacity': 1, 'line' :dict(width=lw, color='black')},\n",
    "                                            line={'width': 1.5},\n",
    "                                            textfont=dict(size=1, color=namecolors[n_i])))\n",
    "                                \n",
    "        "
   ]
  },
  {
   "cell_type": "markdown",
   "metadata": {},
   "source": [
    "Ternary plot"
   ]
  },
  {
   "cell_type": "code",
   "execution_count": 23,
   "metadata": {},
   "outputs": [],
   "source": [
    "trace_ternary_lines = []\n",
    "for i in range(10):\n",
    "        a = [0+i*0.1, 0+i*0.1]\n",
    "        b = [0, 1-a[0]]\n",
    "        c = [1-a[0], 0]\n",
    "        rgb = mpl.colors.colorConverter.to_rgb(plt.cm.get_cmap('Greys')(0.+i/20))\n",
    "        col = 'rgb('+str(rgb[0])+','+str(rgb[1])+','+str(rgb[2])+')'\n",
    "        trace_ternary_lines.append(go.Scatterternary(a=a, b=b, c=c, showlegend=False, mode='lines', hoverinfo='skip', line={'width': 0.25+i*0.1, 'color': col}))\n",
    "        trace_ternary_lines.append(go.Scatterternary(a=b, b=a, c=c, showlegend=False, mode='lines', hoverinfo='skip', line={'width': 0.25+i*0.1, 'color': col}))\n",
    "        trace_ternary_lines.append(go.Scatterternary(a=b, b=c, c=a, showlegend=False, mode='lines', hoverinfo='skip', line={'width': 0.25+i*0.1, 'color': col}))\n",
    "\n",
    "trace_ternary_border = []\n",
    "trace_ternary_border.append(go.Scatterternary(a=[0.005, 0.005], b=[0, 1], c=[1, 0], showlegend=False, mode='lines', hoverinfo='skip', line={'width': 2, 'color': 'black'}))\n",
    "trace_ternary_border.append(go.Scatterternary(a=[0, 1], b=[0.005, 0.005], c=[1, 0], showlegend=False, mode='lines', hoverinfo='skip', line={'width': 2, 'color': 'black'}))\n",
    "trace_ternary_border.append(go.Scatterternary(a=[0, 1], b=[1, 0], c=[0.005, 0.005], showlegend=False, mode='lines', hoverinfo='skip', line={'width': 2, 'color': 'black'}))"
   ]
  },
  {
   "cell_type": "markdown",
   "metadata": {},
   "source": [
    "## Add together"
   ]
  },
  {
   "cell_type": "code",
   "execution_count": 24,
   "metadata": {},
   "outputs": [],
   "source": [
    "def draw_line(fig, name, x, y, xt, yt, color):\n",
    "    # fig.add_shape(type=\"line\", xref='paper', yref='paper',\n",
    "    #                 x0=x,\n",
    "    #                 y0=x+xt,\n",
    "    #                 x1=x,\n",
    "    #                 y1=y+yt,\n",
    "    #                 line=dict(color=color, width=3))\n",
    "    fig.add_annotation(xref='paper',\n",
    "                       yref='paper',\n",
    "                       #xref = 'x4',\n",
    "                       #yref = 'y4',\n",
    "                       x=x,\n",
    "                       ax=xt,\n",
    "                       align=\"center\",\n",
    "                       y=y,\n",
    "                       ay=yt,\n",
    "                       text=name,\n",
    "                       #textangle=90,\n",
    "                       font=dict(color=color,\n",
    "                                 family='Arial Black',\n",
    "                                 size=12),\n",
    "                       showarrow=True)"
   ]
  },
  {
   "cell_type": "code",
   "execution_count": 25,
   "metadata": {},
   "outputs": [
    {
     "data": {
      "application/vnd.plotly.v1+json": {
       "config": {
        "plotlyServerURL": "https://plot.ly"
       },
       "data": [
        {
         "cells": {
          "align": [
           "center",
           "center",
           "center",
           "center"
          ],
          "fill": {
           "color": [
            "white",
            [
             "rgb(37.25, 107.625, 174.875)",
             "rgb(45.75, 118.875, 180.625)",
             "rgb(50.0, 124.5, 183.5)",
             "rgb(146.0, 197.0, 222.0)",
             "rgb(193.25, 221.0, 235.5)",
             "rgb(223.25, 235.75, 242.625)"
            ],
            [
             "rgb(200.5, 69.0, 64.25)",
             "rgb(209.5, 87.0, 72.75)",
             "rgb(225.25, 121.875, 96.875)",
             "rgb(252.25, 222.5, 205.0)",
             "rgb(250.0, 233.0, 223.0)",
             "rgb(242.25, 244.75, 246.125)"
            ],
            [
             "rgb(50.0, 124.5, 183.5)",
             "rgb(50.0, 124.5, 183.5)",
             "rgb(67.0, 147.0, 195.0)",
             "rgb(86.75, 159.5, 201.75)",
             "rgb(67.0, 147.0, 195.0)",
             "rgb(67.0, 147.0, 195.0)"
            ]
           ]
          },
          "font": {
           "color": "black",
           "size": 9
          },
          "height": 18,
          "line": {
           "color": "black",
           "width": 0
          },
          "values": [
           [
            "Kyoto Gases",
            "CO2",
            "CO2|Energy|Supply|Electricity",
            "CO2|Energy|Demand|Transportation",
            "CO2|Energy|Demand|Industry",
            "CO2|Energy|Demand|Residential and Commercial"
           ],
           [
            0.01,
            0.04,
            0.05,
            0.25,
            0.33,
            0.42
           ],
           [
            0.94,
            0.91,
            0.84,
            0.6,
            0.57,
            0.48
           ],
           [
            0.05,
            0.05,
            0.11,
            0.15,
            0.1,
            0.1
           ]
          ]
         },
         "columnwidth": [
          4,
          1,
          1,
          1
         ],
         "domain": {
          "x": [
           0,
           0.235
          ],
          "y": [
           0.6666666666666666,
           0.9999999999999999
          ]
         },
         "header": {
          "align": [
           "center",
           "center",
           "center",
           "center"
          ],
          "fill": {
           "color": [
            "goldenrod",
            "white",
            "white",
            "white"
           ]
          },
          "font": {
           "color": "black"
          },
          "line": {
           "color": "white"
          },
          "values": [
           [
            "<b>Emissions</b>"
           ],
           [
            "<b>Model</b>"
           ],
           [
            "<b>C-cat</b>"
           ],
           [
            "<b>Other</b>"
           ]
          ]
         },
         "type": "table"
        },
        {
         "cells": {
          "align": [
           "center",
           "center",
           "center",
           "center"
          ],
          "fill": {
           "color": [
            "white",
            [
             "rgb(76.875, 153.25, 198.375)",
             "rgb(126.25, 184.5, 215.25)",
             "rgb(153.875, 201.0, 224.25)",
             "rgb(209.0, 229.0, 240.0)",
             "rgb(232.75, 240.25, 244.375)",
             "rgb(249.625, 198.75, 173.125)",
             "rgb(253.0, 219.0, 199.0)",
             "rgb(247.0, 247.0, 247.0)"
            ],
            [
             "rgb(244.0, 165.0, 130.0)",
             "rgb(253.0, 219.0, 199.0)",
             "rgb(247.0, 247.0, 247.0)",
             "rgb(209.0, 229.0, 240.0)",
             "rgb(193.25, 221.0, 235.5)",
             "rgb(106.5, 172.0, 208.5)",
             "rgb(96.625, 165.75, 205.125)",
             "rgb(67.0, 147.0, 195.0)"
            ],
            [
             "rgb(67.0, 147.0, 195.0)",
             "rgb(96.625, 165.75, 205.125)",
             "rgb(146.0, 197.0, 222.0)",
             "rgb(153.875, 201.0, 224.25)",
             "rgb(136.125, 190.75, 218.625)",
             "rgb(76.875, 153.25, 198.375)",
             "rgb(126.25, 184.5, 215.25)",
             "rgb(209.0, 229.0, 240.0)"
            ]
           ]
          },
          "font": {
           "color": "black",
           "size": 9
          },
          "height": 18,
          "line": {
           "color": "black",
           "width": 0
          },
          "values": [
           [
            "Coal",
            "Oil",
            "Gas",
            "Biomass",
            "Wind",
            "Hydro",
            "Solar",
            "Nuclear"
           ],
           [
            0.13,
            0.21,
            0.26,
            0.36,
            0.45,
            0.68,
            0.63,
            0.5
           ],
           [
            0.75,
            0.63,
            0.5,
            0.38,
            0.33,
            0.18,
            0.16,
            0.12
           ],
           [
            0.12,
            0.17,
            0.24,
            0.26,
            0.22,
            0.14,
            0.21,
            0.37
           ]
          ]
         },
         "columnwidth": [
          4,
          1,
          1,
          1
         ],
         "domain": {
          "x": [
           0,
           0.235
          ],
          "y": [
           0.3333333333333333,
           0.6666666666666666
          ]
         },
         "header": {
          "align": [
           "center",
           "center",
           "center",
           "center"
          ],
          "fill": {
           "color": [
            "violet",
            "white",
            "white",
            "white"
           ]
          },
          "font": {
           "color": "black"
          },
          "line": {
           "color": "white"
          },
          "values": [
           [
            "<b>Primary Energy</b>"
           ],
           [
            "<b>Model</b>"
           ],
           [
            "<b>C-cat</b>"
           ],
           [
            "<b>Other</b>"
           ]
          ]
         },
         "type": "table"
        },
        {
         "cells": {
          "align": [
           "center",
           "center",
           "center",
           "center"
          ],
          "fill": {
           "color": [
            "white",
            [
             "rgb(218.5, 233.5, 241.75)",
             "rgb(228.0, 238.0, 243.5)",
             "rgb(250.75, 205.5, 181.75)",
             "rgb(248.5, 192.0, 164.5)",
             "rgb(253.0, 219.0, 199.0)"
            ],
            [
             "rgb(247.0, 247.0, 247.0)",
             "rgb(136.125, 190.75, 218.625)",
             "rgb(96.625, 165.75, 205.125)",
             "rgb(67.0, 147.0, 195.0)",
             "rgb(45.75, 118.875, 180.625)"
            ],
            [
             "rgb(62.75, 141.375, 192.125)",
             "rgb(193.25, 221.0, 235.5)",
             "rgb(96.625, 165.75, 205.125)",
             "rgb(126.25, 184.5, 215.25)",
             "rgb(193.25, 221.0, 235.5)"
            ]
           ]
          },
          "font": {
           "color": "black",
           "size": 9
          },
          "height": 18,
          "line": {
           "color": "black",
           "width": 0
          },
          "values": [
           [
            "Gases",
            "Total",
            "Liquids",
            "Electricity",
            "Solids|Biomass"
           ],
           [
            0.41,
            0.44,
            0.67,
            0.69,
            0.62
           ],
           [
            0.5,
            0.22,
            0.16,
            0.1,
            0.03
           ],
           [
            0.09,
            0.33,
            0.17,
            0.2,
            0.34
           ]
          ]
         },
         "columnwidth": [
          4,
          1,
          1,
          1
         ],
         "domain": {
          "x": [
           0,
           0.235
          ],
          "y": [
           0,
           0.3333333333333333
          ]
         },
         "header": {
          "align": [
           "center",
           "center",
           "center",
           "center"
          ],
          "fill": {
           "color": [
            "peru",
            "white",
            "white",
            "white"
           ]
          },
          "font": {
           "color": "black"
          },
          "line": {
           "color": "white"
          },
          "values": [
           [
            "<b>Sector Residential</b>"
           ],
           [
            "<b>Model</b>"
           ],
           [
            "<b>C-cat</b>"
           ],
           [
            "<b>Other</b>"
           ]
          ]
         },
         "type": "table"
        },
        {
         "cells": {
          "align": [
           "center",
           "center",
           "center",
           "center"
          ],
          "fill": {
           "color": [
            "white",
            [
             "rgb(250.75, 229.5, 217.0)",
             "rgb(248.5, 240.0, 235.0)",
             "rgb(253.0, 219.0, 199.0)",
             "rgb(246.25, 178.5, 147.25)",
             "rgb(251.5, 226.0, 211.0)",
             "rgb(245.125, 171.75, 138.625)",
             "rgb(214.0, 96.0, 77.0)"
            ],
            [
             "rgb(193.25, 221.0, 235.5)",
             "rgb(169.625, 209.0, 228.75)",
             "rgb(126.25, 184.5, 215.25)",
             "rgb(116.375, 178.25, 211.875)",
             "rgb(106.5, 172.0, 208.5)",
             "rgb(86.75, 159.5, 201.75)",
             "rgb(45.75, 118.875, 180.625)"
            ],
            [
             "rgb(62.75, 141.375, 192.125)",
             "rgb(96.625, 165.75, 205.125)",
             "rgb(96.625, 165.75, 205.125)",
             "rgb(62.75, 141.375, 192.125)",
             "rgb(146.0, 197.0, 222.0)",
             "rgb(67.0, 147.0, 195.0)",
             "rgb(58.5, 135.75, 189.25)"
            ]
           ]
          },
          "font": {
           "color": "black",
           "size": 9
          },
          "height": 18,
          "line": {
           "color": "black",
           "width": 0
          },
          "values": [
           [
            "Solids|Coal",
            "Gases",
            "Electricity",
            "Total",
            "Hydrogen",
            "Liquids",
            "Solids|Biomass"
           ],
           [
            0.58,
            0.53,
            0.63,
            0.72,
            0.59,
            0.74,
            0.89
           ],
           [
            0.33,
            0.29,
            0.2,
            0.19,
            0.18,
            0.15,
            0.03
           ],
           [
            0.09,
            0.17,
            0.17,
            0.09,
            0.23,
            0.11,
            0.08
           ]
          ]
         },
         "columnwidth": [
          4,
          1,
          1,
          1
         ],
         "domain": {
          "x": [
           0.7649999999999999,
           0.9999999999999999
          ],
          "y": [
           0.6666666666666666,
           0.9999999999999999
          ]
         },
         "header": {
          "align": [
           "center",
           "center",
           "center",
           "center"
          ],
          "fill": {
           "color": [
            "silver",
            "white",
            "white",
            "white"
           ]
          },
          "font": {
           "color": "black"
          },
          "line": {
           "color": "white"
          },
          "values": [
           [
            "<b>Sector Industry</b>"
           ],
           [
            "<b>Model</b>"
           ],
           [
            "<b>C-cat</b>"
           ],
           [
            "<b>Other</b>"
           ]
          ]
         },
         "type": "table"
        },
        {
         "cells": {
          "align": [
           "center",
           "center",
           "center",
           "center"
          ],
          "fill": {
           "color": [
            "white",
            [
             "rgb(185.375, 217.0, 233.25)",
             "rgb(232.75, 240.25, 244.375)",
             "rgb(247.0, 247.0, 247.0)",
             "rgb(253.0, 219.0, 199.0)",
             "rgb(213.75, 231.25, 240.875)",
             "rgb(252.25, 222.5, 205.0)"
            ],
            [
             "rgb(247.75, 243.5, 241.0)",
             "rgb(209.0, 229.0, 240.0)",
             "rgb(177.5, 213.0, 231.0)",
             "rgb(106.5, 172.0, 208.5)",
             "rgb(67.0, 147.0, 195.0)",
             "rgb(37.25, 107.625, 174.875)"
            ],
            [
             "rgb(86.75, 159.5, 201.75)",
             "rgb(106.5, 172.0, 208.5)",
             "rgb(116.375, 178.25, 211.875)",
             "rgb(126.25, 184.5, 215.25)",
             "rgb(247.0, 247.0, 247.0)",
             "rgb(213.75, 231.25, 240.875)"
            ]
           ]
          },
          "font": {
           "color": "black",
           "size": 9
          },
          "height": 18,
          "line": {
           "color": "black",
           "width": 0
          },
          "values": [
           [
            "Liquids|Oil",
            "Liquids",
            "Total",
            "Electricity",
            "Hydrogen",
            "Gases"
           ],
           [
            0.32,
            0.45,
            0.5,
            0.62,
            0.39,
            0.61
           ],
           [
            0.52,
            0.36,
            0.31,
            0.18,
            0.11,
            0
           ],
           [
            0.15,
            0.18,
            0.19,
            0.2,
            0.5,
            0.39
           ]
          ]
         },
         "columnwidth": [
          4,
          1,
          1,
          1
         ],
         "domain": {
          "x": [
           0.7649999999999999,
           0.9999999999999999
          ],
          "y": [
           0.3333333333333333,
           0.6666666666666666
          ]
         },
         "header": {
          "align": [
           "center",
           "center",
           "center",
           "center"
          ],
          "fill": {
           "color": [
            "teal",
            "white",
            "white",
            "white"
           ]
          },
          "font": {
           "color": "black"
          },
          "line": {
           "color": "white"
          },
          "values": [
           [
            "<b>Sector Transportation</b>"
           ],
           [
            "<b>Model</b>"
           ],
           [
            "<b>C-cat</b>"
           ],
           [
            "<b>Other</b>"
           ]
          ]
         },
         "type": "table"
        },
        {
         "cells": {
          "align": [
           "center",
           "center",
           "center",
           "center"
          ],
          "fill": {
           "color": [
            "white",
            [
             "rgb(50.0, 124.5, 183.5)",
             "rgb(146.0, 197.0, 222.0)",
             "rgb(169.625, 209.0, 228.75)",
             "rgb(209.0, 229.0, 240.0)",
             "rgb(247.0, 247.0, 247.0)",
             "rgb(247.0, 247.0, 247.0)",
             "rgb(248.5, 240.0, 235.0)",
             "rgb(244.0, 165.0, 130.0)",
             "rgb(248.5, 240.0, 235.0)",
             "rgb(253.0, 219.0, 199.0)",
             "rgb(240.25, 156.375, 123.375)"
            ],
            [
             "rgb(232.75, 139.125, 110.125)",
             "rgb(249.25, 236.5, 229.0)",
             "rgb(209.0, 229.0, 240.0)",
             "rgb(193.25, 221.0, 235.5)",
             "rgb(177.5, 213.0, 231.0)",
             "rgb(146.0, 197.0, 222.0)",
             "rgb(96.625, 165.75, 205.125)",
             "rgb(76.875, 153.25, 198.375)",
             "rgb(76.875, 153.25, 198.375)",
             "rgb(67.0, 147.0, 195.0)",
             "rgb(41.5, 113.25, 177.75)"
            ],
            [
             "rgb(86.75, 159.5, 201.75)",
             "rgb(126.25, 184.5, 215.25)",
             "rgb(201.125, 225.0, 237.75)",
             "rgb(169.625, 209.0, 228.75)",
             "rgb(126.25, 184.5, 215.25)",
             "rgb(161.75, 205.0, 226.5)",
             "rgb(169.625, 209.0, 228.75)",
             "rgb(67.0, 147.0, 195.0)",
             "rgb(193.25, 221.0, 235.5)",
             "rgb(146.0, 197.0, 222.0)",
             "rgb(126.25, 184.5, 215.25)"
            ]
           ]
          },
          "font": {
           "color": "black",
           "size": 9
          },
          "height": 18,
          "line": {
           "color": "black",
           "width": 0
          },
          "values": [
           [
            "Coal|w/o CCS",
            "Gas|w/o CCS",
            "Biomass|w/ CCS",
            "Total",
            "Wind",
            "Gas|w/ CCS",
            "Solar",
            "Hydro",
            "Nuclear",
            "Coal|w/ CCS",
            "Biomass|w/o CCS"
           ],
           [
            0.05,
            0.24,
            0.29,
            0.38,
            0.49,
            0.49,
            0.54,
            0.75,
            0.53,
            0.63,
            0.78
           ],
           [
            0.8,
            0.55,
            0.36,
            0.33,
            0.31,
            0.23,
            0.17,
            0.13,
            0.13,
            0.12,
            0.02
           ],
           [
            0.15,
            0.21,
            0.35,
            0.29,
            0.2,
            0.28,
            0.29,
            0.12,
            0.34,
            0.25,
            0.2
           ]
          ]
         },
         "columnwidth": [
          4,
          1,
          1,
          1
         ],
         "domain": {
          "x": [
           0.7649999999999999,
           0.9999999999999999
          ],
          "y": [
           0,
           0.3333333333333333
          ]
         },
         "header": {
          "align": [
           "center",
           "center",
           "center",
           "center"
          ],
          "fill": {
           "color": [
            "forestgreen",
            "white",
            "white",
            "white"
           ]
          },
          "font": {
           "color": "black"
          },
          "line": {
           "color": "white"
          },
          "values": [
           [
            "<b>Electricity Generation</b>"
           ],
           [
            "<b>Model</b>"
           ],
           [
            "<b>C-cat</b>"
           ],
           [
            "<b>Other</b>"
           ]
          ]
         },
         "type": "table"
        },
        {
         "a": [
          0,
          0
         ],
         "b": [
          0,
          1
         ],
         "c": [
          1,
          0
         ],
         "hoverinfo": "skip",
         "line": {
          "color": "rgb(1.0,1.0,1.0)",
          "width": 0.25
         },
         "mode": "lines",
         "showlegend": false,
         "subplot": "ternary",
         "type": "scatterternary"
        },
        {
         "a": [
          0,
          1
         ],
         "b": [
          0,
          0
         ],
         "c": [
          1,
          0
         ],
         "hoverinfo": "skip",
         "line": {
          "color": "rgb(1.0,1.0,1.0)",
          "width": 0.25
         },
         "mode": "lines",
         "showlegend": false,
         "subplot": "ternary",
         "type": "scatterternary"
        },
        {
         "a": [
          0,
          1
         ],
         "b": [
          1,
          0
         ],
         "c": [
          0,
          0
         ],
         "hoverinfo": "skip",
         "line": {
          "color": "rgb(1.0,1.0,1.0)",
          "width": 0.25
         },
         "mode": "lines",
         "showlegend": false,
         "subplot": "ternary",
         "type": "scatterternary"
        },
        {
         "a": [
          0.1,
          0.1
         ],
         "b": [
          0,
          0.9
         ],
         "c": [
          0.9,
          0
         ],
         "hoverinfo": "skip",
         "line": {
          "color": "rgb(0.9778546712802768,0.9778546712802768,0.9778546712802768)",
          "width": 0.35
         },
         "mode": "lines",
         "showlegend": false,
         "subplot": "ternary",
         "type": "scatterternary"
        },
        {
         "a": [
          0,
          0.9
         ],
         "b": [
          0.1,
          0.1
         ],
         "c": [
          0.9,
          0
         ],
         "hoverinfo": "skip",
         "line": {
          "color": "rgb(0.9778546712802768,0.9778546712802768,0.9778546712802768)",
          "width": 0.35
         },
         "mode": "lines",
         "showlegend": false,
         "subplot": "ternary",
         "type": "scatterternary"
        },
        {
         "a": [
          0,
          0.9
         ],
         "b": [
          0.9,
          0
         ],
         "c": [
          0.1,
          0.1
         ],
         "hoverinfo": "skip",
         "line": {
          "color": "rgb(0.9778546712802768,0.9778546712802768,0.9778546712802768)",
          "width": 0.35
         },
         "mode": "lines",
         "showlegend": false,
         "subplot": "ternary",
         "type": "scatterternary"
        },
        {
         "a": [
          0.2,
          0.2
         ],
         "b": [
          0,
          0.8
         ],
         "c": [
          0.8,
          0
         ],
         "hoverinfo": "skip",
         "line": {
          "color": "rgb(0.9538638985005767,0.9538638985005767,0.9538638985005767)",
          "width": 0.45
         },
         "mode": "lines",
         "showlegend": false,
         "subplot": "ternary",
         "type": "scatterternary"
        },
        {
         "a": [
          0,
          0.8
         ],
         "b": [
          0.2,
          0.2
         ],
         "c": [
          0.8,
          0
         ],
         "hoverinfo": "skip",
         "line": {
          "color": "rgb(0.9538638985005767,0.9538638985005767,0.9538638985005767)",
          "width": 0.45
         },
         "mode": "lines",
         "showlegend": false,
         "subplot": "ternary",
         "type": "scatterternary"
        },
        {
         "a": [
          0,
          0.8
         ],
         "b": [
          0.8,
          0
         ],
         "c": [
          0.2,
          0.2
         ],
         "hoverinfo": "skip",
         "line": {
          "color": "rgb(0.9538638985005767,0.9538638985005767,0.9538638985005767)",
          "width": 0.45
         },
         "mode": "lines",
         "showlegend": false,
         "subplot": "ternary",
         "type": "scatterternary"
        },
        {
         "a": [
          0.30000000000000004,
          0.30000000000000004
         ],
         "b": [
          0,
          0.7
         ],
         "c": [
          0.7,
          0
         ],
         "hoverinfo": "skip",
         "line": {
          "color": "rgb(0.9238446751249519,0.9238446751249519,0.9238446751249519)",
          "width": 0.55
         },
         "mode": "lines",
         "showlegend": false,
         "subplot": "ternary",
         "type": "scatterternary"
        },
        {
         "a": [
          0,
          0.7
         ],
         "b": [
          0.30000000000000004,
          0.30000000000000004
         ],
         "c": [
          0.7,
          0
         ],
         "hoverinfo": "skip",
         "line": {
          "color": "rgb(0.9238446751249519,0.9238446751249519,0.9238446751249519)",
          "width": 0.55
         },
         "mode": "lines",
         "showlegend": false,
         "subplot": "ternary",
         "type": "scatterternary"
        },
        {
         "a": [
          0,
          0.7
         ],
         "b": [
          0.7,
          0
         ],
         "c": [
          0.30000000000000004,
          0.30000000000000004
         ],
         "hoverinfo": "skip",
         "line": {
          "color": "rgb(0.9238446751249519,0.9238446751249519,0.9238446751249519)",
          "width": 0.55
         },
         "mode": "lines",
         "showlegend": false,
         "subplot": "ternary",
         "type": "scatterternary"
        },
        {
         "a": [
          0.4,
          0.4
         ],
         "b": [
          0,
          0.6
         ],
         "c": [
          0.6,
          0
         ],
         "hoverinfo": "skip",
         "line": {
          "color": "rgb(0.8870588235294118,0.8870588235294118,0.8870588235294118)",
          "width": 0.65
         },
         "mode": "lines",
         "showlegend": false,
         "subplot": "ternary",
         "type": "scatterternary"
        },
        {
         "a": [
          0,
          0.6
         ],
         "b": [
          0.4,
          0.4
         ],
         "c": [
          0.6,
          0
         ],
         "hoverinfo": "skip",
         "line": {
          "color": "rgb(0.8870588235294118,0.8870588235294118,0.8870588235294118)",
          "width": 0.65
         },
         "mode": "lines",
         "showlegend": false,
         "subplot": "ternary",
         "type": "scatterternary"
        },
        {
         "a": [
          0,
          0.6
         ],
         "b": [
          0.6,
          0
         ],
         "c": [
          0.4,
          0.4
         ],
         "hoverinfo": "skip",
         "line": {
          "color": "rgb(0.8870588235294118,0.8870588235294118,0.8870588235294118)",
          "width": 0.65
         },
         "mode": "lines",
         "showlegend": false,
         "subplot": "ternary",
         "type": "scatterternary"
        },
        {
         "a": [
          0.5,
          0.5
         ],
         "b": [
          0,
          0.5
         ],
         "c": [
          0.5,
          0
         ],
         "hoverinfo": "skip",
         "line": {
          "color": "rgb(0.8501191849288735,0.8501191849288735,0.8501191849288735)",
          "width": 0.75
         },
         "mode": "lines",
         "showlegend": false,
         "subplot": "ternary",
         "type": "scatterternary"
        },
        {
         "a": [
          0,
          0.5
         ],
         "b": [
          0.5,
          0.5
         ],
         "c": [
          0.5,
          0
         ],
         "hoverinfo": "skip",
         "line": {
          "color": "rgb(0.8501191849288735,0.8501191849288735,0.8501191849288735)",
          "width": 0.75
         },
         "mode": "lines",
         "showlegend": false,
         "subplot": "ternary",
         "type": "scatterternary"
        },
        {
         "a": [
          0,
          0.5
         ],
         "b": [
          0.5,
          0
         ],
         "c": [
          0.5,
          0.5
         ],
         "hoverinfo": "skip",
         "line": {
          "color": "rgb(0.8501191849288735,0.8501191849288735,0.8501191849288735)",
          "width": 0.75
         },
         "mode": "lines",
         "showlegend": false,
         "subplot": "ternary",
         "type": "scatterternary"
        },
        {
         "a": [
          0.6000000000000001,
          0.6000000000000001
         ],
         "b": [
          0,
          0.3999999999999999
         ],
         "c": [
          0.3999999999999999,
          0
         ],
         "hoverinfo": "skip",
         "line": {
          "color": "rgb(0.8087812379853903,0.8087812379853903,0.8087812379853903)",
          "width": 0.8500000000000001
         },
         "mode": "lines",
         "showlegend": false,
         "subplot": "ternary",
         "type": "scatterternary"
        },
        {
         "a": [
          0,
          0.3999999999999999
         ],
         "b": [
          0.6000000000000001,
          0.6000000000000001
         ],
         "c": [
          0.3999999999999999,
          0
         ],
         "hoverinfo": "skip",
         "line": {
          "color": "rgb(0.8087812379853903,0.8087812379853903,0.8087812379853903)",
          "width": 0.8500000000000001
         },
         "mode": "lines",
         "showlegend": false,
         "subplot": "ternary",
         "type": "scatterternary"
        },
        {
         "a": [
          0,
          0.3999999999999999
         ],
         "b": [
          0.3999999999999999,
          0
         ],
         "c": [
          0.6000000000000001,
          0.6000000000000001
         ],
         "hoverinfo": "skip",
         "line": {
          "color": "rgb(0.8087812379853903,0.8087812379853903,0.8087812379853903)",
          "width": 0.8500000000000001
         },
         "mode": "lines",
         "showlegend": false,
         "subplot": "ternary",
         "type": "scatterternary"
        },
        {
         "a": [
          0.7000000000000001,
          0.7000000000000001
         ],
         "b": [
          0,
          0.29999999999999993
         ],
         "c": [
          0.29999999999999993,
          0
         ],
         "hoverinfo": "skip",
         "line": {
          "color": "rgb(0.76399846212995,0.76399846212995,0.76399846212995)",
          "width": 0.9500000000000001
         },
         "mode": "lines",
         "showlegend": false,
         "subplot": "ternary",
         "type": "scatterternary"
        },
        {
         "a": [
          0,
          0.29999999999999993
         ],
         "b": [
          0.7000000000000001,
          0.7000000000000001
         ],
         "c": [
          0.29999999999999993,
          0
         ],
         "hoverinfo": "skip",
         "line": {
          "color": "rgb(0.76399846212995,0.76399846212995,0.76399846212995)",
          "width": 0.9500000000000001
         },
         "mode": "lines",
         "showlegend": false,
         "subplot": "ternary",
         "type": "scatterternary"
        },
        {
         "a": [
          0,
          0.29999999999999993
         ],
         "b": [
          0.29999999999999993,
          0
         ],
         "c": [
          0.7000000000000001,
          0.7000000000000001
         ],
         "hoverinfo": "skip",
         "line": {
          "color": "rgb(0.76399846212995,0.76399846212995,0.76399846212995)",
          "width": 0.9500000000000001
         },
         "mode": "lines",
         "showlegend": false,
         "subplot": "ternary",
         "type": "scatterternary"
        },
        {
         "a": [
          0.8,
          0.8
         ],
         "b": [
          0,
          0.19999999999999996
         ],
         "c": [
          0.19999999999999996,
          0
         ],
         "hoverinfo": "skip",
         "line": {
          "color": "rgb(0.7105882352941176,0.7105882352941176,0.7105882352941176)",
          "width": 1.05
         },
         "mode": "lines",
         "showlegend": false,
         "subplot": "ternary",
         "type": "scatterternary"
        },
        {
         "a": [
          0,
          0.19999999999999996
         ],
         "b": [
          0.8,
          0.8
         ],
         "c": [
          0.19999999999999996,
          0
         ],
         "hoverinfo": "skip",
         "line": {
          "color": "rgb(0.7105882352941176,0.7105882352941176,0.7105882352941176)",
          "width": 1.05
         },
         "mode": "lines",
         "showlegend": false,
         "subplot": "ternary",
         "type": "scatterternary"
        },
        {
         "a": [
          0,
          0.19999999999999996
         ],
         "b": [
          0.19999999999999996,
          0
         ],
         "c": [
          0.8,
          0.8
         ],
         "hoverinfo": "skip",
         "line": {
          "color": "rgb(0.7105882352941176,0.7105882352941176,0.7105882352941176)",
          "width": 1.05
         },
         "mode": "lines",
         "showlegend": false,
         "subplot": "ternary",
         "type": "scatterternary"
        },
        {
         "a": [
          0.9,
          0.9
         ],
         "b": [
          0,
          0.09999999999999998
         ],
         "c": [
          0.09999999999999998,
          0
         ],
         "hoverinfo": "skip",
         "line": {
          "color": "rgb(0.6482122260668974,0.6482122260668974,0.6482122260668974)",
          "width": 1.15
         },
         "mode": "lines",
         "showlegend": false,
         "subplot": "ternary",
         "type": "scatterternary"
        },
        {
         "a": [
          0,
          0.09999999999999998
         ],
         "b": [
          0.9,
          0.9
         ],
         "c": [
          0.09999999999999998,
          0
         ],
         "hoverinfo": "skip",
         "line": {
          "color": "rgb(0.6482122260668974,0.6482122260668974,0.6482122260668974)",
          "width": 1.15
         },
         "mode": "lines",
         "showlegend": false,
         "subplot": "ternary",
         "type": "scatterternary"
        },
        {
         "a": [
          0,
          0.09999999999999998
         ],
         "b": [
          0.09999999999999998,
          0
         ],
         "c": [
          0.9,
          0.9
         ],
         "hoverinfo": "skip",
         "line": {
          "color": "rgb(0.6482122260668974,0.6482122260668974,0.6482122260668974)",
          "width": 1.15
         },
         "mode": "lines",
         "showlegend": false,
         "subplot": "ternary",
         "type": "scatterternary"
        },
        {
         "a": [
          0.005,
          0.005
         ],
         "b": [
          0,
          1
         ],
         "c": [
          1,
          0
         ],
         "hoverinfo": "skip",
         "line": {
          "color": "black",
          "width": 2
         },
         "mode": "lines",
         "showlegend": false,
         "subplot": "ternary",
         "type": "scatterternary"
        },
        {
         "a": [
          0,
          1
         ],
         "b": [
          0.005,
          0.005
         ],
         "c": [
          1,
          0
         ],
         "hoverinfo": "skip",
         "line": {
          "color": "black",
          "width": 2
         },
         "mode": "lines",
         "showlegend": false,
         "subplot": "ternary",
         "type": "scatterternary"
        },
        {
         "a": [
          0,
          1
         ],
         "b": [
          1,
          0
         ],
         "c": [
          0.005,
          0.005
         ],
         "hoverinfo": "skip",
         "line": {
          "color": "black",
          "width": 2
         },
         "mode": "lines",
         "showlegend": false,
         "subplot": "ternary",
         "type": "scatterternary"
        },
        {
         "a": [
          0.8724447810768986
         ],
         "b": [
          0.03647640170286494
         ],
         "c": [
          0.050504643088858575
         ],
         "hovertemplate": "%{text}<br>Var (climate): %{a}<br>Var (model): %{b} <br>Var (other): %{c}",
         "line": {
          "width": 1.5
         },
         "marker": {
          "color": "goldenrod",
          "line": {
           "color": "black",
           "width": 1
          },
          "opacity": 1,
          "size": 20,
          "symbol": "circle"
         },
         "mode": "markers",
         "name": "Emissions|CO2 (1200)",
         "showlegend": false,
         "subplot": "ternary",
         "text": [
          "2100"
         ],
         "textfont": {
          "color": "goldenrod",
          "size": 1
         },
         "type": "scatterternary"
        },
        {
         "a": [
          0.9281583392854674
         ],
         "b": [
          0.010661308838126516
         ],
         "c": [
          0.045222127408400405
         ],
         "hovertemplate": "%{text}<br>Var (climate): %{a}<br>Var (model): %{b} <br>Var (other): %{c}",
         "line": {
          "width": 1.5
         },
         "marker": {
          "color": "goldenrod",
          "line": {
           "color": "black",
           "width": 4
          },
          "opacity": 1,
          "size": 20,
          "symbol": "circle"
         },
         "mode": "markers",
         "name": "Emissions|Kyoto Gases (1118)",
         "showlegend": false,
         "subplot": "ternary",
         "text": [
          "2100"
         ],
         "textfont": {
          "color": "goldenrod",
          "size": 1
         },
         "type": "scatterternary"
        },
        {
         "a": [
          0.7137543090317356
         ],
         "b": [
          0.03847710991887536
         ],
         "c": [
          0.09624151427019273
         ],
         "hovertemplate": "%{text}<br>Var (climate): %{a}<br>Var (model): %{b} <br>Var (other): %{c}",
         "line": {
          "width": 1.5
         },
         "marker": {
          "color": "goldenrod",
          "line": {
           "color": "black",
           "width": 1
          },
          "opacity": 1,
          "size": 20,
          "symbol": "circle"
         },
         "mode": "markers",
         "name": "Emissions|CO2|Energy|Supply|Electricity (1152)",
         "showlegend": false,
         "subplot": "ternary",
         "text": [
          "2100"
         ],
         "textfont": {
          "color": "goldenrod",
          "size": 1
         },
         "type": "scatterternary"
        },
        {
         "a": [
          0.49749576867302403
         ],
         "b": [
          0.2919484403722127
         ],
         "c": [
          0.086774014926865
         ],
         "hovertemplate": "%{text}<br>Var (climate): %{a}<br>Var (model): %{b} <br>Var (other): %{c}",
         "line": {
          "width": 1.5
         },
         "marker": {
          "color": "goldenrod",
          "line": {
           "color": "black",
           "width": 1
          },
          "opacity": 1,
          "size": 20,
          "symbol": "circle"
         },
         "mode": "markers",
         "name": "Emissions|CO2|Energy|Demand|Industry (1116)",
         "showlegend": false,
         "subplot": "ternary",
         "text": [
          "2100"
         ],
         "textfont": {
          "color": "goldenrod",
          "size": 1
         },
         "type": "scatterternary"
        },
        {
         "a": [
          0.532071648040564
         ],
         "b": [
          0.22178740299295735
         ],
         "c": [
          0.1365475028278991
         ],
         "hovertemplate": "%{text}<br>Var (climate): %{a}<br>Var (model): %{b} <br>Var (other): %{c}",
         "line": {
          "width": 1.5
         },
         "marker": {
          "color": "goldenrod",
          "line": {
           "color": "black",
           "width": 1
          },
          "opacity": 1,
          "size": 20,
          "symbol": "circle"
         },
         "mode": "markers",
         "name": "Emissions|CO2|Energy|Demand|Transportation (1058)",
         "showlegend": false,
         "subplot": "ternary",
         "text": [
          "2100"
         ],
         "textfont": {
          "color": "goldenrod",
          "size": 1
         },
         "type": "scatterternary"
        },
        {
         "a": [
          0.44458875973200845
         ],
         "b": [
          0.38833456409812295
         ],
         "c": [
          0.09390547066633978
         ],
         "hovertemplate": "%{text}<br>Var (climate): %{a}<br>Var (model): %{b} <br>Var (other): %{c}",
         "line": {
          "width": 1.5
         },
         "marker": {
          "color": "goldenrod",
          "line": {
           "color": "black",
           "width": 1
          },
          "opacity": 1,
          "size": 20,
          "symbol": "circle"
         },
         "mode": "markers",
         "name": "Emissions|CO2|Energy|Demand|Residential and Commercial (953)",
         "showlegend": false,
         "subplot": "ternary",
         "text": [
          "2100"
         ],
         "textfont": {
          "color": "goldenrod",
          "size": 1
         },
         "type": "scatterternary"
        },
        {
         "a": [
          0.3303908388855462
         ],
         "b": [
          0.3142952391149366
         ],
         "c": [
          0.23036248429125494
         ],
         "hovertemplate": "%{text}<br>Var (climate): %{a}<br>Var (model): %{b} <br>Var (other): %{c}",
         "line": {
          "width": 1.5
         },
         "marker": {
          "color": "violet",
          "line": {
           "color": "black",
           "width": 1
          },
          "opacity": 1,
          "size": 20,
          "symbol": "diamond-wide"
         },
         "mode": "markers",
         "name": "Primary Energy|Biomass (1191)",
         "showlegend": false,
         "subplot": "ternary",
         "text": [
          "2100"
         ],
         "textfont": {
          "color": "violet",
          "size": 1
         },
         "type": "scatterternary"
        },
        {
         "a": [
          0.6795926001402703
         ],
         "b": [
          0.12139498643286639
         ],
         "c": [
          0.11114094826285237
         ],
         "hovertemplate": "%{text}<br>Var (climate): %{a}<br>Var (model): %{b} <br>Var (other): %{c}",
         "line": {
          "width": 1.5
         },
         "marker": {
          "color": "violet",
          "line": {
           "color": "black",
           "width": 4
          },
          "opacity": 1,
          "size": 20,
          "symbol": "diamond-wide"
         },
         "mode": "markers",
         "name": "Primary Energy|Coal (1193)",
         "showlegend": false,
         "subplot": "ternary",
         "text": [
          "2100"
         ],
         "textfont": {
          "color": "violet",
          "size": 1
         },
         "type": "scatterternary"
        },
        {
         "a": [
          0.41608449636825384
         ],
         "b": [
          0.2216113900136627
         ],
         "c": [
          0.20278408565174935
         ],
         "hovertemplate": "%{text}<br>Var (climate): %{a}<br>Var (model): %{b} <br>Var (other): %{c}",
         "line": {
          "width": 1.5
         },
         "marker": {
          "color": "violet",
          "line": {
           "color": "black",
           "width": 1
          },
          "opacity": 1,
          "size": 20,
          "symbol": "diamond-wide"
         },
         "mode": "markers",
         "name": "Primary Energy|Gas (1193)",
         "showlegend": false,
         "subplot": "ternary",
         "text": [
          "2100"
         ],
         "textfont": {
          "color": "violet",
          "size": 1
         },
         "type": "scatterternary"
        },
        {
         "a": [
          0.260297672517669
         ],
         "b": [
          0.35439258262280815
         ],
         "c": [
          0.17516461513262638
         ],
         "hovertemplate": "%{text}<br>Var (climate): %{a}<br>Var (model): %{b} <br>Var (other): %{c}",
         "line": {
          "width": 1.5
         },
         "marker": {
          "color": "violet",
          "line": {
           "color": "black",
           "width": 1
          },
          "opacity": 1,
          "size": 20,
          "symbol": "diamond-wide"
         },
         "mode": "markers",
         "name": "Primary Energy|Wind (1063)",
         "showlegend": false,
         "subplot": "ternary",
         "text": [
          "2100"
         ],
         "textfont": {
          "color": "violet",
          "size": 1
         },
         "type": "scatterternary"
        },
        {
         "a": [
          0.14719907341296534
         ],
         "b": [
          0.5798224784144844
         ],
         "c": [
          0.1893117580463453
         ],
         "hovertemplate": "%{text}<br>Var (climate): %{a}<br>Var (model): %{b} <br>Var (other): %{c}",
         "line": {
          "width": 1.5
         },
         "marker": {
          "color": "violet",
          "line": {
           "color": "black",
           "width": 1
          },
          "opacity": 1,
          "size": 20,
          "symbol": "diamond-wide"
         },
         "mode": "markers",
         "name": "Primary Energy|Solar (1063)",
         "showlegend": false,
         "subplot": "ternary",
         "text": [
          "2100"
         ],
         "textfont": {
          "color": "violet",
          "size": 1
         },
         "type": "scatterternary"
        },
        {
         "a": [
          0.1025827058663371
         ],
         "b": [
          0.41425618168551487
         ],
         "c": [
          0.30382621736097204
         ],
         "hovertemplate": "%{text}<br>Var (climate): %{a}<br>Var (model): %{b} <br>Var (other): %{c}",
         "line": {
          "width": 1.5
         },
         "marker": {
          "color": "violet",
          "line": {
           "color": "black",
           "width": 1
          },
          "opacity": 1,
          "size": 20,
          "symbol": "diamond-wide"
         },
         "mode": "markers",
         "name": "Primary Energy|Nuclear (1193)",
         "showlegend": false,
         "subplot": "ternary",
         "text": [
          "2100"
         ],
         "textfont": {
          "color": "violet",
          "size": 1
         },
         "type": "scatterternary"
        },
        {
         "a": [
          0.5303704380932159
         ],
         "b": [
          0.17471353566579154
         ],
         "c": [
          0.14003071844247225
         ],
         "hovertemplate": "%{text}<br>Var (climate): %{a}<br>Var (model): %{b} <br>Var (other): %{c}",
         "line": {
          "width": 1.5
         },
         "marker": {
          "color": "violet",
          "line": {
           "color": "black",
           "width": 4
          },
          "opacity": 1,
          "size": 20,
          "symbol": "diamond-wide"
         },
         "mode": "markers",
         "name": "Primary Energy|Oil (1193)",
         "showlegend": false,
         "subplot": "ternary",
         "text": [
          "2100"
         ],
         "textfont": {
          "color": "violet",
          "size": 1
         },
         "type": "scatterternary"
        },
        {
         "a": [
          0.15077171950189389
         ],
         "b": [
          0.5593751094236437
         ],
         "c": [
          0.11828315902431125
         ],
         "hovertemplate": "%{text}<br>Var (climate): %{a}<br>Var (model): %{b} <br>Var (other): %{c}",
         "line": {
          "width": 1.5
         },
         "marker": {
          "color": "violet",
          "line": {
           "color": "black",
           "width": 1
          },
          "opacity": 1,
          "size": 20,
          "symbol": "diamond-wide"
         },
         "mode": "markers",
         "name": "Primary Energy|Hydro (1070)",
         "showlegend": false,
         "subplot": "ternary",
         "text": [
          "2100"
         ],
         "textfont": {
          "color": "violet",
          "size": 1
         },
         "type": "scatterternary"
        },
        {
         "a": [
          0.24135476891917718
         ],
         "b": [
          0.27302230694143287
         ],
         "c": [
          0.20932610032860072
         ],
         "hovertemplate": "%{text}<br>Var (climate): %{a}<br>Var (model): %{b} <br>Var (other): %{c}",
         "line": {
          "width": 1.5
         },
         "marker": {
          "color": "forestgreen",
          "line": {
           "color": "black",
           "width": 1
          },
          "opacity": 1,
          "size": 20,
          "symbol": "star"
         },
         "mode": "markers",
         "name": "Secondary Energy|Electricity (1193)",
         "showlegend": false,
         "subplot": "ternary",
         "text": [
          "2100"
         ],
         "textfont": {
          "color": "forestgreen",
          "size": 1
         },
         "type": "scatterternary"
        },
        {
         "a": [
          0.26726850116730805
         ],
         "b": [
          0.217553765227292
         ],
         "c": [
          0.26058873696354645
         ],
         "hovertemplate": "%{text}<br>Var (climate): %{a}<br>Var (model): %{b} <br>Var (other): %{c}",
         "line": {
          "width": 1.5
         },
         "marker": {
          "color": "forestgreen",
          "line": {
           "color": "black",
           "width": 1
          },
          "opacity": 1,
          "size": 20,
          "symbol": "star"
         },
         "mode": "markers",
         "name": "Secondary Energy|Electricity|Biomass|w/ CCS (1158)",
         "showlegend": false,
         "subplot": "ternary",
         "text": [
          "2100"
         ],
         "textfont": {
          "color": "forestgreen",
          "size": 1
         },
         "type": "scatterternary"
        },
        {
         "a": [
          0.014233186460241486
         ],
         "b": [
          0.6322272950756198
         ],
         "c": [
          0.16204255127725758
         ],
         "hovertemplate": "%{text}<br>Var (climate): %{a}<br>Var (model): %{b} <br>Var (other): %{c}",
         "line": {
          "width": 1.5
         },
         "marker": {
          "color": "forestgreen",
          "line": {
           "color": "black",
           "width": 1
          },
          "opacity": 1,
          "size": 20,
          "symbol": "star"
         },
         "mode": "markers",
         "name": "Secondary Energy|Electricity|Biomass|w/o CCS (1167)",
         "showlegend": false,
         "subplot": "ternary",
         "text": [
          "2100"
         ],
         "textfont": {
          "color": "forestgreen",
          "size": 1
         },
         "type": "scatterternary"
        },
        {
         "a": [
          0.0963228300405296
         ],
         "b": [
          0.5209464839720712
         ],
         "c": [
          0.20447516980539326
         ],
         "hovertemplate": "%{text}<br>Var (climate): %{a}<br>Var (model): %{b} <br>Var (other): %{c}",
         "line": {
          "width": 1.5
         },
         "marker": {
          "color": "forestgreen",
          "line": {
           "color": "black",
           "width": 1
          },
          "opacity": 1,
          "size": 20,
          "symbol": "star"
         },
         "mode": "markers",
         "name": "Secondary Energy|Electricity|Coal|w/ CCS (1166)",
         "showlegend": false,
         "subplot": "ternary",
         "text": [
          "2100"
         ],
         "textfont": {
          "color": "forestgreen",
          "size": 1
         },
         "type": "scatterternary"
        },
        {
         "a": [
          0.6689192109335653
         ],
         "b": [
          0.04525803674513029
         ],
         "c": [
          0.12225805885568183
         ],
         "hovertemplate": "%{text}<br>Var (climate): %{a}<br>Var (model): %{b} <br>Var (other): %{c}",
         "line": {
          "width": 1.5
         },
         "marker": {
          "color": "forestgreen",
          "line": {
           "color": "black",
           "width": 4
          },
          "opacity": 1,
          "size": 20,
          "symbol": "star"
         },
         "mode": "markers",
         "name": "Secondary Energy|Electricity|Coal|w/o CCS (1174)",
         "showlegend": false,
         "subplot": "ternary",
         "text": [
          "2100"
         ],
         "textfont": {
          "color": "forestgreen",
          "size": 1
         },
         "type": "scatterternary"
        },
        {
         "a": [
          0.1839039652506072
         ],
         "b": [
          0.38304122966494314
         ],
         "c": [
          0.21807335212739548
         ],
         "hovertemplate": "%{text}<br>Var (climate): %{a}<br>Var (model): %{b} <br>Var (other): %{c}",
         "line": {
          "width": 1.5
         },
         "marker": {
          "color": "forestgreen",
          "line": {
           "color": "black",
           "width": 1
          },
          "opacity": 1,
          "size": 20,
          "symbol": "star"
         },
         "mode": "markers",
         "name": "Secondary Energy|Electricity|Gas|w/ CCS (1165)",
         "showlegend": false,
         "subplot": "ternary",
         "text": [
          "2100"
         ],
         "textfont": {
          "color": "forestgreen",
          "size": 1
         },
         "type": "scatterternary"
        },
        {
         "a": [
          0.4614145028608152
         ],
         "b": [
          0.20684173725188815
         ],
         "c": [
          0.17704357387906264
         ],
         "hovertemplate": "%{text}<br>Var (climate): %{a}<br>Var (model): %{b} <br>Var (other): %{c}",
         "line": {
          "width": 1.5
         },
         "marker": {
          "color": "forestgreen",
          "line": {
           "color": "black",
           "width": 1
          },
          "opacity": 1,
          "size": 20,
          "symbol": "star"
         },
         "mode": "markers",
         "name": "Secondary Energy|Electricity|Gas|w/o CCS (1174)",
         "showlegend": false,
         "subplot": "ternary",
         "text": [
          "2100"
         ],
         "textfont": {
          "color": "forestgreen",
          "size": 1
         },
         "type": "scatterternary"
        },
        {
         "a": [
          0.10847358415826297
         ],
         "b": [
          0.43181251393640985
         ],
         "c": [
          0.279982688296783
         ],
         "hovertemplate": "%{text}<br>Var (climate): %{a}<br>Var (model): %{b} <br>Var (other): %{c}",
         "line": {
          "width": 1.5
         },
         "marker": {
          "color": "forestgreen",
          "line": {
           "color": "black",
           "width": 1
          },
          "opacity": 1,
          "size": 20,
          "symbol": "star"
         },
         "mode": "markers",
         "name": "Secondary Energy|Electricity|Nuclear (1194)",
         "showlegend": false,
         "subplot": "ternary",
         "text": [
          "2100"
         ],
         "textfont": {
          "color": "forestgreen",
          "size": 1
         },
         "type": "scatterternary"
        },
        {
         "a": [
          0.14958938628124915
         ],
         "b": [
          0.4666522456383623
         ],
         "c": [
          0.25569178764047684
         ],
         "hovertemplate": "%{text}<br>Var (climate): %{a}<br>Var (model): %{b} <br>Var (other): %{c}",
         "line": {
          "width": 1.5
         },
         "marker": {
          "color": "forestgreen",
          "line": {
           "color": "black",
           "width": 1
          },
          "opacity": 1,
          "size": 20,
          "symbol": "star"
         },
         "mode": "markers",
         "name": "Secondary Energy|Electricity|Solar (1187)",
         "showlegend": false,
         "subplot": "ternary",
         "text": [
          "2100"
         ],
         "textfont": {
          "color": "forestgreen",
          "size": 1
         },
         "type": "scatterternary"
        },
        {
         "a": [
          0.251633795148492
         ],
         "b": [
          0.3980749725147506
         ],
         "c": [
          0.16292111086240182
         ],
         "hovertemplate": "%{text}<br>Var (climate): %{a}<br>Var (model): %{b} <br>Var (other): %{c}",
         "line": {
          "width": 1.5
         },
         "marker": {
          "color": "forestgreen",
          "line": {
           "color": "black",
           "width": 1
          },
          "opacity": 1,
          "size": 20,
          "symbol": "star"
         },
         "mode": "markers",
         "name": "Secondary Energy|Electricity|Wind (1187)",
         "showlegend": false,
         "subplot": "ternary",
         "text": [
          "2100"
         ],
         "textfont": {
          "color": "forestgreen",
          "size": 1
         },
         "type": "scatterternary"
        },
        {
         "a": [
          0.10762569410591624
         ],
         "b": [
          0.6311972592291528
         ],
         "c": [
          0.10090308311830937
         ],
         "hovertemplate": "%{text}<br>Var (climate): %{a}<br>Var (model): %{b} <br>Var (other): %{c}",
         "line": {
          "width": 1.5
         },
         "marker": {
          "color": "forestgreen",
          "line": {
           "color": "black",
           "width": 1
          },
          "opacity": 1,
          "size": 20,
          "symbol": "star"
         },
         "mode": "markers",
         "name": "Secondary Energy|Electricity|Hydro (1194)",
         "showlegend": false,
         "subplot": "ternary",
         "text": [
          "2100"
         ],
         "textfont": {
          "color": "forestgreen",
          "size": 1
         },
         "type": "scatterternary"
        },
        {
         "a": [
          0.1733914194004476
         ],
         "b": [
          0.6758491055488979
         ],
         "c": [
          0.08555660223043951
         ],
         "hovertemplate": "%{text}<br>Var (climate): %{a}<br>Var (model): %{b} <br>Var (other): %{c}",
         "line": {
          "width": 1.5
         },
         "marker": {
          "color": "silver",
          "line": {
           "color": "black",
           "width": 1
          },
          "opacity": 1,
          "size": 20,
          "symbol": "square"
         },
         "mode": "markers",
         "name": "Final Energy|Industry (1096)",
         "showlegend": false,
         "subplot": "ternary",
         "text": [
          "2100"
         ],
         "textfont": {
          "color": "silver",
          "size": 1
         },
         "type": "scatterternary"
        },
        {
         "a": [
          0.25060476444721447
         ],
         "b": [
          0.44672330881865924
         ],
         "c": [
          0.07116031249100717
         ],
         "hovertemplate": "%{text}<br>Var (climate): %{a}<br>Var (model): %{b} <br>Var (other): %{c}",
         "line": {
          "width": 1.5
         },
         "marker": {
          "color": "silver",
          "line": {
           "color": "black",
           "width": 1
          },
          "opacity": 1,
          "size": 20,
          "symbol": "square"
         },
         "mode": "markers",
         "name": "Final Energy|Industry|Solids|Coal (933)",
         "showlegend": false,
         "subplot": "ternary",
         "text": [
          "2100"
         ],
         "textfont": {
          "color": "silver",
          "size": 1
         },
         "type": "scatterternary"
        },
        {
         "a": [
          0.019575978103370667
         ],
         "b": [
          0.5530185713354288
         ],
         "c": [
          0.05123112791728483
         ],
         "hovertemplate": "%{text}<br>Var (climate): %{a}<br>Var (model): %{b} <br>Var (other): %{c}",
         "line": {
          "width": 1.5
         },
         "marker": {
          "color": "silver",
          "line": {
           "color": "black",
           "width": 1
          },
          "opacity": 1,
          "size": 20,
          "symbol": "square"
         },
         "mode": "markers",
         "name": "Final Energy|Industry|Solids|Biomass (933)",
         "showlegend": false,
         "subplot": "ternary",
         "text": [
          "2100"
         ],
         "textfont": {
          "color": "silver",
          "size": 1
         },
         "type": "scatterternary"
        },
        {
         "a": [
          0.12151081087174259
         ],
         "b": [
          0.6030700451446154
         ],
         "c": [
          0.08533140695469292
         ],
         "hovertemplate": "%{text}<br>Var (climate): %{a}<br>Var (model): %{b} <br>Var (other): %{c}",
         "line": {
          "width": 1.5
         },
         "marker": {
          "color": "silver",
          "line": {
           "color": "black",
           "width": 1
          },
          "opacity": 1,
          "size": 20,
          "symbol": "square"
         },
         "mode": "markers",
         "name": "Final Energy|Industry|Liquids (1054)",
         "showlegend": false,
         "subplot": "ternary",
         "text": [
          "2100"
         ],
         "textfont": {
          "color": "silver",
          "size": 1
         },
         "type": "scatterternary"
        },
        {
         "a": [
          0.22194673104993956
         ],
         "b": [
          0.4024507454383936
         ],
         "c": [
          0.1320360490787979
         ],
         "hovertemplate": "%{text}<br>Var (climate): %{a}<br>Var (model): %{b} <br>Var (other): %{c}",
         "line": {
          "width": 1.5
         },
         "marker": {
          "color": "silver",
          "line": {
           "color": "black",
           "width": 1
          },
          "opacity": 1,
          "size": 20,
          "symbol": "square"
         },
         "mode": "markers",
         "name": "Final Energy|Industry|Gases (1054)",
         "showlegend": false,
         "subplot": "ternary",
         "text": [
          "2100"
         ],
         "textfont": {
          "color": "silver",
          "size": 1
         },
         "type": "scatterternary"
        },
        {
         "a": [
          0.14422845619774555
         ],
         "b": [
          0.4488966634496936
         ],
         "c": [
          0.12495145175554874
         ],
         "hovertemplate": "%{text}<br>Var (climate): %{a}<br>Var (model): %{b} <br>Var (other): %{c}",
         "line": {
          "width": 1.5
         },
         "marker": {
          "color": "silver",
          "line": {
           "color": "black",
           "width": 4
          },
          "opacity": 1,
          "size": 20,
          "symbol": "square"
         },
         "mode": "markers",
         "name": "Final Energy|Industry|Electricity (1054)",
         "showlegend": false,
         "subplot": "ternary",
         "text": [
          "2100"
         ],
         "textfont": {
          "color": "silver",
          "size": 1
         },
         "type": "scatterternary"
        },
        {
         "a": [
          0.14982396913079082
         ],
         "b": [
          0.4905486753427284
         ],
         "c": [
          0.18957945951836688
         ],
         "hovertemplate": "%{text}<br>Var (climate): %{a}<br>Var (model): %{b} <br>Var (other): %{c}",
         "line": {
          "width": 1.5
         },
         "marker": {
          "color": "silver",
          "line": {
           "color": "black",
           "width": 1
          },
          "opacity": 1,
          "size": 20,
          "symbol": "square"
         },
         "mode": "markers",
         "name": "Final Energy|Industry|Hydrogen (961)",
         "showlegend": false,
         "subplot": "ternary",
         "text": [
          "2100"
         ],
         "textfont": {
          "color": "silver",
          "size": 1
         },
         "type": "scatterternary"
        },
        {
         "a": [
          0.2776377947591544
         ],
         "b": [
          0.45470300520650975
         ],
         "c": [
          0.17692813479517677
         ],
         "hovertemplate": "%{text}<br>Var (climate): %{a}<br>Var (model): %{b} <br>Var (other): %{c}",
         "line": {
          "width": 1.5
         },
         "marker": {
          "color": "teal",
          "line": {
           "color": "black",
           "width": 1
          },
          "opacity": 1,
          "size": 20,
          "symbol": "cross"
         },
         "mode": "markers",
         "name": "Final Energy|Transportation (1186)",
         "showlegend": false,
         "subplot": "ternary",
         "text": [
          "2100"
         ],
         "textfont": {
          "color": "teal",
          "size": 1
         },
         "type": "scatterternary"
        },
        {
         "a": [
          0.002758021320202983
         ],
         "b": [
          0.45235941129079654
         ],
         "c": [
          0.2907870043558612
         ],
         "hovertemplate": "%{text}<br>Var (climate): %{a}<br>Var (model): %{b} <br>Var (other): %{c}",
         "line": {
          "width": 1.5
         },
         "marker": {
          "color": "teal",
          "line": {
           "color": "black",
           "width": 1
          },
          "opacity": 1,
          "size": 20,
          "symbol": "cross"
         },
         "mode": "markers",
         "name": "Final Energy|Transportation|Gases (996)",
         "showlegend": false,
         "subplot": "ternary",
         "text": [
          "2100"
         ],
         "textfont": {
          "color": "teal",
          "size": 1
         },
         "type": "scatterternary"
        },
        {
         "a": [
          0.30791898992641964
         ],
         "b": [
          0.3873069678266633
         ],
         "c": [
          0.1575619341153677
         ],
         "hovertemplate": "%{text}<br>Var (climate): %{a}<br>Var (model): %{b} <br>Var (other): %{c}",
         "line": {
          "width": 1.5
         },
         "marker": {
          "color": "teal",
          "line": {
           "color": "black",
           "width": 1
          },
          "opacity": 1,
          "size": 20,
          "symbol": "cross"
         },
         "mode": "markers",
         "name": "Final Energy|Transportation|Liquids (1117)",
         "showlegend": false,
         "subplot": "ternary",
         "text": [
          "2100"
         ],
         "textfont": {
          "color": "teal",
          "size": 1
         },
         "type": "scatterternary"
        },
        {
         "a": [
          0.08982938716537953
         ],
         "b": [
          0.32301152197826
         ],
         "c": [
          0.4068673041802732
         ],
         "hovertemplate": "%{text}<br>Var (climate): %{a}<br>Var (model): %{b} <br>Var (other): %{c}",
         "line": {
          "width": 1.5
         },
         "marker": {
          "color": "teal",
          "line": {
           "color": "black",
           "width": 1
          },
          "opacity": 1,
          "size": 20,
          "symbol": "cross"
         },
         "mode": "markers",
         "name": "Final Energy|Transportation|Hydrogen (1113)",
         "showlegend": false,
         "subplot": "ternary",
         "text": [
          "2100"
         ],
         "textfont": {
          "color": "teal",
          "size": 1
         },
         "type": "scatterternary"
        },
        {
         "a": [
          0.14501663307419643
         ],
         "b": [
          0.5074015512973125
         ],
         "c": [
          0.1675088034083139
         ],
         "hovertemplate": "%{text}<br>Var (climate): %{a}<br>Var (model): %{b} <br>Var (other): %{c}",
         "line": {
          "width": 1.5
         },
         "marker": {
          "color": "teal",
          "line": {
           "color": "black",
           "width": 4
          },
          "opacity": 1,
          "size": 20,
          "symbol": "cross"
         },
         "mode": "markers",
         "name": "Final Energy|Transportation|Electricity (1186)",
         "showlegend": false,
         "subplot": "ternary",
         "text": [
          "2100"
         ],
         "textfont": {
          "color": "teal",
          "size": 1
         },
         "type": "scatterternary"
        },
        {
         "a": [
          0.45526281752084
         ],
         "b": [
          0.27971138403231627
         ],
         "c": [
          0.1331875348588517
         ],
         "hovertemplate": "%{text}<br>Var (climate): %{a}<br>Var (model): %{b} <br>Var (other): %{c}",
         "line": {
          "width": 1.5
         },
         "marker": {
          "color": "teal",
          "line": {
           "color": "black",
           "width": 1
          },
          "opacity": 1,
          "size": 20,
          "symbol": "cross"
         },
         "mode": "markers",
         "name": "Final Energy|Transportation|Liquids|Oil (968)",
         "showlegend": false,
         "subplot": "ternary",
         "text": [
          "2100"
         ],
         "textfont": {
          "color": "teal",
          "size": 1
         },
         "type": "scatterternary"
        },
        {
         "a": [
          0.1991839297405928
         ],
         "b": [
          0.395865991337753
         ],
         "c": [
          0.298127161537821
         ],
         "hovertemplate": "%{text}<br>Var (climate): %{a}<br>Var (model): %{b} <br>Var (other): %{c}",
         "line": {
          "width": 1.5
         },
         "marker": {
          "color": "peru",
          "line": {
           "color": "black",
           "width": 1
          },
          "opacity": 1,
          "size": 20,
          "symbol": "star-triangle-up"
         },
         "mode": "markers",
         "name": "Final Energy|Residential and Commercial (1045)",
         "showlegend": false,
         "subplot": "ternary",
         "text": [
          "2100"
         ],
         "textfont": {
          "color": "peru",
          "size": 1
         },
         "type": "scatterternary"
        },
        {
         "a": [
          0.02918770927804553
         ],
         "b": [
          0.533646056045047
         ],
         "c": [
          0.29201287712968954
         ],
         "hovertemplate": "%{text}<br>Var (climate): %{a}<br>Var (model): %{b} <br>Var (other): %{c}",
         "line": {
          "width": 1.5
         },
         "marker": {
          "color": "peru",
          "line": {
           "color": "black",
           "width": 1
          },
          "opacity": 1,
          "size": 20,
          "symbol": "star-triangle-up"
         },
         "mode": "markers",
         "name": "Final Energy|Residential and Commercial|Solids|Biomass (851)",
         "showlegend": false,
         "subplot": "ternary",
         "text": [
          "2100"
         ],
         "textfont": {
          "color": "peru",
          "size": 1
         },
         "type": "scatterternary"
        },
        {
         "a": [
          0.1327269360320759
         ],
         "b": [
          0.540638617441028
         ],
         "c": [
          0.1355100617293544
         ],
         "hovertemplate": "%{text}<br>Var (climate): %{a}<br>Var (model): %{b} <br>Var (other): %{c}",
         "line": {
          "width": 1.5
         },
         "marker": {
          "color": "peru",
          "line": {
           "color": "black",
           "width": 1
          },
          "opacity": 1,
          "size": 20,
          "symbol": "star-triangle-up"
         },
         "mode": "markers",
         "name": "Final Energy|Residential and Commercial|Liquids (955)",
         "showlegend": false,
         "subplot": "ternary",
         "text": [
          "2100"
         ],
         "textfont": {
          "color": "peru",
          "size": 1
         },
         "type": "scatterternary"
        },
        {
         "a": [
          0.4004134670009212
         ],
         "b": [
          0.3232605094017915
         ],
         "c": [
          0.07292088329317646
         ],
         "hovertemplate": "%{text}<br>Var (climate): %{a}<br>Var (model): %{b} <br>Var (other): %{c}",
         "line": {
          "width": 1.5
         },
         "marker": {
          "color": "peru",
          "line": {
           "color": "black",
           "width": 1
          },
          "opacity": 1,
          "size": 20,
          "symbol": "star-triangle-up"
         },
         "mode": "markers",
         "name": "Final Energy|Residential and Commercial|Gases (955)",
         "showlegend": false,
         "subplot": "ternary",
         "text": [
          "2100"
         ],
         "textfont": {
          "color": "peru",
          "size": 1
         },
         "type": "scatterternary"
        },
        {
         "a": [
          0.08619329211459964
         ],
         "b": [
          0.5730796611780976
         ],
         "c": [
          0.1677864989734578
         ],
         "hovertemplate": "%{text}<br>Var (climate): %{a}<br>Var (model): %{b} <br>Var (other): %{c}",
         "line": {
          "width": 1.5
         },
         "marker": {
          "color": "peru",
          "line": {
           "color": "black",
           "width": 4
          },
          "opacity": 1,
          "size": 20,
          "symbol": "star-triangle-up"
         },
         "mode": "markers",
         "name": "Final Energy|Residential and Commercial|Electricity (955)",
         "showlegend": false,
         "subplot": "ternary",
         "text": [
          "2100"
         ],
         "textfont": {
          "color": "peru",
          "size": 1
         },
         "type": "scatterternary"
        }
       ],
       "layout": {
        "annotations": [
         {
          "align": "center",
          "ax": 150,
          "ay": -40,
          "font": {
           "color": "violet",
           "family": "Arial Black",
           "size": 12
          },
          "showarrow": true,
          "text": "Primary energy coal",
          "x": 0.5,
          "xref": "paper",
          "y": 0.725,
          "yref": "paper"
         },
         {
          "align": "center",
          "ax": 210,
          "ay": -40,
          "font": {
           "color": "violet",
           "family": "Arial Black",
           "size": 12
          },
          "showarrow": true,
          "text": "Primary energy oil",
          "x": 0.49,
          "xref": "paper",
          "y": 0.62,
          "yref": "paper"
         },
         {
          "align": "center",
          "ax": 120,
          "ay": -30,
          "font": {
           "color": "goldenrod",
           "family": "Arial Black",
           "size": 12
          },
          "showarrow": true,
          "text": "Kyoto gas emissions",
          "x": 0.51,
          "xref": "paper",
          "y": 0.905,
          "yref": "paper"
         },
         {
          "align": "center",
          "ax": 150,
          "ay": -60,
          "font": {
           "color": "forestgreen",
           "family": "Arial Black",
           "size": 12
          },
          "showarrow": true,
          "text": "Coal (w/o CCS) in<br>electricity production",
          "x": 0.52,
          "xref": "paper",
          "y": 0.765,
          "yref": "paper"
         },
         {
          "align": "center",
          "ax": -120,
          "ay": -120,
          "font": {
           "color": "silver",
           "family": "Arial Black",
           "size": 12
          },
          "showarrow": true,
          "text": "Electricity usage<br>in industry",
          "x": 0.385,
          "xref": "paper",
          "y": 0.235,
          "yref": "paper"
         },
         {
          "align": "center",
          "ax": 200,
          "ay": -40,
          "font": {
           "color": "teal",
           "family": "Arial Black",
           "size": 12
          },
          "showarrow": true,
          "text": "Electricity usage<br>in transport",
          "x": 0.395,
          "xref": "paper",
          "y": 0.205,
          "yref": "paper"
         },
         {
          "align": "center",
          "ax": 180,
          "ay": 40,
          "font": {
           "color": "peru",
           "family": "Arial Black",
           "size": 12
          },
          "showarrow": true,
          "text": "Electricity usage<br>in residential",
          "x": 0.38,
          "xref": "paper",
          "y": 0.145,
          "yref": "paper"
         }
        ],
        "height": 870,
        "template": {
         "data": {
          "bar": [
           {
            "error_x": {
             "color": "#2a3f5f"
            },
            "error_y": {
             "color": "#2a3f5f"
            },
            "marker": {
             "line": {
              "color": "#E5ECF6",
              "width": 0.5
             },
             "pattern": {
              "fillmode": "overlay",
              "size": 10,
              "solidity": 0.2
             }
            },
            "type": "bar"
           }
          ],
          "barpolar": [
           {
            "marker": {
             "line": {
              "color": "#E5ECF6",
              "width": 0.5
             },
             "pattern": {
              "fillmode": "overlay",
              "size": 10,
              "solidity": 0.2
             }
            },
            "type": "barpolar"
           }
          ],
          "carpet": [
           {
            "aaxis": {
             "endlinecolor": "#2a3f5f",
             "gridcolor": "white",
             "linecolor": "white",
             "minorgridcolor": "white",
             "startlinecolor": "#2a3f5f"
            },
            "baxis": {
             "endlinecolor": "#2a3f5f",
             "gridcolor": "white",
             "linecolor": "white",
             "minorgridcolor": "white",
             "startlinecolor": "#2a3f5f"
            },
            "type": "carpet"
           }
          ],
          "choropleth": [
           {
            "colorbar": {
             "outlinewidth": 0,
             "ticks": ""
            },
            "type": "choropleth"
           }
          ],
          "contour": [
           {
            "colorbar": {
             "outlinewidth": 0,
             "ticks": ""
            },
            "colorscale": [
             [
              0,
              "#0d0887"
             ],
             [
              0.1111111111111111,
              "#46039f"
             ],
             [
              0.2222222222222222,
              "#7201a8"
             ],
             [
              0.3333333333333333,
              "#9c179e"
             ],
             [
              0.4444444444444444,
              "#bd3786"
             ],
             [
              0.5555555555555556,
              "#d8576b"
             ],
             [
              0.6666666666666666,
              "#ed7953"
             ],
             [
              0.7777777777777778,
              "#fb9f3a"
             ],
             [
              0.8888888888888888,
              "#fdca26"
             ],
             [
              1,
              "#f0f921"
             ]
            ],
            "type": "contour"
           }
          ],
          "contourcarpet": [
           {
            "colorbar": {
             "outlinewidth": 0,
             "ticks": ""
            },
            "type": "contourcarpet"
           }
          ],
          "heatmap": [
           {
            "colorbar": {
             "outlinewidth": 0,
             "ticks": ""
            },
            "colorscale": [
             [
              0,
              "#0d0887"
             ],
             [
              0.1111111111111111,
              "#46039f"
             ],
             [
              0.2222222222222222,
              "#7201a8"
             ],
             [
              0.3333333333333333,
              "#9c179e"
             ],
             [
              0.4444444444444444,
              "#bd3786"
             ],
             [
              0.5555555555555556,
              "#d8576b"
             ],
             [
              0.6666666666666666,
              "#ed7953"
             ],
             [
              0.7777777777777778,
              "#fb9f3a"
             ],
             [
              0.8888888888888888,
              "#fdca26"
             ],
             [
              1,
              "#f0f921"
             ]
            ],
            "type": "heatmap"
           }
          ],
          "heatmapgl": [
           {
            "colorbar": {
             "outlinewidth": 0,
             "ticks": ""
            },
            "colorscale": [
             [
              0,
              "#0d0887"
             ],
             [
              0.1111111111111111,
              "#46039f"
             ],
             [
              0.2222222222222222,
              "#7201a8"
             ],
             [
              0.3333333333333333,
              "#9c179e"
             ],
             [
              0.4444444444444444,
              "#bd3786"
             ],
             [
              0.5555555555555556,
              "#d8576b"
             ],
             [
              0.6666666666666666,
              "#ed7953"
             ],
             [
              0.7777777777777778,
              "#fb9f3a"
             ],
             [
              0.8888888888888888,
              "#fdca26"
             ],
             [
              1,
              "#f0f921"
             ]
            ],
            "type": "heatmapgl"
           }
          ],
          "histogram": [
           {
            "marker": {
             "pattern": {
              "fillmode": "overlay",
              "size": 10,
              "solidity": 0.2
             }
            },
            "type": "histogram"
           }
          ],
          "histogram2d": [
           {
            "colorbar": {
             "outlinewidth": 0,
             "ticks": ""
            },
            "colorscale": [
             [
              0,
              "#0d0887"
             ],
             [
              0.1111111111111111,
              "#46039f"
             ],
             [
              0.2222222222222222,
              "#7201a8"
             ],
             [
              0.3333333333333333,
              "#9c179e"
             ],
             [
              0.4444444444444444,
              "#bd3786"
             ],
             [
              0.5555555555555556,
              "#d8576b"
             ],
             [
              0.6666666666666666,
              "#ed7953"
             ],
             [
              0.7777777777777778,
              "#fb9f3a"
             ],
             [
              0.8888888888888888,
              "#fdca26"
             ],
             [
              1,
              "#f0f921"
             ]
            ],
            "type": "histogram2d"
           }
          ],
          "histogram2dcontour": [
           {
            "colorbar": {
             "outlinewidth": 0,
             "ticks": ""
            },
            "colorscale": [
             [
              0,
              "#0d0887"
             ],
             [
              0.1111111111111111,
              "#46039f"
             ],
             [
              0.2222222222222222,
              "#7201a8"
             ],
             [
              0.3333333333333333,
              "#9c179e"
             ],
             [
              0.4444444444444444,
              "#bd3786"
             ],
             [
              0.5555555555555556,
              "#d8576b"
             ],
             [
              0.6666666666666666,
              "#ed7953"
             ],
             [
              0.7777777777777778,
              "#fb9f3a"
             ],
             [
              0.8888888888888888,
              "#fdca26"
             ],
             [
              1,
              "#f0f921"
             ]
            ],
            "type": "histogram2dcontour"
           }
          ],
          "mesh3d": [
           {
            "colorbar": {
             "outlinewidth": 0,
             "ticks": ""
            },
            "type": "mesh3d"
           }
          ],
          "parcoords": [
           {
            "line": {
             "colorbar": {
              "outlinewidth": 0,
              "ticks": ""
             }
            },
            "type": "parcoords"
           }
          ],
          "pie": [
           {
            "automargin": true,
            "type": "pie"
           }
          ],
          "scatter": [
           {
            "marker": {
             "colorbar": {
              "outlinewidth": 0,
              "ticks": ""
             }
            },
            "type": "scatter"
           }
          ],
          "scatter3d": [
           {
            "line": {
             "colorbar": {
              "outlinewidth": 0,
              "ticks": ""
             }
            },
            "marker": {
             "colorbar": {
              "outlinewidth": 0,
              "ticks": ""
             }
            },
            "type": "scatter3d"
           }
          ],
          "scattercarpet": [
           {
            "marker": {
             "colorbar": {
              "outlinewidth": 0,
              "ticks": ""
             }
            },
            "type": "scattercarpet"
           }
          ],
          "scattergeo": [
           {
            "marker": {
             "colorbar": {
              "outlinewidth": 0,
              "ticks": ""
             }
            },
            "type": "scattergeo"
           }
          ],
          "scattergl": [
           {
            "marker": {
             "colorbar": {
              "outlinewidth": 0,
              "ticks": ""
             }
            },
            "type": "scattergl"
           }
          ],
          "scattermapbox": [
           {
            "marker": {
             "colorbar": {
              "outlinewidth": 0,
              "ticks": ""
             }
            },
            "type": "scattermapbox"
           }
          ],
          "scatterpolar": [
           {
            "marker": {
             "colorbar": {
              "outlinewidth": 0,
              "ticks": ""
             }
            },
            "type": "scatterpolar"
           }
          ],
          "scatterpolargl": [
           {
            "marker": {
             "colorbar": {
              "outlinewidth": 0,
              "ticks": ""
             }
            },
            "type": "scatterpolargl"
           }
          ],
          "scatterternary": [
           {
            "marker": {
             "colorbar": {
              "outlinewidth": 0,
              "ticks": ""
             }
            },
            "type": "scatterternary"
           }
          ],
          "surface": [
           {
            "colorbar": {
             "outlinewidth": 0,
             "ticks": ""
            },
            "colorscale": [
             [
              0,
              "#0d0887"
             ],
             [
              0.1111111111111111,
              "#46039f"
             ],
             [
              0.2222222222222222,
              "#7201a8"
             ],
             [
              0.3333333333333333,
              "#9c179e"
             ],
             [
              0.4444444444444444,
              "#bd3786"
             ],
             [
              0.5555555555555556,
              "#d8576b"
             ],
             [
              0.6666666666666666,
              "#ed7953"
             ],
             [
              0.7777777777777778,
              "#fb9f3a"
             ],
             [
              0.8888888888888888,
              "#fdca26"
             ],
             [
              1,
              "#f0f921"
             ]
            ],
            "type": "surface"
           }
          ],
          "table": [
           {
            "cells": {
             "fill": {
              "color": "#EBF0F8"
             },
             "line": {
              "color": "white"
             }
            },
            "header": {
             "fill": {
              "color": "#C8D4E3"
             },
             "line": {
              "color": "white"
             }
            },
            "type": "table"
           }
          ]
         },
         "layout": {
          "annotationdefaults": {
           "arrowcolor": "#2a3f5f",
           "arrowhead": 0,
           "arrowwidth": 1
          },
          "autotypenumbers": "strict",
          "coloraxis": {
           "colorbar": {
            "outlinewidth": 0,
            "ticks": ""
           }
          },
          "colorscale": {
           "diverging": [
            [
             0,
             "#8e0152"
            ],
            [
             0.1,
             "#c51b7d"
            ],
            [
             0.2,
             "#de77ae"
            ],
            [
             0.3,
             "#f1b6da"
            ],
            [
             0.4,
             "#fde0ef"
            ],
            [
             0.5,
             "#f7f7f7"
            ],
            [
             0.6,
             "#e6f5d0"
            ],
            [
             0.7,
             "#b8e186"
            ],
            [
             0.8,
             "#7fbc41"
            ],
            [
             0.9,
             "#4d9221"
            ],
            [
             1,
             "#276419"
            ]
           ],
           "sequential": [
            [
             0,
             "#0d0887"
            ],
            [
             0.1111111111111111,
             "#46039f"
            ],
            [
             0.2222222222222222,
             "#7201a8"
            ],
            [
             0.3333333333333333,
             "#9c179e"
            ],
            [
             0.4444444444444444,
             "#bd3786"
            ],
            [
             0.5555555555555556,
             "#d8576b"
            ],
            [
             0.6666666666666666,
             "#ed7953"
            ],
            [
             0.7777777777777778,
             "#fb9f3a"
            ],
            [
             0.8888888888888888,
             "#fdca26"
            ],
            [
             1,
             "#f0f921"
            ]
           ],
           "sequentialminus": [
            [
             0,
             "#0d0887"
            ],
            [
             0.1111111111111111,
             "#46039f"
            ],
            [
             0.2222222222222222,
             "#7201a8"
            ],
            [
             0.3333333333333333,
             "#9c179e"
            ],
            [
             0.4444444444444444,
             "#bd3786"
            ],
            [
             0.5555555555555556,
             "#d8576b"
            ],
            [
             0.6666666666666666,
             "#ed7953"
            ],
            [
             0.7777777777777778,
             "#fb9f3a"
            ],
            [
             0.8888888888888888,
             "#fdca26"
            ],
            [
             1,
             "#f0f921"
            ]
           ]
          },
          "colorway": [
           "#636efa",
           "#EF553B",
           "#00cc96",
           "#ab63fa",
           "#FFA15A",
           "#19d3f3",
           "#FF6692",
           "#B6E880",
           "#FF97FF",
           "#FECB52"
          ],
          "font": {
           "color": "#2a3f5f"
          },
          "geo": {
           "bgcolor": "white",
           "lakecolor": "white",
           "landcolor": "#E5ECF6",
           "showlakes": true,
           "showland": true,
           "subunitcolor": "white"
          },
          "hoverlabel": {
           "align": "left"
          },
          "hovermode": "closest",
          "mapbox": {
           "style": "light"
          },
          "paper_bgcolor": "white",
          "plot_bgcolor": "#E5ECF6",
          "polar": {
           "angularaxis": {
            "gridcolor": "white",
            "linecolor": "white",
            "ticks": ""
           },
           "bgcolor": "#E5ECF6",
           "radialaxis": {
            "gridcolor": "white",
            "linecolor": "white",
            "ticks": ""
           }
          },
          "scene": {
           "xaxis": {
            "backgroundcolor": "#E5ECF6",
            "gridcolor": "white",
            "gridwidth": 2,
            "linecolor": "white",
            "showbackground": true,
            "ticks": "",
            "zerolinecolor": "white"
           },
           "yaxis": {
            "backgroundcolor": "#E5ECF6",
            "gridcolor": "white",
            "gridwidth": 2,
            "linecolor": "white",
            "showbackground": true,
            "ticks": "",
            "zerolinecolor": "white"
           },
           "zaxis": {
            "backgroundcolor": "#E5ECF6",
            "gridcolor": "white",
            "gridwidth": 2,
            "linecolor": "white",
            "showbackground": true,
            "ticks": "",
            "zerolinecolor": "white"
           }
          },
          "shapedefaults": {
           "line": {
            "color": "#2a3f5f"
           }
          },
          "ternary": {
           "aaxis": {
            "gridcolor": "white",
            "linecolor": "white",
            "ticks": ""
           },
           "baxis": {
            "gridcolor": "white",
            "linecolor": "white",
            "ticks": ""
           },
           "bgcolor": "#E5ECF6",
           "caxis": {
            "gridcolor": "white",
            "linecolor": "white",
            "ticks": ""
           }
          },
          "title": {
           "x": 0.05
          },
          "xaxis": {
           "automargin": true,
           "gridcolor": "white",
           "linecolor": "white",
           "ticks": "",
           "title": {
            "standoff": 15
           },
           "zerolinecolor": "white",
           "zerolinewidth": 2
          },
          "yaxis": {
           "automargin": true,
           "gridcolor": "white",
           "linecolor": "white",
           "ticks": "",
           "title": {
            "standoff": 15
           },
           "zerolinecolor": "white",
           "zerolinewidth": 2
          }
         }
        },
        "ternary": {
         "aaxis": {
          "linewidth": 0,
          "min": 0,
          "tickfont": {
           "size": 12
          },
          "tickmode": "array",
          "ticks": "outside",
          "ticktext": [
           "50%",
           "60%",
           "70%",
           "80%",
           "90%",
           "100%"
          ],
          "tickvals": [
           0.5,
           0.6,
           0.7,
           0.8,
           0.9,
           1
          ],
          "title": {
           "text": "Climate target<br>"
          }
         },
         "baxis": {
          "linewidth": 2,
          "min": 0,
          "tickangle": 60,
          "tickfont": {
           "size": 12
          },
          "tickmode": "array",
          "ticks": "outside",
          "ticktext": [
           "50%",
           "60%",
           "70%",
           "80%",
           "90%",
           "100%"
          ],
          "tickvals": [
           0.5,
           0.6,
           0.7,
           0.8,
           0.9,
           1
          ],
          "title": {
           "text": "Model &nbsp; &nbsp;"
          }
         },
         "bgcolor": "whitesmoke",
         "caxis": {
          "linewidth": 2,
          "min": 0,
          "tickangle": -60,
          "tickfont": {
           "size": 12
          },
          "tickmode": "array",
          "ticks": "outside",
          "ticktext": [
           "50%",
           "60%",
           "70%",
           "80%",
           "90%",
           "100%"
          ],
          "tickvals": [
           0.5,
           0.6,
           0.7,
           0.8,
           0.9,
           1
          ],
          "title": {
           "text": "Other scenario<br>assumptions"
          }
         },
         "domain": {
          "x": [
           0.255,
           0.745
          ],
          "y": [
           0,
           0.9999999999999999
          ]
         },
         "sum": 1
        },
        "width": 1620,
        "xaxis": {
         "anchor": "y",
         "domain": [
          0.51,
          0.745
         ]
        },
        "xaxis10": {
         "anchor": "y10",
         "domain": [
          0.51,
          0.745
         ]
        },
        "xaxis11": {
         "anchor": "y11",
         "domain": [
          0.7649999999999999,
          0.9999999999999999
         ]
        },
        "xaxis12": {
         "anchor": "y12",
         "domain": [
          0.255,
          0.49
         ]
        },
        "xaxis13": {
         "anchor": "y13",
         "domain": [
          0.51,
          0.745
         ]
        },
        "xaxis14": {
         "anchor": "y14",
         "domain": [
          0,
          0.235
         ]
        },
        "xaxis15": {
         "anchor": "y15",
         "domain": [
          0.255,
          0.49
         ]
        },
        "xaxis16": {
         "anchor": "y16",
         "domain": [
          0.51,
          0.745
         ]
        },
        "xaxis17": {
         "anchor": "y17",
         "domain": [
          0.7649999999999999,
          0.9999999999999999
         ]
        },
        "xaxis2": {
         "anchor": "y2",
         "domain": [
          0,
          0.235
         ]
        },
        "xaxis3": {
         "anchor": "y3",
         "domain": [
          0.255,
          0.49
         ]
        },
        "xaxis4": {
         "anchor": "y4",
         "domain": [
          0.51,
          0.745
         ]
        },
        "xaxis5": {
         "anchor": "y5",
         "domain": [
          0.7649999999999999,
          0.9999999999999999
         ]
        },
        "xaxis6": {
         "anchor": "y6",
         "domain": [
          0.255,
          0.49
         ]
        },
        "xaxis7": {
         "anchor": "y7",
         "domain": [
          0.51,
          0.745
         ]
        },
        "xaxis8": {
         "anchor": "y8",
         "domain": [
          0,
          0.235
         ]
        },
        "xaxis9": {
         "anchor": "y9",
         "domain": [
          0.255,
          0.49
         ]
        },
        "yaxis": {
         "anchor": "x",
         "domain": [
          0.8333333333333333,
          0.9999999999999999
         ]
        },
        "yaxis10": {
         "anchor": "x10",
         "domain": [
          0.3333333333333333,
          0.5
         ]
        },
        "yaxis11": {
         "anchor": "x11",
         "domain": [
          0.3333333333333333,
          0.5
         ]
        },
        "yaxis12": {
         "anchor": "x12",
         "domain": [
          0.16666666666666666,
          0.3333333333333333
         ]
        },
        "yaxis13": {
         "anchor": "x13",
         "domain": [
          0.16666666666666666,
          0.3333333333333333
         ]
        },
        "yaxis14": {
         "anchor": "x14",
         "domain": [
          0,
          0.16666666666666666
         ]
        },
        "yaxis15": {
         "anchor": "x15",
         "domain": [
          0,
          0.16666666666666666
         ]
        },
        "yaxis16": {
         "anchor": "x16",
         "domain": [
          0,
          0.16666666666666666
         ]
        },
        "yaxis17": {
         "anchor": "x17",
         "domain": [
          0,
          0.16666666666666666
         ]
        },
        "yaxis2": {
         "anchor": "x2",
         "domain": [
          0.6666666666666666,
          0.8333333333333333
         ]
        },
        "yaxis3": {
         "anchor": "x3",
         "domain": [
          0.6666666666666666,
          0.8333333333333333
         ]
        },
        "yaxis4": {
         "anchor": "x4",
         "domain": [
          0.6666666666666666,
          0.8333333333333333
         ]
        },
        "yaxis5": {
         "anchor": "x5",
         "domain": [
          0.6666666666666666,
          0.8333333333333333
         ]
        },
        "yaxis6": {
         "anchor": "x6",
         "domain": [
          0.5,
          0.6666666666666666
         ]
        },
        "yaxis7": {
         "anchor": "x7",
         "domain": [
          0.5,
          0.6666666666666666
         ]
        },
        "yaxis8": {
         "anchor": "x8",
         "domain": [
          0.3333333333333333,
          0.5
         ]
        },
        "yaxis9": {
         "anchor": "x9",
         "domain": [
          0.3333333333333333,
          0.5
         ]
        }
       }
      }
     },
     "metadata": {},
     "output_type": "display_data"
    }
   ],
   "source": [
    "fig = make_subplots(\n",
    "    rows=6, cols=4,\n",
    "    horizontal_spacing = 0.02,\n",
    "    vertical_spacing=0,\n",
    "    # column_widths = [0.15, 0.7, 0.15],\n",
    "    # row_heights = [0.15, 0.7, 0.15],\n",
    "    specs = [[{\"type\": \"table\", \"rowspan\": 2}, {\"type\": \"scatterternary\", \"colspan\": 2, \"rowspan\": 6}, {}, {\"type\": \"table\", \"rowspan\": 2}],\n",
    "             [{}, {}, {}, {}],\n",
    "             [{\"type\": \"table\", \"rowspan\": 2}, {}, {}, {\"type\": \"table\", \"rowspan\": 2}],\n",
    "             [{}, {}, {}, {}],\n",
    "             [{\"type\": \"table\", \"rowspan\": 2}, {}, {}, {\"type\": \"table\", \"rowspan\": 2}],\n",
    "             [{}, {}, {}, {}]\n",
    "            ]\n",
    ")\n",
    "\n",
    "fig.add_trace(tables[0], 1, 1)\n",
    "fig.add_trace(tables[1], 3, 1)\n",
    "fig.add_trace(tables[5], 5, 1)\n",
    "\n",
    "fig.add_trace(tables[3], 1, 4)\n",
    "fig.add_trace(tables[4], 3, 4)\n",
    "fig.add_trace(tables[2], 5, 4)\n",
    "\n",
    "for n in range(len(trace_ternary_lines)):\n",
    "    fig.add_trace(trace_ternary_lines[n], 1, 2)\n",
    "for n in range(len(trace_ternary_border)):\n",
    "    fig.add_trace(trace_ternary_border[n], 1, 2)\n",
    "for n in range(len(scatters)):\n",
    "    fig.add_trace(scatters[n], 1, 2)\n",
    "fig.update_layout(height=870, width=1620)\n",
    "fig.update_layout({#'margin':dict(l=0,r=0,b=0,t=0),\n",
    "'ternary':\n",
    "{'sum':1,\n",
    "'bgcolor':'whitesmoke',\n",
    "'aaxis':{'title': 'Climate target<br>', 'min': 0, \n",
    "        'linewidth':0, 'ticks':'outside',\n",
    "        'tickmode':'array','tickvals':[0.5, 0.6, 0.7, 0.8, 0.9, 1.0], 'ticktext':['50%', '60%', '70%', '80%', '90%', '100%'], 'tickfont':{'size':12}},\n",
    "'baxis':{'title': 'Model &nbsp; &nbsp;', 'min': 0, \n",
    "        'linewidth':2, 'ticks':'outside',\n",
    "        'tickmode':'array','tickvals':[0.5, 0.6, 0.7, 0.8, 0.9, 1.0], 'ticktext':['50%', '60%', '70%', '80%', '90%', '100%'],'tickangle':60, 'tickfont':{'size':12}},\n",
    "'caxis':{'title': 'Other scenario<br>assumptions', 'min': 0, \n",
    "        'linewidth':2, 'ticks':'outside',\n",
    "        'tickmode':'array','tickvals':[0.5, 0.6, 0.7, 0.8, 0.9, 1.0], 'ticktext':['50%', '60%', '70%', '80%', '90%', '100%'],'tickangle':-60, 'tickfont':{'size':12}}}})\n",
    "\n",
    "draw_line(fig, \"Primary energy coal\", 0.5, 0.725, 150, -40, \"violet\")\n",
    "draw_line(fig, \"Primary energy oil\", 0.49, 0.62, 210, -40, \"violet\")\n",
    "draw_line(fig, \"Kyoto gas emissions\", 0.51, 0.905, 120, -30, \"goldenrod\")\n",
    "draw_line(fig, \"Coal (w/o CCS) in<br>electricity production\", 0.52, 0.765, 150, -60, \"forestgreen\")\n",
    "draw_line(fig, \"Electricity usage<br>in industry\", 0.385, 0.235, -120, -120, \"silver\")\n",
    "draw_line(fig, \"Electricity usage<br>in transport\", 0.395, 0.205, 200, -40, \"teal\")\n",
    "draw_line(fig, \"Electricity usage<br>in residential\", 0.38, 0.145, 180, 40, \"peru\")\n",
    "fig.show()"
   ]
  },
  {
   "cell_type": "markdown",
   "metadata": {},
   "source": [
    "## Savings"
   ]
  },
  {
   "cell_type": "code",
   "execution_count": 26,
   "metadata": {},
   "outputs": [],
   "source": [
    "try:\n",
    "    os.remove('Figures/Paperfigures/Figure_3.html')\n",
    "except:\n",
    "    3\n",
    "def html_w(typ):\n",
    "    return '<html> '+typ+' <p style=\"font-family: Arial\">'\n",
    "\n",
    "fig.write_image(\"Figures/Paperfigures/Figure_3.pdf\")\n",
    "fig.write_image(\"Figures/Paperfigures/Figure_3.png\", scale=3)\n",
    "today = date.today()\n",
    "td = today.strftime(\"%B %d, %Y\")\n",
    "\n",
    "with open('Figures/Paperfigures/Figure_3.html', 'a') as f:\n",
    "    f.write(html_w('<h1>')+'Figure 3 - Overview</p></h1>')\n",
    "    f.write(html_w('<body>')+'Data is for year '+str(timestamp)+'. Version: '+td+'</p></body>')\n",
    "    f.write(fig.to_html(full_html=False, include_plotlyjs='cdn'))"
   ]
  }
 ],
 "metadata": {
  "interpreter": {
   "hash": "36d5d389870ab01fa625d0d5123f82469a3683fa0e02c4f7e9e76e9a75345aa3"
  },
  "kernelspec": {
   "display_name": "Python 3.9.11 ('MyEnv')",
   "language": "python",
   "name": "python3"
  },
  "language_info": {
   "codemirror_mode": {
    "name": "ipython",
    "version": 3
   },
   "file_extension": ".py",
   "mimetype": "text/x-python",
   "name": "python",
   "nbconvert_exporter": "python",
   "pygments_lexer": "ipython3",
   "version": "3.9.11"
  },
  "orig_nbformat": 4
 },
 "nbformat": 4,
 "nbformat_minor": 2
}
