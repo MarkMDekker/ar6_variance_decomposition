{
 "cells": [
  {
   "cell_type": "markdown",
   "metadata": {},
   "source": [
    "## Preambule"
   ]
  },
  {
   "cell_type": "code",
<<<<<<< HEAD
   "execution_count": 501,
=======
   "execution_count": 14,
>>>>>>> 5c0e54aca78664d6bd1c9757282795ba99d164ef
   "metadata": {},
   "outputs": [],
   "source": [
    "import numpy as np\n",
    "import xarray as xr\n",
    "from importlib import reload\n",
    "import Plotfunctions\n",
    "import pandas as pd\n",
    "import plotly.express as px\n",
    "from plotly.colors import n_colors\n",
    "from plotly.subplots import make_subplots\n",
    "import os\n",
<<<<<<< HEAD
    "import plotly.figure_factory as ff\n",
=======
>>>>>>> 5c0e54aca78664d6bd1c9757282795ba99d164ef
    "import matplotlib as mpl\n",
    "import plotly.io\n",
    "from pathlib import Path\n",
    "import matplotlib.pyplot as plt\n",
    "from datetime import date\n",
    "reload(Plotfunctions)\n",
    "import plotly.graph_objects as go\n",
    "from Plotfunctions import triangleplot, tableplot, spaghettiplot, draw_line\n",
    "path = Path.cwd() / \"Data\""
   ]
  },
  {
   "cell_type": "markdown",
   "metadata": {},
   "source": [
<<<<<<< HEAD
    "## With or without C8?"
   ]
  },
  {
   "cell_type": "code",
   "execution_count": 502,
   "metadata": {},
   "outputs": [],
   "source": [
    "st = \"\""
   ]
  },
  {
   "cell_type": "markdown",
   "metadata": {},
   "source": [
=======
>>>>>>> 5c0e54aca78664d6bd1c9757282795ba99d164ef
    "## Parameters"
   ]
  },
  {
   "cell_type": "code",
<<<<<<< HEAD
   "execution_count": 503,
=======
   "execution_count": 15,
>>>>>>> 5c0e54aca78664d6bd1c9757282795ba99d164ef
   "metadata": {},
   "outputs": [],
   "source": [
    "timestamp = 2050\n",
    "srt = 2 # 1=model, 2=ccat"
   ]
  },
  {
   "cell_type": "markdown",
   "metadata": {},
   "source": [
    "## Prereading stuff"
   ]
  },
  {
   "cell_type": "code",
<<<<<<< HEAD
   "execution_count": 504,
=======
   "execution_count": 16,
>>>>>>> 5c0e54aca78664d6bd1c9757282795ba99d164ef
   "metadata": {},
   "outputs": [],
   "source": [
    "try:\n",
    "    XRvar.close()\n",
    "except:\n",
    "    3\n",
<<<<<<< HEAD
    "XRvar = xr.open_dataset(path / (\"Variances\"+st+\".nc\"))\n",
=======
    "XRvar = xr.open_dataset(path / \"Variances.nc\")\n",
>>>>>>> 5c0e54aca78664d6bd1c9757282795ba99d164ef
    "XRvarsub = XRvar.sel(Time=timestamp)"
   ]
  },
  {
   "cell_type": "code",
<<<<<<< HEAD
   "execution_count": 505,
   "metadata": {},
   "outputs": [],
   "source": [
    "remove_vars = [\"Primary Energy|Other\",\n",
    "               \"Primary Energy|Non-Biomass Renewables\",\n",
    "               \"Secondary Energy|Electricity|Non-Biomass Renewables\",\n",
    "               \"Primary Energy|Ocean\",\n",
    "               \"Secondary Energy|Electricity|Ocean\",\n",
    "               \"Secondary Energy|Electricity|Other\"]\n",
    "Varlist = pd.read_excel(path / \"Varlist.xlsx\", sheet_name = \"Data\")\n",
    "vars = np.array(Varlist[\"Variable\"])\n",
    "cats = np.array(Varlist[\"Category\"])\n",
    "Names = np.unique(cats)\n",
    "for r in remove_vars:\n",
    "    wh = np.where((vars != r))[0]\n",
    "    vars = vars[wh]\n",
    "    cats = cats[wh]"
=======
   "execution_count": 17,
   "metadata": {},
   "outputs": [],
   "source": [
    "Varlist = pd.read_excel(path / \"Varlist_noadd.xlsx\", sheet_name = \"Data\")\n",
    "vars = np.array(Varlist[\"Variable\"])\n",
    "cats = np.array(Varlist[\"Category\"])\n",
    "Names = np.unique(cats)"
>>>>>>> 5c0e54aca78664d6bd1c9757282795ba99d164ef
   ]
  },
  {
   "cell_type": "code",
<<<<<<< HEAD
   "execution_count": 506,
   "metadata": {},
   "outputs": [],
   "source": [
    "XRraw = xr.open_dataset(path / (\"XRdata\"+st+\".nc\"))\n",
    "XRmeta = xr.open_dataset(path / (\"XRmeta\"+st+\".nc\"))\n",
    "DF = pd.read_csv(path / (\"Models\"+st+\".csv\"))\n",
=======
   "execution_count": 18,
   "metadata": {},
   "outputs": [],
   "source": [
    "XRraw = xr.open_dataset(path / \"XRdata.nc\")\n",
    "XRmeta = xr.open_dataset(path / \"XRmeta.nc\")\n",
    "DF = pd.read_csv(path / \"Models.csv\")\n",
>>>>>>> 5c0e54aca78664d6bd1c9757282795ba99d164ef
    "values = np.array(XRraw.Value)\n",
    "modscens = np.array(XRraw.ModelScenario)\n",
    "mods = np.array([i.split('|')[0] for i in modscens])\n",
    "ccat = np.array(XRmeta.sel(ModelScenario=XRraw.ModelScenario).Category.data)\n",
    "unimods = np.unique(mods)\n",
    "uniccat = np.unique(ccat)"
   ]
  },
  {
   "cell_type": "code",
<<<<<<< HEAD
   "execution_count": 507,
=======
   "execution_count": 19,
>>>>>>> 5c0e54aca78664d6bd1c9757282795ba99d164ef
   "metadata": {},
   "outputs": [],
   "source": [
    "XR = XRvar.sel(Variable = vars[cats == \"Primary Energy\"])\n",
<<<<<<< HEAD
    "DF_counts = pd.read_csv(\"X:/user/dekkerm/Projects/AR6_Variance/variancedecomposition/Data/Counts\"+st+\".csv\", index_col=0)\n",
=======
    "DF_counts = pd.read_csv(\"X:/user/dekkerm/Projects/AR6_Variance/variancedecomposition/Data/Counts.csv\", index_col=0)\n",
>>>>>>> 5c0e54aca78664d6bd1c9757282795ba99d164ef
    "XR = XR.sel(Time=range(2030,2101))\n",
    "varlist = XR.Variable.data\n",
    "years = XR.Time.data\n",
    "varmax = np.max(XR['Var_total']).data\n",
    "cols = ['forestgreen', 'tomato', 'steelblue', 'goldenrod', 'purple', 'grey', 'brown',\n",
    "        'magenta', 'red', 'darkgrey', 'blue', 'black', 'darkgreen']\n",
    "years_str = np.copy(years).astype(str)\n",
    "years_str[(years_str != '2050') & (years_str != '2100')] = ''"
   ]
  },
  {
   "cell_type": "code",
<<<<<<< HEAD
   "execution_count": 508,
   "metadata": {},
   "outputs": [],
   "source": [
    "tot = np.array(XR.sel(Time=timestamp).S_c)+np.array(XR.sel(Time=timestamp).S_z)+np.array(XR.sel(Time=timestamp).S_m)\n",
=======
   "execution_count": 20,
   "metadata": {},
   "outputs": [],
   "source": [
    "tot = np.array(XR.sel(Time=2050).S_c)+np.array(XR.sel(Time=2050).S_z)+np.array(XR.sel(Time=2050).S_m)\n",
>>>>>>> 5c0e54aca78664d6bd1c9757282795ba99d164ef
    "ar = np.array([np.array(XR.Variable),\n",
    "np.array(XR.sel(Time=timestamp).S_m/tot).round(2),\n",
    "np.array(XR.sel(Time=timestamp).S_c/tot).round(2),\n",
    "np.array(XR.sel(Time=timestamp).S_z/tot).round(2)])\n",
    "\n",
    "colors = n_colors('rgb(255, 200, 200)', 'rgb(200, 0, 0)', 100, colortype='rgb')\n",
    "bar = px.colors.diverging.RdBu_r\n",
    "colors = []\n",
    "for i in range(len(bar)-1):\n",
    "        colors = colors+n_colors(px.colors.diverging.RdBu_r[i], px.colors.diverging.RdBu_r[i+1], int(100/len(bar)), colortype='rgb')\n",
    "colors = colors+n_colors(px.colors.diverging.RdBu_r[i+1], px.colors.diverging.RdBu_r[i+1], int(100/len(bar)), colortype='rgb')\n",
    "ar100 = (ar[1:]*100).astype(int)"
   ]
  },
  {
   "cell_type": "code",
<<<<<<< HEAD
   "execution_count": 509,
=======
   "execution_count": 21,
>>>>>>> 5c0e54aca78664d6bd1c9757282795ba99d164ef
   "metadata": {},
   "outputs": [],
   "source": [
    "def rescale_size(s, max):\n",
    "    s /= max\n",
    "    s *= 1e11\n",
    "    s = s ** 0.1\n",
    "    return s"
   ]
  },
  {
   "cell_type": "markdown",
   "metadata": {},
   "source": [
    "## Create traces"
   ]
  },
  {
   "cell_type": "code",
<<<<<<< HEAD
   "execution_count": 510,
   "metadata": {},
   "outputs": [],
   "source": [
    "scatters = []\n",
    "tables = []\n",
    "namecolors = ['violet', 'forestgreen', 'goldenrod', 'peru', 'teal', 'silver']\n",
    "symbols = [u'\\u2601', u\"\\u2600\", u\"\\U0001F5F2\", u\"\\u26EE\", u'\\u26DF', u'\\u2302']\n",
=======
   "execution_count": 22,
   "metadata": {},
   "outputs": [],
   "source": [
    "varmax = np.max(XRvarsub['Var_total']/XRraw.sel(Time=timestamp).Value.mean(axis=0)).data\n",
    "scatters = []\n",
    "tables = []\n",
    "namecolors = ['goldenrod', 'violet', 'forestgreen', 'silver', 'teal', 'peru']\n",
>>>>>>> 5c0e54aca78664d6bd1c9757282795ba99d164ef
    "namesymbols = ['circle', 'diamond-wide', 'star', 'square', 'cross', 'star-triangle-up', 'diamond-tall']\n",
    "for n_i, name in enumerate(['Emissions', 'Primary Energy', 'Electricity Generation', 'Sector Industry', 'Sector Transportation', 'Sector Residential']):\n",
    "    # General stuff\n",
    "    xrsub = XRvarsub.sel(Variable = vars[cats == name])\n",
    "\n",
    "    # Table\n",
<<<<<<< HEAD
    "    tot = 1#np.array(xrsub.S_c)+np.array(xrsub.S_z)+np.array(xrsub.S_m)\n",
=======
    "    tot = np.array(xrsub.S_c)+np.array(xrsub.S_z)+np.array(xrsub.S_m)\n",
>>>>>>> 5c0e54aca78664d6bd1c9757282795ba99d164ef
    "    var = np.array(xrsub.Variable)\n",
    "    if name == 'Electricity Generation':\n",
    "        for v_i in range(len(var)):\n",
    "            if var[v_i] == 'Secondary Energy|Electricity':\n",
    "                var[v_i] = 'Total'\n",
<<<<<<< HEAD
    "            elif var[v_i] == 'Secondary Energy|Electricity|Gas|w/o CCS':\n",
    "                var[v_i] = 'Gas (without CCS)'\n",
    "            elif var[v_i] == 'Secondary Energy|Electricity|Gas|w/ CCS':\n",
    "                var[v_i] = 'Gas (with CCS)'\n",
    "            elif var[v_i] == 'Secondary Energy|Electricity|Coal|w/o CCS':\n",
    "                var[v_i] = 'Coal (without CCS)'\n",
    "            elif var[v_i] == 'Secondary Energy|Electricity|Coal|w/ CCS':\n",
    "                var[v_i] = 'Coal (with CCS)'\n",
    "            elif var[v_i] == 'Secondary Energy|Electricity|Biomass|w/ CCS':\n",
    "                var[v_i] = 'Biomass (with CCS)'\n",
    "            elif var[v_i] == 'Secondary Energy|Electricity|Biomass|w/o CCS':\n",
    "                var[v_i] = 'Biomass (without CCS)'\n",
=======
>>>>>>> 5c0e54aca78664d6bd1c9757282795ba99d164ef
    "            else:\n",
    "                var[v_i] = var[v_i][29:]\n",
    "    if name == 'Primary Energy':\n",
    "        for v_i in range(len(var)):\n",
<<<<<<< HEAD
    "            if var[v_i] == 'Primary Energy':\n",
    "                var[v_i] = 'Total'\n",
    "            else:\n",
    "                var[v_i] = var[v_i][15:]\n",
    "    if name == 'Emissions':\n",
    "        for v_i in range(len(var)):\n",
    "            if var[v_i] == 'Emissions|CO2|Energy|Supply|Electricity':\n",
    "                var[v_i] = 'Electricity (CO<sub>2</sub>)'\n",
    "            elif var[v_i] == 'Emissions|CO2':\n",
    "                var[v_i] = 'CO<sub>2</sub>'\n",
    "            elif var[v_i] == 'Emissions|N2O':\n",
    "                var[v_i] = 'N<sub>2</sub>O'\n",
    "            elif var[v_i] == 'Emissions|CH4':\n",
    "                var[v_i] = 'CH<sub>4</sub>'\n",
    "            elif var[v_i] == 'Emissions|CO2|Energy|Demand|Industry':\n",
    "                var[v_i] = 'Industry (CO<sub>2</sub>)'\n",
    "            elif var[v_i] == 'Emissions|CO2|Energy|Demand|Transportation':\n",
    "                var[v_i] = 'Transport (CO<sub>2</sub>)'\n",
    "            elif var[v_i] == 'Emissions|CO2|Energy|Demand|Residential and Commercial':\n",
    "                var[v_i] = 'Buildings (CO<sub>2</sub>)'\n",
    "            else:\n",
    "                var[v_i] = var[v_i][10:]\n",
=======
    "            var[v_i] = var[v_i][15:]\n",
    "    if name == 'Emissions':\n",
    "        for v_i in range(len(var)):\n",
    "            var[v_i] = var[v_i][10:]\n",
>>>>>>> 5c0e54aca78664d6bd1c9757282795ba99d164ef
    "    if name == 'Sector Industry':\n",
    "        for v_i in range(len(var)):\n",
    "            if var[v_i] == 'Final Energy|Industry':\n",
    "                var[v_i] = 'Total'\n",
<<<<<<< HEAD
    "            elif var[v_i] == 'Final Energy|Industry|Solids|Coal':\n",
    "                var[v_i] = 'Coal'\n",
    "            elif var[v_i] == 'Final Energy|Industry|Solids|Biomass':\n",
    "                var[v_i] = 'Biomass'\n",
=======
>>>>>>> 5c0e54aca78664d6bd1c9757282795ba99d164ef
    "            else:\n",
    "                var[v_i] = var[v_i][22:]\n",
    "    if name == 'Sector Residential':\n",
    "        for v_i in range(len(var)):\n",
    "            if var[v_i] == 'Final Energy|Residential and Commercial':\n",
    "                var[v_i] = 'Total'\n",
<<<<<<< HEAD
    "            elif var[v_i] == 'Final Energy|Residential and Commercial|Solids|Biomass':\n",
    "                var[v_i] = 'Biomass'\n",
=======
>>>>>>> 5c0e54aca78664d6bd1c9757282795ba99d164ef
    "            else:\n",
    "                var[v_i] = var[v_i][40:]\n",
    "    if name == 'Sector Transportation':\n",
    "        for v_i in range(len(var)):\n",
    "            if var[v_i] == 'Final Energy|Transportation':\n",
    "                var[v_i] = 'Total'\n",
<<<<<<< HEAD
    "            elif var[v_i] == 'Final Energy|Transportation|Liquids|Oil':\n",
    "                var[v_i] = 'Oil'\n",
    "            elif var[v_i] == 'Final Energy|Transportation|Liquids|Bioenergy':\n",
    "                var[v_i] = 'Bioenergy'\n",
    "            else:\n",
    "                var[v_i] = var[v_i][28:]\n",
    "    ar = np.array([var,\n",
    "                   np.array((xrsub.S_m+0.5*xrsub.S_mc)/tot).round(2),\n",
    "                   np.array((xrsub.S_c+0.5*xrsub.S_mc)/tot).round(2),\n",
=======
    "            else:\n",
    "                var[v_i] = var[v_i][28:]\n",
    "    ar = np.array([var,\n",
    "                   np.array(xrsub.S_m/tot).round(2),\n",
    "                   np.array(xrsub.S_c/tot).round(2),\n",
>>>>>>> 5c0e54aca78664d6bd1c9757282795ba99d164ef
    "                   np.array(xrsub.S_z/tot).round(2)])\n",
    "    colors = n_colors('rgb(255, 200, 200)', 'rgb(200, 0, 0)', 100, colortype='rgb')\n",
    "    bar = px.colors.diverging.RdBu_r\n",
    "    colors = []\n",
    "    for i in range(len(bar)-1):\n",
    "        colors = colors+n_colors(px.colors.diverging.RdBu_r[i], px.colors.diverging.RdBu_r[i+1], int(100/len(bar)), colortype='rgb')\n",
    "    colors = colors+n_colors(px.colors.diverging.RdBu_r[i+1], px.colors.diverging.RdBu_r[i+1], int(100/len(bar)), colortype='rgb')\n",
<<<<<<< HEAD
    "    ar100 = 10+(ar[1:]*70).astype(int)+10\n",
    "\n",
    "    head = name\n",
    "    if name == 'Sector Residential':\n",
    "        head = \"Buildings\"\n",
    "    if name == 'Sector Industry':\n",
    "        head = \"Industry\"\n",
    "    if name == 'Sector Transportation':\n",
    "        head = \"Transport\"\n",
    "    if name == 'Electricity Generation':\n",
    "        head = \"Electricity\"\n",
    "    tables.append(go.Table(columnwidth = [4, 1, 1, 1],\n",
    "                        header = dict(values = [['<b>'+head+'</b>'],\n",
    "                                      [\"<b>Model</b>\"],\n",
    "                                      ['<b>Climate</b>'],\n",
=======
    "    ar100 = 10+(ar[1:]*70).astype(int)\n",
    "\n",
    "    tables.append(go.Table(columnwidth = [4, 1, 1, 1],\n",
    "                        header = dict(values = [['<b>'+name+'</b>'],\n",
    "                                      [\"<b>Model</b>\"],\n",
    "                                      ['<b>C-cat</b>'],\n",
>>>>>>> 5c0e54aca78664d6bd1c9757282795ba99d164ef
    "                                      ['<b>Other</b>']],\n",
    "                                      line_color='white',\n",
    "                                      fill_color=[namecolors[n_i], 'white', 'white', 'white'],\n",
    "                                      align=['center','center','center','center'],\n",
<<<<<<< HEAD
    "                                      font=dict(color='black', size=12),\n",
    "                                      height=22,\n",
=======
    "                                      font=dict(color='black'),\n",
>>>>>>> 5c0e54aca78664d6bd1c9757282795ba99d164ef
    "                                     ),\n",
    "                        cells=dict(values=ar[:, ar[srt].argsort()[::-1]],\n",
    "                                   line={'color': 'black', 'width': 0},\n",
    "                                   align=['center','center','center','center'],\n",
    "                                   fill_color=['white', \n",
    "                                               np.array(colors)[ar100[:, ar[srt].argsort()[::-1]][0]],\n",
    "                                               np.array(colors)[ar100[:, ar[srt].argsort()[::-1]][1]],\n",
    "                                               np.array(colors)[ar100[:, ar[srt].argsort()[::-1]][2]]],\n",
    "                                   font={#'family' : [\"Arial\", \"Arial Black\", \"Arial Black\", \"Arial Black\"],\n",
    "                                         'color': 'black',\n",
<<<<<<< HEAD
    "                                         'size': 11},\n",
    "                                   height=22,\n",
=======
    "                                         'size': 9},\n",
    "                                   height=18\n",
>>>>>>> 5c0e54aca78664d6bd1c9757282795ba99d164ef
    "                                  )\n",
    "                       ))\n",
    "\n",
    "    # Scatter\n",
    "    varlist = np.array(xrsub.Variable)\n",
    "    for v in range(len(varlist)):\n",
    "            ds = xrsub.sel(Variable=varlist[v])\n",
<<<<<<< HEAD
    "            a, b, c, d, s = np.array(ds[['S_c', 'S_m', 'S_z', 'S_mc', 'Var_total']].to_array())\n",
    "            s = 20# 2*rescale_size(float(s/XRraw.sel(Time=timestamp, Variable=varlist[v]).Value.mean(axis=0)), varmax)\n",
    "            lw = 1 # s/10\n",
    "            if varlist[v] == 'Secondary Energy|Electricity|Wind+Solar':\n",
    "                    count = np.min([list(DF_counts[DF_counts.Variable==\"Secondary Energy|Electricity|Wind\"].Count)[0],\n",
    "                                    list(DF_counts[DF_counts.Variable==\"Secondary Energy|Electricity|Solar\"].Count)[0]])\n",
    "            elif varlist[v] == 'Primary Energy|Wind+Solar':\n",
    "                    count = np.min([list(DF_counts[DF_counts.Variable==\"Primary Energy|Wind\"].Count)[0],\n",
    "                                    list(DF_counts[DF_counts.Variable==\"Primary Energy|Solar\"].Count)[0]])\n",
    "            else:\n",
    "                    count = list(DF_counts[DF_counts.Variable==varlist[v]].Count)[0]\n",
    "\n",
    "            maxsize2 = 32\n",
    "            if varlist[v] in ['Primary Energy|Coal',\n",
    "                              'Primary Energy|Oil',\n",
    "                              'Emissions|Kyoto Gases',\n",
    "                              'Secondary Energy|Electricity|Coal|w/o CCS',\n",
    "                              'Final Energy|Industry|Electricity',\n",
    "                              'Final Energy|Transportation|Electricity',\n",
    "                              'Final Energy|Residential and Commercial|Electricity',\n",
    "                              'Final Energy|Transportation|Hydrogen',\n",
    "                              'Primary Energy|Renewables (incl. Biomass)']:\n",
    "                da = 0\n",
    "                if varlist[v] == \"Emissions|Kyoto Gases\": da = 0.06\n",
    "                lw = 0\n",
    "                scatters.append(go.Scatterternary(a=[a+0.5*d+da], b=[b+0.5*d], c=[c],\n",
    "                                                hoverinfo='skip',\n",
    "                                                mode='markers', marker={'size': maxsize2-4, 'symbol': 'circle-open', 'color': namecolors[n_i]},\n",
    "                                                marker_line_width = 2,\n",
    "                                                showlegend=False))\n",
    "                scatters.append(go.Scatterternary(a=[a+0.5*d+da], b=[b+0.5*d], c=[c],\n",
    "                                                hoverinfo='skip',\n",
    "                                                mode='markers', marker={'size': maxsize2, 'symbol': 'circle-open', 'color': 'black'},\n",
    "                                                marker_line_width = 3,\n",
    "                                                showlegend=False))\n",
    "            scatters.append(go.Scatterternary(a=[a+0.5*d], b=[b+0.5*d], c=[c],\n",
    "                                            mode='markers', name=varlist[v]+' ('+str(count)+')', showlegend=False, text=[timestamp],\n",
    "                                            hovertemplate='%{text}<br>Var (climate): %{a}<br>Var (model): %{b} <br>Var (other): %{c}',\n",
    "                                            marker={'size': 0.1, 'symbol': namesymbols[n_i], 'color': namecolors[n_i], 'opacity': 1, 'line' :dict(width=lw, color='black')},\n",
    "                                            line={'width': 1.5},\n",
    "                                            textfont=dict(size=1, color=namecolors[n_i])))\n",
    "            maxsize = 23\n",
    "            if name == 'Sector Transportation':\n",
    "                scatters.append(go.Scatterternary(a=[a+0.5*d], b=[b+0.5*d], c=[c],\n",
    "                                mode='text', textfont={'size': maxsize-2, 'color': 'teal'},\n",
    "                                text=[u'\\u26DF'], showlegend=False))\n",
    "            if name == 'Sector Residential':\n",
    "                for k in np.arange(1, maxsize, 1):\n",
    "                    scatters.append(go.Scatterternary(a=[a+0.5*d], b=[b+0.5*d], c=[c],\n",
    "                                    mode='text', textfont={'size': k, 'color': 'darkgray'},\n",
    "                                    text=[u'\\u2302'], showlegend=False))\n",
    "            if name == 'Electricity Generation':\n",
    "                scatters.append(go.Scatterternary(a=[a+0.5*d], b=[b+0.5*d], c=[c],\n",
    "                                mode='text', textfont={'size': maxsize, 'color': 'goldenrod'},\n",
    "                                text=[u\"\\U0001F5F2\"], showlegend=False))\n",
    "            if name == 'Sector Industry':\n",
    "                # for k in np.arange(20, 35, 1):\n",
    "                #     scatters.append(go.Scatterternary(a=[a], b=[b], c=[c],\n",
    "                #                     mode='text', textfont={'size': k, 'color': 'peru'},\n",
    "                #                     text=[u\"\\u26EE\"], showlegend=False))\n",
    "                scatters.append(go.Scatterternary(a=[a+0.5*d], b=[b+0.5*d], c=[c],\n",
    "                                mode='text', textfont={'size': maxsize-2, 'color': 'peru'},\n",
    "                                text=[u\"\\u26EE\"], showlegend=False))\n",
    "            if name == 'Emissions':\n",
    "                scatters.append(go.Scatterternary(a=[a+0.5*d], b=[b+0.5*d], c=[c],\n",
    "                                mode='text', textfont={'size': maxsize, 'color': 'violet'},\n",
    "                                text=[u'\\u2601'], showlegend=False))\n",
    "            if name == 'Primary Energy':\n",
    "                scatters.append(go.Scatterternary(a=[a+0.5*d], b=[b+0.5*d], c=[c],\n",
    "                                mode='text', textfont={'size': maxsize, 'color': 'forestgreen'},\n",
    "                                text=[u\"\\u2600\"], showlegend=False))\n",
    "#['Emissions', 'Primary Energy', 'Electricity Generation', 'Sector Industry', 'Sector Transportation', 'Sector Residential']\n"
=======
    "            a, b, c, s = np.array(ds[['S_c', 'S_m', 'S_z', 'Var_total']].to_array())\n",
    "            s = 20# 2*rescale_size(float(s/XRraw.sel(Time=timestamp, Variable=varlist[v]).Value.mean(axis=0)), varmax)\n",
    "            lw = 1 # s/10\n",
    "            if varlist[v] in ['Primary Energy|Coal', 'Primary Energy|Oil', 'Emissions|Kyoto Gases', 'Secondary Energy|Electricity|Coal|w/o CCS',\n",
    "                              'Final Energy|Industry|Electricity', 'Final Energy|Transportation|Electricity', 'Final Energy|Residential and Commercial|Electricity']:\n",
    "                lw = 4\n",
    "            scatters.append(go.Scatterternary(a=[a], b=[b], c=[c],\n",
    "                                            mode='markers', name=varlist[v]+' ('+str(list(DF_counts[DF_counts.Variable==varlist[v]].Count)[0])+')', showlegend=False, text=[years[-1]],\n",
    "                                            hovertemplate='%{text}<br>Var (climate): %{a}<br>Var (model): %{b} <br>Var (other): %{c}',\n",
    "                                            marker={'size': s, 'symbol': namesymbols[n_i], 'color': namecolors[n_i], 'opacity': 1, 'line' :dict(width=lw, color='black')},\n",
    "                                            line={'width': 1.5},\n",
    "                                            textfont=dict(size=1, color=namecolors[n_i])))\n",
    "                                \n",
    "        "
>>>>>>> 5c0e54aca78664d6bd1c9757282795ba99d164ef
   ]
  },
  {
   "cell_type": "markdown",
   "metadata": {},
   "source": [
    "Ternary plot"
   ]
  },
  {
   "cell_type": "code",
<<<<<<< HEAD
   "execution_count": 511,
   "metadata": {},
   "outputs": [
    {
     "name": "stderr",
     "output_type": "stream",
     "text": [
      "C:\\Users\\dekkerm\\AppData\\Local\\Temp\\2\\ipykernel_8580\\4024270652.py:6: MatplotlibDeprecationWarning:\n",
      "\n",
      "The get_cmap function was deprecated in Matplotlib 3.7 and will be removed two minor releases later. Use ``matplotlib.colormaps[name]`` or ``matplotlib.colormaps.get_cmap(obj)`` instead.\n",
      "\n"
     ]
    }
   ],
=======
   "execution_count": 23,
   "metadata": {},
   "outputs": [],
>>>>>>> 5c0e54aca78664d6bd1c9757282795ba99d164ef
   "source": [
    "trace_ternary_lines = []\n",
    "for i in range(10):\n",
    "        a = [0+i*0.1, 0+i*0.1]\n",
    "        b = [0, 1-a[0]]\n",
    "        c = [1-a[0], 0]\n",
    "        rgb = mpl.colors.colorConverter.to_rgb(plt.cm.get_cmap('Greys')(0.+i/20))\n",
    "        col = 'rgb('+str(rgb[0])+','+str(rgb[1])+','+str(rgb[2])+')'\n",
    "        trace_ternary_lines.append(go.Scatterternary(a=a, b=b, c=c, showlegend=False, mode='lines', hoverinfo='skip', line={'width': 0.25+i*0.1, 'color': col}))\n",
    "        trace_ternary_lines.append(go.Scatterternary(a=b, b=a, c=c, showlegend=False, mode='lines', hoverinfo='skip', line={'width': 0.25+i*0.1, 'color': col}))\n",
    "        trace_ternary_lines.append(go.Scatterternary(a=b, b=c, c=a, showlegend=False, mode='lines', hoverinfo='skip', line={'width': 0.25+i*0.1, 'color': col}))\n",
    "\n",
    "trace_ternary_border = []\n",
<<<<<<< HEAD
    "#trace_ternary_border.append(go.Scatterternary(a=[0.005, 0.005], b=[0, 0.25], c=[0.25, 0], showlegend=False, mode='lines', hoverinfo='skip', line={'width': 2, 'color': 'black'}))\n",
    "#trace_ternary_border.append(go.Scatterternary(a=[0, 0.5], b=[0.005, 0.005], c=[0.5, 0], showlegend=False, mode='lines', hoverinfo='skip', line={'width': 2, 'color': 'black'}))\n",
    "#trace_ternary_border.append(go.Scatterternary(a=[0, 1], b=[1, 0], c=[0.005, 0.005], showlegend=False, mode='lines', hoverinfo='skip', line={'width': 2, 'color': 'black'}))"
   ]
  },
  {
   "attachments": {},
   "cell_type": "markdown",
   "metadata": {},
   "source": [
    "## Contours"
   ]
  },
  {
   "cell_type": "code",
   "execution_count": 512,
   "metadata": {},
   "outputs": [],
   "source": [
    "def clean_data(data_in):\n",
    "    \"\"\"\n",
    "    Cleans data in a format which can be conveniently\n",
    "    used for drawing traces. Takes a dictionary as the\n",
    "    input, and returns a list in the following format:\n",
    "\n",
    "    input = {'key': ['a b c']}\n",
    "    output = [key, [a, b, c]]\n",
    "    \"\"\"\n",
    "    key = list(data_in.keys())[0]\n",
    "    data_out = [key]\n",
    "    for i in data_in[key]:\n",
    "        data_out.append(list(map(float, i.split(' '))))\n",
    "\n",
    "    return data_out"
   ]
  },
  {
   "cell_type": "code",
   "execution_count": 513,
   "metadata": {},
   "outputs": [],
   "source": [
    "conts = []\n",
    "for i in np.arange(35, 51, 5):\n",
    "    conts.append({str(i): [str(i) +' '+str(i)+' '+str(100-2*i),\n",
    "                  str(i) +' '+str(100-2*i)+' '+str(i),\n",
    "                  str(100-2*i) +' '+str(i)+' '+str(i)]})\n",
    "for i in np.arange(55, 101, 5):\n",
    "    i0 = str(i)\n",
    "    i1 = str(100-i)\n",
    "    conts.append({str(i): [i0+' '+i1+' 0',\n",
    "                            i0+' 0 '+i1,\n",
    "                            i1+' 0 '+i0,\n",
    "                            '0 '+i1+' '+i0,\n",
    "                            '0 '+i0+' '+i1,\n",
    "                            i1+' '+i0+' 0',\n",
    "                            i0+' '+i1+' 0']})"
   ]
  },
  {
   "cell_type": "code",
   "execution_count": 514,
   "metadata": {},
   "outputs": [],
   "source": [
    "conts2 = []\n",
    "for i in np.arange(35, 51, 5):\n",
    "    conts2.append({str(i): [str(i) +' '+str(i)+' '+str(100-2*i),\n",
    "                  str(i) +' '+str(100-2*i)+' '+str(i),\n",
    "                  str(100-2*i) +' '+str(i)+' '+str(i)]})\n",
    "for x in np.arange(55, 101, 5):\n",
    "    conts2.append({str(i): [str(x)+' '+'0'+' '+str(100-x),\n",
    "                               str(x-5)+' '+'0'+' '+str(100-(x-5)),\n",
    "                               str(x-5)+' '+str(100-(x-5))+' '+'0',\n",
    "                               str(x)+' '+str(100-x)+' '+'0',\n",
    "                               str(x)+' '+'0'+' '+str(100-x)\n",
    "                                ]})\n",
    "    conts2.append({str(i): ['0'+' '+str(100-x)+' '+str(x),\n",
    "                               '0'+' '+str(100-(x-5))+' '+str(x-5),\n",
    "                               str(100-(x-5))+' '+'0'+' '+str(x-5),\n",
    "                               str(100-x)+' '+'0'+' '+str(x),\n",
    "                               '0'+' '+str(100-x)+' '+str(x)\n",
    "                                ]})\n",
    "    conts2.append({str(i): [str(100-x)+' '+str(x)+' '+'0',\n",
    "                               str(100-(x-5))+' '+str(x-5)+' '+'0',\n",
    "                               '0'+' '+str(x-5)+' '+str(100-(x-5)),\n",
    "                               '0'+' '+str(x)+' '+str(100-x),\n",
    "                               str(100-x)+' '+str(x)+' '+'0'\n",
    "                                ]})"
   ]
  },
  {
   "cell_type": "code",
   "execution_count": 515,
   "metadata": {},
   "outputs": [],
   "source": [
    "bar = px.colors.sequential.Greys # px.colors.diverging.RdBu_r\n",
    "#bar = bar[2:-2]\n",
    "#bar = bar[int(len(bar)/2)-2:]\n",
    "colors = []\n",
    "for i in range(len(bar)-1):\n",
    "    colors = colors+n_colors(bar[i], bar[i+1], int(200/len(bar)), colortype='rgb')\n",
    "colors = colors+n_colors(bar[i+1], bar[i+1], int(200/len(bar)), colortype='rgb')"
   ]
  },
  {
   "cell_type": "code",
   "execution_count": 516,
   "metadata": {},
   "outputs": [],
   "source": [
    "conttraces = []\n",
    "n = 0\n",
    "for raw_data in conts2:\n",
    "    data = clean_data(raw_data)\n",
    "\n",
    "    a = [inner_data[0] for inner_data in data[1:]]\n",
    "    a.append(data[1][0]) # Closing the loop\n",
    "\n",
    "    b = [inner_data[1] for inner_data in data[1:]]\n",
    "    b.append(data[1][1]) # Closing the loop\n",
    "\n",
    "    c = [inner_data[2] for inner_data in data[1:]]\n",
    "    c.append(data[1][2]) # Closing the loop\n",
    "\n",
    "    conttraces.append(go.Scatterternary(\n",
    "        text = data[0],\n",
    "        a=a, b=b, c=c, mode='lines',\n",
    "        line=dict(color='black', width=0),\n",
    "        fill='toself',showlegend=False, hoverinfo='skip', opacity=0.2, \n",
    "        fillcolor = colors[int(200/len(conts2)*n)]#colors_iterator.__next__()\n",
    "    ))\n",
    "    n+=1\n",
    "conttraces = conttraces[::-1]"
=======
    "trace_ternary_border.append(go.Scatterternary(a=[0.005, 0.005], b=[0, 1], c=[1, 0], showlegend=False, mode='lines', hoverinfo='skip', line={'width': 2, 'color': 'black'}))\n",
    "trace_ternary_border.append(go.Scatterternary(a=[0, 1], b=[0.005, 0.005], c=[1, 0], showlegend=False, mode='lines', hoverinfo='skip', line={'width': 2, 'color': 'black'}))\n",
    "trace_ternary_border.append(go.Scatterternary(a=[0, 1], b=[1, 0], c=[0.005, 0.005], showlegend=False, mode='lines', hoverinfo='skip', line={'width': 2, 'color': 'black'}))"
>>>>>>> 5c0e54aca78664d6bd1c9757282795ba99d164ef
   ]
  },
  {
   "cell_type": "markdown",
   "metadata": {},
   "source": [
    "## Add together"
   ]
  },
  {
   "cell_type": "code",
<<<<<<< HEAD
   "execution_count": 517,
=======
   "execution_count": 24,
>>>>>>> 5c0e54aca78664d6bd1c9757282795ba99d164ef
   "metadata": {},
   "outputs": [],
   "source": [
    "def draw_line(fig, name, x, y, xt, yt, color):\n",
<<<<<<< HEAD
    "    fig.add_shape(type=\"line\", xref='paper', yref='paper',\n",
    "                  x0=x,\n",
    "                  y0=x+xt,\n",
    "                  x1=x,\n",
    "                  y1=y+yt,\n",
    "                  line=dict(color=color, width=3))\n",
=======
    "    # fig.add_shape(type=\"line\", xref='paper', yref='paper',\n",
    "    #                 x0=x,\n",
    "    #                 y0=x+xt,\n",
    "    #                 x1=x,\n",
    "    #                 y1=y+yt,\n",
    "    #                 line=dict(color=color, width=3))\n",
>>>>>>> 5c0e54aca78664d6bd1c9757282795ba99d164ef
    "    fig.add_annotation(xref='paper',\n",
    "                       yref='paper',\n",
    "                       #xref = 'x4',\n",
    "                       #yref = 'y4',\n",
    "                       x=x,\n",
    "                       ax=xt,\n",
    "                       align=\"center\",\n",
    "                       y=y,\n",
    "                       ay=yt,\n",
    "                       text=name,\n",
    "                       #textangle=90,\n",
    "                       font=dict(color=color,\n",
    "                                 family='Arial Black',\n",
    "                                 size=12),\n",
    "                       showarrow=True)"
   ]
  },
  {
   "cell_type": "code",
<<<<<<< HEAD
   "execution_count": 518,
   "metadata": {},
   "outputs": [],
   "source": [
    "def draw_ann(fig, name, x, y, color, vert, hor):\n",
    "    align = 'left'\n",
    "    h = 1\n",
    "    if hor == 'left':\n",
    "        align = 'right'\n",
    "        h = -1\n",
    "    v = 1\n",
    "    if vert == 'down':\n",
    "        v = -1\n",
    "    dy = 0\n",
    "    if y>0.5:\n",
    "        dy = 0.02\n",
    "    dx = 0\n",
    "    if y> 0.9:\n",
    "        dx = -0.02\n",
    "    fig.add_shape(type=\"line\", xref='paper', yref='paper',\n",
    "                  x0=x,\n",
    "                  y0=y,\n",
    "                  x1=x+0.02*h,\n",
    "                  y1=y+0.02*v,\n",
    "                  line=dict(color='black', width=3))\n",
    "    fig.add_shape(type=\"line\", xref='paper', yref='paper',\n",
    "                  x0=x+[0, 0.15, -0.11][h],\n",
    "                  y0=y+0.02*v,\n",
    "                  x1=x+0.02*h,\n",
    "                  y1=y+0.02*v,\n",
    "                  line=dict(color='black', width=3))\n",
    "    fig.add_annotation(xref='paper',\n",
    "                       yref='paper',\n",
    "                       #xref = 'x4',\n",
    "                       #yref = 'y4',\n",
    "                       x=x+0.2*h+dx,\n",
    "                       ax=0,\n",
    "                       align=align,\n",
    "                       y=y+0.02*v+dy,\n",
    "                       ay=-0,\n",
    "                       text=name,\n",
    "                       #textangle=90,\n",
    "                       font=dict(color=color,\n",
    "                                 family='Arial Black',\n",
    "                                 size=12),\n",
    "                       showarrow=False)"
   ]
  },
  {
   "cell_type": "code",
   "execution_count": 519,
=======
   "execution_count": 25,
>>>>>>> 5c0e54aca78664d6bd1c9757282795ba99d164ef
   "metadata": {},
   "outputs": [
    {
     "data": {
      "application/vnd.plotly.v1+json": {
       "config": {
<<<<<<< HEAD
        "plotlyServerURL": "https://plotly.com"
       },
       "data": [
        {
         "a": [
          0.5,
          0.5,
          0,
          0.5
         ],
         "b": [
          0,
          0.5,
          0.5,
          0
         ],
         "c": [
          0.5,
          0,
          0.5,
          0.5
         ],
         "hoverinfo": "skip",
         "line": {
          "color": "black",
          "dash": "dot",
          "width": 1
         },
         "marker": {
          "color": "black",
          "line": {
           "color": "black",
           "width": 0
          },
          "opacity": 1,
          "size": 15
         },
         "mode": "lines",
         "showlegend": false,
         "subplot": "ternary",
         "textfont": {
          "color": "black",
          "size": 5
         },
         "type": "scatterternary"
        },
        {
=======
        "plotlyServerURL": "https://plot.ly"
       },
       "data": [
        {
>>>>>>> 5c0e54aca78664d6bd1c9757282795ba99d164ef
         "cells": {
          "align": [
           "center",
           "center",
           "center",
           "center"
          ],
          "fill": {
           "color": [
            "white",
            [
<<<<<<< HEAD
             "rgb(96.625, 165.75, 205.125)",
             "rgb(126.25, 184.5, 215.25)",
             "rgb(146.0, 197.0, 222.0)",
             "rgb(201.125, 225.0, 237.75)",
             "rgb(223.25, 235.75, 242.625)",
             "rgb(247.0, 247.0, 247.0)",
             "rgb(250.0, 233.0, 223.0)",
             "rgb(247.375, 185.25, 155.875)"
            ],
            [
             "rgb(140.5, 12.0, 37.0)",
             "rgb(168.625, 21.0, 41.5)",
             "rgb(200.5, 69.0, 64.25)",
             "rgb(217.75, 104.625, 83.625)",
             "rgb(245.125, 171.75, 138.625)",
             "rgb(247.375, 185.25, 155.875)",
             "rgb(253.0, 219.0, 199.0)",
             "rgb(228.0, 238.0, 243.5)"
            ],
            [
             "rgb(116.375, 178.25, 211.875)",
             "rgb(116.375, 178.25, 211.875)",
             "rgb(146.0, 197.0, 222.0)",
             "rgb(136.125, 190.75, 218.625)",
             "rgb(161.75, 205.0, 226.5)",
             "rgb(146.0, 197.0, 222.0)",
             "rgb(146.0, 197.0, 222.0)",
             "rgb(169.625, 209.0, 228.75)"
=======
             "rgb(37.25, 107.625, 174.875)",
             "rgb(45.75, 118.875, 180.625)",
             "rgb(50.0, 124.5, 183.5)",
             "rgb(146.0, 197.0, 222.0)",
             "rgb(193.25, 221.0, 235.5)",
             "rgb(223.25, 235.75, 242.625)"
            ],
            [
             "rgb(200.5, 69.0, 64.25)",
             "rgb(209.5, 87.0, 72.75)",
             "rgb(225.25, 121.875, 96.875)",
             "rgb(252.25, 222.5, 205.0)",
             "rgb(250.0, 233.0, 223.0)",
             "rgb(242.25, 244.75, 246.125)"
            ],
            [
             "rgb(50.0, 124.5, 183.5)",
             "rgb(50.0, 124.5, 183.5)",
             "rgb(67.0, 147.0, 195.0)",
             "rgb(86.75, 159.5, 201.75)",
             "rgb(67.0, 147.0, 195.0)",
             "rgb(67.0, 147.0, 195.0)"
>>>>>>> 5c0e54aca78664d6bd1c9757282795ba99d164ef
            ]
           ]
          },
          "font": {
           "color": "black",
<<<<<<< HEAD
           "size": 11
          },
          "height": 22,
=======
           "size": 9
          },
          "height": 18,
>>>>>>> 5c0e54aca78664d6bd1c9757282795ba99d164ef
          "line": {
           "color": "black",
           "width": 0
          },
          "values": [
           [
            "Kyoto Gases",
<<<<<<< HEAD
            "CO<sub>2</sub>",
            "Electricity (CO<sub>2</sub>)",
            "CH<sub>4</sub>",
            "Transport (CO<sub>2</sub>)",
            "Industry (CO<sub>2</sub>)",
            "Buildings (CO<sub>2</sub>)",
            "N<sub>2</sub>O"
           ],
           [
            0.02,
            0.06,
            0.11,
            0.2,
            0.28,
            0.35,
            0.42,
            0.56
           ],
           [
            0.94,
            0.89,
            0.79,
            0.72,
            0.59,
            0.56,
            0.48,
            0.29
=======
            "CO2",
            "CO2|Energy|Supply|Electricity",
            "CO2|Energy|Demand|Transportation",
            "CO2|Energy|Demand|Industry",
            "CO2|Energy|Demand|Residential and Commercial"
           ],
           [
            0.01,
            0.04,
            0.05,
            0.25,
            0.33,
            0.42
           ],
           [
            0.94,
            0.91,
            0.84,
            0.6,
            0.57,
            0.48
>>>>>>> 5c0e54aca78664d6bd1c9757282795ba99d164ef
           ],
           [
            0.05,
            0.05,
<<<<<<< HEAD
            0.1,
            0.08,
            0.14,
            0.09,
            0.09,
            0.15
=======
            0.11,
            0.15,
            0.1,
            0.1
>>>>>>> 5c0e54aca78664d6bd1c9757282795ba99d164ef
           ]
          ]
         },
         "columnwidth": [
          4,
          1,
          1,
          1
         ],
         "domain": {
          "x": [
           0,
<<<<<<< HEAD
           0.3066666666666667
          ],
          "y": [
           0,
           0.30000000000000004
=======
           0.235
          ],
          "y": [
           0.6666666666666666,
           0.9999999999999999
>>>>>>> 5c0e54aca78664d6bd1c9757282795ba99d164ef
          ]
         },
         "header": {
          "align": [
           "center",
           "center",
           "center",
           "center"
          ],
          "fill": {
           "color": [
<<<<<<< HEAD
            "violet",
=======
            "goldenrod",
>>>>>>> 5c0e54aca78664d6bd1c9757282795ba99d164ef
            "white",
            "white",
            "white"
           ]
          },
          "font": {
<<<<<<< HEAD
           "color": "black",
           "size": 12
          },
          "height": 22,
=======
           "color": "black"
          },
>>>>>>> 5c0e54aca78664d6bd1c9757282795ba99d164ef
          "line": {
           "color": "white"
          },
          "values": [
           [
            "<b>Emissions</b>"
           ],
           [
            "<b>Model</b>"
           ],
           [
<<<<<<< HEAD
            "<b>Climate</b>"
=======
            "<b>C-cat</b>"
>>>>>>> 5c0e54aca78664d6bd1c9757282795ba99d164ef
           ],
           [
            "<b>Other</b>"
           ]
          ]
         },
         "type": "table"
        },
        {
         "cells": {
          "align": [
           "center",
           "center",
           "center",
           "center"
          ],
          "fill": {
           "color": [
            "white",
            [
<<<<<<< HEAD
             "rgb(177.5, 213.0, 231.0)",
             "rgb(213.75, 231.25, 240.875)",
             "rgb(228.0, 238.0, 243.5)",
             "rgb(201.125, 225.0, 237.75)",
             "rgb(232.75, 240.25, 244.375)",
             "rgb(247.75, 243.5, 241.0)",
             "rgb(252.25, 222.5, 205.0)",
             "rgb(236.5, 147.75, 116.75)",
             "rgb(251.875, 212.25, 190.375)",
             "rgb(244.0, 165.0, 130.0)",
             "rgb(214.0, 96.0, 77.0)"
            ],
            [
             "rgb(217.75, 104.625, 83.625)",
             "rgb(244.0, 165.0, 130.0)",
             "rgb(251.875, 212.25, 190.375)",
             "rgb(253.0, 219.0, 199.0)",
             "rgb(253.0, 219.0, 199.0)",
             "rgb(248.5, 240.0, 235.0)",
             "rgb(247.0, 247.0, 247.0)",
             "rgb(209.0, 229.0, 240.0)",
             "rgb(193.25, 221.0, 235.5)",
             "rgb(193.25, 221.0, 235.5)",
             "rgb(161.75, 205.0, 226.5)"
            ],
            [
             "rgb(146.0, 197.0, 222.0)",
             "rgb(161.75, 205.0, 226.5)",
             "rgb(201.125, 225.0, 237.75)",
             "rgb(232.75, 240.25, 244.375)",
             "rgb(201.125, 225.0, 237.75)",
             "rgb(209.0, 229.0, 240.0)",
             "rgb(185.375, 217.0, 233.25)",
             "rgb(153.875, 201.0, 224.25)",
             "rgb(232.75, 240.25, 244.375)",
             "rgb(193.25, 221.0, 235.5)",
             "rgb(161.75, 205.0, 226.5)"
=======
             "rgb(76.875, 153.25, 198.375)",
             "rgb(126.25, 184.5, 215.25)",
             "rgb(153.875, 201.0, 224.25)",
             "rgb(209.0, 229.0, 240.0)",
             "rgb(232.75, 240.25, 244.375)",
             "rgb(249.625, 198.75, 173.125)",
             "rgb(253.0, 219.0, 199.0)",
             "rgb(247.0, 247.0, 247.0)"
            ],
            [
             "rgb(244.0, 165.0, 130.0)",
             "rgb(253.0, 219.0, 199.0)",
             "rgb(247.0, 247.0, 247.0)",
             "rgb(209.0, 229.0, 240.0)",
             "rgb(193.25, 221.0, 235.5)",
             "rgb(106.5, 172.0, 208.5)",
             "rgb(96.625, 165.75, 205.125)",
             "rgb(67.0, 147.0, 195.0)"
            ],
            [
             "rgb(67.0, 147.0, 195.0)",
             "rgb(96.625, 165.75, 205.125)",
             "rgb(146.0, 197.0, 222.0)",
             "rgb(153.875, 201.0, 224.25)",
             "rgb(136.125, 190.75, 218.625)",
             "rgb(76.875, 153.25, 198.375)",
             "rgb(126.25, 184.5, 215.25)",
             "rgb(209.0, 229.0, 240.0)"
>>>>>>> 5c0e54aca78664d6bd1c9757282795ba99d164ef
            ]
           ]
          },
          "font": {
           "color": "black",
<<<<<<< HEAD
           "size": 11
          },
          "height": 22,
=======
           "size": 9
          },
          "height": 18,
>>>>>>> 5c0e54aca78664d6bd1c9757282795ba99d164ef
          "line": {
           "color": "black",
           "width": 0
          },
          "values": [
           [
            "Coal",
            "Oil",
<<<<<<< HEAD
            "Total",
            "Renewables (incl. Biomass)",
=======
>>>>>>> 5c0e54aca78664d6bd1c9757282795ba99d164ef
            "Gas",
            "Biomass",
            "Wind",
            "Hydro",
<<<<<<< HEAD
            "Nuclear",
            "Solar",
            "Geothermal"
           ],
           [
            0.17,
            0.25,
            0.29,
            0.21,
            0.3,
            0.38,
            0.46,
            0.65,
            0.51,
            0.62,
            0.73
           ],
           [
            0.72,
            0.61,
            0.51,
            0.49,
            0.49,
            0.39,
            0.37,
            0.24,
            0.19,
            0.19,
            0.14
           ],
           [
            0.11,
            0.14,
            0.2,
            0.3,
            0.2,
            0.23,
            0.18,
            0.12,
            0.3,
            0.19,
            0.13
=======
            "Solar",
            "Nuclear"
           ],
           [
            0.13,
            0.21,
            0.26,
            0.36,
            0.45,
            0.68,
            0.63,
            0.5
           ],
           [
            0.75,
            0.63,
            0.5,
            0.38,
            0.33,
            0.18,
            0.16,
            0.12
           ],
           [
            0.12,
            0.17,
            0.24,
            0.26,
            0.22,
            0.14,
            0.21,
            0.37
>>>>>>> 5c0e54aca78664d6bd1c9757282795ba99d164ef
           ]
          ]
         },
         "columnwidth": [
          4,
          1,
          1,
          1
         ],
         "domain": {
          "x": [
<<<<<<< HEAD
           0.3466666666666667,
           0.6533333333333333
          ],
          "y": [
           0,
           0.30000000000000004
=======
           0,
           0.235
          ],
          "y": [
           0.3333333333333333,
           0.6666666666666666
>>>>>>> 5c0e54aca78664d6bd1c9757282795ba99d164ef
          ]
         },
         "header": {
          "align": [
           "center",
           "center",
           "center",
           "center"
          ],
          "fill": {
           "color": [
<<<<<<< HEAD
            "forestgreen",
=======
            "violet",
>>>>>>> 5c0e54aca78664d6bd1c9757282795ba99d164ef
            "white",
            "white",
            "white"
           ]
          },
          "font": {
<<<<<<< HEAD
           "color": "black",
           "size": 12
          },
          "height": 22,
=======
           "color": "black"
          },
>>>>>>> 5c0e54aca78664d6bd1c9757282795ba99d164ef
          "line": {
           "color": "white"
          },
          "values": [
           [
            "<b>Primary Energy</b>"
           ],
           [
            "<b>Model</b>"
           ],
           [
<<<<<<< HEAD
            "<b>Climate</b>"
=======
            "<b>C-cat</b>"
           ],
           [
            "<b>Other</b>"
           ]
          ]
         },
         "type": "table"
        },
        {
         "cells": {
          "align": [
           "center",
           "center",
           "center",
           "center"
          ],
          "fill": {
           "color": [
            "white",
            [
             "rgb(218.5, 233.5, 241.75)",
             "rgb(228.0, 238.0, 243.5)",
             "rgb(250.75, 205.5, 181.75)",
             "rgb(248.5, 192.0, 164.5)",
             "rgb(253.0, 219.0, 199.0)"
            ],
            [
             "rgb(247.0, 247.0, 247.0)",
             "rgb(136.125, 190.75, 218.625)",
             "rgb(96.625, 165.75, 205.125)",
             "rgb(67.0, 147.0, 195.0)",
             "rgb(45.75, 118.875, 180.625)"
            ],
            [
             "rgb(62.75, 141.375, 192.125)",
             "rgb(193.25, 221.0, 235.5)",
             "rgb(96.625, 165.75, 205.125)",
             "rgb(126.25, 184.5, 215.25)",
             "rgb(193.25, 221.0, 235.5)"
            ]
           ]
          },
          "font": {
           "color": "black",
           "size": 9
          },
          "height": 18,
          "line": {
           "color": "black",
           "width": 0
          },
          "values": [
           [
            "Gases",
            "Total",
            "Liquids",
            "Electricity",
            "Solids|Biomass"
           ],
           [
            0.41,
            0.44,
            0.67,
            0.69,
            0.62
           ],
           [
            0.5,
            0.22,
            0.16,
            0.1,
            0.03
           ],
           [
            0.09,
            0.33,
            0.17,
            0.2,
            0.34
           ]
          ]
         },
         "columnwidth": [
          4,
          1,
          1,
          1
         ],
         "domain": {
          "x": [
           0,
           0.235
          ],
          "y": [
           0,
           0.3333333333333333
          ]
         },
         "header": {
          "align": [
           "center",
           "center",
           "center",
           "center"
          ],
          "fill": {
           "color": [
            "peru",
            "white",
            "white",
            "white"
           ]
          },
          "font": {
           "color": "black"
          },
          "line": {
           "color": "white"
          },
          "values": [
           [
            "<b>Sector Residential</b>"
           ],
           [
            "<b>Model</b>"
           ],
           [
            "<b>C-cat</b>"
>>>>>>> 5c0e54aca78664d6bd1c9757282795ba99d164ef
           ],
           [
            "<b>Other</b>"
           ]
          ]
         },
         "type": "table"
        },
        {
         "cells": {
          "align": [
           "center",
           "center",
           "center",
           "center"
          ],
          "fill": {
           "color": [
            "white",
            [
             "rgb(250.75, 229.5, 217.0)",
<<<<<<< HEAD
             "rgb(251.5, 226.0, 211.0)",
             "rgb(240.25, 156.375, 123.375)",
             "rgb(232.75, 139.125, 110.125)",
             "rgb(244.0, 165.0, 130.0)"
            ],
            [
             "rgb(251.875, 212.25, 190.375)",
             "rgb(213.75, 231.25, 240.875)",
             "rgb(209.0, 229.0, 240.0)",
             "rgb(177.5, 213.0, 231.0)",
             "rgb(146.0, 197.0, 222.0)"
            ],
            [
             "rgb(126.25, 184.5, 215.25)",
             "rgb(232.75, 240.25, 244.375)",
             "rgb(161.75, 205.0, 226.5)",
             "rgb(177.5, 213.0, 231.0)",
             "rgb(228.0, 238.0, 243.5)"
=======
             "rgb(248.5, 240.0, 235.0)",
             "rgb(253.0, 219.0, 199.0)",
             "rgb(246.25, 178.5, 147.25)",
             "rgb(251.5, 226.0, 211.0)",
             "rgb(245.125, 171.75, 138.625)",
             "rgb(214.0, 96.0, 77.0)"
            ],
            [
             "rgb(193.25, 221.0, 235.5)",
             "rgb(169.625, 209.0, 228.75)",
             "rgb(126.25, 184.5, 215.25)",
             "rgb(116.375, 178.25, 211.875)",
             "rgb(106.5, 172.0, 208.5)",
             "rgb(86.75, 159.5, 201.75)",
             "rgb(45.75, 118.875, 180.625)"
            ],
            [
             "rgb(62.75, 141.375, 192.125)",
             "rgb(96.625, 165.75, 205.125)",
             "rgb(96.625, 165.75, 205.125)",
             "rgb(62.75, 141.375, 192.125)",
             "rgb(146.0, 197.0, 222.0)",
             "rgb(67.0, 147.0, 195.0)",
             "rgb(58.5, 135.75, 189.25)"
>>>>>>> 5c0e54aca78664d6bd1c9757282795ba99d164ef
            ]
           ]
          },
          "font": {
           "color": "black",
<<<<<<< HEAD
           "size": 11
          },
          "height": 22,
=======
           "size": 9
          },
          "height": 18,
>>>>>>> 5c0e54aca78664d6bd1c9757282795ba99d164ef
          "line": {
           "color": "black",
           "width": 0
          },
          "values": [
           [
<<<<<<< HEAD
            "Gases",
            "Total",
            "Liquids",
            "Electricity",
            "Biomass"
           ],
           [
            0.43,
            0.45,
            0.64,
            0.66,
            0.61
           ],
           [
            0.5,
            0.25,
            0.23,
            0.17,
            0.1
           ],
           [
            0.07,
            0.3,
            0.14,
            0.17,
            0.29
=======
            "Solids|Coal",
            "Gases",
            "Electricity",
            "Total",
            "Hydrogen",
            "Liquids",
            "Solids|Biomass"
           ],
           [
            0.58,
            0.53,
            0.63,
            0.72,
            0.59,
            0.74,
            0.89
           ],
           [
            0.33,
            0.29,
            0.2,
            0.19,
            0.18,
            0.15,
            0.03
           ],
           [
            0.09,
            0.17,
            0.17,
            0.09,
            0.23,
            0.11,
            0.08
>>>>>>> 5c0e54aca78664d6bd1c9757282795ba99d164ef
           ]
          ]
         },
         "columnwidth": [
          4,
          1,
          1,
          1
         ],
         "domain": {
          "x": [
<<<<<<< HEAD
           0.6933333333333334,
           1
          ],
          "y": [
           0.4,
           0.6
=======
           0.7649999999999999,
           0.9999999999999999
          ],
          "y": [
           0.6666666666666666,
           0.9999999999999999
>>>>>>> 5c0e54aca78664d6bd1c9757282795ba99d164ef
          ]
         },
         "header": {
          "align": [
           "center",
           "center",
           "center",
           "center"
          ],
          "fill": {
           "color": [
            "silver",
            "white",
            "white",
            "white"
           ]
          },
          "font": {
<<<<<<< HEAD
           "color": "black",
           "size": 12
          },
          "height": 22,
=======
           "color": "black"
          },
>>>>>>> 5c0e54aca78664d6bd1c9757282795ba99d164ef
          "line": {
           "color": "white"
          },
          "values": [
           [
<<<<<<< HEAD
            "<b>Buildings</b>"
=======
            "<b>Sector Industry</b>"
>>>>>>> 5c0e54aca78664d6bd1c9757282795ba99d164ef
           ],
           [
            "<b>Model</b>"
           ],
           [
<<<<<<< HEAD
            "<b>Climate</b>"
=======
            "<b>C-cat</b>"
>>>>>>> 5c0e54aca78664d6bd1c9757282795ba99d164ef
           ],
           [
            "<b>Other</b>"
           ]
          ]
         },
         "type": "table"
        },
        {
         "cells": {
          "align": [
           "center",
           "center",
           "center",
           "center"
          ],
          "fill": {
           "color": [
            "white",
            [
<<<<<<< HEAD
             "rgb(247.375, 185.25, 155.875)",
             "rgb(250.75, 205.5, 181.75)",
             "rgb(245.125, 171.75, 138.625)",
             "rgb(246.25, 178.5, 147.25)",
             "rgb(221.5, 113.25, 90.25)",
             "rgb(214.0, 96.0, 77.0)",
             "rgb(221.5, 113.25, 90.25)"
            ],
            [
             "rgb(247.0, 247.0, 247.0)",
             "rgb(242.25, 244.75, 246.125)",
             "rgb(228.0, 238.0, 243.5)",
             "rgb(209.0, 229.0, 240.0)",
             "rgb(209.0, 229.0, 240.0)",
             "rgb(201.125, 225.0, 237.75)",
             "rgb(201.125, 225.0, 237.75)"
            ],
            [
             "rgb(126.25, 184.5, 215.25)",
             "rgb(161.75, 205.0, 226.5)",
             "rgb(161.75, 205.0, 226.5)",
             "rgb(193.25, 221.0, 235.5)",
             "rgb(146.0, 197.0, 222.0)",
             "rgb(116.375, 178.25, 211.875)",
             "rgb(146.0, 197.0, 222.0)"
            ]
           ]
          },
          "font": {
           "color": "black",
           "size": 11
          },
          "height": 22,
          "line": {
           "color": "black",
           "width": 0
          },
          "values": [
           [
            "Coal",
            "Gases",
            "Electricity",
            "Hydrogen",
            "Liquids",
            "Biomass",
            "Total"
           ],
           [
            0.56,
            0.52,
            0.59,
            0.58,
            0.7,
            0.74,
            0.71
           ],
           [
            0.37,
            0.34,
            0.29,
            0.23,
            0.22,
            0.21,
            0.21
           ],
           [
            0.07,
            0.13,
            0.13,
            0.19,
            0.09,
            0.05,
            0.09
           ]
          ]
         },
         "columnwidth": [
          4,
          1,
          1,
          1
         ],
         "domain": {
          "x": [
           0.6933333333333334,
           1
          ],
          "y": [
           0.7999999999999999,
           0.9999999999999999
          ]
         },
         "header": {
          "align": [
           "center",
           "center",
           "center",
           "center"
          ],
          "fill": {
           "color": [
            "peru",
            "white",
            "white",
            "white"
           ]
          },
          "font": {
           "color": "black",
           "size": 12
          },
          "height": 22,
          "line": {
           "color": "white"
          },
          "values": [
           [
            "<b>Industry</b>"
           ],
           [
            "<b>Model</b>"
           ],
           [
            "<b>Climate</b>"
           ],
           [
            "<b>Other</b>"
           ]
          ]
         },
         "type": "table"
        },
        {
         "cells": {
          "align": [
           "center",
           "center",
           "center",
           "center"
          ],
          "fill": {
           "color": [
            "white",
            [
             "rgb(247.0, 247.0, 247.0)",
             "rgb(251.875, 212.25, 190.375)",
             "rgb(244.0, 165.0, 130.0)",
             "rgb(249.25, 236.5, 229.0)",
             "rgb(221.5, 113.25, 90.25)",
             "rgb(246.25, 178.5, 147.25)"
            ],
            [
             "rgb(250.75, 205.5, 181.75)",
             "rgb(237.5, 242.5, 245.25)",
             "rgb(209.0, 229.0, 240.0)",
             "rgb(185.375, 217.0, 233.25)",
             "rgb(177.5, 213.0, 231.0)",
             "rgb(161.75, 205.0, 226.5)"
            ],
            [
             "rgb(161.75, 205.0, 226.5)",
             "rgb(185.375, 217.0, 233.25)",
             "rgb(177.5, 213.0, 231.0)",
             "rgb(249.25, 236.5, 229.0)",
             "rgb(161.75, 205.0, 226.5)",
             "rgb(228.0, 238.0, 243.5)"
=======
             "rgb(185.375, 217.0, 233.25)",
             "rgb(232.75, 240.25, 244.375)",
             "rgb(247.0, 247.0, 247.0)",
             "rgb(253.0, 219.0, 199.0)",
             "rgb(213.75, 231.25, 240.875)",
             "rgb(252.25, 222.5, 205.0)"
            ],
            [
             "rgb(247.75, 243.5, 241.0)",
             "rgb(209.0, 229.0, 240.0)",
             "rgb(177.5, 213.0, 231.0)",
             "rgb(106.5, 172.0, 208.5)",
             "rgb(67.0, 147.0, 195.0)",
             "rgb(37.25, 107.625, 174.875)"
            ],
            [
             "rgb(86.75, 159.5, 201.75)",
             "rgb(106.5, 172.0, 208.5)",
             "rgb(116.375, 178.25, 211.875)",
             "rgb(126.25, 184.5, 215.25)",
             "rgb(247.0, 247.0, 247.0)",
             "rgb(213.75, 231.25, 240.875)"
>>>>>>> 5c0e54aca78664d6bd1c9757282795ba99d164ef
            ]
           ]
          },
          "font": {
           "color": "black",
<<<<<<< HEAD
           "size": 11
          },
          "height": 22,
=======
           "size": 9
          },
          "height": 18,
>>>>>>> 5c0e54aca78664d6bd1c9757282795ba99d164ef
          "line": {
           "color": "black",
           "width": 0
          },
          "values": [
           [
<<<<<<< HEAD
            "Oil",
            "Total",
            "Electricity",
            "Hydrogen",
            "Bioenergy",
            "Gases"
           ],
           [
            0.35,
            0.5,
            0.6,
            0.41,
            0.7,
            0.58
           ],
           [
            0.52,
            0.32,
            0.24,
            0.18,
            0.17,
            0.13
           ],
           [
            0.13,
            0.18,
            0.17,
            0.41,
            0.14,
            0.29
=======
            "Liquids|Oil",
            "Liquids",
            "Total",
            "Electricity",
            "Hydrogen",
            "Gases"
           ],
           [
            0.32,
            0.45,
            0.5,
            0.62,
            0.39,
            0.61
           ],
           [
            0.52,
            0.36,
            0.31,
            0.18,
            0.11,
            0
           ],
           [
            0.15,
            0.18,
            0.19,
            0.2,
            0.5,
            0.39
>>>>>>> 5c0e54aca78664d6bd1c9757282795ba99d164ef
           ]
          ]
         },
         "columnwidth": [
          4,
          1,
          1,
          1
         ],
         "domain": {
          "x": [
<<<<<<< HEAD
           0.6933333333333334,
           1
          ],
          "y": [
           0.6,
           0.7999999999999999
=======
           0.7649999999999999,
           0.9999999999999999
          ],
          "y": [
           0.3333333333333333,
           0.6666666666666666
>>>>>>> 5c0e54aca78664d6bd1c9757282795ba99d164ef
          ]
         },
         "header": {
          "align": [
           "center",
           "center",
           "center",
           "center"
          ],
          "fill": {
           "color": [
            "teal",
            "white",
            "white",
            "white"
           ]
          },
          "font": {
<<<<<<< HEAD
           "color": "black",
           "size": 12
          },
          "height": 22,
=======
           "color": "black"
          },
>>>>>>> 5c0e54aca78664d6bd1c9757282795ba99d164ef
          "line": {
           "color": "white"
          },
          "values": [
           [
<<<<<<< HEAD
            "<b>Transport</b>"
=======
            "<b>Sector Transportation</b>"
>>>>>>> 5c0e54aca78664d6bd1c9757282795ba99d164ef
           ],
           [
            "<b>Model</b>"
           ],
           [
<<<<<<< HEAD
            "<b>Climate</b>"
=======
            "<b>C-cat</b>"
>>>>>>> 5c0e54aca78664d6bd1c9757282795ba99d164ef
           ],
           [
            "<b>Other</b>"
           ]
          ]
         },
         "type": "table"
        },
        {
         "cells": {
          "align": [
           "center",
           "center",
           "center",
           "center"
          ],
          "fill": {
           "color": [
            "white",
            [
<<<<<<< HEAD
             "rgb(161.75, 205.0, 226.5)",
             "rgb(223.25, 235.75, 242.625)",
             "rgb(247.0, 247.0, 247.0)",
             "rgb(247.0, 247.0, 247.0)",
             "rgb(249.25, 236.5, 229.0)",
             "rgb(253.0, 219.0, 199.0)",
             "rgb(253.0, 219.0, 199.0)",
             "rgb(249.625, 198.75, 173.125)",
             "rgb(250.75, 205.5, 181.75)",
             "rgb(221.5, 113.25, 90.25)",
             "rgb(244.0, 165.0, 130.0)",
             "rgb(232.75, 139.125, 110.125)",
             "rgb(214.0, 96.0, 77.0)"
            ],
            [
             "rgb(214.0, 96.0, 77.0)",
             "rgb(249.625, 198.75, 173.125)",
             "rgb(251.5, 226.0, 211.0)",
             "rgb(248.5, 240.0, 235.0)",
             "rgb(247.75, 243.5, 241.0)",
             "rgb(247.0, 247.0, 247.0)",
             "rgb(228.0, 238.0, 243.5)",
             "rgb(201.125, 225.0, 237.75)",
             "rgb(201.125, 225.0, 237.75)",
             "rgb(193.25, 221.0, 235.5)",
             "rgb(193.25, 221.0, 235.5)",
             "rgb(169.625, 209.0, 228.75)",
             "rgb(146.0, 197.0, 222.0)"
            ],
            [
             "rgb(153.875, 201.0, 224.25)",
             "rgb(185.375, 217.0, 233.25)",
             "rgb(185.375, 217.0, 233.25)",
             "rgb(218.5, 233.5, 241.75)",
             "rgb(201.125, 225.0, 237.75)",
             "rgb(177.5, 213.0, 231.0)",
             "rgb(209.0, 229.0, 240.0)",
             "rgb(218.5, 233.5, 241.75)",
             "rgb(223.25, 235.75, 242.625)",
             "rgb(146.0, 197.0, 222.0)",
             "rgb(201.125, 225.0, 237.75)",
             "rgb(185.375, 217.0, 233.25)",
             "rgb(177.5, 213.0, 231.0)"
=======
             "rgb(50.0, 124.5, 183.5)",
             "rgb(146.0, 197.0, 222.0)",
             "rgb(169.625, 209.0, 228.75)",
             "rgb(209.0, 229.0, 240.0)",
             "rgb(247.0, 247.0, 247.0)",
             "rgb(247.0, 247.0, 247.0)",
             "rgb(248.5, 240.0, 235.0)",
             "rgb(244.0, 165.0, 130.0)",
             "rgb(248.5, 240.0, 235.0)",
             "rgb(253.0, 219.0, 199.0)",
             "rgb(240.25, 156.375, 123.375)"
            ],
            [
             "rgb(232.75, 139.125, 110.125)",
             "rgb(249.25, 236.5, 229.0)",
             "rgb(209.0, 229.0, 240.0)",
             "rgb(193.25, 221.0, 235.5)",
             "rgb(177.5, 213.0, 231.0)",
             "rgb(146.0, 197.0, 222.0)",
             "rgb(96.625, 165.75, 205.125)",
             "rgb(76.875, 153.25, 198.375)",
             "rgb(76.875, 153.25, 198.375)",
             "rgb(67.0, 147.0, 195.0)",
             "rgb(41.5, 113.25, 177.75)"
            ],
            [
             "rgb(86.75, 159.5, 201.75)",
             "rgb(126.25, 184.5, 215.25)",
             "rgb(201.125, 225.0, 237.75)",
             "rgb(169.625, 209.0, 228.75)",
             "rgb(126.25, 184.5, 215.25)",
             "rgb(161.75, 205.0, 226.5)",
             "rgb(169.625, 209.0, 228.75)",
             "rgb(67.0, 147.0, 195.0)",
             "rgb(193.25, 221.0, 235.5)",
             "rgb(146.0, 197.0, 222.0)",
             "rgb(126.25, 184.5, 215.25)"
>>>>>>> 5c0e54aca78664d6bd1c9757282795ba99d164ef
            ]
           ]
          },
          "font": {
           "color": "black",
<<<<<<< HEAD
           "size": 11
          },
          "height": 22,
=======
           "size": 9
          },
          "height": 18,
>>>>>>> 5c0e54aca78664d6bd1c9757282795ba99d164ef
          "line": {
           "color": "black",
           "width": 0
          },
          "values": [
           [
<<<<<<< HEAD
            "Coal (without CCS)",
            "Gas (without CCS)",
            "Renewables (incl. Biomass)",
            "Biomass (with CCS)",
            "Total",
            "Wind",
            "Gas (with CCS)",
            "Solar",
            "Nuclear",
            "Hydro",
            "Coal (with CCS)",
            "Geothermal",
            "Biomass (without CCS)"
           ],
           [
            0.13,
            0.28,
            0.36,
            0.35,
            0.41,
            0.49,
            0.49,
            0.53,
            0.52,
            0.71,
            0.61,
            0.67,
            0.73
           ],
           [
            0.75,
            0.54,
            0.45,
            0.39,
            0.38,
            0.35,
            0.29,
            0.21,
            0.2,
            0.19,
            0.19,
            0.15,
            0.11
           ],
           [
            0.12,
            0.18,
            0.18,
            0.26,
            0.21,
            0.16,
            0.22,
            0.26,
            0.28,
            0.1,
            0.2,
            0.18,
            0.16
=======
            "Coal|w/o CCS",
            "Gas|w/o CCS",
            "Biomass|w/ CCS",
            "Total",
            "Wind",
            "Gas|w/ CCS",
            "Solar",
            "Hydro",
            "Nuclear",
            "Coal|w/ CCS",
            "Biomass|w/o CCS"
           ],
           [
            0.05,
            0.24,
            0.29,
            0.38,
            0.49,
            0.49,
            0.54,
            0.75,
            0.53,
            0.63,
            0.78
           ],
           [
            0.8,
            0.55,
            0.36,
            0.33,
            0.31,
            0.23,
            0.17,
            0.13,
            0.13,
            0.12,
            0.02
           ],
           [
            0.15,
            0.21,
            0.35,
            0.29,
            0.2,
            0.28,
            0.29,
            0.12,
            0.34,
            0.25,
            0.2
>>>>>>> 5c0e54aca78664d6bd1c9757282795ba99d164ef
           ]
          ]
         },
         "columnwidth": [
          4,
          1,
          1,
          1
         ],
         "domain": {
          "x": [
<<<<<<< HEAD
           0.6933333333333334,
           1
          ],
          "y": [
           0,
           0.4
=======
           0.7649999999999999,
           0.9999999999999999
          ],
          "y": [
           0,
           0.3333333333333333
>>>>>>> 5c0e54aca78664d6bd1c9757282795ba99d164ef
          ]
         },
         "header": {
          "align": [
           "center",
           "center",
           "center",
           "center"
          ],
          "fill": {
           "color": [
<<<<<<< HEAD
            "goldenrod",
=======
            "forestgreen",
>>>>>>> 5c0e54aca78664d6bd1c9757282795ba99d164ef
            "white",
            "white",
            "white"
           ]
          },
          "font": {
<<<<<<< HEAD
           "color": "black",
           "size": 12
          },
          "height": 22,
=======
           "color": "black"
          },
>>>>>>> 5c0e54aca78664d6bd1c9757282795ba99d164ef
          "line": {
           "color": "white"
          },
          "values": [
           [
<<<<<<< HEAD
            "<b>Electricity</b>"
=======
            "<b>Electricity Generation</b>"
>>>>>>> 5c0e54aca78664d6bd1c9757282795ba99d164ef
           ],
           [
            "<b>Model</b>"
           ],
           [
<<<<<<< HEAD
            "<b>Climate</b>"
=======
            "<b>C-cat</b>"
>>>>>>> 5c0e54aca78664d6bd1c9757282795ba99d164ef
           ],
           [
            "<b>Other</b>"
           ]
          ]
         },
         "type": "table"
        },
        {
         "a": [
          0,
<<<<<<< HEAD
          5,
          0,
          0,
          0,
          0
         ],
         "b": [
          100,
          95,
          95,
          100,
          100,
          100
         ],
         "c": [
          0,
          0,
          5,
          0,
          0,
          0
         ],
         "fill": "toself",
         "fillcolor": "rgb(0.0, 0.0, 0.0)",
         "hoverinfo": "skip",
         "line": {
          "color": "black",
          "width": 0
         },
         "mode": "lines",
         "opacity": 0.2,
         "showlegend": false,
         "subplot": "ternary",
         "text": "50",
=======
          0
         ],
         "b": [
          0,
          1
         ],
         "c": [
          1,
          0
         ],
         "hoverinfo": "skip",
         "line": {
          "color": "rgb(1.0,1.0,1.0)",
          "width": 0.25
         },
         "mode": "lines",
         "showlegend": false,
         "subplot": "ternary",
>>>>>>> 5c0e54aca78664d6bd1c9757282795ba99d164ef
         "type": "scatterternary"
        },
        {
         "a": [
          0,
<<<<<<< HEAD
          0,
          5,
          0,
          0,
          0
         ],
         "b": [
          0,
          5,
          0,
          0,
          0,
          0
         ],
         "c": [
          100,
          95,
          95,
          100,
          100,
          100
         ],
         "fill": "toself",
         "fillcolor": "rgb(0.0, 0.0, 0.0)",
         "hoverinfo": "skip",
         "line": {
          "color": "black",
          "width": 0
         },
         "mode": "lines",
         "opacity": 0.2,
         "showlegend": false,
         "subplot": "ternary",
         "text": "50",
=======
          1
         ],
         "b": [
          0,
          0
         ],
         "c": [
          1,
          0
         ],
         "hoverinfo": "skip",
         "line": {
          "color": "rgb(1.0,1.0,1.0)",
          "width": 0.25
         },
         "mode": "lines",
         "showlegend": false,
         "subplot": "ternary",
>>>>>>> 5c0e54aca78664d6bd1c9757282795ba99d164ef
         "type": "scatterternary"
        },
        {
         "a": [
<<<<<<< HEAD
          100,
          95,
          95,
          100,
          100,
          100
         ],
         "b": [
          0,
          0,
          5,
          0,
          0,
=======
          0,
          1
         ],
         "b": [
          1,
>>>>>>> 5c0e54aca78664d6bd1c9757282795ba99d164ef
          0
         ],
         "c": [
          0,
<<<<<<< HEAD
          5,
          0,
          0,
          0,
          0
         ],
         "fill": "toself",
         "fillcolor": "rgb(0.0, 0.0, 0.0)",
         "hoverinfo": "skip",
         "line": {
          "color": "black",
          "width": 0
         },
         "mode": "lines",
         "opacity": 0.2,
         "showlegend": false,
         "subplot": "ternary",
         "text": "50",
=======
          0
         ],
         "hoverinfo": "skip",
         "line": {
          "color": "rgb(1.0,1.0,1.0)",
          "width": 0.25
         },
         "mode": "lines",
         "showlegend": false,
         "subplot": "ternary",
>>>>>>> 5c0e54aca78664d6bd1c9757282795ba99d164ef
         "type": "scatterternary"
        },
        {
         "a": [
<<<<<<< HEAD
          5,
          10,
          0,
          0,
          5,
          5
         ],
         "b": [
          95,
          90,
          90,
          95,
          95,
          95
         ],
         "c": [
          0,
          0,
          10,
          5,
          0,
          0
         ],
         "fill": "toself",
         "fillcolor": "rgb(0.0, 0.0, 0.0)",
         "hoverinfo": "skip",
         "line": {
          "color": "black",
          "width": 0
         },
         "mode": "lines",
         "opacity": 0.2,
         "showlegend": false,
         "subplot": "ternary",
         "text": "50",
=======
          0.1,
          0.1
         ],
         "b": [
          0,
          0.9
         ],
         "c": [
          0.9,
          0
         ],
         "hoverinfo": "skip",
         "line": {
          "color": "rgb(0.9778546712802768,0.9778546712802768,0.9778546712802768)",
          "width": 0.35
         },
         "mode": "lines",
         "showlegend": false,
         "subplot": "ternary",
>>>>>>> 5c0e54aca78664d6bd1c9757282795ba99d164ef
         "type": "scatterternary"
        },
        {
         "a": [
          0,
<<<<<<< HEAD
          0,
          10,
          5,
          0,
          0
         ],
         "b": [
          5,
          10,
          0,
          0,
          5,
          5
         ],
         "c": [
          95,
          90,
          90,
          95,
          95,
          95
         ],
         "fill": "toself",
         "fillcolor": "rgb(8.80952380952381, 8.80952380952381, 8.80952380952381)",
         "hoverinfo": "skip",
         "line": {
          "color": "black",
          "width": 0
         },
         "mode": "lines",
         "opacity": 0.2,
         "showlegend": false,
         "subplot": "ternary",
         "text": "50",
=======
          0.9
         ],
         "b": [
          0.1,
          0.1
         ],
         "c": [
          0.9,
          0
         ],
         "hoverinfo": "skip",
         "line": {
          "color": "rgb(0.9778546712802768,0.9778546712802768,0.9778546712802768)",
          "width": 0.35
         },
         "mode": "lines",
         "showlegend": false,
         "subplot": "ternary",
>>>>>>> 5c0e54aca78664d6bd1c9757282795ba99d164ef
         "type": "scatterternary"
        },
        {
         "a": [
<<<<<<< HEAD
          95,
          90,
          90,
          95,
          95,
          95
         ],
         "b": [
          0,
          0,
          10,
          5,
          0,
          0
         ],
         "c": [
          5,
          10,
          0,
          0,
          5,
          5
         ],
         "fill": "toself",
         "fillcolor": "rgb(19.38095238095238, 19.38095238095238, 19.38095238095238)",
         "hoverinfo": "skip",
         "line": {
          "color": "black",
          "width": 0
         },
         "mode": "lines",
         "opacity": 0.2,
         "showlegend": false,
         "subplot": "ternary",
         "text": "50",
=======
          0,
          0.9
         ],
         "b": [
          0.9,
          0
         ],
         "c": [
          0.1,
          0.1
         ],
         "hoverinfo": "skip",
         "line": {
          "color": "rgb(0.9778546712802768,0.9778546712802768,0.9778546712802768)",
          "width": 0.35
         },
         "mode": "lines",
         "showlegend": false,
         "subplot": "ternary",
>>>>>>> 5c0e54aca78664d6bd1c9757282795ba99d164ef
         "type": "scatterternary"
        },
        {
         "a": [
<<<<<<< HEAD
          10,
          15,
          0,
          0,
          10,
          10
         ],
         "b": [
          90,
          85,
          85,
          90,
          90,
          90
         ],
         "c": [
          0,
          0,
          15,
          10,
          0,
          0
         ],
         "fill": "toself",
         "fillcolor": "rgb(29.952380952380953, 29.952380952380953, 29.952380952380953)",
         "hoverinfo": "skip",
         "line": {
          "color": "black",
          "width": 0
         },
         "mode": "lines",
         "opacity": 0.2,
         "showlegend": false,
         "subplot": "ternary",
         "text": "50",
=======
          0.2,
          0.2
         ],
         "b": [
          0,
          0.8
         ],
         "c": [
          0.8,
          0
         ],
         "hoverinfo": "skip",
         "line": {
          "color": "rgb(0.9538638985005767,0.9538638985005767,0.9538638985005767)",
          "width": 0.45
         },
         "mode": "lines",
         "showlegend": false,
         "subplot": "ternary",
>>>>>>> 5c0e54aca78664d6bd1c9757282795ba99d164ef
         "type": "scatterternary"
        },
        {
         "a": [
          0,
<<<<<<< HEAD
          0,
          15,
          10,
          0,
          0
         ],
         "b": [
          10,
          15,
          0,
          0,
          10,
          10
         ],
         "c": [
          90,
          85,
          85,
          90,
          90,
          90
         ],
         "fill": "toself",
         "fillcolor": "rgb(39.142857142857146, 39.142857142857146, 39.142857142857146)",
         "hoverinfo": "skip",
         "line": {
          "color": "black",
          "width": 0
         },
         "mode": "lines",
         "opacity": 0.2,
         "showlegend": false,
         "subplot": "ternary",
         "text": "50",
=======
          0.8
         ],
         "b": [
          0.2,
          0.2
         ],
         "c": [
          0.8,
          0
         ],
         "hoverinfo": "skip",
         "line": {
          "color": "rgb(0.9538638985005767,0.9538638985005767,0.9538638985005767)",
          "width": 0.45
         },
         "mode": "lines",
         "showlegend": false,
         "subplot": "ternary",
>>>>>>> 5c0e54aca78664d6bd1c9757282795ba99d164ef
         "type": "scatterternary"
        },
        {
         "a": [
<<<<<<< HEAD
          90,
          85,
          85,
          90,
          90,
          90
         ],
         "b": [
          0,
          0,
          15,
          10,
          0,
          0
         ],
         "c": [
          10,
          15,
          0,
          0,
          10,
          10
         ],
         "fill": "toself",
         "fillcolor": "rgb(49.85714285714286, 49.85714285714286, 49.85714285714286)",
         "hoverinfo": "skip",
         "line": {
          "color": "black",
          "width": 0
         },
         "mode": "lines",
         "opacity": 0.2,
         "showlegend": false,
         "subplot": "ternary",
         "text": "50",
=======
          0,
          0.8
         ],
         "b": [
          0.8,
          0
         ],
         "c": [
          0.2,
          0.2
         ],
         "hoverinfo": "skip",
         "line": {
          "color": "rgb(0.9538638985005767,0.9538638985005767,0.9538638985005767)",
          "width": 0.45
         },
         "mode": "lines",
         "showlegend": false,
         "subplot": "ternary",
>>>>>>> 5c0e54aca78664d6bd1c9757282795ba99d164ef
         "type": "scatterternary"
        },
        {
         "a": [
<<<<<<< HEAD
          15,
          20,
          0,
          0,
          15,
          15
         ],
         "b": [
          85,
          80,
          80,
          85,
          85,
          85
         ],
         "c": [
          0,
          0,
          20,
          15,
          0,
          0
         ],
         "fill": "toself",
         "fillcolor": "rgb(62.714285714285715, 62.714285714285715, 62.714285714285715)",
         "hoverinfo": "skip",
         "line": {
          "color": "black",
          "width": 0
         },
         "mode": "lines",
         "opacity": 0.2,
         "showlegend": false,
         "subplot": "ternary",
         "text": "50",
=======
          0.30000000000000004,
          0.30000000000000004
         ],
         "b": [
          0,
          0.7
         ],
         "c": [
          0.7,
          0
         ],
         "hoverinfo": "skip",
         "line": {
          "color": "rgb(0.9238446751249519,0.9238446751249519,0.9238446751249519)",
          "width": 0.55
         },
         "mode": "lines",
         "showlegend": false,
         "subplot": "ternary",
>>>>>>> 5c0e54aca78664d6bd1c9757282795ba99d164ef
         "type": "scatterternary"
        },
        {
         "a": [
          0,
<<<<<<< HEAD
          0,
          20,
          15,
          0,
          0
         ],
         "b": [
          15,
          20,
          0,
          0,
          15,
          15
         ],
         "c": [
          85,
          80,
          80,
          85,
          85,
          85
         ],
         "fill": "toself",
         "fillcolor": "rgb(75.57142857142857, 75.57142857142857, 75.57142857142857)",
         "hoverinfo": "skip",
         "line": {
          "color": "black",
          "width": 0
         },
         "mode": "lines",
         "opacity": 0.2,
         "showlegend": false,
         "subplot": "ternary",
         "text": "50",
=======
          0.7
         ],
         "b": [
          0.30000000000000004,
          0.30000000000000004
         ],
         "c": [
          0.7,
          0
         ],
         "hoverinfo": "skip",
         "line": {
          "color": "rgb(0.9238446751249519,0.9238446751249519,0.9238446751249519)",
          "width": 0.55
         },
         "mode": "lines",
         "showlegend": false,
         "subplot": "ternary",
>>>>>>> 5c0e54aca78664d6bd1c9757282795ba99d164ef
         "type": "scatterternary"
        },
        {
         "a": [
<<<<<<< HEAD
          85,
          80,
          80,
          85,
          85,
          85
         ],
         "b": [
          0,
          0,
          20,
          15,
          0,
          0
         ],
         "c": [
          15,
          20,
          0,
          0,
          15,
          15
         ],
         "fill": "toself",
         "fillcolor": "rgb(85.14285714285714, 85.14285714285714, 85.14285714285714)",
         "hoverinfo": "skip",
         "line": {
          "color": "black",
          "width": 0
         },
         "mode": "lines",
         "opacity": 0.2,
         "showlegend": false,
         "subplot": "ternary",
         "text": "50",
=======
          0,
          0.7
         ],
         "b": [
          0.7,
          0
         ],
         "c": [
          0.30000000000000004,
          0.30000000000000004
         ],
         "hoverinfo": "skip",
         "line": {
          "color": "rgb(0.9238446751249519,0.9238446751249519,0.9238446751249519)",
          "width": 0.55
         },
         "mode": "lines",
         "showlegend": false,
         "subplot": "ternary",
>>>>>>> 5c0e54aca78664d6bd1c9757282795ba99d164ef
         "type": "scatterternary"
        },
        {
         "a": [
<<<<<<< HEAD
          20,
          25,
          0,
          0,
          20,
          20
         ],
         "b": [
          80,
          75,
          75,
          80,
          80,
          80
         ],
         "c": [
          0,
          0,
          25,
          20,
          0,
          0
         ],
         "fill": "toself",
         "fillcolor": "rgb(94.57142857142857, 94.57142857142857, 94.57142857142857)",
         "hoverinfo": "skip",
         "line": {
          "color": "black",
          "width": 0
         },
         "mode": "lines",
         "opacity": 0.2,
         "showlegend": false,
         "subplot": "ternary",
         "text": "50",
=======
          0.4,
          0.4
         ],
         "b": [
          0,
          0.6
         ],
         "c": [
          0.6,
          0
         ],
         "hoverinfo": "skip",
         "line": {
          "color": "rgb(0.8870588235294118,0.8870588235294118,0.8870588235294118)",
          "width": 0.65
         },
         "mode": "lines",
         "showlegend": false,
         "subplot": "ternary",
>>>>>>> 5c0e54aca78664d6bd1c9757282795ba99d164ef
         "type": "scatterternary"
        },
        {
         "a": [
          0,
<<<<<<< HEAD
          0,
          25,
          20,
          0,
          0
         ],
         "b": [
          20,
          25,
          0,
          0,
          20,
          20
         ],
         "c": [
          80,
          75,
          75,
          80,
          80,
          80
         ],
         "fill": "toself",
         "fillcolor": "rgb(104.0, 104.0, 104.0)",
         "hoverinfo": "skip",
         "line": {
          "color": "black",
          "width": 0
         },
         "mode": "lines",
         "opacity": 0.2,
         "showlegend": false,
         "subplot": "ternary",
         "text": "50",
=======
          0.6
         ],
         "b": [
          0.4,
          0.4
         ],
         "c": [
          0.6,
          0
         ],
         "hoverinfo": "skip",
         "line": {
          "color": "rgb(0.8870588235294118,0.8870588235294118,0.8870588235294118)",
          "width": 0.65
         },
         "mode": "lines",
         "showlegend": false,
         "subplot": "ternary",
>>>>>>> 5c0e54aca78664d6bd1c9757282795ba99d164ef
         "type": "scatterternary"
        },
        {
         "a": [
<<<<<<< HEAD
          80,
          75,
          75,
          80,
          80,
          80
         ],
         "b": [
          0,
          0,
          25,
          20,
          0,
          0
         ],
         "c": [
          20,
          25,
          0,
          0,
          20,
          20
         ],
         "fill": "toself",
         "fillcolor": "rgb(113.42857142857143, 113.42857142857143, 113.42857142857143)",
         "hoverinfo": "skip",
         "line": {
          "color": "black",
          "width": 0
         },
         "mode": "lines",
         "opacity": 0.2,
         "showlegend": false,
         "subplot": "ternary",
         "text": "50",
=======
          0,
          0.6
         ],
         "b": [
          0.6,
          0
         ],
         "c": [
          0.4,
          0.4
         ],
         "hoverinfo": "skip",
         "line": {
          "color": "rgb(0.8870588235294118,0.8870588235294118,0.8870588235294118)",
          "width": 0.65
         },
         "mode": "lines",
         "showlegend": false,
         "subplot": "ternary",
>>>>>>> 5c0e54aca78664d6bd1c9757282795ba99d164ef
         "type": "scatterternary"
        },
        {
         "a": [
<<<<<<< HEAD
          25,
          30,
          0,
          0,
          25,
          25
         ],
         "b": [
          75,
          70,
          70,
          75,
          75,
          75
         ],
         "c": [
          0,
          0,
          30,
          25,
          0,
          0
         ],
         "fill": "toself",
         "fillcolor": "rgb(121.66666666666666, 121.66666666666666, 121.66666666666666)",
         "hoverinfo": "skip",
         "line": {
          "color": "black",
          "width": 0
         },
         "mode": "lines",
         "opacity": 0.2,
         "showlegend": false,
         "subplot": "ternary",
         "text": "50",
=======
          0.5,
          0.5
         ],
         "b": [
          0,
          0.5
         ],
         "c": [
          0.5,
          0
         ],
         "hoverinfo": "skip",
         "line": {
          "color": "rgb(0.8501191849288735,0.8501191849288735,0.8501191849288735)",
          "width": 0.75
         },
         "mode": "lines",
         "showlegend": false,
         "subplot": "ternary",
>>>>>>> 5c0e54aca78664d6bd1c9757282795ba99d164ef
         "type": "scatterternary"
        },
        {
         "a": [
          0,
<<<<<<< HEAD
          0,
          30,
          25,
          0,
          0
         ],
         "b": [
          25,
          30,
          0,
          0,
          25,
          25
         ],
         "c": [
          75,
          70,
          70,
          75,
          75,
          75
         ],
         "fill": "toself",
         "fillcolor": "rgb(130.0, 130.0, 130.0)",
         "hoverinfo": "skip",
         "line": {
          "color": "black",
          "width": 0
         },
         "mode": "lines",
         "opacity": 0.2,
         "showlegend": false,
         "subplot": "ternary",
         "text": "50",
=======
          0.5
         ],
         "b": [
          0.5,
          0.5
         ],
         "c": [
          0.5,
          0
         ],
         "hoverinfo": "skip",
         "line": {
          "color": "rgb(0.8501191849288735,0.8501191849288735,0.8501191849288735)",
          "width": 0.75
         },
         "mode": "lines",
         "showlegend": false,
         "subplot": "ternary",
>>>>>>> 5c0e54aca78664d6bd1c9757282795ba99d164ef
         "type": "scatterternary"
        },
        {
         "a": [
<<<<<<< HEAD
          75,
          70,
          70,
          75,
          75,
          75
         ],
         "b": [
          0,
          0,
          30,
          25,
          0,
          0
         ],
         "c": [
          25,
          30,
          0,
          0,
          25,
          25
         ],
         "fill": "toself",
         "fillcolor": "rgb(140.0, 140.0, 140.0)",
         "hoverinfo": "skip",
         "line": {
          "color": "black",
          "width": 0
         },
         "mode": "lines",
         "opacity": 0.2,
         "showlegend": false,
         "subplot": "ternary",
         "text": "50",
=======
          0,
          0.5
         ],
         "b": [
          0.5,
          0
         ],
         "c": [
          0.5,
          0.5
         ],
         "hoverinfo": "skip",
         "line": {
          "color": "rgb(0.8501191849288735,0.8501191849288735,0.8501191849288735)",
          "width": 0.75
         },
         "mode": "lines",
         "showlegend": false,
         "subplot": "ternary",
>>>>>>> 5c0e54aca78664d6bd1c9757282795ba99d164ef
         "type": "scatterternary"
        },
        {
         "a": [
<<<<<<< HEAD
          30,
          35,
          0,
          0,
          30,
          30
         ],
         "b": [
          70,
          65,
          65,
          70,
          70,
          70
         ],
         "c": [
          0,
          0,
          35,
          30,
          0,
          0
         ],
         "fill": "toself",
         "fillcolor": "rgb(150.0, 150.0, 150.0)",
         "hoverinfo": "skip",
         "line": {
          "color": "black",
          "width": 0
         },
         "mode": "lines",
         "opacity": 0.2,
         "showlegend": false,
         "subplot": "ternary",
         "text": "50",
=======
          0.6000000000000001,
          0.6000000000000001
         ],
         "b": [
          0,
          0.3999999999999999
         ],
         "c": [
          0.3999999999999999,
          0
         ],
         "hoverinfo": "skip",
         "line": {
          "color": "rgb(0.8087812379853903,0.8087812379853903,0.8087812379853903)",
          "width": 0.8500000000000001
         },
         "mode": "lines",
         "showlegend": false,
         "subplot": "ternary",
>>>>>>> 5c0e54aca78664d6bd1c9757282795ba99d164ef
         "type": "scatterternary"
        },
        {
         "a": [
          0,
<<<<<<< HEAD
          0,
          35,
          30,
          0,
          0
         ],
         "b": [
          30,
          35,
          0,
          0,
          30,
          30
         ],
         "c": [
          70,
          65,
          65,
          70,
          70,
          70
         ],
         "fill": "toself",
         "fillcolor": "rgb(159.28571428571428, 159.28571428571428, 159.28571428571428)",
         "hoverinfo": "skip",
         "line": {
          "color": "black",
          "width": 0
         },
         "mode": "lines",
         "opacity": 0.2,
         "showlegend": false,
         "subplot": "ternary",
         "text": "50",
=======
          0.3999999999999999
         ],
         "b": [
          0.6000000000000001,
          0.6000000000000001
         ],
         "c": [
          0.3999999999999999,
          0
         ],
         "hoverinfo": "skip",
         "line": {
          "color": "rgb(0.8087812379853903,0.8087812379853903,0.8087812379853903)",
          "width": 0.8500000000000001
         },
         "mode": "lines",
         "showlegend": false,
         "subplot": "ternary",
>>>>>>> 5c0e54aca78664d6bd1c9757282795ba99d164ef
         "type": "scatterternary"
        },
        {
         "a": [
<<<<<<< HEAD
          70,
          65,
          65,
          70,
          70,
          70
         ],
         "b": [
          0,
          0,
          35,
          30,
          0,
          0
         ],
         "c": [
          30,
          35,
          0,
          0,
          30,
          30
         ],
         "fill": "toself",
         "fillcolor": "rgb(170.42857142857142, 170.42857142857142, 170.42857142857142)",
         "hoverinfo": "skip",
         "line": {
          "color": "black",
          "width": 0
         },
         "mode": "lines",
         "opacity": 0.2,
         "showlegend": false,
         "subplot": "ternary",
         "text": "50",
=======
          0,
          0.3999999999999999
         ],
         "b": [
          0.3999999999999999,
          0
         ],
         "c": [
          0.6000000000000001,
          0.6000000000000001
         ],
         "hoverinfo": "skip",
         "line": {
          "color": "rgb(0.8087812379853903,0.8087812379853903,0.8087812379853903)",
          "width": 0.8500000000000001
         },
         "mode": "lines",
         "showlegend": false,
         "subplot": "ternary",
>>>>>>> 5c0e54aca78664d6bd1c9757282795ba99d164ef
         "type": "scatterternary"
        },
        {
         "a": [
<<<<<<< HEAD
          35,
          40,
          0,
          0,
          35,
          35
         ],
         "b": [
          65,
          60,
          60,
          65,
          65,
          65
         ],
         "c": [
          0,
          0,
          40,
          35,
          0,
          0
         ],
         "fill": "toself",
         "fillcolor": "rgb(181.57142857142858, 181.57142857142858, 181.57142857142858)",
         "hoverinfo": "skip",
         "line": {
          "color": "black",
          "width": 0
         },
         "mode": "lines",
         "opacity": 0.2,
         "showlegend": false,
         "subplot": "ternary",
         "text": "50",
=======
          0.7000000000000001,
          0.7000000000000001
         ],
         "b": [
          0,
          0.29999999999999993
         ],
         "c": [
          0.29999999999999993,
          0
         ],
         "hoverinfo": "skip",
         "line": {
          "color": "rgb(0.76399846212995,0.76399846212995,0.76399846212995)",
          "width": 0.9500000000000001
         },
         "mode": "lines",
         "showlegend": false,
         "subplot": "ternary",
>>>>>>> 5c0e54aca78664d6bd1c9757282795ba99d164ef
         "type": "scatterternary"
        },
        {
         "a": [
          0,
<<<<<<< HEAD
          0,
          40,
          35,
          0,
          0
         ],
         "b": [
          35,
          40,
          0,
          0,
          35,
          35
         ],
         "c": [
          65,
          60,
          60,
          65,
          65,
          65
         ],
         "fill": "toself",
         "fillcolor": "rgb(190.33333333333334, 190.33333333333334, 190.33333333333334)",
         "hoverinfo": "skip",
         "line": {
          "color": "black",
          "width": 0
         },
         "mode": "lines",
         "opacity": 0.2,
         "showlegend": false,
         "subplot": "ternary",
         "text": "50",
=======
          0.29999999999999993
         ],
         "b": [
          0.7000000000000001,
          0.7000000000000001
         ],
         "c": [
          0.29999999999999993,
          0
         ],
         "hoverinfo": "skip",
         "line": {
          "color": "rgb(0.76399846212995,0.76399846212995,0.76399846212995)",
          "width": 0.9500000000000001
         },
         "mode": "lines",
         "showlegend": false,
         "subplot": "ternary",
>>>>>>> 5c0e54aca78664d6bd1c9757282795ba99d164ef
         "type": "scatterternary"
        },
        {
         "a": [
<<<<<<< HEAD
          65,
          60,
          60,
          65,
          65,
          65
         ],
         "b": [
          0,
          0,
          40,
          35,
          0,
          0
         ],
         "c": [
          35,
          40,
          0,
          0,
          35,
          35
         ],
         "fill": "toself",
         "fillcolor": "rgb(198.33333333333334, 198.33333333333334, 198.33333333333334)",
         "hoverinfo": "skip",
         "line": {
          "color": "black",
          "width": 0
         },
         "mode": "lines",
         "opacity": 0.2,
         "showlegend": false,
         "subplot": "ternary",
         "text": "50",
=======
          0,
          0.29999999999999993
         ],
         "b": [
          0.29999999999999993,
          0
         ],
         "c": [
          0.7000000000000001,
          0.7000000000000001
         ],
         "hoverinfo": "skip",
         "line": {
          "color": "rgb(0.76399846212995,0.76399846212995,0.76399846212995)",
          "width": 0.9500000000000001
         },
         "mode": "lines",
         "showlegend": false,
         "subplot": "ternary",
>>>>>>> 5c0e54aca78664d6bd1c9757282795ba99d164ef
         "type": "scatterternary"
        },
        {
         "a": [
<<<<<<< HEAD
          40,
          45,
          0,
          0,
          40,
          40
         ],
         "b": [
          60,
          55,
          55,
          60,
          60,
          60
         ],
         "c": [
          0,
          0,
          45,
          40,
          0,
          0
         ],
         "fill": "toself",
         "fillcolor": "rgb(206.33333333333334, 206.33333333333334, 206.33333333333334)",
         "hoverinfo": "skip",
         "line": {
          "color": "black",
          "width": 0
         },
         "mode": "lines",
         "opacity": 0.2,
         "showlegend": false,
         "subplot": "ternary",
         "text": "50",
=======
          0.8,
          0.8
         ],
         "b": [
          0,
          0.19999999999999996
         ],
         "c": [
          0.19999999999999996,
          0
         ],
         "hoverinfo": "skip",
         "line": {
          "color": "rgb(0.7105882352941176,0.7105882352941176,0.7105882352941176)",
          "width": 1.05
         },
         "mode": "lines",
         "showlegend": false,
         "subplot": "ternary",
>>>>>>> 5c0e54aca78664d6bd1c9757282795ba99d164ef
         "type": "scatterternary"
        },
        {
         "a": [
          0,
<<<<<<< HEAD
          0,
          45,
          40,
          0,
          0
         ],
         "b": [
          40,
          45,
          0,
          0,
          40,
          40
         ],
         "c": [
          60,
          55,
          55,
          60,
          60,
          60
         ],
         "fill": "toself",
         "fillcolor": "rgb(213.0, 213.0, 213.0)",
         "hoverinfo": "skip",
         "line": {
          "color": "black",
          "width": 0
         },
         "mode": "lines",
         "opacity": 0.2,
         "showlegend": false,
         "subplot": "ternary",
         "text": "50",
=======
          0.19999999999999996
         ],
         "b": [
          0.8,
          0.8
         ],
         "c": [
          0.19999999999999996,
          0
         ],
         "hoverinfo": "skip",
         "line": {
          "color": "rgb(0.7105882352941176,0.7105882352941176,0.7105882352941176)",
          "width": 1.05
         },
         "mode": "lines",
         "showlegend": false,
         "subplot": "ternary",
>>>>>>> 5c0e54aca78664d6bd1c9757282795ba99d164ef
         "type": "scatterternary"
        },
        {
         "a": [
<<<<<<< HEAD
          60,
          55,
          55,
          60,
          60,
          60
         ],
         "b": [
          0,
          0,
          45,
          40,
          0,
          0
         ],
         "c": [
          40,
          45,
          0,
          0,
          40,
          40
         ],
         "fill": "toself",
         "fillcolor": "rgb(219.1904761904762, 219.1904761904762, 219.1904761904762)",
         "hoverinfo": "skip",
         "line": {
          "color": "black",
          "width": 0
         },
         "mode": "lines",
         "opacity": 0.2,
         "showlegend": false,
         "subplot": "ternary",
         "text": "50",
=======
          0,
          0.19999999999999996
         ],
         "b": [
          0.19999999999999996,
          0
         ],
         "c": [
          0.8,
          0.8
         ],
         "hoverinfo": "skip",
         "line": {
          "color": "rgb(0.7105882352941176,0.7105882352941176,0.7105882352941176)",
          "width": 1.05
         },
         "mode": "lines",
         "showlegend": false,
         "subplot": "ternary",
>>>>>>> 5c0e54aca78664d6bd1c9757282795ba99d164ef
         "type": "scatterternary"
        },
        {
         "a": [
<<<<<<< HEAD
          45,
          50,
          0,
          0,
          45,
          45
         ],
         "b": [
          55,
          50,
          50,
          55,
          55,
          55
         ],
         "c": [
          0,
          0,
          50,
          45,
          0,
          0
         ],
         "fill": "toself",
         "fillcolor": "rgb(225.76190476190476, 225.76190476190476, 225.76190476190476)",
         "hoverinfo": "skip",
         "line": {
          "color": "black",
          "width": 0
         },
         "mode": "lines",
         "opacity": 0.2,
         "showlegend": false,
         "subplot": "ternary",
         "text": "50",
=======
          0.9,
          0.9
         ],
         "b": [
          0,
          0.09999999999999998
         ],
         "c": [
          0.09999999999999998,
          0
         ],
         "hoverinfo": "skip",
         "line": {
          "color": "rgb(0.6482122260668974,0.6482122260668974,0.6482122260668974)",
          "width": 1.15
         },
         "mode": "lines",
         "showlegend": false,
         "subplot": "ternary",
>>>>>>> 5c0e54aca78664d6bd1c9757282795ba99d164ef
         "type": "scatterternary"
        },
        {
         "a": [
          0,
<<<<<<< HEAD
          0,
          50,
          45,
          0,
          0
         ],
         "b": [
          45,
          50,
          0,
          0,
          45,
          45
         ],
         "c": [
          55,
          50,
          50,
          55,
          55,
          55
         ],
         "fill": "toself",
         "fillcolor": "rgb(232.33333333333334, 232.33333333333334, 232.33333333333334)",
         "hoverinfo": "skip",
         "line": {
          "color": "black",
          "width": 0
         },
         "mode": "lines",
         "opacity": 0.2,
         "showlegend": false,
         "subplot": "ternary",
         "text": "50",
=======
          0.09999999999999998
         ],
         "b": [
          0.9,
          0.9
         ],
         "c": [
          0.09999999999999998,
          0
         ],
         "hoverinfo": "skip",
         "line": {
          "color": "rgb(0.6482122260668974,0.6482122260668974,0.6482122260668974)",
          "width": 1.15
         },
         "mode": "lines",
         "showlegend": false,
         "subplot": "ternary",
>>>>>>> 5c0e54aca78664d6bd1c9757282795ba99d164ef
         "type": "scatterternary"
        },
        {
         "a": [
<<<<<<< HEAD
          55,
          50,
          50,
          55,
          55,
          55
         ],
         "b": [
          0,
          0,
          50,
          45,
          0,
          0
         ],
         "c": [
          45,
          50,
          0,
          0,
          45,
          45
         ],
         "fill": "toself",
         "fillcolor": "rgb(238.9047619047619, 238.9047619047619, 238.9047619047619)",
         "hoverinfo": "skip",
         "line": {
          "color": "black",
          "width": 0
         },
         "mode": "lines",
         "opacity": 0.2,
         "showlegend": false,
         "subplot": "ternary",
         "text": "50",
=======
          0,
          0.09999999999999998
         ],
         "b": [
          0.09999999999999998,
          0
         ],
         "c": [
          0.9,
          0.9
         ],
         "hoverinfo": "skip",
         "line": {
          "color": "rgb(0.6482122260668974,0.6482122260668974,0.6482122260668974)",
          "width": 1.15
         },
         "mode": "lines",
         "showlegend": false,
         "subplot": "ternary",
>>>>>>> 5c0e54aca78664d6bd1c9757282795ba99d164ef
         "type": "scatterternary"
        },
        {
         "a": [
<<<<<<< HEAD
          50,
          50,
          0,
          50
         ],
         "b": [
          50,
          0,
          50,
          50
         ],
         "c": [
          0,
          50,
          50,
          0
         ],
         "fill": "toself",
         "fillcolor": "rgb(242.85714285714286, 242.85714285714286, 242.85714285714286)",
         "hoverinfo": "skip",
         "line": {
          "color": "black",
          "width": 0
         },
         "mode": "lines",
         "opacity": 0.2,
         "showlegend": false,
         "subplot": "ternary",
         "text": "50",
=======
          0.005,
          0.005
         ],
         "b": [
          0,
          1
         ],
         "c": [
          1,
          0
         ],
         "hoverinfo": "skip",
         "line": {
          "color": "black",
          "width": 2
         },
         "mode": "lines",
         "showlegend": false,
         "subplot": "ternary",
>>>>>>> 5c0e54aca78664d6bd1c9757282795ba99d164ef
         "type": "scatterternary"
        },
        {
         "a": [
<<<<<<< HEAD
          45,
          45,
          10,
          45
         ],
         "b": [
          45,
          10,
          45,
          45
         ],
         "c": [
          10,
          45,
          45,
          10
         ],
         "fill": "toself",
         "fillcolor": "rgb(247.14285714285714, 247.14285714285714, 247.14285714285714)",
         "hoverinfo": "skip",
         "line": {
          "color": "black",
          "width": 0
         },
         "mode": "lines",
         "opacity": 0.2,
         "showlegend": false,
         "subplot": "ternary",
         "text": "45",
=======
          0,
          1
         ],
         "b": [
          0.005,
          0.005
         ],
         "c": [
          1,
          0
         ],
         "hoverinfo": "skip",
         "line": {
          "color": "black",
          "width": 2
         },
         "mode": "lines",
         "showlegend": false,
         "subplot": "ternary",
>>>>>>> 5c0e54aca78664d6bd1c9757282795ba99d164ef
         "type": "scatterternary"
        },
        {
         "a": [
<<<<<<< HEAD
          40,
          40,
          20,
          40
         ],
         "b": [
          40,
          20,
          40,
          40
         ],
         "c": [
          20,
          40,
          40,
          20
         ],
         "fill": "toself",
         "fillcolor": "rgb(251.42857142857142, 251.42857142857142, 251.42857142857142)",
         "hoverinfo": "skip",
         "line": {
          "color": "black",
          "width": 0
         },
         "mode": "lines",
         "opacity": 0.2,
         "showlegend": false,
         "subplot": "ternary",
         "text": "40",
=======
          0,
          1
         ],
         "b": [
          1,
          0
         ],
         "c": [
          0.005,
          0.005
         ],
         "hoverinfo": "skip",
         "line": {
          "color": "black",
          "width": 2
         },
         "mode": "lines",
         "showlegend": false,
         "subplot": "ternary",
>>>>>>> 5c0e54aca78664d6bd1c9757282795ba99d164ef
         "type": "scatterternary"
        },
        {
         "a": [
<<<<<<< HEAD
          35,
          35,
          30,
          35
         ],
         "b": [
          35,
          30,
          35,
          35
         ],
         "c": [
          30,
          35,
          35,
          30
         ],
         "fill": "toself",
         "fillcolor": "rgb(255.0, 255.0, 255.0)",
         "hoverinfo": "skip",
         "line": {
          "color": "black",
          "width": 0
         },
         "mode": "lines",
         "opacity": 0.2,
         "showlegend": false,
         "subplot": "ternary",
         "text": "35",
         "type": "scatterternary"
        },
        {
         "a": [
          0.8920495893604528
         ],
         "b": [
          0.05664034592016168
         ],
         "c": [
          0.0513100647193855
=======
          0.8724447810768986
         ],
         "b": [
          0.03647640170286494
         ],
         "c": [
          0.050504643088858575
>>>>>>> 5c0e54aca78664d6bd1c9757282795ba99d164ef
         ],
         "hovertemplate": "%{text}<br>Var (climate): %{a}<br>Var (model): %{b} <br>Var (other): %{c}",
         "line": {
          "width": 1.5
         },
         "marker": {
<<<<<<< HEAD
          "color": "violet",
=======
          "color": "goldenrod",
>>>>>>> 5c0e54aca78664d6bd1c9757282795ba99d164ef
          "line": {
           "color": "black",
           "width": 1
          },
          "opacity": 1,
<<<<<<< HEAD
          "size": 0.1,
=======
          "size": 20,
>>>>>>> 5c0e54aca78664d6bd1c9757282795ba99d164ef
          "symbol": "circle"
         },
         "mode": "markers",
         "name": "Emissions|CO2 (1200)",
         "showlegend": false,
         "subplot": "ternary",
         "text": [
<<<<<<< HEAD
          "2050"
         ],
         "textfont": {
          "color": "violet",
=======
          "2100"
         ],
         "textfont": {
          "color": "goldenrod",
>>>>>>> 5c0e54aca78664d6bd1c9757282795ba99d164ef
          "size": 1
         },
         "type": "scatterternary"
        },
        {
         "a": [
<<<<<<< HEAD
          0.8920495893604528
         ],
         "b": [
          0.05664034592016168
         ],
         "c": [
          0.0513100647193855
         ],
         "mode": "text",
         "showlegend": false,
         "subplot": "ternary",
         "text": [
          "☁"
         ],
         "textfont": {
          "color": "violet",
          "size": 23
         },
         "type": "scatterternary"
        },
        {
         "a": [
          0.2886158355435216
         ],
         "b": [
          0.5622737794447933
         ],
         "c": [
          0.14911038501168508
=======
          0.9281583392854674
         ],
         "b": [
          0.010661308838126516
         ],
         "c": [
          0.045222127408400405
>>>>>>> 5c0e54aca78664d6bd1c9757282795ba99d164ef
         ],
         "hovertemplate": "%{text}<br>Var (climate): %{a}<br>Var (model): %{b} <br>Var (other): %{c}",
         "line": {
          "width": 1.5
         },
         "marker": {
<<<<<<< HEAD
          "color": "violet",
          "line": {
           "color": "black",
           "width": 1
          },
          "opacity": 1,
          "size": 0.1,
          "symbol": "circle"
         },
         "mode": "markers",
         "name": "Emissions|N2O (1200)",
         "showlegend": false,
         "subplot": "ternary",
         "text": [
          "2050"
         ],
         "textfont": {
          "color": "violet",
          "size": 1
         },
         "type": "scatterternary"
        },
        {
         "a": [
          0.2886158355435216
         ],
         "b": [
          0.5622737794447933
         ],
         "c": [
          0.14911038501168508
         ],
         "mode": "text",
         "showlegend": false,
         "subplot": "ternary",
         "text": [
          "☁"
         ],
         "textfont": {
          "color": "violet",
          "size": 23
         },
         "type": "scatterternary"
        },
        {
         "a": [
          0.7248176915743083
         ],
         "b": [
          0.199418729623432
         ],
         "c": [
          0.07576357880225952
         ],
         "hovertemplate": "%{text}<br>Var (climate): %{a}<br>Var (model): %{b} <br>Var (other): %{c}",
         "line": {
          "width": 1.5
         },
         "marker": {
          "color": "violet",
          "line": {
           "color": "black",
           "width": 1
          },
          "opacity": 1,
          "size": 0.1,
          "symbol": "circle"
         },
         "mode": "markers",
         "name": "Emissions|CH4 (1200)",
         "showlegend": false,
         "subplot": "ternary",
         "text": [
          "2050"
         ],
         "textfont": {
          "color": "violet",
          "size": 1
         },
         "type": "scatterternary"
        },
        {
         "a": [
          0.7248176915743083
         ],
         "b": [
          0.199418729623432
         ],
         "c": [
          0.07576357880225952
         ],
         "mode": "text",
         "showlegend": false,
         "subplot": "ternary",
         "text": [
          "☁"
         ],
         "textfont": {
          "color": "violet",
          "size": 23
         },
         "type": "scatterternary"
        },
        {
         "a": [
          0.9959863875296864
         ],
         "b": [
          0.01845248778920691
         ],
         "c": [
          0.04556112468110626
         ],
         "hoverinfo": "skip",
         "marker": {
          "color": "violet",
          "line": {
           "width": 2
          },
          "size": 28,
          "symbol": "circle-open"
         },
         "mode": "markers",
         "showlegend": false,
         "subplot": "ternary",
         "type": "scatterternary"
        },
        {
         "a": [
          0.9959863875296864
         ],
         "b": [
          0.01845248778920691
         ],
         "c": [
          0.04556112468110626
         ],
         "hoverinfo": "skip",
         "marker": {
          "color": "black",
          "line": {
           "width": 3
          },
          "size": 32,
          "symbol": "circle-open"
         },
         "mode": "markers",
         "showlegend": false,
         "subplot": "ternary",
         "type": "scatterternary"
        },
        {
         "a": [
          0.9359863875296864
         ],
         "b": [
          0.01845248778920691
         ],
         "c": [
          0.04556112468110626
         ],
         "hovertemplate": "%{text}<br>Var (climate): %{a}<br>Var (model): %{b} <br>Var (other): %{c}",
         "line": {
          "width": 1.5
         },
         "marker": {
          "color": "violet",
          "line": {
           "color": "black",
           "width": 0
          },
          "opacity": 1,
          "size": 0.1,
=======
          "color": "goldenrod",
          "line": {
           "color": "black",
           "width": 4
          },
          "opacity": 1,
          "size": 20,
>>>>>>> 5c0e54aca78664d6bd1c9757282795ba99d164ef
          "symbol": "circle"
         },
         "mode": "markers",
         "name": "Emissions|Kyoto Gases (1118)",
         "showlegend": false,
         "subplot": "ternary",
         "text": [
<<<<<<< HEAD
          "2050"
         ],
         "textfont": {
          "color": "violet",
=======
          "2100"
         ],
         "textfont": {
          "color": "goldenrod",
>>>>>>> 5c0e54aca78664d6bd1c9757282795ba99d164ef
          "size": 1
         },
         "type": "scatterternary"
        },
        {
         "a": [
<<<<<<< HEAD
          0.9359863875296864
         ],
         "b": [
          0.01845248778920691
         ],
         "c": [
          0.04556112468110626
         ],
         "mode": "text",
         "showlegend": false,
         "subplot": "ternary",
         "text": [
          "☁"
         ],
         "textfont": {
          "color": "violet",
          "size": 23
         },
         "type": "scatterternary"
        },
        {
         "a": [
          0.7906088143104901
         ],
         "b": [
          0.1142348646477182
         ],
         "c": [
          0.09515632104179211
=======
          0.7137543090317356
         ],
         "b": [
          0.03847710991887536
         ],
         "c": [
          0.09624151427019273
>>>>>>> 5c0e54aca78664d6bd1c9757282795ba99d164ef
         ],
         "hovertemplate": "%{text}<br>Var (climate): %{a}<br>Var (model): %{b} <br>Var (other): %{c}",
         "line": {
          "width": 1.5
         },
         "marker": {
<<<<<<< HEAD
          "color": "violet",
=======
          "color": "goldenrod",
>>>>>>> 5c0e54aca78664d6bd1c9757282795ba99d164ef
          "line": {
           "color": "black",
           "width": 1
          },
          "opacity": 1,
<<<<<<< HEAD
          "size": 0.1,
          "symbol": "circle"
         },
         "mode": "markers",
         "name": "Emissions|CO2|Energy|Supply|Electricity (1153)",
         "showlegend": false,
         "subplot": "ternary",
         "text": [
          "2050"
         ],
         "textfont": {
          "color": "violet",
=======
          "size": 20,
          "symbol": "circle"
         },
         "mode": "markers",
         "name": "Emissions|CO2|Energy|Supply|Electricity (1152)",
         "showlegend": false,
         "subplot": "ternary",
         "text": [
          "2100"
         ],
         "textfont": {
          "color": "goldenrod",
>>>>>>> 5c0e54aca78664d6bd1c9757282795ba99d164ef
          "size": 1
         },
         "type": "scatterternary"
        },
        {
         "a": [
<<<<<<< HEAD
          0.7906088143104901
         ],
         "b": [
          0.1142348646477182
         ],
         "c": [
          0.09515632104179211
         ],
         "mode": "text",
         "showlegend": false,
         "subplot": "ternary",
         "text": [
          "☁"
         ],
         "textfont": {
          "color": "violet",
          "size": 23
         },
         "type": "scatterternary"
        },
        {
         "a": [
          0.5595998601479824
         ],
         "b": [
          0.35321192553527836
         ],
         "c": [
          0.08718821431673918
=======
          0.49749576867302403
         ],
         "b": [
          0.2919484403722127
         ],
         "c": [
          0.086774014926865
>>>>>>> 5c0e54aca78664d6bd1c9757282795ba99d164ef
         ],
         "hovertemplate": "%{text}<br>Var (climate): %{a}<br>Var (model): %{b} <br>Var (other): %{c}",
         "line": {
          "width": 1.5
         },
         "marker": {
<<<<<<< HEAD
          "color": "violet",
=======
          "color": "goldenrod",
>>>>>>> 5c0e54aca78664d6bd1c9757282795ba99d164ef
          "line": {
           "color": "black",
           "width": 1
          },
          "opacity": 1,
<<<<<<< HEAD
          "size": 0.1,
          "symbol": "circle"
         },
         "mode": "markers",
         "name": "Emissions|CO2|Energy|Demand|Industry (1117)",
         "showlegend": false,
         "subplot": "ternary",
         "text": [
          "2050"
         ],
         "textfont": {
          "color": "violet",
=======
          "size": 20,
          "symbol": "circle"
         },
         "mode": "markers",
         "name": "Emissions|CO2|Energy|Demand|Industry (1116)",
         "showlegend": false,
         "subplot": "ternary",
         "text": [
          "2100"
         ],
         "textfont": {
          "color": "goldenrod",
>>>>>>> 5c0e54aca78664d6bd1c9757282795ba99d164ef
          "size": 1
         },
         "type": "scatterternary"
        },
        {
         "a": [
<<<<<<< HEAD
          0.5595998601479824
         ],
         "b": [
          0.35321192553527836
         ],
         "c": [
          0.08718821431673918
         ],
         "mode": "text",
         "showlegend": false,
         "subplot": "ternary",
         "text": [
          "☁"
         ],
         "textfont": {
          "color": "violet",
          "size": 23
         },
         "type": "scatterternary"
        },
        {
         "a": [
          0.5875292923647534
         ],
         "b": [
          0.27604587323529106
         ],
         "c": [
          0.13642483439995584
=======
          0.532071648040564
         ],
         "b": [
          0.22178740299295735
         ],
         "c": [
          0.1365475028278991
>>>>>>> 5c0e54aca78664d6bd1c9757282795ba99d164ef
         ],
         "hovertemplate": "%{text}<br>Var (climate): %{a}<br>Var (model): %{b} <br>Var (other): %{c}",
         "line": {
          "width": 1.5
         },
         "marker": {
<<<<<<< HEAD
          "color": "violet",
=======
          "color": "goldenrod",
>>>>>>> 5c0e54aca78664d6bd1c9757282795ba99d164ef
          "line": {
           "color": "black",
           "width": 1
          },
          "opacity": 1,
<<<<<<< HEAD
          "size": 0.1,
          "symbol": "circle"
         },
         "mode": "markers",
         "name": "Emissions|CO2|Energy|Demand|Transportation (1059)",
         "showlegend": false,
         "subplot": "ternary",
         "text": [
          "2050"
         ],
         "textfont": {
          "color": "violet",
=======
          "size": 20,
          "symbol": "circle"
         },
         "mode": "markers",
         "name": "Emissions|CO2|Energy|Demand|Transportation (1058)",
         "showlegend": false,
         "subplot": "ternary",
         "text": [
          "2100"
         ],
         "textfont": {
          "color": "goldenrod",
>>>>>>> 5c0e54aca78664d6bd1c9757282795ba99d164ef
          "size": 1
         },
         "type": "scatterternary"
        },
        {
         "a": [
<<<<<<< HEAD
          0.5875292923647534
         ],
         "b": [
          0.27604587323529106
         ],
         "c": [
          0.13642483439995584
         ],
         "mode": "text",
         "showlegend": false,
         "subplot": "ternary",
         "text": [
          "☁"
         ],
         "textfont": {
          "color": "violet",
          "size": 23
         },
         "type": "scatterternary"
        },
        {
         "a": [
          0.48117412659750536
         ],
         "b": [
          0.4247777484348506
         ],
         "c": [
          0.0940481249676439
=======
          0.44458875973200845
         ],
         "b": [
          0.38833456409812295
         ],
         "c": [
          0.09390547066633978
>>>>>>> 5c0e54aca78664d6bd1c9757282795ba99d164ef
         ],
         "hovertemplate": "%{text}<br>Var (climate): %{a}<br>Var (model): %{b} <br>Var (other): %{c}",
         "line": {
          "width": 1.5
         },
         "marker": {
<<<<<<< HEAD
          "color": "violet",
=======
          "color": "goldenrod",
>>>>>>> 5c0e54aca78664d6bd1c9757282795ba99d164ef
          "line": {
           "color": "black",
           "width": 1
          },
          "opacity": 1,
<<<<<<< HEAD
          "size": 0.1,
          "symbol": "circle"
         },
         "mode": "markers",
         "name": "Emissions|CO2|Energy|Demand|Residential and Commercial (954)",
         "showlegend": false,
         "subplot": "ternary",
         "text": [
          "2050"
         ],
         "textfont": {
          "color": "violet",
=======
          "size": 20,
          "symbol": "circle"
         },
         "mode": "markers",
         "name": "Emissions|CO2|Energy|Demand|Residential and Commercial (953)",
         "showlegend": false,
         "subplot": "ternary",
         "text": [
          "2100"
         ],
         "textfont": {
          "color": "goldenrod",
>>>>>>> 5c0e54aca78664d6bd1c9757282795ba99d164ef
          "size": 1
         },
         "type": "scatterternary"
        },
        {
         "a": [
<<<<<<< HEAD
          0.48117412659750536
         ],
         "b": [
          0.4247777484348506
         ],
         "c": [
          0.0940481249676439
         ],
         "mode": "text",
         "showlegend": false,
         "subplot": "ternary",
         "text": [
          "☁"
         ],
         "textfont": {
          "color": "violet",
          "size": 23
         },
         "type": "scatterternary"
        },
        {
         "a": [
          0.5131351051236851
         ],
         "b": [
          0.28804527853857964
         ],
         "c": [
          0.19881961633773548
=======
          0.3303908388855462
         ],
         "b": [
          0.3142952391149366
         ],
         "c": [
          0.23036248429125494
>>>>>>> 5c0e54aca78664d6bd1c9757282795ba99d164ef
         ],
         "hovertemplate": "%{text}<br>Var (climate): %{a}<br>Var (model): %{b} <br>Var (other): %{c}",
         "line": {
          "width": 1.5
         },
         "marker": {
<<<<<<< HEAD
          "color": "forestgreen",
=======
          "color": "violet",
>>>>>>> 5c0e54aca78664d6bd1c9757282795ba99d164ef
          "line": {
           "color": "black",
           "width": 1
          },
          "opacity": 1,
<<<<<<< HEAD
          "size": 0.1,
          "symbol": "diamond-wide"
         },
         "mode": "markers",
         "name": "Primary Energy (1193)",
         "showlegend": false,
         "subplot": "ternary",
         "text": [
          "2050"
         ],
         "textfont": {
          "color": "forestgreen",
          "size": 1
         },
         "type": "scatterternary"
        },
        {
         "a": [
          0.5131351051236851
         ],
         "b": [
          0.28804527853857964
         ],
         "c": [
          0.19881961633773548
         ],
         "mode": "text",
         "showlegend": false,
         "subplot": "ternary",
         "text": [
          "☀"
         ],
         "textfont": {
          "color": "forestgreen",
          "size": 23
         },
         "type": "scatterternary"
        },
        {
         "a": [
          0.7236574642696013
         ],
         "b": [
          0.16521364618907314
         ],
         "c": [
          0.11112888954132559
         ],
         "hoverinfo": "skip",
         "marker": {
          "color": "forestgreen",
          "line": {
           "width": 2
          },
          "size": 28,
          "symbol": "circle-open"
         },
         "mode": "markers",
         "showlegend": false,
         "subplot": "ternary",
         "type": "scatterternary"
        },
        {
         "a": [
          0.7236574642696013
         ],
         "b": [
          0.16521364618907314
         ],
         "c": [
          0.11112888954132559
         ],
         "hoverinfo": "skip",
         "marker": {
          "color": "black",
          "line": {
           "width": 3
          },
          "size": 32,
          "symbol": "circle-open"
         },
         "mode": "markers",
         "showlegend": false,
         "subplot": "ternary",
         "type": "scatterternary"
        },
        {
         "a": [
          0.7236574642696013
         ],
         "b": [
          0.16521364618907314
         ],
         "c": [
          0.11112888954132559
         ],
         "hovertemplate": "%{text}<br>Var (climate): %{a}<br>Var (model): %{b} <br>Var (other): %{c}",
         "line": {
          "width": 1.5
         },
         "marker": {
          "color": "forestgreen",
          "line": {
           "color": "black",
           "width": 0
          },
          "opacity": 1,
          "size": 0.1,
          "symbol": "diamond-wide"
         },
         "mode": "markers",
         "name": "Primary Energy|Coal (1193)",
         "showlegend": false,
         "subplot": "ternary",
         "text": [
          "2050"
         ],
         "textfont": {
          "color": "forestgreen",
          "size": 1
         },
         "type": "scatterternary"
        },
        {
         "a": [
          0.7236574642696013
         ],
         "b": [
          0.16521364618907314
         ],
         "c": [
          0.11112888954132559
         ],
         "mode": "text",
         "showlegend": false,
         "subplot": "ternary",
         "text": [
          "☀"
         ],
         "textfont": {
          "color": "forestgreen",
          "size": 23
         },
         "type": "scatterternary"
        },
        {
         "a": [
          0.39304992138792594
         ],
         "b": [
          0.37713682709702
         ],
         "c": [
          0.22981325151505408
         ],
         "hovertemplate": "%{text}<br>Var (climate): %{a}<br>Var (model): %{b} <br>Var (other): %{c}",
         "line": {
          "width": 1.5
         },
         "marker": {
          "color": "forestgreen",
          "line": {
           "color": "black",
           "width": 1
          },
          "opacity": 1,
          "size": 0.1,
=======
          "size": 20,
>>>>>>> 5c0e54aca78664d6bd1c9757282795ba99d164ef
          "symbol": "diamond-wide"
         },
         "mode": "markers",
         "name": "Primary Energy|Biomass (1191)",
         "showlegend": false,
         "subplot": "ternary",
         "text": [
<<<<<<< HEAD
          "2050"
         ],
         "textfont": {
          "color": "forestgreen",
=======
          "2100"
         ],
         "textfont": {
          "color": "violet",
>>>>>>> 5c0e54aca78664d6bd1c9757282795ba99d164ef
          "size": 1
         },
         "type": "scatterternary"
        },
        {
         "a": [
<<<<<<< HEAD
          0.39304992138792594
         ],
         "b": [
          0.37713682709702
         ],
         "c": [
          0.22981325151505408
         ],
         "mode": "text",
         "showlegend": false,
         "subplot": "ternary",
         "text": [
          "☀"
         ],
         "textfont": {
          "color": "forestgreen",
          "size": 23
         },
         "type": "scatterternary"
        },
        {
         "a": [
          0.49493552343600633
         ],
         "b": [
          0.3012812260131572
         ],
         "c": [
          0.20378325055083632
=======
          0.6795926001402703
         ],
         "b": [
          0.12139498643286639
         ],
         "c": [
          0.11114094826285237
>>>>>>> 5c0e54aca78664d6bd1c9757282795ba99d164ef
         ],
         "hovertemplate": "%{text}<br>Var (climate): %{a}<br>Var (model): %{b} <br>Var (other): %{c}",
         "line": {
          "width": 1.5
         },
         "marker": {
<<<<<<< HEAD
          "color": "forestgreen",
=======
          "color": "violet",
          "line": {
           "color": "black",
           "width": 4
          },
          "opacity": 1,
          "size": 20,
          "symbol": "diamond-wide"
         },
         "mode": "markers",
         "name": "Primary Energy|Coal (1193)",
         "showlegend": false,
         "subplot": "ternary",
         "text": [
          "2100"
         ],
         "textfont": {
          "color": "violet",
          "size": 1
         },
         "type": "scatterternary"
        },
        {
         "a": [
          0.41608449636825384
         ],
         "b": [
          0.2216113900136627
         ],
         "c": [
          0.20278408565174935
         ],
         "hovertemplate": "%{text}<br>Var (climate): %{a}<br>Var (model): %{b} <br>Var (other): %{c}",
         "line": {
          "width": 1.5
         },
         "marker": {
          "color": "violet",
>>>>>>> 5c0e54aca78664d6bd1c9757282795ba99d164ef
          "line": {
           "color": "black",
           "width": 1
          },
          "opacity": 1,
<<<<<<< HEAD
          "size": 0.1,
=======
          "size": 20,
>>>>>>> 5c0e54aca78664d6bd1c9757282795ba99d164ef
          "symbol": "diamond-wide"
         },
         "mode": "markers",
         "name": "Primary Energy|Gas (1193)",
         "showlegend": false,
         "subplot": "ternary",
         "text": [
<<<<<<< HEAD
          "2050"
         ],
         "textfont": {
          "color": "forestgreen",
=======
          "2100"
         ],
         "textfont": {
          "color": "violet",
>>>>>>> 5c0e54aca78664d6bd1c9757282795ba99d164ef
          "size": 1
         },
         "type": "scatterternary"
        },
        {
         "a": [
<<<<<<< HEAD
          0.49493552343600633
         ],
         "b": [
          0.3012812260131572
         ],
         "c": [
          0.20378325055083632
         ],
         "mode": "text",
         "showlegend": false,
         "subplot": "ternary",
         "text": [
          "☀"
         ],
         "textfont": {
          "color": "forestgreen",
          "size": 23
         },
         "type": "scatterternary"
        },
        {
         "a": [
          0.3657903485637578
         ],
         "b": [
          0.45874214339390185
         ],
         "c": [
          0.17546750804234051
=======
          0.260297672517669
         ],
         "b": [
          0.35439258262280815
         ],
         "c": [
          0.17516461513262638
>>>>>>> 5c0e54aca78664d6bd1c9757282795ba99d164ef
         ],
         "hovertemplate": "%{text}<br>Var (climate): %{a}<br>Var (model): %{b} <br>Var (other): %{c}",
         "line": {
          "width": 1.5
         },
         "marker": {
<<<<<<< HEAD
          "color": "forestgreen",
=======
          "color": "violet",
>>>>>>> 5c0e54aca78664d6bd1c9757282795ba99d164ef
          "line": {
           "color": "black",
           "width": 1
          },
          "opacity": 1,
<<<<<<< HEAD
          "size": 0.1,
=======
          "size": 20,
>>>>>>> 5c0e54aca78664d6bd1c9757282795ba99d164ef
          "symbol": "diamond-wide"
         },
         "mode": "markers",
         "name": "Primary Energy|Wind (1063)",
         "showlegend": false,
         "subplot": "ternary",
         "text": [
<<<<<<< HEAD
          "2050"
         ],
         "textfont": {
          "color": "forestgreen",
=======
          "2100"
         ],
         "textfont": {
          "color": "violet",
>>>>>>> 5c0e54aca78664d6bd1c9757282795ba99d164ef
          "size": 1
         },
         "type": "scatterternary"
        },
        {
         "a": [
<<<<<<< HEAD
          0.3657903485637578
         ],
         "b": [
          0.45874214339390185
         ],
         "c": [
          0.17546750804234051
         ],
         "mode": "text",
         "showlegend": false,
         "subplot": "ternary",
         "text": [
          "☀"
         ],
         "textfont": {
          "color": "forestgreen",
          "size": 23
         },
         "type": "scatterternary"
        },
        {
         "a": [
          0.18864438371669862
         ],
         "b": [
          0.6215592613095761
         ],
         "c": [
          0.1897963549737254
=======
          0.14719907341296534
         ],
         "b": [
          0.5798224784144844
         ],
         "c": [
          0.1893117580463453
>>>>>>> 5c0e54aca78664d6bd1c9757282795ba99d164ef
         ],
         "hovertemplate": "%{text}<br>Var (climate): %{a}<br>Var (model): %{b} <br>Var (other): %{c}",
         "line": {
          "width": 1.5
         },
         "marker": {
<<<<<<< HEAD
          "color": "forestgreen",
=======
          "color": "violet",
>>>>>>> 5c0e54aca78664d6bd1c9757282795ba99d164ef
          "line": {
           "color": "black",
           "width": 1
          },
          "opacity": 1,
<<<<<<< HEAD
          "size": 0.1,
=======
          "size": 20,
>>>>>>> 5c0e54aca78664d6bd1c9757282795ba99d164ef
          "symbol": "diamond-wide"
         },
         "mode": "markers",
         "name": "Primary Energy|Solar (1063)",
         "showlegend": false,
         "subplot": "ternary",
         "text": [
<<<<<<< HEAD
          "2050"
         ],
         "textfont": {
          "color": "forestgreen",
=======
          "2100"
         ],
         "textfont": {
          "color": "violet",
>>>>>>> 5c0e54aca78664d6bd1c9757282795ba99d164ef
          "size": 1
         },
         "type": "scatterternary"
        },
        {
         "a": [
<<<<<<< HEAD
          0.18864438371669862
         ],
         "b": [
          0.6215592613095761
         ],
         "c": [
          0.1897963549737254
         ],
         "mode": "text",
         "showlegend": false,
         "subplot": "ternary",
         "text": [
          "☀"
         ],
         "textfont": {
          "color": "forestgreen",
          "size": 23
         },
         "type": "scatterternary"
        },
        {
         "a": [
          0.19212641376448997
         ],
         "b": [
          0.5051202325224762
         ],
         "c": [
          0.30275335371303397
=======
          0.1025827058663371
         ],
         "b": [
          0.41425618168551487
         ],
         "c": [
          0.30382621736097204
>>>>>>> 5c0e54aca78664d6bd1c9757282795ba99d164ef
         ],
         "hovertemplate": "%{text}<br>Var (climate): %{a}<br>Var (model): %{b} <br>Var (other): %{c}",
         "line": {
          "width": 1.5
         },
         "marker": {
<<<<<<< HEAD
          "color": "forestgreen",
=======
          "color": "violet",
>>>>>>> 5c0e54aca78664d6bd1c9757282795ba99d164ef
          "line": {
           "color": "black",
           "width": 1
          },
          "opacity": 1,
<<<<<<< HEAD
          "size": 0.1,
=======
          "size": 20,
>>>>>>> 5c0e54aca78664d6bd1c9757282795ba99d164ef
          "symbol": "diamond-wide"
         },
         "mode": "markers",
         "name": "Primary Energy|Nuclear (1193)",
         "showlegend": false,
         "subplot": "ternary",
         "text": [
<<<<<<< HEAD
          "2050"
         ],
         "textfont": {
          "color": "forestgreen",
=======
          "2100"
         ],
         "textfont": {
          "color": "violet",
>>>>>>> 5c0e54aca78664d6bd1c9757282795ba99d164ef
          "size": 1
         },
         "type": "scatterternary"
        },
        {
         "a": [
<<<<<<< HEAD
          0.19212641376448997
         ],
         "b": [
          0.5051202325224762
         ],
         "c": [
          0.30275335371303397
         ],
         "mode": "text",
         "showlegend": false,
         "subplot": "ternary",
         "text": [
          "☀"
         ],
         "textfont": {
          "color": "forestgreen",
          "size": 23
         },
         "type": "scatterternary"
        },
        {
         "a": [
          0.13963249626079588
         ],
         "b": [
          0.7343014578113644
         ],
         "c": [
          0.1260660459278398
=======
          0.5303704380932159
         ],
         "b": [
          0.17471353566579154
         ],
         "c": [
          0.14003071844247225
>>>>>>> 5c0e54aca78664d6bd1c9757282795ba99d164ef
         ],
         "hovertemplate": "%{text}<br>Var (climate): %{a}<br>Var (model): %{b} <br>Var (other): %{c}",
         "line": {
          "width": 1.5
         },
         "marker": {
<<<<<<< HEAD
          "color": "forestgreen",
          "line": {
           "color": "black",
           "width": 1
          },
          "opacity": 1,
          "size": 0.1,
          "symbol": "diamond-wide"
         },
         "mode": "markers",
         "name": "Primary Energy|Geothermal (863)",
         "showlegend": false,
         "subplot": "ternary",
         "text": [
          "2050"
         ],
         "textfont": {
          "color": "forestgreen",
          "size": 1
         },
         "type": "scatterternary"
        },
        {
         "a": [
          0.13963249626079588
         ],
         "b": [
          0.7343014578113644
         ],
         "c": [
          0.1260660459278398
         ],
         "mode": "text",
         "showlegend": false,
         "subplot": "ternary",
         "text": [
          "☀"
         ],
         "textfont": {
          "color": "forestgreen",
          "size": 23
         },
         "type": "scatterternary"
        },
        {
         "a": [
          0.6083284753780758
         ],
         "b": [
          0.2522515530718324
         ],
         "c": [
          0.1394199715500917
         ],
         "hoverinfo": "skip",
         "marker": {
          "color": "forestgreen",
          "line": {
           "width": 2
          },
          "size": 28,
          "symbol": "circle-open"
         },
         "mode": "markers",
         "showlegend": false,
         "subplot": "ternary",
         "type": "scatterternary"
        },
        {
         "a": [
          0.6083284753780758
         ],
         "b": [
          0.2522515530718324
         ],
         "c": [
          0.1394199715500917
         ],
         "hoverinfo": "skip",
         "marker": {
          "color": "black",
          "line": {
           "width": 3
          },
          "size": 32,
          "symbol": "circle-open"
         },
         "mode": "markers",
         "showlegend": false,
         "subplot": "ternary",
         "type": "scatterternary"
        },
        {
         "a": [
          0.6083284753780758
         ],
         "b": [
          0.2522515530718324
         ],
         "c": [
          0.1394199715500917
         ],
         "hovertemplate": "%{text}<br>Var (climate): %{a}<br>Var (model): %{b} <br>Var (other): %{c}",
         "line": {
          "width": 1.5
         },
         "marker": {
          "color": "forestgreen",
          "line": {
           "color": "black",
           "width": 0
          },
          "opacity": 1,
          "size": 0.1,
=======
          "color": "violet",
          "line": {
           "color": "black",
           "width": 4
          },
          "opacity": 1,
          "size": 20,
>>>>>>> 5c0e54aca78664d6bd1c9757282795ba99d164ef
          "symbol": "diamond-wide"
         },
         "mode": "markers",
         "name": "Primary Energy|Oil (1193)",
         "showlegend": false,
         "subplot": "ternary",
         "text": [
<<<<<<< HEAD
          "2050"
         ],
         "textfont": {
          "color": "forestgreen",
=======
          "2100"
         ],
         "textfont": {
          "color": "violet",
>>>>>>> 5c0e54aca78664d6bd1c9757282795ba99d164ef
          "size": 1
         },
         "type": "scatterternary"
        },
        {
         "a": [
<<<<<<< HEAD
          0.6083284753780758
         ],
         "b": [
          0.2522515530718324
         ],
         "c": [
          0.1394199715500917
         ],
         "mode": "text",
         "showlegend": false,
         "subplot": "ternary",
         "text": [
          "☀"
         ],
         "textfont": {
          "color": "forestgreen",
          "size": 23
         },
         "type": "scatterternary"
        },
        {
         "a": [
          0.23632365709969005
         ],
         "b": [
          0.6461115452439287
         ],
         "c": [
          0.1175647976563811
=======
          0.15077171950189389
         ],
         "b": [
          0.5593751094236437
         ],
         "c": [
          0.11828315902431125
>>>>>>> 5c0e54aca78664d6bd1c9757282795ba99d164ef
         ],
         "hovertemplate": "%{text}<br>Var (climate): %{a}<br>Var (model): %{b} <br>Var (other): %{c}",
         "line": {
          "width": 1.5
         },
         "marker": {
<<<<<<< HEAD
          "color": "forestgreen",
=======
          "color": "violet",
>>>>>>> 5c0e54aca78664d6bd1c9757282795ba99d164ef
          "line": {
           "color": "black",
           "width": 1
          },
          "opacity": 1,
<<<<<<< HEAD
          "size": 0.1,
=======
          "size": 20,
>>>>>>> 5c0e54aca78664d6bd1c9757282795ba99d164ef
          "symbol": "diamond-wide"
         },
         "mode": "markers",
         "name": "Primary Energy|Hydro (1070)",
         "showlegend": false,
         "subplot": "ternary",
         "text": [
<<<<<<< HEAD
          "2050"
         ],
         "textfont": {
          "color": "forestgreen",
=======
          "2100"
         ],
         "textfont": {
          "color": "violet",
>>>>>>> 5c0e54aca78664d6bd1c9757282795ba99d164ef
          "size": 1
         },
         "type": "scatterternary"
        },
        {
         "a": [
<<<<<<< HEAD
          0.23632365709969005
         ],
         "b": [
          0.6461115452439287
         ],
         "c": [
          0.1175647976563811
         ],
         "mode": "text",
         "showlegend": false,
         "subplot": "ternary",
         "text": [
          "☀"
         ],
         "textfont": {
          "color": "forestgreen",
          "size": 23
         },
         "type": "scatterternary"
        },
        {
         "a": [
          0.48761115691698503
         ],
         "b": [
          0.20794546775153538
         ],
         "c": [
          0.30444337533147947
         ],
         "hoverinfo": "skip",
         "marker": {
          "color": "forestgreen",
          "line": {
           "width": 2
          },
          "size": 28,
          "symbol": "circle-open"
         },
         "mode": "markers",
         "showlegend": false,
         "subplot": "ternary",
         "type": "scatterternary"
        },
        {
         "a": [
          0.48761115691698503
         ],
         "b": [
          0.20794546775153538
         ],
         "c": [
          0.30444337533147947
         ],
         "hoverinfo": "skip",
         "marker": {
          "color": "black",
          "line": {
           "width": 3
          },
          "size": 32,
          "symbol": "circle-open"
         },
         "mode": "markers",
         "showlegend": false,
         "subplot": "ternary",
         "type": "scatterternary"
        },
        {
         "a": [
          0.48761115691698503
         ],
         "b": [
          0.20794546775153538
         ],
         "c": [
          0.30444337533147947
=======
          0.24135476891917718
         ],
         "b": [
          0.27302230694143287
         ],
         "c": [
          0.20932610032860072
>>>>>>> 5c0e54aca78664d6bd1c9757282795ba99d164ef
         ],
         "hovertemplate": "%{text}<br>Var (climate): %{a}<br>Var (model): %{b} <br>Var (other): %{c}",
         "line": {
          "width": 1.5
         },
         "marker": {
          "color": "forestgreen",
          "line": {
           "color": "black",
<<<<<<< HEAD
           "width": 0
          },
          "opacity": 1,
          "size": 0.1,
          "symbol": "diamond-wide"
         },
         "mode": "markers",
         "name": "Primary Energy|Renewables (incl. Biomass) (1193)",
         "showlegend": false,
         "subplot": "ternary",
         "text": [
          "2050"
         ],
         "textfont": {
          "color": "forestgreen",
          "size": 1
         },
         "type": "scatterternary"
        },
        {
         "a": [
          0.48761115691698503
         ],
         "b": [
          0.20794546775153538
         ],
         "c": [
          0.30444337533147947
         ],
         "mode": "text",
         "showlegend": false,
         "subplot": "ternary",
         "text": [
          "☀"
         ],
         "textfont": {
          "color": "forestgreen",
          "size": 23
         },
         "type": "scatterternary"
        },
        {
         "a": [
          0.3790008954843419
         ],
         "b": [
          0.4121437008630115
         ],
         "c": [
          0.20885540365264654
         ],
         "hovertemplate": "%{text}<br>Var (climate): %{a}<br>Var (model): %{b} <br>Var (other): %{c}",
         "line": {
          "width": 1.5
         },
         "marker": {
          "color": "goldenrod",
          "line": {
           "color": "black",
           "width": 1
          },
          "opacity": 1,
          "size": 0.1,
=======
           "width": 1
          },
          "opacity": 1,
          "size": 20,
>>>>>>> 5c0e54aca78664d6bd1c9757282795ba99d164ef
          "symbol": "star"
         },
         "mode": "markers",
         "name": "Secondary Energy|Electricity (1193)",
         "showlegend": false,
         "subplot": "ternary",
         "text": [
<<<<<<< HEAD
          "2050"
         ],
         "textfont": {
          "color": "goldenrod",
=======
          "2100"
         ],
         "textfont": {
          "color": "forestgreen",
>>>>>>> 5c0e54aca78664d6bd1c9757282795ba99d164ef
          "size": 1
         },
         "type": "scatterternary"
        },
        {
         "a": [
<<<<<<< HEAD
          0.3790008954843419
         ],
         "b": [
          0.4121437008630115
         ],
         "c": [
          0.20885540365264654
         ],
         "mode": "text",
         "showlegend": false,
         "subplot": "ternary",
         "text": [
          "🗲"
         ],
         "textfont": {
          "color": "goldenrod",
          "size": 23
         },
         "type": "scatterternary"
        },
        {
         "a": [
          0.3944004870313228
         ],
         "b": [
          0.34542195606362575
         ],
         "c": [
          0.26017755690505145
=======
          0.26726850116730805
         ],
         "b": [
          0.217553765227292
         ],
         "c": [
          0.26058873696354645
>>>>>>> 5c0e54aca78664d6bd1c9757282795ba99d164ef
         ],
         "hovertemplate": "%{text}<br>Var (climate): %{a}<br>Var (model): %{b} <br>Var (other): %{c}",
         "line": {
          "width": 1.5
         },
         "marker": {
<<<<<<< HEAD
          "color": "goldenrod",
=======
          "color": "forestgreen",
>>>>>>> 5c0e54aca78664d6bd1c9757282795ba99d164ef
          "line": {
           "color": "black",
           "width": 1
          },
          "opacity": 1,
<<<<<<< HEAD
          "size": 0.1,
=======
          "size": 20,
>>>>>>> 5c0e54aca78664d6bd1c9757282795ba99d164ef
          "symbol": "star"
         },
         "mode": "markers",
         "name": "Secondary Energy|Electricity|Biomass|w/ CCS (1158)",
         "showlegend": false,
         "subplot": "ternary",
         "text": [
<<<<<<< HEAD
          "2050"
         ],
         "textfont": {
          "color": "goldenrod",
=======
          "2100"
         ],
         "textfont": {
          "color": "forestgreen",
>>>>>>> 5c0e54aca78664d6bd1c9757282795ba99d164ef
          "size": 1
         },
         "type": "scatterternary"
        },
        {
         "a": [
<<<<<<< HEAD
          0.3944004870313228
         ],
         "b": [
          0.34542195606362575
         ],
         "c": [
          0.26017755690505145
         ],
         "mode": "text",
         "showlegend": false,
         "subplot": "ternary",
         "text": [
          "🗲"
         ],
         "textfont": {
          "color": "goldenrod",
          "size": 23
         },
         "type": "scatterternary"
        },
        {
         "a": [
          0.1102156247884043
         ],
         "b": [
          0.7282057941228112
         ],
         "c": [
          0.16157858108878462
=======
          0.014233186460241486
         ],
         "b": [
          0.6322272950756198
         ],
         "c": [
          0.16204255127725758
>>>>>>> 5c0e54aca78664d6bd1c9757282795ba99d164ef
         ],
         "hovertemplate": "%{text}<br>Var (climate): %{a}<br>Var (model): %{b} <br>Var (other): %{c}",
         "line": {
          "width": 1.5
         },
         "marker": {
<<<<<<< HEAD
          "color": "goldenrod",
=======
          "color": "forestgreen",
>>>>>>> 5c0e54aca78664d6bd1c9757282795ba99d164ef
          "line": {
           "color": "black",
           "width": 1
          },
          "opacity": 1,
<<<<<<< HEAD
          "size": 0.1,
=======
          "size": 20,
>>>>>>> 5c0e54aca78664d6bd1c9757282795ba99d164ef
          "symbol": "star"
         },
         "mode": "markers",
         "name": "Secondary Energy|Electricity|Biomass|w/o CCS (1167)",
         "showlegend": false,
         "subplot": "ternary",
         "text": [
<<<<<<< HEAD
          "2050"
         ],
         "textfont": {
          "color": "goldenrod",
=======
          "2100"
         ],
         "textfont": {
          "color": "forestgreen",
>>>>>>> 5c0e54aca78664d6bd1c9757282795ba99d164ef
          "size": 1
         },
         "type": "scatterternary"
        },
        {
         "a": [
<<<<<<< HEAD
          0.1102156247884043
         ],
         "b": [
          0.7282057941228112
         ],
         "c": [
          0.16157858108878462
         ],
         "mode": "text",
         "showlegend": false,
         "subplot": "ternary",
         "text": [
          "🗲"
         ],
         "textfont": {
          "color": "goldenrod",
          "size": 23
         },
         "type": "scatterternary"
        },
        {
         "a": [
          0.1865643634745571
         ],
         "b": [
          0.6095350041815476
         ],
         "c": [
          0.20390063234389533
=======
          0.0963228300405296
         ],
         "b": [
          0.5209464839720712
         ],
         "c": [
          0.20447516980539326
>>>>>>> 5c0e54aca78664d6bd1c9757282795ba99d164ef
         ],
         "hovertemplate": "%{text}<br>Var (climate): %{a}<br>Var (model): %{b} <br>Var (other): %{c}",
         "line": {
          "width": 1.5
         },
         "marker": {
<<<<<<< HEAD
          "color": "goldenrod",
=======
          "color": "forestgreen",
>>>>>>> 5c0e54aca78664d6bd1c9757282795ba99d164ef
          "line": {
           "color": "black",
           "width": 1
          },
          "opacity": 1,
<<<<<<< HEAD
          "size": 0.1,
=======
          "size": 20,
>>>>>>> 5c0e54aca78664d6bd1c9757282795ba99d164ef
          "symbol": "star"
         },
         "mode": "markers",
         "name": "Secondary Energy|Electricity|Coal|w/ CCS (1166)",
         "showlegend": false,
         "subplot": "ternary",
         "text": [
<<<<<<< HEAD
          "2050"
         ],
         "textfont": {
          "color": "goldenrod",
=======
          "2100"
         ],
         "textfont": {
          "color": "forestgreen",
>>>>>>> 5c0e54aca78664d6bd1c9757282795ba99d164ef
          "size": 1
         },
         "type": "scatterternary"
        },
        {
         "a": [
<<<<<<< HEAD
          0.1865643634745571
         ],
         "b": [
          0.6095350041815476
         ],
         "c": [
          0.20390063234389533
         ],
         "mode": "text",
         "showlegend": false,
         "subplot": "ternary",
         "text": [
          "🗲"
         ],
         "textfont": {
          "color": "goldenrod",
          "size": 23
         },
         "type": "scatterternary"
        },
        {
         "a": [
          0.7519722768261644
         ],
         "b": [
          0.12683593164338425
         ],
         "c": [
          0.1211917915304514
         ],
         "hoverinfo": "skip",
         "marker": {
          "color": "goldenrod",
          "line": {
           "width": 2
          },
          "size": 28,
          "symbol": "circle-open"
         },
         "mode": "markers",
         "showlegend": false,
         "subplot": "ternary",
         "type": "scatterternary"
        },
        {
         "a": [
          0.7519722768261644
         ],
         "b": [
          0.12683593164338425
         ],
         "c": [
          0.1211917915304514
         ],
         "hoverinfo": "skip",
         "marker": {
          "color": "black",
          "line": {
           "width": 3
          },
          "size": 32,
          "symbol": "circle-open"
         },
         "mode": "markers",
         "showlegend": false,
         "subplot": "ternary",
         "type": "scatterternary"
        },
        {
         "a": [
          0.7519722768261644
         ],
         "b": [
          0.12683593164338425
         ],
         "c": [
          0.1211917915304514
=======
          0.6689192109335653
         ],
         "b": [
          0.04525803674513029
         ],
         "c": [
          0.12225805885568183
>>>>>>> 5c0e54aca78664d6bd1c9757282795ba99d164ef
         ],
         "hovertemplate": "%{text}<br>Var (climate): %{a}<br>Var (model): %{b} <br>Var (other): %{c}",
         "line": {
          "width": 1.5
         },
         "marker": {
<<<<<<< HEAD
          "color": "goldenrod",
          "line": {
           "color": "black",
           "width": 0
          },
          "opacity": 1,
          "size": 0.1,
=======
          "color": "forestgreen",
          "line": {
           "color": "black",
           "width": 4
          },
          "opacity": 1,
          "size": 20,
>>>>>>> 5c0e54aca78664d6bd1c9757282795ba99d164ef
          "symbol": "star"
         },
         "mode": "markers",
         "name": "Secondary Energy|Electricity|Coal|w/o CCS (1174)",
         "showlegend": false,
         "subplot": "ternary",
         "text": [
<<<<<<< HEAD
          "2050"
         ],
         "textfont": {
          "color": "goldenrod",
=======
          "2100"
         ],
         "textfont": {
          "color": "forestgreen",
>>>>>>> 5c0e54aca78664d6bd1c9757282795ba99d164ef
          "size": 1
         },
         "type": "scatterternary"
        },
        {
         "a": [
<<<<<<< HEAD
          0.7519722768261644
         ],
         "b": [
          0.12683593164338425
         ],
         "c": [
          0.1211917915304514
         ],
         "mode": "text",
         "showlegend": false,
         "subplot": "ternary",
         "text": [
          "🗲"
         ],
         "textfont": {
          "color": "goldenrod",
          "size": 23
         },
         "type": "scatterternary"
        },
        {
         "a": [
          0.2904160423026575
         ],
         "b": [
          0.49038996069021207
         ],
         "c": [
          0.2191939970071305
=======
          0.1839039652506072
         ],
         "b": [
          0.38304122966494314
         ],
         "c": [
          0.21807335212739548
>>>>>>> 5c0e54aca78664d6bd1c9757282795ba99d164ef
         ],
         "hovertemplate": "%{text}<br>Var (climate): %{a}<br>Var (model): %{b} <br>Var (other): %{c}",
         "line": {
          "width": 1.5
         },
         "marker": {
<<<<<<< HEAD
          "color": "goldenrod",
=======
          "color": "forestgreen",
>>>>>>> 5c0e54aca78664d6bd1c9757282795ba99d164ef
          "line": {
           "color": "black",
           "width": 1
          },
          "opacity": 1,
<<<<<<< HEAD
          "size": 0.1,
=======
          "size": 20,
>>>>>>> 5c0e54aca78664d6bd1c9757282795ba99d164ef
          "symbol": "star"
         },
         "mode": "markers",
         "name": "Secondary Energy|Electricity|Gas|w/ CCS (1165)",
         "showlegend": false,
         "subplot": "ternary",
         "text": [
<<<<<<< HEAD
          "2050"
         ],
         "textfont": {
          "color": "goldenrod",
=======
          "2100"
         ],
         "textfont": {
          "color": "forestgreen",
>>>>>>> 5c0e54aca78664d6bd1c9757282795ba99d164ef
          "size": 1
         },
         "type": "scatterternary"
        },
        {
         "a": [
<<<<<<< HEAD
          0.2904160423026575
         ],
         "b": [
          0.49038996069021207
         ],
         "c": [
          0.2191939970071305
         ],
         "mode": "text",
         "showlegend": false,
         "subplot": "ternary",
         "text": [
          "🗲"
         ],
         "textfont": {
          "color": "goldenrod",
          "size": 23
         },
         "type": "scatterternary"
        },
        {
         "a": [
          0.5380863243305162
         ],
         "b": [
          0.28406147971187434
         ],
         "c": [
          0.17785219595760973
=======
          0.4614145028608152
         ],
         "b": [
          0.20684173725188815
         ],
         "c": [
          0.17704357387906264
>>>>>>> 5c0e54aca78664d6bd1c9757282795ba99d164ef
         ],
         "hovertemplate": "%{text}<br>Var (climate): %{a}<br>Var (model): %{b} <br>Var (other): %{c}",
         "line": {
          "width": 1.5
         },
         "marker": {
<<<<<<< HEAD
          "color": "goldenrod",
=======
          "color": "forestgreen",
>>>>>>> 5c0e54aca78664d6bd1c9757282795ba99d164ef
          "line": {
           "color": "black",
           "width": 1
          },
          "opacity": 1,
<<<<<<< HEAD
          "size": 0.1,
=======
          "size": 20,
>>>>>>> 5c0e54aca78664d6bd1c9757282795ba99d164ef
          "symbol": "star"
         },
         "mode": "markers",
         "name": "Secondary Energy|Electricity|Gas|w/o CCS (1174)",
         "showlegend": false,
         "subplot": "ternary",
         "text": [
<<<<<<< HEAD
          "2050"
         ],
         "textfont": {
          "color": "goldenrod",
=======
          "2100"
         ],
         "textfont": {
          "color": "forestgreen",
>>>>>>> 5c0e54aca78664d6bd1c9757282795ba99d164ef
          "size": 1
         },
         "type": "scatterternary"
        },
        {
         "a": [
<<<<<<< HEAD
          0.5380863243305162
         ],
         "b": [
          0.28406147971187434
         ],
         "c": [
          0.17785219595760973
         ],
         "mode": "text",
         "showlegend": false,
         "subplot": "ternary",
         "text": [
          "🗲"
         ],
         "textfont": {
          "color": "goldenrod",
          "size": 23
         },
         "type": "scatterternary"
        },
        {
         "a": [
          0.19898002187042962
         ],
         "b": [
          0.5232469331552541
         ],
         "c": [
          0.2777730449743163
=======
          0.10847358415826297
         ],
         "b": [
          0.43181251393640985
         ],
         "c": [
          0.279982688296783
>>>>>>> 5c0e54aca78664d6bd1c9757282795ba99d164ef
         ],
         "hovertemplate": "%{text}<br>Var (climate): %{a}<br>Var (model): %{b} <br>Var (other): %{c}",
         "line": {
          "width": 1.5
         },
         "marker": {
<<<<<<< HEAD
          "color": "goldenrod",
=======
          "color": "forestgreen",
>>>>>>> 5c0e54aca78664d6bd1c9757282795ba99d164ef
          "line": {
           "color": "black",
           "width": 1
          },
          "opacity": 1,
<<<<<<< HEAD
          "size": 0.1,
=======
          "size": 20,
>>>>>>> 5c0e54aca78664d6bd1c9757282795ba99d164ef
          "symbol": "star"
         },
         "mode": "markers",
         "name": "Secondary Energy|Electricity|Nuclear (1194)",
         "showlegend": false,
         "subplot": "ternary",
         "text": [
<<<<<<< HEAD
          "2050"
         ],
         "textfont": {
          "color": "goldenrod",
=======
          "2100"
         ],
         "textfont": {
          "color": "forestgreen",
>>>>>>> 5c0e54aca78664d6bd1c9757282795ba99d164ef
          "size": 1
         },
         "type": "scatterternary"
        },
        {
         "a": [
<<<<<<< HEAD
          0.19898002187042962
         ],
         "b": [
          0.5232469331552541
         ],
         "c": [
          0.2777730449743163
         ],
         "mode": "text",
         "showlegend": false,
         "subplot": "ternary",
         "text": [
          "🗲"
         ],
         "textfont": {
          "color": "goldenrod",
          "size": 23
         },
         "type": "scatterternary"
        },
        {
         "a": [
          0.2134074667302871
         ],
         "b": [
          0.5306494080202113
         ],
         "c": [
          0.2559431252495017
=======
          0.14958938628124915
         ],
         "b": [
          0.4666522456383623
         ],
         "c": [
          0.25569178764047684
>>>>>>> 5c0e54aca78664d6bd1c9757282795ba99d164ef
         ],
         "hovertemplate": "%{text}<br>Var (climate): %{a}<br>Var (model): %{b} <br>Var (other): %{c}",
         "line": {
          "width": 1.5
         },
         "marker": {
<<<<<<< HEAD
          "color": "goldenrod",
=======
          "color": "forestgreen",
>>>>>>> 5c0e54aca78664d6bd1c9757282795ba99d164ef
          "line": {
           "color": "black",
           "width": 1
          },
          "opacity": 1,
<<<<<<< HEAD
          "size": 0.1,
=======
          "size": 20,
>>>>>>> 5c0e54aca78664d6bd1c9757282795ba99d164ef
          "symbol": "star"
         },
         "mode": "markers",
         "name": "Secondary Energy|Electricity|Solar (1187)",
         "showlegend": false,
         "subplot": "ternary",
         "text": [
<<<<<<< HEAD
          "2050"
         ],
         "textfont": {
          "color": "goldenrod",
=======
          "2100"
         ],
         "textfont": {
          "color": "forestgreen",
>>>>>>> 5c0e54aca78664d6bd1c9757282795ba99d164ef
          "size": 1
         },
         "type": "scatterternary"
        },
        {
         "a": [
<<<<<<< HEAD
          0.2134074667302871
         ],
         "b": [
          0.5306494080202113
         ],
         "c": [
          0.2559431252495017
         ],
         "mode": "text",
         "showlegend": false,
         "subplot": "ternary",
         "text": [
          "🗲"
         ],
         "textfont": {
          "color": "goldenrod",
          "size": 23
         },
         "type": "scatterternary"
        },
        {
         "a": [
          0.3453749839268033
         ],
         "b": [
          0.49199812012289035
         ],
         "c": [
          0.16262689595030644
=======
          0.251633795148492
         ],
         "b": [
          0.3980749725147506
         ],
         "c": [
          0.16292111086240182
>>>>>>> 5c0e54aca78664d6bd1c9757282795ba99d164ef
         ],
         "hovertemplate": "%{text}<br>Var (climate): %{a}<br>Var (model): %{b} <br>Var (other): %{c}",
         "line": {
          "width": 1.5
         },
         "marker": {
<<<<<<< HEAD
          "color": "goldenrod",
=======
          "color": "forestgreen",
>>>>>>> 5c0e54aca78664d6bd1c9757282795ba99d164ef
          "line": {
           "color": "black",
           "width": 1
          },
          "opacity": 1,
<<<<<<< HEAD
          "size": 0.1,
=======
          "size": 20,
>>>>>>> 5c0e54aca78664d6bd1c9757282795ba99d164ef
          "symbol": "star"
         },
         "mode": "markers",
         "name": "Secondary Energy|Electricity|Wind (1187)",
         "showlegend": false,
         "subplot": "ternary",
         "text": [
<<<<<<< HEAD
          "2050"
         ],
         "textfont": {
          "color": "goldenrod",
=======
          "2100"
         ],
         "textfont": {
          "color": "forestgreen",
>>>>>>> 5c0e54aca78664d6bd1c9757282795ba99d164ef
          "size": 1
         },
         "type": "scatterternary"
        },
        {
         "a": [
<<<<<<< HEAD
          0.3453749839268033
         ],
         "b": [
          0.49199812012289035
         ],
         "c": [
          0.16262689595030644
         ],
         "mode": "text",
         "showlegend": false,
         "subplot": "ternary",
         "text": [
          "🗲"
         ],
         "textfont": {
          "color": "goldenrod",
          "size": 23
         },
         "type": "scatterternary"
        },
        {
         "a": [
          0.1878322529083381
         ],
         "b": [
          0.7111233818629606
         ],
         "c": [
          0.10104436522870124
=======
          0.10762569410591624
         ],
         "b": [
          0.6311972592291528
         ],
         "c": [
          0.10090308311830937
>>>>>>> 5c0e54aca78664d6bd1c9757282795ba99d164ef
         ],
         "hovertemplate": "%{text}<br>Var (climate): %{a}<br>Var (model): %{b} <br>Var (other): %{c}",
         "line": {
          "width": 1.5
         },
         "marker": {
<<<<<<< HEAD
          "color": "goldenrod",
=======
          "color": "forestgreen",
>>>>>>> 5c0e54aca78664d6bd1c9757282795ba99d164ef
          "line": {
           "color": "black",
           "width": 1
          },
          "opacity": 1,
<<<<<<< HEAD
          "size": 0.1,
=======
          "size": 20,
>>>>>>> 5c0e54aca78664d6bd1c9757282795ba99d164ef
          "symbol": "star"
         },
         "mode": "markers",
         "name": "Secondary Energy|Electricity|Hydro (1194)",
         "showlegend": false,
         "subplot": "ternary",
         "text": [
<<<<<<< HEAD
          "2050"
         ],
         "textfont": {
          "color": "goldenrod",
=======
          "2100"
         ],
         "textfont": {
          "color": "forestgreen",
>>>>>>> 5c0e54aca78664d6bd1c9757282795ba99d164ef
          "size": 1
         },
         "type": "scatterternary"
        },
        {
         "a": [
<<<<<<< HEAD
          0.1878322529083381
         ],
         "b": [
          0.7111233818629606
         ],
         "c": [
          0.10104436522870124
         ],
         "mode": "text",
         "showlegend": false,
         "subplot": "ternary",
         "text": [
          "🗲"
         ],
         "textfont": {
          "color": "goldenrod",
          "size": 23
         },
         "type": "scatterternary"
        },
        {
         "a": [
          0.45243551815596755
         ],
         "b": [
          0.3637412946634257
         ],
         "c": [
          0.18382318718060692
=======
          0.1733914194004476
         ],
         "b": [
          0.6758491055488979
         ],
         "c": [
          0.08555660223043951
>>>>>>> 5c0e54aca78664d6bd1c9757282795ba99d164ef
         ],
         "hovertemplate": "%{text}<br>Var (climate): %{a}<br>Var (model): %{b} <br>Var (other): %{c}",
         "line": {
          "width": 1.5
         },
         "marker": {
<<<<<<< HEAD
          "color": "goldenrod",
=======
          "color": "silver",
>>>>>>> 5c0e54aca78664d6bd1c9757282795ba99d164ef
          "line": {
           "color": "black",
           "width": 1
          },
          "opacity": 1,
<<<<<<< HEAD
          "size": 0.1,
          "symbol": "star"
         },
         "mode": "markers",
         "name": "Secondary Energy|Electricity|Renewables (incl. Biomass) (1194)",
         "showlegend": false,
         "subplot": "ternary",
         "text": [
          "2050"
         ],
         "textfont": {
          "color": "goldenrod",
          "size": 1
         },
         "type": "scatterternary"
        },
        {
         "a": [
          0.45243551815596755
         ],
         "b": [
          0.3637412946634257
         ],
         "c": [
          0.18382318718060692
         ],
         "mode": "text",
         "showlegend": false,
         "subplot": "ternary",
         "text": [
          "🗲"
         ],
         "textfont": {
          "color": "goldenrod",
          "size": 23
         },
         "type": "scatterternary"
        },
        {
         "a": [
          0.1491012132363978
         ],
         "b": [
          0.6678092613773173
         ],
         "c": [
          0.18308952538628487
         ],
         "hovertemplate": "%{text}<br>Var (climate): %{a}<br>Var (model): %{b} <br>Var (other): %{c}",
         "line": {
          "width": 1.5
         },
         "marker": {
          "color": "goldenrod",
          "line": {
           "color": "black",
           "width": 1
          },
          "opacity": 1,
          "size": 0.1,
          "symbol": "star"
         },
         "mode": "markers",
         "name": "Secondary Energy|Electricity|Geothermal (912)",
         "showlegend": false,
         "subplot": "ternary",
         "text": [
          "2050"
         ],
         "textfont": {
          "color": "goldenrod",
          "size": 1
         },
         "type": "scatterternary"
        },
        {
         "a": [
          0.1491012132363978
         ],
         "b": [
          0.6678092613773173
         ],
         "c": [
          0.18308952538628487
         ],
         "mode": "text",
         "showlegend": false,
         "subplot": "ternary",
         "text": [
          "🗲"
         ],
         "textfont": {
          "color": "goldenrod",
          "size": 23
         },
         "type": "scatterternary"
        },
        {
         "a": [
          0.20599250787403273
         ],
         "b": [
          0.7079699026210174
         ],
         "c": [
          0.08603758950494972
         ],
         "hovertemplate": "%{text}<br>Var (climate): %{a}<br>Var (model): %{b} <br>Var (other): %{c}",
         "line": {
          "width": 1.5
         },
         "marker": {
          "color": "peru",
          "line": {
           "color": "black",
           "width": 1
          },
          "opacity": 1,
          "size": 0.1,
=======
          "size": 20,
>>>>>>> 5c0e54aca78664d6bd1c9757282795ba99d164ef
          "symbol": "square"
         },
         "mode": "markers",
         "name": "Final Energy|Industry (1096)",
         "showlegend": false,
         "subplot": "ternary",
         "text": [
<<<<<<< HEAD
          "2050"
         ],
         "textfont": {
          "color": "peru",
=======
          "2100"
         ],
         "textfont": {
          "color": "silver",
>>>>>>> 5c0e54aca78664d6bd1c9757282795ba99d164ef
          "size": 1
         },
         "type": "scatterternary"
        },
        {
         "a": [
<<<<<<< HEAD
          0.20599250787403273
         ],
         "b": [
          0.7079699026210174
         ],
         "c": [
          0.08603758950494972
         ],
         "mode": "text",
         "showlegend": false,
         "subplot": "ternary",
         "text": [
          "⛮"
         ],
         "textfont": {
          "color": "peru",
          "size": 21
         },
         "type": "scatterternary"
        },
        {
         "a": [
          0.3670657918971644
         ],
         "b": [
          0.5622018950156893
         ],
         "c": [
          0.07073231308714639
=======
          0.25060476444721447
         ],
         "b": [
          0.44672330881865924
         ],
         "c": [
          0.07116031249100717
>>>>>>> 5c0e54aca78664d6bd1c9757282795ba99d164ef
         ],
         "hovertemplate": "%{text}<br>Var (climate): %{a}<br>Var (model): %{b} <br>Var (other): %{c}",
         "line": {
          "width": 1.5
         },
         "marker": {
<<<<<<< HEAD
          "color": "peru",
=======
          "color": "silver",
>>>>>>> 5c0e54aca78664d6bd1c9757282795ba99d164ef
          "line": {
           "color": "black",
           "width": 1
          },
          "opacity": 1,
<<<<<<< HEAD
          "size": 0.1,
=======
          "size": 20,
>>>>>>> 5c0e54aca78664d6bd1c9757282795ba99d164ef
          "symbol": "square"
         },
         "mode": "markers",
         "name": "Final Energy|Industry|Solids|Coal (933)",
         "showlegend": false,
         "subplot": "ternary",
         "text": [
<<<<<<< HEAD
          "2050"
         ],
         "textfont": {
          "color": "peru",
=======
          "2100"
         ],
         "textfont": {
          "color": "silver",
>>>>>>> 5c0e54aca78664d6bd1c9757282795ba99d164ef
          "size": 1
         },
         "type": "scatterternary"
        },
        {
         "a": [
<<<<<<< HEAD
          0.3670657918971644
         ],
         "b": [
          0.5622018950156893
         ],
         "c": [
          0.07073231308714639
         ],
         "mode": "text",
         "showlegend": false,
         "subplot": "ternary",
         "text": [
          "⛮"
         ],
         "textfont": {
          "color": "peru",
          "size": 21
         },
         "type": "scatterternary"
        },
        {
         "a": [
          0.2077632019210391
         ],
         "b": [
          0.740707393441741
         ],
         "c": [
          0.05152940463721995
=======
          0.019575978103370667
         ],
         "b": [
          0.5530185713354288
         ],
         "c": [
          0.05123112791728483
>>>>>>> 5c0e54aca78664d6bd1c9757282795ba99d164ef
         ],
         "hovertemplate": "%{text}<br>Var (climate): %{a}<br>Var (model): %{b} <br>Var (other): %{c}",
         "line": {
          "width": 1.5
         },
         "marker": {
<<<<<<< HEAD
          "color": "peru",
=======
          "color": "silver",
>>>>>>> 5c0e54aca78664d6bd1c9757282795ba99d164ef
          "line": {
           "color": "black",
           "width": 1
          },
          "opacity": 1,
<<<<<<< HEAD
          "size": 0.1,
=======
          "size": 20,
>>>>>>> 5c0e54aca78664d6bd1c9757282795ba99d164ef
          "symbol": "square"
         },
         "mode": "markers",
         "name": "Final Energy|Industry|Solids|Biomass (933)",
         "showlegend": false,
         "subplot": "ternary",
         "text": [
<<<<<<< HEAD
          "2050"
         ],
         "textfont": {
          "color": "peru",
=======
          "2100"
         ],
         "textfont": {
          "color": "silver",
>>>>>>> 5c0e54aca78664d6bd1c9757282795ba99d164ef
          "size": 1
         },
         "type": "scatterternary"
        },
        {
         "a": [
<<<<<<< HEAD
          0.2077632019210391
         ],
         "b": [
          0.740707393441741
         ],
         "c": [
          0.05152940463721995
         ],
         "mode": "text",
         "showlegend": false,
         "subplot": "ternary",
         "text": [
          "⛮"
         ],
         "textfont": {
          "color": "peru",
          "size": 21
         },
         "type": "scatterternary"
        },
        {
         "a": [
          0.2163100377333581
         ],
         "b": [
          0.6976187326650432
         ],
         "c": [
          0.08607122960159877
=======
          0.12151081087174259
         ],
         "b": [
          0.6030700451446154
         ],
         "c": [
          0.08533140695469292
>>>>>>> 5c0e54aca78664d6bd1c9757282795ba99d164ef
         ],
         "hovertemplate": "%{text}<br>Var (climate): %{a}<br>Var (model): %{b} <br>Var (other): %{c}",
         "line": {
          "width": 1.5
         },
         "marker": {
<<<<<<< HEAD
          "color": "peru",
=======
          "color": "silver",
>>>>>>> 5c0e54aca78664d6bd1c9757282795ba99d164ef
          "line": {
           "color": "black",
           "width": 1
          },
          "opacity": 1,
<<<<<<< HEAD
          "size": 0.1,
=======
          "size": 20,
>>>>>>> 5c0e54aca78664d6bd1c9757282795ba99d164ef
          "symbol": "square"
         },
         "mode": "markers",
         "name": "Final Energy|Industry|Liquids (1054)",
         "showlegend": false,
         "subplot": "ternary",
         "text": [
<<<<<<< HEAD
          "2050"
         ],
         "textfont": {
          "color": "peru",
=======
          "2100"
         ],
         "textfont": {
          "color": "silver",
>>>>>>> 5c0e54aca78664d6bd1c9757282795ba99d164ef
          "size": 1
         },
         "type": "scatterternary"
        },
        {
         "a": [
<<<<<<< HEAD
          0.2163100377333581
         ],
         "b": [
          0.6976187326650432
         ],
         "c": [
          0.08607122960159877
         ],
         "mode": "text",
         "showlegend": false,
         "subplot": "ternary",
         "text": [
          "⛮"
         ],
         "textfont": {
          "color": "peru",
          "size": 21
         },
         "type": "scatterternary"
        },
        {
         "a": [
          0.34359182799809385
         ],
         "b": [
          0.5236191326379623
         ],
         "c": [
          0.13278903936394387
=======
          0.22194673104993956
         ],
         "b": [
          0.4024507454383936
         ],
         "c": [
          0.1320360490787979
>>>>>>> 5c0e54aca78664d6bd1c9757282795ba99d164ef
         ],
         "hovertemplate": "%{text}<br>Var (climate): %{a}<br>Var (model): %{b} <br>Var (other): %{c}",
         "line": {
          "width": 1.5
         },
         "marker": {
<<<<<<< HEAD
          "color": "peru",
=======
          "color": "silver",
>>>>>>> 5c0e54aca78664d6bd1c9757282795ba99d164ef
          "line": {
           "color": "black",
           "width": 1
          },
          "opacity": 1,
<<<<<<< HEAD
          "size": 0.1,
=======
          "size": 20,
>>>>>>> 5c0e54aca78664d6bd1c9757282795ba99d164ef
          "symbol": "square"
         },
         "mode": "markers",
         "name": "Final Energy|Industry|Gases (1054)",
         "showlegend": false,
         "subplot": "ternary",
         "text": [
<<<<<<< HEAD
          "2050"
         ],
         "textfont": {
          "color": "peru",
=======
          "2100"
         ],
         "textfont": {
          "color": "silver",
>>>>>>> 5c0e54aca78664d6bd1c9757282795ba99d164ef
          "size": 1
         },
         "type": "scatterternary"
        },
        {
         "a": [
<<<<<<< HEAD
          0.34359182799809385
         ],
         "b": [
          0.5236191326379623
         ],
         "c": [
          0.13278903936394387
         ],
         "mode": "text",
         "showlegend": false,
         "subplot": "ternary",
         "text": [
          "⛮"
         ],
         "textfont": {
          "color": "peru",
          "size": 21
         },
         "type": "scatterternary"
        },
        {
         "a": [
          0.2850305897897721
         ],
         "b": [
          0.5898697857300881
         ],
         "c": [
          0.12509962448013995
         ],
         "hoverinfo": "skip",
         "marker": {
          "color": "peru",
          "line": {
           "width": 2
          },
          "size": 28,
          "symbol": "circle-open"
         },
         "mode": "markers",
         "showlegend": false,
         "subplot": "ternary",
         "type": "scatterternary"
        },
        {
         "a": [
          0.2850305897897721
         ],
         "b": [
          0.5898697857300881
         ],
         "c": [
          0.12509962448013995
         ],
         "hoverinfo": "skip",
         "marker": {
          "color": "black",
          "line": {
           "width": 3
          },
          "size": 32,
          "symbol": "circle-open"
         },
         "mode": "markers",
         "showlegend": false,
         "subplot": "ternary",
         "type": "scatterternary"
        },
        {
         "a": [
          0.2850305897897721
         ],
         "b": [
          0.5898697857300881
         ],
         "c": [
          0.12509962448013995
=======
          0.14422845619774555
         ],
         "b": [
          0.4488966634496936
         ],
         "c": [
          0.12495145175554874
>>>>>>> 5c0e54aca78664d6bd1c9757282795ba99d164ef
         ],
         "hovertemplate": "%{text}<br>Var (climate): %{a}<br>Var (model): %{b} <br>Var (other): %{c}",
         "line": {
          "width": 1.5
         },
         "marker": {
<<<<<<< HEAD
          "color": "peru",
          "line": {
           "color": "black",
           "width": 0
          },
          "opacity": 1,
          "size": 0.1,
=======
          "color": "silver",
          "line": {
           "color": "black",
           "width": 4
          },
          "opacity": 1,
          "size": 20,
>>>>>>> 5c0e54aca78664d6bd1c9757282795ba99d164ef
          "symbol": "square"
         },
         "mode": "markers",
         "name": "Final Energy|Industry|Electricity (1054)",
         "showlegend": false,
         "subplot": "ternary",
         "text": [
<<<<<<< HEAD
          "2050"
         ],
         "textfont": {
          "color": "peru",
=======
          "2100"
         ],
         "textfont": {
          "color": "silver",
>>>>>>> 5c0e54aca78664d6bd1c9757282795ba99d164ef
          "size": 1
         },
         "type": "scatterternary"
        },
        {
         "a": [
<<<<<<< HEAD
          0.2850305897897721
         ],
         "b": [
          0.5898697857300881
         ],
         "c": [
          0.12509962448013995
         ],
         "mode": "text",
         "showlegend": false,
         "subplot": "ternary",
         "text": [
          "⛮"
         ],
         "textfont": {
          "color": "peru",
          "size": 21
         },
         "type": "scatterternary"
        },
        {
         "a": [
          0.2343344943898626
         ],
         "b": [
          0.575025023677217
         ],
         "c": [
          0.1906404819329203
=======
          0.14982396913079082
         ],
         "b": [
          0.4905486753427284
         ],
         "c": [
          0.18957945951836688
>>>>>>> 5c0e54aca78664d6bd1c9757282795ba99d164ef
         ],
         "hovertemplate": "%{text}<br>Var (climate): %{a}<br>Var (model): %{b} <br>Var (other): %{c}",
         "line": {
          "width": 1.5
         },
         "marker": {
<<<<<<< HEAD
          "color": "peru",
=======
          "color": "silver",
>>>>>>> 5c0e54aca78664d6bd1c9757282795ba99d164ef
          "line": {
           "color": "black",
           "width": 1
          },
          "opacity": 1,
<<<<<<< HEAD
          "size": 0.1,
=======
          "size": 20,
>>>>>>> 5c0e54aca78664d6bd1c9757282795ba99d164ef
          "symbol": "square"
         },
         "mode": "markers",
         "name": "Final Energy|Industry|Hydrogen (961)",
         "showlegend": false,
         "subplot": "ternary",
         "text": [
<<<<<<< HEAD
          "2050"
         ],
         "textfont": {
          "color": "peru",
=======
          "2100"
         ],
         "textfont": {
          "color": "silver",
>>>>>>> 5c0e54aca78664d6bd1c9757282795ba99d164ef
          "size": 1
         },
         "type": "scatterternary"
        },
        {
         "a": [
<<<<<<< HEAD
          0.2343344943898626
         ],
         "b": [
          0.575025023677217
         ],
         "c": [
          0.1906404819329203
         ],
         "mode": "text",
         "showlegend": false,
         "subplot": "ternary",
         "text": [
          "⛮"
         ],
         "textfont": {
          "color": "peru",
          "size": 21
         },
         "type": "scatterternary"
        },
        {
         "a": [
          0.3236282652650773
         ],
         "b": [
          0.4992689048080679
         ],
         "c": [
          0.17710282992685486
=======
          0.2776377947591544
         ],
         "b": [
          0.45470300520650975
         ],
         "c": [
          0.17692813479517677
>>>>>>> 5c0e54aca78664d6bd1c9757282795ba99d164ef
         ],
         "hovertemplate": "%{text}<br>Var (climate): %{a}<br>Var (model): %{b} <br>Var (other): %{c}",
         "line": {
          "width": 1.5
         },
         "marker": {
          "color": "teal",
          "line": {
           "color": "black",
           "width": 1
          },
          "opacity": 1,
<<<<<<< HEAD
          "size": 0.1,
=======
          "size": 20,
>>>>>>> 5c0e54aca78664d6bd1c9757282795ba99d164ef
          "symbol": "cross"
         },
         "mode": "markers",
         "name": "Final Energy|Transportation (1186)",
         "showlegend": false,
         "subplot": "ternary",
         "text": [
<<<<<<< HEAD
          "2050"
=======
          "2100"
>>>>>>> 5c0e54aca78664d6bd1c9757282795ba99d164ef
         ],
         "textfont": {
          "color": "teal",
          "size": 1
         },
         "type": "scatterternary"
        },
        {
         "a": [
<<<<<<< HEAD
          0.3236282652650773
         ],
         "b": [
          0.4992689048080679
         ],
         "c": [
          0.17710282992685486
         ],
         "mode": "text",
         "showlegend": false,
         "subplot": "ternary",
         "text": [
          "⛟"
         ],
         "textfont": {
          "color": "teal",
          "size": 21
         },
         "type": "scatterternary"
        },
        {
         "a": [
          0.1297442093136013
         ],
         "b": [
          0.5796705826602158
         ],
         "c": [
          0.2905852080261832
=======
          0.002758021320202983
         ],
         "b": [
          0.45235941129079654
         ],
         "c": [
          0.2907870043558612
>>>>>>> 5c0e54aca78664d6bd1c9757282795ba99d164ef
         ],
         "hovertemplate": "%{text}<br>Var (climate): %{a}<br>Var (model): %{b} <br>Var (other): %{c}",
         "line": {
          "width": 1.5
         },
         "marker": {
          "color": "teal",
          "line": {
           "color": "black",
           "width": 1
          },
          "opacity": 1,
<<<<<<< HEAD
          "size": 0.1,
=======
          "size": 20,
>>>>>>> 5c0e54aca78664d6bd1c9757282795ba99d164ef
          "symbol": "cross"
         },
         "mode": "markers",
         "name": "Final Energy|Transportation|Gases (996)",
         "showlegend": false,
         "subplot": "ternary",
         "text": [
<<<<<<< HEAD
          "2050"
=======
          "2100"
>>>>>>> 5c0e54aca78664d6bd1c9757282795ba99d164ef
         ],
         "textfont": {
          "color": "teal",
          "size": 1
         },
         "type": "scatterternary"
        },
        {
         "a": [
<<<<<<< HEAD
          0.1297442093136013
         ],
         "b": [
          0.5796705826602158
         ],
         "c": [
          0.2905852080261832
         ],
         "mode": "text",
         "showlegend": false,
         "subplot": "ternary",
         "text": [
          "⛟"
         ],
         "textfont": {
          "color": "teal",
          "size": 21
         },
         "type": "scatterternary"
        },
        {
         "a": [
          0.16624763880515403
         ],
         "b": [
          0.6978959981665555
         ],
         "c": [
          0.13585636302829063
=======
          0.30791898992641964
         ],
         "b": [
          0.3873069678266633
         ],
         "c": [
          0.1575619341153677
>>>>>>> 5c0e54aca78664d6bd1c9757282795ba99d164ef
         ],
         "hovertemplate": "%{text}<br>Var (climate): %{a}<br>Var (model): %{b} <br>Var (other): %{c}",
         "line": {
          "width": 1.5
         },
         "marker": {
          "color": "teal",
          "line": {
           "color": "black",
           "width": 1
          },
          "opacity": 1,
<<<<<<< HEAD
          "size": 0.1,
          "symbol": "cross"
         },
         "mode": "markers",
         "name": "Final Energy|Transportation|Liquids|Bioenergy (687)",
         "showlegend": false,
         "subplot": "ternary",
         "text": [
          "2050"
=======
          "size": 20,
          "symbol": "cross"
         },
         "mode": "markers",
         "name": "Final Energy|Transportation|Liquids (1117)",
         "showlegend": false,
         "subplot": "ternary",
         "text": [
          "2100"
>>>>>>> 5c0e54aca78664d6bd1c9757282795ba99d164ef
         ],
         "textfont": {
          "color": "teal",
          "size": 1
         },
         "type": "scatterternary"
        },
        {
         "a": [
<<<<<<< HEAD
          0.16624763880515403
         ],
         "b": [
          0.6978959981665555
         ],
         "c": [
          0.13585636302829063
         ],
         "mode": "text",
         "showlegend": false,
         "subplot": "ternary",
         "text": [
          "⛟"
         ],
         "textfont": {
          "color": "teal",
          "size": 21
         },
         "type": "scatterternary"
        },
        {
         "a": [
          0.5213350166340948
         ],
         "b": [
          0.345131706859677
         ],
         "c": [
          0.13353327650622834
=======
          0.08982938716537953
         ],
         "b": [
          0.32301152197826
         ],
         "c": [
          0.4068673041802732
>>>>>>> 5c0e54aca78664d6bd1c9757282795ba99d164ef
         ],
         "hovertemplate": "%{text}<br>Var (climate): %{a}<br>Var (model): %{b} <br>Var (other): %{c}",
         "line": {
          "width": 1.5
         },
         "marker": {
          "color": "teal",
          "line": {
           "color": "black",
           "width": 1
          },
          "opacity": 1,
<<<<<<< HEAD
          "size": 0.1,
          "symbol": "cross"
         },
         "mode": "markers",
         "name": "Final Energy|Transportation|Liquids|Oil (968)",
         "showlegend": false,
         "subplot": "ternary",
         "text": [
          "2050"
         ],
         "textfont": {
          "color": "teal",
          "size": 1
         },
         "type": "scatterternary"
        },
        {
         "a": [
          0.5213350166340948
         ],
         "b": [
          0.345131706859677
         ],
         "c": [
          0.13353327650622834
         ],
         "mode": "text",
         "showlegend": false,
         "subplot": "ternary",
         "text": [
          "⛟"
         ],
         "textfont": {
          "color": "teal",
          "size": 21
         },
         "type": "scatterternary"
        },
        {
         "a": [
          0.17936085223389037
         ],
         "b": [
          0.4128860750437708
         ],
         "c": [
          0.407753072722339
         ],
         "hoverinfo": "skip",
         "marker": {
          "color": "teal",
          "line": {
           "width": 2
          },
          "size": 28,
          "symbol": "circle-open"
         },
         "mode": "markers",
         "showlegend": false,
         "subplot": "ternary",
         "type": "scatterternary"
        },
        {
         "a": [
          0.17936085223389037
         ],
         "b": [
          0.4128860750437708
         ],
         "c": [
          0.407753072722339
         ],
         "hoverinfo": "skip",
         "marker": {
          "color": "black",
          "line": {
           "width": 3
          },
          "size": 32,
          "symbol": "circle-open"
         },
         "mode": "markers",
         "showlegend": false,
         "subplot": "ternary",
         "type": "scatterternary"
        },
        {
         "a": [
          0.17936085223389037
         ],
         "b": [
          0.4128860750437708
         ],
         "c": [
          0.407753072722339
         ],
         "hovertemplate": "%{text}<br>Var (climate): %{a}<br>Var (model): %{b} <br>Var (other): %{c}",
         "line": {
          "width": 1.5
         },
         "marker": {
          "color": "teal",
          "line": {
           "color": "black",
           "width": 0
          },
          "opacity": 1,
          "size": 0.1,
=======
          "size": 20,
>>>>>>> 5c0e54aca78664d6bd1c9757282795ba99d164ef
          "symbol": "cross"
         },
         "mode": "markers",
         "name": "Final Energy|Transportation|Hydrogen (1113)",
         "showlegend": false,
         "subplot": "ternary",
         "text": [
<<<<<<< HEAD
          "2050"
=======
          "2100"
>>>>>>> 5c0e54aca78664d6bd1c9757282795ba99d164ef
         ],
         "textfont": {
          "color": "teal",
          "size": 1
         },
         "type": "scatterternary"
        },
        {
         "a": [
<<<<<<< HEAD
          0.17936085223389037
         ],
         "b": [
          0.4128860750437708
         ],
         "c": [
          0.407753072722339
         ],
         "mode": "text",
         "showlegend": false,
         "subplot": "ternary",
         "text": [
          "⛟"
         ],
         "textfont": {
          "color": "teal",
          "size": 21
         },
         "type": "scatterternary"
        },
        {
         "a": [
          0.23508532483772387
         ],
         "b": [
          0.5974927171218938
         ],
         "c": [
          0.1674219580403827
         ],
         "hoverinfo": "skip",
         "marker": {
          "color": "teal",
          "line": {
           "width": 2
          },
          "size": 28,
          "symbol": "circle-open"
         },
         "mode": "markers",
         "showlegend": false,
         "subplot": "ternary",
         "type": "scatterternary"
        },
        {
         "a": [
          0.23508532483772387
         ],
         "b": [
          0.5974927171218938
         ],
         "c": [
          0.1674219580403827
         ],
         "hoverinfo": "skip",
         "marker": {
          "color": "black",
          "line": {
           "width": 3
          },
          "size": 32,
          "symbol": "circle-open"
         },
         "mode": "markers",
         "showlegend": false,
         "subplot": "ternary",
         "type": "scatterternary"
        },
        {
         "a": [
          0.23508532483772387
         ],
         "b": [
          0.5974927171218938
         ],
         "c": [
          0.1674219580403827
=======
          0.14501663307419643
         ],
         "b": [
          0.5074015512973125
         ],
         "c": [
          0.1675088034083139
>>>>>>> 5c0e54aca78664d6bd1c9757282795ba99d164ef
         ],
         "hovertemplate": "%{text}<br>Var (climate): %{a}<br>Var (model): %{b} <br>Var (other): %{c}",
         "line": {
          "width": 1.5
         },
         "marker": {
          "color": "teal",
          "line": {
           "color": "black",
<<<<<<< HEAD
           "width": 0
          },
          "opacity": 1,
          "size": 0.1,
=======
           "width": 4
          },
          "opacity": 1,
          "size": 20,
>>>>>>> 5c0e54aca78664d6bd1c9757282795ba99d164ef
          "symbol": "cross"
         },
         "mode": "markers",
         "name": "Final Energy|Transportation|Electricity (1186)",
         "showlegend": false,
         "subplot": "ternary",
         "text": [
<<<<<<< HEAD
          "2050"
=======
          "2100"
>>>>>>> 5c0e54aca78664d6bd1c9757282795ba99d164ef
         ],
         "textfont": {
          "color": "teal",
          "size": 1
         },
         "type": "scatterternary"
        },
        {
         "a": [
<<<<<<< HEAD
          0.23508532483772387
         ],
         "b": [
          0.5974927171218938
         ],
         "c": [
          0.1674219580403827
         ],
         "mode": "text",
         "showlegend": false,
         "subplot": "ternary",
         "text": [
          "⛟"
         ],
         "textfont": {
          "color": "teal",
          "size": 21
         },
         "type": "scatterternary"
        },
        {
         "a": [
          0.2524210609935267
         ],
         "b": [
          0.4495507715061235
         ],
         "c": [
          0.29802816750034944
=======
          0.45526281752084
         ],
         "b": [
          0.27971138403231627
         ],
         "c": [
          0.1331875348588517
>>>>>>> 5c0e54aca78664d6bd1c9757282795ba99d164ef
         ],
         "hovertemplate": "%{text}<br>Var (climate): %{a}<br>Var (model): %{b} <br>Var (other): %{c}",
         "line": {
          "width": 1.5
         },
         "marker": {
<<<<<<< HEAD
          "color": "silver",
=======
          "color": "teal",
>>>>>>> 5c0e54aca78664d6bd1c9757282795ba99d164ef
          "line": {
           "color": "black",
           "width": 1
          },
          "opacity": 1,
<<<<<<< HEAD
          "size": 0.1,
=======
          "size": 20,
          "symbol": "cross"
         },
         "mode": "markers",
         "name": "Final Energy|Transportation|Liquids|Oil (968)",
         "showlegend": false,
         "subplot": "ternary",
         "text": [
          "2100"
         ],
         "textfont": {
          "color": "teal",
          "size": 1
         },
         "type": "scatterternary"
        },
        {
         "a": [
          0.1991839297405928
         ],
         "b": [
          0.395865991337753
         ],
         "c": [
          0.298127161537821
         ],
         "hovertemplate": "%{text}<br>Var (climate): %{a}<br>Var (model): %{b} <br>Var (other): %{c}",
         "line": {
          "width": 1.5
         },
         "marker": {
          "color": "peru",
          "line": {
           "color": "black",
           "width": 1
          },
          "opacity": 1,
          "size": 20,
>>>>>>> 5c0e54aca78664d6bd1c9757282795ba99d164ef
          "symbol": "star-triangle-up"
         },
         "mode": "markers",
         "name": "Final Energy|Residential and Commercial (1045)",
         "showlegend": false,
         "subplot": "ternary",
         "text": [
<<<<<<< HEAD
          "2050"
         ],
         "textfont": {
          "color": "silver",
=======
          "2100"
         ],
         "textfont": {
          "color": "peru",
>>>>>>> 5c0e54aca78664d6bd1c9757282795ba99d164ef
          "size": 1
         },
         "type": "scatterternary"
        },
        {
         "a": [
<<<<<<< HEAD
          0.2524210609935267
         ],
         "b": [
          0.4495507715061235
         ],
         "c": [
          0.29802816750034944
         ],
         "mode": "text",
         "showlegend": false,
         "subplot": "ternary",
         "text": [
          "⌂"
         ],
         "textfont": {
          "color": "darkgray",
          "size": 1
         },
         "type": "scatterternary"
        },
        {
         "a": [
          0.2524210609935267
         ],
         "b": [
          0.4495507715061235
         ],
         "c": [
          0.29802816750034944
         ],
         "mode": "text",
         "showlegend": false,
         "subplot": "ternary",
         "text": [
          "⌂"
         ],
         "textfont": {
          "color": "darkgray",
          "size": 2
         },
         "type": "scatterternary"
        },
        {
         "a": [
          0.2524210609935267
         ],
         "b": [
          0.4495507715061235
         ],
         "c": [
          0.29802816750034944
         ],
         "mode": "text",
         "showlegend": false,
         "subplot": "ternary",
         "text": [
          "⌂"
         ],
         "textfont": {
          "color": "darkgray",
          "size": 3
         },
         "type": "scatterternary"
        },
        {
         "a": [
          0.2524210609935267
         ],
         "b": [
          0.4495507715061235
         ],
         "c": [
          0.29802816750034944
         ],
         "mode": "text",
         "showlegend": false,
         "subplot": "ternary",
         "text": [
          "⌂"
         ],
         "textfont": {
          "color": "darkgray",
          "size": 4
         },
         "type": "scatterternary"
        },
        {
         "a": [
          0.2524210609935267
         ],
         "b": [
          0.4495507715061235
         ],
         "c": [
          0.29802816750034944
         ],
         "mode": "text",
         "showlegend": false,
         "subplot": "ternary",
         "text": [
          "⌂"
         ],
         "textfont": {
          "color": "darkgray",
          "size": 5
         },
         "type": "scatterternary"
        },
        {
         "a": [
          0.2524210609935267
         ],
         "b": [
          0.4495507715061235
         ],
         "c": [
          0.29802816750034944
         ],
         "mode": "text",
         "showlegend": false,
         "subplot": "ternary",
         "text": [
          "⌂"
         ],
         "textfont": {
          "color": "darkgray",
          "size": 6
         },
         "type": "scatterternary"
        },
        {
         "a": [
          0.2524210609935267
         ],
         "b": [
          0.4495507715061235
         ],
         "c": [
          0.29802816750034944
         ],
         "mode": "text",
         "showlegend": false,
         "subplot": "ternary",
         "text": [
          "⌂"
         ],
         "textfont": {
          "color": "darkgray",
          "size": 7
         },
         "type": "scatterternary"
        },
        {
         "a": [
          0.2524210609935267
         ],
         "b": [
          0.4495507715061235
         ],
         "c": [
          0.29802816750034944
         ],
         "mode": "text",
         "showlegend": false,
         "subplot": "ternary",
         "text": [
          "⌂"
         ],
         "textfont": {
          "color": "darkgray",
          "size": 8
         },
         "type": "scatterternary"
        },
        {
         "a": [
          0.2524210609935267
         ],
         "b": [
          0.4495507715061235
         ],
         "c": [
          0.29802816750034944
         ],
         "mode": "text",
         "showlegend": false,
         "subplot": "ternary",
         "text": [
          "⌂"
         ],
         "textfont": {
          "color": "darkgray",
          "size": 9
         },
         "type": "scatterternary"
        },
        {
         "a": [
          0.2524210609935267
         ],
         "b": [
          0.4495507715061235
         ],
         "c": [
          0.29802816750034944
         ],
         "mode": "text",
         "showlegend": false,
         "subplot": "ternary",
         "text": [
          "⌂"
         ],
         "textfont": {
          "color": "darkgray",
          "size": 10
         },
         "type": "scatterternary"
        },
        {
         "a": [
          0.2524210609935267
         ],
         "b": [
          0.4495507715061235
         ],
         "c": [
          0.29802816750034944
         ],
         "mode": "text",
         "showlegend": false,
         "subplot": "ternary",
         "text": [
          "⌂"
         ],
         "textfont": {
          "color": "darkgray",
          "size": 11
         },
         "type": "scatterternary"
        },
        {
         "a": [
          0.2524210609935267
         ],
         "b": [
          0.4495507715061235
         ],
         "c": [
          0.29802816750034944
         ],
         "mode": "text",
         "showlegend": false,
         "subplot": "ternary",
         "text": [
          "⌂"
         ],
         "textfont": {
          "color": "darkgray",
          "size": 12
         },
         "type": "scatterternary"
        },
        {
         "a": [
          0.2524210609935267
         ],
         "b": [
          0.4495507715061235
         ],
         "c": [
          0.29802816750034944
         ],
         "mode": "text",
         "showlegend": false,
         "subplot": "ternary",
         "text": [
          "⌂"
         ],
         "textfont": {
          "color": "darkgray",
          "size": 13
         },
         "type": "scatterternary"
        },
        {
         "a": [
          0.2524210609935267
         ],
         "b": [
          0.4495507715061235
         ],
         "c": [
          0.29802816750034944
         ],
         "mode": "text",
         "showlegend": false,
         "subplot": "ternary",
         "text": [
          "⌂"
         ],
         "textfont": {
          "color": "darkgray",
          "size": 14
         },
         "type": "scatterternary"
        },
        {
         "a": [
          0.2524210609935267
         ],
         "b": [
          0.4495507715061235
         ],
         "c": [
          0.29802816750034944
         ],
         "mode": "text",
         "showlegend": false,
         "subplot": "ternary",
         "text": [
          "⌂"
         ],
         "textfont": {
          "color": "darkgray",
          "size": 15
         },
         "type": "scatterternary"
        },
        {
         "a": [
          0.2524210609935267
         ],
         "b": [
          0.4495507715061235
         ],
         "c": [
          0.29802816750034944
         ],
         "mode": "text",
         "showlegend": false,
         "subplot": "ternary",
         "text": [
          "⌂"
         ],
         "textfont": {
          "color": "darkgray",
          "size": 16
         },
         "type": "scatterternary"
        },
        {
         "a": [
          0.2524210609935267
         ],
         "b": [
          0.4495507715061235
         ],
         "c": [
          0.29802816750034944
         ],
         "mode": "text",
         "showlegend": false,
         "subplot": "ternary",
         "text": [
          "⌂"
         ],
         "textfont": {
          "color": "darkgray",
          "size": 17
         },
         "type": "scatterternary"
        },
        {
         "a": [
          0.2524210609935267
         ],
         "b": [
          0.4495507715061235
         ],
         "c": [
          0.29802816750034944
         ],
         "mode": "text",
         "showlegend": false,
         "subplot": "ternary",
         "text": [
          "⌂"
         ],
         "textfont": {
          "color": "darkgray",
          "size": 18
         },
         "type": "scatterternary"
        },
        {
         "a": [
          0.2524210609935267
         ],
         "b": [
          0.4495507715061235
         ],
         "c": [
          0.29802816750034944
         ],
         "mode": "text",
         "showlegend": false,
         "subplot": "ternary",
         "text": [
          "⌂"
         ],
         "textfont": {
          "color": "darkgray",
          "size": 19
         },
         "type": "scatterternary"
        },
        {
         "a": [
          0.2524210609935267
         ],
         "b": [
          0.4495507715061235
         ],
         "c": [
          0.29802816750034944
         ],
         "mode": "text",
         "showlegend": false,
         "subplot": "ternary",
         "text": [
          "⌂"
         ],
         "textfont": {
          "color": "darkgray",
          "size": 20
         },
         "type": "scatterternary"
        },
        {
         "a": [
          0.2524210609935267
         ],
         "b": [
          0.4495507715061235
         ],
         "c": [
          0.29802816750034944
         ],
         "mode": "text",
         "showlegend": false,
         "subplot": "ternary",
         "text": [
          "⌂"
         ],
         "textfont": {
          "color": "darkgray",
          "size": 21
         },
         "type": "scatterternary"
        },
        {
         "a": [
          0.2524210609935267
         ],
         "b": [
          0.4495507715061235
         ],
         "c": [
          0.29802816750034944
         ],
         "mode": "text",
         "showlegend": false,
         "subplot": "ternary",
         "text": [
          "⌂"
         ],
         "textfont": {
          "color": "darkgray",
          "size": 22
         },
         "type": "scatterternary"
        },
        {
         "a": [
          0.10174100521087613
         ],
         "b": [
          0.6056673926058026
         ],
         "c": [
          0.29259160218332125
=======
          0.02918770927804553
         ],
         "b": [
          0.533646056045047
         ],
         "c": [
          0.29201287712968954
>>>>>>> 5c0e54aca78664d6bd1c9757282795ba99d164ef
         ],
         "hovertemplate": "%{text}<br>Var (climate): %{a}<br>Var (model): %{b} <br>Var (other): %{c}",
         "line": {
          "width": 1.5
         },
         "marker": {
<<<<<<< HEAD
          "color": "silver",
=======
          "color": "peru",
>>>>>>> 5c0e54aca78664d6bd1c9757282795ba99d164ef
          "line": {
           "color": "black",
           "width": 1
          },
          "opacity": 1,
<<<<<<< HEAD
          "size": 0.1,
=======
          "size": 20,
>>>>>>> 5c0e54aca78664d6bd1c9757282795ba99d164ef
          "symbol": "star-triangle-up"
         },
         "mode": "markers",
         "name": "Final Energy|Residential and Commercial|Solids|Biomass (851)",
         "showlegend": false,
         "subplot": "ternary",
         "text": [
<<<<<<< HEAD
          "2050"
         ],
         "textfont": {
          "color": "silver",
=======
          "2100"
         ],
         "textfont": {
          "color": "peru",
>>>>>>> 5c0e54aca78664d6bd1c9757282795ba99d164ef
          "size": 1
         },
         "type": "scatterternary"
        },
        {
         "a": [
<<<<<<< HEAD
          0.10174100521087613
         ],
         "b": [
          0.6056673926058026
         ],
         "c": [
          0.29259160218332125
         ],
         "mode": "text",
         "showlegend": false,
         "subplot": "ternary",
         "text": [
          "⌂"
         ],
         "textfont": {
          "color": "darkgray",
          "size": 1
         },
         "type": "scatterternary"
        },
        {
         "a": [
          0.10174100521087613
         ],
         "b": [
          0.6056673926058026
         ],
         "c": [
          0.29259160218332125
         ],
         "mode": "text",
         "showlegend": false,
         "subplot": "ternary",
         "text": [
          "⌂"
         ],
         "textfont": {
          "color": "darkgray",
          "size": 2
         },
         "type": "scatterternary"
        },
        {
         "a": [
          0.10174100521087613
         ],
         "b": [
          0.6056673926058026
         ],
         "c": [
          0.29259160218332125
         ],
         "mode": "text",
         "showlegend": false,
         "subplot": "ternary",
         "text": [
          "⌂"
         ],
         "textfont": {
          "color": "darkgray",
          "size": 3
         },
         "type": "scatterternary"
        },
        {
         "a": [
          0.10174100521087613
         ],
         "b": [
          0.6056673926058026
         ],
         "c": [
          0.29259160218332125
         ],
         "mode": "text",
         "showlegend": false,
         "subplot": "ternary",
         "text": [
          "⌂"
         ],
         "textfont": {
          "color": "darkgray",
          "size": 4
         },
         "type": "scatterternary"
        },
        {
         "a": [
          0.10174100521087613
         ],
         "b": [
          0.6056673926058026
         ],
         "c": [
          0.29259160218332125
         ],
         "mode": "text",
         "showlegend": false,
         "subplot": "ternary",
         "text": [
          "⌂"
         ],
         "textfont": {
          "color": "darkgray",
          "size": 5
         },
         "type": "scatterternary"
        },
        {
         "a": [
          0.10174100521087613
         ],
         "b": [
          0.6056673926058026
         ],
         "c": [
          0.29259160218332125
         ],
         "mode": "text",
         "showlegend": false,
         "subplot": "ternary",
         "text": [
          "⌂"
         ],
         "textfont": {
          "color": "darkgray",
          "size": 6
         },
         "type": "scatterternary"
        },
        {
         "a": [
          0.10174100521087613
         ],
         "b": [
          0.6056673926058026
         ],
         "c": [
          0.29259160218332125
         ],
         "mode": "text",
         "showlegend": false,
         "subplot": "ternary",
         "text": [
          "⌂"
         ],
         "textfont": {
          "color": "darkgray",
          "size": 7
         },
         "type": "scatterternary"
        },
        {
         "a": [
          0.10174100521087613
         ],
         "b": [
          0.6056673926058026
         ],
         "c": [
          0.29259160218332125
         ],
         "mode": "text",
         "showlegend": false,
         "subplot": "ternary",
         "text": [
          "⌂"
         ],
         "textfont": {
          "color": "darkgray",
          "size": 8
         },
         "type": "scatterternary"
        },
        {
         "a": [
          0.10174100521087613
         ],
         "b": [
          0.6056673926058026
         ],
         "c": [
          0.29259160218332125
         ],
         "mode": "text",
         "showlegend": false,
         "subplot": "ternary",
         "text": [
          "⌂"
         ],
         "textfont": {
          "color": "darkgray",
          "size": 9
         },
         "type": "scatterternary"
        },
        {
         "a": [
          0.10174100521087613
         ],
         "b": [
          0.6056673926058026
         ],
         "c": [
          0.29259160218332125
         ],
         "mode": "text",
         "showlegend": false,
         "subplot": "ternary",
         "text": [
          "⌂"
         ],
         "textfont": {
          "color": "darkgray",
          "size": 10
         },
         "type": "scatterternary"
        },
        {
         "a": [
          0.10174100521087613
         ],
         "b": [
          0.6056673926058026
         ],
         "c": [
          0.29259160218332125
         ],
         "mode": "text",
         "showlegend": false,
         "subplot": "ternary",
         "text": [
          "⌂"
         ],
         "textfont": {
          "color": "darkgray",
          "size": 11
         },
         "type": "scatterternary"
        },
        {
         "a": [
          0.10174100521087613
         ],
         "b": [
          0.6056673926058026
         ],
         "c": [
          0.29259160218332125
         ],
         "mode": "text",
         "showlegend": false,
         "subplot": "ternary",
         "text": [
          "⌂"
         ],
         "textfont": {
          "color": "darkgray",
          "size": 12
         },
         "type": "scatterternary"
        },
        {
         "a": [
          0.10174100521087613
         ],
         "b": [
          0.6056673926058026
         ],
         "c": [
          0.29259160218332125
         ],
         "mode": "text",
         "showlegend": false,
         "subplot": "ternary",
         "text": [
          "⌂"
         ],
         "textfont": {
          "color": "darkgray",
          "size": 13
         },
         "type": "scatterternary"
        },
        {
         "a": [
          0.10174100521087613
         ],
         "b": [
          0.6056673926058026
         ],
         "c": [
          0.29259160218332125
         ],
         "mode": "text",
         "showlegend": false,
         "subplot": "ternary",
         "text": [
          "⌂"
         ],
         "textfont": {
          "color": "darkgray",
          "size": 14
         },
         "type": "scatterternary"
        },
        {
         "a": [
          0.10174100521087613
         ],
         "b": [
          0.6056673926058026
         ],
         "c": [
          0.29259160218332125
         ],
         "mode": "text",
         "showlegend": false,
         "subplot": "ternary",
         "text": [
          "⌂"
         ],
         "textfont": {
          "color": "darkgray",
          "size": 15
         },
         "type": "scatterternary"
        },
        {
         "a": [
          0.10174100521087613
         ],
         "b": [
          0.6056673926058026
         ],
         "c": [
          0.29259160218332125
         ],
         "mode": "text",
         "showlegend": false,
         "subplot": "ternary",
         "text": [
          "⌂"
         ],
         "textfont": {
          "color": "darkgray",
          "size": 16
         },
         "type": "scatterternary"
        },
        {
         "a": [
          0.10174100521087613
         ],
         "b": [
          0.6056673926058026
         ],
         "c": [
          0.29259160218332125
         ],
         "mode": "text",
         "showlegend": false,
         "subplot": "ternary",
         "text": [
          "⌂"
         ],
         "textfont": {
          "color": "darkgray",
          "size": 17
         },
         "type": "scatterternary"
        },
        {
         "a": [
          0.10174100521087613
         ],
         "b": [
          0.6056673926058026
         ],
         "c": [
          0.29259160218332125
         ],
         "mode": "text",
         "showlegend": false,
         "subplot": "ternary",
         "text": [
          "⌂"
         ],
         "textfont": {
          "color": "darkgray",
          "size": 18
         },
         "type": "scatterternary"
        },
        {
         "a": [
          0.10174100521087613
         ],
         "b": [
          0.6056673926058026
         ],
         "c": [
          0.29259160218332125
         ],
         "mode": "text",
         "showlegend": false,
         "subplot": "ternary",
         "text": [
          "⌂"
         ],
         "textfont": {
          "color": "darkgray",
          "size": 19
         },
         "type": "scatterternary"
        },
        {
         "a": [
          0.10174100521087613
         ],
         "b": [
          0.6056673926058026
         ],
         "c": [
          0.29259160218332125
         ],
         "mode": "text",
         "showlegend": false,
         "subplot": "ternary",
         "text": [
          "⌂"
         ],
         "textfont": {
          "color": "darkgray",
          "size": 20
         },
         "type": "scatterternary"
        },
        {
         "a": [
          0.10174100521087613
         ],
         "b": [
          0.6056673926058026
         ],
         "c": [
          0.29259160218332125
         ],
         "mode": "text",
         "showlegend": false,
         "subplot": "ternary",
         "text": [
          "⌂"
         ],
         "textfont": {
          "color": "darkgray",
          "size": 21
         },
         "type": "scatterternary"
        },
        {
         "a": [
          0.10174100521087613
         ],
         "b": [
          0.6056673926058026
         ],
         "c": [
          0.29259160218332125
         ],
         "mode": "text",
         "showlegend": false,
         "subplot": "ternary",
         "text": [
          "⌂"
         ],
         "textfont": {
          "color": "darkgray",
          "size": 22
         },
         "type": "scatterternary"
        },
        {
         "a": [
          0.22817577556053414
         ],
         "b": [
          0.6355738933127165
         ],
         "c": [
          0.1362503311267492
=======
          0.1327269360320759
         ],
         "b": [
          0.540638617441028
         ],
         "c": [
          0.1355100617293544
>>>>>>> 5c0e54aca78664d6bd1c9757282795ba99d164ef
         ],
         "hovertemplate": "%{text}<br>Var (climate): %{a}<br>Var (model): %{b} <br>Var (other): %{c}",
         "line": {
          "width": 1.5
         },
         "marker": {
<<<<<<< HEAD
          "color": "silver",
=======
          "color": "peru",
>>>>>>> 5c0e54aca78664d6bd1c9757282795ba99d164ef
          "line": {
           "color": "black",
           "width": 1
          },
          "opacity": 1,
<<<<<<< HEAD
          "size": 0.1,
=======
          "size": 20,
>>>>>>> 5c0e54aca78664d6bd1c9757282795ba99d164ef
          "symbol": "star-triangle-up"
         },
         "mode": "markers",
         "name": "Final Energy|Residential and Commercial|Liquids (955)",
         "showlegend": false,
         "subplot": "ternary",
         "text": [
<<<<<<< HEAD
          "2050"
         ],
         "textfont": {
          "color": "silver",
=======
          "2100"
         ],
         "textfont": {
          "color": "peru",
>>>>>>> 5c0e54aca78664d6bd1c9757282795ba99d164ef
          "size": 1
         },
         "type": "scatterternary"
        },
        {
         "a": [
<<<<<<< HEAD
          0.22817577556053414
         ],
         "b": [
          0.6355738933127165
         ],
         "c": [
          0.1362503311267492
         ],
         "mode": "text",
         "showlegend": false,
         "subplot": "ternary",
         "text": [
          "⌂"
         ],
         "textfont": {
          "color": "darkgray",
          "size": 1
         },
         "type": "scatterternary"
        },
        {
         "a": [
          0.22817577556053414
         ],
         "b": [
          0.6355738933127165
         ],
         "c": [
          0.1362503311267492
         ],
         "mode": "text",
         "showlegend": false,
         "subplot": "ternary",
         "text": [
          "⌂"
         ],
         "textfont": {
          "color": "darkgray",
          "size": 2
         },
         "type": "scatterternary"
        },
        {
         "a": [
          0.22817577556053414
         ],
         "b": [
          0.6355738933127165
         ],
         "c": [
          0.1362503311267492
         ],
         "mode": "text",
         "showlegend": false,
         "subplot": "ternary",
         "text": [
          "⌂"
         ],
         "textfont": {
          "color": "darkgray",
          "size": 3
         },
         "type": "scatterternary"
        },
        {
         "a": [
          0.22817577556053414
         ],
         "b": [
          0.6355738933127165
         ],
         "c": [
          0.1362503311267492
         ],
         "mode": "text",
         "showlegend": false,
         "subplot": "ternary",
         "text": [
          "⌂"
         ],
         "textfont": {
          "color": "darkgray",
          "size": 4
         },
         "type": "scatterternary"
        },
        {
         "a": [
          0.22817577556053414
         ],
         "b": [
          0.6355738933127165
         ],
         "c": [
          0.1362503311267492
         ],
         "mode": "text",
         "showlegend": false,
         "subplot": "ternary",
         "text": [
          "⌂"
         ],
         "textfont": {
          "color": "darkgray",
          "size": 5
         },
         "type": "scatterternary"
        },
        {
         "a": [
          0.22817577556053414
         ],
         "b": [
          0.6355738933127165
         ],
         "c": [
          0.1362503311267492
         ],
         "mode": "text",
         "showlegend": false,
         "subplot": "ternary",
         "text": [
          "⌂"
         ],
         "textfont": {
          "color": "darkgray",
          "size": 6
         },
         "type": "scatterternary"
        },
        {
         "a": [
          0.22817577556053414
         ],
         "b": [
          0.6355738933127165
         ],
         "c": [
          0.1362503311267492
         ],
         "mode": "text",
         "showlegend": false,
         "subplot": "ternary",
         "text": [
          "⌂"
         ],
         "textfont": {
          "color": "darkgray",
          "size": 7
         },
         "type": "scatterternary"
        },
        {
         "a": [
          0.22817577556053414
         ],
         "b": [
          0.6355738933127165
         ],
         "c": [
          0.1362503311267492
         ],
         "mode": "text",
         "showlegend": false,
         "subplot": "ternary",
         "text": [
          "⌂"
         ],
         "textfont": {
          "color": "darkgray",
          "size": 8
         },
         "type": "scatterternary"
        },
        {
         "a": [
          0.22817577556053414
         ],
         "b": [
          0.6355738933127165
         ],
         "c": [
          0.1362503311267492
         ],
         "mode": "text",
         "showlegend": false,
         "subplot": "ternary",
         "text": [
          "⌂"
         ],
         "textfont": {
          "color": "darkgray",
          "size": 9
         },
         "type": "scatterternary"
        },
        {
         "a": [
          0.22817577556053414
         ],
         "b": [
          0.6355738933127165
         ],
         "c": [
          0.1362503311267492
         ],
         "mode": "text",
         "showlegend": false,
         "subplot": "ternary",
         "text": [
          "⌂"
         ],
         "textfont": {
          "color": "darkgray",
          "size": 10
         },
         "type": "scatterternary"
        },
        {
         "a": [
          0.22817577556053414
         ],
         "b": [
          0.6355738933127165
         ],
         "c": [
          0.1362503311267492
         ],
         "mode": "text",
         "showlegend": false,
         "subplot": "ternary",
         "text": [
          "⌂"
         ],
         "textfont": {
          "color": "darkgray",
          "size": 11
         },
         "type": "scatterternary"
        },
        {
         "a": [
          0.22817577556053414
         ],
         "b": [
          0.6355738933127165
         ],
         "c": [
          0.1362503311267492
         ],
         "mode": "text",
         "showlegend": false,
         "subplot": "ternary",
         "text": [
          "⌂"
         ],
         "textfont": {
          "color": "darkgray",
          "size": 12
         },
         "type": "scatterternary"
        },
        {
         "a": [
          0.22817577556053414
         ],
         "b": [
          0.6355738933127165
         ],
         "c": [
          0.1362503311267492
         ],
         "mode": "text",
         "showlegend": false,
         "subplot": "ternary",
         "text": [
          "⌂"
         ],
         "textfont": {
          "color": "darkgray",
          "size": 13
         },
         "type": "scatterternary"
        },
        {
         "a": [
          0.22817577556053414
         ],
         "b": [
          0.6355738933127165
         ],
         "c": [
          0.1362503311267492
         ],
         "mode": "text",
         "showlegend": false,
         "subplot": "ternary",
         "text": [
          "⌂"
         ],
         "textfont": {
          "color": "darkgray",
          "size": 14
         },
         "type": "scatterternary"
        },
        {
         "a": [
          0.22817577556053414
         ],
         "b": [
          0.6355738933127165
         ],
         "c": [
          0.1362503311267492
         ],
         "mode": "text",
         "showlegend": false,
         "subplot": "ternary",
         "text": [
          "⌂"
         ],
         "textfont": {
          "color": "darkgray",
          "size": 15
         },
         "type": "scatterternary"
        },
        {
         "a": [
          0.22817577556053414
         ],
         "b": [
          0.6355738933127165
         ],
         "c": [
          0.1362503311267492
         ],
         "mode": "text",
         "showlegend": false,
         "subplot": "ternary",
         "text": [
          "⌂"
         ],
         "textfont": {
          "color": "darkgray",
          "size": 16
         },
         "type": "scatterternary"
        },
        {
         "a": [
          0.22817577556053414
         ],
         "b": [
          0.6355738933127165
         ],
         "c": [
          0.1362503311267492
         ],
         "mode": "text",
         "showlegend": false,
         "subplot": "ternary",
         "text": [
          "⌂"
         ],
         "textfont": {
          "color": "darkgray",
          "size": 17
         },
         "type": "scatterternary"
        },
        {
         "a": [
          0.22817577556053414
         ],
         "b": [
          0.6355738933127165
         ],
         "c": [
          0.1362503311267492
         ],
         "mode": "text",
         "showlegend": false,
         "subplot": "ternary",
         "text": [
          "⌂"
         ],
         "textfont": {
          "color": "darkgray",
          "size": 18
         },
         "type": "scatterternary"
        },
        {
         "a": [
          0.22817577556053414
         ],
         "b": [
          0.6355738933127165
         ],
         "c": [
          0.1362503311267492
         ],
         "mode": "text",
         "showlegend": false,
         "subplot": "ternary",
         "text": [
          "⌂"
         ],
         "textfont": {
          "color": "darkgray",
          "size": 19
         },
         "type": "scatterternary"
        },
        {
         "a": [
          0.22817577556053414
         ],
         "b": [
          0.6355738933127165
         ],
         "c": [
          0.1362503311267492
         ],
         "mode": "text",
         "showlegend": false,
         "subplot": "ternary",
         "text": [
          "⌂"
         ],
         "textfont": {
          "color": "darkgray",
          "size": 20
         },
         "type": "scatterternary"
        },
        {
         "a": [
          0.22817577556053414
         ],
         "b": [
          0.6355738933127165
         ],
         "c": [
          0.1362503311267492
         ],
         "mode": "text",
         "showlegend": false,
         "subplot": "ternary",
         "text": [
          "⌂"
         ],
         "textfont": {
          "color": "darkgray",
          "size": 21
         },
         "type": "scatterternary"
        },
        {
         "a": [
          0.22817577556053414
         ],
         "b": [
          0.6355738933127165
         ],
         "c": [
          0.1362503311267492
         ],
         "mode": "text",
         "showlegend": false,
         "subplot": "ternary",
         "text": [
          "⌂"
         ],
         "textfont": {
          "color": "darkgray",
          "size": 22
         },
         "type": "scatterternary"
        },
        {
         "a": [
          0.5021249084858379
         ],
         "b": [
          0.42588960882155946
         ],
         "c": [
          0.07198548269260265
=======
          0.4004134670009212
         ],
         "b": [
          0.3232605094017915
         ],
         "c": [
          0.07292088329317646
>>>>>>> 5c0e54aca78664d6bd1c9757282795ba99d164ef
         ],
         "hovertemplate": "%{text}<br>Var (climate): %{a}<br>Var (model): %{b} <br>Var (other): %{c}",
         "line": {
          "width": 1.5
         },
         "marker": {
<<<<<<< HEAD
          "color": "silver",
=======
          "color": "peru",
>>>>>>> 5c0e54aca78664d6bd1c9757282795ba99d164ef
          "line": {
           "color": "black",
           "width": 1
          },
          "opacity": 1,
<<<<<<< HEAD
          "size": 0.1,
=======
          "size": 20,
>>>>>>> 5c0e54aca78664d6bd1c9757282795ba99d164ef
          "symbol": "star-triangle-up"
         },
         "mode": "markers",
         "name": "Final Energy|Residential and Commercial|Gases (955)",
         "showlegend": false,
         "subplot": "ternary",
         "text": [
<<<<<<< HEAD
          "2050"
         ],
         "textfont": {
          "color": "silver",
=======
          "2100"
         ],
         "textfont": {
          "color": "peru",
>>>>>>> 5c0e54aca78664d6bd1c9757282795ba99d164ef
          "size": 1
         },
         "type": "scatterternary"
        },
        {
         "a": [
<<<<<<< HEAD
          0.5021249084858379
         ],
         "b": [
          0.42588960882155946
         ],
         "c": [
          0.07198548269260265
         ],
         "mode": "text",
         "showlegend": false,
         "subplot": "ternary",
         "text": [
          "⌂"
         ],
         "textfont": {
          "color": "darkgray",
          "size": 1
         },
         "type": "scatterternary"
        },
        {
         "a": [
          0.5021249084858379
         ],
         "b": [
          0.42588960882155946
         ],
         "c": [
          0.07198548269260265
         ],
         "mode": "text",
         "showlegend": false,
         "subplot": "ternary",
         "text": [
          "⌂"
         ],
         "textfont": {
          "color": "darkgray",
          "size": 2
         },
         "type": "scatterternary"
        },
        {
         "a": [
          0.5021249084858379
         ],
         "b": [
          0.42588960882155946
         ],
         "c": [
          0.07198548269260265
         ],
         "mode": "text",
         "showlegend": false,
         "subplot": "ternary",
         "text": [
          "⌂"
         ],
         "textfont": {
          "color": "darkgray",
          "size": 3
         },
         "type": "scatterternary"
        },
        {
         "a": [
          0.5021249084858379
         ],
         "b": [
          0.42588960882155946
         ],
         "c": [
          0.07198548269260265
         ],
         "mode": "text",
         "showlegend": false,
         "subplot": "ternary",
         "text": [
          "⌂"
         ],
         "textfont": {
          "color": "darkgray",
          "size": 4
         },
         "type": "scatterternary"
        },
        {
         "a": [
          0.5021249084858379
         ],
         "b": [
          0.42588960882155946
         ],
         "c": [
          0.07198548269260265
         ],
         "mode": "text",
         "showlegend": false,
         "subplot": "ternary",
         "text": [
          "⌂"
         ],
         "textfont": {
          "color": "darkgray",
          "size": 5
         },
         "type": "scatterternary"
        },
        {
         "a": [
          0.5021249084858379
         ],
         "b": [
          0.42588960882155946
         ],
         "c": [
          0.07198548269260265
         ],
         "mode": "text",
         "showlegend": false,
         "subplot": "ternary",
         "text": [
          "⌂"
         ],
         "textfont": {
          "color": "darkgray",
          "size": 6
         },
         "type": "scatterternary"
        },
        {
         "a": [
          0.5021249084858379
         ],
         "b": [
          0.42588960882155946
         ],
         "c": [
          0.07198548269260265
         ],
         "mode": "text",
         "showlegend": false,
         "subplot": "ternary",
         "text": [
          "⌂"
         ],
         "textfont": {
          "color": "darkgray",
          "size": 7
         },
         "type": "scatterternary"
        },
        {
         "a": [
          0.5021249084858379
         ],
         "b": [
          0.42588960882155946
         ],
         "c": [
          0.07198548269260265
         ],
         "mode": "text",
         "showlegend": false,
         "subplot": "ternary",
         "text": [
          "⌂"
         ],
         "textfont": {
          "color": "darkgray",
          "size": 8
         },
         "type": "scatterternary"
        },
        {
         "a": [
          0.5021249084858379
         ],
         "b": [
          0.42588960882155946
         ],
         "c": [
          0.07198548269260265
         ],
         "mode": "text",
         "showlegend": false,
         "subplot": "ternary",
         "text": [
          "⌂"
         ],
         "textfont": {
          "color": "darkgray",
          "size": 9
         },
         "type": "scatterternary"
        },
        {
         "a": [
          0.5021249084858379
         ],
         "b": [
          0.42588960882155946
         ],
         "c": [
          0.07198548269260265
         ],
         "mode": "text",
         "showlegend": false,
         "subplot": "ternary",
         "text": [
          "⌂"
         ],
         "textfont": {
          "color": "darkgray",
          "size": 10
         },
         "type": "scatterternary"
        },
        {
         "a": [
          0.5021249084858379
         ],
         "b": [
          0.42588960882155946
         ],
         "c": [
          0.07198548269260265
         ],
         "mode": "text",
         "showlegend": false,
         "subplot": "ternary",
         "text": [
          "⌂"
         ],
         "textfont": {
          "color": "darkgray",
          "size": 11
         },
         "type": "scatterternary"
        },
        {
         "a": [
          0.5021249084858379
         ],
         "b": [
          0.42588960882155946
         ],
         "c": [
          0.07198548269260265
         ],
         "mode": "text",
         "showlegend": false,
         "subplot": "ternary",
         "text": [
          "⌂"
         ],
         "textfont": {
          "color": "darkgray",
          "size": 12
         },
         "type": "scatterternary"
        },
        {
         "a": [
          0.5021249084858379
         ],
         "b": [
          0.42588960882155946
         ],
         "c": [
          0.07198548269260265
         ],
         "mode": "text",
         "showlegend": false,
         "subplot": "ternary",
         "text": [
          "⌂"
         ],
         "textfont": {
          "color": "darkgray",
          "size": 13
         },
         "type": "scatterternary"
        },
        {
         "a": [
          0.5021249084858379
         ],
         "b": [
          0.42588960882155946
         ],
         "c": [
          0.07198548269260265
         ],
         "mode": "text",
         "showlegend": false,
         "subplot": "ternary",
         "text": [
          "⌂"
         ],
         "textfont": {
          "color": "darkgray",
          "size": 14
         },
         "type": "scatterternary"
        },
        {
         "a": [
          0.5021249084858379
         ],
         "b": [
          0.42588960882155946
         ],
         "c": [
          0.07198548269260265
         ],
         "mode": "text",
         "showlegend": false,
         "subplot": "ternary",
         "text": [
          "⌂"
         ],
         "textfont": {
          "color": "darkgray",
          "size": 15
         },
         "type": "scatterternary"
        },
        {
         "a": [
          0.5021249084858379
         ],
         "b": [
          0.42588960882155946
         ],
         "c": [
          0.07198548269260265
         ],
         "mode": "text",
         "showlegend": false,
         "subplot": "ternary",
         "text": [
          "⌂"
         ],
         "textfont": {
          "color": "darkgray",
          "size": 16
         },
         "type": "scatterternary"
        },
        {
         "a": [
          0.5021249084858379
         ],
         "b": [
          0.42588960882155946
         ],
         "c": [
          0.07198548269260265
         ],
         "mode": "text",
         "showlegend": false,
         "subplot": "ternary",
         "text": [
          "⌂"
         ],
         "textfont": {
          "color": "darkgray",
          "size": 17
         },
         "type": "scatterternary"
        },
        {
         "a": [
          0.5021249084858379
         ],
         "b": [
          0.42588960882155946
         ],
         "c": [
          0.07198548269260265
         ],
         "mode": "text",
         "showlegend": false,
         "subplot": "ternary",
         "text": [
          "⌂"
         ],
         "textfont": {
          "color": "darkgray",
          "size": 18
         },
         "type": "scatterternary"
        },
        {
         "a": [
          0.5021249084858379
         ],
         "b": [
          0.42588960882155946
         ],
         "c": [
          0.07198548269260265
         ],
         "mode": "text",
         "showlegend": false,
         "subplot": "ternary",
         "text": [
          "⌂"
         ],
         "textfont": {
          "color": "darkgray",
          "size": 19
         },
         "type": "scatterternary"
        },
        {
         "a": [
          0.5021249084858379
         ],
         "b": [
          0.42588960882155946
         ],
         "c": [
          0.07198548269260265
         ],
         "mode": "text",
         "showlegend": false,
         "subplot": "ternary",
         "text": [
          "⌂"
         ],
         "textfont": {
          "color": "darkgray",
          "size": 20
         },
         "type": "scatterternary"
        },
        {
         "a": [
          0.5021249084858379
         ],
         "b": [
          0.42588960882155946
         ],
         "c": [
          0.07198548269260265
         ],
         "mode": "text",
         "showlegend": false,
         "subplot": "ternary",
         "text": [
          "⌂"
         ],
         "textfont": {
          "color": "darkgray",
          "size": 21
         },
         "type": "scatterternary"
        },
        {
         "a": [
          0.5021249084858379
         ],
         "b": [
          0.42588960882155946
         ],
         "c": [
          0.07198548269260265
         ],
         "mode": "text",
         "showlegend": false,
         "subplot": "ternary",
         "text": [
          "⌂"
         ],
         "textfont": {
          "color": "darkgray",
          "size": 22
         },
         "type": "scatterternary"
        },
        {
         "a": [
          0.1724738316423066
         ],
         "b": [
          0.6605593341225557
         ],
         "c": [
          0.1669668342351379
         ],
         "hoverinfo": "skip",
         "marker": {
          "color": "silver",
          "line": {
           "width": 2
          },
          "size": 28,
          "symbol": "circle-open"
         },
         "mode": "markers",
         "showlegend": false,
         "subplot": "ternary",
         "type": "scatterternary"
        },
        {
         "a": [
          0.1724738316423066
         ],
         "b": [
          0.6605593341225557
         ],
         "c": [
          0.1669668342351379
         ],
         "hoverinfo": "skip",
         "marker": {
          "color": "black",
          "line": {
           "width": 3
          },
          "size": 32,
          "symbol": "circle-open"
         },
         "mode": "markers",
         "showlegend": false,
         "subplot": "ternary",
         "type": "scatterternary"
        },
        {
         "a": [
          0.1724738316423066
         ],
         "b": [
          0.6605593341225557
         ],
         "c": [
          0.1669668342351379
=======
          0.08619329211459964
         ],
         "b": [
          0.5730796611780976
         ],
         "c": [
          0.1677864989734578
>>>>>>> 5c0e54aca78664d6bd1c9757282795ba99d164ef
         ],
         "hovertemplate": "%{text}<br>Var (climate): %{a}<br>Var (model): %{b} <br>Var (other): %{c}",
         "line": {
          "width": 1.5
         },
         "marker": {
<<<<<<< HEAD
          "color": "silver",
          "line": {
           "color": "black",
           "width": 0
          },
          "opacity": 1,
          "size": 0.1,
=======
          "color": "peru",
          "line": {
           "color": "black",
           "width": 4
          },
          "opacity": 1,
          "size": 20,
>>>>>>> 5c0e54aca78664d6bd1c9757282795ba99d164ef
          "symbol": "star-triangle-up"
         },
         "mode": "markers",
         "name": "Final Energy|Residential and Commercial|Electricity (955)",
         "showlegend": false,
         "subplot": "ternary",
         "text": [
<<<<<<< HEAD
          "2050"
         ],
         "textfont": {
          "color": "silver",
          "size": 1
         },
         "type": "scatterternary"
        },
        {
         "a": [
          0.1724738316423066
         ],
         "b": [
          0.6605593341225557
         ],
         "c": [
          0.1669668342351379
         ],
         "mode": "text",
         "showlegend": false,
         "subplot": "ternary",
         "text": [
          "⌂"
         ],
         "textfont": {
          "color": "darkgray",
          "size": 1
         },
         "type": "scatterternary"
        },
        {
         "a": [
          0.1724738316423066
         ],
         "b": [
          0.6605593341225557
         ],
         "c": [
          0.1669668342351379
         ],
         "mode": "text",
         "showlegend": false,
         "subplot": "ternary",
         "text": [
          "⌂"
         ],
         "textfont": {
          "color": "darkgray",
          "size": 2
         },
         "type": "scatterternary"
        },
        {
         "a": [
          0.1724738316423066
         ],
         "b": [
          0.6605593341225557
         ],
         "c": [
          0.1669668342351379
         ],
         "mode": "text",
         "showlegend": false,
         "subplot": "ternary",
         "text": [
          "⌂"
         ],
         "textfont": {
          "color": "darkgray",
          "size": 3
         },
         "type": "scatterternary"
        },
        {
         "a": [
          0.1724738316423066
         ],
         "b": [
          0.6605593341225557
         ],
         "c": [
          0.1669668342351379
         ],
         "mode": "text",
         "showlegend": false,
         "subplot": "ternary",
         "text": [
          "⌂"
         ],
         "textfont": {
          "color": "darkgray",
          "size": 4
         },
         "type": "scatterternary"
        },
        {
         "a": [
          0.1724738316423066
         ],
         "b": [
          0.6605593341225557
         ],
         "c": [
          0.1669668342351379
         ],
         "mode": "text",
         "showlegend": false,
         "subplot": "ternary",
         "text": [
          "⌂"
         ],
         "textfont": {
          "color": "darkgray",
          "size": 5
         },
         "type": "scatterternary"
        },
        {
         "a": [
          0.1724738316423066
         ],
         "b": [
          0.6605593341225557
         ],
         "c": [
          0.1669668342351379
         ],
         "mode": "text",
         "showlegend": false,
         "subplot": "ternary",
         "text": [
          "⌂"
         ],
         "textfont": {
          "color": "darkgray",
          "size": 6
         },
         "type": "scatterternary"
        },
        {
         "a": [
          0.1724738316423066
         ],
         "b": [
          0.6605593341225557
         ],
         "c": [
          0.1669668342351379
         ],
         "mode": "text",
         "showlegend": false,
         "subplot": "ternary",
         "text": [
          "⌂"
         ],
         "textfont": {
          "color": "darkgray",
          "size": 7
         },
         "type": "scatterternary"
        },
        {
         "a": [
          0.1724738316423066
         ],
         "b": [
          0.6605593341225557
         ],
         "c": [
          0.1669668342351379
         ],
         "mode": "text",
         "showlegend": false,
         "subplot": "ternary",
         "text": [
          "⌂"
         ],
         "textfont": {
          "color": "darkgray",
          "size": 8
         },
         "type": "scatterternary"
        },
        {
         "a": [
          0.1724738316423066
         ],
         "b": [
          0.6605593341225557
         ],
         "c": [
          0.1669668342351379
         ],
         "mode": "text",
         "showlegend": false,
         "subplot": "ternary",
         "text": [
          "⌂"
         ],
         "textfont": {
          "color": "darkgray",
          "size": 9
         },
         "type": "scatterternary"
        },
        {
         "a": [
          0.1724738316423066
         ],
         "b": [
          0.6605593341225557
         ],
         "c": [
          0.1669668342351379
         ],
         "mode": "text",
         "showlegend": false,
         "subplot": "ternary",
         "text": [
          "⌂"
         ],
         "textfont": {
          "color": "darkgray",
          "size": 10
         },
         "type": "scatterternary"
        },
        {
         "a": [
          0.1724738316423066
         ],
         "b": [
          0.6605593341225557
         ],
         "c": [
          0.1669668342351379
         ],
         "mode": "text",
         "showlegend": false,
         "subplot": "ternary",
         "text": [
          "⌂"
         ],
         "textfont": {
          "color": "darkgray",
          "size": 11
         },
         "type": "scatterternary"
        },
        {
         "a": [
          0.1724738316423066
         ],
         "b": [
          0.6605593341225557
         ],
         "c": [
          0.1669668342351379
         ],
         "mode": "text",
         "showlegend": false,
         "subplot": "ternary",
         "text": [
          "⌂"
         ],
         "textfont": {
          "color": "darkgray",
          "size": 12
         },
         "type": "scatterternary"
        },
        {
         "a": [
          0.1724738316423066
         ],
         "b": [
          0.6605593341225557
         ],
         "c": [
          0.1669668342351379
         ],
         "mode": "text",
         "showlegend": false,
         "subplot": "ternary",
         "text": [
          "⌂"
         ],
         "textfont": {
          "color": "darkgray",
          "size": 13
         },
         "type": "scatterternary"
        },
        {
         "a": [
          0.1724738316423066
         ],
         "b": [
          0.6605593341225557
         ],
         "c": [
          0.1669668342351379
         ],
         "mode": "text",
         "showlegend": false,
         "subplot": "ternary",
         "text": [
          "⌂"
         ],
         "textfont": {
          "color": "darkgray",
          "size": 14
         },
         "type": "scatterternary"
        },
        {
         "a": [
          0.1724738316423066
         ],
         "b": [
          0.6605593341225557
         ],
         "c": [
          0.1669668342351379
         ],
         "mode": "text",
         "showlegend": false,
         "subplot": "ternary",
         "text": [
          "⌂"
         ],
         "textfont": {
          "color": "darkgray",
          "size": 15
         },
         "type": "scatterternary"
        },
        {
         "a": [
          0.1724738316423066
         ],
         "b": [
          0.6605593341225557
         ],
         "c": [
          0.1669668342351379
         ],
         "mode": "text",
         "showlegend": false,
         "subplot": "ternary",
         "text": [
          "⌂"
         ],
         "textfont": {
          "color": "darkgray",
          "size": 16
         },
         "type": "scatterternary"
        },
        {
         "a": [
          0.1724738316423066
         ],
         "b": [
          0.6605593341225557
         ],
         "c": [
          0.1669668342351379
         ],
         "mode": "text",
         "showlegend": false,
         "subplot": "ternary",
         "text": [
          "⌂"
         ],
         "textfont": {
          "color": "darkgray",
          "size": 17
         },
         "type": "scatterternary"
        },
        {
         "a": [
          0.1724738316423066
         ],
         "b": [
          0.6605593341225557
         ],
         "c": [
          0.1669668342351379
         ],
         "mode": "text",
         "showlegend": false,
         "subplot": "ternary",
         "text": [
          "⌂"
         ],
         "textfont": {
          "color": "darkgray",
          "size": 18
         },
         "type": "scatterternary"
        },
        {
         "a": [
          0.1724738316423066
         ],
         "b": [
          0.6605593341225557
         ],
         "c": [
          0.1669668342351379
         ],
         "mode": "text",
         "showlegend": false,
         "subplot": "ternary",
         "text": [
          "⌂"
         ],
         "textfont": {
          "color": "darkgray",
          "size": 19
         },
         "type": "scatterternary"
        },
        {
         "a": [
          0.1724738316423066
         ],
         "b": [
          0.6605593341225557
         ],
         "c": [
          0.1669668342351379
         ],
         "mode": "text",
         "showlegend": false,
         "subplot": "ternary",
         "text": [
          "⌂"
         ],
         "textfont": {
          "color": "darkgray",
          "size": 20
         },
         "type": "scatterternary"
        },
        {
         "a": [
          0.1724738316423066
         ],
         "b": [
          0.6605593341225557
         ],
         "c": [
          0.1669668342351379
         ],
         "mode": "text",
         "showlegend": false,
         "subplot": "ternary",
         "text": [
          "⌂"
         ],
         "textfont": {
          "color": "darkgray",
          "size": 21
         },
         "type": "scatterternary"
        },
        {
         "a": [
          0.1724738316423066
         ],
         "b": [
          0.6605593341225557
         ],
         "c": [
          0.1669668342351379
         ],
         "mode": "text",
         "showlegend": false,
         "subplot": "ternary",
         "text": [
          "⌂"
         ],
         "textfont": {
          "color": "darkgray",
          "size": 22
         },
         "type": "scatterternary"
=======
          "2100"
         ],
         "textfont": {
          "color": "peru",
          "size": 1
         },
         "type": "scatterternary"
>>>>>>> 5c0e54aca78664d6bd1c9757282795ba99d164ef
        }
       ],
       "layout": {
        "annotations": [
         {
<<<<<<< HEAD
          "align": "left",
          "ax": 0,
          "ay": 0,
          "font": {
           "color": "dimgray",
           "family": "Arial Black",
           "size": 12
          },
          "showarrow": false,
          "text": "Electricity in<br>residential sector",
          "x": 0.39,
          "xref": "paper",
          "y": 0.46599999999999997,
          "yref": "paper"
         },
         {
          "align": "left",
          "ax": 0,
          "ay": 0,
          "font": {
           "color": "teal",
           "family": "Arial Black",
           "size": 12
          },
          "showarrow": false,
          "text": "Electricity in<br>transport sector",
          "x": 0.41500000000000004,
          "xref": "paper",
          "y": 0.5940000000000001,
          "yref": "paper"
         },
         {
          "align": "right",
          "ax": 0,
          "ay": 0,
          "font": {
           "color": "peru",
           "family": "Arial Black",
           "size": 12
          },
          "showarrow": false,
          "text": "Electricity in<br>industry sector",
          "x": -0.0040000000000000036,
          "xref": "paper",
          "y": 0.628,
          "yref": "paper"
         },
         {
          "align": "right",
          "ax": 0,
          "ay": 0,
          "font": {
           "color": "forestgreen",
           "family": "Arial Black",
           "size": 12
          },
          "showarrow": false,
          "text": "Primary Energy<br>from coal",
          "x": 0.09999999999999998,
          "xref": "paper",
          "y": 0.885,
          "yref": "paper"
         },
         {
          "align": "right",
          "ax": 0,
          "ay": 0,
          "font": {
           "color": "forestgreen",
           "family": "Arial Black",
           "size": 12
          },
          "showarrow": false,
          "text": "Primary Energy<br>from oil",
          "x": 0.08999999999999997,
          "xref": "paper",
          "y": 0.748,
          "yref": "paper"
         },
         {
          "align": "left",
          "ax": 0,
          "ay": 0,
=======
          "align": "center",
          "ax": 150,
          "ay": -40,
>>>>>>> 5c0e54aca78664d6bd1c9757282795ba99d164ef
          "font": {
           "color": "violet",
           "family": "Arial Black",
           "size": 12
          },
<<<<<<< HEAD
          "showarrow": false,
          "text": "Kyoto gas<br>emissions",
          "x": 0.523,
          "xref": "paper",
          "y": 0.95,
          "yref": "paper"
         },
         {
          "align": "left",
          "ax": 0,
          "ay": 0,
          "font": {
           "color": "goldenrod",
           "family": "Arial Black",
           "size": 12
          },
          "showarrow": false,
          "text": "Electricity from<br>coal (w/o CCS)",
          "x": 0.535,
          "xref": "paper",
          "y": 0.837,
          "yref": "paper"
         },
         {
          "align": "left",
          "ax": 0,
          "ay": 0,
          "font": {
           "color": "forestgreen",
           "family": "Arial Black",
           "size": 12
          },
          "showarrow": false,
          "text": "Primary Energy<br>from renewables",
          "x": 0.565,
          "xref": "paper",
          "y": 0.74,
          "yref": "paper"
         },
         {
          "align": "left",
          "ax": 0,
          "ay": 0,
          "font": {
           "color": "teal",
           "family": "Arial Black",
           "size": 12
          },
          "showarrow": false,
          "text": "Hydrogen use in transport",
          "x": 0.535,
          "xref": "paper",
          "y": 0.56,
=======
          "showarrow": true,
          "text": "Primary energy coal",
          "x": 0.5,
          "xref": "paper",
          "y": 0.725,
>>>>>>> 5c0e54aca78664d6bd1c9757282795ba99d164ef
          "yref": "paper"
         },
         {
          "align": "center",
<<<<<<< HEAD
          "font": {
           "color": "darkgray",
           "size": 25
          },
          "showarrow": false,
          "text": "Climate target",
          "x": 0.242,
          "xref": "paper",
          "y": 1.06,
          "yref": "paper"
         },
         {
          "align": "center",
          "font": {
           "color": "darkgray",
           "size": 16
          },
          "showarrow": false,
          "text": "main driver",
          "x": 0.284,
          "xref": "paper",
          "y": 1.035,
          "yref": "paper"
         },
         {
          "align": "center",
          "font": {
           "color": "darkgray",
           "size": 25
          },
          "showarrow": false,
          "text": "Model differences",
          "x": -0.015,
          "xref": "paper",
          "y": 0.32,
          "yref": "paper"
         },
         {
          "align": "center",
          "font": {
           "color": "darkgray",
           "size": 16
          },
          "showarrow": false,
          "text": "main driver",
          "x": 0.04,
          "xref": "paper",
          "y": 0.305,
          "yref": "paper"
         },
         {
          "align": "center",
          "font": {
           "color": "darkgray",
           "size": 25
          },
          "showarrow": false,
          "text": "Other scenario",
          "x": 0.68,
          "xref": "paper",
          "y": 0.38,
          "yref": "paper"
         },
         {
          "align": "center",
          "font": {
           "color": "darkgray",
           "size": 25
          },
          "showarrow": false,
          "text": "assumptions",
          "x": 0.675,
          "xref": "paper",
          "y": 0.36,
          "yref": "paper"
         },
         {
          "align": "center",
          "font": {
           "color": "darkgray",
           "size": 16
          },
          "showarrow": false,
          "text": "main driver",
          "x": 0.6,
          "xref": "paper",
          "y": 0.34,
          "yref": "paper"
         },
         {
          "font": {
           "color": "white",
           "size": 60
          },
          "showarrow": false,
          "text": "●",
          "x": 0.005,
          "xref": "paper",
          "y": 0.25,
          "yref": "paper"
         },
         {
          "font": {
           "color": "violet",
           "size": 25
          },
          "showarrow": false,
          "text": "☁",
          "x": 0.01,
          "xref": "paper",
          "y": 0.265,
          "yref": "paper"
         },
         {
          "font": {
           "color": "white",
           "size": 60
          },
          "showarrow": false,
          "text": "●",
          "x": 0.37,
          "xref": "paper",
          "y": 0.25,
          "yref": "paper"
         },
         {
          "font": {
           "color": "forestgreen",
           "size": 25
          },
          "showarrow": false,
          "text": "☀",
          "x": 0.37,
          "xref": "paper",
          "y": 0.268,
          "yref": "paper"
         },
         {
          "font": {
           "color": "white",
           "size": 60
          },
          "showarrow": false,
          "text": "●",
          "x": 0.735,
          "xref": "paper",
          "y": 1.03,
          "yref": "paper"
         },
         {
          "font": {
           "color": "peru",
           "size": 22
          },
          "showarrow": false,
          "text": "⛮",
          "x": 0.7301,
          "xref": "paper",
          "y": 0.999,
          "yref": "paper"
         },
         {
          "font": {
           "color": "white",
           "size": 60
          },
          "showarrow": false,
          "text": "●",
          "x": 0.735,
          "xref": "paper",
          "y": 0.831,
          "yref": "paper"
         },
         {
          "font": {
           "color": "teal",
           "size": 22
          },
          "showarrow": false,
          "text": "⛟",
          "x": 0.73,
          "xref": "paper",
          "y": 0.8019999999999999,
          "yref": "paper"
         },
         {
          "font": {
           "color": "white",
           "size": 60
          },
          "showarrow": false,
          "text": "●",
          "x": 0.735,
          "xref": "paper",
          "y": 0.59,
          "yref": "paper"
         },
         {
          "font": {
           "color": "dimgray",
           "size": 25
          },
          "showarrow": false,
          "text": "⌂",
          "x": 0.725,
          "xref": "paper",
          "y": 0.588,
          "yref": "paper"
         },
         {
          "font": {
           "color": "white",
           "size": 60
          },
          "showarrow": false,
          "text": "●",
          "x": 0.735,
          "xref": "paper",
          "y": 0.39,
          "yref": "paper"
         },
         {
          "font": {
           "color": "goldenrod",
           "size": 22
          },
          "showarrow": false,
          "text": "🗲",
          "x": 0.729,
          "xref": "paper",
          "y": 0.385,
          "yref": "paper"
         },
         {
          "font": {
           "color": "darkgray",
           "size": 12
          },
          "showarrow": false,
          "text": "Fraction of variance<br>determined by driver",
          "textangle": -60,
          "x": 0.145,
          "xref": "paper",
          "y": 0.875,
          "yref": "paper"
         }
        ],
        "height": 1000,
        "margin": {
         "b": 0,
         "l": 25,
         "r": 7,
         "t": 55
        },
        "shapes": [
         {
          "line": {
           "color": "black",
           "width": 3
          },
          "type": "line",
          "x0": 0.19,
          "x1": 0.21,
          "xref": "paper",
          "y0": 0.486,
          "y1": 0.46599999999999997,
          "yref": "paper"
         },
         {
          "line": {
           "color": "black",
           "width": 3
          },
          "type": "line",
          "x0": 0.33999999999999997,
          "x1": 0.21,
          "xref": "paper",
          "y0": 0.46599999999999997,
          "y1": 0.46599999999999997,
          "yref": "paper"
         },
         {
          "line": {
           "color": "black",
           "width": 3
          },
          "type": "line",
          "x0": 0.215,
          "x1": 0.235,
          "xref": "paper",
          "y0": 0.554,
          "y1": 0.5740000000000001,
          "yref": "paper"
         },
         {
          "line": {
           "color": "black",
           "width": 3
          },
          "type": "line",
          "x0": 0.365,
          "x1": 0.235,
          "xref": "paper",
          "y0": 0.5740000000000001,
          "y1": 0.5740000000000001,
          "yref": "paper"
         },
         {
          "line": {
           "color": "black",
           "width": 3
          },
          "type": "line",
          "x0": 0.196,
          "x1": 0.17600000000000002,
          "xref": "paper",
          "y0": 0.588,
          "y1": 0.608,
          "yref": "paper"
         },
         {
          "line": {
           "color": "black",
           "width": 3
          },
          "type": "line",
          "x0": 0.08600000000000001,
          "x1": 0.17600000000000002,
          "xref": "paper",
          "y0": 0.608,
          "y1": 0.608,
          "yref": "paper"
         },
         {
          "line": {
           "color": "black",
           "width": 3
          },
          "type": "line",
          "x0": 0.3,
          "x1": 0.27999999999999997,
          "xref": "paper",
          "y0": 0.845,
          "y1": 0.865,
          "yref": "paper"
         },
         {
          "line": {
           "color": "black",
           "width": 3
          },
          "type": "line",
          "x0": 0.19,
          "x1": 0.27999999999999997,
          "xref": "paper",
          "y0": 0.865,
          "y1": 0.865,
          "yref": "paper"
         },
         {
          "line": {
           "color": "black",
           "width": 3
          },
          "type": "line",
          "x0": 0.29,
          "x1": 0.26999999999999996,
          "xref": "paper",
          "y0": 0.748,
          "y1": 0.728,
          "yref": "paper"
         },
         {
          "line": {
           "color": "black",
           "width": 3
          },
          "type": "line",
          "x0": 0.18,
          "x1": 0.26999999999999996,
          "xref": "paper",
          "y0": 0.728,
          "y1": 0.728,
          "yref": "paper"
         },
         {
          "line": {
           "color": "black",
           "width": 3
          },
          "type": "line",
          "x0": 0.343,
          "x1": 0.36300000000000004,
          "xref": "paper",
          "y0": 0.95,
          "y1": 0.9299999999999999,
          "yref": "paper"
         },
         {
          "line": {
           "color": "black",
           "width": 3
          },
          "type": "line",
          "x0": 0.493,
          "x1": 0.36300000000000004,
          "xref": "paper",
          "y0": 0.9299999999999999,
          "y1": 0.9299999999999999,
          "yref": "paper"
         },
         {
          "line": {
           "color": "black",
           "width": 3
          },
          "type": "line",
          "x0": 0.335,
          "x1": 0.35500000000000004,
          "xref": "paper",
          "y0": 0.837,
          "y1": 0.817,
          "yref": "paper"
         },
         {
          "line": {
           "color": "black",
           "width": 3
          },
          "type": "line",
          "x0": 0.485,
          "x1": 0.35500000000000004,
          "xref": "paper",
          "y0": 0.817,
          "y1": 0.817,
          "yref": "paper"
         },
         {
          "line": {
           "color": "black",
           "width": 3
          },
          "type": "line",
          "x0": 0.365,
          "x1": 0.385,
          "xref": "paper",
          "y0": 0.7,
          "y1": 0.72,
          "yref": "paper"
         },
         {
          "line": {
           "color": "black",
           "width": 3
          },
          "type": "line",
          "x0": 0.515,
          "x1": 0.385,
          "xref": "paper",
          "y0": 0.72,
          "y1": 0.72,
          "yref": "paper"
         },
         {
          "line": {
           "color": "black",
           "width": 3
          },
          "type": "line",
          "x0": 0.335,
          "x1": 0.35500000000000004,
          "xref": "paper",
          "y0": 0.52,
          "y1": 0.54,
          "yref": "paper"
         },
         {
          "line": {
           "color": "black",
           "width": 3
          },
          "type": "line",
          "x0": 0.485,
          "x1": 0.35500000000000004,
          "xref": "paper",
          "y0": 0.54,
          "y1": 0.54,
          "yref": "paper"
         }
        ],
=======
          "ax": 210,
          "ay": -40,
          "font": {
           "color": "violet",
           "family": "Arial Black",
           "size": 12
          },
          "showarrow": true,
          "text": "Primary energy oil",
          "x": 0.49,
          "xref": "paper",
          "y": 0.62,
          "yref": "paper"
         },
         {
          "align": "center",
          "ax": 120,
          "ay": -30,
          "font": {
           "color": "goldenrod",
           "family": "Arial Black",
           "size": 12
          },
          "showarrow": true,
          "text": "Kyoto gas emissions",
          "x": 0.51,
          "xref": "paper",
          "y": 0.905,
          "yref": "paper"
         },
         {
          "align": "center",
          "ax": 150,
          "ay": -60,
          "font": {
           "color": "forestgreen",
           "family": "Arial Black",
           "size": 12
          },
          "showarrow": true,
          "text": "Coal (w/o CCS) in<br>electricity production",
          "x": 0.52,
          "xref": "paper",
          "y": 0.765,
          "yref": "paper"
         },
         {
          "align": "center",
          "ax": -120,
          "ay": -120,
          "font": {
           "color": "silver",
           "family": "Arial Black",
           "size": 12
          },
          "showarrow": true,
          "text": "Electricity usage<br>in industry",
          "x": 0.385,
          "xref": "paper",
          "y": 0.235,
          "yref": "paper"
         },
         {
          "align": "center",
          "ax": 200,
          "ay": -40,
          "font": {
           "color": "teal",
           "family": "Arial Black",
           "size": 12
          },
          "showarrow": true,
          "text": "Electricity usage<br>in transport",
          "x": 0.395,
          "xref": "paper",
          "y": 0.205,
          "yref": "paper"
         },
         {
          "align": "center",
          "ax": 180,
          "ay": 40,
          "font": {
           "color": "peru",
           "family": "Arial Black",
           "size": 12
          },
          "showarrow": true,
          "text": "Electricity usage<br>in residential",
          "x": 0.38,
          "xref": "paper",
          "y": 0.145,
          "yref": "paper"
         }
        ],
        "height": 870,
>>>>>>> 5c0e54aca78664d6bd1c9757282795ba99d164ef
        "template": {
         "data": {
          "bar": [
           {
            "error_x": {
             "color": "#2a3f5f"
            },
            "error_y": {
             "color": "#2a3f5f"
            },
            "marker": {
             "line": {
              "color": "#E5ECF6",
              "width": 0.5
             },
             "pattern": {
              "fillmode": "overlay",
              "size": 10,
              "solidity": 0.2
             }
            },
            "type": "bar"
           }
          ],
          "barpolar": [
           {
            "marker": {
             "line": {
              "color": "#E5ECF6",
              "width": 0.5
             },
             "pattern": {
              "fillmode": "overlay",
              "size": 10,
              "solidity": 0.2
             }
            },
            "type": "barpolar"
           }
          ],
          "carpet": [
           {
            "aaxis": {
             "endlinecolor": "#2a3f5f",
             "gridcolor": "white",
             "linecolor": "white",
             "minorgridcolor": "white",
             "startlinecolor": "#2a3f5f"
            },
            "baxis": {
             "endlinecolor": "#2a3f5f",
             "gridcolor": "white",
             "linecolor": "white",
             "minorgridcolor": "white",
             "startlinecolor": "#2a3f5f"
            },
            "type": "carpet"
           }
          ],
          "choropleth": [
           {
            "colorbar": {
             "outlinewidth": 0,
             "ticks": ""
            },
            "type": "choropleth"
           }
          ],
          "contour": [
           {
            "colorbar": {
             "outlinewidth": 0,
             "ticks": ""
            },
            "colorscale": [
             [
              0,
              "#0d0887"
             ],
             [
              0.1111111111111111,
              "#46039f"
             ],
             [
              0.2222222222222222,
              "#7201a8"
             ],
             [
              0.3333333333333333,
              "#9c179e"
             ],
             [
              0.4444444444444444,
              "#bd3786"
             ],
             [
              0.5555555555555556,
              "#d8576b"
             ],
             [
              0.6666666666666666,
              "#ed7953"
             ],
             [
              0.7777777777777778,
              "#fb9f3a"
             ],
             [
              0.8888888888888888,
              "#fdca26"
             ],
             [
              1,
              "#f0f921"
             ]
            ],
            "type": "contour"
           }
          ],
          "contourcarpet": [
           {
            "colorbar": {
             "outlinewidth": 0,
             "ticks": ""
            },
            "type": "contourcarpet"
           }
          ],
          "heatmap": [
           {
            "colorbar": {
             "outlinewidth": 0,
             "ticks": ""
            },
            "colorscale": [
             [
              0,
              "#0d0887"
             ],
             [
              0.1111111111111111,
              "#46039f"
             ],
             [
              0.2222222222222222,
              "#7201a8"
             ],
             [
              0.3333333333333333,
              "#9c179e"
             ],
             [
              0.4444444444444444,
              "#bd3786"
             ],
             [
              0.5555555555555556,
              "#d8576b"
             ],
             [
              0.6666666666666666,
              "#ed7953"
             ],
             [
              0.7777777777777778,
              "#fb9f3a"
             ],
             [
              0.8888888888888888,
              "#fdca26"
             ],
             [
              1,
              "#f0f921"
             ]
            ],
            "type": "heatmap"
           }
          ],
          "heatmapgl": [
           {
            "colorbar": {
             "outlinewidth": 0,
             "ticks": ""
            },
            "colorscale": [
             [
              0,
              "#0d0887"
             ],
             [
              0.1111111111111111,
              "#46039f"
             ],
             [
              0.2222222222222222,
              "#7201a8"
             ],
             [
              0.3333333333333333,
              "#9c179e"
             ],
             [
              0.4444444444444444,
              "#bd3786"
             ],
             [
              0.5555555555555556,
              "#d8576b"
             ],
             [
              0.6666666666666666,
              "#ed7953"
             ],
             [
              0.7777777777777778,
              "#fb9f3a"
             ],
             [
              0.8888888888888888,
              "#fdca26"
             ],
             [
              1,
              "#f0f921"
             ]
            ],
            "type": "heatmapgl"
           }
          ],
          "histogram": [
           {
            "marker": {
             "pattern": {
              "fillmode": "overlay",
              "size": 10,
              "solidity": 0.2
             }
            },
            "type": "histogram"
           }
          ],
          "histogram2d": [
           {
            "colorbar": {
             "outlinewidth": 0,
             "ticks": ""
            },
            "colorscale": [
             [
              0,
              "#0d0887"
             ],
             [
              0.1111111111111111,
              "#46039f"
             ],
             [
              0.2222222222222222,
              "#7201a8"
             ],
             [
              0.3333333333333333,
              "#9c179e"
             ],
             [
              0.4444444444444444,
              "#bd3786"
             ],
             [
              0.5555555555555556,
              "#d8576b"
             ],
             [
              0.6666666666666666,
              "#ed7953"
             ],
             [
              0.7777777777777778,
              "#fb9f3a"
             ],
             [
              0.8888888888888888,
              "#fdca26"
             ],
             [
              1,
              "#f0f921"
             ]
            ],
            "type": "histogram2d"
           }
          ],
          "histogram2dcontour": [
           {
            "colorbar": {
             "outlinewidth": 0,
             "ticks": ""
            },
            "colorscale": [
             [
              0,
              "#0d0887"
             ],
             [
              0.1111111111111111,
              "#46039f"
             ],
             [
              0.2222222222222222,
              "#7201a8"
             ],
             [
              0.3333333333333333,
              "#9c179e"
             ],
             [
              0.4444444444444444,
              "#bd3786"
             ],
             [
              0.5555555555555556,
              "#d8576b"
             ],
             [
              0.6666666666666666,
              "#ed7953"
             ],
             [
              0.7777777777777778,
              "#fb9f3a"
             ],
             [
              0.8888888888888888,
              "#fdca26"
             ],
             [
              1,
              "#f0f921"
             ]
            ],
            "type": "histogram2dcontour"
           }
          ],
          "mesh3d": [
           {
            "colorbar": {
             "outlinewidth": 0,
             "ticks": ""
            },
            "type": "mesh3d"
           }
          ],
          "parcoords": [
           {
            "line": {
             "colorbar": {
              "outlinewidth": 0,
              "ticks": ""
             }
            },
            "type": "parcoords"
           }
          ],
          "pie": [
           {
            "automargin": true,
            "type": "pie"
           }
          ],
          "scatter": [
           {
<<<<<<< HEAD
            "fillpattern": {
             "fillmode": "overlay",
             "size": 10,
             "solidity": 0.2
=======
            "marker": {
             "colorbar": {
              "outlinewidth": 0,
              "ticks": ""
             }
>>>>>>> 5c0e54aca78664d6bd1c9757282795ba99d164ef
            },
            "type": "scatter"
           }
          ],
          "scatter3d": [
           {
            "line": {
             "colorbar": {
              "outlinewidth": 0,
              "ticks": ""
             }
            },
            "marker": {
             "colorbar": {
              "outlinewidth": 0,
              "ticks": ""
             }
            },
            "type": "scatter3d"
           }
          ],
          "scattercarpet": [
           {
            "marker": {
             "colorbar": {
              "outlinewidth": 0,
              "ticks": ""
             }
            },
            "type": "scattercarpet"
           }
          ],
          "scattergeo": [
           {
            "marker": {
             "colorbar": {
              "outlinewidth": 0,
              "ticks": ""
             }
            },
            "type": "scattergeo"
           }
          ],
          "scattergl": [
           {
            "marker": {
             "colorbar": {
              "outlinewidth": 0,
              "ticks": ""
             }
            },
            "type": "scattergl"
           }
          ],
          "scattermapbox": [
           {
            "marker": {
             "colorbar": {
              "outlinewidth": 0,
              "ticks": ""
             }
            },
            "type": "scattermapbox"
           }
          ],
          "scatterpolar": [
           {
            "marker": {
             "colorbar": {
              "outlinewidth": 0,
              "ticks": ""
             }
            },
            "type": "scatterpolar"
           }
          ],
          "scatterpolargl": [
           {
            "marker": {
             "colorbar": {
              "outlinewidth": 0,
              "ticks": ""
             }
            },
            "type": "scatterpolargl"
           }
          ],
          "scatterternary": [
           {
            "marker": {
             "colorbar": {
              "outlinewidth": 0,
              "ticks": ""
             }
            },
            "type": "scatterternary"
           }
          ],
          "surface": [
           {
            "colorbar": {
             "outlinewidth": 0,
             "ticks": ""
            },
            "colorscale": [
             [
              0,
              "#0d0887"
             ],
             [
              0.1111111111111111,
              "#46039f"
             ],
             [
              0.2222222222222222,
              "#7201a8"
             ],
             [
              0.3333333333333333,
              "#9c179e"
             ],
             [
              0.4444444444444444,
              "#bd3786"
             ],
             [
              0.5555555555555556,
              "#d8576b"
             ],
             [
              0.6666666666666666,
              "#ed7953"
             ],
             [
              0.7777777777777778,
              "#fb9f3a"
             ],
             [
              0.8888888888888888,
              "#fdca26"
             ],
             [
              1,
              "#f0f921"
             ]
            ],
            "type": "surface"
           }
          ],
          "table": [
           {
            "cells": {
             "fill": {
              "color": "#EBF0F8"
             },
             "line": {
              "color": "white"
             }
            },
            "header": {
             "fill": {
              "color": "#C8D4E3"
             },
             "line": {
              "color": "white"
             }
            },
            "type": "table"
           }
          ]
         },
         "layout": {
          "annotationdefaults": {
           "arrowcolor": "#2a3f5f",
           "arrowhead": 0,
           "arrowwidth": 1
          },
          "autotypenumbers": "strict",
          "coloraxis": {
           "colorbar": {
            "outlinewidth": 0,
            "ticks": ""
           }
          },
          "colorscale": {
           "diverging": [
            [
             0,
             "#8e0152"
            ],
            [
             0.1,
             "#c51b7d"
            ],
            [
             0.2,
             "#de77ae"
            ],
            [
             0.3,
             "#f1b6da"
            ],
            [
             0.4,
             "#fde0ef"
            ],
            [
             0.5,
             "#f7f7f7"
            ],
            [
             0.6,
             "#e6f5d0"
            ],
            [
             0.7,
             "#b8e186"
            ],
            [
             0.8,
             "#7fbc41"
            ],
            [
             0.9,
             "#4d9221"
            ],
            [
             1,
             "#276419"
            ]
           ],
           "sequential": [
            [
             0,
             "#0d0887"
            ],
            [
             0.1111111111111111,
             "#46039f"
            ],
            [
             0.2222222222222222,
             "#7201a8"
            ],
            [
             0.3333333333333333,
             "#9c179e"
            ],
            [
             0.4444444444444444,
             "#bd3786"
            ],
            [
             0.5555555555555556,
             "#d8576b"
            ],
            [
             0.6666666666666666,
             "#ed7953"
            ],
            [
             0.7777777777777778,
             "#fb9f3a"
            ],
            [
             0.8888888888888888,
             "#fdca26"
            ],
            [
             1,
             "#f0f921"
            ]
           ],
           "sequentialminus": [
            [
             0,
             "#0d0887"
            ],
            [
             0.1111111111111111,
             "#46039f"
            ],
            [
             0.2222222222222222,
             "#7201a8"
            ],
            [
             0.3333333333333333,
             "#9c179e"
            ],
            [
             0.4444444444444444,
             "#bd3786"
            ],
            [
             0.5555555555555556,
             "#d8576b"
            ],
            [
             0.6666666666666666,
             "#ed7953"
            ],
            [
             0.7777777777777778,
             "#fb9f3a"
            ],
            [
             0.8888888888888888,
             "#fdca26"
            ],
            [
             1,
             "#f0f921"
            ]
           ]
          },
          "colorway": [
           "#636efa",
           "#EF553B",
           "#00cc96",
           "#ab63fa",
           "#FFA15A",
           "#19d3f3",
           "#FF6692",
           "#B6E880",
           "#FF97FF",
           "#FECB52"
          ],
          "font": {
           "color": "#2a3f5f"
          },
          "geo": {
           "bgcolor": "white",
           "lakecolor": "white",
           "landcolor": "#E5ECF6",
           "showlakes": true,
           "showland": true,
           "subunitcolor": "white"
          },
          "hoverlabel": {
           "align": "left"
          },
          "hovermode": "closest",
          "mapbox": {
           "style": "light"
          },
          "paper_bgcolor": "white",
          "plot_bgcolor": "#E5ECF6",
          "polar": {
           "angularaxis": {
            "gridcolor": "white",
            "linecolor": "white",
            "ticks": ""
           },
           "bgcolor": "#E5ECF6",
           "radialaxis": {
            "gridcolor": "white",
            "linecolor": "white",
            "ticks": ""
           }
          },
          "scene": {
           "xaxis": {
            "backgroundcolor": "#E5ECF6",
            "gridcolor": "white",
            "gridwidth": 2,
            "linecolor": "white",
            "showbackground": true,
            "ticks": "",
            "zerolinecolor": "white"
           },
           "yaxis": {
            "backgroundcolor": "#E5ECF6",
            "gridcolor": "white",
            "gridwidth": 2,
            "linecolor": "white",
            "showbackground": true,
            "ticks": "",
            "zerolinecolor": "white"
           },
           "zaxis": {
            "backgroundcolor": "#E5ECF6",
            "gridcolor": "white",
            "gridwidth": 2,
            "linecolor": "white",
            "showbackground": true,
            "ticks": "",
            "zerolinecolor": "white"
           }
          },
          "shapedefaults": {
           "line": {
            "color": "#2a3f5f"
           }
          },
          "ternary": {
           "aaxis": {
            "gridcolor": "white",
            "linecolor": "white",
            "ticks": ""
           },
           "baxis": {
            "gridcolor": "white",
            "linecolor": "white",
            "ticks": ""
           },
           "bgcolor": "#E5ECF6",
           "caxis": {
            "gridcolor": "white",
            "linecolor": "white",
            "ticks": ""
           }
          },
          "title": {
           "x": 0.05
          },
          "xaxis": {
           "automargin": true,
           "gridcolor": "white",
           "linecolor": "white",
           "ticks": "",
           "title": {
            "standoff": 15
           },
           "zerolinecolor": "white",
           "zerolinewidth": 2
          },
          "yaxis": {
           "automargin": true,
           "gridcolor": "white",
           "linecolor": "white",
           "ticks": "",
           "title": {
            "standoff": 15
           },
           "zerolinecolor": "white",
           "zerolinewidth": 2
          }
         }
        },
        "ternary": {
         "aaxis": {
          "linewidth": 0,
          "min": 0,
          "tickfont": {
           "size": 12
          },
          "tickmode": "array",
          "ticks": "outside",
          "ticktext": [
           "50%",
           "60%",
           "70%",
           "80%",
           "90%",
           "100%"
          ],
          "tickvals": [
           0.5,
           0.6,
           0.7,
           0.8,
           0.9,
           1
          ],
          "title": {
<<<<<<< HEAD
           "text": ""
=======
           "text": "Climate target<br>"
>>>>>>> 5c0e54aca78664d6bd1c9757282795ba99d164ef
          }
         },
         "baxis": {
          "linewidth": 2,
          "min": 0,
          "tickangle": 60,
          "tickfont": {
           "size": 12
          },
          "tickmode": "array",
          "ticks": "outside",
          "ticktext": [
           "50%",
           "60%",
           "70%",
           "80%",
           "90%",
           "100%"
          ],
          "tickvals": [
           0.5,
           0.6,
           0.7,
           0.8,
           0.9,
           1
          ],
          "title": {
<<<<<<< HEAD
           "text": ""
          }
         },
         "bgcolor": "rgba(0,0,0,0)",
=======
           "text": "Model &nbsp; &nbsp;"
          }
         },
         "bgcolor": "whitesmoke",
>>>>>>> 5c0e54aca78664d6bd1c9757282795ba99d164ef
         "caxis": {
          "linewidth": 2,
          "min": 0,
          "tickangle": -60,
          "tickfont": {
           "size": 12
          },
          "tickmode": "array",
          "ticks": "outside",
          "ticktext": [
           "50%",
           "60%",
           "70%",
           "80%",
           "90%",
           "100%"
          ],
          "tickvals": [
           0.5,
           0.6,
           0.7,
           0.8,
           0.9,
           1
          ],
          "title": {
<<<<<<< HEAD
           "text": ""
=======
           "text": "Other scenario<br>assumptions"
>>>>>>> 5c0e54aca78664d6bd1c9757282795ba99d164ef
          }
         },
         "domain": {
          "x": [
<<<<<<< HEAD
           0,
           0.6533333333333333
          ],
          "y": [
           0.4,
=======
           0.255,
           0.745
          ],
          "y": [
           0,
>>>>>>> 5c0e54aca78664d6bd1c9757282795ba99d164ef
           0.9999999999999999
          ]
         },
         "sum": 1
        },
<<<<<<< HEAD
        "width": 1190,
        "xaxis": {
         "anchor": "y",
         "domain": [
          0.3466666666666667,
          0.6533333333333333
=======
        "width": 1620,
        "xaxis": {
         "anchor": "y",
         "domain": [
          0.51,
          0.745
>>>>>>> 5c0e54aca78664d6bd1c9757282795ba99d164ef
         ]
        },
        "xaxis10": {
         "anchor": "y10",
         "domain": [
<<<<<<< HEAD
          0,
          0.3066666666666667
=======
          0.51,
          0.745
>>>>>>> 5c0e54aca78664d6bd1c9757282795ba99d164ef
         ]
        },
        "xaxis11": {
         "anchor": "y11",
         "domain": [
<<<<<<< HEAD
          0.3466666666666667,
          0.6533333333333333
=======
          0.7649999999999999,
          0.9999999999999999
>>>>>>> 5c0e54aca78664d6bd1c9757282795ba99d164ef
         ]
        },
        "xaxis12": {
         "anchor": "y12",
         "domain": [
<<<<<<< HEAD
          0,
          0.3066666666666667
=======
          0.255,
          0.49
>>>>>>> 5c0e54aca78664d6bd1c9757282795ba99d164ef
         ]
        },
        "xaxis13": {
         "anchor": "y13",
         "domain": [
<<<<<<< HEAD
          0.3466666666666667,
          0.6533333333333333
=======
          0.51,
          0.745
>>>>>>> 5c0e54aca78664d6bd1c9757282795ba99d164ef
         ]
        },
        "xaxis14": {
         "anchor": "y14",
         "domain": [
<<<<<<< HEAD
          0.6933333333333334,
          1
=======
          0,
          0.235
>>>>>>> 5c0e54aca78664d6bd1c9757282795ba99d164ef
         ]
        },
        "xaxis15": {
         "anchor": "y15",
         "domain": [
<<<<<<< HEAD
          0,
          0.3066666666666667
=======
          0.255,
          0.49
>>>>>>> 5c0e54aca78664d6bd1c9757282795ba99d164ef
         ]
        },
        "xaxis16": {
         "anchor": "y16",
         "domain": [
<<<<<<< HEAD
          0.3466666666666667,
          0.6533333333333333
=======
          0.51,
          0.745
>>>>>>> 5c0e54aca78664d6bd1c9757282795ba99d164ef
         ]
        },
        "xaxis17": {
         "anchor": "y17",
         "domain": [
<<<<<<< HEAD
          0.6933333333333334,
          1
         ]
        },
        "xaxis18": {
         "anchor": "y18",
         "domain": [
          0,
          0.3066666666666667
         ]
        },
        "xaxis19": {
         "anchor": "y19",
         "domain": [
          0.3466666666666667,
          0.6533333333333333
=======
          0.7649999999999999,
          0.9999999999999999
>>>>>>> 5c0e54aca78664d6bd1c9757282795ba99d164ef
         ]
        },
        "xaxis2": {
         "anchor": "y2",
         "domain": [
          0,
<<<<<<< HEAD
          0.3066666666666667
         ]
        },
        "xaxis20": {
         "anchor": "y20",
         "domain": [
          0.6933333333333334,
          1
         ]
        },
        "xaxis21": {
         "anchor": "y21",
         "domain": [
          0,
          0.3066666666666667
         ]
        },
        "xaxis22": {
         "anchor": "y22",
         "domain": [
          0.3466666666666667,
          0.6533333333333333
         ]
        },
        "xaxis23": {
         "anchor": "y23",
         "domain": [
          0.6933333333333334,
          1
=======
          0.235
>>>>>>> 5c0e54aca78664d6bd1c9757282795ba99d164ef
         ]
        },
        "xaxis3": {
         "anchor": "y3",
         "domain": [
<<<<<<< HEAD
          0.3466666666666667,
          0.6533333333333333
=======
          0.255,
          0.49
>>>>>>> 5c0e54aca78664d6bd1c9757282795ba99d164ef
         ]
        },
        "xaxis4": {
         "anchor": "y4",
         "domain": [
<<<<<<< HEAD
          0.6933333333333334,
          1
=======
          0.51,
          0.745
>>>>>>> 5c0e54aca78664d6bd1c9757282795ba99d164ef
         ]
        },
        "xaxis5": {
         "anchor": "y5",
         "domain": [
<<<<<<< HEAD
          0,
          0.3066666666666667
=======
          0.7649999999999999,
          0.9999999999999999
>>>>>>> 5c0e54aca78664d6bd1c9757282795ba99d164ef
         ]
        },
        "xaxis6": {
         "anchor": "y6",
         "domain": [
<<<<<<< HEAD
          0.3466666666666667,
          0.6533333333333333
=======
          0.255,
          0.49
>>>>>>> 5c0e54aca78664d6bd1c9757282795ba99d164ef
         ]
        },
        "xaxis7": {
         "anchor": "y7",
         "domain": [
<<<<<<< HEAD
          0,
          0.3066666666666667
=======
          0.51,
          0.745
>>>>>>> 5c0e54aca78664d6bd1c9757282795ba99d164ef
         ]
        },
        "xaxis8": {
         "anchor": "y8",
         "domain": [
<<<<<<< HEAD
          0.3466666666666667,
          0.6533333333333333
=======
          0,
          0.235
>>>>>>> 5c0e54aca78664d6bd1c9757282795ba99d164ef
         ]
        },
        "xaxis9": {
         "anchor": "y9",
         "domain": [
<<<<<<< HEAD
          0.6933333333333334,
          1
=======
          0.255,
          0.49
>>>>>>> 5c0e54aca78664d6bd1c9757282795ba99d164ef
         ]
        },
        "yaxis": {
         "anchor": "x",
         "domain": [
<<<<<<< HEAD
          0.8999999999999999,
=======
          0.8333333333333333,
>>>>>>> 5c0e54aca78664d6bd1c9757282795ba99d164ef
          0.9999999999999999
         ]
        },
        "yaxis10": {
         "anchor": "x10",
         "domain": [
<<<<<<< HEAD
          0.5,
          0.6
=======
          0.3333333333333333,
          0.5
>>>>>>> 5c0e54aca78664d6bd1c9757282795ba99d164ef
         ]
        },
        "yaxis11": {
         "anchor": "x11",
         "domain": [
<<<<<<< HEAD
          0.5,
          0.6
=======
          0.3333333333333333,
          0.5
>>>>>>> 5c0e54aca78664d6bd1c9757282795ba99d164ef
         ]
        },
        "yaxis12": {
         "anchor": "x12",
         "domain": [
<<<<<<< HEAD
          0.4,
          0.5
=======
          0.16666666666666666,
          0.3333333333333333
>>>>>>> 5c0e54aca78664d6bd1c9757282795ba99d164ef
         ]
        },
        "yaxis13": {
         "anchor": "x13",
         "domain": [
<<<<<<< HEAD
          0.4,
          0.5
=======
          0.16666666666666666,
          0.3333333333333333
>>>>>>> 5c0e54aca78664d6bd1c9757282795ba99d164ef
         ]
        },
        "yaxis14": {
         "anchor": "x14",
         "domain": [
<<<<<<< HEAD
          0.4,
          0.5
=======
          0,
          0.16666666666666666
>>>>>>> 5c0e54aca78664d6bd1c9757282795ba99d164ef
         ]
        },
        "yaxis15": {
         "anchor": "x15",
         "domain": [
<<<<<<< HEAD
          0.30000000000000004,
          0.4
=======
          0,
          0.16666666666666666
>>>>>>> 5c0e54aca78664d6bd1c9757282795ba99d164ef
         ]
        },
        "yaxis16": {
         "anchor": "x16",
         "domain": [
<<<<<<< HEAD
          0.30000000000000004,
          0.4
=======
          0,
          0.16666666666666666
>>>>>>> 5c0e54aca78664d6bd1c9757282795ba99d164ef
         ]
        },
        "yaxis17": {
         "anchor": "x17",
         "domain": [
<<<<<<< HEAD
          0.2,
          0.30000000000000004
         ]
        },
        "yaxis18": {
         "anchor": "x18",
         "domain": [
          0.1,
          0.2
         ]
        },
        "yaxis19": {
         "anchor": "x19",
         "domain": [
          0.1,
          0.2
=======
          0,
          0.16666666666666666
>>>>>>> 5c0e54aca78664d6bd1c9757282795ba99d164ef
         ]
        },
        "yaxis2": {
         "anchor": "x2",
         "domain": [
<<<<<<< HEAD
          0.7999999999999999,
          0.8999999999999999
         ]
        },
        "yaxis20": {
         "anchor": "x20",
         "domain": [
          0.1,
          0.2
         ]
        },
        "yaxis21": {
         "anchor": "x21",
         "domain": [
          0,
          0.1
         ]
        },
        "yaxis22": {
         "anchor": "x22",
         "domain": [
          0,
          0.1
         ]
        },
        "yaxis23": {
         "anchor": "x23",
         "domain": [
          0,
          0.1
=======
          0.6666666666666666,
          0.8333333333333333
>>>>>>> 5c0e54aca78664d6bd1c9757282795ba99d164ef
         ]
        },
        "yaxis3": {
         "anchor": "x3",
         "domain": [
<<<<<<< HEAD
          0.7999999999999999,
          0.8999999999999999
=======
          0.6666666666666666,
          0.8333333333333333
>>>>>>> 5c0e54aca78664d6bd1c9757282795ba99d164ef
         ]
        },
        "yaxis4": {
         "anchor": "x4",
         "domain": [
<<<<<<< HEAD
          0.7999999999999999,
          0.8999999999999999
=======
          0.6666666666666666,
          0.8333333333333333
>>>>>>> 5c0e54aca78664d6bd1c9757282795ba99d164ef
         ]
        },
        "yaxis5": {
         "anchor": "x5",
         "domain": [
<<<<<<< HEAD
          0.7,
          0.7999999999999999
=======
          0.6666666666666666,
          0.8333333333333333
>>>>>>> 5c0e54aca78664d6bd1c9757282795ba99d164ef
         ]
        },
        "yaxis6": {
         "anchor": "x6",
         "domain": [
<<<<<<< HEAD
          0.7,
          0.7999999999999999
=======
          0.5,
          0.6666666666666666
>>>>>>> 5c0e54aca78664d6bd1c9757282795ba99d164ef
         ]
        },
        "yaxis7": {
         "anchor": "x7",
         "domain": [
<<<<<<< HEAD
          0.6,
          0.7
=======
          0.5,
          0.6666666666666666
>>>>>>> 5c0e54aca78664d6bd1c9757282795ba99d164ef
         ]
        },
        "yaxis8": {
         "anchor": "x8",
         "domain": [
<<<<<<< HEAD
          0.6,
          0.7
=======
          0.3333333333333333,
          0.5
>>>>>>> 5c0e54aca78664d6bd1c9757282795ba99d164ef
         ]
        },
        "yaxis9": {
         "anchor": "x9",
         "domain": [
<<<<<<< HEAD
          0.6,
          0.7
=======
          0.3333333333333333,
          0.5
>>>>>>> 5c0e54aca78664d6bd1c9757282795ba99d164ef
         ]
        }
       }
      }
     },
     "metadata": {},
     "output_type": "display_data"
    }
   ],
   "source": [
<<<<<<< HEAD
    "# -*- coding: utf-8 -*-\n",
    "fig = make_subplots(\n",
    "    rows=10, cols=3,\n",
    "    horizontal_spacing = 0.04,\n",
    "    vertical_spacing=0,\n",
    "    # column_widths = [0.15, 0.7, 0.15],\n",
    "    # row_heights = [0.15, 0.7, 0.15],\n",
    "    # specs = [[{\"type\": \"table\", \"rowspan\": 2}, {\"type\": \"scatterternary\", \"colspan\": 2, \"rowspan\": 6}, {}, {\"type\": \"table\", \"rowspan\": 2}],\n",
    "    #          [{}, {}, {}, {}],\n",
    "    #          [{\"type\": \"table\", \"rowspan\": 2}, {}, {}, {\"type\": \"table\", \"rowspan\": 2}],\n",
    "    #          [{}, {}, {}, {}],\n",
    "    #          [{\"type\": \"table\", \"rowspan\": 2}, {}, {}, {\"type\": \"table\", \"rowspan\": 2}],\n",
    "    #          [{}, {}, {}, {}]\n",
    "    #         ]\n",
    "    specs = [[{\"type\": \"scatterternary\", \"colspan\": 2, \"rowspan\": 6}, {}, {\"type\": \"table\", \"rowspan\": 2}],\n",
    "             [{}, {}, {}],\n",
    "             [{}, {}, {\"type\": \"table\", \"rowspan\": 2}],\n",
    "             [{}, {}, {}],\n",
    "             [{}, {}, {\"type\": \"table\", \"rowspan\": 2}],\n",
    "             [{}, {}, {}],\n",
    "             [{}, {},  {\"type\": \"table\", \"rowspan\": 4}],\n",
    "             [{\"type\": \"table\", \"rowspan\": 3}, {\"type\": \"table\", \"rowspan\": 3}, {}],\n",
    "             [{}, {}, {}],\n",
    "             [{}, {}, {}]\n",
    "            ]\n",
    ")\n",
    "\n",
    "# Lines 50%\n",
    "fig.add_trace(go.Scatterternary(a=[0.5, 0.5, 0, 0.5], b=[0, 0.5, 0.5, 0], c=[0.5, 0, 0.5, 0.5],\n",
    "                                                mode='lines',\n",
    "                                                showlegend=False,\n",
    "                                                hoverinfo='skip',\n",
    "                                                marker={'size': 15,\n",
    "                                                        'color': 'black',\n",
    "                                                        'opacity': 1,#0.9-i*0.03,\n",
    "                                                        'line' :dict(width=0., color='black')},\n",
    "                                                line={'width': 1, #np.mean(s[i:i+2])*0.5,\n",
    "                                                        'color': 'black',\n",
    "                                                        'dash': 'dot'},\n",
    "                                                textfont=dict(size=5,\n",
    "                                                        color='black')), 1, 1)\n",
    "\n",
    "fig.add_trace(tables[0], 8, 1)\n",
    "fig.add_trace(tables[1], 8, 2)\n",
    "fig.add_trace(tables[5], 5, 3)\n",
    "\n",
    "fig.add_trace(tables[3], 1, 3)\n",
    "fig.add_trace(tables[4], 3, 3)\n",
    "fig.add_trace(tables[2], 7, 3)\n",
    "\n",
    "\n",
    "#fig.add_traces(fig1.data, 1, 1)\n",
    "for n in range(len(conttraces)):\n",
    "        fig.add_trace(conttraces[n], 1, 1)\n",
    "# for n in range(len(conttracesb)):\n",
    "#         fig.add_trace(conttracesb[n], 1, 1)\n",
    "# for n in range(len(trace_ternary_lines)):\n",
    "#     fig.add_trace(trace_ternary_lines[n], 1, 1)\n",
    "# for n in range(len(trace_ternary_border)):\n",
    "#     fig.add_trace(trace_ternary_border[n], 1, 1)\n",
    "for n in range(len(scatters)):\n",
    "    fig.add_trace(scatters[n], 1, 1)\n",
    "fig.update_layout(height=1000, width=1190)\n",
    "fig.update_layout({'margin':dict(l=0,r=0,b=0,t=35),\n",
    "'ternary':\n",
    "{'sum':1,\n",
    "'bgcolor':'rgba(0,0,0,0)',#'whitesmoke',\n",
    "    # \"paper_bgcolor\":'rgba(0,0,0,0)',\n",
    "    # \"plot_bgcolor\":'rgba(0,0,0,0)',\n",
    "'aaxis':{'title': '', 'min': 0, \n",
    "        'linewidth':0, 'ticks':'outside',\n",
    "        'tickmode':'array','tickvals':[0.5, 0.6, 0.7, 0.8, 0.9, 1.0], 'ticktext':['50%', '60%', '70%', '80%', '90%', '100%'], 'tickfont':{'size':12}},\n",
    "'baxis':{'title': '', 'min': 0, \n",
    "        'linewidth':2, 'ticks':'outside',\n",
    "        'tickmode':'array','tickvals':[0.5, 0.6, 0.7, 0.8, 0.9, 1.0], 'ticktext':['50%', '60%', '70%', '80%', '90%', '100%'],'tickangle':60, 'tickfont':{'size':12}},\n",
    "'caxis':{'title': '', 'min': 0, \n",
    "        'linewidth':2, 'ticks':'outside',\n",
    "        'tickmode':'array','tickvals':[0.5, 0.6, 0.7, 0.8, 0.9, 1.0], 'ticktext':['50%', '60%', '70%', '80%', '90%', '100%'],'tickangle':-60, 'tickfont':{'size':12}}}})\n",
    "\n",
    "# fig.add_trace(go.Scatterternary(a=[a], b=[b], c=[c],\n",
    "# mode='text', textfont={'size': 35},\n",
    "# #text=[u'&#128663;'.encode(\"utf-8\")]))\n",
    "# text=[u'\\u9935'.encode(\"utf-8\")]))\n",
    "#draw_line(fig, \"Primary energy coal\", 0.5, 0.725, 150, -40, \"forestgreen\")\n",
    "# draw_line(fig, \"Primary energy oil\", 0.49, 0.62, 210, -40, \"violet\")\n",
    "# draw_line(fig, \"Kyoto gas emissions\", 0.51, 0.905, 120, -30, \"goldenrod\")\n",
    "# draw_line(fig, \"Coal (w/o CCS) in<br>electricity production\", 0.52, 0.765, 150, -60, \"forestgreen\")\n",
    "# draw_line(fig, \"Electricity usage<br>in industry\", 0.385, 0.235, -120, -120, \"silver\")\n",
    "# draw_line(fig, \"Electricity usage<br>in transport\", 0.395, 0.205, 200, -40, \"teal\")\n",
    "#draw_line(fig, \"Electricity usage<br>in residential\", 0.38, 0.145, 180, 40, \"silver\")\n",
    "if st != '_c78':\n",
    "        draw_ann(fig, \"Electricity in<br>residential sector\", 0.19, 0.486, \"dimgray\", \"down\", \"right\")\n",
    "        draw_ann(fig, \"Electricity in<br>transport sector\", 0.215, 0.554, \"teal\", \"up\", \"right\")\n",
    "        draw_ann(fig, \"Electricity in<br>industry sector\", 0.196, 0.588, \"peru\", \"up\", \"left\")\n",
    "        draw_ann(fig, \"Primary Energy<br>from coal\", 0.30, 0.845, \"forestgreen\", \"up\", \"left\")\n",
    "        draw_ann(fig, \"Primary Energy<br>from oil\", 0.29, 0.748, \"forestgreen\", \"down\", \"left\")\n",
    "        draw_ann(fig, \"Kyoto gas<br>emissions\", 0.343, 0.950, \"violet\", \"down\", \"right\")\n",
    "        draw_ann(fig, \"Electricity from<br>coal (w/o CCS)\", 0.335, 0.837, \"goldenrod\", \"down\", \"right\")\n",
    "        draw_ann(fig, \"Primary Energy<br>from renewables\", 0.365, 0.7, \"forestgreen\", \"up\", \"right\")\n",
    "        draw_ann(fig, \"Hydrogen use in transport\", 0.335, 0.52, \"teal\", \"up\", \"right\")\n",
    "\n",
    "# TRIANGLE CORNER LABELS\n",
    "args = dict(xref=\"paper\", yref=\"paper\", align='center', showarrow=False)\n",
    "fig.add_annotation(text=\"Climate target\", x=0.242, y=1.06, **args, font=dict(color='darkgray', size=25))\n",
    "fig.add_annotation(text=\"main driver\", x=0.284, y=1.035, **args, font=dict(color='darkgray', size=16))\n",
    "fig.add_annotation(text=\"Model differences\", x=-0.015, y=0.32, **args, font=dict(color='darkgray', size=25))\n",
    "fig.add_annotation(text=\"main driver\", x=0.04, y=0.305, **args, font=dict(color='darkgray', size=16))\n",
    "fig.add_annotation(text=\"Other scenario\", x=0.68, y=0.38, **args, font=dict(color='darkgray', size=25))\n",
    "fig.add_annotation(text=\"assumptions\", x=0.675, y=0.36, **args, font=dict(color='darkgray', size=25))\n",
    "fig.add_annotation(text=\"main driver\", x=0.60, y=0.34, **args, font=dict(color='darkgray', size=16))\n",
    "\n",
    "# ADD SYMBOLS\n",
    "args = dict(xref=\"paper\", yref=\"paper\", showarrow=False)\n",
    "for i in range(6):\n",
    "        x = [0.005, 0.37, 0.735, 0.735, 0.735, 0.735][i]\n",
    "        y = [0.25, 0.25, 1.03, 0.831, 0.59, 0.39][i]\n",
    "        #fig.add_annotation(text=u'\\u25CB', x=x, y=y, **args, font=dict(color='black', size=100))\n",
    "        fig.add_annotation(text=u'\\u25CF', x=x, y=y, **args, font=dict(color='white', size=60))\n",
    "        fig.add_annotation(text=symbols[[0, 1, 3, 4, 5, 2][i]],\n",
    "                           x=x+[0.005, 0, -0.0049, -0.005, -0.01, -0.006][i],\n",
    "                           y=y+[0.015, 0.018, -0.031, -0.029, -0.002, -0.005][i],\n",
    "                           **args,\n",
    "                           font=dict(color=['violet', 'forestgreen', 'peru', 'teal', 'dimgray', 'goldenrod'][i], size=[25, 25, 22, 22, 25, 22][i]))\n",
    "\n",
    "# AXIS ANNOTATIONS\n",
    "args = dict(xref=\"paper\", yref=\"paper\", showarrow=False)\n",
    "fig.add_annotation(text=\"Fraction of variance<br>determined by driver\", x=0.145, y=0.875, textangle=-60, **args, font=dict(color='darkgray', size=12))\n",
    "fig.update_layout({'margin':dict(l=25,r=7,b=0,t=55)})\n",
=======
    "fig = make_subplots(\n",
    "    rows=6, cols=4,\n",
    "    horizontal_spacing = 0.02,\n",
    "    vertical_spacing=0,\n",
    "    # column_widths = [0.15, 0.7, 0.15],\n",
    "    # row_heights = [0.15, 0.7, 0.15],\n",
    "    specs = [[{\"type\": \"table\", \"rowspan\": 2}, {\"type\": \"scatterternary\", \"colspan\": 2, \"rowspan\": 6}, {}, {\"type\": \"table\", \"rowspan\": 2}],\n",
    "             [{}, {}, {}, {}],\n",
    "             [{\"type\": \"table\", \"rowspan\": 2}, {}, {}, {\"type\": \"table\", \"rowspan\": 2}],\n",
    "             [{}, {}, {}, {}],\n",
    "             [{\"type\": \"table\", \"rowspan\": 2}, {}, {}, {\"type\": \"table\", \"rowspan\": 2}],\n",
    "             [{}, {}, {}, {}]\n",
    "            ]\n",
    ")\n",
    "\n",
    "fig.add_trace(tables[0], 1, 1)\n",
    "fig.add_trace(tables[1], 3, 1)\n",
    "fig.add_trace(tables[5], 5, 1)\n",
    "\n",
    "fig.add_trace(tables[3], 1, 4)\n",
    "fig.add_trace(tables[4], 3, 4)\n",
    "fig.add_trace(tables[2], 5, 4)\n",
    "\n",
    "for n in range(len(trace_ternary_lines)):\n",
    "    fig.add_trace(trace_ternary_lines[n], 1, 2)\n",
    "for n in range(len(trace_ternary_border)):\n",
    "    fig.add_trace(trace_ternary_border[n], 1, 2)\n",
    "for n in range(len(scatters)):\n",
    "    fig.add_trace(scatters[n], 1, 2)\n",
    "fig.update_layout(height=870, width=1620)\n",
    "fig.update_layout({#'margin':dict(l=0,r=0,b=0,t=0),\n",
    "'ternary':\n",
    "{'sum':1,\n",
    "'bgcolor':'whitesmoke',\n",
    "'aaxis':{'title': 'Climate target<br>', 'min': 0, \n",
    "        'linewidth':0, 'ticks':'outside',\n",
    "        'tickmode':'array','tickvals':[0.5, 0.6, 0.7, 0.8, 0.9, 1.0], 'ticktext':['50%', '60%', '70%', '80%', '90%', '100%'], 'tickfont':{'size':12}},\n",
    "'baxis':{'title': 'Model &nbsp; &nbsp;', 'min': 0, \n",
    "        'linewidth':2, 'ticks':'outside',\n",
    "        'tickmode':'array','tickvals':[0.5, 0.6, 0.7, 0.8, 0.9, 1.0], 'ticktext':['50%', '60%', '70%', '80%', '90%', '100%'],'tickangle':60, 'tickfont':{'size':12}},\n",
    "'caxis':{'title': 'Other scenario<br>assumptions', 'min': 0, \n",
    "        'linewidth':2, 'ticks':'outside',\n",
    "        'tickmode':'array','tickvals':[0.5, 0.6, 0.7, 0.8, 0.9, 1.0], 'ticktext':['50%', '60%', '70%', '80%', '90%', '100%'],'tickangle':-60, 'tickfont':{'size':12}}}})\n",
    "\n",
    "draw_line(fig, \"Primary energy coal\", 0.5, 0.725, 150, -40, \"violet\")\n",
    "draw_line(fig, \"Primary energy oil\", 0.49, 0.62, 210, -40, \"violet\")\n",
    "draw_line(fig, \"Kyoto gas emissions\", 0.51, 0.905, 120, -30, \"goldenrod\")\n",
    "draw_line(fig, \"Coal (w/o CCS) in<br>electricity production\", 0.52, 0.765, 150, -60, \"forestgreen\")\n",
    "draw_line(fig, \"Electricity usage<br>in industry\", 0.385, 0.235, -120, -120, \"silver\")\n",
    "draw_line(fig, \"Electricity usage<br>in transport\", 0.395, 0.205, 200, -40, \"teal\")\n",
    "draw_line(fig, \"Electricity usage<br>in residential\", 0.38, 0.145, 180, 40, \"peru\")\n",
>>>>>>> 5c0e54aca78664d6bd1c9757282795ba99d164ef
    "fig.show()"
   ]
  },
  {
   "cell_type": "markdown",
   "metadata": {},
   "source": [
    "## Savings"
   ]
  },
  {
   "cell_type": "code",
<<<<<<< HEAD
   "execution_count": 520,
   "metadata": {},
   "outputs": [],
   "source": [
    "#st = \"_2100\"\n",
    "\n",
    "try:\n",
    "    os.remove('Figures/Paperfigures/Figure_3'+st+'.html')\n",
=======
   "execution_count": 26,
   "metadata": {},
   "outputs": [],
   "source": [
    "try:\n",
    "    os.remove('Figures/Paperfigures/Figure_3.html')\n",
>>>>>>> 5c0e54aca78664d6bd1c9757282795ba99d164ef
    "except:\n",
    "    3\n",
    "def html_w(typ):\n",
    "    return '<html> '+typ+' <p style=\"font-family: Arial\">'\n",
    "\n",
<<<<<<< HEAD
    "fig.write_image(\"Figures/Paperfigures/Figure_3\"+st+\".pdf\")\n",
    "fig.write_image(\"Figures/Paperfigures/Figure_3\"+st+\".png\", scale=3)\n",
    "fig.write_image(\"Figures/Paperfigures/Figure_3\"+st+\".svg\")\n",
    "today = date.today()\n",
    "td = today.strftime(\"%B %d, %Y\")\n",
    "\n",
    "with open('Figures/Paperfigures/Figure_3'+st+'.html', 'a') as f:\n",
=======
    "fig.write_image(\"Figures/Paperfigures/Figure_3.pdf\")\n",
    "fig.write_image(\"Figures/Paperfigures/Figure_3.png\", scale=3)\n",
    "today = date.today()\n",
    "td = today.strftime(\"%B %d, %Y\")\n",
    "\n",
    "with open('Figures/Paperfigures/Figure_3.html', 'a') as f:\n",
>>>>>>> 5c0e54aca78664d6bd1c9757282795ba99d164ef
    "    f.write(html_w('<h1>')+'Figure 3 - Overview</p></h1>')\n",
    "    f.write(html_w('<body>')+'Data is for year '+str(timestamp)+'. Version: '+td+'</p></body>')\n",
    "    f.write(fig.to_html(full_html=False, include_plotlyjs='cdn'))"
   ]
  }
 ],
 "metadata": {
  "interpreter": {
   "hash": "36d5d389870ab01fa625d0d5123f82469a3683fa0e02c4f7e9e76e9a75345aa3"
  },
  "kernelspec": {
   "display_name": "Python 3.9.11 ('MyEnv')",
   "language": "python",
   "name": "python3"
  },
  "language_info": {
   "codemirror_mode": {
    "name": "ipython",
    "version": 3
   },
   "file_extension": ".py",
   "mimetype": "text/x-python",
   "name": "python",
   "nbconvert_exporter": "python",
   "pygments_lexer": "ipython3",
<<<<<<< HEAD
   "version": "3.9.16"
=======
   "version": "3.9.11"
>>>>>>> 5c0e54aca78664d6bd1c9757282795ba99d164ef
  },
  "orig_nbformat": 4
 },
 "nbformat": 4,
 "nbformat_minor": 2
}
