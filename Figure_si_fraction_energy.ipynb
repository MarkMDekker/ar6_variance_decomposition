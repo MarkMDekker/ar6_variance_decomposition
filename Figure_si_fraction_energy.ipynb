{
 "cells": [
  {
   "cell_type": "markdown",
   "metadata": {},
   "source": [
    "## Preambule"
   ]
  },
  {
   "cell_type": "code",
   "execution_count": 61,
   "metadata": {},
   "outputs": [],
   "source": [
    "import numpy as np\n",
    "import xarray as xr\n",
    "from importlib import reload\n",
    "import Plotfunctions\n",
    "import pandas as pd\n",
    "import plotly.express as px\n",
    "from plotly.colors import n_colors\n",
    "from plotly.subplots import make_subplots\n",
    "import os\n",
    "import plotly.figure_factory as ff\n",
    "import matplotlib as mpl\n",
    "import plotly.io\n",
    "from pathlib import Path\n",
    "import matplotlib.pyplot as plt\n",
    "from datetime import date\n",
    "reload(Plotfunctions)\n",
    "import plotly.graph_objects as go\n",
    "from Plotfunctions import triangleplot, tableplot, spaghettiplot, draw_line\n",
    "path = Path.cwd() / \"Data\""
   ]
  },
  {
   "cell_type": "markdown",
   "metadata": {},
   "source": [
    "## Parameters"
   ]
  },
  {
   "cell_type": "code",
   "execution_count": 62,
   "metadata": {},
   "outputs": [],
   "source": [
    "timestamp = 2050\n",
    "srt = 2 # 1=model, 2=ccat"
   ]
  },
  {
   "cell_type": "markdown",
   "metadata": {},
   "source": [
    "## Prereading stuff"
   ]
  },
  {
   "cell_type": "code",
   "execution_count": 63,
   "metadata": {},
   "outputs": [],
   "source": [
    "try:\n",
    "    XRvar.close()\n",
    "except:\n",
    "    3\n",
    "XRvar = xr.open_dataset(path / (\"Variances.nc\"))\n",
    "XRvarsub = XRvar.sel(Time=timestamp)"
   ]
  },
  {
   "cell_type": "code",
   "execution_count": 64,
   "metadata": {},
   "outputs": [],
   "source": [
    "remove_vars = [\"Primary Energy|Other\",\n",
    "               \"Primary Energy|Non-Biomass Renewables\",\n",
    "               \"Secondary Energy|Electricity|Non-Biomass Renewables\",\n",
    "               \"Primary Energy|Ocean\",\n",
    "               \"Secondary Energy|Electricity|Ocean\",\n",
    "               \"Secondary Energy|Electricity|Other\"]\n",
    "Varlist = pd.read_excel(path / \"Varlist.xlsx\", sheet_name = \"Data\")\n",
    "vars = np.array(Varlist[\"Variable\"])\n",
    "cats = np.array(Varlist[\"Category\"])\n",
    "Names = np.unique(cats)\n",
    "for r in remove_vars:\n",
    "    wh = np.where((vars != r))[0]\n",
    "    vars = vars[wh]\n",
    "    cats = cats[wh]"
   ]
  },
  {
   "cell_type": "code",
   "execution_count": 65,
   "metadata": {},
   "outputs": [],
   "source": [
    "XRraw = xr.open_dataset(path / (\"XRdata.nc\"))\n",
    "XRmeta = xr.open_dataset(path / (\"XRmeta.nc\"))\n",
    "DF = pd.read_csv(path / (\"Models.csv\"))\n",
    "values = np.array(XRraw.Value)\n",
    "modscens = np.array(XRraw.ModelScenario)\n",
    "mods = np.array([i.split('|')[0] for i in modscens])\n",
    "ccat = np.array(XRmeta.sel(ModelScenario=XRraw.ModelScenario).Category.data)\n",
    "unimods = np.unique(mods)\n",
    "uniccat = np.unique(ccat)"
   ]
  },
  {
   "cell_type": "code",
   "execution_count": 66,
   "metadata": {},
   "outputs": [],
   "source": [
    "ar = np.array(XRraw.sel(Variable=\"Secondary Energy|Electricity\", Time=2050).Value)"
   ]
  },
  {
   "cell_type": "code",
   "execution_count": 67,
   "metadata": {},
   "outputs": [
    {
     "data": {
      "text/html": [
       "<div><svg style=\"position: absolute; width: 0; height: 0; overflow: hidden\">\n",
       "<defs>\n",
       "<symbol id=\"icon-database\" viewBox=\"0 0 32 32\">\n",
       "<path d=\"M16 0c-8.837 0-16 2.239-16 5v4c0 2.761 7.163 5 16 5s16-2.239 16-5v-4c0-2.761-7.163-5-16-5z\"></path>\n",
       "<path d=\"M16 17c-8.837 0-16-2.239-16-5v6c0 2.761 7.163 5 16 5s16-2.239 16-5v-6c0 2.761-7.163 5-16 5z\"></path>\n",
       "<path d=\"M16 26c-8.837 0-16-2.239-16-5v6c0 2.761 7.163 5 16 5s16-2.239 16-5v-6c0 2.761-7.163 5-16 5z\"></path>\n",
       "</symbol>\n",
       "<symbol id=\"icon-file-text2\" viewBox=\"0 0 32 32\">\n",
       "<path d=\"M28.681 7.159c-0.694-0.947-1.662-2.053-2.724-3.116s-2.169-2.030-3.116-2.724c-1.612-1.182-2.393-1.319-2.841-1.319h-15.5c-1.378 0-2.5 1.121-2.5 2.5v27c0 1.378 1.122 2.5 2.5 2.5h23c1.378 0 2.5-1.122 2.5-2.5v-19.5c0-0.448-0.137-1.23-1.319-2.841zM24.543 5.457c0.959 0.959 1.712 1.825 2.268 2.543h-4.811v-4.811c0.718 0.556 1.584 1.309 2.543 2.268zM28 29.5c0 0.271-0.229 0.5-0.5 0.5h-23c-0.271 0-0.5-0.229-0.5-0.5v-27c0-0.271 0.229-0.5 0.5-0.5 0 0 15.499-0 15.5 0v7c0 0.552 0.448 1 1 1h7v19.5z\"></path>\n",
       "<path d=\"M23 26h-14c-0.552 0-1-0.448-1-1s0.448-1 1-1h14c0.552 0 1 0.448 1 1s-0.448 1-1 1z\"></path>\n",
       "<path d=\"M23 22h-14c-0.552 0-1-0.448-1-1s0.448-1 1-1h14c0.552 0 1 0.448 1 1s-0.448 1-1 1z\"></path>\n",
       "<path d=\"M23 18h-14c-0.552 0-1-0.448-1-1s0.448-1 1-1h14c0.552 0 1 0.448 1 1s-0.448 1-1 1z\"></path>\n",
       "</symbol>\n",
       "</defs>\n",
       "</svg>\n",
       "<style>/* CSS stylesheet for displaying xarray objects in jupyterlab.\n",
       " *\n",
       " */\n",
       "\n",
       ":root {\n",
       "  --xr-font-color0: var(--jp-content-font-color0, rgba(0, 0, 0, 1));\n",
       "  --xr-font-color2: var(--jp-content-font-color2, rgba(0, 0, 0, 0.54));\n",
       "  --xr-font-color3: var(--jp-content-font-color3, rgba(0, 0, 0, 0.38));\n",
       "  --xr-border-color: var(--jp-border-color2, #e0e0e0);\n",
       "  --xr-disabled-color: var(--jp-layout-color3, #bdbdbd);\n",
       "  --xr-background-color: var(--jp-layout-color0, white);\n",
       "  --xr-background-color-row-even: var(--jp-layout-color1, white);\n",
       "  --xr-background-color-row-odd: var(--jp-layout-color2, #eeeeee);\n",
       "}\n",
       "\n",
       "html[theme=dark],\n",
       "body.vscode-dark {\n",
       "  --xr-font-color0: rgba(255, 255, 255, 1);\n",
       "  --xr-font-color2: rgba(255, 255, 255, 0.54);\n",
       "  --xr-font-color3: rgba(255, 255, 255, 0.38);\n",
       "  --xr-border-color: #1F1F1F;\n",
       "  --xr-disabled-color: #515151;\n",
       "  --xr-background-color: #111111;\n",
       "  --xr-background-color-row-even: #111111;\n",
       "  --xr-background-color-row-odd: #313131;\n",
       "}\n",
       "\n",
       ".xr-wrap {\n",
       "  display: block;\n",
       "  min-width: 300px;\n",
       "  max-width: 700px;\n",
       "}\n",
       "\n",
       ".xr-text-repr-fallback {\n",
       "  /* fallback to plain text repr when CSS is not injected (untrusted notebook) */\n",
       "  display: none;\n",
       "}\n",
       "\n",
       ".xr-header {\n",
       "  padding-top: 6px;\n",
       "  padding-bottom: 6px;\n",
       "  margin-bottom: 4px;\n",
       "  border-bottom: solid 1px var(--xr-border-color);\n",
       "}\n",
       "\n",
       ".xr-header > div,\n",
       ".xr-header > ul {\n",
       "  display: inline;\n",
       "  margin-top: 0;\n",
       "  margin-bottom: 0;\n",
       "}\n",
       "\n",
       ".xr-obj-type,\n",
       ".xr-array-name {\n",
       "  margin-left: 2px;\n",
       "  margin-right: 10px;\n",
       "}\n",
       "\n",
       ".xr-obj-type {\n",
       "  color: var(--xr-font-color2);\n",
       "}\n",
       "\n",
       ".xr-sections {\n",
       "  padding-left: 0 !important;\n",
       "  display: grid;\n",
       "  grid-template-columns: 150px auto auto 1fr 20px 20px;\n",
       "}\n",
       "\n",
       ".xr-section-item {\n",
       "  display: contents;\n",
       "}\n",
       "\n",
       ".xr-section-item input {\n",
       "  display: none;\n",
       "}\n",
       "\n",
       ".xr-section-item input + label {\n",
       "  color: var(--xr-disabled-color);\n",
       "}\n",
       "\n",
       ".xr-section-item input:enabled + label {\n",
       "  cursor: pointer;\n",
       "  color: var(--xr-font-color2);\n",
       "}\n",
       "\n",
       ".xr-section-item input:enabled + label:hover {\n",
       "  color: var(--xr-font-color0);\n",
       "}\n",
       "\n",
       ".xr-section-summary {\n",
       "  grid-column: 1;\n",
       "  color: var(--xr-font-color2);\n",
       "  font-weight: 500;\n",
       "}\n",
       "\n",
       ".xr-section-summary > span {\n",
       "  display: inline-block;\n",
       "  padding-left: 0.5em;\n",
       "}\n",
       "\n",
       ".xr-section-summary-in:disabled + label {\n",
       "  color: var(--xr-font-color2);\n",
       "}\n",
       "\n",
       ".xr-section-summary-in + label:before {\n",
       "  display: inline-block;\n",
       "  content: '►';\n",
       "  font-size: 11px;\n",
       "  width: 15px;\n",
       "  text-align: center;\n",
       "}\n",
       "\n",
       ".xr-section-summary-in:disabled + label:before {\n",
       "  color: var(--xr-disabled-color);\n",
       "}\n",
       "\n",
       ".xr-section-summary-in:checked + label:before {\n",
       "  content: '▼';\n",
       "}\n",
       "\n",
       ".xr-section-summary-in:checked + label > span {\n",
       "  display: none;\n",
       "}\n",
       "\n",
       ".xr-section-summary,\n",
       ".xr-section-inline-details {\n",
       "  padding-top: 4px;\n",
       "  padding-bottom: 4px;\n",
       "}\n",
       "\n",
       ".xr-section-inline-details {\n",
       "  grid-column: 2 / -1;\n",
       "}\n",
       "\n",
       ".xr-section-details {\n",
       "  display: none;\n",
       "  grid-column: 1 / -1;\n",
       "  margin-bottom: 5px;\n",
       "}\n",
       "\n",
       ".xr-section-summary-in:checked ~ .xr-section-details {\n",
       "  display: contents;\n",
       "}\n",
       "\n",
       ".xr-array-wrap {\n",
       "  grid-column: 1 / -1;\n",
       "  display: grid;\n",
       "  grid-template-columns: 20px auto;\n",
       "}\n",
       "\n",
       ".xr-array-wrap > label {\n",
       "  grid-column: 1;\n",
       "  vertical-align: top;\n",
       "}\n",
       "\n",
       ".xr-preview {\n",
       "  color: var(--xr-font-color3);\n",
       "}\n",
       "\n",
       ".xr-array-preview,\n",
       ".xr-array-data {\n",
       "  padding: 0 5px !important;\n",
       "  grid-column: 2;\n",
       "}\n",
       "\n",
       ".xr-array-data,\n",
       ".xr-array-in:checked ~ .xr-array-preview {\n",
       "  display: none;\n",
       "}\n",
       "\n",
       ".xr-array-in:checked ~ .xr-array-data,\n",
       ".xr-array-preview {\n",
       "  display: inline-block;\n",
       "}\n",
       "\n",
       ".xr-dim-list {\n",
       "  display: inline-block !important;\n",
       "  list-style: none;\n",
       "  padding: 0 !important;\n",
       "  margin: 0;\n",
       "}\n",
       "\n",
       ".xr-dim-list li {\n",
       "  display: inline-block;\n",
       "  padding: 0;\n",
       "  margin: 0;\n",
       "}\n",
       "\n",
       ".xr-dim-list:before {\n",
       "  content: '(';\n",
       "}\n",
       "\n",
       ".xr-dim-list:after {\n",
       "  content: ')';\n",
       "}\n",
       "\n",
       ".xr-dim-list li:not(:last-child):after {\n",
       "  content: ',';\n",
       "  padding-right: 5px;\n",
       "}\n",
       "\n",
       ".xr-has-index {\n",
       "  font-weight: bold;\n",
       "}\n",
       "\n",
       ".xr-var-list,\n",
       ".xr-var-item {\n",
       "  display: contents;\n",
       "}\n",
       "\n",
       ".xr-var-item > div,\n",
       ".xr-var-item label,\n",
       ".xr-var-item > .xr-var-name span {\n",
       "  background-color: var(--xr-background-color-row-even);\n",
       "  margin-bottom: 0;\n",
       "}\n",
       "\n",
       ".xr-var-item > .xr-var-name:hover span {\n",
       "  padding-right: 5px;\n",
       "}\n",
       "\n",
       ".xr-var-list > li:nth-child(odd) > div,\n",
       ".xr-var-list > li:nth-child(odd) > label,\n",
       ".xr-var-list > li:nth-child(odd) > .xr-var-name span {\n",
       "  background-color: var(--xr-background-color-row-odd);\n",
       "}\n",
       "\n",
       ".xr-var-name {\n",
       "  grid-column: 1;\n",
       "}\n",
       "\n",
       ".xr-var-dims {\n",
       "  grid-column: 2;\n",
       "}\n",
       "\n",
       ".xr-var-dtype {\n",
       "  grid-column: 3;\n",
       "  text-align: right;\n",
       "  color: var(--xr-font-color2);\n",
       "}\n",
       "\n",
       ".xr-var-preview {\n",
       "  grid-column: 4;\n",
       "}\n",
       "\n",
       ".xr-var-name,\n",
       ".xr-var-dims,\n",
       ".xr-var-dtype,\n",
       ".xr-preview,\n",
       ".xr-attrs dt {\n",
       "  white-space: nowrap;\n",
       "  overflow: hidden;\n",
       "  text-overflow: ellipsis;\n",
       "  padding-right: 10px;\n",
       "}\n",
       "\n",
       ".xr-var-name:hover,\n",
       ".xr-var-dims:hover,\n",
       ".xr-var-dtype:hover,\n",
       ".xr-attrs dt:hover {\n",
       "  overflow: visible;\n",
       "  width: auto;\n",
       "  z-index: 1;\n",
       "}\n",
       "\n",
       ".xr-var-attrs,\n",
       ".xr-var-data {\n",
       "  display: none;\n",
       "  background-color: var(--xr-background-color) !important;\n",
       "  padding-bottom: 5px !important;\n",
       "}\n",
       "\n",
       ".xr-var-attrs-in:checked ~ .xr-var-attrs,\n",
       ".xr-var-data-in:checked ~ .xr-var-data {\n",
       "  display: block;\n",
       "}\n",
       "\n",
       ".xr-var-data > table {\n",
       "  float: right;\n",
       "}\n",
       "\n",
       ".xr-var-name span,\n",
       ".xr-var-data,\n",
       ".xr-attrs {\n",
       "  padding-left: 25px !important;\n",
       "}\n",
       "\n",
       ".xr-attrs,\n",
       ".xr-var-attrs,\n",
       ".xr-var-data {\n",
       "  grid-column: 1 / -1;\n",
       "}\n",
       "\n",
       "dl.xr-attrs {\n",
       "  padding: 0;\n",
       "  margin: 0;\n",
       "  display: grid;\n",
       "  grid-template-columns: 125px auto;\n",
       "}\n",
       "\n",
       ".xr-attrs dt,\n",
       ".xr-attrs dd {\n",
       "  padding: 0;\n",
       "  margin: 0;\n",
       "  float: left;\n",
       "  padding-right: 10px;\n",
       "  width: auto;\n",
       "}\n",
       "\n",
       ".xr-attrs dt {\n",
       "  font-weight: normal;\n",
       "  grid-column: 1;\n",
       "}\n",
       "\n",
       ".xr-attrs dt:hover span {\n",
       "  display: inline-block;\n",
       "  background: var(--xr-background-color);\n",
       "  padding-right: 10px;\n",
       "}\n",
       "\n",
       ".xr-attrs dd {\n",
       "  grid-column: 2;\n",
       "  white-space: pre-wrap;\n",
       "  word-break: break-all;\n",
       "}\n",
       "\n",
       ".xr-icon-database,\n",
       ".xr-icon-file-text2 {\n",
       "  display: inline-block;\n",
       "  vertical-align: middle;\n",
       "  width: 1em;\n",
       "  height: 1.5em !important;\n",
       "  stroke-width: 0;\n",
       "  stroke: currentColor;\n",
       "  fill: currentColor;\n",
       "}\n",
       "</style><pre class='xr-text-repr-fallback'>&lt;xarray.Dataset&gt;\n",
       "Dimensions:   ()\n",
       "Coordinates:\n",
       "    Variable  &lt;U39 &#x27;Final Energy|Transportation|Electricity&#x27;\n",
       "    Time      int32 2100\n",
       "Data variables:\n",
       "    Value     float64 43.02</pre><div class='xr-wrap' hidden><div class='xr-header'><div class='xr-obj-type'>xarray.Dataset</div></div><ul class='xr-sections'><li class='xr-section-item'><input id='section-c1fd8181-cf24-4f34-9a6c-2c41e4ff7d66' class='xr-section-summary-in' type='checkbox' disabled ><label for='section-c1fd8181-cf24-4f34-9a6c-2c41e4ff7d66' class='xr-section-summary'  title='Expand/collapse section'>Dimensions:</label><div class='xr-section-inline-details'></div><div class='xr-section-details'></div></li><li class='xr-section-item'><input id='section-8d7ef2c0-bf6e-4335-ae84-1508855651bc' class='xr-section-summary-in' type='checkbox'  checked><label for='section-8d7ef2c0-bf6e-4335-ae84-1508855651bc' class='xr-section-summary' >Coordinates: <span>(2)</span></label><div class='xr-section-inline-details'></div><div class='xr-section-details'><ul class='xr-var-list'><li class='xr-var-item'><div class='xr-var-name'><span>Variable</span></div><div class='xr-var-dims'>()</div><div class='xr-var-dtype'>&lt;U39</div><div class='xr-var-preview xr-preview'>&#x27;Final Energy|Transportation|Ele...</div><input id='attrs-1806a1b1-0ff0-467b-9787-0166e15eccc5' class='xr-var-attrs-in' type='checkbox' disabled><label for='attrs-1806a1b1-0ff0-467b-9787-0166e15eccc5' title='Show/Hide attributes'><svg class='icon xr-icon-file-text2'><use xlink:href='#icon-file-text2'></use></svg></label><input id='data-36a5731c-a732-429c-b87e-54f2652e56f5' class='xr-var-data-in' type='checkbox'><label for='data-36a5731c-a732-429c-b87e-54f2652e56f5' title='Show/Hide data repr'><svg class='icon xr-icon-database'><use xlink:href='#icon-database'></use></svg></label><div class='xr-var-attrs'><dl class='xr-attrs'></dl></div><div class='xr-var-data'><pre>array(&#x27;Final Energy|Transportation|Electricity&#x27;, dtype=&#x27;&lt;U39&#x27;)</pre></div></li><li class='xr-var-item'><div class='xr-var-name'><span>Time</span></div><div class='xr-var-dims'>()</div><div class='xr-var-dtype'>int32</div><div class='xr-var-preview xr-preview'>2100</div><input id='attrs-ab0f5d7f-0528-4211-a086-1ec7bcfcd514' class='xr-var-attrs-in' type='checkbox' disabled><label for='attrs-ab0f5d7f-0528-4211-a086-1ec7bcfcd514' title='Show/Hide attributes'><svg class='icon xr-icon-file-text2'><use xlink:href='#icon-file-text2'></use></svg></label><input id='data-7e9069c7-bff5-476b-b709-ac940a93a16b' class='xr-var-data-in' type='checkbox'><label for='data-7e9069c7-bff5-476b-b709-ac940a93a16b' title='Show/Hide data repr'><svg class='icon xr-icon-database'><use xlink:href='#icon-database'></use></svg></label><div class='xr-var-attrs'><dl class='xr-attrs'></dl></div><div class='xr-var-data'><pre>array(2100)</pre></div></li></ul></div></li><li class='xr-section-item'><input id='section-244df099-0f26-4771-b96f-58de7332faf5' class='xr-section-summary-in' type='checkbox'  checked><label for='section-244df099-0f26-4771-b96f-58de7332faf5' class='xr-section-summary' >Data variables: <span>(1)</span></label><div class='xr-section-inline-details'></div><div class='xr-section-details'><ul class='xr-var-list'><li class='xr-var-item'><div class='xr-var-name'><span>Value</span></div><div class='xr-var-dims'>()</div><div class='xr-var-dtype'>float64</div><div class='xr-var-preview xr-preview'>43.02</div><input id='attrs-a52136ea-f89e-49da-ad44-be376a45a405' class='xr-var-attrs-in' type='checkbox' disabled><label for='attrs-a52136ea-f89e-49da-ad44-be376a45a405' title='Show/Hide attributes'><svg class='icon xr-icon-file-text2'><use xlink:href='#icon-file-text2'></use></svg></label><input id='data-2c771e2d-9092-4861-be8c-e02be37b40c0' class='xr-var-data-in' type='checkbox'><label for='data-2c771e2d-9092-4861-be8c-e02be37b40c0' title='Show/Hide data repr'><svg class='icon xr-icon-database'><use xlink:href='#icon-database'></use></svg></label><div class='xr-var-attrs'><dl class='xr-attrs'></dl></div><div class='xr-var-data'><pre>array(43.02008103)</pre></div></li></ul></div></li><li class='xr-section-item'><input id='section-2bfc171b-b9e8-4d32-a1d4-0e721dee3eb5' class='xr-section-summary-in' type='checkbox' disabled ><label for='section-2bfc171b-b9e8-4d32-a1d4-0e721dee3eb5' class='xr-section-summary'  title='Expand/collapse section'>Attributes: <span>(0)</span></label><div class='xr-section-inline-details'></div><div class='xr-section-details'><dl class='xr-attrs'></dl></div></li></ul></div></div>"
      ],
      "text/plain": [
       "<xarray.Dataset>\n",
       "Dimensions:   ()\n",
       "Coordinates:\n",
       "    Variable  <U39 'Final Energy|Transportation|Electricity'\n",
       "    Time      int32 2100\n",
       "Data variables:\n",
       "    Value     float64 43.02"
      ]
     },
     "execution_count": 67,
     "metadata": {},
     "output_type": "execute_result"
    }
   ],
   "source": [
    "XRraw.sel(ModelScenario = np.array(XRmeta.ModelScenario)[np.array(XRmeta.Category) == \"C1\"], Time=2100, Variable = \"Final Energy|Transportation|Electricity\").mean(dim=\"ModelScenario\")"
   ]
  },
  {
   "cell_type": "code",
   "execution_count": 68,
   "metadata": {},
   "outputs": [
    {
     "data": {
      "text/plain": [
       "271.72994"
      ]
     },
     "execution_count": 68,
     "metadata": {},
     "output_type": "execute_result"
    }
   ],
   "source": [
    "np.nanpercentile(ar, 90)"
   ]
  },
  {
   "cell_type": "code",
   "execution_count": 69,
   "metadata": {},
   "outputs": [
    {
     "data": {
      "image/png": "[encoded data removed]",
      "text/plain": [
       "<Figure size 640x480 with 1 Axes>"
      ]
     },
     "metadata": {},
     "output_type": "display_data"
    },
    {
     "name": "stdout",
     "output_type": "stream",
     "text": [
      "          0         1         2\n",
      "0  1.000000 -0.013749  0.327373\n",
      "1 -0.013749  1.000000 -0.467828\n",
      "2  0.327373 -0.467828  1.000000\n",
      "          0         1         2\n",
      "0  1.000000 -0.320109  0.146957\n",
      "1 -0.320109  1.000000 -0.517442\n",
      "2  0.146957 -0.517442  1.000000\n"
     ]
    }
   ],
   "source": [
    "c = \"C3\"\n",
    "y = 2050\n",
    "bio = np.array(XRraw.sel(Variable=\"Final Energy|Transportation|Liquids|Bioenergy\", ModelScenario = np.array(XRmeta.ModelScenario)[np.array(XRmeta.Category) == c], Time=y).Value)\n",
    "h2 = np.array(XRraw.sel(Variable=\"Final Energy|Transportation|Hydrogen\", ModelScenario = np.array(XRmeta.ModelScenario)[np.array(XRmeta.Category) == c], Time=y).Value)\n",
    "ele = np.array(XRraw.sel(Variable=\"Final Energy|Transportation|Electricity\", ModelScenario = np.array(XRmeta.ModelScenario)[np.array(XRmeta.Category) == c], Time=y).Value)\n",
    "tot = np.array(XRraw.sel(Variable=\"Final Energy|Transportation\", ModelScenario = np.array(XRmeta.ModelScenario)[np.array(XRmeta.Category) == c], Time=y).Value)\n",
    "plt.plot(bio/tot, ele/tot, '.')\n",
    "plt.show()\n",
    "print(pd.DataFrame(np.array([h2/tot, ele/tot, bio/tot]).T).corr())\n",
    "print(pd.DataFrame(np.array([h2, ele, bio]).T).corr())"
   ]
  },
  {
   "cell_type": "code",
   "execution_count": 70,
   "metadata": {},
   "outputs": [
    {
     "data": {
      "image/png": "[encoded data removed]",
      "text/plain": [
       "<Figure size 640x480 with 1 Axes>"
      ]
     },
     "metadata": {},
     "output_type": "display_data"
    },
    {
     "name": "stdout",
     "output_type": "stream",
     "text": [
      "          0         1         2\n",
      "0  1.000000  0.219891  0.286356\n",
      "1  0.219891  1.000000 -0.222128\n",
      "2  0.286356 -0.222128  1.000000\n",
      "          0         1         2\n",
      "0  1.000000 -0.073559  0.043807\n",
      "1 -0.073559  1.000000 -0.430726\n",
      "2  0.043807 -0.430726  1.000000\n"
     ]
    }
   ],
   "source": [
    "y = 2050\n",
    "bio = np.array(XRraw.sel(Variable=\"Final Energy|Transportation|Liquids|Bioenergy\", Time=y).Value)\n",
    "h2 = np.array(XRraw.sel(Variable=\"Final Energy|Transportation|Hydrogen\",  Time=y).Value)\n",
    "ele = np.array(XRraw.sel(Variable=\"Final Energy|Transportation|Electricity\", Time=y).Value)\n",
    "tot = np.array(XRraw.sel(Variable=\"Final Energy|Transportation\", Time=y).Value)\n",
    "plt.plot(bio, ele, '.')\n",
    "plt.show()\n",
    "print(pd.DataFrame(np.array([h2/tot, ele/tot, bio/tot]).T).corr())\n",
    "print(pd.DataFrame(np.array([h2, ele, bio]).T).corr())"
   ]
  },
  {
   "cell_type": "code",
   "execution_count": 71,
   "metadata": {},
   "outputs": [
    {
     "data": {
      "text/plain": [
       "(array([ 1.,  0.,  0.,  0.,  1., 10., 22.,  2.,  1.,  8.,  4., 13., 10.,\n",
       "         8., 14.,  6.,  4., 17.,  5., 12., 15., 37., 50., 39., 27., 24.,\n",
       "        35., 43., 17., 28., 24., 60., 33., 35., 29., 49., 30., 52., 26.,\n",
       "        34., 28., 30., 32., 16., 23., 13., 14., 12., 15., 23., 12., 12.,\n",
       "        13., 21., 16., 17., 11., 10.,  5.,  3., 11.,  8.,  2.,  2.,  3.,\n",
       "         1.,  2.,  1.,  5.,  2.,  0.,  0.,  0.,  1.,  0.,  1.,  1.,  1.,\n",
       "         0.,  0.,  0.,  0.,  0.,  0.,  0.,  0.,  0.,  0.,  0.,  0.,  0.,\n",
       "         0.,  0.,  0.,  0.,  0.,  0.,  0.,  0.,  1.]),\n",
       " array([ 93.59774917,  96.94725729, 100.29676541, 103.64627353,\n",
       "        106.99578165, 110.34528977, 113.69479789, 117.04430601,\n",
       "        120.39381413, 123.74332225, 127.09283038, 130.4423385 ,\n",
       "        133.79184662, 137.14135474, 140.49086286, 143.84037098,\n",
       "        147.1898791 , 150.53938722, 153.88889534, 157.23840346,\n",
       "        160.58791158, 163.93741971, 167.28692783, 170.63643595,\n",
       "        173.98594407, 177.33545219, 180.68496031, 184.03446843,\n",
       "        187.38397655, 190.73348467, 194.08299279, 197.43250092,\n",
       "        200.78200904, 204.13151716, 207.48102528, 210.8305334 ,\n",
       "        214.18004152, 217.52954964, 220.87905776, 224.22856588,\n",
       "        227.578074  , 230.92758212, 234.27709025, 237.62659837,\n",
       "        240.97610649, 244.32561461, 247.67512273, 251.02463085,\n",
       "        254.37413897, 257.72364709, 261.07315521, 264.42266333,\n",
       "        267.77217145, 271.12167958, 274.4711877 , 277.82069582,\n",
       "        281.17020394, 284.51971206, 287.86922018, 291.2187283 ,\n",
       "        294.56823642, 297.91774454, 301.26725266, 304.61676079,\n",
       "        307.96626891, 311.31577703, 314.66528515, 318.01479327,\n",
       "        321.36430139, 324.71380951, 328.06331763, 331.41282575,\n",
       "        334.76233387, 338.11184199, 341.46135012, 344.81085824,\n",
       "        348.16036636, 351.50987448, 354.8593826 , 358.20889072,\n",
       "        361.55839884, 364.90790696, 368.25741508, 371.6069232 ,\n",
       "        374.95643132, 378.30593945, 381.65544757, 385.00495569,\n",
       "        388.35446381, 391.70397193, 395.05348005, 398.40298817,\n",
       "        401.75249629, 405.10200441, 408.45151253, 411.80102066,\n",
       "        415.15052878, 418.5000369 , 421.84954502, 425.19905314,\n",
       "        428.54856126]),\n",
       " <BarContainer object of 100 artists>)"
      ]
     },
     "execution_count": 71,
     "metadata": {},
     "output_type": "execute_result"
    },
    {
     "data": {
      "image/png": "[encoded data removed]",
      "text/plain": [
       "<Figure size 640x480 with 1 Axes>"
      ]
     },
     "metadata": {},
     "output_type": "display_data"
    }
   ],
   "source": [
    "plt.hist(ar, bins=100)"
   ]
  },
  {
   "cell_type": "code",
   "execution_count": 72,
   "metadata": {},
   "outputs": [],
   "source": [
    "XR = XRvar.sel(Variable = vars[cats == \"Primary Energy\"])\n",
    "DF_counts = pd.read_csv(\"X:/user/dekkerm/Projects/AR6_Variance/variancedecomposition/Data/Counts.csv\", index_col=0)\n",
    "XR = XR.sel(Time=range(2030,2101))\n",
    "varlist = XR.Variable.data\n",
    "years = XR.Time.data\n",
    "varmax = np.max(XR['Var_total']).data\n",
    "cols = ['forestgreen', 'tomato', 'steelblue', 'goldenrod', 'purple', 'grey', 'brown',\n",
    "        'magenta', 'red', 'darkgrey', 'blue', 'black', 'darkgreen']\n",
    "years_str = np.copy(years).astype(str)\n",
    "years_str[(years_str != '2050') & (years_str != '2100')] = ''"
   ]
  },
  {
   "cell_type": "code",
   "execution_count": 73,
   "metadata": {},
   "outputs": [],
   "source": [
    "tot = np.array(XR.sel(Time=2050).S_c)+np.array(XR.sel(Time=2050).S_z)+np.array(XR.sel(Time=2050).S_m)\n",
    "ar = np.array([np.array(XR.Variable),\n",
    "(np.array(XR.sel(Time=timestamp).S_m)/tot).round(2),\n",
    "(np.array(XR.sel(Time=timestamp).S_c)/tot).round(2),\n",
    "(np.array(XR.sel(Time=timestamp).S_z)/tot).round(2)])\n",
    "\n",
    "colors = n_colors('rgb(255, 200, 200)', 'rgb(200, 0, 0)', 100, colortype='rgb')\n",
    "bar = px.colors.diverging.RdBu_r\n",
    "colors = []\n",
    "for i in range(len(bar)-1):\n",
    "        colors = colors+n_colors(px.colors.diverging.RdBu_r[i], px.colors.diverging.RdBu_r[i+1], int(100/len(bar)), colortype='rgb')\n",
    "colors = colors+n_colors(px.colors.diverging.RdBu_r[i+1], px.colors.diverging.RdBu_r[i+1], int(100/len(bar)), colortype='rgb')\n",
    "ar100 = (ar[1:]*100).astype(int)"
   ]
  },
  {
   "cell_type": "code",
   "execution_count": 74,
   "metadata": {},
   "outputs": [],
   "source": [
    "def rescale_size(s, max):\n",
    "    s /= max\n",
    "    s *= 1e11\n",
    "    s = s ** 0.1\n",
    "    return s"
   ]
  },
  {
   "cell_type": "markdown",
   "metadata": {},
   "source": [
    "## Create traces"
   ]
  },
  {
   "cell_type": "code",
   "execution_count": 75,
   "metadata": {},
   "outputs": [],
   "source": [
    "scatters = []\n",
    "tables = []\n",
    "scatterlines = []\n",
    "symbols = [u'\\u2600', u\"\\U0001F5F2\"]\n",
    "namecolors = [['darkgreen', 'limegreen'], ['goldenrod', 'gold']]\n",
    "\n",
    "for n_i, name in enumerate(['Primary Energy', 'Electricity Generation']):\n",
    "    varlist_abs = list(vars[cats == name])\n",
    "    varlist_fr = [c+\" (fr)\" for c in vars[cats == name][1:]]\n",
    "    varlist_all = varlist_abs+varlist_fr\n",
    "\n",
    "    xrsub_all = XRvarsub.sel(Variable = varlist_all)\n",
    "    xrsub_fr = XRvarsub.sel(Variable = varlist_fr)\n",
    "    xrsub_abs = XRvarsub.sel(Variable = varlist_abs)\n",
    "\n",
    "    # NAMING\n",
    "    varlist_abs_naming = np.copy(varlist_abs)\n",
    "    if name == 'Electricity Generation' or name == 'Electricity Generation (fr)':\n",
    "        for v_i in range(len(varlist_abs_naming)):\n",
    "            if varlist_abs_naming[v_i] == 'Secondary Energy|Electricity':\n",
    "                varlist_abs_naming[v_i] = 'Total'\n",
    "            elif varlist_abs_naming[v_i] == 'Secondary Energy|Electricity|Gas|w/o CCS':\n",
    "                varlist_abs_naming[v_i] = 'Gas (without CCS)'\n",
    "            elif varlist_abs_naming[v_i] == 'Secondary Energy|Electricity|Gas|w/ CCS':\n",
    "                varlist_abs_naming[v_i] = 'Gas (with CCS)'\n",
    "            elif varlist_abs_naming[v_i] == 'Secondary Energy|Electricity|Coal|w/o CCS':\n",
    "                varlist_abs_naming[v_i] = 'Coal (without CCS)'\n",
    "            elif varlist_abs_naming[v_i] == 'Secondary Energy|Electricity|Coal|w/ CCS':\n",
    "                varlist_abs_naming[v_i] = 'Coal (with CCS)'\n",
    "            elif varlist_abs_naming[v_i] == 'Secondary Energy|Electricity|Biomass|w/ CCS':\n",
    "                varlist_abs_naming[v_i] = 'Biomass (with CCS)'\n",
    "            elif varlist_abs_naming[v_i] == 'Secondary Energy|Electricity|Biomass|w/o CCS':\n",
    "                varlist_abs_naming[v_i] = 'Biomass (without CCS)'\n",
    "            else:\n",
    "                varlist_abs_naming[v_i] = varlist_abs_naming[v_i][29:]\n",
    "    if name == 'Primary Energy' or name == 'Primary Energy (fr)':\n",
    "        for v_i in range(len(varlist_abs_naming)):\n",
    "            if varlist_abs_naming[v_i] == 'Primary Energy':\n",
    "                varlist_abs_naming[v_i] = 'Total'\n",
    "            else:\n",
    "                varlist_abs_naming[v_i] = varlist_abs_naming[v_i][15:]\n",
    "\n",
    "    # TABLES\n",
    "    table_args = []\n",
    "    table_args.append(varlist_abs_naming)\n",
    "    abs = (np.array(xrsub_abs.S_m)+0.5*np.array(xrsub_abs.S_mc)).round(2).astype(str)\n",
    "    fr = (np.array(xrsub_fr.S_m)+0.5*np.array(xrsub_fr.S_mc)).round(2).astype(str)\n",
    "    tot = []\n",
    "    tot.append(abs[0])\n",
    "    for v in range(len(fr)):\n",
    "        tot.append(abs[1+v]+ ' / ' +fr[v])\n",
    "    table_args.append(tot)\n",
    "    abs = (np.array(xrsub_abs.S_c)+0.5*np.array(xrsub_abs.S_mc)).round(2).astype(str)\n",
    "    fr = (np.array(xrsub_fr.S_c)+0.5*np.array(xrsub_fr.S_mc)).round(2).astype(str)\n",
    "    tot = []\n",
    "    tot.append(abs[0])\n",
    "    for v in range(len(fr)):\n",
    "        tot.append(abs[1+v]+ ' / ' +fr[v])\n",
    "    table_args.append(tot)\n",
    "    abs = (np.array(xrsub_abs.S_z)).round(2).astype(str)\n",
    "    fr = (np.array(xrsub_fr.S_z)).round(2).astype(str)\n",
    "    tot = []\n",
    "    tot.append(abs[0])\n",
    "    for v in range(len(fr)):\n",
    "        tot.append(abs[1+v]+ ' / ' +fr[v])\n",
    "    table_args.append(tot)\n",
    "    table_args = np.array(table_args)\n",
    "    \n",
    "    ar = np.array([varlist_abs_naming,\n",
    "                   (np.array(xrsub_abs.S_m)+0.5*np.array(xrsub_abs.S_mc)).round(2),\n",
    "                   (np.array(xrsub_abs.S_c)+0.5*np.array(xrsub_abs.S_mc)).round(2),\n",
    "                   (np.array(xrsub_abs.S_z)).round(2)])\n",
    "\n",
    "    colors = n_colors('rgb(255, 200, 200)', 'rgb(200, 0, 0)', 100, colortype='rgb')\n",
    "    bar = px.colors.diverging.RdBu_r\n",
    "    colors = []\n",
    "    for i in range(len(bar)-1):\n",
    "        colors = colors+n_colors(px.colors.diverging.RdBu_r[i], px.colors.diverging.RdBu_r[i+1], int(100/len(bar)), colortype='rgb')\n",
    "    colors = colors+n_colors(px.colors.diverging.RdBu_r[i+1], px.colors.diverging.RdBu_r[i+1], int(100/len(bar)), colortype='rgb')\n",
    "    ar100 = 10+(ar[1:].astype(float)*70).astype(int)+10\n",
    "    head = name\n",
    "    if name == 'Electricity Generation':\n",
    "        head = \"Electricity\"\n",
    "    tables.append(go.Table(columnwidth = [2, 1, 1, 1],\n",
    "                        header = dict(values = [['<b>'+head+' '+symbols[n_i]+'</b>'],\n",
    "                                      [\"<b>Model</b>\"],\n",
    "                                      ['<b>Climate</b>'],\n",
    "                                      ['<b>Other</b>']],\n",
    "                                      line_color='white',\n",
    "                                      fill_color=[namecolors[n_i][0], 'white', 'white', 'white'],\n",
    "                                      align=['center','center','center','center'],\n",
    "                                      font=dict(color='black', size=12),\n",
    "                                      height=22\n",
    "                                     ),\n",
    "                        cells=dict(values=table_args[:, ar[srt].astype(float).argsort()[::-1]],\n",
    "                                   line={'color': 'black', 'width': 0},\n",
    "                                   align=['center','center','center','center'],\n",
    "                                   fill_color=['white', \n",
    "                                               np.array(colors)[ar100[:, ar[srt].astype(float).argsort()[::-1]][0]],\n",
    "                                               np.array(colors)[ar100[:, ar[srt].astype(float).argsort()[::-1]][1]],\n",
    "                                               np.array(colors)[ar100[:, ar[srt].astype(float).argsort()[::-1]][2]]],\n",
    "                                   font={#'family' : [\"Arial\", \"Arial Black\", \"Arial Black\", \"Arial Black\"],\n",
    "                                         'color': 'black',\n",
    "                                         'size': 11},\n",
    "                                   height=22\n",
    "                                  )\n",
    "                       ))\n",
    "    \n",
    "    # SCATTERS\n",
    "    for v in range(len(varlist_abs)-1):\n",
    "        coords = []\n",
    "        for f_i in range(2):\n",
    "            if f_i == 0: # abs\n",
    "                ds = xrsub_abs.sel(Variable=varlist_abs[v+1])\n",
    "                var = varlist_abs_naming[v+1]\n",
    "            elif f_i == 1: # fr\n",
    "                ds = xrsub_fr.sel(Variable=varlist_fr[v])\n",
    "                var = varlist_abs_naming[v+1]+\" (fr)\"\n",
    "            a, b, c, d, s = np.array(ds[['S_c', 'S_m', 'S_z', 'S_mc', 'Var_total']].to_array())\n",
    "            s = 20# 2*rescale_size(float(s/XRraw.sel(Time=timestamp, Variable=varlist[v]).Value.mean(axis=0)), varmax)\n",
    "            lw = 1 # s/10\n",
    "            maxsize = 30\n",
    "            coords.append([a+0.5*d, b+0.5*d, c])\n",
    "            scatters.append(go.Scatterternary(a=[a+0.5*d], b=[b+0.5*d], c=[c],\n",
    "                                            mode='markers', name=var, showlegend=False, text=[timestamp],\n",
    "                                            hovertemplate='%{text}<br>Var (climate): %{a}<br>Var (model): %{b} <br>Var (other): %{c}',\n",
    "                                            marker={'size': 0.1, 'symbol': \"circle\", 'color': namecolors[n_i][f_i], 'opacity': 1, 'line' :dict(width=lw, color='black')},\n",
    "                                            line={'width': 1.5},\n",
    "                                            textfont=dict(size=1, color=namecolors[n_i])))\n",
    "            if name == 'Electricity Generation':\n",
    "                scatters.append(go.Scatterternary(a=[a+0.5*d], b=[b+0.5*d], c=[c],\n",
    "                                mode='text', textfont={'size': maxsize, 'color': namecolors[n_i][f_i]},\n",
    "                                text=[u\"\\U0001F5F2\"], showlegend=False))\n",
    "            if name == 'Primary Energy':\n",
    "                scatters.append(go.Scatterternary(a=[a+0.5*d], b=[b+0.5*d], c=[c],\n",
    "                                mode='text', textfont={'size': maxsize, 'color': namecolors[n_i][f_i]},\n",
    "                                text=[u\"\\u2600\"], showlegend=False))\n",
    "    \n",
    "        # LINES BETWEEN SCATTERS\n",
    "        coords = np.array(coords)\n",
    "        scatters.append(go.Scatterternary(a=coords[:, 0], b=coords[:, 1], c=coords[:, 2],\n",
    "                        mode='lines', hoverinfo=\"skip\", line={'width': 1, \"color\": namecolors[n_i][0], \"dash\": \"dot\"},\n",
    "                        text=\"\", showlegend=False))\n",
    "        \n"
   ]
  },
  {
   "cell_type": "code",
   "execution_count": 76,
   "metadata": {},
   "outputs": [],
   "source": [
    "# scatters = []\n",
    "# tables = []\n",
    "# namecolors = [['darkgreen', 'limegreen'], ['goldenrod', 'gold']]\n",
    "# symbols = [u'\\u2600', u\"\\U0001F5F2\"]\n",
    "# namesymbols = ['circle', 'diamond-wide', 'star', 'square', 'cross', 'star-triangle-up', 'diamond-tall']\n",
    "\n",
    "# for n_i, name in enumerate(['Primary Energy', 'Electricity Generation']):\n",
    "\n",
    "#     xrsub = XRvarsub.sel(Variable = list(vars[cats == name]) + [c+\" (fr)\" for c in vars[cats == name][1:]])\n",
    "\n",
    "#     # Table\n",
    "#     tot = 1#np.array(xrsub.S_c)+np.array(xrsub.S_z)+np.array(xrsub.S_m)\n",
    "#     var = vars[cats == name]# = np.array(xrsub.Variable)\n",
    "#     if name == 'Electricity Generation' or name == 'Electricity Generation (fr)':\n",
    "#         for v_i in range(len(var)):\n",
    "#             if var[v_i] == 'Secondary Energy|Electricity':\n",
    "#                 var[v_i] = 'Total'\n",
    "#             elif var[v_i] == 'Secondary Energy|Electricity|Gas|w/o CCS':\n",
    "#                 var[v_i] = 'Gas (without CCS)'\n",
    "#             elif var[v_i] == 'Secondary Energy|Electricity|Gas|w/ CCS':\n",
    "#                 var[v_i] = 'Gas (with CCS)'\n",
    "#             elif var[v_i] == 'Secondary Energy|Electricity|Coal|w/o CCS':\n",
    "#                 var[v_i] = 'Coal (without CCS)'\n",
    "#             elif var[v_i] == 'Secondary Energy|Electricity|Coal|w/ CCS':\n",
    "#                 var[v_i] = 'Coal (with CCS)'\n",
    "#             elif var[v_i] == 'Secondary Energy|Electricity|Biomass|w/ CCS':\n",
    "#                 var[v_i] = 'Biomass (with CCS)'\n",
    "#             elif var[v_i] == 'Secondary Energy|Electricity|Biomass|w/o CCS':\n",
    "#                 var[v_i] = 'Biomass (without CCS)'\n",
    "#             else:\n",
    "#                 var[v_i] = var[v_i][29:]\n",
    "#     if name == 'Primary Energy' or name == 'Primary Energy (fr)':\n",
    "#         for v_i in range(len(var)):\n",
    "#             if var[v_i] == 'Primary Energy':\n",
    "#                 var[v_i] = 'Total'\n",
    "#             else:\n",
    "#                 var[v_i] = var[v_i][15:]\n",
    "#     ar = np.array([var,\n",
    "#                    (np.array(xrsub.S_m)+0.5*np.array(xrsub.S_mc)/tot).round(2),\n",
    "#                    (np.array(xrsub.S_c)+0.5*np.array(xrsub.S_mc)/tot).round(2),\n",
    "#                    (np.array(xrsub.S_z)/tot).round(2)])\n",
    "#     colors = n_colors('rgb(255, 200, 200)', 'rgb(200, 0, 0)', 100, colortype='rgb')\n",
    "#     bar = px.colors.diverging.RdBu_r\n",
    "#     colors = []\n",
    "#     for i in range(len(bar)-1):\n",
    "#         colors = colors+n_colors(px.colors.diverging.RdBu_r[i], px.colors.diverging.RdBu_r[i+1], int(100/len(bar)), colortype='rgb')\n",
    "#     colors = colors+n_colors(px.colors.diverging.RdBu_r[i+1], px.colors.diverging.RdBu_r[i+1], int(100/len(bar)), colortype='rgb')\n",
    "#     ar100 = 10+(ar[1:]*70).astype(int)\n",
    "#     head = name\n",
    "#     if name == 'Electricity Generation':\n",
    "#         head = \"Electricity\"\n",
    "#     tables.append(go.Table(columnwidth = [4, 1, 1, 1],\n",
    "#                         header = dict(values = [['<b>'+head+' '+symbols[n_i]+'</b>'],\n",
    "#                                       [\"<b>Model</b>\"],\n",
    "#                                       ['<b>Climate</b>'],\n",
    "#                                       ['<b>Other</b>']],\n",
    "#                                       line_color='white',\n",
    "#                                       fill_color=[namecolors[n_i], 'white', 'white', 'white'],\n",
    "#                                       align=['center','center','center','center'],\n",
    "#                                       font=dict(color='black', size=12),\n",
    "#                                       height=22\n",
    "#                                      ),\n",
    "#                         cells=dict(values=ar[:, ar[srt].argsort()[::-1]],\n",
    "#                                    line={'color': 'black', 'width': 0},\n",
    "#                                    align=['center','center','center','center'],\n",
    "#                                    fill_color=['white', \n",
    "#                                                np.array(colors)[ar100[:, ar[srt].argsort()[::-1]][0]],\n",
    "#                                                np.array(colors)[ar100[:, ar[srt].argsort()[::-1]][1]],\n",
    "#                                                np.array(colors)[ar100[:, ar[srt].argsort()[::-1]][2]]],\n",
    "#                                    font={#'family' : [\"Arial\", \"Arial Black\", \"Arial Black\", \"Arial Black\"],\n",
    "#                                          'color': 'black',\n",
    "#                                          'size': 11},\n",
    "#                                    height=22\n",
    "#                                   )\n",
    "#                        ))\n",
    "\n",
    "#     # Scatter\n",
    "#     varlist = np.array(vars[cats == name])\n",
    "#     for v in range(len(varlist)):\n",
    "#             coords = []\n",
    "#             ds = xrsub.sel(Variable=varlist[v])\n",
    "#             a, b, c, d, s = np.array(ds[['S_c', 'S_m', 'S_z', 'S_mc', 'Var_total']].to_array())\n",
    "#             s = 20# 2*rescale_size(float(s/XRraw.sel(Time=timestamp, Variable=varlist[v]).Value.mean(axis=0)), varmax)\n",
    "#             lw = 1 # s/10\n",
    "\n",
    "#             maxsize2 = 42\n",
    "#             if varlist[v] in ['Primary Energy|Coal',\n",
    "#                               'Secondary Energy|Electricity|Coal']:\n",
    "#                 da = 0\n",
    "#                 if varlist[v] == \"Emissions|Kyoto Gases\": da = 0.06\n",
    "#                 lw = 0\n",
    "#                 scatters.append(go.Scatterternary(a=[a+0.5*d+da], b=[b+0.5*d], c=[c],\n",
    "#                                                 hoverinfo='skip',\n",
    "#                                                 mode='markers', marker={'size': maxsize2-6, 'symbol': 'circle-open', 'color': namecolors[n_i]},\n",
    "#                                                 marker_line_width = 3,\n",
    "#                                                 showlegend=False))\n",
    "#                 scatters.append(go.Scatterternary(a=[a+0.5*d+da], b=[b+0.5*d], c=[c],\n",
    "#                                                 hoverinfo='skip',\n",
    "#                                                 mode='markers', marker={'size': maxsize2, 'symbol': 'circle-open', 'color': 'black'},\n",
    "#                                                 marker_line_width = 3,\n",
    "#                                                 showlegend=False))\n",
    "#             scatters.append(go.Scatterternary(a=[a+0.5*d], b=[b+0.5*d], c=[c],\n",
    "#                                             mode='markers', name=varlist[v], showlegend=False, text=[timestamp],\n",
    "#                                             hovertemplate='%{text}<br>Var (climate): %{a}<br>Var (model): %{b} <br>Var (other): %{c}',\n",
    "#                                             marker={'size': 0.1, 'symbol': namesymbols[n_i], 'color': namecolors[n_i], 'opacity': 1, 'line' :dict(width=lw, color='black')},\n",
    "#                                             line={'width': 1.5},\n",
    "#                                             textfont=dict(size=1, color=namecolors[n_i])))\n",
    "#             maxsize = 30\n",
    "#             if name == 'Electricity Generation':\n",
    "#                 scatters.append(go.Scatterternary(a=[a+0.5*d], b=[b+0.5*d], c=[c],\n",
    "#                                 mode='text', textfont={'size': maxsize, 'color': namecolors[n_i]},\n",
    "#                                 text=[u\"\\U0001F5F2\"], showlegend=False))\n",
    "#             if name == 'Primary Energy':\n",
    "#                 scatters.append(go.Scatterternary(a=[a+0.5*d], b=[b+0.5*d], c=[c],\n",
    "#                                 mode='text', textfont={'size': maxsize, 'color': namecolors[n_i]},\n",
    "#                                 text=[u\"\\u2600\"], showlegend=False))\n",
    "# #['Emissions', 'Primary Energy', 'Electricity Generation', 'Sector Industry', 'Sector Transportation', 'Sector Residential']\n"
   ]
  },
  {
   "cell_type": "markdown",
   "metadata": {},
   "source": [
    "Ternary plot"
   ]
  },
  {
   "cell_type": "code",
   "execution_count": 77,
   "metadata": {},
   "outputs": [
    {
     "name": "stderr",
     "output_type": "stream",
     "text": [
      "C:\\Users\\dekkerm\\AppData\\Local\\Temp\\2\\ipykernel_10300\\4024270652.py:6: MatplotlibDeprecationWarning:\n",
      "\n",
      "The get_cmap function was deprecated in Matplotlib 3.7 and will be removed two minor releases later. Use ``matplotlib.colormaps[name]`` or ``matplotlib.colormaps.get_cmap(obj)`` instead.\n",
      "\n"
     ]
    }
   ],
   "source": [
    "trace_ternary_lines = []\n",
    "for i in range(10):\n",
    "        a = [0+i*0.1, 0+i*0.1]\n",
    "        b = [0, 1-a[0]]\n",
    "        c = [1-a[0], 0]\n",
    "        rgb = mpl.colors.colorConverter.to_rgb(plt.cm.get_cmap('Greys')(0.+i/20))\n",
    "        col = 'rgb('+str(rgb[0])+','+str(rgb[1])+','+str(rgb[2])+')'\n",
    "        trace_ternary_lines.append(go.Scatterternary(a=a, b=b, c=c, showlegend=False, mode='lines', hoverinfo='skip', line={'width': 0.25+i*0.1, 'color': col}))\n",
    "        trace_ternary_lines.append(go.Scatterternary(a=b, b=a, c=c, showlegend=False, mode='lines', hoverinfo='skip', line={'width': 0.25+i*0.1, 'color': col}))\n",
    "        trace_ternary_lines.append(go.Scatterternary(a=b, b=c, c=a, showlegend=False, mode='lines', hoverinfo='skip', line={'width': 0.25+i*0.1, 'color': col}))\n",
    "\n",
    "trace_ternary_border = []\n",
    "#trace_ternary_border.append(go.Scatterternary(a=[0.005, 0.005], b=[0, 0.25], c=[0.25, 0], showlegend=False, mode='lines', hoverinfo='skip', line={'width': 2, 'color': 'black'}))\n",
    "#trace_ternary_border.append(go.Scatterternary(a=[0, 0.5], b=[0.005, 0.005], c=[0.5, 0], showlegend=False, mode='lines', hoverinfo='skip', line={'width': 2, 'color': 'black'}))\n",
    "#trace_ternary_border.append(go.Scatterternary(a=[0, 1], b=[1, 0], c=[0.005, 0.005], showlegend=False, mode='lines', hoverinfo='skip', line={'width': 2, 'color': 'black'}))"
   ]
  },
  {
   "cell_type": "markdown",
   "metadata": {},
   "source": [
    "Contours"
   ]
  },
  {
   "cell_type": "code",
   "execution_count": 78,
   "metadata": {},
   "outputs": [],
   "source": [
    "def clean_data(data_in):\n",
    "    \"\"\"\n",
    "    Cleans data in a format which can be conveniently\n",
    "    used for drawing traces. Takes a dictionary as the\n",
    "    input, and returns a list in the following format:\n",
    "\n",
    "    input = {'key': ['a b c']}\n",
    "    output = [key, [a, b, c]]\n",
    "    \"\"\"\n",
    "    key = list(data_in.keys())[0]\n",
    "    data_out = [key]\n",
    "    for i in data_in[key]:\n",
    "        data_out.append(list(map(float, i.split(' '))))\n",
    "\n",
    "    return data_out"
   ]
  },
  {
   "cell_type": "markdown",
   "metadata": {},
   "source": [
    "Contour version 2"
   ]
  },
  {
   "cell_type": "code",
   "execution_count": 79,
   "metadata": {},
   "outputs": [],
   "source": [
    "conts = []\n",
    "for i in np.arange(35, 51, 5):\n",
    "    conts.append({str(i): [str(i) +' '+str(i)+' '+str(100-2*i),\n",
    "                  str(i) +' '+str(100-2*i)+' '+str(i),\n",
    "                  str(100-2*i) +' '+str(i)+' '+str(i)]})\n",
    "for i in np.arange(55, 101, 5):\n",
    "    i0 = str(i)\n",
    "    i1 = str(100-i)\n",
    "    conts.append({str(i): [i0+' '+i1+' 0',\n",
    "                            i0+' 0 '+i1,\n",
    "                            i1+' 0 '+i0,\n",
    "                            '0 '+i1+' '+i0,\n",
    "                            '0 '+i0+' '+i1,\n",
    "                            i1+' '+i0+' 0',\n",
    "                            i0+' '+i1+' 0']})"
   ]
  },
  {
   "cell_type": "code",
   "execution_count": 80,
   "metadata": {},
   "outputs": [],
   "source": [
    "conts2 = []\n",
    "for i in np.arange(35, 51, 5):\n",
    "    conts2.append({str(i): [str(i) +' '+str(i)+' '+str(100-2*i),\n",
    "                  str(i) +' '+str(100-2*i)+' '+str(i),\n",
    "                  str(100-2*i) +' '+str(i)+' '+str(i)]})\n",
    "for x in np.arange(55, 101, 5):\n",
    "    conts2.append({str(i): [str(x)+' '+'0'+' '+str(100-x),\n",
    "                               str(x-5)+' '+'0'+' '+str(100-(x-5)),\n",
    "                               str(x-5)+' '+str(100-(x-5))+' '+'0',\n",
    "                               str(x)+' '+str(100-x)+' '+'0',\n",
    "                               str(x)+' '+'0'+' '+str(100-x)\n",
    "                                ]})\n",
    "    conts2.append({str(i): ['0'+' '+str(100-x)+' '+str(x),\n",
    "                               '0'+' '+str(100-(x-5))+' '+str(x-5),\n",
    "                               str(100-(x-5))+' '+'0'+' '+str(x-5),\n",
    "                               str(100-x)+' '+'0'+' '+str(x),\n",
    "                               '0'+' '+str(100-x)+' '+str(x)\n",
    "                                ]})\n",
    "    conts2.append({str(i): [str(100-x)+' '+str(x)+' '+'0',\n",
    "                               str(100-(x-5))+' '+str(x-5)+' '+'0',\n",
    "                               '0'+' '+str(x-5)+' '+str(100-(x-5)),\n",
    "                               '0'+' '+str(x)+' '+str(100-x),\n",
    "                               str(100-x)+' '+str(x)+' '+'0'\n",
    "                                ]})"
   ]
  },
  {
   "cell_type": "markdown",
   "metadata": {},
   "source": [
    "Blue contours"
   ]
  },
  {
   "cell_type": "code",
   "execution_count": 81,
   "metadata": {},
   "outputs": [],
   "source": [
    "blueconts = []\n",
    "for x in np.arange(55, 101, 5):\n",
    "    blueconts.append({str(i): [str(x)+' '+'0'+' '+str(100-x),\n",
    "                               str(x-5)+' '+'0'+' '+str(100-(x-5)),\n",
    "                               str(x-5)+' '+str((100-(x-5))/2)+' '+str((100-(x-5))/2),\n",
    "                               str(x)+' '+str((100-x)/2)+' '+str((100-x)/2),\n",
    "                               str(x)+' '+'0'+' '+str(100-x)\n",
    "                                ]})"
   ]
  },
  {
   "cell_type": "code",
   "execution_count": 82,
   "metadata": {},
   "outputs": [],
   "source": [
    "bar = px.colors.diverging.RdBu_r\n",
    "bar = bar[2:-2]\n",
    "bar = bar[int(len(bar)/2)-2:]\n",
    "colors = []\n",
    "for i in range(len(bar)-1):\n",
    "    colors = colors+n_colors(bar[i], bar[i+1], int(200/len(bar)), colortype='rgb')\n",
    "colors = colors+n_colors(bar[i+1], bar[i+1], int(200/len(bar)), colortype='rgb')"
   ]
  },
  {
   "cell_type": "code",
   "execution_count": 83,
   "metadata": {},
   "outputs": [],
   "source": [
    "conttraces = []\n",
    "n = 0\n",
    "for raw_data in conts2:\n",
    "    data = clean_data(raw_data)\n",
    "\n",
    "    a = [inner_data[0] for inner_data in data[1:]]\n",
    "    a.append(data[1][0]) # Closing the loop\n",
    "\n",
    "    b = [inner_data[1] for inner_data in data[1:]]\n",
    "    b.append(data[1][1]) # Closing the loop\n",
    "\n",
    "    c = [inner_data[2] for inner_data in data[1:]]\n",
    "    c.append(data[1][2]) # Closing the loop\n",
    "\n",
    "    conttraces.append(go.Scatterternary(\n",
    "        text = data[0],\n",
    "        a=a, b=b, c=c, mode='lines',\n",
    "        line=dict(color='black', width=0),\n",
    "        fill='toself',showlegend=False, hoverinfo='skip', opacity=0.3, \n",
    "        fillcolor = colors[int(200/len(conts2)*n)]#colors_iterator.__next__()\n",
    "    ))\n",
    "    n+=1\n",
    "conttraces = conttraces[::-1]"
   ]
  },
  {
   "cell_type": "code",
   "execution_count": 84,
   "metadata": {},
   "outputs": [],
   "source": [
    "bar = px.colors.sequential.Greys # px.colors.diverging.RdBu_r\n",
    "#bar = bar[2:-2]\n",
    "#bar = bar[int(len(bar)/2)-2:]\n",
    "colors = []\n",
    "for i in range(len(bar)-1):\n",
    "    colors = colors+n_colors(bar[i], bar[i+1], int(200/len(bar)), colortype='rgb')\n",
    "colors = colors+n_colors(bar[i+1], bar[i+1], int(200/len(bar)), colortype='rgb')"
   ]
  },
  {
   "cell_type": "code",
   "execution_count": 85,
   "metadata": {},
   "outputs": [],
   "source": [
    "conttraces = []\n",
    "n = 0\n",
    "for raw_data in conts2:\n",
    "    data = clean_data(raw_data)\n",
    "\n",
    "    a = [inner_data[0] for inner_data in data[1:]]\n",
    "    a.append(data[1][0]) # Closing the loop\n",
    "\n",
    "    b = [inner_data[1] for inner_data in data[1:]]\n",
    "    b.append(data[1][1]) # Closing the loop\n",
    "\n",
    "    c = [inner_data[2] for inner_data in data[1:]]\n",
    "    c.append(data[1][2]) # Closing the loop\n",
    "\n",
    "    conttraces.append(go.Scatterternary(\n",
    "        text = data[0],\n",
    "        a=a, b=b, c=c, mode='lines',\n",
    "        line=dict(color='black', width=0),\n",
    "        fill='toself',showlegend=False, hoverinfo='skip', opacity=0.2, \n",
    "        fillcolor = colors[int(200/len(conts2)*n)]#colors_iterator.__next__()\n",
    "    ))\n",
    "    n+=1\n",
    "conttraces = conttraces[::-1]"
   ]
  },
  {
   "cell_type": "markdown",
   "metadata": {},
   "source": [
    "## Add together"
   ]
  },
  {
   "cell_type": "code",
   "execution_count": 86,
   "metadata": {},
   "outputs": [],
   "source": [
    "def draw_line(fig, name, x, y, xt, yt, color):\n",
    "    fig.add_shape(type=\"line\", xref='paper', yref='paper',\n",
    "                  x0=x,\n",
    "                  y0=x+xt,\n",
    "                  x1=x,\n",
    "                  y1=y+yt,\n",
    "                  line=dict(color=color, width=3))\n",
    "    fig.add_annotation(xref='paper',\n",
    "                       yref='paper',\n",
    "                       #xref = 'x4',\n",
    "                       #yref = 'y4',\n",
    "                       x=x,\n",
    "                       ax=xt,\n",
    "                       align=\"center\",\n",
    "                       y=y,\n",
    "                       ay=yt,\n",
    "                       text=name,\n",
    "                       #textangle=90,\n",
    "                       font=dict(color=color,\n",
    "                                 family='Arial Black',\n",
    "                                 size=12),\n",
    "                       showarrow=True)"
   ]
  },
  {
   "cell_type": "code",
   "execution_count": 87,
   "metadata": {},
   "outputs": [],
   "source": [
    "def draw_ann(fig, name, x, y, color, vert, hor):\n",
    "    align = 'left'\n",
    "    h = 1\n",
    "    if hor == 'left':\n",
    "        align = 'right'\n",
    "        h = -1\n",
    "    v = 1\n",
    "    if vert == 'down':\n",
    "        v = -1\n",
    "    dy = 0\n",
    "    if y>0.5:\n",
    "        dy = 0.02\n",
    "    dx = 0\n",
    "    if y> 0.9:\n",
    "        dx = -0.02\n",
    "    fig.add_shape(type=\"line\", xref='paper', yref='paper',\n",
    "                  x0=x,\n",
    "                  y0=y,\n",
    "                  x1=x+0.02*h,\n",
    "                  y1=y+0.02*v,\n",
    "                  line=dict(color='black', width=3))\n",
    "    fig.add_shape(type=\"line\", xref='paper', yref='paper',\n",
    "                  x0=x+[0, 0.15, -0.11][h],\n",
    "                  y0=y+0.02*v,\n",
    "                  x1=x+0.02*h,\n",
    "                  y1=y+0.02*v,\n",
    "                  line=dict(color='black', width=3))\n",
    "    fig.add_annotation(xref='paper',\n",
    "                       yref='paper',\n",
    "                       #xref = 'x4',\n",
    "                       #yref = 'y4',\n",
    "                       x=x+0.2*h+dx,\n",
    "                       ax=0,\n",
    "                       align=align,\n",
    "                       y=y+0.02*v+dy,\n",
    "                       ay=-0,\n",
    "                       text=name,\n",
    "                       #textangle=90,\n",
    "                       font=dict(color=color,\n",
    "                                 family='Arial Black',\n",
    "                                 size=12),\n",
    "                       showarrow=False)"
   ]
  },
  {
   "cell_type": "code",
   "execution_count": 88,
   "metadata": {},
   "outputs": [
    {
     "data": {
      "application/vnd.plotly.v1+json": {
       "config": {
        "plotlyServerURL": "https://plotly.com"
       },
       "data": [
        {
         "a": [
          0.5,
          0.5,
          0,
          0.5
         ],
         "b": [
          0,
          0.5,
          0.5,
          0
         ],
         "c": [
          0.5,
          0,
          0.5,
          0.5
         ],
         "hoverinfo": "skip",
         "line": {
          "color": "black",
          "width": 1
         },
         "marker": {
          "color": "black",
          "line": {
           "color": "rgba(89,168,89,1)",
           "width": 0
          },
          "opacity": 1,
          "size": 15
         },
         "mode": "lines",
         "showlegend": false,
         "subplot": "ternary",
         "textfont": {
          "color": "black",
          "size": 5
         },
         "type": "scatterternary"
        },
        {
         "cells": {
          "align": [
           "center",
           "center",
           "center",
           "center"
          ],
          "fill": {
           "color": [
            "white",
            [
             "rgb(177.5, 213.0, 231.0)",
             "rgb(213.75, 231.25, 240.875)",
             "rgb(228.0, 238.0, 243.5)",
             "rgb(201.125, 225.0, 237.75)",
             "rgb(232.75, 240.25, 244.375)",
             "rgb(247.75, 243.5, 241.0)",
             "rgb(252.25, 222.5, 205.0)",
             "rgb(236.5, 147.75, 116.75)",
             "rgb(251.875, 212.25, 190.375)",
             "rgb(244.0, 165.0, 130.0)",
             "rgb(214.0, 96.0, 77.0)"
            ],
            [
             "rgb(217.75, 104.625, 83.625)",
             "rgb(244.0, 165.0, 130.0)",
             "rgb(251.875, 212.25, 190.375)",
             "rgb(253.0, 219.0, 199.0)",
             "rgb(253.0, 219.0, 199.0)",
             "rgb(248.5, 240.0, 235.0)",
             "rgb(247.0, 247.0, 247.0)",
             "rgb(209.0, 229.0, 240.0)",
             "rgb(193.25, 221.0, 235.5)",
             "rgb(193.25, 221.0, 235.5)",
             "rgb(161.75, 205.0, 226.5)"
            ],
            [
             "rgb(146.0, 197.0, 222.0)",
             "rgb(161.75, 205.0, 226.5)",
             "rgb(201.125, 225.0, 237.75)",
             "rgb(232.75, 240.25, 244.375)",
             "rgb(201.125, 225.0, 237.75)",
             "rgb(209.0, 229.0, 240.0)",
             "rgb(185.375, 217.0, 233.25)",
             "rgb(153.875, 201.0, 224.25)",
             "rgb(232.75, 240.25, 244.375)",
             "rgb(193.25, 221.0, 235.5)",
             "rgb(161.75, 205.0, 226.5)"
            ]
           ]
          },
          "font": {
           "color": "black",
           "size": 11
          },
          "height": 22,
          "line": {
           "color": "black",
           "width": 0
          },
          "values": [
           [
            "Coal",
            "Oil",
            "Total",
            "Renewables (incl. Biomass)",
            "Gas",
            "Biomass",
            "Wind",
            "Hydro",
            "Nuclear",
            "Solar",
            "Geothermal"
           ],
           [
            "0.17 / 0.23",
            "0.25 / 0.3",
            "0.29",
            "0.21 / 0.2",
            "0.3 / 0.46",
            "0.38 / 0.28",
            "0.46 / 0.36",
            "0.65 / 0.4",
            "0.51 / 0.39",
            "0.62 / 0.53",
            "0.73 / 0.71"
           ],
           [
            "0.72 / 0.66",
            "0.61 / 0.53",
            "0.51",
            "0.49 / 0.56",
            "0.49 / 0.35",
            "0.39 / 0.55",
            "0.37 / 0.44",
            "0.24 / 0.48",
            "0.19 / 0.31",
            "0.19 / 0.3",
            "0.14 / 0.17"
           ],
           [
            "0.11 / 0.11",
            "0.14 / 0.17",
            "0.2",
            "0.3 / 0.24",
            "0.2 / 0.19",
            "0.23 / 0.17",
            "0.18 / 0.19",
            "0.12 / 0.13",
            "0.3 / 0.3",
            "0.19 / 0.17",
            "0.13 / 0.11"
           ]
          ]
         },
         "columnwidth": [
          2,
          1,
          1,
          1
         ],
         "domain": {
          "x": [
           0.624,
           1
          ],
          "y": [
           0.5,
           0.8333333333333333
          ]
         },
         "header": {
          "align": [
           "center",
           "center",
           "center",
           "center"
          ],
          "fill": {
           "color": [
            "darkgreen",
            "white",
            "white",
            "white"
           ]
          },
          "font": {
           "color": "black",
           "size": 12
          },
          "height": 22,
          "line": {
           "color": "white"
          },
          "values": [
           [
            "<b>Primary Energy ☀</b>"
           ],
           [
            "<b>Model</b>"
           ],
           [
            "<b>Climate</b>"
           ],
           [
            "<b>Other</b>"
           ]
          ]
         },
         "type": "table"
        },
        {
         "cells": {
          "align": [
           "center",
           "center",
           "center",
           "center"
          ],
          "fill": {
           "color": [
            "white",
            [
             "rgb(161.75, 205.0, 226.5)",
             "rgb(223.25, 235.75, 242.625)",
             "rgb(247.0, 247.0, 247.0)",
             "rgb(247.0, 247.0, 247.0)",
             "rgb(249.25, 236.5, 229.0)",
             "rgb(253.0, 219.0, 199.0)",
             "rgb(253.0, 219.0, 199.0)",
             "rgb(249.625, 198.75, 173.125)",
             "rgb(250.75, 205.5, 181.75)",
             "rgb(221.5, 113.25, 90.25)",
             "rgb(244.0, 165.0, 130.0)",
             "rgb(232.75, 139.125, 110.125)",
             "rgb(214.0, 96.0, 77.0)"
            ],
            [
             "rgb(214.0, 96.0, 77.0)",
             "rgb(249.625, 198.75, 173.125)",
             "rgb(251.5, 226.0, 211.0)",
             "rgb(248.5, 240.0, 235.0)",
             "rgb(247.75, 243.5, 241.0)",
             "rgb(247.0, 247.0, 247.0)",
             "rgb(228.0, 238.0, 243.5)",
             "rgb(201.125, 225.0, 237.75)",
             "rgb(201.125, 225.0, 237.75)",
             "rgb(193.25, 221.0, 235.5)",
             "rgb(193.25, 221.0, 235.5)",
             "rgb(169.625, 209.0, 228.75)",
             "rgb(146.0, 197.0, 222.0)"
            ],
            [
             "rgb(153.875, 201.0, 224.25)",
             "rgb(185.375, 217.0, 233.25)",
             "rgb(185.375, 217.0, 233.25)",
             "rgb(218.5, 233.5, 241.75)",
             "rgb(201.125, 225.0, 237.75)",
             "rgb(177.5, 213.0, 231.0)",
             "rgb(209.0, 229.0, 240.0)",
             "rgb(218.5, 233.5, 241.75)",
             "rgb(223.25, 235.75, 242.625)",
             "rgb(146.0, 197.0, 222.0)",
             "rgb(201.125, 225.0, 237.75)",
             "rgb(185.375, 217.0, 233.25)",
             "rgb(177.5, 213.0, 231.0)"
            ]
           ]
          },
          "font": {
           "color": "black",
           "size": 11
          },
          "height": 22,
          "line": {
           "color": "black",
           "width": 0
          },
          "values": [
           [
            "Coal (without CCS)",
            "Gas (without CCS)",
            "Renewables (incl. Biomass)",
            "Biomass (with CCS)",
            "Total",
            "Wind",
            "Gas (with CCS)",
            "Solar",
            "Nuclear",
            "Hydro",
            "Coal (with CCS)",
            "Geothermal",
            "Biomass (without CCS)"
           ],
           [
            "0.13 / 0.13",
            "0.28 / 0.32",
            "0.36 / 0.47",
            "0.35 / 0.35",
            "0.41",
            "0.49 / 0.68",
            "0.49 / 0.45",
            "0.53 / 0.58",
            "0.52 / 0.45",
            "0.71 / 0.74",
            "0.61 / 0.58",
            "0.67 / 0.64",
            "0.73 / 0.72"
           ],
           [
            "0.75 / 0.75",
            "0.54 / 0.55",
            "0.45 / 0.37",
            "0.39 / 0.34",
            "0.38",
            "0.35 / 0.2",
            "0.29 / 0.3",
            "0.21 / 0.17",
            "0.2 / 0.14",
            "0.19 / 0.12",
            "0.19 / 0.19",
            "0.15 / 0.14",
            "0.11 / 0.13"
           ],
           [
            "0.12 / 0.12",
            "0.18 / 0.13",
            "0.18 / 0.16",
            "0.26 / 0.31",
            "0.21",
            "0.16 / 0.12",
            "0.22 / 0.24",
            "0.26 / 0.25",
            "0.28 / 0.41",
            "0.1 / 0.14",
            "0.2 / 0.22",
            "0.18 / 0.23",
            "0.16 / 0.16"
           ]
          ]
         },
         "columnwidth": [
          2,
          1,
          1,
          1
         ],
         "domain": {
          "x": [
           0.624,
           1
          ],
          "y": [
           0.16666666666666666,
           0.5
          ]
         },
         "header": {
          "align": [
           "center",
           "center",
           "center",
           "center"
          ],
          "fill": {
           "color": [
            "goldenrod",
            "white",
            "white",
            "white"
           ]
          },
          "font": {
           "color": "black",
           "size": 12
          },
          "height": 22,
          "line": {
           "color": "white"
          },
          "values": [
           [
            "<b>Electricity 🗲</b>"
           ],
           [
            "<b>Model</b>"
           ],
           [
            "<b>Climate</b>"
           ],
           [
            "<b>Other</b>"
           ]
          ]
         },
         "type": "table"
        },
        {
         "a": [
          0,
          5,
          0,
          0,
          0,
          0
         ],
         "b": [
          100,
          95,
          95,
          100,
          100,
          100
         ],
         "c": [
          0,
          0,
          5,
          0,
          0,
          0
         ],
         "fill": "toself",
         "fillcolor": "rgb(0.0, 0.0, 0.0)",
         "hoverinfo": "skip",
         "line": {
          "color": "black",
          "width": 0
         },
         "mode": "lines",
         "opacity": 0.2,
         "showlegend": false,
         "subplot": "ternary",
         "text": "50",
         "type": "scatterternary"
        },
        {
         "a": [
          0,
          0,
          5,
          0,
          0,
          0
         ],
         "b": [
          0,
          5,
          0,
          0,
          0,
          0
         ],
         "c": [
          100,
          95,
          95,
          100,
          100,
          100
         ],
         "fill": "toself",
         "fillcolor": "rgb(0.0, 0.0, 0.0)",
         "hoverinfo": "skip",
         "line": {
          "color": "black",
          "width": 0
         },
         "mode": "lines",
         "opacity": 0.2,
         "showlegend": false,
         "subplot": "ternary",
         "text": "50",
         "type": "scatterternary"
        },
        {
         "a": [
          100,
          95,
          95,
          100,
          100,
          100
         ],
         "b": [
          0,
          0,
          5,
          0,
          0,
          0
         ],
         "c": [
          0,
          5,
          0,
          0,
          0,
          0
         ],
         "fill": "toself",
         "fillcolor": "rgb(0.0, 0.0, 0.0)",
         "hoverinfo": "skip",
         "line": {
          "color": "black",
          "width": 0
         },
         "mode": "lines",
         "opacity": 0.2,
         "showlegend": false,
         "subplot": "ternary",
         "text": "50",
         "type": "scatterternary"
        },
        {
         "a": [
          5,
          10,
          0,
          0,
          5,
          5
         ],
         "b": [
          95,
          90,
          90,
          95,
          95,
          95
         ],
         "c": [
          0,
          0,
          10,
          5,
          0,
          0
         ],
         "fill": "toself",
         "fillcolor": "rgb(0.0, 0.0, 0.0)",
         "hoverinfo": "skip",
         "line": {
          "color": "black",
          "width": 0
         },
         "mode": "lines",
         "opacity": 0.2,
         "showlegend": false,
         "subplot": "ternary",
         "text": "50",
         "type": "scatterternary"
        },
        {
         "a": [
          0,
          0,
          10,
          5,
          0,
          0
         ],
         "b": [
          5,
          10,
          0,
          0,
          5,
          5
         ],
         "c": [
          95,
          90,
          90,
          95,
          95,
          95
         ],
         "fill": "toself",
         "fillcolor": "rgb(8.80952380952381, 8.80952380952381, 8.80952380952381)",
         "hoverinfo": "skip",
         "line": {
          "color": "black",
          "width": 0
         },
         "mode": "lines",
         "opacity": 0.2,
         "showlegend": false,
         "subplot": "ternary",
         "text": "50",
         "type": "scatterternary"
        },
        {
         "a": [
          95,
          90,
          90,
          95,
          95,
          95
         ],
         "b": [
          0,
          0,
          10,
          5,
          0,
          0
         ],
         "c": [
          5,
          10,
          0,
          0,
          5,
          5
         ],
         "fill": "toself",
         "fillcolor": "rgb(19.38095238095238, 19.38095238095238, 19.38095238095238)",
         "hoverinfo": "skip",
         "line": {
          "color": "black",
          "width": 0
         },
         "mode": "lines",
         "opacity": 0.2,
         "showlegend": false,
         "subplot": "ternary",
         "text": "50",
         "type": "scatterternary"
        },
        {
         "a": [
          10,
          15,
          0,
          0,
          10,
          10
         ],
         "b": [
          90,
          85,
          85,
          90,
          90,
          90
         ],
         "c": [
          0,
          0,
          15,
          10,
          0,
          0
         ],
         "fill": "toself",
         "fillcolor": "rgb(29.952380952380953, 29.952380952380953, 29.952380952380953)",
         "hoverinfo": "skip",
         "line": {
          "color": "black",
          "width": 0
         },
         "mode": "lines",
         "opacity": 0.2,
         "showlegend": false,
         "subplot": "ternary",
         "text": "50",
         "type": "scatterternary"
        },
        {
         "a": [
          0,
          0,
          15,
          10,
          0,
          0
         ],
         "b": [
          10,
          15,
          0,
          0,
          10,
          10
         ],
         "c": [
          90,
          85,
          85,
          90,
          90,
          90
         ],
         "fill": "toself",
         "fillcolor": "rgb(39.142857142857146, 39.142857142857146, 39.142857142857146)",
         "hoverinfo": "skip",
         "line": {
          "color": "black",
          "width": 0
         },
         "mode": "lines",
         "opacity": 0.2,
         "showlegend": false,
         "subplot": "ternary",
         "text": "50",
         "type": "scatterternary"
        },
        {
         "a": [
          90,
          85,
          85,
          90,
          90,
          90
         ],
         "b": [
          0,
          0,
          15,
          10,
          0,
          0
         ],
         "c": [
          10,
          15,
          0,
          0,
          10,
          10
         ],
         "fill": "toself",
         "fillcolor": "rgb(49.85714285714286, 49.85714285714286, 49.85714285714286)",
         "hoverinfo": "skip",
         "line": {
          "color": "black",
          "width": 0
         },
         "mode": "lines",
         "opacity": 0.2,
         "showlegend": false,
         "subplot": "ternary",
         "text": "50",
         "type": "scatterternary"
        },
        {
         "a": [
          15,
          20,
          0,
          0,
          15,
          15
         ],
         "b": [
          85,
          80,
          80,
          85,
          85,
          85
         ],
         "c": [
          0,
          0,
          20,
          15,
          0,
          0
         ],
         "fill": "toself",
         "fillcolor": "rgb(62.714285714285715, 62.714285714285715, 62.714285714285715)",
         "hoverinfo": "skip",
         "line": {
          "color": "black",
          "width": 0
         },
         "mode": "lines",
         "opacity": 0.2,
         "showlegend": false,
         "subplot": "ternary",
         "text": "50",
         "type": "scatterternary"
        },
        {
         "a": [
          0,
          0,
          20,
          15,
          0,
          0
         ],
         "b": [
          15,
          20,
          0,
          0,
          15,
          15
         ],
         "c": [
          85,
          80,
          80,
          85,
          85,
          85
         ],
         "fill": "toself",
         "fillcolor": "rgb(75.57142857142857, 75.57142857142857, 75.57142857142857)",
         "hoverinfo": "skip",
         "line": {
          "color": "black",
          "width": 0
         },
         "mode": "lines",
         "opacity": 0.2,
         "showlegend": false,
         "subplot": "ternary",
         "text": "50",
         "type": "scatterternary"
        },
        {
         "a": [
          85,
          80,
          80,
          85,
          85,
          85
         ],
         "b": [
          0,
          0,
          20,
          15,
          0,
          0
         ],
         "c": [
          15,
          20,
          0,
          0,
          15,
          15
         ],
         "fill": "toself",
         "fillcolor": "rgb(85.14285714285714, 85.14285714285714, 85.14285714285714)",
         "hoverinfo": "skip",
         "line": {
          "color": "black",
          "width": 0
         },
         "mode": "lines",
         "opacity": 0.2,
         "showlegend": false,
         "subplot": "ternary",
         "text": "50",
         "type": "scatterternary"
        },
        {
         "a": [
          20,
          25,
          0,
          0,
          20,
          20
         ],
         "b": [
          80,
          75,
          75,
          80,
          80,
          80
         ],
         "c": [
          0,
          0,
          25,
          20,
          0,
          0
         ],
         "fill": "toself",
         "fillcolor": "rgb(94.57142857142857, 94.57142857142857, 94.57142857142857)",
         "hoverinfo": "skip",
         "line": {
          "color": "black",
          "width": 0
         },
         "mode": "lines",
         "opacity": 0.2,
         "showlegend": false,
         "subplot": "ternary",
         "text": "50",
         "type": "scatterternary"
        },
        {
         "a": [
          0,
          0,
          25,
          20,
          0,
          0
         ],
         "b": [
          20,
          25,
          0,
          0,
          20,
          20
         ],
         "c": [
          80,
          75,
          75,
          80,
          80,
          80
         ],
         "fill": "toself",
         "fillcolor": "rgb(104.0, 104.0, 104.0)",
         "hoverinfo": "skip",
         "line": {
          "color": "black",
          "width": 0
         },
         "mode": "lines",
         "opacity": 0.2,
         "showlegend": false,
         "subplot": "ternary",
         "text": "50",
         "type": "scatterternary"
        },
        {
         "a": [
          80,
          75,
          75,
          80,
          80,
          80
         ],
         "b": [
          0,
          0,
          25,
          20,
          0,
          0
         ],
         "c": [
          20,
          25,
          0,
          0,
          20,
          20
         ],
         "fill": "toself",
         "fillcolor": "rgb(113.42857142857143, 113.42857142857143, 113.42857142857143)",
         "hoverinfo": "skip",
         "line": {
          "color": "black",
          "width": 0
         },
         "mode": "lines",
         "opacity": 0.2,
         "showlegend": false,
         "subplot": "ternary",
         "text": "50",
         "type": "scatterternary"
        },
        {
         "a": [
          25,
          30,
          0,
          0,
          25,
          25
         ],
         "b": [
          75,
          70,
          70,
          75,
          75,
          75
         ],
         "c": [
          0,
          0,
          30,
          25,
          0,
          0
         ],
         "fill": "toself",
         "fillcolor": "rgb(121.66666666666666, 121.66666666666666, 121.66666666666666)",
         "hoverinfo": "skip",
         "line": {
          "color": "black",
          "width": 0
         },
         "mode": "lines",
         "opacity": 0.2,
         "showlegend": false,
         "subplot": "ternary",
         "text": "50",
         "type": "scatterternary"
        },
        {
         "a": [
          0,
          0,
          30,
          25,
          0,
          0
         ],
         "b": [
          25,
          30,
          0,
          0,
          25,
          25
         ],
         "c": [
          75,
          70,
          70,
          75,
          75,
          75
         ],
         "fill": "toself",
         "fillcolor": "rgb(130.0, 130.0, 130.0)",
         "hoverinfo": "skip",
         "line": {
          "color": "black",
          "width": 0
         },
         "mode": "lines",
         "opacity": 0.2,
         "showlegend": false,
         "subplot": "ternary",
         "text": "50",
         "type": "scatterternary"
        },
        {
         "a": [
          75,
          70,
          70,
          75,
          75,
          75
         ],
         "b": [
          0,
          0,
          30,
          25,
          0,
          0
         ],
         "c": [
          25,
          30,
          0,
          0,
          25,
          25
         ],
         "fill": "toself",
         "fillcolor": "rgb(140.0, 140.0, 140.0)",
         "hoverinfo": "skip",
         "line": {
          "color": "black",
          "width": 0
         },
         "mode": "lines",
         "opacity": 0.2,
         "showlegend": false,
         "subplot": "ternary",
         "text": "50",
         "type": "scatterternary"
        },
        {
         "a": [
          30,
          35,
          0,
          0,
          30,
          30
         ],
         "b": [
          70,
          65,
          65,
          70,
          70,
          70
         ],
         "c": [
          0,
          0,
          35,
          30,
          0,
          0
         ],
         "fill": "toself",
         "fillcolor": "rgb(150.0, 150.0, 150.0)",
         "hoverinfo": "skip",
         "line": {
          "color": "black",
          "width": 0
         },
         "mode": "lines",
         "opacity": 0.2,
         "showlegend": false,
         "subplot": "ternary",
         "text": "50",
         "type": "scatterternary"
        },
        {
         "a": [
          0,
          0,
          35,
          30,
          0,
          0
         ],
         "b": [
          30,
          35,
          0,
          0,
          30,
          30
         ],
         "c": [
          70,
          65,
          65,
          70,
          70,
          70
         ],
         "fill": "toself",
         "fillcolor": "rgb(159.28571428571428, 159.28571428571428, 159.28571428571428)",
         "hoverinfo": "skip",
         "line": {
          "color": "black",
          "width": 0
         },
         "mode": "lines",
         "opacity": 0.2,
         "showlegend": false,
         "subplot": "ternary",
         "text": "50",
         "type": "scatterternary"
        },
        {
         "a": [
          70,
          65,
          65,
          70,
          70,
          70
         ],
         "b": [
          0,
          0,
          35,
          30,
          0,
          0
         ],
         "c": [
          30,
          35,
          0,
          0,
          30,
          30
         ],
         "fill": "toself",
         "fillcolor": "rgb(170.42857142857142, 170.42857142857142, 170.42857142857142)",
         "hoverinfo": "skip",
         "line": {
          "color": "black",
          "width": 0
         },
         "mode": "lines",
         "opacity": 0.2,
         "showlegend": false,
         "subplot": "ternary",
         "text": "50",
         "type": "scatterternary"
        },
        {
         "a": [
          35,
          40,
          0,
          0,
          35,
          35
         ],
         "b": [
          65,
          60,
          60,
          65,
          65,
          65
         ],
         "c": [
          0,
          0,
          40,
          35,
          0,
          0
         ],
         "fill": "toself",
         "fillcolor": "rgb(181.57142857142858, 181.57142857142858, 181.57142857142858)",
         "hoverinfo": "skip",
         "line": {
          "color": "black",
          "width": 0
         },
         "mode": "lines",
         "opacity": 0.2,
         "showlegend": false,
         "subplot": "ternary",
         "text": "50",
         "type": "scatterternary"
        },
        {
         "a": [
          0,
          0,
          40,
          35,
          0,
          0
         ],
         "b": [
          35,
          40,
          0,
          0,
          35,
          35
         ],
         "c": [
          65,
          60,
          60,
          65,
          65,
          65
         ],
         "fill": "toself",
         "fillcolor": "rgb(190.33333333333334, 190.33333333333334, 190.33333333333334)",
         "hoverinfo": "skip",
         "line": {
          "color": "black",
          "width": 0
         },
         "mode": "lines",
         "opacity": 0.2,
         "showlegend": false,
         "subplot": "ternary",
         "text": "50",
         "type": "scatterternary"
        },
        {
         "a": [
          65,
          60,
          60,
          65,
          65,
          65
         ],
         "b": [
          0,
          0,
          40,
          35,
          0,
          0
         ],
         "c": [
          35,
          40,
          0,
          0,
          35,
          35
         ],
         "fill": "toself",
         "fillcolor": "rgb(198.33333333333334, 198.33333333333334, 198.33333333333334)",
         "hoverinfo": "skip",
         "line": {
          "color": "black",
          "width": 0
         },
         "mode": "lines",
         "opacity": 0.2,
         "showlegend": false,
         "subplot": "ternary",
         "text": "50",
         "type": "scatterternary"
        },
        {
         "a": [
          40,
          45,
          0,
          0,
          40,
          40
         ],
         "b": [
          60,
          55,
          55,
          60,
          60,
          60
         ],
         "c": [
          0,
          0,
          45,
          40,
          0,
          0
         ],
         "fill": "toself",
         "fillcolor": "rgb(206.33333333333334, 206.33333333333334, 206.33333333333334)",
         "hoverinfo": "skip",
         "line": {
          "color": "black",
          "width": 0
         },
         "mode": "lines",
         "opacity": 0.2,
         "showlegend": false,
         "subplot": "ternary",
         "text": "50",
         "type": "scatterternary"
        },
        {
         "a": [
          0,
          0,
          45,
          40,
          0,
          0
         ],
         "b": [
          40,
          45,
          0,
          0,
          40,
          40
         ],
         "c": [
          60,
          55,
          55,
          60,
          60,
          60
         ],
         "fill": "toself",
         "fillcolor": "rgb(213.0, 213.0, 213.0)",
         "hoverinfo": "skip",
         "line": {
          "color": "black",
          "width": 0
         },
         "mode": "lines",
         "opacity": 0.2,
         "showlegend": false,
         "subplot": "ternary",
         "text": "50",
         "type": "scatterternary"
        },
        {
         "a": [
          60,
          55,
          55,
          60,
          60,
          60
         ],
         "b": [
          0,
          0,
          45,
          40,
          0,
          0
         ],
         "c": [
          40,
          45,
          0,
          0,
          40,
          40
         ],
         "fill": "toself",
         "fillcolor": "rgb(219.1904761904762, 219.1904761904762, 219.1904761904762)",
         "hoverinfo": "skip",
         "line": {
          "color": "black",
          "width": 0
         },
         "mode": "lines",
         "opacity": 0.2,
         "showlegend": false,
         "subplot": "ternary",
         "text": "50",
         "type": "scatterternary"
        },
        {
         "a": [
          45,
          50,
          0,
          0,
          45,
          45
         ],
         "b": [
          55,
          50,
          50,
          55,
          55,
          55
         ],
         "c": [
          0,
          0,
          50,
          45,
          0,
          0
         ],
         "fill": "toself",
         "fillcolor": "rgb(225.76190476190476, 225.76190476190476, 225.76190476190476)",
         "hoverinfo": "skip",
         "line": {
          "color": "black",
          "width": 0
         },
         "mode": "lines",
         "opacity": 0.2,
         "showlegend": false,
         "subplot": "ternary",
         "text": "50",
         "type": "scatterternary"
        },
        {
         "a": [
          0,
          0,
          50,
          45,
          0,
          0
         ],
         "b": [
          45,
          50,
          0,
          0,
          45,
          45
         ],
         "c": [
          55,
          50,
          50,
          55,
          55,
          55
         ],
         "fill": "toself",
         "fillcolor": "rgb(232.33333333333334, 232.33333333333334, 232.33333333333334)",
         "hoverinfo": "skip",
         "line": {
          "color": "black",
          "width": 0
         },
         "mode": "lines",
         "opacity": 0.2,
         "showlegend": false,
         "subplot": "ternary",
         "text": "50",
         "type": "scatterternary"
        },
        {
         "a": [
          55,
          50,
          50,
          55,
          55,
          55
         ],
         "b": [
          0,
          0,
          50,
          45,
          0,
          0
         ],
         "c": [
          45,
          50,
          0,
          0,
          45,
          45
         ],
         "fill": "toself",
         "fillcolor": "rgb(238.9047619047619, 238.9047619047619, 238.9047619047619)",
         "hoverinfo": "skip",
         "line": {
          "color": "black",
          "width": 0
         },
         "mode": "lines",
         "opacity": 0.2,
         "showlegend": false,
         "subplot": "ternary",
         "text": "50",
         "type": "scatterternary"
        },
        {
         "a": [
          50,
          50,
          0,
          50
         ],
         "b": [
          50,
          0,
          50,
          50
         ],
         "c": [
          0,
          50,
          50,
          0
         ],
         "fill": "toself",
         "fillcolor": "rgb(242.85714285714286, 242.85714285714286, 242.85714285714286)",
         "hoverinfo": "skip",
         "line": {
          "color": "black",
          "width": 0
         },
         "mode": "lines",
         "opacity": 0.2,
         "showlegend": false,
         "subplot": "ternary",
         "text": "50",
         "type": "scatterternary"
        },
        {
         "a": [
          45,
          45,
          10,
          45
         ],
         "b": [
          45,
          10,
          45,
          45
         ],
         "c": [
          10,
          45,
          45,
          10
         ],
         "fill": "toself",
         "fillcolor": "rgb(247.14285714285714, 247.14285714285714, 247.14285714285714)",
         "hoverinfo": "skip",
         "line": {
          "color": "black",
          "width": 0
         },
         "mode": "lines",
         "opacity": 0.2,
         "showlegend": false,
         "subplot": "ternary",
         "text": "45",
         "type": "scatterternary"
        },
        {
         "a": [
          40,
          40,
          20,
          40
         ],
         "b": [
          40,
          20,
          40,
          40
         ],
         "c": [
          20,
          40,
          40,
          20
         ],
         "fill": "toself",
         "fillcolor": "rgb(251.42857142857142, 251.42857142857142, 251.42857142857142)",
         "hoverinfo": "skip",
         "line": {
          "color": "black",
          "width": 0
         },
         "mode": "lines",
         "opacity": 0.2,
         "showlegend": false,
         "subplot": "ternary",
         "text": "40",
         "type": "scatterternary"
        },
        {
         "a": [
          35,
          35,
          30,
          35
         ],
         "b": [
          35,
          30,
          35,
          35
         ],
         "c": [
          30,
          35,
          35,
          30
         ],
         "fill": "toself",
         "fillcolor": "rgb(255.0, 255.0, 255.0)",
         "hoverinfo": "skip",
         "line": {
          "color": "black",
          "width": 0
         },
         "mode": "lines",
         "opacity": 0.2,
         "showlegend": false,
         "subplot": "ternary",
         "text": "35",
         "type": "scatterternary"
        },
        {
         "a": [
          0.7236574642696013
         ],
         "b": [
          0.16521364618907314
         ],
         "c": [
          0.11112888954132559
         ],
         "hovertemplate": "%{text}<br>Var (climate): %{a}<br>Var (model): %{b} <br>Var (other): %{c}",
         "line": {
          "width": 1.5
         },
         "marker": {
          "color": "darkgreen",
          "line": {
           "color": "black",
           "width": 1
          },
          "opacity": 1,
          "size": 0.1,
          "symbol": "circle"
         },
         "mode": "markers",
         "name": "Coal",
         "showlegend": false,
         "subplot": "ternary",
         "text": [
          "2050"
         ],
         "textfont": {
          "color": [
           "darkgreen",
           "limegreen"
          ],
          "size": 1
         },
         "type": "scatterternary"
        },
        {
         "a": [
          0.7236574642696013
         ],
         "b": [
          0.16521364618907314
         ],
         "c": [
          0.11112888954132559
         ],
         "mode": "text",
         "showlegend": false,
         "subplot": "ternary",
         "text": [
          "☀"
         ],
         "textfont": {
          "color": "darkgreen",
          "size": 30
         },
         "type": "scatterternary"
        },
        {
         "a": [
          0.6631119452655894
         ],
         "b": [
          0.2294823434743977
         ],
         "c": [
          0.10740571126001301
         ],
         "hovertemplate": "%{text}<br>Var (climate): %{a}<br>Var (model): %{b} <br>Var (other): %{c}",
         "line": {
          "width": 1.5
         },
         "marker": {
          "color": "limegreen",
          "line": {
           "color": "black",
           "width": 1
          },
          "opacity": 1,
          "size": 0.1,
          "symbol": "circle"
         },
         "mode": "markers",
         "name": "Coal (fr)",
         "showlegend": false,
         "subplot": "ternary",
         "text": [
          "2050"
         ],
         "textfont": {
          "color": [
           "darkgreen",
           "limegreen"
          ],
          "size": 1
         },
         "type": "scatterternary"
        },
        {
         "a": [
          0.6631119452655894
         ],
         "b": [
          0.2294823434743977
         ],
         "c": [
          0.10740571126001301
         ],
         "mode": "text",
         "showlegend": false,
         "subplot": "ternary",
         "text": [
          "☀"
         ],
         "textfont": {
          "color": "limegreen",
          "size": 30
         },
         "type": "scatterternary"
        },
        {
         "a": [
          0.7236574642696013,
          0.6631119452655894
         ],
         "b": [
          0.16521364618907314,
          0.2294823434743977
         ],
         "c": [
          0.11112888954132559,
          0.10740571126001301
         ],
         "hoverinfo": "skip",
         "line": {
          "color": "darkgreen",
          "dash": "dot",
          "width": 1
         },
         "mode": "lines",
         "showlegend": false,
         "subplot": "ternary",
         "text": "",
         "type": "scatterternary"
        },
        {
         "a": [
          0.39304992138792594
         ],
         "b": [
          0.37713682709702
         ],
         "c": [
          0.22981325151505408
         ],
         "hovertemplate": "%{text}<br>Var (climate): %{a}<br>Var (model): %{b} <br>Var (other): %{c}",
         "line": {
          "width": 1.5
         },
         "marker": {
          "color": "darkgreen",
          "line": {
           "color": "black",
           "width": 1
          },
          "opacity": 1,
          "size": 0.1,
          "symbol": "circle"
         },
         "mode": "markers",
         "name": "Biomass",
         "showlegend": false,
         "subplot": "ternary",
         "text": [
          "2050"
         ],
         "textfont": {
          "color": [
           "darkgreen",
           "limegreen"
          ],
          "size": 1
         },
         "type": "scatterternary"
        },
        {
         "a": [
          0.39304992138792594
         ],
         "b": [
          0.37713682709702
         ],
         "c": [
          0.22981325151505408
         ],
         "mode": "text",
         "showlegend": false,
         "subplot": "ternary",
         "text": [
          "☀"
         ],
         "textfont": {
          "color": "darkgreen",
          "size": 30
         },
         "type": "scatterternary"
        },
        {
         "a": [
          0.5498648760856871
         ],
         "b": [
          0.2787396359680256
         ],
         "c": [
          0.171395487946287
         ],
         "hovertemplate": "%{text}<br>Var (climate): %{a}<br>Var (model): %{b} <br>Var (other): %{c}",
         "line": {
          "width": 1.5
         },
         "marker": {
          "color": "limegreen",
          "line": {
           "color": "black",
           "width": 1
          },
          "opacity": 1,
          "size": 0.1,
          "symbol": "circle"
         },
         "mode": "markers",
         "name": "Biomass (fr)",
         "showlegend": false,
         "subplot": "ternary",
         "text": [
          "2050"
         ],
         "textfont": {
          "color": [
           "darkgreen",
           "limegreen"
          ],
          "size": 1
         },
         "type": "scatterternary"
        },
        {
         "a": [
          0.5498648760856871
         ],
         "b": [
          0.2787396359680256
         ],
         "c": [
          0.171395487946287
         ],
         "mode": "text",
         "showlegend": false,
         "subplot": "ternary",
         "text": [
          "☀"
         ],
         "textfont": {
          "color": "limegreen",
          "size": 30
         },
         "type": "scatterternary"
        },
        {
         "a": [
          0.39304992138792594,
          0.5498648760856871
         ],
         "b": [
          0.37713682709702,
          0.2787396359680256
         ],
         "c": [
          0.22981325151505408,
          0.171395487946287
         ],
         "hoverinfo": "skip",
         "line": {
          "color": "darkgreen",
          "dash": "dot",
          "width": 1
         },
         "mode": "lines",
         "showlegend": false,
         "subplot": "ternary",
         "text": "",
         "type": "scatterternary"
        },
        {
         "a": [
          0.49493552343600633
         ],
         "b": [
          0.3012812260131572
         ],
         "c": [
          0.20378325055083632
         ],
         "hovertemplate": "%{text}<br>Var (climate): %{a}<br>Var (model): %{b} <br>Var (other): %{c}",
         "line": {
          "width": 1.5
         },
         "marker": {
          "color": "darkgreen",
          "line": {
           "color": "black",
           "width": 1
          },
          "opacity": 1,
          "size": 0.1,
          "symbol": "circle"
         },
         "mode": "markers",
         "name": "Gas",
         "showlegend": false,
         "subplot": "ternary",
         "text": [
          "2050"
         ],
         "textfont": {
          "color": [
           "darkgreen",
           "limegreen"
          ],
          "size": 1
         },
         "type": "scatterternary"
        },
        {
         "a": [
          0.49493552343600633
         ],
         "b": [
          0.3012812260131572
         ],
         "c": [
          0.20378325055083632
         ],
         "mode": "text",
         "showlegend": false,
         "subplot": "ternary",
         "text": [
          "☀"
         ],
         "textfont": {
          "color": "darkgreen",
          "size": 30
         },
         "type": "scatterternary"
        },
        {
         "a": [
          0.34736371315966846
         ],
         "b": [
          0.4585931209074489
         ],
         "c": [
          0.1940431659328828
         ],
         "hovertemplate": "%{text}<br>Var (climate): %{a}<br>Var (model): %{b} <br>Var (other): %{c}",
         "line": {
          "width": 1.5
         },
         "marker": {
          "color": "limegreen",
          "line": {
           "color": "black",
           "width": 1
          },
          "opacity": 1,
          "size": 0.1,
          "symbol": "circle"
         },
         "mode": "markers",
         "name": "Gas (fr)",
         "showlegend": false,
         "subplot": "ternary",
         "text": [
          "2050"
         ],
         "textfont": {
          "color": [
           "darkgreen",
           "limegreen"
          ],
          "size": 1
         },
         "type": "scatterternary"
        },
        {
         "a": [
          0.34736371315966846
         ],
         "b": [
          0.4585931209074489
         ],
         "c": [
          0.1940431659328828
         ],
         "mode": "text",
         "showlegend": false,
         "subplot": "ternary",
         "text": [
          "☀"
         ],
         "textfont": {
          "color": "limegreen",
          "size": 30
         },
         "type": "scatterternary"
        },
        {
         "a": [
          0.49493552343600633,
          0.34736371315966846
         ],
         "b": [
          0.3012812260131572,
          0.4585931209074489
         ],
         "c": [
          0.20378325055083632,
          0.1940431659328828
         ],
         "hoverinfo": "skip",
         "line": {
          "color": "darkgreen",
          "dash": "dot",
          "width": 1
         },
         "mode": "lines",
         "showlegend": false,
         "subplot": "ternary",
         "text": "",
         "type": "scatterternary"
        },
        {
         "a": [
          0.3657903485637578
         ],
         "b": [
          0.45874214339390185
         ],
         "c": [
          0.17546750804234051
         ],
         "hovertemplate": "%{text}<br>Var (climate): %{a}<br>Var (model): %{b} <br>Var (other): %{c}",
         "line": {
          "width": 1.5
         },
         "marker": {
          "color": "darkgreen",
          "line": {
           "color": "black",
           "width": 1
          },
          "opacity": 1,
          "size": 0.1,
          "symbol": "circle"
         },
         "mode": "markers",
         "name": "Wind",
         "showlegend": false,
         "subplot": "ternary",
         "text": [
          "2050"
         ],
         "textfont": {
          "color": [
           "darkgreen",
           "limegreen"
          ],
          "size": 1
         },
         "type": "scatterternary"
        },
        {
         "a": [
          0.3657903485637578
         ],
         "b": [
          0.45874214339390185
         ],
         "c": [
          0.17546750804234051
         ],
         "mode": "text",
         "showlegend": false,
         "subplot": "ternary",
         "text": [
          "☀"
         ],
         "textfont": {
          "color": "darkgreen",
          "size": 30
         },
         "type": "scatterternary"
        },
        {
         "a": [
          0.4431326091991967
         ],
         "b": [
          0.36237395058421673
         ],
         "c": [
          0.1944934402165866
         ],
         "hovertemplate": "%{text}<br>Var (climate): %{a}<br>Var (model): %{b} <br>Var (other): %{c}",
         "line": {
          "width": 1.5
         },
         "marker": {
          "color": "limegreen",
          "line": {
           "color": "black",
           "width": 1
          },
          "opacity": 1,
          "size": 0.1,
          "symbol": "circle"
         },
         "mode": "markers",
         "name": "Wind (fr)",
         "showlegend": false,
         "subplot": "ternary",
         "text": [
          "2050"
         ],
         "textfont": {
          "color": [
           "darkgreen",
           "limegreen"
          ],
          "size": 1
         },
         "type": "scatterternary"
        },
        {
         "a": [
          0.4431326091991967
         ],
         "b": [
          0.36237395058421673
         ],
         "c": [
          0.1944934402165866
         ],
         "mode": "text",
         "showlegend": false,
         "subplot": "ternary",
         "text": [
          "☀"
         ],
         "textfont": {
          "color": "limegreen",
          "size": 30
         },
         "type": "scatterternary"
        },
        {
         "a": [
          0.3657903485637578,
          0.4431326091991967
         ],
         "b": [
          0.45874214339390185,
          0.36237395058421673
         ],
         "c": [
          0.17546750804234051,
          0.1944934402165866
         ],
         "hoverinfo": "skip",
         "line": {
          "color": "darkgreen",
          "dash": "dot",
          "width": 1
         },
         "mode": "lines",
         "showlegend": false,
         "subplot": "ternary",
         "text": "",
         "type": "scatterternary"
        },
        {
         "a": [
          0.18864438371669862
         ],
         "b": [
          0.6215592613095761
         ],
         "c": [
          0.1897963549737254
         ],
         "hovertemplate": "%{text}<br>Var (climate): %{a}<br>Var (model): %{b} <br>Var (other): %{c}",
         "line": {
          "width": 1.5
         },
         "marker": {
          "color": "darkgreen",
          "line": {
           "color": "black",
           "width": 1
          },
          "opacity": 1,
          "size": 0.1,
          "symbol": "circle"
         },
         "mode": "markers",
         "name": "Solar",
         "showlegend": false,
         "subplot": "ternary",
         "text": [
          "2050"
         ],
         "textfont": {
          "color": [
           "darkgreen",
           "limegreen"
          ],
          "size": 1
         },
         "type": "scatterternary"
        },
        {
         "a": [
          0.18864438371669862
         ],
         "b": [
          0.6215592613095761
         ],
         "c": [
          0.1897963549737254
         ],
         "mode": "text",
         "showlegend": false,
         "subplot": "ternary",
         "text": [
          "☀"
         ],
         "textfont": {
          "color": "darkgreen",
          "size": 30
         },
         "type": "scatterternary"
        },
        {
         "a": [
          0.2992009399276289
         ],
         "b": [
          0.5267599015898676
         ],
         "c": [
          0.1740391584825034
         ],
         "hovertemplate": "%{text}<br>Var (climate): %{a}<br>Var (model): %{b} <br>Var (other): %{c}",
         "line": {
          "width": 1.5
         },
         "marker": {
          "color": "limegreen",
          "line": {
           "color": "black",
           "width": 1
          },
          "opacity": 1,
          "size": 0.1,
          "symbol": "circle"
         },
         "mode": "markers",
         "name": "Solar (fr)",
         "showlegend": false,
         "subplot": "ternary",
         "text": [
          "2050"
         ],
         "textfont": {
          "color": [
           "darkgreen",
           "limegreen"
          ],
          "size": 1
         },
         "type": "scatterternary"
        },
        {
         "a": [
          0.2992009399276289
         ],
         "b": [
          0.5267599015898676
         ],
         "c": [
          0.1740391584825034
         ],
         "mode": "text",
         "showlegend": false,
         "subplot": "ternary",
         "text": [
          "☀"
         ],
         "textfont": {
          "color": "limegreen",
          "size": 30
         },
         "type": "scatterternary"
        },
        {
         "a": [
          0.18864438371669862,
          0.2992009399276289
         ],
         "b": [
          0.6215592613095761,
          0.5267599015898676
         ],
         "c": [
          0.1897963549737254,
          0.1740391584825034
         ],
         "hoverinfo": "skip",
         "line": {
          "color": "darkgreen",
          "dash": "dot",
          "width": 1
         },
         "mode": "lines",
         "showlegend": false,
         "subplot": "ternary",
         "text": "",
         "type": "scatterternary"
        },
        {
         "a": [
          0.19212641376448997
         ],
         "b": [
          0.5051202325224762
         ],
         "c": [
          0.30275335371303397
         ],
         "hovertemplate": "%{text}<br>Var (climate): %{a}<br>Var (model): %{b} <br>Var (other): %{c}",
         "line": {
          "width": 1.5
         },
         "marker": {
          "color": "darkgreen",
          "line": {
           "color": "black",
           "width": 1
          },
          "opacity": 1,
          "size": 0.1,
          "symbol": "circle"
         },
         "mode": "markers",
         "name": "Nuclear",
         "showlegend": false,
         "subplot": "ternary",
         "text": [
          "2050"
         ],
         "textfont": {
          "color": [
           "darkgreen",
           "limegreen"
          ],
          "size": 1
         },
         "type": "scatterternary"
        },
        {
         "a": [
          0.19212641376448997
         ],
         "b": [
          0.5051202325224762
         ],
         "c": [
          0.30275335371303397
         ],
         "mode": "text",
         "showlegend": false,
         "subplot": "ternary",
         "text": [
          "☀"
         ],
         "textfont": {
          "color": "darkgreen",
          "size": 30
         },
         "type": "scatterternary"
        },
        {
         "a": [
          0.314111631183529
         ],
         "b": [
          0.38822763834078233
         ],
         "c": [
          0.29766073047568853
         ],
         "hovertemplate": "%{text}<br>Var (climate): %{a}<br>Var (model): %{b} <br>Var (other): %{c}",
         "line": {
          "width": 1.5
         },
         "marker": {
          "color": "limegreen",
          "line": {
           "color": "black",
           "width": 1
          },
          "opacity": 1,
          "size": 0.1,
          "symbol": "circle"
         },
         "mode": "markers",
         "name": "Nuclear (fr)",
         "showlegend": false,
         "subplot": "ternary",
         "text": [
          "2050"
         ],
         "textfont": {
          "color": [
           "darkgreen",
           "limegreen"
          ],
          "size": 1
         },
         "type": "scatterternary"
        },
        {
         "a": [
          0.314111631183529
         ],
         "b": [
          0.38822763834078233
         ],
         "c": [
          0.29766073047568853
         ],
         "mode": "text",
         "showlegend": false,
         "subplot": "ternary",
         "text": [
          "☀"
         ],
         "textfont": {
          "color": "limegreen",
          "size": 30
         },
         "type": "scatterternary"
        },
        {
         "a": [
          0.19212641376448997,
          0.314111631183529
         ],
         "b": [
          0.5051202325224762,
          0.38822763834078233
         ],
         "c": [
          0.30275335371303397,
          0.29766073047568853
         ],
         "hoverinfo": "skip",
         "line": {
          "color": "darkgreen",
          "dash": "dot",
          "width": 1
         },
         "mode": "lines",
         "showlegend": false,
         "subplot": "ternary",
         "text": "",
         "type": "scatterternary"
        },
        {
         "a": [
          0.13963249626079588
         ],
         "b": [
          0.7343014578113644
         ],
         "c": [
          0.1260660459278398
         ],
         "hovertemplate": "%{text}<br>Var (climate): %{a}<br>Var (model): %{b} <br>Var (other): %{c}",
         "line": {
          "width": 1.5
         },
         "marker": {
          "color": "darkgreen",
          "line": {
           "color": "black",
           "width": 1
          },
          "opacity": 1,
          "size": 0.1,
          "symbol": "circle"
         },
         "mode": "markers",
         "name": "Geothermal",
         "showlegend": false,
         "subplot": "ternary",
         "text": [
          "2050"
         ],
         "textfont": {
          "color": [
           "darkgreen",
           "limegreen"
          ],
          "size": 1
         },
         "type": "scatterternary"
        },
        {
         "a": [
          0.13963249626079588
         ],
         "b": [
          0.7343014578113644
         ],
         "c": [
          0.1260660459278398
         ],
         "mode": "text",
         "showlegend": false,
         "subplot": "ternary",
         "text": [
          "☀"
         ],
         "textfont": {
          "color": "darkgreen",
          "size": 30
         },
         "type": "scatterternary"
        },
        {
         "a": [
          0.17368187186072936
         ],
         "b": [
          0.7126191423481273
         ],
         "c": [
          0.11369898579114351
         ],
         "hovertemplate": "%{text}<br>Var (climate): %{a}<br>Var (model): %{b} <br>Var (other): %{c}",
         "line": {
          "width": 1.5
         },
         "marker": {
          "color": "limegreen",
          "line": {
           "color": "black",
           "width": 1
          },
          "opacity": 1,
          "size": 0.1,
          "symbol": "circle"
         },
         "mode": "markers",
         "name": "Geothermal (fr)",
         "showlegend": false,
         "subplot": "ternary",
         "text": [
          "2050"
         ],
         "textfont": {
          "color": [
           "darkgreen",
           "limegreen"
          ],
          "size": 1
         },
         "type": "scatterternary"
        },
        {
         "a": [
          0.17368187186072936
         ],
         "b": [
          0.7126191423481273
         ],
         "c": [
          0.11369898579114351
         ],
         "mode": "text",
         "showlegend": false,
         "subplot": "ternary",
         "text": [
          "☀"
         ],
         "textfont": {
          "color": "limegreen",
          "size": 30
         },
         "type": "scatterternary"
        },
        {
         "a": [
          0.13963249626079588,
          0.17368187186072936
         ],
         "b": [
          0.7343014578113644,
          0.7126191423481273
         ],
         "c": [
          0.1260660459278398,
          0.11369898579114351
         ],
         "hoverinfo": "skip",
         "line": {
          "color": "darkgreen",
          "dash": "dot",
          "width": 1
         },
         "mode": "lines",
         "showlegend": false,
         "subplot": "ternary",
         "text": "",
         "type": "scatterternary"
        },
        {
         "a": [
          0.6083284753780758
         ],
         "b": [
          0.2522515530718324
         ],
         "c": [
          0.1394199715500917
         ],
         "hovertemplate": "%{text}<br>Var (climate): %{a}<br>Var (model): %{b} <br>Var (other): %{c}",
         "line": {
          "width": 1.5
         },
         "marker": {
          "color": "darkgreen",
          "line": {
           "color": "black",
           "width": 1
          },
          "opacity": 1,
          "size": 0.1,
          "symbol": "circle"
         },
         "mode": "markers",
         "name": "Oil",
         "showlegend": false,
         "subplot": "ternary",
         "text": [
          "2050"
         ],
         "textfont": {
          "color": [
           "darkgreen",
           "limegreen"
          ],
          "size": 1
         },
         "type": "scatterternary"
        },
        {
         "a": [
          0.6083284753780758
         ],
         "b": [
          0.2522515530718324
         ],
         "c": [
          0.1394199715500917
         ],
         "mode": "text",
         "showlegend": false,
         "subplot": "ternary",
         "text": [
          "☀"
         ],
         "textfont": {
          "color": "darkgreen",
          "size": 30
         },
         "type": "scatterternary"
        },
        {
         "a": [
          0.5317049169723242
         ],
         "b": [
          0.302950642438447
         ],
         "c": [
          0.16534444058922876
         ],
         "hovertemplate": "%{text}<br>Var (climate): %{a}<br>Var (model): %{b} <br>Var (other): %{c}",
         "line": {
          "width": 1.5
         },
         "marker": {
          "color": "limegreen",
          "line": {
           "color": "black",
           "width": 1
          },
          "opacity": 1,
          "size": 0.1,
          "symbol": "circle"
         },
         "mode": "markers",
         "name": "Oil (fr)",
         "showlegend": false,
         "subplot": "ternary",
         "text": [
          "2050"
         ],
         "textfont": {
          "color": [
           "darkgreen",
           "limegreen"
          ],
          "size": 1
         },
         "type": "scatterternary"
        },
        {
         "a": [
          0.5317049169723242
         ],
         "b": [
          0.302950642438447
         ],
         "c": [
          0.16534444058922876
         ],
         "mode": "text",
         "showlegend": false,
         "subplot": "ternary",
         "text": [
          "☀"
         ],
         "textfont": {
          "color": "limegreen",
          "size": 30
         },
         "type": "scatterternary"
        },
        {
         "a": [
          0.6083284753780758,
          0.5317049169723242
         ],
         "b": [
          0.2522515530718324,
          0.302950642438447
         ],
         "c": [
          0.1394199715500917,
          0.16534444058922876
         ],
         "hoverinfo": "skip",
         "line": {
          "color": "darkgreen",
          "dash": "dot",
          "width": 1
         },
         "mode": "lines",
         "showlegend": false,
         "subplot": "ternary",
         "text": "",
         "type": "scatterternary"
        },
        {
         "a": [
          0.23632365709969005
         ],
         "b": [
          0.6461115452439287
         ],
         "c": [
          0.1175647976563811
         ],
         "hovertemplate": "%{text}<br>Var (climate): %{a}<br>Var (model): %{b} <br>Var (other): %{c}",
         "line": {
          "width": 1.5
         },
         "marker": {
          "color": "darkgreen",
          "line": {
           "color": "black",
           "width": 1
          },
          "opacity": 1,
          "size": 0.1,
          "symbol": "circle"
         },
         "mode": "markers",
         "name": "Hydro",
         "showlegend": false,
         "subplot": "ternary",
         "text": [
          "2050"
         ],
         "textfont": {
          "color": [
           "darkgreen",
           "limegreen"
          ],
          "size": 1
         },
         "type": "scatterternary"
        },
        {
         "a": [
          0.23632365709969005
         ],
         "b": [
          0.6461115452439287
         ],
         "c": [
          0.1175647976563811
         ],
         "mode": "text",
         "showlegend": false,
         "subplot": "ternary",
         "text": [
          "☀"
         ],
         "textfont": {
          "color": "darkgreen",
          "size": 30
         },
         "type": "scatterternary"
        },
        {
         "a": [
          0.4776142844464266
         ],
         "b": [
          0.39616181261556227
         ],
         "c": [
          0.12622390293801092
         ],
         "hovertemplate": "%{text}<br>Var (climate): %{a}<br>Var (model): %{b} <br>Var (other): %{c}",
         "line": {
          "width": 1.5
         },
         "marker": {
          "color": "limegreen",
          "line": {
           "color": "black",
           "width": 1
          },
          "opacity": 1,
          "size": 0.1,
          "symbol": "circle"
         },
         "mode": "markers",
         "name": "Hydro (fr)",
         "showlegend": false,
         "subplot": "ternary",
         "text": [
          "2050"
         ],
         "textfont": {
          "color": [
           "darkgreen",
           "limegreen"
          ],
          "size": 1
         },
         "type": "scatterternary"
        },
        {
         "a": [
          0.4776142844464266
         ],
         "b": [
          0.39616181261556227
         ],
         "c": [
          0.12622390293801092
         ],
         "mode": "text",
         "showlegend": false,
         "subplot": "ternary",
         "text": [
          "☀"
         ],
         "textfont": {
          "color": "limegreen",
          "size": 30
         },
         "type": "scatterternary"
        },
        {
         "a": [
          0.23632365709969005,
          0.4776142844464266
         ],
         "b": [
          0.6461115452439287,
          0.39616181261556227
         ],
         "c": [
          0.1175647976563811,
          0.12622390293801092
         ],
         "hoverinfo": "skip",
         "line": {
          "color": "darkgreen",
          "dash": "dot",
          "width": 1
         },
         "mode": "lines",
         "showlegend": false,
         "subplot": "ternary",
         "text": "",
         "type": "scatterternary"
        },
        {
         "a": [
          0.48761115691698503
         ],
         "b": [
          0.20794546775153538
         ],
         "c": [
          0.30444337533147947
         ],
         "hovertemplate": "%{text}<br>Var (climate): %{a}<br>Var (model): %{b} <br>Var (other): %{c}",
         "line": {
          "width": 1.5
         },
         "marker": {
          "color": "darkgreen",
          "line": {
           "color": "black",
           "width": 1
          },
          "opacity": 1,
          "size": 0.1,
          "symbol": "circle"
         },
         "mode": "markers",
         "name": "Renewables (incl. Biomass)",
         "showlegend": false,
         "subplot": "ternary",
         "text": [
          "2050"
         ],
         "textfont": {
          "color": [
           "darkgreen",
           "limegreen"
          ],
          "size": 1
         },
         "type": "scatterternary"
        },
        {
         "a": [
          0.48761115691698503
         ],
         "b": [
          0.20794546775153538
         ],
         "c": [
          0.30444337533147947
         ],
         "mode": "text",
         "showlegend": false,
         "subplot": "ternary",
         "text": [
          "☀"
         ],
         "textfont": {
          "color": "darkgreen",
          "size": 30
         },
         "type": "scatterternary"
        },
        {
         "a": [
          0.5604026503598836
         ],
         "b": [
          0.20252691001263595
         ],
         "c": [
          0.23707043962748042
         ],
         "hovertemplate": "%{text}<br>Var (climate): %{a}<br>Var (model): %{b} <br>Var (other): %{c}",
         "line": {
          "width": 1.5
         },
         "marker": {
          "color": "limegreen",
          "line": {
           "color": "black",
           "width": 1
          },
          "opacity": 1,
          "size": 0.1,
          "symbol": "circle"
         },
         "mode": "markers",
         "name": "Renewables (incl. Biomass) (fr)",
         "showlegend": false,
         "subplot": "ternary",
         "text": [
          "2050"
         ],
         "textfont": {
          "color": [
           "darkgreen",
           "limegreen"
          ],
          "size": 1
         },
         "type": "scatterternary"
        },
        {
         "a": [
          0.5604026503598836
         ],
         "b": [
          0.20252691001263595
         ],
         "c": [
          0.23707043962748042
         ],
         "mode": "text",
         "showlegend": false,
         "subplot": "ternary",
         "text": [
          "☀"
         ],
         "textfont": {
          "color": "limegreen",
          "size": 30
         },
         "type": "scatterternary"
        },
        {
         "a": [
          0.48761115691698503,
          0.5604026503598836
         ],
         "b": [
          0.20794546775153538,
          0.20252691001263595
         ],
         "c": [
          0.30444337533147947,
          0.23707043962748042
         ],
         "hoverinfo": "skip",
         "line": {
          "color": "darkgreen",
          "dash": "dot",
          "width": 1
         },
         "mode": "lines",
         "showlegend": false,
         "subplot": "ternary",
         "text": "",
         "type": "scatterternary"
        },
        {
         "a": [
          0.3944004870313228
         ],
         "b": [
          0.34542195606362575
         ],
         "c": [
          0.26017755690505145
         ],
         "hovertemplate": "%{text}<br>Var (climate): %{a}<br>Var (model): %{b} <br>Var (other): %{c}",
         "line": {
          "width": 1.5
         },
         "marker": {
          "color": "goldenrod",
          "line": {
           "color": "black",
           "width": 1
          },
          "opacity": 1,
          "size": 0.1,
          "symbol": "circle"
         },
         "mode": "markers",
         "name": "Biomass (with CCS)",
         "showlegend": false,
         "subplot": "ternary",
         "text": [
          "2050"
         ],
         "textfont": {
          "color": [
           "goldenrod",
           "gold"
          ],
          "size": 1
         },
         "type": "scatterternary"
        },
        {
         "a": [
          0.3944004870313228
         ],
         "b": [
          0.34542195606362575
         ],
         "c": [
          0.26017755690505145
         ],
         "mode": "text",
         "showlegend": false,
         "subplot": "ternary",
         "text": [
          "🗲"
         ],
         "textfont": {
          "color": "goldenrod",
          "size": 30
         },
         "type": "scatterternary"
        },
        {
         "a": [
          0.3402792388918481
         ],
         "b": [
          0.34753088633672197
         ],
         "c": [
          0.3121898747714298
         ],
         "hovertemplate": "%{text}<br>Var (climate): %{a}<br>Var (model): %{b} <br>Var (other): %{c}",
         "line": {
          "width": 1.5
         },
         "marker": {
          "color": "gold",
          "line": {
           "color": "black",
           "width": 1
          },
          "opacity": 1,
          "size": 0.1,
          "symbol": "circle"
         },
         "mode": "markers",
         "name": "Biomass (with CCS) (fr)",
         "showlegend": false,
         "subplot": "ternary",
         "text": [
          "2050"
         ],
         "textfont": {
          "color": [
           "goldenrod",
           "gold"
          ],
          "size": 1
         },
         "type": "scatterternary"
        },
        {
         "a": [
          0.3402792388918481
         ],
         "b": [
          0.34753088633672197
         ],
         "c": [
          0.3121898747714298
         ],
         "mode": "text",
         "showlegend": false,
         "subplot": "ternary",
         "text": [
          "🗲"
         ],
         "textfont": {
          "color": "gold",
          "size": 30
         },
         "type": "scatterternary"
        },
        {
         "a": [
          0.3944004870313228,
          0.3402792388918481
         ],
         "b": [
          0.34542195606362575,
          0.34753088633672197
         ],
         "c": [
          0.26017755690505145,
          0.3121898747714298
         ],
         "hoverinfo": "skip",
         "line": {
          "color": "goldenrod",
          "dash": "dot",
          "width": 1
         },
         "mode": "lines",
         "showlegend": false,
         "subplot": "ternary",
         "text": "",
         "type": "scatterternary"
        },
        {
         "a": [
          0.1102156247884043
         ],
         "b": [
          0.7282057941228112
         ],
         "c": [
          0.16157858108878462
         ],
         "hovertemplate": "%{text}<br>Var (climate): %{a}<br>Var (model): %{b} <br>Var (other): %{c}",
         "line": {
          "width": 1.5
         },
         "marker": {
          "color": "goldenrod",
          "line": {
           "color": "black",
           "width": 1
          },
          "opacity": 1,
          "size": 0.1,
          "symbol": "circle"
         },
         "mode": "markers",
         "name": "Biomass (without CCS)",
         "showlegend": false,
         "subplot": "ternary",
         "text": [
          "2050"
         ],
         "textfont": {
          "color": [
           "goldenrod",
           "gold"
          ],
          "size": 1
         },
         "type": "scatterternary"
        },
        {
         "a": [
          0.1102156247884043
         ],
         "b": [
          0.7282057941228112
         ],
         "c": [
          0.16157858108878462
         ],
         "mode": "text",
         "showlegend": false,
         "subplot": "ternary",
         "text": [
          "🗲"
         ],
         "textfont": {
          "color": "goldenrod",
          "size": 30
         },
         "type": "scatterternary"
        },
        {
         "a": [
          0.1286384032558682
         ],
         "b": [
          0.716061936773204
         ],
         "c": [
          0.15529965997092782
         ],
         "hovertemplate": "%{text}<br>Var (climate): %{a}<br>Var (model): %{b} <br>Var (other): %{c}",
         "line": {
          "width": 1.5
         },
         "marker": {
          "color": "gold",
          "line": {
           "color": "black",
           "width": 1
          },
          "opacity": 1,
          "size": 0.1,
          "symbol": "circle"
         },
         "mode": "markers",
         "name": "Biomass (without CCS) (fr)",
         "showlegend": false,
         "subplot": "ternary",
         "text": [
          "2050"
         ],
         "textfont": {
          "color": [
           "goldenrod",
           "gold"
          ],
          "size": 1
         },
         "type": "scatterternary"
        },
        {
         "a": [
          0.1286384032558682
         ],
         "b": [
          0.716061936773204
         ],
         "c": [
          0.15529965997092782
         ],
         "mode": "text",
         "showlegend": false,
         "subplot": "ternary",
         "text": [
          "🗲"
         ],
         "textfont": {
          "color": "gold",
          "size": 30
         },
         "type": "scatterternary"
        },
        {
         "a": [
          0.1102156247884043,
          0.1286384032558682
         ],
         "b": [
          0.7282057941228112,
          0.716061936773204
         ],
         "c": [
          0.16157858108878462,
          0.15529965997092782
         ],
         "hoverinfo": "skip",
         "line": {
          "color": "goldenrod",
          "dash": "dot",
          "width": 1
         },
         "mode": "lines",
         "showlegend": false,
         "subplot": "ternary",
         "text": "",
         "type": "scatterternary"
        },
        {
         "a": [
          0.1865643634745571
         ],
         "b": [
          0.6095350041815476
         ],
         "c": [
          0.20390063234389533
         ],
         "hovertemplate": "%{text}<br>Var (climate): %{a}<br>Var (model): %{b} <br>Var (other): %{c}",
         "line": {
          "width": 1.5
         },
         "marker": {
          "color": "goldenrod",
          "line": {
           "color": "black",
           "width": 1
          },
          "opacity": 1,
          "size": 0.1,
          "symbol": "circle"
         },
         "mode": "markers",
         "name": "Coal (with CCS)",
         "showlegend": false,
         "subplot": "ternary",
         "text": [
          "2050"
         ],
         "textfont": {
          "color": [
           "goldenrod",
           "gold"
          ],
          "size": 1
         },
         "type": "scatterternary"
        },
        {
         "a": [
          0.1865643634745571
         ],
         "b": [
          0.6095350041815476
         ],
         "c": [
          0.20390063234389533
         ],
         "mode": "text",
         "showlegend": false,
         "subplot": "ternary",
         "text": [
          "🗲"
         ],
         "textfont": {
          "color": "goldenrod",
          "size": 30
         },
         "type": "scatterternary"
        },
        {
         "a": [
          0.19178688296893287
         ],
         "b": [
          0.5841899161059699
         ],
         "c": [
          0.22402320092509728
         ],
         "hovertemplate": "%{text}<br>Var (climate): %{a}<br>Var (model): %{b} <br>Var (other): %{c}",
         "line": {
          "width": 1.5
         },
         "marker": {
          "color": "gold",
          "line": {
           "color": "black",
           "width": 1
          },
          "opacity": 1,
          "size": 0.1,
          "symbol": "circle"
         },
         "mode": "markers",
         "name": "Coal (with CCS) (fr)",
         "showlegend": false,
         "subplot": "ternary",
         "text": [
          "2050"
         ],
         "textfont": {
          "color": [
           "goldenrod",
           "gold"
          ],
          "size": 1
         },
         "type": "scatterternary"
        },
        {
         "a": [
          0.19178688296893287
         ],
         "b": [
          0.5841899161059699
         ],
         "c": [
          0.22402320092509728
         ],
         "mode": "text",
         "showlegend": false,
         "subplot": "ternary",
         "text": [
          "🗲"
         ],
         "textfont": {
          "color": "gold",
          "size": 30
         },
         "type": "scatterternary"
        },
        {
         "a": [
          0.1865643634745571,
          0.19178688296893287
         ],
         "b": [
          0.6095350041815476,
          0.5841899161059699
         ],
         "c": [
          0.20390063234389533,
          0.22402320092509728
         ],
         "hoverinfo": "skip",
         "line": {
          "color": "goldenrod",
          "dash": "dot",
          "width": 1
         },
         "mode": "lines",
         "showlegend": false,
         "subplot": "ternary",
         "text": "",
         "type": "scatterternary"
        },
        {
         "a": [
          0.7519722768261644
         ],
         "b": [
          0.12683593164338425
         ],
         "c": [
          0.1211917915304514
         ],
         "hovertemplate": "%{text}<br>Var (climate): %{a}<br>Var (model): %{b} <br>Var (other): %{c}",
         "line": {
          "width": 1.5
         },
         "marker": {
          "color": "goldenrod",
          "line": {
           "color": "black",
           "width": 1
          },
          "opacity": 1,
          "size": 0.1,
          "symbol": "circle"
         },
         "mode": "markers",
         "name": "Coal (without CCS)",
         "showlegend": false,
         "subplot": "ternary",
         "text": [
          "2050"
         ],
         "textfont": {
          "color": [
           "goldenrod",
           "gold"
          ],
          "size": 1
         },
         "type": "scatterternary"
        },
        {
         "a": [
          0.7519722768261644
         ],
         "b": [
          0.12683593164338425
         ],
         "c": [
          0.1211917915304514
         ],
         "mode": "text",
         "showlegend": false,
         "subplot": "ternary",
         "text": [
          "🗲"
         ],
         "textfont": {
          "color": "goldenrod",
          "size": 30
         },
         "type": "scatterternary"
        },
        {
         "a": [
          0.7476940114105213
         ],
         "b": [
          0.1323992692962915
         ],
         "c": [
          0.11990671929318739
         ],
         "hovertemplate": "%{text}<br>Var (climate): %{a}<br>Var (model): %{b} <br>Var (other): %{c}",
         "line": {
          "width": 1.5
         },
         "marker": {
          "color": "gold",
          "line": {
           "color": "black",
           "width": 1
          },
          "opacity": 1,
          "size": 0.1,
          "symbol": "circle"
         },
         "mode": "markers",
         "name": "Coal (without CCS) (fr)",
         "showlegend": false,
         "subplot": "ternary",
         "text": [
          "2050"
         ],
         "textfont": {
          "color": [
           "goldenrod",
           "gold"
          ],
          "size": 1
         },
         "type": "scatterternary"
        },
        {
         "a": [
          0.7476940114105213
         ],
         "b": [
          0.1323992692962915
         ],
         "c": [
          0.11990671929318739
         ],
         "mode": "text",
         "showlegend": false,
         "subplot": "ternary",
         "text": [
          "🗲"
         ],
         "textfont": {
          "color": "gold",
          "size": 30
         },
         "type": "scatterternary"
        },
        {
         "a": [
          0.7519722768261644,
          0.7476940114105213
         ],
         "b": [
          0.12683593164338425,
          0.1323992692962915
         ],
         "c": [
          0.1211917915304514,
          0.11990671929318739
         ],
         "hoverinfo": "skip",
         "line": {
          "color": "goldenrod",
          "dash": "dot",
          "width": 1
         },
         "mode": "lines",
         "showlegend": false,
         "subplot": "ternary",
         "text": "",
         "type": "scatterternary"
        },
        {
         "a": [
          0.2904160423026575
         ],
         "b": [
          0.49038996069021207
         ],
         "c": [
          0.2191939970071305
         ],
         "hovertemplate": "%{text}<br>Var (climate): %{a}<br>Var (model): %{b} <br>Var (other): %{c}",
         "line": {
          "width": 1.5
         },
         "marker": {
          "color": "goldenrod",
          "line": {
           "color": "black",
           "width": 1
          },
          "opacity": 1,
          "size": 0.1,
          "symbol": "circle"
         },
         "mode": "markers",
         "name": "Gas (with CCS)",
         "showlegend": false,
         "subplot": "ternary",
         "text": [
          "2050"
         ],
         "textfont": {
          "color": [
           "goldenrod",
           "gold"
          ],
          "size": 1
         },
         "type": "scatterternary"
        },
        {
         "a": [
          0.2904160423026575
         ],
         "b": [
          0.49038996069021207
         ],
         "c": [
          0.2191939970071305
         ],
         "mode": "text",
         "showlegend": false,
         "subplot": "ternary",
         "text": [
          "🗲"
         ],
         "textfont": {
          "color": "goldenrod",
          "size": 30
         },
         "type": "scatterternary"
        },
        {
         "a": [
          0.3042006628835352
         ],
         "b": [
          0.4529414349403882
         ],
         "c": [
          0.24285790217607656
         ],
         "hovertemplate": "%{text}<br>Var (climate): %{a}<br>Var (model): %{b} <br>Var (other): %{c}",
         "line": {
          "width": 1.5
         },
         "marker": {
          "color": "gold",
          "line": {
           "color": "black",
           "width": 1
          },
          "opacity": 1,
          "size": 0.1,
          "symbol": "circle"
         },
         "mode": "markers",
         "name": "Gas (with CCS) (fr)",
         "showlegend": false,
         "subplot": "ternary",
         "text": [
          "2050"
         ],
         "textfont": {
          "color": [
           "goldenrod",
           "gold"
          ],
          "size": 1
         },
         "type": "scatterternary"
        },
        {
         "a": [
          0.3042006628835352
         ],
         "b": [
          0.4529414349403882
         ],
         "c": [
          0.24285790217607656
         ],
         "mode": "text",
         "showlegend": false,
         "subplot": "ternary",
         "text": [
          "🗲"
         ],
         "textfont": {
          "color": "gold",
          "size": 30
         },
         "type": "scatterternary"
        },
        {
         "a": [
          0.2904160423026575,
          0.3042006628835352
         ],
         "b": [
          0.49038996069021207,
          0.4529414349403882
         ],
         "c": [
          0.2191939970071305,
          0.24285790217607656
         ],
         "hoverinfo": "skip",
         "line": {
          "color": "goldenrod",
          "dash": "dot",
          "width": 1
         },
         "mode": "lines",
         "showlegend": false,
         "subplot": "ternary",
         "text": "",
         "type": "scatterternary"
        },
        {
         "a": [
          0.5380863243305162
         ],
         "b": [
          0.28406147971187434
         ],
         "c": [
          0.17785219595760973
         ],
         "hovertemplate": "%{text}<br>Var (climate): %{a}<br>Var (model): %{b} <br>Var (other): %{c}",
         "line": {
          "width": 1.5
         },
         "marker": {
          "color": "goldenrod",
          "line": {
           "color": "black",
           "width": 1
          },
          "opacity": 1,
          "size": 0.1,
          "symbol": "circle"
         },
         "mode": "markers",
         "name": "Gas (without CCS)",
         "showlegend": false,
         "subplot": "ternary",
         "text": [
          "2050"
         ],
         "textfont": {
          "color": [
           "goldenrod",
           "gold"
          ],
          "size": 1
         },
         "type": "scatterternary"
        },
        {
         "a": [
          0.5380863243305162
         ],
         "b": [
          0.28406147971187434
         ],
         "c": [
          0.17785219595760973
         ],
         "mode": "text",
         "showlegend": false,
         "subplot": "ternary",
         "text": [
          "🗲"
         ],
         "textfont": {
          "color": "goldenrod",
          "size": 30
         },
         "type": "scatterternary"
        },
        {
         "a": [
          0.5480371847799959
         ],
         "b": [
          0.3198952652519871
         ],
         "c": [
          0.13206754996801714
         ],
         "hovertemplate": "%{text}<br>Var (climate): %{a}<br>Var (model): %{b} <br>Var (other): %{c}",
         "line": {
          "width": 1.5
         },
         "marker": {
          "color": "gold",
          "line": {
           "color": "black",
           "width": 1
          },
          "opacity": 1,
          "size": 0.1,
          "symbol": "circle"
         },
         "mode": "markers",
         "name": "Gas (without CCS) (fr)",
         "showlegend": false,
         "subplot": "ternary",
         "text": [
          "2050"
         ],
         "textfont": {
          "color": [
           "goldenrod",
           "gold"
          ],
          "size": 1
         },
         "type": "scatterternary"
        },
        {
         "a": [
          0.5480371847799959
         ],
         "b": [
          0.3198952652519871
         ],
         "c": [
          0.13206754996801714
         ],
         "mode": "text",
         "showlegend": false,
         "subplot": "ternary",
         "text": [
          "🗲"
         ],
         "textfont": {
          "color": "gold",
          "size": 30
         },
         "type": "scatterternary"
        },
        {
         "a": [
          0.5380863243305162,
          0.5480371847799959
         ],
         "b": [
          0.28406147971187434,
          0.3198952652519871
         ],
         "c": [
          0.17785219595760973,
          0.13206754996801714
         ],
         "hoverinfo": "skip",
         "line": {
          "color": "goldenrod",
          "dash": "dot",
          "width": 1
         },
         "mode": "lines",
         "showlegend": false,
         "subplot": "ternary",
         "text": "",
         "type": "scatterternary"
        },
        {
         "a": [
          0.19898002187042962
         ],
         "b": [
          0.5232469331552541
         ],
         "c": [
          0.2777730449743163
         ],
         "hovertemplate": "%{text}<br>Var (climate): %{a}<br>Var (model): %{b} <br>Var (other): %{c}",
         "line": {
          "width": 1.5
         },
         "marker": {
          "color": "goldenrod",
          "line": {
           "color": "black",
           "width": 1
          },
          "opacity": 1,
          "size": 0.1,
          "symbol": "circle"
         },
         "mode": "markers",
         "name": "Nuclear",
         "showlegend": false,
         "subplot": "ternary",
         "text": [
          "2050"
         ],
         "textfont": {
          "color": [
           "goldenrod",
           "gold"
          ],
          "size": 1
         },
         "type": "scatterternary"
        },
        {
         "a": [
          0.19898002187042962
         ],
         "b": [
          0.5232469331552541
         ],
         "c": [
          0.2777730449743163
         ],
         "mode": "text",
         "showlegend": false,
         "subplot": "ternary",
         "text": [
          "🗲"
         ],
         "textfont": {
          "color": "goldenrod",
          "size": 30
         },
         "type": "scatterternary"
        },
        {
         "a": [
          0.1437286421396448
         ],
         "b": [
          0.4455936995234322
         ],
         "c": [
          0.41067765833692327
         ],
         "hovertemplate": "%{text}<br>Var (climate): %{a}<br>Var (model): %{b} <br>Var (other): %{c}",
         "line": {
          "width": 1.5
         },
         "marker": {
          "color": "gold",
          "line": {
           "color": "black",
           "width": 1
          },
          "opacity": 1,
          "size": 0.1,
          "symbol": "circle"
         },
         "mode": "markers",
         "name": "Nuclear (fr)",
         "showlegend": false,
         "subplot": "ternary",
         "text": [
          "2050"
         ],
         "textfont": {
          "color": [
           "goldenrod",
           "gold"
          ],
          "size": 1
         },
         "type": "scatterternary"
        },
        {
         "a": [
          0.1437286421396448
         ],
         "b": [
          0.4455936995234322
         ],
         "c": [
          0.41067765833692327
         ],
         "mode": "text",
         "showlegend": false,
         "subplot": "ternary",
         "text": [
          "🗲"
         ],
         "textfont": {
          "color": "gold",
          "size": 30
         },
         "type": "scatterternary"
        },
        {
         "a": [
          0.19898002187042962,
          0.1437286421396448
         ],
         "b": [
          0.5232469331552541,
          0.4455936995234322
         ],
         "c": [
          0.2777730449743163,
          0.41067765833692327
         ],
         "hoverinfo": "skip",
         "line": {
          "color": "goldenrod",
          "dash": "dot",
          "width": 1
         },
         "mode": "lines",
         "showlegend": false,
         "subplot": "ternary",
         "text": "",
         "type": "scatterternary"
        },
        {
         "a": [
          0.2134074667302871
         ],
         "b": [
          0.5306494080202113
         ],
         "c": [
          0.2559431252495017
         ],
         "hovertemplate": "%{text}<br>Var (climate): %{a}<br>Var (model): %{b} <br>Var (other): %{c}",
         "line": {
          "width": 1.5
         },
         "marker": {
          "color": "goldenrod",
          "line": {
           "color": "black",
           "width": 1
          },
          "opacity": 1,
          "size": 0.1,
          "symbol": "circle"
         },
         "mode": "markers",
         "name": "Solar",
         "showlegend": false,
         "subplot": "ternary",
         "text": [
          "2050"
         ],
         "textfont": {
          "color": [
           "goldenrod",
           "gold"
          ],
          "size": 1
         },
         "type": "scatterternary"
        },
        {
         "a": [
          0.2134074667302871
         ],
         "b": [
          0.5306494080202113
         ],
         "c": [
          0.2559431252495017
         ],
         "mode": "text",
         "showlegend": false,
         "subplot": "ternary",
         "text": [
          "🗲"
         ],
         "textfont": {
          "color": "goldenrod",
          "size": 30
         },
         "type": "scatterternary"
        },
        {
         "a": [
          0.16837446018656638
         ],
         "b": [
          0.5785184663778222
         ],
         "c": [
          0.25310707343561156
         ],
         "hovertemplate": "%{text}<br>Var (climate): %{a}<br>Var (model): %{b} <br>Var (other): %{c}",
         "line": {
          "width": 1.5
         },
         "marker": {
          "color": "gold",
          "line": {
           "color": "black",
           "width": 1
          },
          "opacity": 1,
          "size": 0.1,
          "symbol": "circle"
         },
         "mode": "markers",
         "name": "Solar (fr)",
         "showlegend": false,
         "subplot": "ternary",
         "text": [
          "2050"
         ],
         "textfont": {
          "color": [
           "goldenrod",
           "gold"
          ],
          "size": 1
         },
         "type": "scatterternary"
        },
        {
         "a": [
          0.16837446018656638
         ],
         "b": [
          0.5785184663778222
         ],
         "c": [
          0.25310707343561156
         ],
         "mode": "text",
         "showlegend": false,
         "subplot": "ternary",
         "text": [
          "🗲"
         ],
         "textfont": {
          "color": "gold",
          "size": 30
         },
         "type": "scatterternary"
        },
        {
         "a": [
          0.2134074667302871,
          0.16837446018656638
         ],
         "b": [
          0.5306494080202113,
          0.5785184663778222
         ],
         "c": [
          0.2559431252495017,
          0.25310707343561156
         ],
         "hoverinfo": "skip",
         "line": {
          "color": "goldenrod",
          "dash": "dot",
          "width": 1
         },
         "mode": "lines",
         "showlegend": false,
         "subplot": "ternary",
         "text": "",
         "type": "scatterternary"
        },
        {
         "a": [
          0.3453749839268033
         ],
         "b": [
          0.49199812012289035
         ],
         "c": [
          0.16262689595030644
         ],
         "hovertemplate": "%{text}<br>Var (climate): %{a}<br>Var (model): %{b} <br>Var (other): %{c}",
         "line": {
          "width": 1.5
         },
         "marker": {
          "color": "goldenrod",
          "line": {
           "color": "black",
           "width": 1
          },
          "opacity": 1,
          "size": 0.1,
          "symbol": "circle"
         },
         "mode": "markers",
         "name": "Wind",
         "showlegend": false,
         "subplot": "ternary",
         "text": [
          "2050"
         ],
         "textfont": {
          "color": [
           "goldenrod",
           "gold"
          ],
          "size": 1
         },
         "type": "scatterternary"
        },
        {
         "a": [
          0.3453749839268033
         ],
         "b": [
          0.49199812012289035
         ],
         "c": [
          0.16262689595030644
         ],
         "mode": "text",
         "showlegend": false,
         "subplot": "ternary",
         "text": [
          "🗲"
         ],
         "textfont": {
          "color": "goldenrod",
          "size": 30
         },
         "type": "scatterternary"
        },
        {
         "a": [
          0.19759542749031
         ],
         "b": [
          0.6783358189772319
         ],
         "c": [
          0.12406875353245797
         ],
         "hovertemplate": "%{text}<br>Var (climate): %{a}<br>Var (model): %{b} <br>Var (other): %{c}",
         "line": {
          "width": 1.5
         },
         "marker": {
          "color": "gold",
          "line": {
           "color": "black",
           "width": 1
          },
          "opacity": 1,
          "size": 0.1,
          "symbol": "circle"
         },
         "mode": "markers",
         "name": "Wind (fr)",
         "showlegend": false,
         "subplot": "ternary",
         "text": [
          "2050"
         ],
         "textfont": {
          "color": [
           "goldenrod",
           "gold"
          ],
          "size": 1
         },
         "type": "scatterternary"
        },
        {
         "a": [
          0.19759542749031
         ],
         "b": [
          0.6783358189772319
         ],
         "c": [
          0.12406875353245797
         ],
         "mode": "text",
         "showlegend": false,
         "subplot": "ternary",
         "text": [
          "🗲"
         ],
         "textfont": {
          "color": "gold",
          "size": 30
         },
         "type": "scatterternary"
        },
        {
         "a": [
          0.3453749839268033,
          0.19759542749031
         ],
         "b": [
          0.49199812012289035,
          0.6783358189772319
         ],
         "c": [
          0.16262689595030644,
          0.12406875353245797
         ],
         "hoverinfo": "skip",
         "line": {
          "color": "goldenrod",
          "dash": "dot",
          "width": 1
         },
         "mode": "lines",
         "showlegend": false,
         "subplot": "ternary",
         "text": "",
         "type": "scatterternary"
        },
        {
         "a": [
          0.1878322529083381
         ],
         "b": [
          0.7111233818629606
         ],
         "c": [
          0.10104436522870124
         ],
         "hovertemplate": "%{text}<br>Var (climate): %{a}<br>Var (model): %{b} <br>Var (other): %{c}",
         "line": {
          "width": 1.5
         },
         "marker": {
          "color": "goldenrod",
          "line": {
           "color": "black",
           "width": 1
          },
          "opacity": 1,
          "size": 0.1,
          "symbol": "circle"
         },
         "mode": "markers",
         "name": "Hydro",
         "showlegend": false,
         "subplot": "ternary",
         "text": [
          "2050"
         ],
         "textfont": {
          "color": [
           "goldenrod",
           "gold"
          ],
          "size": 1
         },
         "type": "scatterternary"
        },
        {
         "a": [
          0.1878322529083381
         ],
         "b": [
          0.7111233818629606
         ],
         "c": [
          0.10104436522870124
         ],
         "mode": "text",
         "showlegend": false,
         "subplot": "ternary",
         "text": [
          "🗲"
         ],
         "textfont": {
          "color": "goldenrod",
          "size": 30
         },
         "type": "scatterternary"
        },
        {
         "a": [
          0.12052197352891733
         ],
         "b": [
          0.737982436517539
         ],
         "c": [
          0.1414955899535436
         ],
         "hovertemplate": "%{text}<br>Var (climate): %{a}<br>Var (model): %{b} <br>Var (other): %{c}",
         "line": {
          "width": 1.5
         },
         "marker": {
          "color": "gold",
          "line": {
           "color": "black",
           "width": 1
          },
          "opacity": 1,
          "size": 0.1,
          "symbol": "circle"
         },
         "mode": "markers",
         "name": "Hydro (fr)",
         "showlegend": false,
         "subplot": "ternary",
         "text": [
          "2050"
         ],
         "textfont": {
          "color": [
           "goldenrod",
           "gold"
          ],
          "size": 1
         },
         "type": "scatterternary"
        },
        {
         "a": [
          0.12052197352891733
         ],
         "b": [
          0.737982436517539
         ],
         "c": [
          0.1414955899535436
         ],
         "mode": "text",
         "showlegend": false,
         "subplot": "ternary",
         "text": [
          "🗲"
         ],
         "textfont": {
          "color": "gold",
          "size": 30
         },
         "type": "scatterternary"
        },
        {
         "a": [
          0.1878322529083381,
          0.12052197352891733
         ],
         "b": [
          0.7111233818629606,
          0.737982436517539
         ],
         "c": [
          0.10104436522870124,
          0.1414955899535436
         ],
         "hoverinfo": "skip",
         "line": {
          "color": "goldenrod",
          "dash": "dot",
          "width": 1
         },
         "mode": "lines",
         "showlegend": false,
         "subplot": "ternary",
         "text": "",
         "type": "scatterternary"
        },
        {
         "a": [
          0.45243551815596755
         ],
         "b": [
          0.3637412946634257
         ],
         "c": [
          0.18382318718060692
         ],
         "hovertemplate": "%{text}<br>Var (climate): %{a}<br>Var (model): %{b} <br>Var (other): %{c}",
         "line": {
          "width": 1.5
         },
         "marker": {
          "color": "goldenrod",
          "line": {
           "color": "black",
           "width": 1
          },
          "opacity": 1,
          "size": 0.1,
          "symbol": "circle"
         },
         "mode": "markers",
         "name": "Renewables (incl. Biomass)",
         "showlegend": false,
         "subplot": "ternary",
         "text": [
          "2050"
         ],
         "textfont": {
          "color": [
           "goldenrod",
           "gold"
          ],
          "size": 1
         },
         "type": "scatterternary"
        },
        {
         "a": [
          0.45243551815596755
         ],
         "b": [
          0.3637412946634257
         ],
         "c": [
          0.18382318718060692
         ],
         "mode": "text",
         "showlegend": false,
         "subplot": "ternary",
         "text": [
          "🗲"
         ],
         "textfont": {
          "color": "goldenrod",
          "size": 30
         },
         "type": "scatterternary"
        },
        {
         "a": [
          0.36945901733455816
         ],
         "b": [
          0.4703546408890367
         ],
         "c": [
          0.16018634177640498
         ],
         "hovertemplate": "%{text}<br>Var (climate): %{a}<br>Var (model): %{b} <br>Var (other): %{c}",
         "line": {
          "width": 1.5
         },
         "marker": {
          "color": "gold",
          "line": {
           "color": "black",
           "width": 1
          },
          "opacity": 1,
          "size": 0.1,
          "symbol": "circle"
         },
         "mode": "markers",
         "name": "Renewables (incl. Biomass) (fr)",
         "showlegend": false,
         "subplot": "ternary",
         "text": [
          "2050"
         ],
         "textfont": {
          "color": [
           "goldenrod",
           "gold"
          ],
          "size": 1
         },
         "type": "scatterternary"
        },
        {
         "a": [
          0.36945901733455816
         ],
         "b": [
          0.4703546408890367
         ],
         "c": [
          0.16018634177640498
         ],
         "mode": "text",
         "showlegend": false,
         "subplot": "ternary",
         "text": [
          "🗲"
         ],
         "textfont": {
          "color": "gold",
          "size": 30
         },
         "type": "scatterternary"
        },
        {
         "a": [
          0.45243551815596755,
          0.36945901733455816
         ],
         "b": [
          0.3637412946634257,
          0.4703546408890367
         ],
         "c": [
          0.18382318718060692,
          0.16018634177640498
         ],
         "hoverinfo": "skip",
         "line": {
          "color": "goldenrod",
          "dash": "dot",
          "width": 1
         },
         "mode": "lines",
         "showlegend": false,
         "subplot": "ternary",
         "text": "",
         "type": "scatterternary"
        },
        {
         "a": [
          0.1491012132363978
         ],
         "b": [
          0.6678092613773173
         ],
         "c": [
          0.18308952538628487
         ],
         "hovertemplate": "%{text}<br>Var (climate): %{a}<br>Var (model): %{b} <br>Var (other): %{c}",
         "line": {
          "width": 1.5
         },
         "marker": {
          "color": "goldenrod",
          "line": {
           "color": "black",
           "width": 1
          },
          "opacity": 1,
          "size": 0.1,
          "symbol": "circle"
         },
         "mode": "markers",
         "name": "Geothermal",
         "showlegend": false,
         "subplot": "ternary",
         "text": [
          "2050"
         ],
         "textfont": {
          "color": [
           "goldenrod",
           "gold"
          ],
          "size": 1
         },
         "type": "scatterternary"
        },
        {
         "a": [
          0.1491012132363978
         ],
         "b": [
          0.6678092613773173
         ],
         "c": [
          0.18308952538628487
         ],
         "mode": "text",
         "showlegend": false,
         "subplot": "ternary",
         "text": [
          "🗲"
         ],
         "textfont": {
          "color": "goldenrod",
          "size": 30
         },
         "type": "scatterternary"
        },
        {
         "a": [
          0.13669555549670584
         ],
         "b": [
          0.6359261831710711
         ],
         "c": [
          0.22737826133222294
         ],
         "hovertemplate": "%{text}<br>Var (climate): %{a}<br>Var (model): %{b} <br>Var (other): %{c}",
         "line": {
          "width": 1.5
         },
         "marker": {
          "color": "gold",
          "line": {
           "color": "black",
           "width": 1
          },
          "opacity": 1,
          "size": 0.1,
          "symbol": "circle"
         },
         "mode": "markers",
         "name": "Geothermal (fr)",
         "showlegend": false,
         "subplot": "ternary",
         "text": [
          "2050"
         ],
         "textfont": {
          "color": [
           "goldenrod",
           "gold"
          ],
          "size": 1
         },
         "type": "scatterternary"
        },
        {
         "a": [
          0.13669555549670584
         ],
         "b": [
          0.6359261831710711
         ],
         "c": [
          0.22737826133222294
         ],
         "mode": "text",
         "showlegend": false,
         "subplot": "ternary",
         "text": [
          "🗲"
         ],
         "textfont": {
          "color": "gold",
          "size": 30
         },
         "type": "scatterternary"
        },
        {
         "a": [
          0.1491012132363978,
          0.13669555549670584
         ],
         "b": [
          0.6678092613773173,
          0.6359261831710711
         ],
         "c": [
          0.18308952538628487,
          0.22737826133222294
         ],
         "hoverinfo": "skip",
         "line": {
          "color": "goldenrod",
          "dash": "dot",
          "width": 1
         },
         "mode": "lines",
         "showlegend": false,
         "subplot": "ternary",
         "text": "",
         "type": "scatterternary"
        }
       ],
       "layout": {
        "height": 750,
        "margin": {
         "b": 0,
         "l": 50,
         "r": 0,
         "t": 0
        },
        "template": {
         "data": {
          "bar": [
           {
            "error_x": {
             "color": "#2a3f5f"
            },
            "error_y": {
             "color": "#2a3f5f"
            },
            "marker": {
             "line": {
              "color": "#E5ECF6",
              "width": 0.5
             },
             "pattern": {
              "fillmode": "overlay",
              "size": 10,
              "solidity": 0.2
             }
            },
            "type": "bar"
           }
          ],
          "barpolar": [
           {
            "marker": {
             "line": {
              "color": "#E5ECF6",
              "width": 0.5
             },
             "pattern": {
              "fillmode": "overlay",
              "size": 10,
              "solidity": 0.2
             }
            },
            "type": "barpolar"
           }
          ],
          "carpet": [
           {
            "aaxis": {
             "endlinecolor": "#2a3f5f",
             "gridcolor": "white",
             "linecolor": "white",
             "minorgridcolor": "white",
             "startlinecolor": "#2a3f5f"
            },
            "baxis": {
             "endlinecolor": "#2a3f5f",
             "gridcolor": "white",
             "linecolor": "white",
             "minorgridcolor": "white",
             "startlinecolor": "#2a3f5f"
            },
            "type": "carpet"
           }
          ],
          "choropleth": [
           {
            "colorbar": {
             "outlinewidth": 0,
             "ticks": ""
            },
            "type": "choropleth"
           }
          ],
          "contour": [
           {
            "colorbar": {
             "outlinewidth": 0,
             "ticks": ""
            },
            "colorscale": [
             [
              0,
              "#0d0887"
             ],
             [
              0.1111111111111111,
              "#46039f"
             ],
             [
              0.2222222222222222,
              "#7201a8"
             ],
             [
              0.3333333333333333,
              "#9c179e"
             ],
             [
              0.4444444444444444,
              "#bd3786"
             ],
             [
              0.5555555555555556,
              "#d8576b"
             ],
             [
              0.6666666666666666,
              "#ed7953"
             ],
             [
              0.7777777777777778,
              "#fb9f3a"
             ],
             [
              0.8888888888888888,
              "#fdca26"
             ],
             [
              1,
              "#f0f921"
             ]
            ],
            "type": "contour"
           }
          ],
          "contourcarpet": [
           {
            "colorbar": {
             "outlinewidth": 0,
             "ticks": ""
            },
            "type": "contourcarpet"
           }
          ],
          "heatmap": [
           {
            "colorbar": {
             "outlinewidth": 0,
             "ticks": ""
            },
            "colorscale": [
             [
              0,
              "#0d0887"
             ],
             [
              0.1111111111111111,
              "#46039f"
             ],
             [
              0.2222222222222222,
              "#7201a8"
             ],
             [
              0.3333333333333333,
              "#9c179e"
             ],
             [
              0.4444444444444444,
              "#bd3786"
             ],
             [
              0.5555555555555556,
              "#d8576b"
             ],
             [
              0.6666666666666666,
              "#ed7953"
             ],
             [
              0.7777777777777778,
              "#fb9f3a"
             ],
             [
              0.8888888888888888,
              "#fdca26"
             ],
             [
              1,
              "#f0f921"
             ]
            ],
            "type": "heatmap"
           }
          ],
          "heatmapgl": [
           {
            "colorbar": {
             "outlinewidth": 0,
             "ticks": ""
            },
            "colorscale": [
             [
              0,
              "#0d0887"
             ],
             [
              0.1111111111111111,
              "#46039f"
             ],
             [
              0.2222222222222222,
              "#7201a8"
             ],
             [
              0.3333333333333333,
              "#9c179e"
             ],
             [
              0.4444444444444444,
              "#bd3786"
             ],
             [
              0.5555555555555556,
              "#d8576b"
             ],
             [
              0.6666666666666666,
              "#ed7953"
             ],
             [
              0.7777777777777778,
              "#fb9f3a"
             ],
             [
              0.8888888888888888,
              "#fdca26"
             ],
             [
              1,
              "#f0f921"
             ]
            ],
            "type": "heatmapgl"
           }
          ],
          "histogram": [
           {
            "marker": {
             "pattern": {
              "fillmode": "overlay",
              "size": 10,
              "solidity": 0.2
             }
            },
            "type": "histogram"
           }
          ],
          "histogram2d": [
           {
            "colorbar": {
             "outlinewidth": 0,
             "ticks": ""
            },
            "colorscale": [
             [
              0,
              "#0d0887"
             ],
             [
              0.1111111111111111,
              "#46039f"
             ],
             [
              0.2222222222222222,
              "#7201a8"
             ],
             [
              0.3333333333333333,
              "#9c179e"
             ],
             [
              0.4444444444444444,
              "#bd3786"
             ],
             [
              0.5555555555555556,
              "#d8576b"
             ],
             [
              0.6666666666666666,
              "#ed7953"
             ],
             [
              0.7777777777777778,
              "#fb9f3a"
             ],
             [
              0.8888888888888888,
              "#fdca26"
             ],
             [
              1,
              "#f0f921"
             ]
            ],
            "type": "histogram2d"
           }
          ],
          "histogram2dcontour": [
           {
            "colorbar": {
             "outlinewidth": 0,
             "ticks": ""
            },
            "colorscale": [
             [
              0,
              "#0d0887"
             ],
             [
              0.1111111111111111,
              "#46039f"
             ],
             [
              0.2222222222222222,
              "#7201a8"
             ],
             [
              0.3333333333333333,
              "#9c179e"
             ],
             [
              0.4444444444444444,
              "#bd3786"
             ],
             [
              0.5555555555555556,
              "#d8576b"
             ],
             [
              0.6666666666666666,
              "#ed7953"
             ],
             [
              0.7777777777777778,
              "#fb9f3a"
             ],
             [
              0.8888888888888888,
              "#fdca26"
             ],
             [
              1,
              "#f0f921"
             ]
            ],
            "type": "histogram2dcontour"
           }
          ],
          "mesh3d": [
           {
            "colorbar": {
             "outlinewidth": 0,
             "ticks": ""
            },
            "type": "mesh3d"
           }
          ],
          "parcoords": [
           {
            "line": {
             "colorbar": {
              "outlinewidth": 0,
              "ticks": ""
             }
            },
            "type": "parcoords"
           }
          ],
          "pie": [
           {
            "automargin": true,
            "type": "pie"
           }
          ],
          "scatter": [
           {
            "fillpattern": {
             "fillmode": "overlay",
             "size": 10,
             "solidity": 0.2
            },
            "type": "scatter"
           }
          ],
          "scatter3d": [
           {
            "line": {
             "colorbar": {
              "outlinewidth": 0,
              "ticks": ""
             }
            },
            "marker": {
             "colorbar": {
              "outlinewidth": 0,
              "ticks": ""
             }
            },
            "type": "scatter3d"
           }
          ],
          "scattercarpet": [
           {
            "marker": {
             "colorbar": {
              "outlinewidth": 0,
              "ticks": ""
             }
            },
            "type": "scattercarpet"
           }
          ],
          "scattergeo": [
           {
            "marker": {
             "colorbar": {
              "outlinewidth": 0,
              "ticks": ""
             }
            },
            "type": "scattergeo"
           }
          ],
          "scattergl": [
           {
            "marker": {
             "colorbar": {
              "outlinewidth": 0,
              "ticks": ""
             }
            },
            "type": "scattergl"
           }
          ],
          "scattermapbox": [
           {
            "marker": {
             "colorbar": {
              "outlinewidth": 0,
              "ticks": ""
             }
            },
            "type": "scattermapbox"
           }
          ],
          "scatterpolar": [
           {
            "marker": {
             "colorbar": {
              "outlinewidth": 0,
              "ticks": ""
             }
            },
            "type": "scatterpolar"
           }
          ],
          "scatterpolargl": [
           {
            "marker": {
             "colorbar": {
              "outlinewidth": 0,
              "ticks": ""
             }
            },
            "type": "scatterpolargl"
           }
          ],
          "scatterternary": [
           {
            "marker": {
             "colorbar": {
              "outlinewidth": 0,
              "ticks": ""
             }
            },
            "type": "scatterternary"
           }
          ],
          "surface": [
           {
            "colorbar": {
             "outlinewidth": 0,
             "ticks": ""
            },
            "colorscale": [
             [
              0,
              "#0d0887"
             ],
             [
              0.1111111111111111,
              "#46039f"
             ],
             [
              0.2222222222222222,
              "#7201a8"
             ],
             [
              0.3333333333333333,
              "#9c179e"
             ],
             [
              0.4444444444444444,
              "#bd3786"
             ],
             [
              0.5555555555555556,
              "#d8576b"
             ],
             [
              0.6666666666666666,
              "#ed7953"
             ],
             [
              0.7777777777777778,
              "#fb9f3a"
             ],
             [
              0.8888888888888888,
              "#fdca26"
             ],
             [
              1,
              "#f0f921"
             ]
            ],
            "type": "surface"
           }
          ],
          "table": [
           {
            "cells": {
             "fill": {
              "color": "#EBF0F8"
             },
             "line": {
              "color": "white"
             }
            },
            "header": {
             "fill": {
              "color": "#C8D4E3"
             },
             "line": {
              "color": "white"
             }
            },
            "type": "table"
           }
          ]
         },
         "layout": {
          "annotationdefaults": {
           "arrowcolor": "#2a3f5f",
           "arrowhead": 0,
           "arrowwidth": 1
          },
          "autotypenumbers": "strict",
          "coloraxis": {
           "colorbar": {
            "outlinewidth": 0,
            "ticks": ""
           }
          },
          "colorscale": {
           "diverging": [
            [
             0,
             "#8e0152"
            ],
            [
             0.1,
             "#c51b7d"
            ],
            [
             0.2,
             "#de77ae"
            ],
            [
             0.3,
             "#f1b6da"
            ],
            [
             0.4,
             "#fde0ef"
            ],
            [
             0.5,
             "#f7f7f7"
            ],
            [
             0.6,
             "#e6f5d0"
            ],
            [
             0.7,
             "#b8e186"
            ],
            [
             0.8,
             "#7fbc41"
            ],
            [
             0.9,
             "#4d9221"
            ],
            [
             1,
             "#276419"
            ]
           ],
           "sequential": [
            [
             0,
             "#0d0887"
            ],
            [
             0.1111111111111111,
             "#46039f"
            ],
            [
             0.2222222222222222,
             "#7201a8"
            ],
            [
             0.3333333333333333,
             "#9c179e"
            ],
            [
             0.4444444444444444,
             "#bd3786"
            ],
            [
             0.5555555555555556,
             "#d8576b"
            ],
            [
             0.6666666666666666,
             "#ed7953"
            ],
            [
             0.7777777777777778,
             "#fb9f3a"
            ],
            [
             0.8888888888888888,
             "#fdca26"
            ],
            [
             1,
             "#f0f921"
            ]
           ],
           "sequentialminus": [
            [
             0,
             "#0d0887"
            ],
            [
             0.1111111111111111,
             "#46039f"
            ],
            [
             0.2222222222222222,
             "#7201a8"
            ],
            [
             0.3333333333333333,
             "#9c179e"
            ],
            [
             0.4444444444444444,
             "#bd3786"
            ],
            [
             0.5555555555555556,
             "#d8576b"
            ],
            [
             0.6666666666666666,
             "#ed7953"
            ],
            [
             0.7777777777777778,
             "#fb9f3a"
            ],
            [
             0.8888888888888888,
             "#fdca26"
            ],
            [
             1,
             "#f0f921"
            ]
           ]
          },
          "colorway": [
           "#636efa",
           "#EF553B",
           "#00cc96",
           "#ab63fa",
           "#FFA15A",
           "#19d3f3",
           "#FF6692",
           "#B6E880",
           "#FF97FF",
           "#FECB52"
          ],
          "font": {
           "color": "#2a3f5f"
          },
          "geo": {
           "bgcolor": "white",
           "lakecolor": "white",
           "landcolor": "#E5ECF6",
           "showlakes": true,
           "showland": true,
           "subunitcolor": "white"
          },
          "hoverlabel": {
           "align": "left"
          },
          "hovermode": "closest",
          "mapbox": {
           "style": "light"
          },
          "paper_bgcolor": "white",
          "plot_bgcolor": "#E5ECF6",
          "polar": {
           "angularaxis": {
            "gridcolor": "white",
            "linecolor": "white",
            "ticks": ""
           },
           "bgcolor": "#E5ECF6",
           "radialaxis": {
            "gridcolor": "white",
            "linecolor": "white",
            "ticks": ""
           }
          },
          "scene": {
           "xaxis": {
            "backgroundcolor": "#E5ECF6",
            "gridcolor": "white",
            "gridwidth": 2,
            "linecolor": "white",
            "showbackground": true,
            "ticks": "",
            "zerolinecolor": "white"
           },
           "yaxis": {
            "backgroundcolor": "#E5ECF6",
            "gridcolor": "white",
            "gridwidth": 2,
            "linecolor": "white",
            "showbackground": true,
            "ticks": "",
            "zerolinecolor": "white"
           },
           "zaxis": {
            "backgroundcolor": "#E5ECF6",
            "gridcolor": "white",
            "gridwidth": 2,
            "linecolor": "white",
            "showbackground": true,
            "ticks": "",
            "zerolinecolor": "white"
           }
          },
          "shapedefaults": {
           "line": {
            "color": "#2a3f5f"
           }
          },
          "ternary": {
           "aaxis": {
            "gridcolor": "white",
            "linecolor": "white",
            "ticks": ""
           },
           "baxis": {
            "gridcolor": "white",
            "linecolor": "white",
            "ticks": ""
           },
           "bgcolor": "#E5ECF6",
           "caxis": {
            "gridcolor": "white",
            "linecolor": "white",
            "ticks": ""
           }
          },
          "title": {
           "x": 0.05
          },
          "xaxis": {
           "automargin": true,
           "gridcolor": "white",
           "linecolor": "white",
           "ticks": "",
           "title": {
            "standoff": 15
           },
           "zerolinecolor": "white",
           "zerolinewidth": 2
          },
          "yaxis": {
           "automargin": true,
           "gridcolor": "white",
           "linecolor": "white",
           "ticks": "",
           "title": {
            "standoff": 15
           },
           "zerolinecolor": "white",
           "zerolinewidth": 2
          }
         }
        },
        "ternary": {
         "aaxis": {
          "linewidth": 0,
          "min": 0,
          "tickfont": {
           "size": 12
          },
          "tickmode": "array",
          "ticks": "outside",
          "ticktext": [
           "50%",
           "60%",
           "70%",
           "80%",
           "90%",
           "100%"
          ],
          "tickvals": [
           0.5,
           0.6,
           0.7,
           0.8,
           0.9,
           1
          ],
          "title": {
           "text": "Climate target<br>"
          }
         },
         "baxis": {
          "linewidth": 2,
          "min": 0,
          "tickangle": 60,
          "tickfont": {
           "size": 12
          },
          "tickmode": "array",
          "ticks": "outside",
          "ticktext": [
           "50%",
           "60%",
           "70%",
           "80%",
           "90%",
           "100%"
          ],
          "tickvals": [
           0.5,
           0.6,
           0.7,
           0.8,
           0.9,
           1
          ],
          "title": {
           "text": "Model &nbsp; &nbsp;"
          }
         },
         "bgcolor": "rgba(0,0,0,0)",
         "caxis": {
          "linewidth": 2,
          "min": 0,
          "tickangle": -60,
          "tickfont": {
           "size": 12
          },
          "tickmode": "array",
          "ticks": "outside",
          "ticktext": [
           "50%",
           "60%",
           "70%",
           "80%",
           "90%",
           "100%"
          ],
          "tickvals": [
           0.5,
           0.6,
           0.7,
           0.8,
           0.9,
           1
          ],
          "title": {
           "text": "Other scenario<br>assumptions"
          }
         },
         "domain": {
          "x": [
           0,
           0.584
          ],
          "y": [
           0,
           0.9999999999999999
          ]
         },
         "sum": 1
        },
        "width": 1300,
        "xaxis": {
         "anchor": "y",
         "domain": [
          0.208,
          0.376
         ]
        },
        "xaxis10": {
         "anchor": "y10",
         "domain": [
          0.208,
          0.376
         ]
        },
        "xaxis11": {
         "anchor": "y11",
         "domain": [
          0.416,
          0.584
         ]
        },
        "xaxis12": {
         "anchor": "y12",
         "domain": [
          0.624,
          0.792
         ]
        },
        "xaxis13": {
         "anchor": "y13",
         "domain": [
          0.832,
          1
         ]
        },
        "xaxis14": {
         "anchor": "y14",
         "domain": [
          0,
          0.16799999999999998
         ]
        },
        "xaxis15": {
         "anchor": "y15",
         "domain": [
          0.208,
          0.376
         ]
        },
        "xaxis16": {
         "anchor": "y16",
         "domain": [
          0.416,
          0.584
         ]
        },
        "xaxis17": {
         "anchor": "y17",
         "domain": [
          0.832,
          1
         ]
        },
        "xaxis18": {
         "anchor": "y18",
         "domain": [
          0,
          0.16799999999999998
         ]
        },
        "xaxis19": {
         "anchor": "y19",
         "domain": [
          0.208,
          0.376
         ]
        },
        "xaxis2": {
         "anchor": "y2",
         "domain": [
          0.416,
          0.584
         ]
        },
        "xaxis20": {
         "anchor": "y20",
         "domain": [
          0.416,
          0.584
         ]
        },
        "xaxis21": {
         "anchor": "y21",
         "domain": [
          0.624,
          0.792
         ]
        },
        "xaxis22": {
         "anchor": "y22",
         "domain": [
          0.832,
          1
         ]
        },
        "xaxis23": {
         "anchor": "y23",
         "domain": [
          0,
          0.16799999999999998
         ]
        },
        "xaxis24": {
         "anchor": "y24",
         "domain": [
          0.208,
          0.376
         ]
        },
        "xaxis25": {
         "anchor": "y25",
         "domain": [
          0.416,
          0.584
         ]
        },
        "xaxis26": {
         "anchor": "y26",
         "domain": [
          0.624,
          0.792
         ]
        },
        "xaxis27": {
         "anchor": "y27",
         "domain": [
          0.832,
          1
         ]
        },
        "xaxis3": {
         "anchor": "y3",
         "domain": [
          0.624,
          0.792
         ]
        },
        "xaxis4": {
         "anchor": "y4",
         "domain": [
          0.832,
          1
         ]
        },
        "xaxis5": {
         "anchor": "y5",
         "domain": [
          0,
          0.16799999999999998
         ]
        },
        "xaxis6": {
         "anchor": "y6",
         "domain": [
          0.208,
          0.376
         ]
        },
        "xaxis7": {
         "anchor": "y7",
         "domain": [
          0.416,
          0.584
         ]
        },
        "xaxis8": {
         "anchor": "y8",
         "domain": [
          0.832,
          1
         ]
        },
        "xaxis9": {
         "anchor": "y9",
         "domain": [
          0,
          0.16799999999999998
         ]
        },
        "yaxis": {
         "anchor": "x",
         "domain": [
          0.8333333333333333,
          0.9999999999999999
         ]
        },
        "yaxis10": {
         "anchor": "x10",
         "domain": [
          0.5,
          0.6666666666666666
         ]
        },
        "yaxis11": {
         "anchor": "x11",
         "domain": [
          0.5,
          0.6666666666666666
         ]
        },
        "yaxis12": {
         "anchor": "x12",
         "domain": [
          0.5,
          0.6666666666666666
         ]
        },
        "yaxis13": {
         "anchor": "x13",
         "domain": [
          0.5,
          0.6666666666666666
         ]
        },
        "yaxis14": {
         "anchor": "x14",
         "domain": [
          0.3333333333333333,
          0.5
         ]
        },
        "yaxis15": {
         "anchor": "x15",
         "domain": [
          0.3333333333333333,
          0.5
         ]
        },
        "yaxis16": {
         "anchor": "x16",
         "domain": [
          0.3333333333333333,
          0.5
         ]
        },
        "yaxis17": {
         "anchor": "x17",
         "domain": [
          0.3333333333333333,
          0.5
         ]
        },
        "yaxis18": {
         "anchor": "x18",
         "domain": [
          0.16666666666666666,
          0.3333333333333333
         ]
        },
        "yaxis19": {
         "anchor": "x19",
         "domain": [
          0.16666666666666666,
          0.3333333333333333
         ]
        },
        "yaxis2": {
         "anchor": "x2",
         "domain": [
          0.8333333333333333,
          0.9999999999999999
         ]
        },
        "yaxis20": {
         "anchor": "x20",
         "domain": [
          0.16666666666666666,
          0.3333333333333333
         ]
        },
        "yaxis21": {
         "anchor": "x21",
         "domain": [
          0.16666666666666666,
          0.3333333333333333
         ]
        },
        "yaxis22": {
         "anchor": "x22",
         "domain": [
          0.16666666666666666,
          0.3333333333333333
         ]
        },
        "yaxis23": {
         "anchor": "x23",
         "domain": [
          0,
          0.16666666666666666
         ]
        },
        "yaxis24": {
         "anchor": "x24",
         "domain": [
          0,
          0.16666666666666666
         ]
        },
        "yaxis25": {
         "anchor": "x25",
         "domain": [
          0,
          0.16666666666666666
         ]
        },
        "yaxis26": {
         "anchor": "x26",
         "domain": [
          0,
          0.16666666666666666
         ]
        },
        "yaxis27": {
         "anchor": "x27",
         "domain": [
          0,
          0.16666666666666666
         ]
        },
        "yaxis3": {
         "anchor": "x3",
         "domain": [
          0.8333333333333333,
          0.9999999999999999
         ]
        },
        "yaxis4": {
         "anchor": "x4",
         "domain": [
          0.8333333333333333,
          0.9999999999999999
         ]
        },
        "yaxis5": {
         "anchor": "x5",
         "domain": [
          0.6666666666666666,
          0.8333333333333333
         ]
        },
        "yaxis6": {
         "anchor": "x6",
         "domain": [
          0.6666666666666666,
          0.8333333333333333
         ]
        },
        "yaxis7": {
         "anchor": "x7",
         "domain": [
          0.6666666666666666,
          0.8333333333333333
         ]
        },
        "yaxis8": {
         "anchor": "x8",
         "domain": [
          0.6666666666666666,
          0.8333333333333333
         ]
        },
        "yaxis9": {
         "anchor": "x9",
         "domain": [
          0.5,
          0.6666666666666666
         ]
        }
       }
      }
     },
     "metadata": {},
     "output_type": "display_data"
    }
   ],
   "source": [
    "# -*- coding: utf-8 -*-\n",
    "fig = make_subplots(\n",
    "    rows=6, cols=5,\n",
    "    horizontal_spacing = 0.04,\n",
    "    vertical_spacing=0,\n",
    "    # column_widths = [0.15, 0.7, 0.15],\n",
    "    # row_heights = [0.15, 0.7, 0.15],\n",
    "    # specs = [[{\"type\": \"table\", \"rowspan\": 2}, {\"type\": \"scatterternary\", \"colspan\": 2, \"rowspan\": 6}, {}, {\"type\": \"table\", \"rowspan\": 2}],\n",
    "    #          [{}, {}, {}, {}],\n",
    "    #          [{\"type\": \"table\", \"rowspan\": 2}, {}, {}, {\"type\": \"table\", \"rowspan\": 2}],\n",
    "    #          [{}, {}, {}, {}],\n",
    "    #          [{\"type\": \"table\", \"rowspan\": 2}, {}, {}, {\"type\": \"table\", \"rowspan\": 2}],\n",
    "    #          [{}, {}, {}, {}]\n",
    "    #         ]\n",
    "    specs = [[{\"type\": \"scatterternary\", \"colspan\": 3, \"rowspan\": 6}, {}, {}, {}, {}],\n",
    "             [{}, {}, {}, {\"type\": \"table\", \"rowspan\": 2, \"colspan\": 2}, {}],\n",
    "             [{}, {}, {}, {}, {}],\n",
    "             [{}, {}, {}, {\"type\": \"table\", \"rowspan\": 2, \"colspan\": 2}, {}],\n",
    "             [{}, {}, {}, {}, {}],\n",
    "             [{}, {}, {}, {}, {}]\n",
    "            ]\n",
    ")\n",
    "\n",
    "# Lines 50%\n",
    "fig.add_trace(go.Scatterternary(a=[0.5, 0.5, 0, 0.5], b=[0, 0.5, 0.5, 0], c=[0.5, 0, 0.5, 0.5],\n",
    "                                                mode='lines',\n",
    "                                                showlegend=False,\n",
    "                                                hoverinfo='skip',\n",
    "                                                marker={'size': 15,\n",
    "                                                        'color': 'black',\n",
    "                                                        'opacity': 1,#0.9-i*0.03,\n",
    "                                                        'line' :dict(width=0., color=\"rgba(89,168,89,1)\")},\n",
    "                                                line={'width': 1, #np.mean(s[i:i+2])*0.5,\n",
    "                                                        'color': 'black'},\n",
    "                                                textfont=dict(size=5,\n",
    "                                                        color='black')), 1, 1)\n",
    "                                                        \n",
    "fig.add_trace(tables[0], 2, 4)\n",
    "fig.add_trace(tables[1], 4, 4)\n",
    "#fig.add_trace(tables[5], 5, 3)\n",
    "\n",
    "#fig.add_trace(tables[3], 1, 3)\n",
    "#fig.add_trace(tables[4], 3, 3)\n",
    "#fig.add_trace(tables[2], 7, 3)\n",
    "\n",
    "\n",
    "#fig.add_traces(fig1.data, 1, 1)\n",
    "for n in range(len(conttraces)):\n",
    "        fig.add_trace(conttraces[n], 1, 1)\n",
    "# for n in range(len(conttracesb)):\n",
    "#         fig.add_trace(conttracesb[n], 1, 1)\n",
    "# for n in range(len(trace_ternary_lines)):\n",
    "#     fig.add_trace(trace_ternary_lines[n], 1, 1)\n",
    "# for n in range(len(trace_ternary_border)):\n",
    "#     fig.add_trace(trace_ternary_border[n], 1, 1)\n",
    "for n in range(len(scatters)):\n",
    "    fig.add_trace(scatters[n], 1, 1)\n",
    "fig.update_layout(height=750, width=1300)\n",
    "fig.update_layout({'margin':dict(l=50,r=0,b=0,t=0),\n",
    "'ternary':\n",
    "{'sum':1,\n",
    "'bgcolor':'rgba(0,0,0,0)',#'whitesmoke',\n",
    "    # \"paper_bgcolor\":'rgba(0,0,0,0)',\n",
    "    # \"plot_bgcolor\":'rgba(0,0,0,0)',\n",
    "'aaxis':{'title': 'Climate target<br>', 'min': 0, \n",
    "        'linewidth':0, 'ticks':'outside',\n",
    "        'tickmode':'array','tickvals':[0.5, 0.6, 0.7, 0.8, 0.9, 1.0], 'ticktext':['50%', '60%', '70%', '80%', '90%', '100%'], 'tickfont':{'size':12}},\n",
    "'baxis':{'title': 'Model &nbsp; &nbsp;', 'min': 0, \n",
    "        'linewidth':2, 'ticks':'outside',\n",
    "        'tickmode':'array','tickvals':[0.5, 0.6, 0.7, 0.8, 0.9, 1.0], 'ticktext':['50%', '60%', '70%', '80%', '90%', '100%'],'tickangle':60, 'tickfont':{'size':12}},\n",
    "'caxis':{'title': 'Other scenario<br>assumptions', 'min': 0, \n",
    "        'linewidth':2, 'ticks':'outside',\n",
    "        'tickmode':'array','tickvals':[0.5, 0.6, 0.7, 0.8, 0.9, 1.0], 'ticktext':['50%', '60%', '70%', '80%', '90%', '100%'],'tickangle':-60, 'tickfont':{'size':12}}}})\n",
    "\n",
    "# fig.add_trace(go.Scatterternary(a=[a], b=[b], c=[c],\n",
    "# mode='text', textfont={'size': 35},\n",
    "# #text=[u'&#128663;'.encode(\"utf-8\")]))\n",
    "# text=[u'\\u9935'.encode(\"utf-8\")]))\n",
    "#draw_line(fig, \"Primary energy coal\", 0.5, 0.725, 150, -40, \"forestgreen\")\n",
    "# draw_line(fig, \"Primary energy oil\", 0.49, 0.62, 210, -40, \"violet\")\n",
    "# draw_line(fig, \"Kyoto gas emissions\", 0.51, 0.905, 120, -30, \"goldenrod\")\n",
    "# draw_line(fig, \"Coal (w/o CCS) in<br>electricity production\", 0.52, 0.765, 150, -60, \"forestgreen\")\n",
    "# draw_line(fig, \"Electricity usage<br>in industry\", 0.385, 0.235, -120, -120, \"silver\")\n",
    "# draw_line(fig, \"Electricity usage<br>in transport\", 0.395, 0.205, 200, -40, \"teal\")\n",
    "#draw_line(fig, \"Electricity usage<br>in residential\", 0.38, 0.145, 180, 40, \"silver\")\n",
    "# draw_ann(fig, \"Electricity in<br>residential sector\", 0.20, 0.486, \"darkgray\", \"down\", \"right\")\n",
    "# draw_ann(fig, \"Electricity in<br>transport sector\", 0.22, 0.556, \"teal\", \"up\", \"right\")\n",
    "# draw_ann(fig, \"Electricity in<br>industry sector\", 0.20, 0.592, \"peru\", \"up\", \"left\")\n",
    "# draw_ann(fig, \"Primary Energy<br>from coal\", 0.30, 0.85, \"forestgreen\", \"up\", \"left\")\n",
    "# draw_ann(fig, \"Primary Energy<br>from oil\", 0.29, 0.743, \"forestgreen\", \"down\", \"left\")\n",
    "# draw_ann(fig, \"Kyoto gas<br>emissions\", 0.345, 0.945, \"violet\", \"down\", \"right\")\n",
    "# draw_ann(fig, \"Electricity from<br>coal (w/o CCS)\", 0.335, 0.832, \"goldenrod\", \"down\", \"right\")\n",
    "fig.show()"
   ]
  },
  {
   "cell_type": "markdown",
   "metadata": {},
   "source": [
    "## Savings"
   ]
  },
  {
   "cell_type": "code",
   "execution_count": 89,
   "metadata": {},
   "outputs": [],
   "source": [
    "try:\n",
    "    os.remove('Figures/Paperfigures/Figure_si_fraction_e.html')\n",
    "except:\n",
    "    3\n",
    "def html_w(typ):\n",
    "    return '<html> '+typ+' <p style=\"font-family: Arial\">'\n",
    "\n",
    "# fig.write_image(\"Figures/Paperfigures/Figure_si_fraction_e.pdf\")\n",
    "# fig.write_image(\"Figures/Paperfigures/Figure_3_f.png\", scale=3)\n",
    "fig.write_image(\"Figures/Paperfigures/Figure_si_fraction_e.svg\")\n",
    "today = date.today()\n",
    "td = today.strftime(\"%B %d, %Y\")\n",
    "\n",
    "with open('Figures/Paperfigures/Figure_si_fraction_e.html', 'a') as f:\n",
    "    f.write(html_w('<h1>')+'Figure 3 - Overview</p></h1>')\n",
    "    f.write(html_w('<body>')+'Data is for year '+str(timestamp)+'. Version: '+td+'</p></body>')\n",
    "    f.write(fig.to_html(full_html=False, include_plotlyjs='cdn'))"
   ]
  },
  {
   "cell_type": "code",
   "execution_count": null,
   "metadata": {},
   "outputs": [],
   "source": []
  }
 ],
 "metadata": {
  "interpreter": {
   "hash": "36d5d389870ab01fa625d0d5123f82469a3683fa0e02c4f7e9e76e9a75345aa3"
  },
  "kernelspec": {
   "display_name": "Python 3.9.11 ('MyEnv')",
   "language": "python",
   "name": "python3"
  },
  "language_info": {
   "codemirror_mode": {
    "name": "ipython",
    "version": 3
   },
   "file_extension": ".py",
   "mimetype": "text/x-python",
   "name": "python",
   "nbconvert_exporter": "python",
   "pygments_lexer": "ipython3",
   "version": "3.9.16"
  },
  "orig_nbformat": 4
 },
 "nbformat": 4,
 "nbformat_minor": 2
}
