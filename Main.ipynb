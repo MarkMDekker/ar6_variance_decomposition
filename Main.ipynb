{
 "cells": [
  {
   "cell_type": "markdown",
   "metadata": {},
   "source": [
    "## Preambule"
   ]
  },
  {
   "cell_type": "code",
   "execution_count": 13,
   "metadata": {},
   "outputs": [],
   "source": [
    "import numpy as np\n",
    "import xarray as xr\n",
    "from importlib import reload\n",
    "import pandas as pd\n",
    "from tqdm import tqdm"
   ]
  },
  {
   "cell_type": "markdown",
   "metadata": {},
   "source": [
    "## Run data handling code"
   ]
  },
  {
   "cell_type": "code",
   "execution_count": 14,
   "metadata": {},
   "outputs": [
    {
     "name": "stdout",
     "output_type": "stream",
     "text": [
      "# ==================================== #\n",
      "# Initializing data_handling class     #\n",
      "# ==================================== #\n",
      "- Reading variable list\n",
      "- Reading metadata\n",
      "- Reading AR6 data\n",
      "- Applying various filters and preprocessing to the database\n",
      "- Merge model versions and combine with scenario names\n",
      "- Generate aggregated variables\n"
     ]
    },
    {
     "name": "stderr",
     "output_type": "stream",
     "text": [
      "100%|██████████| 1200/1200 [00:11<00:00, 104.77it/s]\n",
      "100%|██████████| 1200/1200 [00:07<00:00, 158.45it/s]\n",
      "100%|██████████| 1200/1200 [00:11<00:00, 101.17it/s]\n",
      "100%|██████████| 1200/1200 [00:12<00:00, 98.11it/s] \n"
     ]
    },
    {
     "name": "stdout",
     "output_type": "stream",
     "text": [
      "- Add fractional variables\n",
      "- Convert time dimension and xarray\n",
      "- Temporal interpolation\n",
      "- Filter out scenarios with C8 and models with small entry numbers\n",
      "- Save stuff\n"
     ]
    }
   ],
   "source": [
    "from class_datahandling import data_handling\n",
    "\n",
    "datahandler = data_handling()\n",
    "datahandler.read_variable_list()\n",
    "datahandler.read_metadata()\n",
    "datahandler.read_ar6()\n",
    "datahandler.filters_and_preprocessing()\n",
    "datahandler.merge_model_versions_and_scenarios()\n",
    "datahandler.generate_aggregated_variables()\n",
    "datahandler.add_fractional_variables()\n",
    "datahandler.conversion_to_xarray()\n",
    "datahandler.temporal_interpolation()\n",
    "datahandler.filters()\n",
    "datahandler.savings()"
   ]
  },
  {
   "cell_type": "markdown",
   "metadata": {},
   "source": [
    "## Run decomposition code"
   ]
  },
  {
   "cell_type": "code",
   "execution_count": 8,
   "metadata": {},
   "outputs": [
    {
     "name": "stdout",
     "output_type": "stream",
     "text": [
      "# ==================================== #\n",
      "# Initializing decomposition class     #\n",
      "# ==================================== #\n",
      "- Generate samples and apply decomposition\n"
     ]
    },
    {
     "name": "stderr",
     "output_type": "stream",
     "text": [
      "100%|██████████| 138/138 [00:14<00:00,  9.56it/s]"
     ]
    },
    {
     "name": "stdout",
     "output_type": "stream",
     "text": [
      "- Save stuff\n"
     ]
    },
    {
     "name": "stderr",
     "output_type": "stream",
     "text": [
      "\n"
     ]
    }
   ],
   "source": [
    "from class_decomposition import decomposition\n",
    "\n",
    "decomposer = decomposition()\n",
    "decomposer.sampling_and_decomposing()\n",
    "decomposer.savings()"
   ]
  },
  {
   "cell_type": "markdown",
   "metadata": {},
   "source": [
    "## Run sensitivity analysis code (optional)"
   ]
  },
  {
   "cell_type": "code",
   "execution_count": 26,
   "metadata": {},
   "outputs": [
    {
     "name": "stderr",
     "output_type": "stream",
     "text": [
      "7it [10:20, 88.63s/it] \n"
     ]
    }
   ],
   "source": [
    "# Set parameter (-lists) according to how you want to do the sensitivity analysis\n",
    "decomposer.var_all = ['Secondary Energy|Electricity|Solar']\n",
    "resampling = 100\n",
    "decomposer.resampling = 1\n",
    "list_samplesize = [3, 10, 30, 100, 300, 1000, 3000]\n",
    "mat = np.zeros(shape=(len(list_samplesize), resampling))\n",
    "\n",
    "for s_i, s in tqdm(enumerate(list_samplesize)):\n",
    "    decomposer.sample_size_per_ms = s\n",
    "    for r_i in range(resampling):\n",
    "        decomposer.sampling_and_decomposing(printy='off')\n",
    "        mat[s_i, r_i] = float(decomposer.XRvar.sel(Variable='Secondary Energy|Electricity|Solar', Time=2050).S_m+0.5*decomposer.XRvar.sel(Variable='Secondary Energy|Electricity|Solar', Time=2050).S_mc)\n",
    "\n",
    "# If preferred, save sensitivity output files:\n",
    "np.save(\"/Data/Sensitivity/Mat.npy\", mat)\n",
    "np.save(\"/Data/Sensitivity/L_samplesize.npy\", list_samplesize)"
   ]
  }
 ],
 "metadata": {
  "interpreter": {
   "hash": "36d5d389870ab01fa625d0d5123f82469a3683fa0e02c4f7e9e76e9a75345aa3"
  },
  "kernelspec": {
   "display_name": "Python 3.9.11 ('MyEnv')",
   "language": "python",
   "name": "python3"
  },
  "language_info": {
   "codemirror_mode": {
    "name": "ipython",
    "version": 3
   },
   "file_extension": ".py",
   "mimetype": "text/x-python",
   "name": "python",
   "nbconvert_exporter": "python",
   "pygments_lexer": "ipython3",
   "version": "3.9.16"
  },
  "orig_nbformat": 4
 },
 "nbformat": 4,
 "nbformat_minor": 2
}
