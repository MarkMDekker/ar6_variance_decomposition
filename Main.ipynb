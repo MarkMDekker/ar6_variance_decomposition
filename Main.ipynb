{
 "cells": [
  {
   "cell_type": "markdown",
   "metadata": {},
   "source": [
    "## Preambule"
   ]
  },
  {
   "cell_type": "code",
   "execution_count": 1,
   "metadata": {},
   "outputs": [],
   "source": [
    "import numpy as np\n",
    "import xarray as xr\n",
    "from importlib import reload\n",
    "import pandas as pd\n",
    "from tqdm import tqdm"
   ]
  },
  {
   "cell_type": "markdown",
   "metadata": {},
   "source": [
    "## Run class or read xarray file"
   ]
  },
  {
   "cell_type": "code",
   "execution_count": 9,
   "metadata": {},
   "outputs": [
    {
     "name": "stdout",
     "output_type": "stream",
     "text": [
      "# ==================================== #\n",
      "# Initializing variancedecomp class    #\n",
      "# ==================================== #\n",
      "- Reading variable list\n",
      "- Reading metadata\n",
      "- Reading AR6 data\n",
      "- Count variables in total database\n",
      "- Applying various filters and preprocessing to the database\n",
      "- Merge model versions and combine with scenario names\n",
      "- Generate aggregated variables\n"
     ]
    },
    {
     "name": "stderr",
     "output_type": "stream",
     "text": [
      "100%|██████████| 1200/1200 [00:09<00:00, 131.38it/s]\n",
      "100%|██████████| 1200/1200 [00:05<00:00, 213.75it/s]\n",
      "100%|██████████| 1200/1200 [00:08<00:00, 143.49it/s]\n",
      "100%|██████████| 1200/1200 [00:10<00:00, 111.31it/s]\n"
     ]
    },
    {
     "name": "stdout",
     "output_type": "stream",
     "text": [
      "- Add fractional variables\n",
      "- Convert time dimension and xarray\n",
      "- Temporal interpolation\n"
     ]
    },
    {
     "name": "stderr",
     "output_type": "stream",
     "text": [
      "x:\\user\\dekkerm\\environments\\MyEnv\\lib\\site-packages\\xarray\\core\\missing.py:264: FutureWarning: is_monotonic is deprecated and will be removed in a future version. Use is_monotonic_increasing instead.\n",
      "  if not index.is_monotonic:\n"
     ]
    },
    {
     "name": "stdout",
     "output_type": "stream",
     "text": [
      "- Count models and c-outcomes\n",
      "- Filter out scenarios with C8 and models with small entry numbers\n",
      "- Generate samples and apply decomposition\n"
     ]
    },
    {
     "name": "stderr",
     "output_type": "stream",
     "text": [
      "100%|██████████| 138/138 [13:47:24<00:00, 359.74s/it]  \n"
     ]
    },
    {
     "name": "stdout",
     "output_type": "stream",
     "text": [
      "- Save stuff\n"
     ]
    }
   ],
   "source": [
    "import ClassVarianceDecomp_v2\n",
    "reload(ClassVarianceDecomp_v2)\n",
    "from ClassVarianceDecomp_v2 import variancedecomp\n",
    "\n",
    "decomp = variancedecomp()\n",
    "decomp.read_variable_list()\n",
    "decomp.read_metadata()\n",
    "decomp.read_ar6()\n",
    "decomp.count_variables()\n",
    "decomp.filters_and_preprocessing()\n",
    "decomp.merge_model_versions_and_scenarios()\n",
    "decomp.generate_aggregated_variables()\n",
    "decomp.add_fractional_variables()\n",
    "decomp.conversion_to_xarray()\n",
    "decomp.temporal_interpolation()\n",
    "decomp.count_models_and_climate_outcomes()\n",
    "decomp.filters()\n",
    "#decomp.sampling_and_decomposing()\n",
    "#decomp.savings()"
   ]
  },
  {
   "cell_type": "markdown",
   "metadata": {},
   "source": [
    "## Sensitivity analysis"
   ]
  },
  {
   "cell_type": "code",
   "execution_count": 26,
   "metadata": {},
   "outputs": [
    {
     "name": "stderr",
     "output_type": "stream",
     "text": [
      "7it [10:20, 88.63s/it] \n"
     ]
    }
   ],
   "source": [
    "# SENSITIVITY ANALYSIS\n",
    "# Redefine parameters\n",
    "decomp.var_all = ['Secondary Energy|Electricity|Solar']\n",
    "resampling = 100\n",
    "decomp.resampling = 1\n",
    "list_samplesize = [3, 10, 30, 100, 300, 1000, 3000]#np.arange(5, 100, 5)\n",
    "mat = np.zeros(shape=(len(list_samplesize), resampling))\n",
    "\n",
    "for s_i, s in tqdm(enumerate(list_samplesize)):\n",
    "    decomp.sample_size_per_ms = s\n",
    "    for r_i in range(resampling):\n",
    "        decomp.sampling_and_decomposing(printy='off')\n",
    "        mat[s_i, r_i] = float(decomp.XRvar.sel(Variable='Secondary Energy|Electricity|Solar', Time=2050).S_m+0.5*decomp.XRvar.sel(Variable='Secondary Energy|Electricity|Solar', Time=2050).S_mc)"
   ]
  },
  {
   "cell_type": "markdown",
   "metadata": {},
   "source": [
    "Save files if preferred"
   ]
  },
  {
   "cell_type": "code",
   "execution_count": 27,
   "metadata": {},
   "outputs": [],
   "source": [
    "# np.save(\"/Data/Sensitivity/Mat.npy\", mat)\n",
    "# np.save(\"/Data/Sensitivity/L_samplesize.npy\", list_samplesize)"
   ]
  }
 ],
 "metadata": {
  "interpreter": {
   "hash": "36d5d389870ab01fa625d0d5123f82469a3683fa0e02c4f7e9e76e9a75345aa3"
  },
  "kernelspec": {
   "display_name": "Python 3.9.11 ('MyEnv')",
   "language": "python",
   "name": "python3"
  },
  "language_info": {
   "codemirror_mode": {
    "name": "ipython",
    "version": 3
   },
   "file_extension": ".py",
   "mimetype": "text/x-python",
   "name": "python",
   "nbconvert_exporter": "python",
   "pygments_lexer": "ipython3",
   "version": "3.9.16"
  },
  "orig_nbformat": 4
 },
 "nbformat": 4,
 "nbformat_minor": 2
}
