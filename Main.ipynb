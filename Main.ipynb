{
 "cells": [
  {
   "cell_type": "markdown",
   "metadata": {},
   "source": [
    "## Preambule"
   ]
  },
  {
   "cell_type": "code",
   "execution_count": 20,
   "metadata": {},
   "outputs": [],
   "source": [
    "import numpy as np\n",
    "import xarray as xr\n",
    "from importlib import reload\n",
    "import pandas as pd"
   ]
  },
  {
   "cell_type": "markdown",
   "metadata": {},
   "source": [
    "## Run class or read xarray file"
   ]
  },
  {
   "cell_type": "code",
   "execution_count": 21,
   "metadata": {},
   "outputs": [
    {
     "name": "stdout",
     "output_type": "stream",
     "text": [
      "# ==================================== #\n",
      "# Initializing variancedecomp class    #\n",
      "# ==================================== #\n",
      "- Reading variable lists\n",
      "- Reading metadata\n",
      "- Reading AR6 data\n",
      "     Saving counts of variables in total database (for reference later)\n",
      "     Now actual reading of data, and applying various filters to the database\n",
      "     Merge model versions\n",
      "     Add Primary Energy|Wind+Solar\n"
     ]
    },
    {
     "name": "stderr",
     "output_type": "stream",
     "text": [
      "x:\\user\\dekkerm\\Projects\\AR6_Variance\\variancedecomposition\\ClassVarianceDecomp.py:213: FutureWarning: The frame.append method is deprecated and will be removed from pandas in a future version. Use pandas.concat instead.\n",
      "  DS = DS.append(pd.DataFrame(d), ignore_index=True)\n",
      "x:\\user\\dekkerm\\Projects\\AR6_Variance\\variancedecomposition\\ClassVarianceDecomp.py:215: FutureWarning: The frame.append method is deprecated and will be removed from pandas in a future version. Use pandas.concat instead.\n",
      "  self.DF = self.DF.append(DS)\n"
     ]
    },
    {
     "name": "stdout",
     "output_type": "stream",
     "text": [
      "     Add Secondary Energy|Electricity|Wind+Solar\n"
     ]
    },
    {
     "name": "stderr",
     "output_type": "stream",
     "text": [
      "x:\\user\\dekkerm\\Projects\\AR6_Variance\\variancedecomposition\\ClassVarianceDecomp.py:240: FutureWarning: The frame.append method is deprecated and will be removed from pandas in a future version. Use pandas.concat instead.\n",
      "  DS = DS.append(pd.DataFrame(d), ignore_index=True)\n",
      "x:\\user\\dekkerm\\Projects\\AR6_Variance\\variancedecomposition\\ClassVarianceDecomp.py:242: FutureWarning: The frame.append method is deprecated and will be removed from pandas in a future version. Use pandas.concat instead.\n",
      "  self.DF = self.DF.append(DS)\n"
     ]
    },
    {
     "name": "stdout",
     "output_type": "stream",
     "text": [
      "     Convert time dimension and Xarray\n",
      "     Temporal interpolation\n",
      "     Save stuff\n",
      "- Applying sampled decomposition\n"
     ]
    },
    {
     "name": "stderr",
     "output_type": "stream",
     "text": [
      "100%|██████████| 54/54 [3:03:15<00:00, 203.62s/it]  "
     ]
    },
    {
     "name": "stdout",
     "output_type": "stream",
     "text": [
      "- Done!\n"
     ]
    },
    {
     "name": "stderr",
     "output_type": "stream",
     "text": [
      "\n"
     ]
    }
   ],
   "source": [
    "import ClassVarianceDecomp\n",
    "reload(ClassVarianceDecomp)\n",
    "from ClassVarianceDecomp import variancedecomp\n",
    "vardec = variancedecomp()"
   ]
  }
 ],
 "metadata": {
  "interpreter": {
   "hash": "36d5d389870ab01fa625d0d5123f82469a3683fa0e02c4f7e9e76e9a75345aa3"
  },
  "kernelspec": {
   "display_name": "Python 3.9.11 ('MyEnv')",
   "language": "python",
   "name": "python3"
  },
  "language_info": {
   "codemirror_mode": {
    "name": "ipython",
    "version": 3
   },
   "file_extension": ".py",
   "mimetype": "text/x-python",
   "name": "python",
   "nbconvert_exporter": "python",
   "pygments_lexer": "ipython3",
   "version": "3.9.11"
  },
  "orig_nbformat": 4
 },
 "nbformat": 4,
 "nbformat_minor": 2
}
