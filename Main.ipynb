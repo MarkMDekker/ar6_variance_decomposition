{
 "cells": [
  {
   "cell_type": "markdown",
   "metadata": {},
   "source": [
    "## Preambule"
   ]
  },
  {
   "cell_type": "code",
   "execution_count": 1,
   "metadata": {},
   "outputs": [],
   "source": [
    "import numpy as np\n",
    "import xarray as xr\n",
    "from importlib import reload"
   ]
  },
  {
   "cell_type": "markdown",
   "metadata": {},
   "source": [
    "## Run class or read xarray file"
   ]
  },
  {
   "cell_type": "code",
   "execution_count": 110,
   "metadata": {},
   "outputs": [
    {
     "name": "stdout",
     "output_type": "stream",
     "text": [
      "# ==================================== #\n",
      "# Initializing variancedecomp class    #\n",
      "# ==================================== #\n",
      "- Reading variable lists\n",
      "- Reading metadata\n",
      "- Reading AR6 data\n",
      "     Saving counts of variables in total database (for reference later)\n",
      "     Now actual reading of data, and applying various filters to the database\n",
      "     Merge model versions\n",
      "     Add Primary Energy|Wind+Solar\n"
     ]
    },
    {
     "name": "stderr",
     "output_type": "stream",
     "text": [
      "x:\\user\\dekkerm\\Projects\\AR6_Variance\\variancedecomposition\\ClassVarianceDecomp.py:204: FutureWarning:\n",
      "\n",
      "The frame.append method is deprecated and will be removed from pandas in a future version. Use pandas.concat instead.\n",
      "\n",
      "x:\\user\\dekkerm\\Projects\\AR6_Variance\\variancedecomposition\\ClassVarianceDecomp.py:206: FutureWarning:\n",
      "\n",
      "The frame.append method is deprecated and will be removed from pandas in a future version. Use pandas.concat instead.\n",
      "\n"
     ]
    },
    {
     "name": "stdout",
     "output_type": "stream",
     "text": [
      "     Convert time dimension and Xarray\n",
      "     Temporal interpolation\n",
      "- Applying sampled decomposition\n"
     ]
    },
    {
     "name": "stderr",
     "output_type": "stream",
     "text": [
      "100%|██████████| 53/53 [1:37:55<00:00, 110.85s/it]"
     ]
    },
    {
     "name": "stdout",
     "output_type": "stream",
     "text": [
      "- Done!\n"
     ]
    },
    {
     "name": "stderr",
     "output_type": "stream",
     "text": [
      "\n"
     ]
    }
   ],
   "source": [
    "import ClassVarianceDecomp\n",
    "reload(ClassVarianceDecomp)\n",
    "from ClassVarianceDecomp import variancedecomp\n",
    "vardec = variancedecomp()"
   ]
  },
  {
   "cell_type": "markdown",
   "metadata": {},
   "source": [
    "# Plot"
   ]
  },
  {
   "cell_type": "code",
   "execution_count": 2,
   "metadata": {},
   "outputs": [],
   "source": [
    "import Plotfunctions\n",
    "import pandas as pd\n",
    "import os\n",
    "reload(Plotfunctions)\n",
    "from Plotfunctions import rescale_size, triangleplot, tableplot"
   ]
  },
  {
   "cell_type": "code",
   "execution_count": 3,
   "metadata": {},
   "outputs": [],
   "source": [
    "try:\n",
    "    XR.close()\n",
    "except:\n",
    "    3\n",
    "XR = xr.open_dataset(\"X:/user/dekkerm/Projects/AR6_Variance/variancedecomposition/Data/Variances.nc\")\n",
    "DF = pd.read_csv(\"X:/user/dekkerm/Projects/AR6_Variance/Data/Models.csv\")\n",
    "Varlist = pd.read_excel(\"X:/user/dekkerm/Projects/AR6_Variance/variancedecomposition/Data/Varlist.xlsx\", sheet_name = \"Data\")\n",
    "vars = np.array(Varlist[\"Variable\"])\n",
    "cats = np.array(Varlist[\"Category\"])\n",
    "Names = np.unique(cats)"
   ]
  },
  {
   "cell_type": "code",
   "execution_count": 4,
   "metadata": {},
   "outputs": [],
   "source": [
    "figs = []\n",
    "lens = []\n",
    "for c in Names:\n",
    "    xrsub = XR.sel(Variable = vars[cats==c])\n",
    "    figs.append(triangleplot(xrsub))\n",
    "    lens.append(DF[c][0])"
   ]
  },
  {
   "cell_type": "code",
   "execution_count": 5,
   "metadata": {},
   "outputs": [],
   "source": [
    "try:\n",
    "    os.remove('Figures/VariancePlots.html')\n",
    "except:\n",
    "    3\n",
    "def html_w(typ):\n",
    "    return '<html> '+typ+' <p style=\"font-family: Arial\">'\n",
    "\n",
    "with open('Figures/VariancePlots.html', 'a') as f:\n",
    "    f.write(html_w('<h1>')+'First order Variance decomposition</p></h1>')\n",
    "    f.write(html_w('<body>')+'The left-bottom angle points towards the total variance minus the variance captured by the other two angles together (which is not necessarily equal to the sum). </p></body>')\n",
    "\n",
    "    for n_i in range(len(Names)):\n",
    "        if n_i > 0:\n",
    "            f.write('<hr>')\n",
    "        f.write(html_w('<h1>')+'Fig. '+str(n_i+1)+' - '+Names[n_i]+' ('+str(lens[n_i])+' entries)'+'</p></h1>')\n",
    "        f.write(figs[n_i].to_html(full_html=False, include_plotlyjs='cdn'))"
   ]
  },
  {
   "cell_type": "markdown",
   "metadata": {},
   "source": [
    "## Plot table"
   ]
  },
  {
   "cell_type": "code",
   "execution_count": 27,
   "metadata": {},
   "outputs": [],
   "source": [
    "import plotly.graph_objects as go\n",
    "from plotly.colors import n_colors\n",
    "import plotly.express as px"
   ]
  },
  {
   "cell_type": "code",
   "execution_count": 175,
   "metadata": {},
   "outputs": [],
   "source": [
    "figs2 = []\n",
    "for t in [2050, 2100]:\n",
    "    for srt in [2, 1]:\n",
    "        figs2.append(tableplot(XR, t, srt))"
   ]
  },
  {
   "cell_type": "code",
   "execution_count": 176,
   "metadata": {},
   "outputs": [],
   "source": [
    "try:\n",
    "    os.remove('Figures/Table.html')\n",
    "except:\n",
    "    3\n",
    "def html_w(typ):\n",
    "    return '<html> '+typ+' <p style=\"font-family: Arial\">'\n",
    "\n",
    "with open('Figures/Table.html', 'a') as f:\n",
    "    f.write(html_w('<h1>')+'First order Variance decomposition</p></h1>')\n",
    "    f.write(html_w('<body>')+'Using various years and sorting. These indices are normalized up to the total, which means they add up to 1 here. The non-normalized versions do not, as they represent first-order variance explanation only.</p></body>')\n",
    "    \n",
    "    f.write(html_w('<h1>')+'For 2050, sorted by climate'+'</p></h1>')\n",
    "    f.write(figs2[0].to_html(full_html=False, include_plotlyjs='cdn'))\n",
    "    f.write('<hr>')\n",
    "    f.write(html_w('<h1>')+'For 2050, sorted by model'+'</p></h1>')\n",
    "    f.write(figs2[1].to_html(full_html=False, include_plotlyjs='cdn'))\n",
    "    f.write('<hr>')\n",
    "    f.write(html_w('<h1>')+'For 2100, sorted by climate'+'</p></h1>')\n",
    "    f.write(figs2[2].to_html(full_html=False, include_plotlyjs='cdn'))\n",
    "    f.write('<hr>')\n",
    "    f.write(html_w('<h1>')+'For 2100, sorted by model'+'</p></h1>')\n",
    "    f.write(figs2[3].to_html(full_html=False, include_plotlyjs='cdn'))"
   ]
  }
 ],
 "metadata": {
  "interpreter": {
   "hash": "36d5d389870ab01fa625d0d5123f82469a3683fa0e02c4f7e9e76e9a75345aa3"
  },
  "kernelspec": {
   "display_name": "Python 3.9.11 ('MyEnv')",
   "language": "python",
   "name": "python3"
  },
  "language_info": {
   "codemirror_mode": {
    "name": "ipython",
    "version": 3
   },
   "file_extension": ".py",
   "mimetype": "text/x-python",
   "name": "python",
   "nbconvert_exporter": "python",
   "pygments_lexer": "ipython3",
   "version": "3.9.11"
  },
  "orig_nbformat": 4
 },
 "nbformat": 4,
 "nbformat_minor": 2
}
