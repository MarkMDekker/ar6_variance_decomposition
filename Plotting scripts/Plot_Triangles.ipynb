{
 "cells": [
  {
   "cell_type": "markdown",
   "metadata": {},
   "source": [
    "## Preambule"
   ]
  },
  {
   "cell_type": "code",
   "execution_count": 38,
   "metadata": {},
   "outputs": [],
   "source": [
    "import matplotlib.pyplot as plt\n",
    "import matplotlib as mpl\n",
    "import numpy as np\n",
    "import pandas as pd\n",
    "from tqdm import tqdm\n",
    "import os\n",
    "from pathlib import Path\n",
    "import plotly.graph_objects as go\n",
    "import xarray as xr"
   ]
  },
  {
   "cell_type": "code",
   "execution_count": 39,
   "metadata": {},
   "outputs": [],
   "source": [
    "path = Path.cwd()"
   ]
  },
  {
   "cell_type": "markdown",
   "metadata": {},
   "source": [
    "## Input"
   ]
  },
  {
   "cell_type": "markdown",
   "metadata": {},
   "source": [
    "Variable lists"
   ]
  },
  {
   "cell_type": "code",
   "execution_count": 40,
   "metadata": {},
   "outputs": [],
   "source": [
    "Varlist = pd.read_excel(path / \"Data/Varlist.xlsx\", sheet_name = \"Data\")\n",
    "vars = np.array(Varlist[\"Variable\"])\n",
    "cats = np.array(Varlist[\"Category\"])\n",
    "Names = np.unique(cats)\n",
    "Vlists = []\n",
    "for i in range(len(Names)):\n",
    "    Vlists.append(vars[cats == Names[i]])"
   ]
  },
  {
   "cell_type": "markdown",
   "metadata": {},
   "source": [
    "General info"
   ]
  },
  {
   "cell_type": "code",
   "execution_count": 41,
   "metadata": {},
   "outputs": [],
   "source": [
    "DF = pd.read_csv(path / \"Data/Models.csv\")\n",
    "DF_counts = pd.read_csv(path / \"Data/Counts.csv\", index_col=0)"
   ]
  },
  {
   "cell_type": "markdown",
   "metadata": {},
   "source": [
    "Actual variances"
   ]
  },
  {
   "cell_type": "code",
   "execution_count": 42,
   "metadata": {},
   "outputs": [],
   "source": [
    "XRraw = xr.open_dataset(path / \"Data/XRdata.nc\")\n",
    "XRmeta = xr.open_dataset(path / \"Data/XRmeta.nc\")\n",
    "XRvar = xr.open_dataset(path / \"Data/Variances.nc\")"
   ]
  },
  {
   "cell_type": "markdown",
   "metadata": {},
   "source": [
    "## Plot"
   ]
  },
  {
   "cell_type": "code",
   "execution_count": 46,
   "metadata": {},
   "outputs": [],
   "source": [
    "def rescale_size(s, max):\n",
    "    s /= max\n",
    "    s = s ** 0.3\n",
    "    s *= 25\n",
    "    return s\n",
    "\n",
    "def get_count(var):\n",
    "    if var == 'Primary Energy|Wind+Solar':\n",
    "        count = str(list(DF_counts[DF_counts.Variable==\"Primary Energy|Solar\"].Count)[0])\n",
    "    elif var == 'Secondary Energy|Electricity|Wind+Solar':\n",
    "        count = str(list(DF_counts[DF_counts.Variable==\"Secondary Energy|Electricity|Solar\"].Count)[0])\n",
    "    else:\n",
    "        count = str(list(DF_counts[DF_counts.Variable==var].Count)[0])\n",
    "    return count\n",
    "\n",
    "def triangleplot(XR):\n",
    "    XR = XR.sel(Time = np.arange(2030, 2101))\n",
    "    vlist = XR.Variable.data\n",
    "    years = XR.Time.data\n",
    "    varmax = np.max(XR['Var_total']).data\n",
    "    cols = ['forestgreen', 'tomato', 'steelblue', 'goldenrod', 'purple', 'grey', 'brown',\n",
    "            'magenta', 'red', 'darkgrey', 'blue', 'black', 'darkgreen']\n",
    "    years_str = np.copy(years).astype(str)\n",
    "    years_str[(years_str != '2050') & (years_str != '2100')] = ''\n",
    "    fig = go.Figure()\n",
    "\n",
    "    for i in range(10):\n",
    "        a = [0+i*0.1, 0+i*0.1]\n",
    "        b = [0, 1-a[0]]\n",
    "        c = [1-a[0], 0]\n",
    "        rgb = mpl.colors.colorConverter.to_rgb(plt.cm.get_cmap('Greys')(0.+i/15))\n",
    "        col = 'rgb('+str(rgb[0])+','+str(rgb[1])+','+str(rgb[2])+')'\n",
    "        fig.add_trace(go.Scatterternary(a=a, b=b, c=c, showlegend=False, mode='lines', hoverinfo='skip', line={'width': 0.25+i*0.1, 'color': col}))\n",
    "        fig.add_trace(go.Scatterternary(a=b, b=a, c=c, showlegend=False, mode='lines', hoverinfo='skip', line={'width': 0.25+i*0.1, 'color': col}))\n",
    "        fig.add_trace(go.Scatterternary(a=b, b=c, c=a, showlegend=False, mode='lines', hoverinfo='skip', line={'width': 0.25+i*0.1, 'color': col}))\n",
    "\n",
    "    for v in range(len(vlist)):\n",
    "        ds = XR.sel(Variable=vlist[v])\n",
    "        a, b, c, s = np.array(ds[['S_c', 'S_m', 'S_z', 'Var_total']].to_array())\n",
    "        s = rescale_size(s, varmax)\n",
    "        fig.add_trace(go.Scatterternary(a=a, b=b, c=c,\n",
    "                                        mode='markers+text+lines',\n",
    "                                        name=vlist[v]+' ('+get_count(vlist[v])+')',\n",
    "                                        showlegend=True,\n",
    "                                        text=years,\n",
    "                                        hovertemplate='%{text}<br>Var (climate): %{a}<br>Var (model): %{b} <br>Var (other): %{c}',\n",
    "                                        marker={'size': s, 'color': cols[v], 'opacity': 1, 'line' :dict(width=0.5, color='black')}, line={'width': 1.5},\n",
    "                                        textfont=dict(size=1, color=cols[v])))\n",
    "    for v in range(len(vlist)):\n",
    "        ds = XR.isel(Variable=v, Time=-1)\n",
    "        a, b, c, s = np.array(ds[['S_c', 'S_m', 'S_z', 'Var_total']].to_array())\n",
    "        s = rescale_size(s, varmax)\n",
    "        fig.add_trace(go.Scatterternary(a=[a], b=[b], c=[c],\n",
    "                                        mode='markers',\n",
    "                                        name=vlist[v]+' ('+get_count(vlist[v])+')',\n",
    "                                        showlegend=False,\n",
    "                                        text=[years[-1]],\n",
    "                                        hovertemplate='%{text}<br>Var (climate): %{a}<br>Var (model): %{b} <br>Var (other): %{c}',\n",
    "                                        marker={'size': s, 'symbol': 'star', 'color': cols[v], 'opacity': 1, 'line' :dict(width=s/10, color='black')}, line={'width': 1.5},\n",
    "                                        textfont=dict(size=1, color=cols[v])))\n",
    "    fig.update_layout(height=900, width=1400, ternary={'sum':1,\n",
    "                                                    'aaxis': {'title': 'Climate target'},\n",
    "                                                    'baxis': {'title': 'Model'},\n",
    "                                                    'caxis': {'title': 'Other'}},\n",
    "                    font=dict(size=18))\n",
    "\n",
    "    fig.update_layout({\n",
    "    'ternary':\n",
    "        {'sum':1,\n",
    "        'aaxis':{'title': 'Climate target<br>', 'min': 0, \n",
    "                'linewidth':0, 'ticks':'outside',\n",
    "                'tickmode':'array','tickvals':[0.5, 0.6, 0.7, 0.8, 0.9, 1.0], 'ticktext':['50%', '60%', '70%', '80%', '90%', '100%'], 'tickfont':{'size':12}},\n",
    "        'baxis':{'title': 'Model &nbsp; &nbsp;', 'min': 0, \n",
    "                'linewidth':2, 'ticks':'outside',\n",
    "                'tickmode':'array','tickvals':[0.5, 0.6, 0.7, 0.8, 0.9, 1.0], 'ticktext':['50%', '60%', '70%', '80%', '90%', '100%'],'tickangle':60, 'tickfont':{'size':12}},\n",
    "        'caxis':{'title': 'Other scenario<br>assumptions', 'min': 0, \n",
    "                'linewidth':2, 'ticks':'outside',\n",
    "                'tickmode':'array','tickvals':[0.5, 0.6, 0.7, 0.8, 0.9, 1.0], 'ticktext':['50%', '60%', '70%', '80%', '90%', '100%'],'tickangle':-60, 'tickfont':{'size':12}}}})\n",
    "    return fig"
   ]
  },
  {
   "cell_type": "code",
   "execution_count": 47,
   "metadata": {},
   "outputs": [],
   "source": [
    "figs = []\n",
    "for n_i in range(len(Names)):\n",
    "    figs.append(triangleplot(XRvar.sel(Variable = vars[cats == Names[n_i]])))"
   ]
  },
  {
   "cell_type": "markdown",
   "metadata": {},
   "source": [
    "## Write to HTML"
   ]
  },
  {
   "cell_type": "markdown",
   "metadata": {},
   "source": [
    "Normal plots"
   ]
  },
  {
   "cell_type": "code",
   "execution_count": 48,
   "metadata": {},
   "outputs": [],
   "source": [
    "try:\n",
    "    os.remove(path / 'Figures/VariancePlots.html')\n",
    "except:\n",
    "    3\n",
    "def html_w(typ):\n",
    "    return '<html> '+typ+' <p style=\"font-family: Arial\">'\n",
    "\n",
    "with open(path / 'Figures/VariancePlots.html', 'a') as f:\n",
    "    f.write(html_w('<h1>')+'First order Variance decomposition</p></h1>')\n",
    "    f.write(html_w('<body>')+'The left-bottom angle points towards the total variance minus the variance captured by the other two angles together (which is not necessarily equal to the sum). </p></body>')\n",
    "\n",
    "    for n_i in range(len(Names)):\n",
    "        if n_i > 0:\n",
    "            f.write('<hr>')\n",
    "        f.write(html_w('<h1>')+'Fig. '+str(n_i+1)+' - '+Names[n_i]+'</p></h1>')\n",
    "        f.write(figs[n_i].to_html(full_html=False, include_plotlyjs='cdn'))"
   ]
  }
 ],
 "metadata": {
  "kernelspec": {
   "display_name": "Python 3.9.11 ('MyEnv')",
   "language": "python",
   "name": "python3"
  },
  "language_info": {
   "codemirror_mode": {
    "name": "ipython",
    "version": 3
   },
   "file_extension": ".py",
   "mimetype": "text/x-python",
   "name": "python",
   "nbconvert_exporter": "python",
   "pygments_lexer": "ipython3",
   "version": "3.9.11"
  },
  "orig_nbformat": 4,
  "vscode": {
   "interpreter": {
    "hash": "36d5d389870ab01fa625d0d5123f82469a3683fa0e02c4f7e9e76e9a75345aa3"
   }
  }
 },
 "nbformat": 4,
 "nbformat_minor": 2
}
